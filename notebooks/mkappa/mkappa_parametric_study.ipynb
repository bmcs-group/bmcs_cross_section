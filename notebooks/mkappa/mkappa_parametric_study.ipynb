{
 "cells": [
  {
   "cell_type": "markdown",
   "metadata": {},
   "source": [
    "# Deflection Profile Parametric Study\n",
    "This file presents a parametric study based on the Deflection-Profile implementation provided in the file \"deflection_profile.py\" of the bmcs_beam package."
   ]
  },
  {
   "cell_type": "code",
   "execution_count": 1,
   "metadata": {},
   "outputs": [],
   "source": [
    "%matplotlib widget"
   ]
  },
  {
   "cell_type": "code",
   "execution_count": 2,
   "metadata": {},
   "outputs": [],
   "source": [
    "from bmcs_cross_section.mkappa import MKappa\n",
    "from bmcs_cross_section.cs_design.cs_layout import Reinforcement\n",
    "from bmcs_beam.beam_config.boundary_conditions import BoundaryConditions, BoundaryConfig\n",
    "from bmcs_beam.bending.deflection_profile import DeflectionProfile\n",
    "from bmcs_beam.beam_config.beam_design import BeamDesign\n",
    "from bmcs_cross_section.cs_design.cs_shape import TShape\n",
    "from os.path import join\n",
    "import numpy as np\n",
    "import pandas as pd\n",
    "import sympy as sp\n",
    "import matplotlib.pyplot as plt\n",
    "import bmcs_utils.api as bu"
   ]
  },
  {
   "cell_type": "code",
   "execution_count": 3,
   "metadata": {},
   "outputs": [],
   "source": [
    "def plot_mk_ver(ax1, mc, ver_data):\n",
    "    mc.plot_mk(ax1)\n",
    "    k = ver_data[0]\n",
    "    m = ver_data[1]\n",
    "    ax1.plot(k, m, c= 'red', label= 'Experiment')\n",
    "    ax1.legend()\n",
    "#     plt.show()"
   ]
  },
  {
   "cell_type": "code",
   "execution_count": 4,
   "metadata": {},
   "outputs": [],
   "source": [
    "def map_and_assign_params_for_rectangular_section(\n",
    "        mc, # MKappa instance for which the params should be applied\n",
    "        b, h, E, E_s, f_sy, eps_cr, rho, beta_tu, v_f, omega, psi, mu, alpha, lambda_cu):\n",
    "    \"\"\"This function map the params of the rectangular section from the type of the paper\n",
    "    to the type of the model and assigns the values\"\"\"\n",
    "    mc.cross_section_shape.B=b\n",
    "    mc.cross_section_shape.H=h\n",
    "    mc.E_cc=E\n",
    "    mc.E_ct=E \n",
    "    mc.mu=mu\n",
    "    mc.eps_cr=eps_cr\n",
    "    mc.eps_cy=omega * eps_cr\n",
    "    mc.eps_cu=lambda_cu * eps_cr\n",
    "    mc.eps_tu=beta_tu * eps_cr\n",
    "    mc.cross_section_layout.reinforcement = [Reinforcement(\n",
    "        eps_sy=f_sy / E_s, # or eps_sy_j=psi * eps_cr,\n",
    "        E=E_s,\n",
    "        z=h * (1 - alpha),\n",
    "        A=rho * b * h]\n",
    "    "
   ]
  },
  {
   "cell_type": "markdown",
   "metadata": {},
   "source": [
    "#### 1. Verification with Yang et al. (2010), http://dx.doi.org/10.1016/j.engstruct.2010.07.017, Steel reinforcement\n",
    "![yang_2010.jpg](attachment:yang_2010.jpg)"
   ]
  },
  {
   "cell_type": "code",
   "execution_count": 39,
   "metadata": {
    "scrolled": true
   },
   "outputs": [
    {
     "name": "stderr",
     "output_type": "stream",
     "text": [
      "'[yang_2010.jpg]' is not recognized as an internal or external command,\n",
      "operable program or batch file.\n"
     ]
    },
    {
     "data": {
      "application/vnd.jupyter.widget-view+json": {
       "model_id": "34c3f688e7ed49c9bbfce54cb67d3bc0",
       "version_major": 2,
       "version_minor": 0
      },
      "text/plain": [
       "Canvas(toolbar=Toolbar(toolitems=[('Home', 'Reset original view', 'home', 'home'), ('Back', 'Back to previous …"
      ]
     },
     "metadata": {},
     "output_type": "display_data"
    }
   ],
   "source": [
    "# Curvature values in the Jao_Mobasher_2020 are 10*the source of the experiment (Yang_2010) \n",
    "excel_file = join('./verification_data/yang2010', 'fig_18', 'yang2010.xlsx')\n",
    "data = pd.read_excel(excel_file, engine='openpyxl')\n",
    "k= data['beam_R12_2_Curvature']\n",
    "m= data['beam_R12_2_Moment']\n",
    "ver_data = [k, m]\n",
    "\n",
    "\n",
    "# R12-1,2 (rho = 0.#### 1. Verification with Yang et al. (2010), http://dx.doi.org/10.1016/j.engstruct.2010.07.017, Steel reinforcement\n",
    "![yang_2010.jpg](attachment:yang_2010.jpg)6%)\n",
    "mc = MKappa(n_m=100, n_kappa = 100)\n",
    "mc.kappa_slider = 0.00001\n",
    "mc.low_kappa = 0\n",
    "mc.high_kappa = 0.00006\n",
    "map_and_assign_params_for_rectangular_section(mc,\n",
    "    beta_tu = 55, # Not sure where this is from, all other values match Mobasher\n",
    "        b = 180, # 180 is the original, Saeed used b = 190\n",
    "        h = 270,\n",
    "        E = 46418, # according to Yang paper, according to Mobasher 46700\n",
    "        E_s = 200000,\n",
    "        f_sy = 600,\n",
    "        eps_cr = 0.000384,\n",
    "        rho = 0.0052, # exact according to Yang paper 253.4/(180*270), according to Mobasher 0.006\n",
    "        v_f = 0.02,\n",
    "        omega = 10.7,\n",
    "        psi = 7.8,\n",
    "        mu = 0.60,\n",
    "        alpha = 0.87,\n",
    "        lambda_cu = 11.7)\n",
    "fig, (ax1) = plt.subplots(1, 1, figsize=(10, 5))\n",
    "plot_mk_ver(ax1, mc, ver_data)"
   ]
  },
  {
   "cell_type": "code",
   "execution_count": 34,
   "metadata": {},
   "outputs": [
    {
     "data": {
      "application/vnd.jupyter.widget-view+json": {
       "model_id": "24c6092f53544c3bbb975ee17c305044",
       "version_major": 2,
       "version_minor": 0
      },
      "text/plain": [
       "VBox(children=(Output(), Tab(children=(VBox(children=(GridBox(children=(FloatText(value=0.0, description='\\\\(\\…"
      ]
     },
     "metadata": {},
     "output_type": "display_data"
    },
    {
     "name": "stdout",
     "output_type": "stream",
     "text": [
      "No solution The iteration is not making good progress, as measured by the \n",
      "  improvement from the last ten iterations.\n",
      "No solution The iteration is not making good progress, as measured by the \n",
      "  improvement from the last ten iterations.\n",
      "No solution The iteration is not making good progress, as measured by the \n",
      "  improvement from the last ten iterations.\n",
      "No solution The iteration is not making good progress, as measured by the \n",
      "  improvement from the last ten iterations.\n"
     ]
    }
   ],
   "source": [
    "# mc.interact()\n",
    "bu.InteractiveWindow([mc, mc.matrix]).interact()"
   ]
  },
  {
   "cell_type": "code",
   "execution_count": 7,
   "metadata": {},
   "outputs": [],
   "source": [
    "def get_parametric_study(parameter_ranges):\n",
    "    \n",
    "    np.set_printoptions(precision=3)\n",
    "    if np.ceil(len(parameter_ranges)/3).astype('int') == 1:\n",
    "        nrows = np.ceil(len(parameter_ranges)/3).astype('int') + 1\n",
    "    else:\n",
    "        nrows = np.ceil(len(parameter_ranges)/3).astype('int')\n",
    "    ncols= 3\n",
    "\n",
    "    fig, axes = plt.subplots(nrows=nrows, ncols=ncols, figsize=(7 * ncols, 5 * nrows))\n",
    "    col = 0\n",
    "    row = 0\n",
    "\n",
    "       \n",
    "    for param_name, param_range in parameter_ranges.items():\n",
    "\n",
    "        mc = MKappa(n_m=100, n_kappa = 100)\n",
    "        mc.low_kappa = 0\n",
    "        mc.high_kappa = 0.00005\n",
    "        map_and_assign_params_for_rectangular_section(mc,\n",
    "            beta_tu = 21, # Not sure where this is from, all other values match Mobasher\n",
    "                b = 180, # 180 is the original, Saeed used b = 190\n",
    "                h = 270,\n",
    "                E = 46418, # according to Yang paper, according to Mobasher 46700\n",
    "                E_s = 200000,\n",
    "                f_sy = 600,\n",
    "                eps_cr = 0.000384,\n",
    "                rho = 0.0052, # exact according to Yang paper 253.4/(180*270), according to Mobasher 0.006\n",
    "                v_f = 0.02,\n",
    "                omega = 10.7,\n",
    "                psi = 7.8,\n",
    "                mu = 0.55,\n",
    "                alpha = 0.87,\n",
    "                lambda_cu = 11.7)\n",
    "        \n",
    "        if param_name == 'B':\n",
    "            for value in np.linspace(*param_range):\n",
    "                setattr(mc.cross_section_shape, param_name, value)\n",
    "                plot_mk_ver(axes[row, col], mc, ver_data)\n",
    "        else:\n",
    "            for value in np.linspace(*param_range):\n",
    "                setattr(mc, param_name, value)\n",
    "                plot_mk_ver(axes[row, col], mc, ver_data)\n",
    "                \n",
    "        if col < ncols - 1  :\n",
    "            col +=1\n",
    "        else:\n",
    "            row += 1\n",
    "            col = 0\n"
   ]
  },
  {
   "cell_type": "code",
   "execution_count": 8,
   "metadata": {
    "scrolled": false
   },
   "outputs": [],
   "source": [
    "# This dictionary provides the range and number of parameters\n",
    "n = 3\n",
    "parameter_ranges = {\n",
    "        'B' : (150,180,n),\n",
    "        'H': (250,290,n),\n",
    "        'E_ct': (46418,60000,n),\n",
    "        'E_cc': (46418,60000,n),\n",
    "        'eps_cr': (0.000200,0.000384,n),\n",
    "        'eps_cy': (-0.0041,-0.008,n),\n",
    "        'eps_cu': (-0.0045,-0.008,n,int),\n",
    "        'eps_tu': (0.008,0.01,3),\n",
    "        'mu': (0.2,0.8,n),\n",
    "        'z_j': ([0.],[35.],n),\n",
    "        'A_j': ([253.4],[500.4],n),\n",
    "        'E_j': ([200000.],[280000.], n),\n",
    "        'eps_sy_j' : ([0.003], [0.009], n),\n",
    "#         'n_m' : (2, 1000, 10)\n",
    "    }\n",
    "\n",
    "# ps = get_parametric_study(parameter_ranges)\n",
    "# ps"
   ]
  },
  {
   "cell_type": "code",
   "execution_count": null,
   "metadata": {},
   "outputs": [],
   "source": []
  },
  {
   "cell_type": "code",
   "execution_count": null,
   "metadata": {},
   "outputs": [],
   "source": []
  }
 ],
 "metadata": {
  "kernelspec": {
   "display_name": "Python 3",
   "language": "python",
   "name": "python3"
  },
  "language_info": {
   "codemirror_mode": {
    "name": "ipython",
    "version": 3
   },
   "file_extension": ".py",
   "mimetype": "text/x-python",
   "name": "python",
   "nbconvert_exporter": "python",
   "pygments_lexer": "ipython3",
   "version": "3.9.1"
  }
 },
 "nbformat": 4,
 "nbformat_minor": 1
}
