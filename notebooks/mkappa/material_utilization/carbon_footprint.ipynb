{
 "cells": [
  {
   "cell_type": "markdown",
   "metadata": {},
   "source": [
    "# Analytical model of carbon footprint for reinforced beams"
   ]
  },
  {
   "cell_type": "markdown",
   "metadata": {},
   "source": [
    "In this notebook, we introduce the environmental impact of a design as a function of the required performance. The required performance, in turn depends on the parameters of the design solution. In structural design, this relation is delivered by the limit state equuation representing the safety, i.e. the ultimate state or the serviceability limit state."
   ]
  },
  {
   "cell_type": "markdown",
   "metadata": {},
   "source": [
    "For simplicity, let us consider a brittle system of two components linked in series. This means that the failure of either component means an ultimate failure. Such structure describes the failure mechanism behind the flexural failur of carbon-reinforced concrete simply supported beam. "
   ]
  },
  {
   "cell_type": "markdown",
   "metadata": {},
   "source": [
    "In this system, full utilization of both components is provided if they fail sumultaneously. Based on this condition, we can require that for concrete\n",
    "$$\n",
    "  f_\\mathrm{R,c} = \\sigma_\\mathrm{E,c}(q_\\mathrm{E}, g_\\mathrm{E}(\\mathcal{C}, \\mathcal{S}); \\mathcal{C}, \\mathcal{S})\n",
    "$$\n",
    "and, at the same time for the reinforcement\n",
    "$$\n",
    "  f_\\mathrm{R,r} = \\sigma_\\mathrm{E,r}(q_{\\mathrm{E}}, g_\\mathrm{E}(\\mathcal{C}, \\mathcal{S}); \\mathcal{C}, \\mathcal{S})\n",
    "$$\n",
    "where $f_\\mathrm{R,c}$ and $f_\\mathrm{R,r}$ represent the strength of concrete and reinforcement, respectively. The corresponding stresses are denoted as $\\sigma_\\mathrm{R,c}$ \n",
    "and $\\sigma_\\mathrm{R,r}$. The required performence is represented by the prescribed service load $q_\\mathrm{E}$, and the design configuration is represened by the cross-sectional parameters $\\mathcal{C}$ and the structural parameters $\\mathcal{S}$. An example of cross sectional parameters included in $\\mathcal{C}$ is the width and depth of a rectangular beam or the flange and web dimensions of a T-beam. The structural parameters included in the vector $\\mathcal{S}$ is for example given by the length of a simply supported beam. Note that the above stress functions also implicitly consider the self-weight of the structure depending on the dimensions and material density. "
   ]
  },
  {
   "cell_type": "markdown",
   "metadata": {},
   "source": [
    "Let us summarize these condition in a set of utilization constraints\n",
    "$$\n",
    "\\mathcal{U}_i := \\sigma^{\\mathrm{E}}_i (q_\\mathrm{E}; \\mathcal{C}, \\mathcal{S}) - f^\\mathrm{R}_i = 0, \\;\\; i \\in 1\\ldots N_\\mathcal{U}\n",
    "$$"
   ]
  },
  {
   "cell_type": "markdown",
   "metadata": {},
   "source": [
    "or in terms of the utilization ratios, we require\n",
    "$$\n",
    "\\eta_i = \\frac{\\sigma^{\\mathrm{E}}_i (q_\\mathrm{E}; \\mathcal{C}, \\mathcal{S})}{f^\\mathrm{R}_i} = 1, \\;\\; i \\in 1\\ldots N_\\mathcal{U}\n",
    "$$"
   ]
  },
  {
   "cell_type": "markdown",
   "metadata": {},
   "source": [
    "## Parameterization of the free design space"
   ]
  },
  {
   "cell_type": "markdown",
   "metadata": {},
   "source": [
    "The free parameters of the design can include cross-sectional parameters, e.g. width, depth, flange, web parameters, or a disnstance of ribs or even their spatial layout.\n",
    "In case of a reinfrced rectangular beam, let us consider the tree parameters\n",
    "$$\n",
    " \\mathcal{C} = [b, d, \\rho]\n",
    "$$ "
   ]
  },
  {
   "cell_type": "markdown",
   "metadata": {},
   "source": [
    "The conditions of full utilization can be applied to reduce the dimension of the design space. The choice of constrained variables and of the primary design variables is arbitrary. Given $N_\\mathcal{C}$ number of design variables and $N_\\mathcal{U}$ number of utilization constraints, where $N_\\mathcal{C} > N_\\mathcal{U}$   \n",
    "$$\n",
    "  \\mathcal{C}^\\mathcal{U}_i \\subset \\mathcal{C}, \\;\\; i \\in 1 \\ldots N_\\mathcal{U}\n",
    "$$  \n",
    "Then, the free design parameters can be expressed as\n",
    "$$\n",
    " \\mathcal{C}^\\mathrm{d} = \\mathcal{C} \\setminus \\mathcal{C}^\\mathrm{U}\n",
    "$$\n"
   ]
  },
  {
   "cell_type": "markdown",
   "metadata": {},
   "source": [
    "The variables constrained by utilization requirement $\\mathcal{C}^\\mathcal{U}$ can then be resolved to obtain explicit values\n",
    "$$\n",
    " \\mathcal{C}^\\mathcal{U}_i = \\mathcal{U}_i(q_\\mathrm{E}, f^\\mathrm{R}_i, \\mathcal{C}^\\mathrm{d}, \\mathcal{S}), \\;\\; \n",
    " i = 1 \\ldots N_\\mathcal{U}\n",
    "$$"
   ]
  },
  {
   "cell_type": "markdown",
   "metadata": {},
   "source": [
    "The structural dimensions and the boundary conditions $\\mathcal{S}$ are prescribed, as they are also part of the function unit. For example, they influence the usage parameters of the room below the beam. Thus, the above equation delivers fully utilized designs for specified primary design variables $\\mathcal{C}^\\mathrm{d}$."
   ]
  },
  {
   "cell_type": "markdown",
   "metadata": {},
   "source": [
    "## Constrained reinforcement ratio\n",
    "\n",
    "To deliver a closed form solution, let us express the reinforcement ratio with the help of the utilization of constraint for the reinforcement, i.e.\n",
    "$$\n",
    "\\rho = \\mathcal{R}( f_\\mathrm{R,r}, q_{\\mathrm{E}}, g_\\mathrm{E}(b, d, \\mathcal{S}); b, d, \\mathcal{S})\n",
    "$$"
   ]
  },
  {
   "cell_type": "markdown",
   "metadata": {},
   "source": [
    "**Remark:** Note that the self-weight $g_\\mathrm{E}(b, d, \\rho)$ also depends on the reinforcement ratio. In a general framework the constrained reinforcement ratio might be more difficult to resolve than in the present case. In order to construct a closed-form link, let us proceed with the weight of the reinforcement neglected."
   ]
  },
  {
   "cell_type": "markdown",
   "metadata": {},
   "source": [
    "**Remark:** Note that for rectangular cross sections and for $\\mathcal{S} = {}$, the reinforcement ratio only depends on the aspect ratio of the cross-sectional dimensions $b, d$. This result has been derived analytically in a previous paper~\\cite{spartali_2023}."
   ]
  },
  {
   "cell_type": "markdown",
   "metadata": {},
   "source": [
    "Then the utilization of the concrete matrix can be used to derive an explicit relation for the width of the beam, given its depth as\n",
    "$$\n",
    "  b = \\mathcal{B}( f_\\mathrm{R,c}, q_\\mathrm{E}, g_\\mathrm{E}(d, \\mathcal{S}); d, \\mathcal{S})\n",
    "$$"
   ]
  },
  {
   "cell_type": "markdown",
   "metadata": {},
   "source": [
    "**Remark:** This is essencially the logic applied in the cited paper applied at the level of a critical cross-section. Here, we include the self-weight and also the structural dimension and the boundary conditions. In such a case, an implicit set of functions defining the constraints will be obtained that will be solved numerically. Still, in order to present the concept of reducing the design space by employing the utilization constraints let us continue with this simple example and include the global warming potential into the mathematical formulation."
   ]
  },
  {
   "cell_type": "markdown",
   "metadata": {},
   "source": [
    "# Environmental impact"
   ]
  },
  {
   "cell_type": "markdown",
   "metadata": {},
   "source": [
    "## Global warming potential function "
   ]
  },
  {
   "cell_type": "markdown",
   "metadata": {},
   "source": [
    "With the utilized design constraint we can refine the quantification of the environmental impact by inserting the above condition into the volume calculation "
   ]
  },
  {
   "cell_type": "markdown",
   "metadata": {},
   "source": [
    "The design parameters $\\mathcal{C} = \\mathcal{C}^\\mathcal{U} + \\mathcal{C}^\\mathrm{d}$ and $\\mathcal{S}$ are directly linked to material consumption by evaluating the volume of each material component as\n",
    "$$\n",
    " V_\\mathrm{i} = \\mathcal{V}_i(\\mathcal{S}, \\mathcal{C}^\\mathcal{U}(q_\\mathrm{E}, f^\\mathrm{R}_i, \\mathcal{C}^\\mathrm{d}, \\mathcal{S}), \\mathcal{C}^\\mathrm{d}).\n",
    "$$  \n",
    "The total equivalent carbon footprint is then obtained as\n",
    "$$\n",
    " \\epsilon = \\sum_i e_i(f^\\mathrm{R}_i) g_i = \\sum_i e_i(f^\\mathrm{R}_i) \\rho_i V_i,\n",
    "$$\n",
    "where $e_i$, $g_i$, and $\\rho_i$ denote the carbon footprint per unit mass, weight, and material density, respectively."
   ]
  },
  {
   "cell_type": "markdown",
   "metadata": {},
   "source": [
    "In abbreviated form, we obtained an equation for GWP in a form\n",
    "$$\n",
    " e = \\mathcal{E}( q_\\mathrm{E}, f^\\mathrm{R}_i, \\mathcal{C}^\\mathrm{d}, \\mathcal{S})\n",
    "$$"
   ]
  },
  {
   "cell_type": "markdown",
   "metadata": {},
   "source": [
    "## GWP of fully utilized design "
   ]
  },
  {
   "cell_type": "markdown",
   "metadata": {},
   "source": [
    "Using the above values of a resolved systems with the reinforcement ratio $\\rho$ and the beam width $b$ defined as functions of the beam depth, we can express the global warming potential directly as\n",
    "$$\n",
    " e = \\mathcal{E}( q_\\mathrm{E}, f^\\mathrm{R}_i, d, \\mathcal{S})\n",
    "$$ "
   ]
  },
  {
   "cell_type": "markdown",
   "metadata": {},
   "source": [
    "Let us remind that this representation neglects the self weight. Still, it introduces a link between a function and the environmental impact. Therefore, we can introduce the minimization problem \n",
    "$$\n",
    " \\min_{d} \\mathcal{E}( q_\\mathrm{E}, f^\\mathrm{R}_i, d, \\mathcal{S}) \\rightarrow d\n",
    "$$\n",
    "This equation can be solved analytically to obtain\n",
    "$$\n",
    " d = \\mathcal{D}( q_\\mathrm{E}, f^\\mathrm{R}_i, \\mathcal{S} )\n",
    "$$"
   ]
  },
  {
   "cell_type": "markdown",
   "metadata": {},
   "source": [
    "**Conclusion:** We can derive an eplicit equation for the free design parameters of a rectangular cross-section represented by $\\mathcal{C} = [b, d, \\rho]$ which directly renders the design with minimum GWP potential. "
   ]
  },
  {
   "cell_type": "markdown",
   "metadata": {},
   "source": [
    "In this way, we obtain the GWP function within the design space.\n",
    "\n",
    " - Is the full utilization implicitly a sustainability criterion?\n",
    " - What is the environmental penalty for not utilizing the material?"
   ]
  },
  {
   "cell_type": "code",
   "execution_count": null,
   "metadata": {},
   "outputs": [],
   "source": [
    "%matplotlib widget\n",
    "import matplotlib.pylab as plt\n",
    "import numpy as np\n",
    "import sympy as sp\n",
    "sp.init_printing()"
   ]
  },
  {
   "cell_type": "code",
   "execution_count": null,
   "metadata": {},
   "outputs": [],
   "source": [
    "e_r, rho_r, f_r = sp.symbols(\n",
    "#    r'e_{\\mathrm{r}}, \\rho_\\mathrm{r}'\n",
    "    r'e_r, rho_r, f_r', # specific equivalent CO2 footprint of reinforcement, material density\n",
    ")\n",
    "f_r = sp.symbols(r'f_r') # reinforcement strength\n",
    "e_c, rho_c, a  = sp.symbols(\n",
    "    r'e_c, rho_c, a', # specific equivalent CO2 footprint, material density, service life\n",
    ")\n",
    "eta = sp.symbols(r'eta')\n",
    "A_c = sp.symbols(r'A_c')\n",
    "A_r = sp.symbols(r'A_r')"
   ]
  },
  {
   "cell_type": "markdown",
   "metadata": {},
   "source": [
    "Prescribed force $F$ specifying to be carried by the reinforcement."
   ]
  },
  {
   "cell_type": "code",
   "execution_count": null,
   "metadata": {},
   "outputs": [],
   "source": [
    "F = sp.symbols(r'F') "
   ]
  },
  {
   "cell_type": "markdown",
   "metadata": {},
   "source": [
    "Carbon footprint per function would tell us how high is the equivalent CO$_2$ emission needed to achieve a certain performance. This would allow us to compare traditional solutions with existing ones.\n",
    "$$\n",
    "    e_\\mathrm{crc}(F)\n",
    "$$\n",
    "On the other hand function per carbon footprint would tell us what performance can be achieved with a particular material given a specified level of CO$_2$ emission.\n",
    "$$\n",
    "    F(e_\\mathrm{crc})\n",
    "$$"
   ]
  },
  {
   "cell_type": "markdown",
   "metadata": {},
   "source": [
    "The former relation can be obtained by expressing the former equation as\n",
    "$$\n",
    "    e_\\mathrm{crc} = A_\\mathrm{c} e_\\mathrm{c} + A_\\mathrm{r}(F) e_\\mathrm{r}\n",
    "$$"
   ]
  },
  {
   "cell_type": "markdown",
   "metadata": {},
   "source": [
    "Expressing the concrete area using the reinforcement ratio $\\eta$\n",
    "$$\n",
    "    A_\\mathrm{c} = A_\\mathrm{r}(\\frac{1}{\\eta} - 1)\n",
    "$$"
   ]
  },
  {
   "cell_type": "code",
   "execution_count": null,
   "metadata": {},
   "outputs": [],
   "source": [
    "eta_eq = sp.Eq(eta, A_r / (A_r + A_c))\n",
    "A_c_solved = sp.solve(eta_eq, A_c)[0]\n",
    "A_c_solved"
   ]
  },
  {
   "cell_type": "markdown",
   "metadata": {},
   "source": [
    "After substitution, the above relation reads\n",
    "$$\n",
    "    e_\\mathrm{crc} = A_\\mathrm{r}(F) \\left(\\frac{1}{\\eta} - 1\\right) e_\\mathrm{c} + A_\\mathrm{r}(F) e_\\mathrm{r}\n",
    "$$"
   ]
  },
  {
   "cell_type": "markdown",
   "metadata": {},
   "source": [
    "This simplifies to\n",
    "$$\n",
    "    e_\\mathrm{crc} = A_\\mathrm{r}(F) \\left[\\left(\\frac{1}{\\eta} - 1\\right) e_\\mathrm{c} + e_\\mathrm{r}\n",
    "    \\right]\n",
    "$$"
   ]
  },
  {
   "cell_type": "markdown",
   "metadata": {},
   "source": [
    "The expression $A_\\mathrm{r}(F)$ represents the required amount of reinforcement to transfer the load $F$. Given the strength $f_\\mathrm{r}$, we require\n",
    "$$\n",
    "   F = f_\\mathrm{r} A_\\mathrm{r}\n",
    "$$\n",
    "which resolves to \n",
    "$$\n",
    "   A_\\mathrm{r} = \\frac{F}{f_\\mathrm{r}}\n",
    "$$\n",
    "This renders the expression\n",
    "$$\n",
    "    e_\\mathrm{crc} = \\frac{F}{a f_\\mathrm{r}} \\left[\\left(\\frac{1}{\\eta} - 1\\right) e_\\mathrm{c} + e_\\mathrm{r}\n",
    "    \\right]\n",
    "$$"
   ]
  },
  {
   "cell_type": "code",
   "execution_count": null,
   "metadata": {},
   "outputs": [],
   "source": [
    "e_r_crc = sp.simplify(F / f_r * (e_r * rho_r)) / a\n",
    "e_crc = sp.simplify(F / f_r * ((1/eta - 1) * e_c * rho_c + e_r * rho_r)) / a\n",
    "e_crc"
   ]
  },
  {
   "cell_type": "code",
   "execution_count": null,
   "metadata": {},
   "outputs": [],
   "source": [
    "get_e_r_crc = sp.lambdify((F, eta, rho_c, rho_r, e_r, e_c, f_r, a), e_r_crc)\n",
    "get_e_crc = sp.lambdify((F, eta, rho_c, rho_r, e_r, e_c, f_r, a), e_crc)"
   ]
  },
  {
   "cell_type": "code",
   "execution_count": null,
   "metadata": {},
   "outputs": [],
   "source": [
    "e_src = get_e_crc(F=1000, eta=0.1, rho_c=2400, rho_r=7850, e_r=2, e_c=0.12, f_r=500, a=1 )\n",
    "e_crc = get_e_crc(F=1000, eta=0.1, rho_c=2400, rho_r=2000, e_r=19, e_c=0.12, f_r=3000, a=3 )\n",
    "e_src, e_crc, e_src / e_crc"
   ]
  },
  {
   "cell_type": "code",
   "execution_count": null,
   "metadata": {},
   "outputs": [],
   "source": [
    "e_src = get_e_r_crc(F=1000, eta=0.01, rho_c=2400, rho_r=7850, e_r=2, e_c=0.12, f_r=500, a=1 )\n",
    "e_crc = get_e_r_crc(F=1000, eta=0.01, rho_c=2400, rho_r=2000, e_r=19, e_c=0.12, f_r=3000, a=1 )\n",
    "e_src, e_crc, e_src / e_crc"
   ]
  },
  {
   "cell_type": "code",
   "execution_count": null,
   "metadata": {},
   "outputs": [],
   "source": [
    "fig, ax = plt.subplots(1,1)\n",
    "ax_twin = ax.twinx()\n",
    "eta_range = np.linspace(0.001, 0.04, 100)\n",
    "e_src_range = get_e_crc(F=1000, eta=eta_range, rho_c=2400, rho_r=7850, e_r=2, e_c=0.12, f_r=500, a=1)\n",
    "e_crc_range = get_e_crc(F=1000, eta=eta_range, rho_c=2400, rho_r=2000, e_r=19, e_c=0.12, f_r=3000, a=3)\n",
    "e_r_src_range = get_e_r_crc(F=1000, eta=eta_range, rho_c=2400, rho_r=7850, e_r=2, e_c=0.12, f_r=500, a=1)\n",
    "e_r_crc_range = get_e_r_crc(F=1000, eta=eta_range, rho_c=2400, rho_r=2000, e_r=19, e_c=0.12, f_r=3000, a=3)\n",
    "ax.plot(eta_range, e_src_range, label='SRC')\n",
    "ax.plot(eta_range, e_crc_range, label='CRC')\n",
    "ax_twin.plot(eta_range, e_src_range / e_crc_range, color='green')\n",
    "ax.legend()"
   ]
  },
  {
   "cell_type": "code",
   "execution_count": null,
   "metadata": {},
   "outputs": [],
   "source": []
  },
  {
   "cell_type": "code",
   "execution_count": null,
   "metadata": {},
   "outputs": [],
   "source": []
  }
 ],
 "metadata": {
  "kernelspec": {
   "display_name": "bmcs_env2",
   "language": "python",
   "name": "python3"
  },
  "language_info": {
   "codemirror_mode": {
    "name": "ipython",
    "version": 3
   },
   "file_extension": ".py",
   "mimetype": "text/x-python",
   "name": "python",
   "nbconvert_exporter": "python",
   "pygments_lexer": "ipython3"
  }
 },
 "nbformat": 4,
 "nbformat_minor": 2
}
