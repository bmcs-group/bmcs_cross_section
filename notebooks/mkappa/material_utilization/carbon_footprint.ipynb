{
 "cells": [
  {
   "cell_type": "markdown",
   "metadata": {},
   "source": [
    "# Analytical model of carbon footprint for reinforced beams"
   ]
  },
  {
   "cell_type": "markdown",
   "metadata": {},
   "source": [
    "## General concept"
   ]
  },
  {
   "cell_type": "markdown",
   "metadata": {},
   "source": [
    "In this notebook, we introduce the environmental impact represented by the global warming potential (GWP) of a design as a function of the required performance represented by a living unit of a standard comfort. Our definition of comfort includes the statical aspects enabling the living unit. Thus, the required performance considered here considers the structural design, that guarantees the function via meeting the limit state requirements of safety and serviceability."
   ]
  },
  {
   "cell_type": "markdown",
   "metadata": {},
   "source": [
    "For simplicity, let us consider a brittle system of two components linked in series. This means that the failure of either component means an ultimate failure. Such structure describes the failure mechanism behind the flexural failure of carbon-reinforced concrete in a simply supported beam. "
   ]
  },
  {
   "cell_type": "markdown",
   "metadata": {},
   "source": [
    "In this system, full utilization of both components is provided if they fail simultaneously. Based on this condition, we can require that for concrete\n",
    "$$\n",
    "  f_\\mathrm{R,c} = \\sigma_\\mathrm{E,c}(q_\\mathrm{E}, g_\\mathrm{E}(\\mathcal{C}, \\mathcal{S}); \\mathcal{C}, \\mathcal{S})\n",
    "$$\n",
    "and, at the same time for the reinforcement\n",
    "$$\n",
    "  f_\\mathrm{R,r} = \\sigma_\\mathrm{E,r}(q_{\\mathrm{E}}, g_\\mathrm{E}(\\mathcal{C}, \\mathcal{S}); \\mathcal{C}, \\mathcal{S})\n",
    "$$\n",
    "where $f_\\mathrm{R,c}$ and $f_\\mathrm{R,r}$ represent the strength of concrete and reinforcement, respectively. The corresponding stresses are denoted as $\\sigma_\\mathrm{R,c}$ \n",
    "and $\\sigma_\\mathrm{R,r}$. The required performance is represented by the prescribed service load $q_\\mathrm{E}$, and the design configuration is represented by the cross-sectional parameters $\\mathcal{C}$ and the structural parameters $\\mathcal{S}$. An example of cross sectional parameters included in $\\mathcal{C}$ is the width and depth of a rectangular beam or the flange and web dimensions of a T-beam. An example of a structural parameter included in the vector $\\mathcal{S}$ is for example the length of a simply supported beam. Note that the above stress functions also implicitly consider the self-weight of the structure depending on the dimensions and material density. "
   ]
  },
  {
   "cell_type": "markdown",
   "metadata": {},
   "source": [
    "Let us summarize these condition in a set of utilization constraints\n",
    "$$\n",
    "\\mathcal{U}_i := \\sigma^{\\mathrm{E}}_i (q_\\mathrm{E}; \\mathcal{C}, \\mathcal{S}) - f^\\mathrm{R}_i = 0, \\;\\; i \\in 1\\ldots N_\\mathcal{U}\n",
    "$$"
   ]
  },
  {
   "cell_type": "markdown",
   "metadata": {},
   "source": [
    "or in terms of the utilization ratios, we require\n",
    "$$\n",
    "\\eta_i = \\frac{\\sigma^{\\mathrm{E}}_i (q_\\mathrm{E}; \\mathcal{C}, \\mathcal{S})}{f^\\mathrm{R}_i} = 1, \\;\\; i \\in 1\\ldots N_\\mathcal{U}\n",
    "$$"
   ]
  },
  {
   "cell_type": "markdown",
   "metadata": {},
   "source": [
    "## Parameterization of the free design space"
   ]
  },
  {
   "cell_type": "markdown",
   "metadata": {},
   "source": [
    "The free parameters of the design can include cross-sectional parameters, e.g. width, depth, flange, web parameters, or a distance of ribs or even their spatial layout.\n",
    "In case of a reinfrced rectangular beam, let us consider the tree parameters\n",
    "$$\n",
    " \\mathcal{C} = [b, d, \\rho]\n",
    "$$ "
   ]
  },
  {
   "cell_type": "markdown",
   "metadata": {},
   "source": [
    "The conditions of full utilization can be applied to reduce the dimension of the design space. The choice of constrained variables and of the primary design variables is arbitrary. Given $N_\\mathcal{C}$ number of design variables and $N_\\mathcal{U}$ number of utilization constraints, where $N_\\mathcal{C} > N_\\mathcal{U}$   \n",
    "$$\n",
    "  \\mathcal{C}^\\mathcal{U}_i \\subset \\mathcal{C}, \\;\\; i \\in 1 \\ldots N_\\mathcal{U},\n",
    "$$  \n",
    "the free, or primary design parameters represent the complementary set\n",
    "$$\n",
    " \\mathcal{C}^\\mathrm{d} = \\mathcal{C} \\setminus \\mathcal{C}^\\mathrm{U}.\n",
    "$$\n"
   ]
  },
  {
   "cell_type": "markdown",
   "metadata": {},
   "source": [
    "The variables constrained by utilization requirement $\\mathcal{C}^\\mathcal{U}$ can then be resolved to obtain explicit values\n",
    "$$\n",
    " \\mathcal{C}^\\mathcal{U}_i = \\mathcal{U}_i(q_\\mathrm{E}, f^\\mathrm{R}_i, \\mathcal{C}^\\mathrm{d}, \\mathcal{S}), \\;\\; \n",
    " i = 1 \\ldots N_\\mathcal{U}\n",
    "$$"
   ]
  },
  {
   "cell_type": "markdown",
   "metadata": {},
   "source": [
    "The structural dimensions and the boundary conditions $\\mathcal{S}$ are prescribed, as they are also part of the function unit. For example, they influence the usage parameters of the room below the beam. Thus, the above equation delivers fully utilized designs for specified primary design variables $\\mathcal{C}^\\mathrm{d}$."
   ]
  },
  {
   "cell_type": "markdown",
   "metadata": {},
   "source": [
    "## Constrained reinforcement ratio\n",
    "\n",
    "To deliver a closed form solution, let us express the reinforcement ratio with the help of the utilization of constraint for the reinforcement, i.e.\n",
    "$$\n",
    "\\rho = \\mathcal{R}( f_\\mathrm{R,r}, q_{\\mathrm{E}}, g_\\mathrm{E}(b, d, \\mathcal{S}); b, d, \\mathcal{S})\n",
    "$$"
   ]
  },
  {
   "cell_type": "markdown",
   "metadata": {},
   "source": [
    "**Remark:** Note that the self-weight $g_\\mathrm{E}(b, d, \\rho)$ also depends on the reinforcement ratio. In a general framework the constrained reinforcement ratio might be more difficult to resolve than in the present case. In order to construct a closed-form link, let us proceed with the weight of the reinforcement neglected."
   ]
  },
  {
   "cell_type": "markdown",
   "metadata": {},
   "source": [
    "**Remark:** Note that for rectangular cross sections and for $\\mathcal{S} = {L}$, the reinforcement ratio only depends on the aspect ratio of the cross-sectional dimensions $b, d$. This result has been derived analytically in a previous paper~\\cite{spartali_2023}."
   ]
  },
  {
   "cell_type": "markdown",
   "metadata": {},
   "source": [
    "The utilization criterion can be introduced for each material component separately as done above. Alternatively, in case of a weakest-link system, it is possible to require "
   ]
  },
  {
   "cell_type": "markdown",
   "metadata": {},
   "source": [
    "Then the utilization of the concrete matrix can be used to derive an explicit relation for the width of the beam, given its depth as\n",
    "$$\n",
    "  b = \\mathcal{B}( f_\\mathrm{R,c}, q_\\mathrm{E}, g_\\mathrm{E}(d, \\mathcal{S}); d, \\mathcal{S})\n",
    "$$"
   ]
  },
  {
   "cell_type": "markdown",
   "metadata": {},
   "source": [
    "**Remark:** This is essencially the logic applied in the cited paper applied at the level of a critical cross-section. Here, we include the self-weight and also the structural dimension and the boundary conditions. In such a case, an implicit set of functions defining the constraints will be obtained that will be solved numerically. Still, in order to present the concept of reducing the design space by employing the utilization constraints let us continue with this simple example and include the global warming potential into the mathematical formulation."
   ]
  },
  {
   "cell_type": "markdown",
   "metadata": {},
   "source": [
    "## Global warming potential function "
   ]
  },
  {
   "cell_type": "markdown",
   "metadata": {},
   "source": [
    "With the utilized design constraint we can refine the quantification of the environmental impact by inserting the above condition into the volume calculation "
   ]
  },
  {
   "cell_type": "markdown",
   "metadata": {},
   "source": [
    "The design parameters $\\mathcal{C} = \\mathcal{C}^\\mathcal{U} + \\mathcal{C}^\\mathrm{d}$ and $\\mathcal{S}$ are directly linked to material consumption by evaluating the volume of each material component as\n",
    "$$\n",
    " V_\\mathrm{i} = \\mathcal{V}_i(\\mathcal{S}, \\mathcal{C}^\\mathcal{U}(q_\\mathrm{E}, f^\\mathrm{R}_i, \\mathcal{C}^\\mathrm{d}, \\mathcal{S}), \\mathcal{C}^\\mathrm{d}).\n",
    "$$  \n",
    "The total equivalent carbon footprint is then obtained as\n",
    "$$\n",
    " \\epsilon = \\sum_i e_i(f^\\mathrm{R}_i) g_i = \\sum_i e_i(f^\\mathrm{R}_i) \\rho_i V_i,\n",
    "$$\n",
    "where $e_i$, $g_i$, and $\\rho_i$ denote the carbon footprint per unit mass, weight, and material density, respectively."
   ]
  },
  {
   "cell_type": "markdown",
   "metadata": {},
   "source": [
    "In abbreviated form, we obtained an equation for GWP in a form\n",
    "$$\n",
    " e = \\mathcal{E}( q_\\mathrm{E}, f^\\mathrm{R}_i, \\mathcal{C}^\\mathrm{d}, \\mathcal{S})\n",
    "$$"
   ]
  },
  {
   "cell_type": "markdown",
   "metadata": {},
   "source": [
    "## GWP of fully utilized design "
   ]
  },
  {
   "cell_type": "markdown",
   "metadata": {},
   "source": [
    "Using the above values of a resolved systems with the reinforcement ratio $\\rho$ and the beam width $b$ defined as functions of the beam depth, we can express the global warming potential directly as\n",
    "$$\n",
    " e = \\mathcal{E}( q_\\mathrm{E}, f^\\mathrm{R}_i, d, \\mathcal{S})\n",
    "$$ "
   ]
  },
  {
   "cell_type": "markdown",
   "metadata": {},
   "source": [
    "Let us remind that this representation neglects the self weight. Still, it introduces a link between a function and the environmental impact. Therefore, we can introduce the minimization problem \n",
    "$$\n",
    " \\min_{d} \\mathcal{E}( q_\\mathrm{E}, f^\\mathrm{R}_i, d, \\mathcal{S}) \\rightarrow d\n",
    "$$\n",
    "This equation can be solved analytically to obtain\n",
    "$$\n",
    " d = \\mathcal{D}( q_\\mathrm{E}, f^\\mathrm{R}_i, \\mathcal{S} )\n",
    "$$"
   ]
  },
  {
   "cell_type": "markdown",
   "metadata": {},
   "source": [
    "**Conclusion:** We can derive an eplicit equation for the free design parameters of a rectangular cross-section represented by $\\mathcal{C} = [b, d, \\rho]$ which directly renders the design with minimum GWP. "
   ]
  },
  {
   "cell_type": "markdown",
   "metadata": {},
   "source": [
    "In this way, we obtain the GWP function within the design space.\n",
    "\n",
    " - Is the full utilization implicitly a sustainability criterion?\n",
    " - What is the environmental penalty for not utilizing the material?"
   ]
  },
  {
   "cell_type": "markdown",
   "metadata": {},
   "source": [
    "# Uniaxial tension of two-component system"
   ]
  },
  {
   "cell_type": "code",
   "execution_count": null,
   "metadata": {},
   "outputs": [],
   "source": [
    "%matplotlib widget\n",
    "import matplotlib.pylab as plt\n",
    "import numpy as np\n",
    "import sympy as sp\n",
    "from bmcs_utils.api import Cymbol\n",
    "sp.init_printing()"
   ]
  },
  {
   "cell_type": "markdown",
   "metadata": {},
   "source": [
    "## Design variables"
   ]
  },
  {
   "cell_type": "code",
   "execution_count": null,
   "metadata": {},
   "outputs": [],
   "source": [
    "# specific equivalent CO2 footprint of reinforcement\n",
    "e_r = Cymbol(r'e_\\mathrm{r}', codename='e_r') \n",
    "# material density of reinforcement\n",
    "rho_r = Cymbol(r'\\rho_{\\mathrm{r}}', codename='rho_r')\n",
    "# reinforcement strength\n",
    "f_r = Cymbol(r'f_\\mathrm{r}', codename='f_r')\n",
    "# specific equivalent C02 footprint of the matrix\n",
    "e_c = Cymbol(r'e_\\mathrm{c}', codename='e_c') \n",
    "# material density of concrete\n",
    "rho_c = Cymbol(r'\\rho_{\\mathrm{c}}', codename='rho_c')\n",
    "a  = Cymbol(r'a')\n",
    "# reinforcement ratio \n",
    "rho = Cymbol(r'\\rho', codename='rho')\n",
    "A_c = Cymbol(r'A_\\mathrm{c}')\n",
    "A_r = Cymbol(r'A_\\mathrm{r}')"
   ]
  },
  {
   "cell_type": "markdown",
   "metadata": {},
   "source": [
    "Prescribed force $F$ specifying to be carried by the reinforcement."
   ]
  },
  {
   "cell_type": "code",
   "execution_count": null,
   "metadata": {},
   "outputs": [],
   "source": [
    "F = Cymbol(r'F') "
   ]
  },
  {
   "cell_type": "markdown",
   "metadata": {},
   "source": [
    "Carbon footprint per function would tell us how high is the equivalent CO$_2$ emission needed to achieve a certain performance. This would allow us to compare traditional solutions with existing ones.\n",
    "$$\n",
    "    e_\\mathrm{crc}(F)\n",
    "$$\n",
    "On the other hand function per carbon footprint would tell us what performance can be achieved with a particular material given a specified level of CO$_2$ emission.\n",
    "$$\n",
    "    F(e_\\mathrm{crc})\n",
    "$$"
   ]
  },
  {
   "cell_type": "markdown",
   "metadata": {},
   "source": [
    "The former relation can be obtained by expressing the former equation as\n",
    "$$\n",
    "    e_\\mathrm{crc} = A_\\mathrm{c}(F) e_\\mathrm{c} \\rho_\\mathrm{c} + A_\\mathrm{r}(F) e_\\mathrm{r} \\rho_\\mathrm{r}\n",
    "$$"
   ]
  },
  {
   "cell_type": "code",
   "execution_count": null,
   "metadata": {},
   "outputs": [],
   "source": [
    "e_crc_ = sp.simplify(A_c * e_c * rho_c + A_r * e_r * rho_r) / a\n",
    "e_crc_"
   ]
  },
  {
   "cell_type": "markdown",
   "metadata": {},
   "source": [
    "Expressing the concrete area using the reinforcement ratio $\\rho$\n",
    "$$\n",
    "    A_\\mathrm{c} = A_\\mathrm{r}(\\frac{1}{\\rho} - 1)\n",
    "$$"
   ]
  },
  {
   "cell_type": "code",
   "execution_count": null,
   "metadata": {},
   "outputs": [],
   "source": [
    "rho_eq = sp.Eq(rho, A_r / (A_r + A_c))\n",
    "A_c_solved = sp.collect(sp.solve(rho_eq, A_c)[0], A_r)\n",
    "A_c_solved"
   ]
  },
  {
   "cell_type": "markdown",
   "metadata": {},
   "source": [
    "After substitution, the above relation reads\n",
    "$$\n",
    "    e_\\mathrm{crc} = A_\\mathrm{r} \\left(\\frac{1}{\\rho} - 1\\right) e_\\mathrm{c} + A_\\mathrm{r}(F) e_\\mathrm{r}\n",
    "$$"
   ]
  },
  {
   "cell_type": "markdown",
   "metadata": {},
   "source": [
    "This simplifies to\n",
    "$$\n",
    "    e_\\mathrm{crc} = A_\\mathrm{r}(F) \\left[\\left(\\frac{1}{\\rho} - 1\\right) e_\\mathrm{c} + e_\\mathrm{r}\n",
    "    \\right]\n",
    "$$"
   ]
  },
  {
   "cell_type": "code",
   "execution_count": null,
   "metadata": {},
   "outputs": [],
   "source": [
    "e_crc_A_r_ = sp.collect(e_crc_.subs(A_c, A_c_solved), A_r)\n",
    "e_crc_A_r_"
   ]
  },
  {
   "cell_type": "markdown",
   "metadata": {},
   "source": [
    "The expression $A_\\mathrm{r}(F)$ represents the required amount of reinforcement to transfer the load $F$. Given the strength $f_\\mathrm{r}$, we require full utilization\n",
    "$$\n",
    "   F = f_\\mathrm{r} A_\\mathrm{r}\n",
    "$$\n",
    "which resolves to \n",
    "$$\n",
    "   A_\\mathrm{r} = \\frac{F}{f_\\mathrm{r}}\n",
    "$$\n",
    "This renders the expression\n",
    "$$\n",
    "    e_\\mathrm{crc} = \\frac{F}{a f_\\mathrm{r}} \\left[\\left(\\frac{1}{\\rho} - 1\\right) e_\\mathrm{c} + e_\\mathrm{r}\n",
    "    \\right]\n",
    "$$"
   ]
  },
  {
   "cell_type": "code",
   "execution_count": null,
   "metadata": {},
   "outputs": [],
   "source": [
    "e_crc_F_ = sp.simplify(e_crc_A_r_.subs(A_r, F/f_r))\n",
    "e_crc_F_"
   ]
  },
  {
   "cell_type": "code",
   "execution_count": null,
   "metadata": {},
   "outputs": [],
   "source": [
    "get_e_crc = sp.lambdify((F, rho, rho_c, rho_r, e_r, e_c, f_r, a), e_crc_F_)"
   ]
  },
  {
   "cell_type": "code",
   "execution_count": null,
   "metadata": {},
   "outputs": [],
   "source": [
    "e_src = get_e_crc(F=1000, rho=0.1, rho_c=2400, rho_r=7850, e_r=2, e_c=0.12, f_r=500, a=1 )\n",
    "e_crc = get_e_crc(F=1000, rho=0.1, rho_c=2400, rho_r=2000, e_r=19, e_c=0.12, f_r=3000, a=3 )\n",
    "e_src, e_crc, e_src / e_crc"
   ]
  },
  {
   "cell_type": "code",
   "execution_count": null,
   "metadata": {},
   "outputs": [],
   "source": [
    "get_e_r_crc = sp.lambdify((F, rho, rho_c, rho_r, e_r, e_c, f_r, a), e_crc_F_.subs(e_c,0))\n",
    "e_src = get_e_r_crc(F=1000, rho=0.01, rho_c=2400, rho_r=7850, e_r=2, e_c=0.12, f_r=500, a=1 )\n",
    "e_crc = get_e_r_crc(F=1000, rho=0.01, rho_c=2400, rho_r=2000, e_r=19, e_c=0.12, f_r=3000, a=3 )\n",
    "e_src, e_crc, e_src / e_crc"
   ]
  },
  {
   "cell_type": "code",
   "execution_count": null,
   "metadata": {},
   "outputs": [],
   "source": [
    "fig, ax = plt.subplots(1,1)\n",
    "ax_right = ax.twinx()\n",
    "rho_range = np.linspace(0.001, 0.04, 100)\n",
    "src_params = dict(F=10, rho_c=2400, rho_r=7850, e_r=2, e_c=0.12, f_r=500, a=1)\n",
    "crc_params = dict(F=10, rho_c=2400, rho_r=2000, e_r=19, e_c=0.12, f_r=3000, a=3)\n",
    "e_src_range = get_e_crc(rho=rho_range, **src_params)\n",
    "e_crc_range = get_e_crc(rho=rho_range, **crc_params)\n",
    "ax.plot(rho_range, e_src_range, label='SRC')\n",
    "ax.plot(rho_range, e_crc_range, label='CRC')\n",
    "ax_right.plot(rho_range, e_src_range / e_crc_range, color='green', label='ratio')\n",
    "ax.set_ylabel(r'$e$ [equiv CO$_2$ kg/(mm a)]')\n",
    "ax.set_xlabel(r'$\\rho$ [-]')\n",
    "ax_right.set_ylabel(r'$e_\\mathrm{SRC} / e_\\mathrm{CRC}$')\n",
    "ax.legend()"
   ]
  },
  {
   "cell_type": "markdown",
   "metadata": {},
   "source": [
    "## Flexural capacity versus GWP"
   ]
  },
  {
   "cell_type": "code",
   "execution_count": null,
   "metadata": {},
   "outputs": [],
   "source": [
    "b = Cymbol('b', real=True, nonnegative=True)\n",
    "d = Cymbol('d', real=True, nonnegative=True)\n",
    "zeta = Cymbol(r'\\zeta', codename='zeta', real=True, nonnegative=True)\n",
    "sig_b = Cymbol(r'\\sigma_\\mathrm{b}', codename='sig_b', real=True, nonnegative=True)\n",
    "rho_b = Cymbol(r'\\rho_\\mathrm{b}', codename='rho_b', real=True, nonnegative=True)\n",
    "c_nom = Cymbol(r'c_\\mathrm{nom}', codename='c_nom', real=True, nonnegative=True)\n",
    "c_nom = 0\n",
    "A_r = Cymbol(r'A_\\mathrm{r}', codename=A_r)\n",
    "A_c = Cymbol(r'A_\\mathrm{c}', codename=A_c)\n",
    "M_E = Cymbol(r'M_\\mathrm{E}', codename='M_E', real=True, nonnegative=True)"
   ]
  },
  {
   "cell_type": "code",
   "execution_count": null,
   "metadata": {},
   "outputs": [],
   "source": [
    "A_r_ = rho_b * b * d\n",
    "A_c_ = b * (d + c_nom) - A_r_\n",
    "{A_r:A_r_, A_c: A_c_}"
   ]
  },
  {
   "cell_type": "code",
   "execution_count": null,
   "metadata": {},
   "outputs": [],
   "source": [
    "W_ = (b*d**2) / 6\n",
    "W_"
   ]
  },
  {
   "cell_type": "code",
   "execution_count": null,
   "metadata": {},
   "outputs": [],
   "source": [
    "M_R_b_ = sig_b * W_\n",
    "M_R_b_"
   ]
  },
  {
   "cell_type": "code",
   "execution_count": null,
   "metadata": {},
   "outputs": [],
   "source": [
    "d_solved = sp.solve(sp.Eq(M_E, M_R_b_), d)[1]\n",
    "d_solved"
   ]
  },
  {
   "cell_type": "code",
   "execution_count": null,
   "metadata": {},
   "outputs": [],
   "source": [
    "b_solved = sp.solve(sp.Eq(M_E, M_R_b_), b)[0]\n",
    "b_solved"
   ]
  },
  {
   "cell_type": "code",
   "execution_count": null,
   "metadata": {},
   "outputs": [],
   "source": [
    "e_crc_bd_ = e_crc_.subs(A_c, A_c_).subs(A_r, rho_b * b * d)\n",
    "e_crc_bd_"
   ]
  },
  {
   "cell_type": "code",
   "execution_count": null,
   "metadata": {},
   "outputs": [],
   "source": [
    "e_crc_b_ = sp.simplify(e_crc_bd_.subs(d,d_solved))\n",
    "e_crc_b_"
   ]
  },
  {
   "cell_type": "code",
   "execution_count": null,
   "metadata": {},
   "outputs": [],
   "source": [
    "get_e_crc_b = sp.lambdify((b, M_E, rho_b, sig_b, rho_r, rho_c, e_r, e_c, a),\n",
    "                          e_crc_b_)\n",
    "get_d_b = sp.lambdify((b, M_E, rho_b, sig_b, rho_r, rho_c, e_r, e_c, a), d_solved)\n",
    "params = dict(M_E=10000, rho_b=0.01, sig_b=30, rho_c=2400, rho_r=2000, e_r=19, e_c=0.12, a=1)\n",
    "b_range = np.linspace(1, 40, 100)\n",
    "e_crc_range = get_e_crc_b(b_range, **params)\n",
    "d_range = get_d_b(b_range, **params)\n",
    "fig, ax_left = plt.subplots(1,1)\n",
    "ax_left.plot(b_range, e_crc_range)\n",
    "ax_right = ax_left.twinx()\n",
    "ax_right.plot(b_range, d_range, color='green')\n",
    "ax_left.set_xlabel(r'$b$ / mm');\n",
    "ax_left.set_ylabel(r'$e$ / equiv CO$_2$ kg mm$^{-1}$ a$^{-1}$');\n",
    "ax_right.set_ylabel(r'$d$ / mm')"
   ]
  },
  {
   "cell_type": "code",
   "execution_count": null,
   "metadata": {},
   "outputs": [],
   "source": [
    "e_crc_d_ = sp.simplify(e_crc_bd_.subs(b,b_solved))\n",
    "e_crc_d_"
   ]
  },
  {
   "cell_type": "markdown",
   "metadata": {},
   "source": [
    "### What is the relation between carbon footprint and aspect ratio?"
   ]
  },
  {
   "cell_type": "code",
   "execution_count": null,
   "metadata": {},
   "outputs": [],
   "source": [
    "zeta_eq_ = sp.Eq(zeta, d/b)\n",
    "d_b_zeta_ = sp.solve(zeta_eq_, d)[0]\n",
    "d_b_zeta_"
   ]
  },
  {
   "cell_type": "code",
   "execution_count": null,
   "metadata": {},
   "outputs": [],
   "source": [
    "A_r_zeta_ = A_r_.subs(d, d_b_zeta_)\n",
    "A_c_zeta_ = A_c_.subs(d, d_b_zeta_)\n",
    "{A_r:A_r_zeta_, A_c: A_c_zeta_}\n"
   ]
  },
  {
   "cell_type": "code",
   "execution_count": null,
   "metadata": {},
   "outputs": [],
   "source": [
    "M_utilization_eq = sp.Eq(M_E, M_R_b_).subs(d, d_b_zeta_)\n",
    "M_utilization_eq"
   ]
  },
  {
   "cell_type": "code",
   "execution_count": null,
   "metadata": {},
   "outputs": [],
   "source": [
    "b_zeta_1_, b_zeta_2_, b_zeta_3_ = sp.solve(M_utilization_eq, b)\n",
    "b_zeta_1_, b_zeta_3_, b_zeta_3_"
   ]
  },
  {
   "cell_type": "code",
   "execution_count": null,
   "metadata": {},
   "outputs": [],
   "source": [
    "e_crc_b_zeta_ = sp.simplify(e_crc_bd_.subs(d, d_b_zeta_))\n",
    "e_crc_b_zeta_"
   ]
  },
  {
   "cell_type": "code",
   "execution_count": null,
   "metadata": {},
   "outputs": [],
   "source": [
    "e_crc_zeta_ = sp.simplify(e_crc_b_zeta_.subs(b, b_zeta_1_))\n",
    "e_crc_zeta_"
   ]
  },
  {
   "cell_type": "code",
   "execution_count": null,
   "metadata": {},
   "outputs": [],
   "source": [
    "get_e_crc_zeta = sp.lambdify((zeta, M_E, rho_b, sig_b, rho_r, rho_c, e_r, e_c, a),\n",
    "                          e_crc_zeta_)\n",
    "get_b_zeta = sp.lambdify((zeta, M_E, rho_b, sig_b, rho_r, rho_c, e_r, e_c, a), b_zeta_1_)\n",
    "params = dict(M_E=10000, rho_b=0.01, sig_b=30, rho_c=2400, rho_r=2000, e_r=19, e_c=0.12, a=1)\n",
    "zeta_range = np.linspace(0.1, 10, 100)\n",
    "e_crc_range = get_e_crc_zeta(zeta_range, **params)\n",
    "b_range = get_b_zeta(b_range, **params)\n",
    "fig, ax_left = plt.subplots(1,1)\n",
    "ax_left.plot(b_range, e_crc_range)\n",
    "ax_right = ax_left.twinx()\n",
    "ax_right.plot(b_range, zeta_range, color='green')\n",
    "ax_left.set_xlabel(r'$b$ [mm]');\n",
    "ax_left.set_ylabel(r'$e$ [equiv CO$_2$ kg / a]');\n",
    "ax_right.set_ylabel(r'$\\zeta$ [-]')"
   ]
  },
  {
   "cell_type": "code",
   "execution_count": null,
   "metadata": {},
   "outputs": [],
   "source": []
  }
 ],
 "metadata": {
  "kernelspec": {
   "display_name": "bmcs_env2",
   "language": "python",
   "name": "python3"
  },
  "language_info": {
   "codemirror_mode": {
    "name": "ipython",
    "version": 3
   },
   "file_extension": ".py",
   "mimetype": "text/x-python",
   "name": "python",
   "nbconvert_exporter": "python",
   "pygments_lexer": "ipython3"
  }
 },
 "nbformat": 4,
 "nbformat_minor": 2
}
