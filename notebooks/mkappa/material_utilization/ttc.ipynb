{
 "cells": [
  {
   "cell_type": "code",
   "execution_count": null,
   "metadata": {},
   "outputs": [],
   "source": [
    "%matplotlib widget\n",
    "import matplotlib.pylab as plt\n",
    "import numpy as np\n",
    "import sympy as sp\n",
    "from bmcs_utils.api import Cymbol\n",
    "sp.init_printing()"
   ]
  },
  {
   "cell_type": "code",
   "execution_count": null,
   "metadata": {},
   "outputs": [],
   "source": [
    "sig_c1 = Cymbol(r'\\sigma_{c1}', codename='sig_c1')\n",
    "sig_c2 = Cymbol(r'\\sigma_{c2}', codename='sig_c2')\n",
    "sig_c3 = Cymbol(r'\\sigma_{c3}', codename='sig_c3')\n",
    "eps_cu1 = Cymbol(r'\\varepsilon_{\\mathrm{cu1}}', codename='eps_cu1')\n",
    "b = Cymbol(r'b', codename='b')\n",
    "d = Cymbol(r'd', codename='d')\n",
    "A_f = Cymbol(r'A_{\\mathrm{f}}', codename='A_f')\n",
    "f_fu = Cymbol(r'f_{\\mathrm{fu}}', codename='f_fu')\n",
    "E_f = Cymbol(r'E_{\\mathrm{f}}', codename='E_f')\n",
    "rho_f = Cymbol(r'\\rho_{\\mathrm{f}}', codename='rho_f')\n",
    "sigma_f = Cymbol(r'\\sigma_{\\mathrm{f}}', codename='sigma_f')\n",
    "\n",
    "eps_cy = Cymbol(r'\\varepsilon_{\\mathrm{cy}}', codename='eps_cy')\n",
    "eps_cu = Cymbol(r'\\varepsilon_{\\mathrm{cu}}', codename='eps_cu')\n",
    "eps_top = Cymbol(r'\\varepsilon_{\\mathrm{top}}', codename='eps_top')\n",
    "eps_bot = Cymbol(r'\\varepsilon_{\\mathrm{bot}}', codename='eps_bot')\n",
    "E_cc = Cymbol(r'E_{\\mathrm{cc}}', codename='E_cc')\n",
    "f_cm = Cymbol(r'f_{\\mathrm{cm}}', codename='f_cm')\n",
    "eps_1 = Cymbol(r'\\varepsilon_{1}', codename='eps_1')\n",
    "eta = Cymbol(r'\\eta', codename='eta')\n",
    "eta_cu = Cymbol(r'\\eta_\\mathrm{cu}', codename='eta_cu')\n",
    "eta_top = Cymbol(r'\\eta_\\mathrm{top}', codename='eta_top')\n",
    "z_top = Cymbol(r'z_\\mathrm{top}', codename='z_top')\n",
    "z = Cymbol(r'z', codename='z')\n",
    "eta_int = Cymbol(r'\\eta_\\mathrm{int}', codename='eta_int')\n",
    "k = Cymbol(r'k', codename='k')\n",
    "kappa = Cymbol(r'\\kappa', codename='kappa')\n"
   ]
  },
  {
   "cell_type": "markdown",
   "metadata": {},
   "source": [
    "## Eurocode 2 function"
   ]
  },
  {
   "cell_type": "code",
   "execution_count": null,
   "metadata": {},
   "outputs": [],
   "source": [
    "k_ = 1.05 * E_cc * eps_cy / f_cm\n",
    "sig_c_EC2_ = sp.simplify(f_cm * (k * eta - eta**2)/(1 + eta*(k-2)) \n",
    "                     )\n",
    "sig_c_EC2_"
   ]
  },
  {
   "cell_type": "code",
   "execution_count": null,
   "metadata": {},
   "outputs": [],
   "source": [
    "m = Cymbol(r'm')\n",
    "eta_0 = Cymbol(r'eta_0')\n",
    "from sympy.stats import Weibull, density\n",
    "\n",
    "# Create a Weibull random variable\n",
    "X = Weibull('X', m, eta_0)\n",
    "\n",
    "# Get the probability density function (pdf) of X\n",
    "sig_c_weibull_ = f_cm * density(X)(eta)\n",
    "sig_c_weibull_"
   ]
  },
  {
   "cell_type": "code",
   "execution_count": null,
   "metadata": {},
   "outputs": [],
   "source": [
    "get_k = sp.lambdify((f_cm, E_cc, eps_cy), k_ )\n",
    "get_sig_c_EC2 = sp.lambdify((eta, f_cm, eta_cu, k), sig_c_EC2_)\n",
    "get_sig_c_sig_c_weibull = sp.lambdify((eta, f_cm, eta_0, m), sig_c_weibull_)"
   ]
  },
  {
   "cell_type": "code",
   "execution_count": null,
   "metadata": {},
   "outputs": [],
   "source": [
    "_k = get_k(30, 28000, 0.002)\n",
    "eta_range = np.linspace(-1.5, 0.8*_k, 2000)\n",
    "fig, ax = plt.subplots(1,1)\n",
    "sig_range = get_sig_c_EC2(eta_range, 30, 0.8*_k, _k)\n",
    "#ax.plot(eta_range, sig_range)\n",
    "sig_range_signoid = get_sig_c_sig_c_weibull(eta_range, 1, 1, 0.3)\n",
    "ax.plot(eta_range, sig_range_signoid)\n"
   ]
  },
  {
   "cell_type": "code",
   "execution_count": null,
   "metadata": {},
   "outputs": [],
   "source": [
    "with sp.assuming(sp.Q.is_true(f_cm > 0), \n",
    "                 sp.Q.is_true(E_cc > 0),\n",
    "                 sp.Q.is_true(eta_cu > 0),\n",
    "                 sp.Q.is_true(k > 1),\n",
    "                 sp.Q.is_true(eta_int >= 0)):\n",
    "    int_sig_c_eta_ = sp.simplify(\n",
    "        sp.integrate(sig_c_EC2_, (eta, 0, eta))\n",
    "    )\n",
    "int_sig_c_eta_"
   ]
  },
  {
   "cell_type": "code",
   "execution_count": null,
   "metadata": {},
   "outputs": [],
   "source": [
    "get_int_sig_c_eta = sp.lambdify((eta, f_cm, eta_cu, k, b),\n",
    "                                 int_sig_c_eta_, modules='numpy')"
   ]
  },
  {
   "cell_type": "code",
   "execution_count": null,
   "metadata": {},
   "outputs": [],
   "source": [
    "fig, ax = plt.subplots(1,1)\n",
    "sig_range = get_int_sig_c_eta(eta_range, 30, 0.8*_k,  _k, 1)\n",
    "ax.plot(eta_range, sig_range)\n",
    "ax.plot([_k, _k],[0, np.max(sig_range)])"
   ]
  },
  {
   "cell_type": "markdown",
   "metadata": {},
   "source": [
    "# Integral over compression zone\n",
    "\n",
    "First express the relative compression strain as a linear function of the vertical coordinate $z$ starting at the neutral zone and ending at the top of the cross section"
   ]
  },
  {
   "cell_type": "code",
   "execution_count": null,
   "metadata": {},
   "outputs": [],
   "source": [
    "eta_z_ = eta_top / z_top * z\n",
    "eta_z_"
   ]
  },
  {
   "cell_type": "code",
   "execution_count": null,
   "metadata": {},
   "outputs": [],
   "source": [
    "sig_c_z_ = sig_c_eta_.subs(eta, eta_z_)"
   ]
  },
  {
   "cell_type": "code",
   "execution_count": null,
   "metadata": {},
   "outputs": [],
   "source": [
    "with sp.assuming(sp.Q.is_true(f_cm > 0), \n",
    "                 sp.Q.is_true(E_cc > 0),\n",
    "                 sp.Q.is_true(eta_cu > 0),\n",
    "                 sp.Q.is_true(eta_top >= 0),\n",
    "                 sp.Q.is_true(b > 0),\n",
    "                 sp.Q.is_true(k > 1),\n",
    "                 sp.Q.is_true(z_top > 0)):\n",
    "    F_c_eta_top_ = sp.simplify(\n",
    "        sp.integrate(sig_c_z_ * b, (z, 0, z_top))\n",
    "    )\n",
    "F_c_eta_top_"
   ]
  },
  {
   "cell_type": "markdown",
   "metadata": {},
   "source": [
    "## Find the position of compression zone stress resultant"
   ]
  },
  {
   "cell_type": "code",
   "execution_count": null,
   "metadata": {},
   "outputs": [],
   "source": [
    "with sp.assuming(sp.Q.is_true(f_cm > 0), \n",
    "                 sp.Q.is_true(E_cc > 0),\n",
    "                 sp.Q.is_true(eta_cu > 0),\n",
    "                 sp.Q.is_true(eta_top >= 0),\n",
    "                 sp.Q.is_true(b > 0),\n",
    "                 sp.Q.is_true(k > 1),\n",
    "                 sp.Q.is_true(z_top > 0)):\n",
    "    M_c_eta_top_ = sp.simplify(\n",
    "        sp.integrate(sig_c_z_ * b * z, (z, 0, z_top))\n",
    "    )"
   ]
  },
  {
   "cell_type": "code",
   "execution_count": null,
   "metadata": {},
   "outputs": [],
   "source": [
    "z_cg_eta_top_ = sp.simplify(M_c_eta_top_ / F_c_eta_top_)"
   ]
  },
  {
   "cell_type": "code",
   "execution_count": null,
   "metadata": {},
   "outputs": [],
   "source": [
    "z_cg_eta_top_"
   ]
  },
  {
   "cell_type": "code",
   "execution_count": null,
   "metadata": {},
   "outputs": [],
   "source": [
    "get_F_c_eta_top = sp.lambdify((eta_top, z_top, f_cm, eta_cu, k, b),\n",
    "                                 F_c_eta_top_)\n",
    "get_z_cg_eta_top = sp.lambdify((eta_top, z_top, f_cm, eta_cu, k, b),\n",
    "                                 z_cg_eta_top_)"
   ]
  },
  {
   "cell_type": "code",
   "execution_count": null,
   "metadata": {},
   "outputs": [],
   "source": [
    "fig, ax = plt.subplots(1,1)\n",
    "ax_z = ax.twinx()\n",
    "eta_range = np.linspace(0.001, 0.8*_k, 100)\n",
    "int_sig_range = get_F_c_eta_top(eta_range, 10, 30, 0.8*_k,  _k, 10)\n",
    "ax.plot(eta_range, int_sig_range)\n",
    "ax.plot([_k, _k],[0, np.max(sig_range)])\n",
    "z_cg_range = get_z_cg_eta_top(eta_range, 10, 30, 0.8*_k,  _k, 10)\n",
    "ax_z.plot(eta_range, z_cg_range);"
   ]
  },
  {
   "cell_type": "markdown",
   "metadata": {},
   "source": [
    "Is the maximum of $F_\\mathrm{c}(\\eta)$ always at $\\eta_\\mathrm{cu}$?"
   ]
  },
  {
   "cell_type": "code",
   "execution_count": null,
   "metadata": {},
   "outputs": [],
   "source": [
    "z_top_ = sp.solve(sp.Eq((eps_cu + f_fu / E_f)/d, eps_cu/z_top), z_top)[0]\n",
    "z_top_"
   ]
  },
  {
   "cell_type": "code",
   "execution_count": null,
   "metadata": {},
   "outputs": [],
   "source": [
    "F_cu_ = sp.simplify(\n",
    "    F_c_eta_top_.subs(eta_top, eta_cu).subs(eta_cu, eps_cu/eps_cy).subs(k,k_).subs(z_top, z_top_))\n",
    "F_cu_"
   ]
  },
  {
   "cell_type": "code",
   "execution_count": null,
   "metadata": {},
   "outputs": [],
   "source": [
    "A_f_ = rho_f * b * d\n",
    "F_fu_ = A_f_ * f_fu\n",
    "F_fu_\n"
   ]
  },
  {
   "cell_type": "code",
   "execution_count": null,
   "metadata": {},
   "outputs": [],
   "source": [
    "rho_f_ = sp.solve(sp.Eq(F_cu_, F_fu_), rho_f)[0]"
   ]
  },
  {
   "cell_type": "markdown",
   "metadata": {},
   "source": [
    "The inner lever arm is given as the difference \n",
    "$$\n",
    " z_\\mathrm{inner} = d - z_\\mathrm{top} + z_\\mathrm{cg}\n",
    "$$\n",
    "Then, the bending moment with respect to the reinforcement layer is given as\n",
    "$$\n",
    " M_\\mathrm{r} = F_\\mathrm{c} z_\\mathrm{inner}\n",
    "$$"
   ]
  },
  {
   "cell_type": "code",
   "execution_count": null,
   "metadata": {},
   "outputs": [],
   "source": [
    "z_cg_cu_ = sp.simplify(\n",
    "    z_cg_eta_top_.subs(eta_top, eta_cu).subs(eta_cu, eps_cu/eps_cy).subs(k,k_).subs(z_top, z_top_))\n",
    "z_cg_cu_"
   ]
  },
  {
   "cell_type": "code",
   "execution_count": null,
   "metadata": {},
   "outputs": [],
   "source": [
    "z_inner_ = sp.simplify(d - z_top_ + z_cg_cu_)"
   ]
  },
  {
   "cell_type": "code",
   "execution_count": null,
   "metadata": {},
   "outputs": [],
   "source": [
    "M_cu_ = F_fu_.subs(rho_f, rho_f_) * z_inner_"
   ]
  },
  {
   "cell_type": "code",
   "execution_count": null,
   "metadata": {},
   "outputs": [],
   "source": [
    "M_wo_b_ = sp.collect(M_cu_, d*d)\n",
    "M_wo_b_"
   ]
  },
  {
   "cell_type": "code",
   "execution_count": null,
   "metadata": {},
   "outputs": [],
   "source": [
    "M_E = Cymbol(r'M_\\mathrm{E}', codename='M_E')"
   ]
  },
  {
   "cell_type": "code",
   "execution_count": null,
   "metadata": {},
   "outputs": [],
   "source": [
    "# sp.solve(sp.Eq(M_E, M_cu_), d)"
   ]
  },
  {
   "cell_type": "markdown",
   "metadata": {},
   "source": [
    "The curvature is given as\n",
    "$$\n",
    " \\kappa = \\frac{\\varepsilon_\\mathrm{top}}{z_\\mathrm{top}}\n",
    "$$\n",
    "Therefore, the height of the compression zone reads\n",
    "$$\n",
    "z_\\mathrm{top} = \\frac{\\varepsilon_\\mathrm{top}}{\\kappa} \n",
    "$$"
   ]
  },
  {
   "cell_type": "markdown",
   "metadata": {},
   "source": [
    "Given the strain $\\varepsilon_\\mathrm{top}$ and curvature \n",
    "$$\n",
    " \\kappa = \\frac{\\varepsilon_\\mathrm{top} + \\varepsilon_\\mathrm{bot}}{d}\n",
    "$$"
   ]
  },
  {
   "cell_type": "code",
   "execution_count": null,
   "metadata": {},
   "outputs": [],
   "source": [
    "eps_bot_ = sp.solve(sp.Eq(kappa, (eps_top + eps_bot) / d), eps_bot)[0]\n",
    "eps_bot_"
   ]
  },
  {
   "cell_type": "code",
   "execution_count": null,
   "metadata": {},
   "outputs": [],
   "source": [
    "F_r_eps_top_kappa_ = A_f * E_f * eps_bot_ \n",
    "F_r_eps_top_kappa_"
   ]
  },
  {
   "cell_type": "code",
   "execution_count": null,
   "metadata": {},
   "outputs": [],
   "source": [
    "# defining symbols\n",
    "x, y = sp.symbols('x y')\n",
    "\n",
    "# defining a polynomial\n",
    "poly = x*y + x + y + 1\n",
    "\n",
    "# collecting terms\n",
    "collected_poly = sp.collect(poly, x)\n",
    "\n",
    "# extracting coefficient\n",
    "collected_poly.coeff(x)\n"
   ]
  },
  {
   "cell_type": "code",
   "execution_count": null,
   "metadata": {},
   "outputs": [],
   "source": [
    "collected_poly"
   ]
  },
  {
   "cell_type": "code",
   "execution_count": null,
   "metadata": {},
   "outputs": [],
   "source": []
  }
 ],
 "metadata": {
  "kernelspec": {
   "display_name": "bmcs_env2",
   "language": "python",
   "name": "python3"
  },
  "language_info": {
   "codemirror_mode": {
    "name": "ipython",
    "version": 3
   },
   "file_extension": ".py",
   "mimetype": "text/x-python",
   "name": "python",
   "nbconvert_exporter": "python",
   "pygments_lexer": "ipython3"
  }
 },
 "nbformat": 4,
 "nbformat_minor": 2
}
