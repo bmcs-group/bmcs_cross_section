{
 "cells": [
  {
   "cell_type": "markdown",
   "metadata": {
    "pycharm": {
     "name": "#%% md\n"
    }
   },
   "source": [
    "# Tree with state propagation"
   ]
  },
  {
   "cell_type": "code",
   "execution_count": null,
   "metadata": {
    "jupyter": {
     "outputs_hidden": false
    },
    "pycharm": {
     "name": "#%%\n"
    }
   },
   "outputs": [],
   "source": [
    "%matplotlib widget\n",
    "import bmcs_utils.api as bu\n",
    "import traits.api as tr\n",
    "import numpy as np"
   ]
  },
  {
   "cell_type": "markdown",
   "metadata": {},
   "source": [
    "## Eager versus lazy\n",
    "\n",
    "The eager version uses the event trait variable and propagates the change to the parents. As a consequence, any assignment to an attribute tagged as state variable results in the state propagation through the dependency tree. For applications that change the state in an interation loop, like equilibrium iteration or optimization process, this leads to an excessive number of repeated calls. \n",
    "\n",
    "## How to avoid repeated state change calls\n",
    "\n",
    "An event trait has no value. It can just be assigned. Therefore, it is impossible to detect if a change has already been handled by the parent or not. The goal is to allow for many changes in a child and let the parent react once there is a request from outside.\n",
    "\n",
    "An example of this type is a material law with the material parameters as its attributes."
   ]
  },
  {
   "cell_type": "code",
   "execution_count": null,
   "metadata": {},
   "outputs": [],
   "source": [
    "scd = False"
   ]
  },
  {
   "cell_type": "markdown",
   "metadata": {},
   "source": [
    "# Define a submodel"
   ]
  },
  {
   "cell_type": "code",
   "execution_count": null,
   "metadata": {},
   "outputs": [],
   "source": [
    "class Rectangle(bu.Model):\n",
    "    name = 'rectangle'\n",
    "    \n",
    "    length = bu.Float(2, GEO=True)\n",
    "    width = bu.Float(2, GEO=True)\n",
    "\n",
    "    A = tr.Property\n",
    "    def _get_A(self):\n",
    "        return self.length * self.width\n",
    "    \n",
    "    ipw_view = bu.View(\n",
    "        bu.Item('length'),\n",
    "        bu.Item('width')\n",
    "    )\n",
    "    \n",
    "class Circle(bu.Model):\n",
    "    name = 'circle'\n",
    "    \n",
    "    radius = bu.Float(2, GEO=True)\n",
    "\n",
    "    A = tr.Property\n",
    "    def _get_A(self):\n",
    "        return self.radius**2 * np.pi\n",
    "\n",
    "    ipw_view = bu.View(\n",
    "        bu.Item('radius')\n",
    "    )"
   ]
  },
  {
   "cell_type": "code",
   "execution_count": null,
   "metadata": {},
   "outputs": [],
   "source": [
    "class ReinfLayer(bu.Model):\n",
    "    name = 'layer'\n",
    "    css = bu.EitherType(options=[('rectangle', Rectangle),\n",
    "                                 ('circle', Circle)])\n",
    "    \n",
    "    A = tr.Property(bu.Float, depends_on='state_changed')\n",
    "    @tr.cached_property\n",
    "    def _get_A(self):\n",
    "        return self.css_.A\n",
    "\n",
    "    depends_on = ['css_']\n",
    "    ipw_view = bu.View(\n",
    "        bu.Item('css'),\n",
    "        bu.Item('A')\n",
    "    )"
   ]
  },
  {
   "cell_type": "code",
   "execution_count": null,
   "metadata": {},
   "outputs": [],
   "source": [
    "rl = ReinfLayer()\n",
    "rl.state_change_debug = scd\n",
    "# rl.interact()"
   ]
  },
  {
   "cell_type": "code",
   "execution_count": null,
   "metadata": {},
   "outputs": [],
   "source": [
    "changes = [('rectangle', 'length', 3),\n",
    "           ('circle', 'radius', 3),\n",
    "           ('rectangle', 'length', 5),\n",
    "           ('circle', 'radius', 3),\n",
    "           ('rectangle', 'length', 5),\n",
    "           ]\n",
    "for css_type, attr, value in changes:\n",
    "    print('-----------------------')\n",
    "    rl.reset_state_change()\n",
    "    print(css_type, attr, value)\n",
    "    rl.css = css_type\n",
    "    setattr(rl.css_, attr, value)\n",
    "    print('A', rl.A)\n",
    "    print('state_changes', rl.state_change_counter)"
   ]
  },
  {
   "cell_type": "markdown",
   "metadata": {
    "jupyter": {
     "outputs_hidden": false
    },
    "pycharm": {
     "name": "#%%\n"
    }
   },
   "source": [
    "# Test a dictionary"
   ]
  },
  {
   "cell_type": "code",
   "execution_count": null,
   "metadata": {},
   "outputs": [],
   "source": [
    "class CrossSectionLayout(bu.ModelDict):\n",
    "    name = 'Cross Section Layout'\n",
    "    "
   ]
  },
  {
   "cell_type": "code",
   "execution_count": null,
   "metadata": {},
   "outputs": [],
   "source": [
    "csl = CrossSectionLayout()\n",
    "csl.state_change_debug = False\n",
    "csl['one'] = ReinfLayer(css='rectangle')\n",
    "csl['two'] = ReinfLayer(css='circle')"
   ]
  },
  {
   "cell_type": "code",
   "execution_count": null,
   "metadata": {},
   "outputs": [],
   "source": [
    "class Beam(bu.Model):\n",
    "    name = 'Beam'\n",
    "    csl = bu.Instance(CrossSectionLayout, ())\n",
    "    tree = ['csl']\n",
    "    \n",
    "    sum_A = tr.Property(bu.Float, depends_on='state_changed')\n",
    "    @tr.cached_property\n",
    "    def _get_sum_A(self):\n",
    "        return sum( rl.A for rl in self.csl.items.values() ) \n",
    "\n",
    "    ipw_view = bu.View(\n",
    "        bu.Item('sum_A', readonly=True)\n",
    "    )"
   ]
  },
  {
   "cell_type": "code",
   "execution_count": null,
   "metadata": {},
   "outputs": [],
   "source": [
    "b = Beam(csl=csl)\n",
    "b.interact()"
   ]
  },
  {
   "cell_type": "code",
   "execution_count": null,
   "metadata": {},
   "outputs": [],
   "source": [
    "changes = [('rectangle', 'length', 3),\n",
    "           ('circle', 'radius', 3),\n",
    "           ('rectangle', 'length', 5),\n",
    "           ('circle', 'radius', 5),\n",
    "           ('rectangle', 'length', 5),\n",
    "           ]\n",
    "for css_type, attr, value in changes:\n",
    "    rl.reset_state_change()\n",
    "    print('-----------------------')\n",
    "    rl = b.csl['one']\n",
    "    print(css_type, attr, value)\n",
    "    rl.css = css_type\n",
    "    setattr(rl.css_, attr, value)\n",
    "    print('A', rl.A)\n",
    "    print('state_changes', rl.state_change_counter)"
   ]
  },
  {
   "cell_type": "code",
   "execution_count": null,
   "metadata": {},
   "outputs": [],
   "source": [
    "b.interact()"
   ]
  },
  {
   "cell_type": "code",
   "execution_count": null,
   "metadata": {},
   "outputs": [],
   "source": []
  }
 ],
 "metadata": {
  "kernelspec": {
   "display_name": "Python 3 (ipykernel)",
   "language": "python",
   "name": "python3"
  },
  "language_info": {
   "codemirror_mode": {
    "name": "ipython",
    "version": 3
   },
   "file_extension": ".py",
   "mimetype": "text/x-python",
   "name": "python",
   "nbconvert_exporter": "python",
   "pygments_lexer": "ipython3"
  }
 },
 "nbformat": 4,
 "nbformat_minor": 4
}
