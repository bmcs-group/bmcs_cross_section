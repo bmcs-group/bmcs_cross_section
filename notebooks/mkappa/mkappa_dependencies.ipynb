{
 "cells": [
  {
   "cell_type": "markdown",
   "metadata": {
    "pycharm": {
     "name": "#%% md\n"
    }
   },
   "source": [
    "# Moment-Curvature Verification\n",
    "This notebook is a verification report for the calculation of the Moment-Curvature with \"mkappa.py\" of the [bmcs_cross_section](https://github.com/bmcs-group/bmcs_cross_section) package.\n"
   ]
  },
  {
   "cell_type": "code",
   "execution_count": 1,
   "metadata": {
    "pycharm": {
     "name": "#%%\n"
    }
   },
   "outputs": [],
   "source": [
    "%matplotlib widget"
   ]
  },
  {
   "cell_type": "code",
   "execution_count": 2,
   "metadata": {
    "pycharm": {
     "name": "#%%\n"
    }
   },
   "outputs": [],
   "source": [
    "from bmcs_cross_section.api import MKappa\n",
    "from bmcs_cross_section.api import ReinfLayer, BarLayer\n",
    "from bmcs_utils.api import InteractiveWindow\n",
    "from bmcs_cross_section.cs_design.cs_shape import TShape\n",
    "import matplotlib.pyplot as plt\n",
    "from os.path import join\n",
    "import numpy as np\n",
    "import sympy as sp\n",
    "import pandas as pd\n",
    "import bmcs_utils.api as bu\n",
    "sp.init_printing()"
   ]
  },
  {
   "cell_type": "markdown",
   "metadata": {
    "pycharm": {
     "name": "#%% md\n"
    }
   },
   "source": [
    "## 1. Checking the model with its default parameters"
   ]
  },
  {
   "cell_type": "code",
   "execution_count": 3,
   "metadata": {
    "pycharm": {
     "name": "#%%\n"
    }
   },
   "outputs": [],
   "source": [
    "mc = MKappa()\n",
    "mc.state_change_debug = False\n",
    "bl1 = ReinfLayer(name='steel 1', z=10, A=100, count=2 )\n",
    "csl = mc.cross_section_layout\n",
    "csl['steel 1'] = bl1"
   ]
  },
  {
   "cell_type": "code",
   "execution_count": 4,
   "metadata": {
    "pycharm": {
     "name": "#%%\n"
    }
   },
   "outputs": [
    {
     "data": {
      "text/plain": "0",
      "image/png": "[encoded data removed]",
      "text/latex": "$\\displaystyle 0$"
     },
     "execution_count": 4,
     "metadata": {},
     "output_type": "execute_result"
    }
   ],
   "source": [
    "mc.reset_state_change()\n",
    "mc.M_t[-1]\n",
    "mc.state_change_counter"
   ]
  },
  {
   "cell_type": "code",
   "execution_count": 5,
   "metadata": {
    "pycharm": {
     "name": "#%%\n"
    }
   },
   "outputs": [
    {
     "data": {
      "text/plain": "5",
      "image/png": "[encoded data removed]",
      "text/latex": "$\\displaystyle 5$"
     },
     "execution_count": 5,
     "metadata": {},
     "output_type": "execute_result"
    }
   ],
   "source": [
    "mc.reset_state_change()\n",
    "bl1.matmod_.factor = 6\n",
    "mc.state_change_counter"
   ]
  },
  {
   "cell_type": "code",
   "execution_count": 6,
   "outputs": [
    {
     "data": {
      "text/plain": "5",
      "image/png": "[encoded data removed]",
      "text/latex": "$\\displaystyle 5$"
     },
     "execution_count": 6,
     "metadata": {},
     "output_type": "execute_result"
    }
   ],
   "source": [
    "mc.M_t[-1]\n",
    "mc.state_change_counter"
   ],
   "metadata": {
    "collapsed": false,
    "pycharm": {
     "name": "#%%\n"
    }
   }
  },
  {
   "cell_type": "code",
   "execution_count": 7,
   "metadata": {
    "pycharm": {
     "name": "#%%\n"
    }
   },
   "outputs": [
    {
     "name": "stdout",
     "output_type": "stream",
     "text": [
      "state_changes 5\n",
      "state_changes 5\n",
      "state_changes 5\n"
     ]
    }
   ],
   "source": [
    "for factor in [4,2,3]:\n",
    "    mc.reset_state_change()\n",
    "    bl1.matmod_.factor = factor\n",
    "    mc.M_t[-1]\n",
    "    print('state_changes', mc.state_change_counter)"
   ]
  },
  {
   "cell_type": "code",
   "execution_count": 8,
   "metadata": {
    "pycharm": {
     "name": "#%%\n"
    }
   },
   "outputs": [
    {
     "name": "stdout",
     "output_type": "stream",
     "text": [
      "state_changes 5\n",
      "state_changes 5\n",
      "state_changes 5\n"
     ]
    }
   ],
   "source": [
    "for f_sy in [510,600,800]:\n",
    "    mc.reset_state_change()\n",
    "    bl1.matmod_.f_sy = f_sy\n",
    "    mc.M_t[-1]\n",
    "    print('state_changes', mc.state_change_counter)"
   ]
  },
  {
   "cell_type": "code",
   "execution_count": 9,
   "metadata": {
    "pycharm": {
     "name": "#%%\n"
    }
   },
   "outputs": [
    {
     "name": "stdout",
     "output_type": "stream",
     "text": [
      "state_changes 3\n",
      "state_changes 3\n",
      "state_changes 3\n"
     ]
    }
   ],
   "source": [
    "for factor in [2,3,4]:\n",
    "    mc.reset_state_change()\n",
    "    mc.matrix_.factor = factor\n",
    "    mc.M_t[-1]\n",
    "    print('state_changes', mc.state_change_counter)"
   ]
  },
  {
   "cell_type": "code",
   "execution_count": 10,
   "metadata": {
    "pycharm": {
     "name": "#%%\n"
    }
   },
   "outputs": [
    {
     "data": {
      "text/plain": "VBox(children=(HBox(children=(VBox(children=(Tree(layout=Layout(align_items='stretch', border='solid 1px black…",
      "application/vnd.jupyter.widget-view+json": {
       "version_major": 2,
       "version_minor": 0,
       "model_id": "404addffcd034d91a5d1676d5c0573ff"
      }
     },
     "metadata": {},
     "output_type": "display_data"
    }
   ],
   "source": [
    "mc.interact()"
   ]
  },
  {
   "cell_type": "code",
   "execution_count": null,
   "metadata": {
    "pycharm": {
     "name": "#%%\n"
    }
   },
   "outputs": [],
   "source": []
  }
 ],
 "metadata": {
  "kernelspec": {
   "display_name": "Python 3 (ipykernel)",
   "language": "python",
   "name": "python3"
  },
  "language_info": {
   "codemirror_mode": {
    "name": "ipython",
    "version": 3
   },
   "file_extension": ".py",
   "mimetype": "text/x-python",
   "name": "python",
   "nbconvert_exporter": "python",
   "pygments_lexer": "ipython3",
   "version": "3.10.4"
  },
  "toc": {
   "base_numbering": 1,
   "nav_menu": {},
   "number_sections": true,
   "sideBar": true,
   "skip_h1_title": true,
   "title_cell": "Table of Contents",
   "title_sidebar": "Contents",
   "toc_cell": false,
   "toc_position": {},
   "toc_section_display": true,
   "toc_window_display": false
  }
 },
 "nbformat": 4,
 "nbformat_minor": 4
}