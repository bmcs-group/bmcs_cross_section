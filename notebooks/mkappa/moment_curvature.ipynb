{
 "cells": [
  {
   "cell_type": "markdown",
   "metadata": {},
   "source": [
    "# Moment curvature"
   ]
  },
  {
   "cell_type": "markdown",
   "metadata": {},
   "source": [
    "Introduction to `sympy`, `numpy` and `scipy` showing how to write\n",
    "semi-analytical models for the reinforced cross-sectional\n",
    "combinations.\n",
    "\n",
    "This notebook starts with the basic expressions for bending."
   ]
  },
  {
   "cell_type": "markdown",
   "metadata": {},
   "source": [
    "## Import modules"
   ]
  },
  {
   "cell_type": "code",
   "metadata": {
    "ExecuteTime": {
     "end_time": "2024-05-16T10:26:28.462889Z",
     "start_time": "2024-05-16T10:26:28.454992Z"
    }
   },
   "source": [
    "#%matplotlib widget\n",
    "import matplotlib.pyplot as plt\n",
    "import numpy as np\n",
    "import sympy as sp\n",
    "sp.init_printing()"
   ],
   "execution_count": 36,
   "outputs": []
  },
  {
   "cell_type": "code",
   "metadata": {
    "ExecuteTime": {
     "end_time": "2024-05-16T10:26:29.648590Z",
     "start_time": "2024-05-16T10:26:29.644063Z"
    }
   },
   "source": [
    "from scipy.optimize import newton, brentq, root"
   ],
   "execution_count": 37,
   "outputs": []
  },
  {
   "cell_type": "markdown",
   "metadata": {},
   "source": [
    "Introduce the cross sectional curvature $\\kappa$ which is equal to\n",
    "\\begin{align}\n",
    "\\kappa = \\frac{\\partial \\varepsilon_{xx}}{\\partial z}\n",
    "\\end{align}"
   ]
  },
  {
   "cell_type": "markdown",
   "metadata": {},
   "source": [
    "**Cross sectional parameters**"
   ]
  },
  {
   "cell_type": "code",
   "metadata": {
    "ExecuteTime": {
     "end_time": "2024-05-16T10:26:30.150193Z",
     "start_time": "2024-05-16T10:26:30.146424Z"
    }
   },
   "source": [
    "b, h = sp.symbols('b, h', nonnegative = True ) "
   ],
   "execution_count": 38,
   "outputs": []
  },
  {
   "cell_type": "code",
   "metadata": {
    "ExecuteTime": {
     "end_time": "2024-05-16T10:26:30.328718Z",
     "start_time": "2024-05-16T10:26:30.317788Z"
    }
   },
   "source": [
    "kappa = sp.Symbol('kappa', real=True, nonpositive=True)"
   ],
   "execution_count": 39,
   "outputs": []
  },
  {
   "cell_type": "markdown",
   "metadata": {},
   "source": [
    "**Parameters of the constitutive law**"
   ]
  },
  {
   "cell_type": "code",
   "metadata": {
    "ExecuteTime": {
     "end_time": "2024-05-16T10:26:30.769391Z",
     "start_time": "2024-05-16T10:26:30.753854Z"
    }
   },
   "source": [
    "E_ct, E_cc, eps_cr, eps_fail, sigma_pc = sp.symbols(\n",
    "    r'E_ct, E_cc, varepsilon_cr, varepsilon_fail, sigma_pc', \n",
    "    real=True, nonnegative=True\n",
    ")"
   ],
   "execution_count": 40,
   "outputs": []
  },
  {
   "cell_type": "code",
   "metadata": {
    "ExecuteTime": {
     "end_time": "2024-05-16T10:26:30.992126Z",
     "start_time": "2024-05-16T10:26:30.979894Z"
    }
   },
   "source": [
    "eps_yield, eps_c_fail = sp.symbols(\n",
    "    r'varepsilon_y, eps_c_fail', real=True, nonpositive=True\n",
    ")"
   ],
   "execution_count": 41,
   "outputs": []
  },
  {
   "cell_type": "markdown",
   "metadata": {},
   "source": [
    "**Linear profile** of strain over the height"
   ]
  },
  {
   "cell_type": "code",
   "metadata": {
    "ExecuteTime": {
     "end_time": "2024-05-16T10:26:31.503202Z",
     "start_time": "2024-05-16T10:26:31.496386Z"
    }
   },
   "source": [
    "eps_top = sp.symbols(\n",
    "    'varepsilon_top', real=True, nonpositive=True )\n",
    "eps_bot = sp.symbols(\n",
    "    'varepsilon_bot', real=True, nonnegative=True )\n",
    "z = sp.symbols('z', nonnegative = True )"
   ],
   "execution_count": 42,
   "outputs": []
  },
  {
   "cell_type": "code",
   "metadata": {
    "ExecuteTime": {
     "end_time": "2024-05-16T10:26:31.831794Z",
     "start_time": "2024-05-16T10:26:31.766943Z"
    }
   },
   "source": [
    "eps_z = eps_bot + z * (eps_top - eps_bot) / h\n",
    "eps_z"
   ],
   "execution_count": 43,
   "outputs": []
  },
  {
   "cell_type": "markdown",
   "metadata": {},
   "source": [
    "## Constitutive law"
   ]
  },
  {
   "cell_type": "code",
   "metadata": {
    "ExecuteTime": {
     "end_time": "2024-05-16T10:26:35.633806Z",
     "start_time": "2024-05-16T10:26:35.626437Z"
    }
   },
   "source": [
    "eps = sp.Symbol('varepsilon', real=True )"
   ],
   "execution_count": 44,
   "outputs": []
  },
  {
   "cell_type": "code",
   "metadata": {
    "ExecuteTime": {
     "end_time": "2024-05-16T10:26:36.350126Z",
     "start_time": "2024-05-16T10:26:36.308127Z"
    }
   },
   "source": [
    "sig = b * sp.Piecewise(\n",
    "    (0, eps < eps_c_fail),\n",
    "    (E_cc * eps_yield, eps < eps_yield),\n",
    "    (E_cc * eps, eps < 0), \n",
    "    (E_ct * eps, eps < eps_cr),\n",
    "    (sigma_pc, eps < eps_fail),\n",
    "    (0, eps >= eps_fail)\n",
    ")\n",
    "sig"
   ],
   "execution_count": 45,
   "outputs": []
  },
  {
   "cell_type": "markdown",
   "metadata": {},
   "source": [
    "**Define the material data:**"
   ]
  },
  {
   "cell_type": "code",
   "metadata": {
    "ExecuteTime": {
     "end_time": "2024-05-16T10:26:38.130413Z",
     "start_time": "2024-05-16T10:26:38.119622Z"
    }
   },
   "source": [
    "model_data = {\n",
    "    b : 50,\n",
    "    h : 100,\n",
    "    E_ct : 24000, E_cc : 25000, \n",
    "    eps_cr : 0.001, \n",
    "    eps_yield:-0.003, \n",
    "    eps_c_fail:-0.01, \n",
    "    sigma_pc:10,\n",
    "    eps_fail : 0.003\n",
    "}"
   ],
   "execution_count": 46,
   "outputs": []
  },
  {
   "cell_type": "markdown",
   "metadata": {},
   "source": [
    "Hint - use the param tuple with conversion utilities to generate the `get_function`"
   ]
  },
  {
   "cell_type": "code",
   "metadata": {
    "ExecuteTime": {
     "end_time": "2024-05-16T10:26:39.093763Z",
     "start_time": "2024-05-16T10:26:39.053883Z"
    }
   },
   "source": [
    "sig.subs(model_data)"
   ],
   "execution_count": 47,
   "outputs": []
  },
  {
   "cell_type": "code",
   "metadata": {
    "ExecuteTime": {
     "end_time": "2024-05-16T10:26:39.572275Z",
     "start_time": "2024-05-16T10:26:39.563261Z"
    }
   },
   "source": [
    "get_sig_eps = sp.lambdify(eps, sig.subs(model_data), 'numpy' )"
   ],
   "execution_count": 48,
   "outputs": []
  },
  {
   "cell_type": "markdown",
   "metadata": {},
   "source": [
    "**Plot the material behavior**"
   ]
  },
  {
   "cell_type": "code",
   "metadata": {
    "hide_input": false,
    "ExecuteTime": {
     "end_time": "2024-05-16T10:26:40.857646Z",
     "start_time": "2024-05-16T10:26:40.556236Z"
    }
   },
   "source": [
    "eps_min, eps_max = -0.012, 0.005\n",
    "fig, ax1 = plt.subplots(1,1, figsize=(8,3.5)) \n",
    "eps_data = np.linspace(eps_min, eps_max, 1000)\n",
    "ax1.plot(eps_data, get_sig_eps(eps_data),color='black')\n",
    "ax1.fill_between(eps_data, get_sig_eps(eps_data),color='black', alpha=0.1)\n",
    "ax1.set_xlabel(r'$\\varepsilon\\;\\;\\mathrm{[mm]}$'); ax1.set_ylabel(r'$\\sigma\\;\\;\\mathrm{[MPa]}$'); \n",
    "ax1.set_title('concrete behhavior');"
   ],
   "execution_count": 49,
   "outputs": []
  },
  {
   "cell_type": "markdown",
   "metadata": {
    "hide_input": true
   },
   "source": [
    "**Stress over the cross section**"
   ]
  },
  {
   "cell_type": "code",
   "metadata": {
    "ExecuteTime": {
     "end_time": "2024-05-16T10:26:41.706368Z",
     "start_time": "2024-05-16T10:26:41.606503Z"
    }
   },
   "source": [
    "eps_z"
   ],
   "execution_count": 50,
   "outputs": []
  },
  {
   "cell_type": "code",
   "metadata": {
    "ExecuteTime": {
     "end_time": "2024-05-16T10:26:42.195031Z",
     "start_time": "2024-05-16T10:26:42.116825Z"
    }
   },
   "source": [
    "sig_z = sig.subs(eps, eps_z)\n",
    "sig_z"
   ],
   "execution_count": 51,
   "outputs": []
  },
  {
   "cell_type": "markdown",
   "metadata": {},
   "source": [
    "Express $\\varepsilon_\\mathrm{top}$ as a function of $\\kappa$ and $\\varepsilon_\\mathrm{bot}$"
   ]
  },
  {
   "cell_type": "code",
   "metadata": {
    "ExecuteTime": {
     "end_time": "2024-05-16T10:26:43.753393Z",
     "start_time": "2024-05-16T10:26:43.643762Z"
    }
   },
   "source": [
    "kappa_eq_ = sp.Eq(kappa, eps_z.diff(z))\n",
    "kappa_eq_"
   ],
   "execution_count": 52,
   "outputs": []
  },
  {
   "cell_type": "code",
   "metadata": {
    "ExecuteTime": {
     "end_time": "2024-05-16T10:26:44.340439Z",
     "start_time": "2024-05-16T10:26:44.240Z"
    }
   },
   "source": [
    "eps_top_solved_ = sp.solve(kappa_eq_, eps_top)[0]\n",
    "eps_top_solved_"
   ],
   "execution_count": 53,
   "outputs": []
  },
  {
   "cell_type": "code",
   "metadata": {
    "ExecuteTime": {
     "end_time": "2024-05-16T10:26:44.900271Z",
     "start_time": "2024-05-16T10:26:44.813529Z"
    }
   },
   "source": [
    "subs_eps_top_ = {eps_top : eps_top_solved_}\n",
    "subs_eps_top_"
   ],
   "execution_count": 54,
   "outputs": []
  },
  {
   "cell_type": "code",
   "metadata": {
    "ExecuteTime": {
     "end_time": "2024-05-16T10:26:45.504301Z",
     "start_time": "2024-05-16T10:26:45.435277Z"
    }
   },
   "source": [
    "eps_z.subs(subs_eps_top_)"
   ],
   "execution_count": 55,
   "outputs": []
  },
  {
   "cell_type": "code",
   "metadata": {
    "ExecuteTime": {
     "end_time": "2024-05-16T10:26:46.084039Z",
     "start_time": "2024-05-16T10:26:46.072204Z"
    }
   },
   "source": [
    "get_eps_z = sp.lambdify(\n",
    "    (kappa, eps_bot, z), eps_z.subs(subs_eps_top_), 'numpy'\n",
    ")"
   ],
   "execution_count": 56,
   "outputs": []
  },
  {
   "cell_type": "markdown",
   "metadata": {},
   "source": [
    "Use the substitution in expression of stresses over the height"
   ]
  },
  {
   "cell_type": "code",
   "metadata": {
    "ExecuteTime": {
     "end_time": "2024-05-16T10:26:47.438069Z",
     "start_time": "2024-05-16T10:26:47.363907Z"
    }
   },
   "source": [
    "sig_z_lin = sig_z.subs(subs_eps_top_)\n",
    "sig_z_lin"
   ],
   "execution_count": 57,
   "outputs": []
  },
  {
   "cell_type": "markdown",
   "metadata": {},
   "source": [
    "# Reinforcement bar\n",
    "Define a position of a bar $z_i$ with associated area $A_i$ and E-Modulus $E_i$."
   ]
  },
  {
   "cell_type": "code",
   "metadata": {
    "ExecuteTime": {
     "end_time": "2024-05-16T10:26:48.097982Z",
     "start_time": "2024-05-16T10:26:48.088821Z"
    }
   },
   "source": [
    "z_i = np.array([10], dtype=np.float_)\n",
    "A_i = np.array([[np.pi * (16/2.)**2]], dtype=np.float_)\n",
    "E_i = np.array([[210000]], dtype=np.float_)"
   ],
   "execution_count": 58,
   "outputs": []
  },
  {
   "cell_type": "markdown",
   "metadata": {},
   "source": [
    "# Model data"
   ]
  },
  {
   "cell_type": "code",
   "metadata": {
    "ExecuteTime": {
     "end_time": "2024-05-16T10:26:50.711563Z",
     "start_time": "2024-05-16T10:26:50.545910Z"
    }
   },
   "source": [
    "model_data"
   ],
   "execution_count": 59,
   "outputs": []
  },
  {
   "cell_type": "code",
   "metadata": {
    "ExecuteTime": {
     "end_time": "2024-05-16T10:26:51.366586Z",
     "start_time": "2024-05-16T10:26:51.302092Z"
    }
   },
   "source": [
    "sig_z_lin.subs(model_data)"
   ],
   "execution_count": 60,
   "outputs": []
  },
  {
   "cell_type": "code",
   "metadata": {
    "ExecuteTime": {
     "end_time": "2024-05-16T10:26:52.040801Z",
     "start_time": "2024-05-16T10:26:52.013662Z"
    }
   },
   "source": [
    "get_sig_z = sp.lambdify(\n",
    "    (kappa, eps_bot, z), sig_z_lin.subs(model_data), 'numpy'\n",
    ")"
   ],
   "execution_count": 61,
   "outputs": []
  },
  {
   "cell_type": "markdown",
   "metadata": {},
   "source": [
    "# Stress resultants"
   ]
  },
  {
   "cell_type": "code",
   "metadata": {
    "ExecuteTime": {
     "end_time": "2024-05-16T10:26:54.236682Z",
     "start_time": "2024-05-16T10:26:54.219401Z"
    }
   },
   "source": [
    "z_arr = np.linspace(0, 100, 100)"
   ],
   "execution_count": 62,
   "outputs": []
  },
  {
   "cell_type": "code",
   "metadata": {
    "ExecuteTime": {
     "end_time": "2024-05-16T10:26:55.448003Z",
     "start_time": "2024-05-16T10:26:55.433378Z"
    }
   },
   "source": [
    "def get_N_s(kappa, eps_bot):\n",
    "    eps_z_i = get_eps_z(\n",
    "        kappa[:,np.newaxis], eps_bot[:,np.newaxis], z_i[np.newaxis,:], \n",
    "    )\n",
    "    N_s = np.sum(E_i * A_i * eps_z_i, axis=-1)\n",
    "    return N_s\n",
    "\n",
    "def get_N_c(kappa, eps_bot, get_sig_z=get_sig_z):\n",
    "    zz_arr = z_arr[np.newaxis,:]\n",
    "    sig_z_arr = get_sig_z(kappa[:,np.newaxis], eps_bot[:,np.newaxis], \n",
    "                          zz_arr)\n",
    "    return np.trapz(sig_z_arr, x=zz_arr, axis=-1 )\n",
    "\n",
    "def get_N(phi, eps_bot, get_sig_z=get_sig_z):\n",
    "    return get_N_c(phi, eps_bot, get_sig_z) + get_N_s(phi, eps_bot)"
   ],
   "execution_count": 63,
   "outputs": []
  },
  {
   "cell_type": "code",
   "metadata": {
    "ExecuteTime": {
     "end_time": "2024-05-16T10:26:56.447293Z",
     "start_time": "2024-05-16T10:26:56.434451Z"
    }
   },
   "source": [
    "get_eps_z(np.array([0.01]), np.array([0.01]), np.array([10]))"
   ],
   "execution_count": 64,
   "outputs": []
  },
  {
   "cell_type": "code",
   "metadata": {
    "ExecuteTime": {
     "end_time": "2024-05-16T10:26:57.252710Z",
     "start_time": "2024-05-16T10:26:57.230452Z"
    }
   },
   "source": [
    "def get_M_s(kappa, eps_bot):\n",
    "    eps_z_i = get_eps_z(\n",
    "        kappa[:,np.newaxis], eps_bot[:,np.newaxis], z_i[np.newaxis,:], \n",
    "    )\n",
    "    return np.sum((E_i * A_i * eps_z_i) * z_i, axis=-1)\n",
    "    \n",
    "def get_M_c(kappa, eps_bot):\n",
    "    zz_arr = z_arr[np.newaxis,:]\n",
    "    sig_z_arr = get_sig_z(kappa[:,np.newaxis], eps_bot[:,np.newaxis], \n",
    "                          zz_arr)\n",
    "    return np.trapz(sig_z_arr*zz_arr, x=zz_arr, axis=-1 )\n",
    "\n",
    "def get_M(kappa, eps_bot):\n",
    "    return get_M_c(kappa, eps_bot) + get_M_s(kappa, eps_bot)"
   ],
   "execution_count": 65,
   "outputs": []
  },
  {
   "cell_type": "markdown",
   "metadata": {},
   "source": [
    "# Solution procedure\n",
    "ind strain $\\varepsilon_\\mathrm{bot}$ that renders zero normal force $N = 0$ for a given $\\kappa$ "
   ]
  },
  {
   "cell_type": "code",
   "metadata": {
    "ExecuteTime": {
     "end_time": "2024-05-16T10:27:00.218266Z",
     "start_time": "2024-05-16T10:27:00.212226Z"
    }
   },
   "source": [
    "def get_eps_bot( kappa ):\n",
    "    res = root( lambda eps_bot: get_N(kappa, eps_bot), \n",
    "                  np.zeros_like(kappa), tol=1e-10 )\n",
    "    return res.x"
   ],
   "execution_count": 66,
   "outputs": []
  },
  {
   "cell_type": "code",
   "metadata": {
    "ExecuteTime": {
     "end_time": "2024-05-16T10:27:01.358533Z",
     "start_time": "2024-05-16T10:27:01.339609Z"
    }
   },
   "source": [
    "def get_eps_bot( kappa ):\n",
    "    eps_bot_0 = np.zeros_like(kappa)\n",
    "\n",
    "    def get_N_iter(eps_bot):\n",
    "        return get_N(kappa, eps_bot)\n",
    "    \n",
    "    res = root( get_N_iter, eps_bot_0, tol=1e-10)\n",
    "    return res.x"
   ],
   "execution_count": 67,
   "outputs": []
  },
  {
   "cell_type": "markdown",
   "metadata": {},
   "source": [
    "**Define range of curvatures**"
   ]
  },
  {
   "cell_type": "code",
   "metadata": {
    "ExecuteTime": {
     "end_time": "2024-05-16T10:27:04.146795Z",
     "start_time": "2024-05-16T10:27:04.140157Z"
    }
   },
   "source": [
    "kappa_arr = np.linspace(-0.001,0.001,101)"
   ],
   "execution_count": 68,
   "outputs": []
  },
  {
   "cell_type": "code",
   "metadata": {
    "ExecuteTime": {
     "end_time": "2024-05-16T10:27:05.074212Z",
     "start_time": "2024-05-16T10:27:05.050844Z"
    }
   },
   "source": [
    "eps_z_arr = get_eps_z(\n",
    "    kappa_arr[:,np.newaxis], eps_bot_arr[:,np.newaxis], z_arr[np.newaxis,:],\n",
    ")\n",
    "sig_z_arr = get_sig_z(\n",
    "    kappa_arr[:,np.newaxis], eps_bot_arr[:,np.newaxis], z_arr[np.newaxis,:], \n",
    ")"
   ],
   "execution_count": 69,
   "outputs": []
  },
  {
   "cell_type": "code",
   "metadata": {
    "ExecuteTime": {
     "end_time": "2024-05-16T10:25:42.244210Z",
     "start_time": "2024-05-16T10:25:42.244210Z"
    }
   },
   "source": [
    "M_arr = get_M(kappa_arr, eps_bot_arr)"
   ],
   "execution_count": null,
   "outputs": []
  },
  {
   "cell_type": "code",
   "metadata": {
    "ExecuteTime": {
     "end_time": "2024-05-16T10:25:42.253220Z",
     "start_time": "2024-05-16T10:25:42.253220Z"
    }
   },
   "source": [
    "idx = 8\n",
    "fig, ((ax1, ax2)) = plt.subplots(1, 2, figsize=(8,5))\n",
    "ax1.plot(kappa_arr, M_arr)\n",
    "ax1.plot(kappa_arr[idx], M_arr[idx], marker='o')\n",
    "ax2.plot(eps_z_arr[idx,:], z_arr, color='red', label=r'\\varepsilon');\n",
    "#ax2.fill_between(eps_z_arr[idx,:], z_arr, 0, alpha=0.1);\n",
    "ax3 = ax2.twiny()\n",
    "ax3.plot(sig_z_arr[idx,:], z_arr);\n",
    "#ax3.fill_between(sig_z_arr[idx,:], z_arr, 0, alpha=0.1);"
   ],
   "execution_count": null,
   "outputs": []
  },
  {
   "cell_type": "markdown",
   "metadata": {},
   "source": [
    "# Class maintaining state and dependencies"
   ]
  },
  {
   "cell_type": "code",
   "metadata": {},
   "source": [
    "import traits.api as tr"
   ],
   "execution_count": null,
   "outputs": []
  },
  {
   "cell_type": "code",
   "metadata": {},
   "source": [
    "class MomentCurvature(tr.HasStrictTraits):\n",
    "    r'''Class returning the moment curvature relationship.\n",
    "    '''\n",
    "    model_params = tr.Dict({\n",
    "        b : 50,\n",
    "        h : 100,\n",
    "        E_ct : 24000, E_cc : 25000, \n",
    "        eps_cr : 0.001, \n",
    "        eps_yield:-0.003, \n",
    "        eps_c_fail:-0.01, \n",
    "        sigma_pc:10,\n",
    "        eps_fail : 0.003\n",
    "    })\n",
    "    \n",
    "    # Reinforcement\n",
    "    z_i = tr.Array(np.float_, value=[10])\n",
    "    A_i = tr.Array(np.float_, value=[[np.pi * (16/2.)**2]])\n",
    "    E_i = tr.Array(np.float_, value=[[210000]])\n",
    "    \n",
    "    z_arr = tr.Property(depends_on='model_params_items')\n",
    "    @tr.cached_property\n",
    "    def _get_z_arr(self):\n",
    "        return np.linspace(0,self.model_params[h],100)\n",
    "\n",
    "    kappa_range = tr.Tuple(-0.001,0.001,101)\n",
    "    \n",
    "    kappa = tr.Property( tr.Array(np.float_), depends_on='kappa_range' )\n",
    "    @tr.cached_property\n",
    "    def _get_kappa(self):\n",
    "        return np.linspace(*self.kappa_range)\n",
    "\n",
    "    get_eps_z = tr.Property(depends_on='model_params_items')\n",
    "    @tr.cached_property\n",
    "    def _get_get_eps_z(self):\n",
    "        return sp.lambdify(\n",
    "            (kappa, eps_bot, z), eps_z.subs(subs_eps), 'numpy'\n",
    "        )\n",
    "    \n",
    "    get_sig_z = tr.Property(depends_on='model_params_items')\n",
    "    @tr.cached_property\n",
    "    def _get_get_sig_z(self):\n",
    "        return sp.lambdify(\n",
    "            (kappa, eps_bot, z), sig_z_lin.subs(self.model_params), 'numpy'\n",
    "        )\n",
    "    \n",
    "    # Normal force\n",
    "    def get_N_s(self, kappa, eps_bot):\n",
    "        eps_z_i = get_eps_z(\n",
    "            kappa[:,np.newaxis], eps_bot[:,np.newaxis], self.z_i[np.newaxis,:], \n",
    "        )\n",
    "        return np.sum(self.E_i * self.A_i * eps_z_i, axis=-1)\n",
    "\n",
    "    def get_N_c(self, kappa, eps_bot):\n",
    "        zz_arr = self.z_arr[np.newaxis,:]\n",
    "        sig_z_arr = self.get_sig_z(kappa[:,np.newaxis], eps_bot[:,np.newaxis], \n",
    "                                  zz_arr)\n",
    "        return np.trapz(sig_z_arr, x=zz_arr, axis=-1 )\n",
    "\n",
    "    def get_N(self, kappa, eps_bot):\n",
    "        return get_N_c(kappa, eps_bot) + get_N_s(kappa, eps_bot)    \n",
    " \n",
    "    eps_bot = tr.Property()\n",
    "    r'''Resolve the tensile strain to get zero normal force \n",
    "    for the prescribed curvature\n",
    "    '''\n",
    "    def _get_eps_bot( self ):\n",
    "        res = root( lambda eps_bot: self.get_N(self.kappa, eps_bot), \n",
    "                      np.zeros_like(self.kappa), tol=1e-10 )\n",
    "        return res.x \n",
    "    \n",
    "    M_s = tr.Property()\n",
    "    def _get_M_s(self):\n",
    "        eps_z_i = self.get_eps_z(\n",
    "            self.kappa[:,np.newaxis], self.eps_bot[:,np.newaxis], \n",
    "            self.z_i[np.newaxis,:], \n",
    "        )\n",
    "        return np.sum((self.E_i * self.A_i * eps_z_i) * self.z_i, axis=-1)\n",
    "\n",
    "    M_c = tr.Property()\n",
    "    def _get_M_c(self):\n",
    "        zz_arr = self.z_arr[np.newaxis,:]\n",
    "        sig_z_arr = self.get_sig_z(\n",
    "            self.kappa[:,np.newaxis], self.eps_bot[:,np.newaxis], zz_arr)\n",
    "        return np.trapz(sig_z_arr*zz_arr, x=zz_arr, axis=-1 )\n",
    "\n",
    "    M_arr = tr.Property()\n",
    "    def _get_M_arr(self):\n",
    "        return self.M_c + self.M_s\n",
    "    \n",
    "    eps_z_arr = tr.Property()\n",
    "    def _get_eps_z_arr(self):\n",
    "        return get_eps_z(\n",
    "            self.kappa[:,np.newaxis], self.eps_bot[:,np.newaxis], \n",
    "            self.z_arr[np.newaxis,:],\n",
    "        )\n",
    "    \n",
    "    sig_z_arr = tr.Property()\n",
    "    def _get_sig_z_arr(self):\n",
    "        return get_sig_z(\n",
    "            self.kappa[:,np.newaxis], self.eps_bot[:,np.newaxis], \n",
    "            self.z_arr[np.newaxis,:], \n",
    "        )\n",
    "    \n",
    "    def get_kappa(self, M):\n",
    "        # cut off the descending tails\n",
    "        I_M = np.where(self.M_arr[1:] - self.M_arr[:-1] > 0)\n",
    "        M_I = self.M_arr[I_M]\n",
    "        kappa_I = self.kappa_arr[I_M]\n",
    "        return np.interp(M, M_I, kappa_I)\n",
    "        \n",
    "    idx = tr.Int(0)\n",
    "    def plot(self):\n",
    "        idx = self.idx\n",
    "        fig, ((ax1, ax2)) = plt.subplots(1, 2, figsize=(10,5))\n",
    "        ax1.plot(self.kappa, self.M_arr)\n",
    "        ax1.fill_between(self.kappa, self.M_arr, 0, alpha=0.1);\n",
    "        ax1.plot(self.kappa[idx], self.M_arr[idx], marker='o')\n",
    "        ax2.plot(self.eps_z_arr[idx,:], self.z_arr);\n",
    "#        ax2.fill_between(self.eps_z_arr[idx,:], self.z_arr, 0, alpha=0.1);\n",
    "        ax3 = ax2.twiny()\n",
    "        ax3.plot(self.sig_z_arr[idx,:], self.z_arr);\n",
    "        #ax3.fill_between(sig_z_arr[idx,:], z_arr, 0, alpha=0.1);"
   ],
   "execution_count": null,
   "outputs": []
  },
  {
   "cell_type": "code",
   "metadata": {
    "pycharm": {
     "name": "#%%\n"
    }
   },
   "source": [
    "mc = MomentCurvature(idx=43, kappa_range=(-0.0002,0.0001,100))\n",
    "mc.plot()"
   ],
   "execution_count": null,
   "outputs": []
  },
  {
   "cell_type": "code",
   "metadata": {
    "pycharm": {
     "name": "#%%\n"
    }
   },
   "source": [],
   "execution_count": null,
   "outputs": []
  },
  {
   "cell_type": "code",
   "metadata": {},
   "source": [],
   "execution_count": null,
   "outputs": []
  }
 ],
 "metadata": {
  "kernelspec": {
   "display_name": "bmcs_env2",
   "language": "python",
   "name": "python3"
  },
  "language_info": {
   "codemirror_mode": {
    "name": "ipython",
    "version": 3
   },
   "file_extension": ".py",
   "mimetype": "text/x-python",
   "name": "python",
   "nbconvert_exporter": "python",
   "pygments_lexer": "ipython3"
  },
  "toc": {
   "base_numbering": 1,
   "nav_menu": {},
   "number_sections": true,
   "sideBar": true,
   "skip_h1_title": false,
   "title_cell": "Table of Contents",
   "title_sidebar": "Contents",
   "toc_cell": false,
   "toc_position": {
    "height": "calc(100% - 180px)",
    "left": "10px",
    "top": "150px",
    "width": "165px"
   },
   "toc_section_display": true,
   "toc_window_display": true
  }
 },
 "nbformat": 4,
 "nbformat_minor": 4
}
