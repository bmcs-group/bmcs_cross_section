{
 "cells": [
  {
   "cell_type": "markdown",
   "id": "7659d557-df4f-41f2-9950-8d5bb82d72da",
   "metadata": {},
   "source": [
    "# Prestressed reinforcement"
   ]
  },
  {
   "cell_type": "markdown",
   "id": "d0845a0c-7aea-4561-927d-bcb4a22b852b",
   "metadata": {},
   "source": [
    "## Steel"
   ]
  },
  {
   "cell_type": "code",
   "execution_count": null,
   "id": "6ca1e418-ad59-4bd4-889e-4f3bf9e801cc",
   "metadata": {},
   "outputs": [],
   "source": [
    "%matplotlib widget\n",
    "from bmcs_cross_section.api import ReinfLayer, BarLayer, MKappa, TShape\n",
    "mc = MKappa(low_kappa=-0.000005, high_kappa=0.00004)\n",
    "mc.cs_design.cross_section_shape_.trait_set(H=800, B=300)\n",
    "mc.cs_design.concrete.compression = 'EC2 with plateau'"
   ]
  },
  {
   "cell_type": "code",
   "execution_count": null,
   "id": "f6a9e33e-c0c1-47cf-9c70-5e296559795a",
   "metadata": {},
   "outputs": [],
   "source": [
    "mc.cs_design.concrete.compression_.trait_set(\n",
    "    f_c = 14.8, eps_cy=-0.0035, eps_cu=-0.006, E_cc=350000\n",
    ")\n",
    "mc.cs_design.concrete.tension_.trait_set(mu=0)\n",
    "bl1 = BarLayer(name='steel 1', z=50, count=4, ds=20, eps_0 = 0.002 )\n",
    "bl1.matmod_.trait_set(f_sy = 435, f_st = 435)\n",
    "mc.cross_section_layout.add_layer(bl1)\n",
    "mc.interact()"
   ]
  },
  {
   "cell_type": "markdown",
   "id": "b41af4a8-0344-433d-995c-e7c4d2de09c1",
   "metadata": {},
   "source": [
    "## Carbon"
   ]
  },
  {
   "cell_type": "code",
   "execution_count": null,
   "id": "e2bed3bb-4558-4c0e-9ba4-cd45baea8297",
   "metadata": {},
   "outputs": [],
   "source": [
    "mc = MKappa(low_kappa = -0.000005,\n",
    "            high_kappa = 0.0002)\n",
    "mc.cross_section_shape_.trait_set(B = 90, H = 60)\n",
    "mc.cs_design.concrete.compression = 'EC2 with plateau'\n",
    "bl1 = ReinfLayer(name='carbon 1', matmod='carbon', z=8, A=2*3.62, eps_0=0.001)\n",
    "bl1.matmod_.trait_set(f_t = 2000, E=240000)\n",
    "mc.cross_section_layout.add_layer(bl1)\n",
    "# bl2 = BarLayer(name='carbon 2', matmod='carbon', z=50, count=2, eps_0=0.001)\n",
    "# bl2.matmod_.trait_set(f_t = 2000, E=240000)\n",
    "# mc.cross_section_layout.add_layer(bl2)\n",
    "mc.interact()"
   ]
  },
  {
   "cell_type": "markdown",
   "id": "2d7be0f5-2733-4d5f-ac8f-e7afdf79aeb1",
   "metadata": {},
   "source": [
    "If the strain in concrete $\\varepsilon_\\mathrm{c} = 0$, then the reinforcement strain $\\varepsilon_\\mathrm{f} = \\varepsilon_0$"
   ]
  },
  {
   "cell_type": "markdown",
   "id": "ccaed314-7917-468e-83f7-8be1e14e4a05",
   "metadata": {},
   "source": [
    "As a consequence, the corresponding stress is then obtained using the materia law \n",
    "$$\\sigma_0 = \\varsigma(\\varepsilon_0)\n",
    "$$"
   ]
  },
  {
   "cell_type": "markdown",
   "id": "b4a4dec5-8eb5-49bb-b543-c01fdff8ff29",
   "metadata": {},
   "source": [
    "## Range of strain profiles"
   ]
  },
  {
   "cell_type": "markdown",
   "id": "ed5c23ea-f67b-434d-9047-2abd71e3ac25",
   "metadata": {},
   "source": [
    "The level of prestressing is limited by the lower and upper bound\n",
    " - avoid matrix cracking in the prestressing state\n",
    " - avoid reinforcement rupture at ultimate state"
   ]
  },
  {
   "cell_type": "code",
   "execution_count": null,
   "id": "3fb35c07-c9b5-42c1-ade0-55a58983a6d9",
   "metadata": {},
   "outputs": [],
   "source": [
    "eps_c_cr = mc.cs_design.concrete.tension_.eps_cr"
   ]
  },
  {
   "cell_type": "markdown",
   "id": "091a27c7-81ff-4169-9c69-529c0d7916cb",
   "metadata": {},
   "source": [
    "Identify the range of admissible strains "
   ]
  },
  {
   "cell_type": "code",
   "execution_count": null,
   "id": "d981219b-c936-4c2e-904a-3314a449626c",
   "metadata": {},
   "outputs": [],
   "source": [
    "mc.cs_design.cross_section_layout.z_j"
   ]
  },
  {
   "cell_type": "code",
   "execution_count": null,
   "id": "ecf57b62-89e6-4943-ae30-00af44f3886c",
   "metadata": {},
   "outputs": [],
   "source": []
  }
 ],
 "metadata": {
  "kernelspec": {
   "display_name": "bmcs_env2",
   "language": "python",
   "name": "python3"
  },
  "language_info": {
   "codemirror_mode": {
    "name": "ipython",
    "version": 3
   },
   "file_extension": ".py",
   "mimetype": "text/x-python",
   "name": "python",
   "nbconvert_exporter": "python",
   "pygments_lexer": "ipython3"
  }
 },
 "nbformat": 4,
 "nbformat_minor": 5
}
