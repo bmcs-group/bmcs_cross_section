{
 "cells": [
  {
   "cell_type": "code",
   "execution_count": 17,
   "id": "compound-animation",
   "metadata": {},
   "outputs": [],
   "source": [
    "from bmcs_cross_section.mkappa.mkappa import MKappa\n",
    "from bmcs_utils.api import InteractiveWindow\n",
    "from bmcs_cross_section.cs_design.cs_shape import TShape\n",
    "import matplotlib.pyplot as plt\n",
    "from os.path import join\n",
    "import numpy as np\n",
    "import sympy as sp\n",
    "import pandas as pd\n",
    "sp.init_printing()"
   ]
  },
  {
   "cell_type": "markdown",
   "id": "adapted-veteran",
   "metadata": {},
   "source": [
    "- In our implementation `k = - d(eps_z)/dz = (eps_bot - eps_top / h)` which gives positive kappa for simply supported beam.\n",
    "- In the original moment_curvature.py file the constraints where \\\n",
    "`kappa = sp.Symbol('kappa', real=True, nonpositive=True)\n",
    "eps_top = sp.symbols('varepsilon_top', real=True, nonpositive=True )\n",
    "eps_bot = sp.symbols('varepsilon_bot', real=True, nonnegative=True )` \\\n",
    "But kappa was `k = + d(eps_z)/dz = (eps_top - eps_bot / h)` which gives negative kappa for simply supported beam.\n",
    "\n",
    "\n",
    "- What happens when we change the constraints:\n",
    "    - When \n",
    "    `kappa = sp.Symbol('kappa', real=True, nonpositive=True)\n",
    "    eps_top = sp.symbols('varepsilon_top', real=True, nonpositive=True)\n",
    "    eps_bot = sp.symbols('varepsilon_bot', real=True, nonnegative=True)`\n",
    "    Then changing E_cc doesn't have effect, (E_ct replaces E_cc too!)"
   ]
  },
  {
   "cell_type": "code",
   "execution_count": 18,
   "id": "aware-native",
   "metadata": {},
   "outputs": [],
   "source": [
    "def plot(mc):\n",
    "    fig, (ax1, ax2) = plt.subplots(1, 2, figsize=(10, 5))\n",
    "    mc.plot_mk_and_stress_profile(ax1, ax2)\n",
    "    plt.show()\n",
    "\n",
    "def plot_mk_ver(mc, ver_data):\n",
    "    fig, (ax1, ax2) = plt.subplots(1, 2, figsize=(10, 5))\n",
    "    mc.plot_mk_and_stress_profile(ax1, ax2)\n",
    "    k = ver_data[0]\n",
    "    m = ver_data[1]\n",
    "    ax1.plot(k, m, c= 'red', label= 'Experiment')\n",
    "    ax1.legend()\n",
    "    plt.show()"
   ]
  },
  {
   "cell_type": "code",
   "execution_count": 19,
   "id": "physical-supervisor",
   "metadata": {},
   "outputs": [],
   "source": [
    "def map_and_assign_params_for_rectangular_section(\n",
    "        mc, # MKappa instance for which the params should be applied\n",
    "        b, h, E, E_s, f_sy, eps_cr, rho, beta_tu, v_f, omega, psi, mu, alpha, lambda_cu):\n",
    "    \"\"\"This function map the params of the rectangular section from the type of the paper\n",
    "    to the type of the model and assigns the values\"\"\"\n",
    "    mc.cross_section_shape.B=b\n",
    "    mc.cross_section_shape.H=h\n",
    "    mc.E_cc=  E\n",
    "    mc.E_ct=  E # SUPPOSED equal to E_cc!!\n",
    "    mc.mu=mu\n",
    "    mc.eps_cr=eps_cr\n",
    "    mc.eps_cy=omega * (-eps_cr)\n",
    "    mc.eps_cu=lambda_cu * (-eps_cr)\n",
    "    mc.eps_tu=beta_tu * eps_cr\n",
    "    mc.eps_sy_j=[f_sy / E_s] # or eps_sy_j=psi * eps_cr,\n",
    "    mc.E_j=[E_s]\n",
    "    mc.z_j=[h * (1 - alpha)]\n",
    "    mc.A_j=[rho * b * h]"
   ]
  },
  {
   "cell_type": "code",
   "execution_count": 20,
   "id": "sharing-michigan",
   "metadata": {},
   "outputs": [
    {
     "name": "stdout",
     "output_type": "stream",
     "text": [
      "eval\n"
     ]
    },
    {
     "data": {
      "image/png": "[encoded data removed]",
      "text/plain": [
       "<Figure size 720x360 with 3 Axes>"
      ]
     },
     "metadata": {
      "needs_background": "light"
     },
     "output_type": "display_data"
    }
   ],
   "source": [
    "%matplotlib inline\n",
    "\n",
    "# Curvature values in the Jao_Mobasher_2020 are 10*the source of the experiment (Yang_2010) \n",
    "excel_file = join('./verification_data/yao20_yao_mobasher', 'figure_12', 'yan10.xlsx')\n",
    "data = pd.read_excel(excel_file, engine='openpyxl')\n",
    "k= data['rho_06_exp_k'] * 1e-5; m= data['rho_06_exp_m']; ver_data = [k, m]\n",
    "k1= data['rho_06_sim_k'] * 1e-5; m1= data['rho_06_sim_m']; ver_data1 = [k1, m1]\n",
    "# plt.plot(k, m, '--', label='rho_06 exp')\n",
    "# plt.plot(k1, m1,  label='rho_06 sim')\n",
    "# plt.legend();\n",
    "\n",
    "# rho_06\n",
    "mc = MKappa(n_m=100, n_kappa = 100)\n",
    "mc.kappa_slider = 0.00001\n",
    "mc.low_kappa = 0\n",
    "mc.high_kappa = 0.00005\n",
    "map_and_assign_params_for_rectangular_section(mc,\n",
    "    beta_tu = 21,  # Not sure where this is from, all other values match the paper\n",
    "        b = 180, # 180 is the original, Saeed used b = 190\n",
    "        h = 270,\n",
    "        E = 46418, # according to Yang paper, according to Mobasher 46700\n",
    "        E_s = 200000,\n",
    "        f_sy = 600,\n",
    "        eps_cr = 0.000384,\n",
    "        rho = 0.0055,\n",
    "        v_f = 0.02,\n",
    "        omega = 10.7,\n",
    "        psi = 7.8,\n",
    "        mu = 0.55,\n",
    "        alpha = 0.87,\n",
    "        lambda_cu = 11.7,)\n",
    "\n",
    "plot_mk_ver(mc, ver_data)"
   ]
  },
  {
   "cell_type": "code",
   "execution_count": null,
   "id": "balanced-capture",
   "metadata": {},
   "outputs": [],
   "source": [
    "%matplotlib widget\n",
    "mc.E_cc = 3 * mc.E_cc\n",
    "mc.interact()"
   ]
  },
  {
   "cell_type": "code",
   "execution_count": null,
   "id": "patient-company",
   "metadata": {},
   "outputs": [],
   "source": []
  }
 ],
 "metadata": {
  "kernelspec": {
   "display_name": "Python 3",
   "language": "python",
   "name": "python3"
  },
  "language_info": {
   "codemirror_mode": {
    "name": "ipython",
    "version": 3
   },
   "file_extension": ".py",
   "mimetype": "text/x-python",
   "name": "python",
   "nbconvert_exporter": "python",
   "pygments_lexer": "ipython3",
   "version": "3.9.1"
  }
 },
 "nbformat": 4,
 "nbformat_minor": 5
}
