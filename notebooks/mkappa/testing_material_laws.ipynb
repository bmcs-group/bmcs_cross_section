{
 "cells": [
  {
   "cell_type": "code",
   "execution_count": 1,
   "metadata": {},
   "outputs": [
    {
     "data": {
      "application/vnd.jupyter.widget-view+json": {
       "model_id": "e2c860fa774a43a58054d1f407050ceb",
       "version_major": 2,
       "version_minor": 0
      },
      "text/plain": [
       "VBox(children=(HBox(children=(VBox(children=(Tree(layout=Layout(align_items='stretch', border='solid 1px black…"
      ]
     },
     "metadata": {},
     "output_type": "display_data"
    }
   ],
   "source": [
    "%matplotlib widget\n",
    "from bmcs_cross_section.api import MKappa\n",
    "MKappa().interact()"
   ]
  },
  {
   "cell_type": "code",
   "execution_count": 2,
   "metadata": {
    "scrolled": true
   },
   "outputs": [
    {
     "data": {
      "text/latex": [
       "$\\displaystyle \\frac{E_{ct} \\mu \\varepsilon_{cr} \\left(\\varepsilon - \\varepsilon_{tu}\\right)}{\\varepsilon_{cr} - \\varepsilon_{tu}}$"
      ],
      "text/plain": [
       "E_ct*mu*varepsilon_cr*(varepsilon - varepsilon_tu)/(varepsilon_cr - varepsilon_tu)"
      ]
     },
     "execution_count": 2,
     "metadata": {},
     "output_type": "execute_result"
    }
   ],
   "source": [
    "import sympy as sp\n",
    "import matplotlib.pyplot as plt\n",
    "import numpy as np\n",
    "kappa = sp.Symbol('kappa', real=True)\n",
    "eps_top = sp.symbols('varepsilon_top', real=True)\n",
    "eps_bot = sp.symbols('varepsilon_bot', real=True)\n",
    "b, h, z = sp.symbols('b, h, z', real=True, nonnegative=True)\n",
    "eps_sy, E_s = sp.symbols('varepsilon_sy, E_s', real=True, nonnegative=True)\n",
    "eps = sp.Symbol('varepsilon', real=True)\n",
    "x = sp.Symbol('x', real=True)\n",
    "y = sp.Symbol('y', real=True)\n",
    "# -------------------------------------------------------------------------\n",
    "# Model parameters\n",
    "# -------------------------------------------------------------------------\n",
    "E_ct, E_cc, eps_cr, eps_tu, mu = sp.symbols(\n",
    "    r'E_ct, E_cc, varepsilon_cr, varepsilon_tu, mu', real=True,\n",
    "    nonnegative=True\n",
    ")\n",
    "eps_cy, eps_cu = sp.symbols(\n",
    "    r'varepsilon_cy, varepsilon_cu',\n",
    "    real=True, nonpositive=True\n",
    ")\n",
    "\n",
    "l = sp.Line(sp.Point(eps_cr, E_ct * eps_cr), sp.Point(0, eps_tu))\n",
    "    \n",
    "sig_c_eps = sp.Piecewise(\n",
    "    (0, eps < eps_cu),\n",
    "    (E_cc * eps_cy, eps < eps_cy),\n",
    "    (E_cc * eps, eps < 0),\n",
    "    (E_ct * eps, eps < eps_cr),\n",
    "#     (E_ct*eps - eps*eps_tu/eps_cr + eps_tu, eps < eps_tu),\n",
    "    (mu*E_ct*eps_cr - ((eps - eps_cr)/(eps_tu-eps_cr))*(mu*E_ct*eps_cr), eps < eps_tu),\n",
    "    (0, True)\n",
    ")\n",
    "\n",
    "# sp.solve(l.equation().subs({x:eps}), y)[0]\n",
    "\n",
    "eps_values = np.linspace(-0.01, 0.01, 200)\n",
    "sig_c_eps = sig_c_eps.subs({E_cc:50000, E_ct: 50000, eps_cr:0.001, eps_cu: -0.01, eps_cy:-0.003, eps_tu: 0.003, mu:0.4})\n",
    "get_sig = sp.lambdify(eps, sig_c_eps, 'numpy' )\n",
    "plt.plot(eps_values, get_sig(eps_values))\n",
    "# plt.show()\n",
    "plt.axhline(y=0, color='r', linestyle='-')\n",
    "(mu*E_ct*eps_cr - ((eps - eps_cr)/(eps_tu-eps_cr))*(mu*E_ct*eps_cr)).simplify()\n",
    "mu*E_ct*eps_cr*(eps-eps_tu)/(eps_cr-eps_tu)"
   ]
  },
  {
   "cell_type": "code",
   "execution_count": 10,
   "metadata": {},
   "outputs": [
    {
     "data": {
      "text/plain": [
       "0.13464948167793725"
      ]
     },
     "execution_count": 10,
     "metadata": {},
     "output_type": "execute_result"
    }
   ],
   "source": [
    "73 * 30**0.18 / 1000 # -> N/mm"
   ]
  },
  {
   "cell_type": "code",
   "execution_count": 11,
   "metadata": {},
   "outputs": [
    {
     "data": {
      "text/plain": [
       "0.13470057692070922"
      ]
     },
     "execution_count": 11,
     "metadata": {},
     "output_type": "execute_result"
    }
   ],
   "source": [
    "0.028 * (30**0.18) * 20**0.32"
   ]
  },
  {
   "cell_type": "code",
   "execution_count": 4,
   "metadata": {},
   "outputs": [
    {
     "name": "stdout",
     "output_type": "stream",
     "text": [
      "14.2759158362211*exp(-2167.03610227259*varepsilon)\n"
     ]
    },
    {
     "data": {
      "image/png": "[encoded data removed]",
      "text/plain": [
       "<Figure size 640x480 with 1 Axes>"
      ]
     },
     "execution_count": 4,
     "metadata": {},
     "output_type": "execute_result"
    }
   ],
   "source": [
    "# Tension with softening\n",
    "fig, ax = plt.subplots()\n",
    "# L_cb is crack band width (or finite length of the softening zone)\n",
    "eps, eps_f, f_ctm, G_f, f_cm, L_cb = sp.symbols('varepsilon, varepsilon_f, f_ctm, G_f, f_cm, L_cb', real=True, nonnegative=True)\n",
    "\n",
    "# for eps_f_value in np.linspace(0.0001, 0.01, 10):\n",
    "#     sig_c_eps = f_ctm*sp.exp(-eps/eps_f)\n",
    "#     sig_c_eps = sig_c_eps.subs({f_ctm:6, eps_f:eps_f_value})\n",
    "#     get_sig = sp.lambdify(eps, sig_c_eps, 'numpy')\n",
    "#     eps_values = np.linspace(0, 0.01, 200)\n",
    "#     ax.plot(eps_values, get_sig(eps_values), label=str(eps_f_value))\n",
    "\n",
    "E_cm = 30000\n",
    "L_cb = 100 # [mm] finite length of the softening zone\n",
    "G_F = 0.073 * f_cm**0.18 # [N/mm] f_cm must be in MPa (fib Model Code 2010)\n",
    "# G_F = 0.028 * (f_cm**0.18) * d_ag**0.32 # Other option with d_ag aggregate diameter\n",
    "w1 = G_F/f_ctm\n",
    "eps_crack = (eps-f_ctm/E_cm)\n",
    "w = eps_crack*L_cb\n",
    "\n",
    "sig_c_eps = f_ctm*sp.exp(-w/w1)\n",
    "sig_c_eps = sig_c_eps.subs({f_ctm:6, f_cm : 35, L_cb:50})\n",
    "print(sig_c_eps)\n",
    "get_sig = sp.lambdify(eps, sig_c_eps, 'numpy')\n",
    "eps_values = np.linspace(0, 0.01, 200)\n",
    "ax.plot(eps_values, get_sig(eps_values), label='fg')\n",
    "    \n",
    "ax.legend()\n",
    "fig"
   ]
  },
  {
   "cell_type": "code",
   "execution_count": 8,
   "metadata": {},
   "outputs": [
    {
     "data": {
      "text/plain": [
       "<matplotlib.lines.Line2D at 0x2d4bb7d35b0>"
      ]
     },
     "execution_count": 8,
     "metadata": {},
     "output_type": "execute_result"
    },
    {
     "data": {
      "image/png": "[encoded data removed]",
      "text/plain": [
       "<Figure size 432x288 with 1 Axes>"
      ]
     },
     "metadata": {
      "needs_background": "light"
     },
     "output_type": "display_data"
    }
   ],
   "source": [
    "# EC2, eq. (3.14)\n",
    "import sympy as sp\n",
    "import matplotlib.pyplot as plt\n",
    "import numpy as np\n",
    "\n",
    "eps_cy = sp.Symbol('varepsilon_cy', real=True)\n",
    "eps_cu = sp.Symbol('varepsilon_cu', real=True)\n",
    "eps = sp.Symbol('varepsilon', real=True)\n",
    "E_cc = sp.Symbol('E_cc', real=True)\n",
    "\n",
    "f_cm = sp.Symbol('f_cm', real=True)\n",
    "# k = sp.Symbol('k', real=True)\n",
    "# eta = sp.Symbol('eta', real=True)\n",
    "\n",
    "k = 1.05 * E_cc * sp.Abs(eps_cy) / f_cm\n",
    "eta = eps / eps_cy\n",
    "sig_c = f_cm * (k*eta - eta**2)/(1+eta*(k-2))\n",
    "eps_extra = 0.005\n",
    "extra_line = sig_c.subs(eps, eps_cu) + sig_c.subs(eps, eps_cu) * (eps - eps_cu) / eps_extra\n",
    "eps_at_sig_0 = sp.solve(extra_line, eps)[0]\n",
    "sig_c_eps = -sp.Piecewise(\n",
    "        # Option 1\n",
    "        (0, eps < sp.solve(sig_c, eps)[1]),\n",
    "\n",
    "        # Option 2\n",
    "#         (0, eps < eps_cu),\n",
    "\n",
    "        # Option 3\n",
    "#         (0, eps < eps_at_sig_0),\n",
    "#         (extra_line, eps < eps_cu),\n",
    "    \n",
    "    \n",
    "        (sig_c, eps < 0),\n",
    "        (0, True)\n",
    "    )\n",
    "\n",
    "eps_values = np.linspace(-0.01, 0.0035, 200)\n",
    "sig_c_eps = sig_c_eps.subs({E_cc:35654, eps_cy:-0.002, f_cm:50, eps_cu:-0.0035})\n",
    "# sig_c_eps = sig_c_eps.subs({E_cc:44000, eps_cy:-0.0028, f_cm:98, eps_cu:-0.0028})\n",
    "\n",
    "get_sig = sp.lambdify(eps, sig_c_eps, 'numpy' )\n",
    "plt.plot(eps_values, get_sig(eps_values))\n",
    "\n",
    "# plt.show()\n",
    "plt.axvline(x=0, color='r', linestyle='-')"
   ]
  },
  {
   "cell_type": "code",
   "execution_count": 3,
   "metadata": {},
   "outputs": [
    {
     "data": {
      "text/latex": [
       "$\\displaystyle - \\begin{cases} 0 & \\text{for}\\: \\varepsilon < -0.0035 \\\\28.3333333333333 & \\text{for}\\: \\varepsilon < -0.00245 \\\\28.3333333333333 - 4720255.44911842 \\left(\\varepsilon + 0.00245\\right)^{2} & \\text{for}\\: \\varepsilon < 0 \\\\0 & \\text{otherwise} \\end{cases}$"
      ],
      "text/plain": [
       "-Piecewise((0, varepsilon < -0.0035), (28.3333333333333, varepsilon < -0.00245), (28.3333333333333 - 4720255.44911842*(varepsilon + 0.00245)**2, varepsilon < 0), (0, True))"
      ]
     },
     "execution_count": 3,
     "metadata": {},
     "output_type": "execute_result"
    },
    {
     "data": {
      "image/png": "[encoded data removed]",
      "text/plain": [
       "<Figure size 432x288 with 1 Axes>"
      ]
     },
     "metadata": {
      "needs_background": "light"
     },
     "output_type": "display_data"
    }
   ],
   "source": [
    "# EC2, eq. (3.17-3.18)\n",
    "\n",
    "import sympy as sp\n",
    "import matplotlib.pyplot as plt\n",
    "import numpy as np\n",
    "\n",
    "eps_cy = sp.Symbol('varepsilon_cy', real=True)\n",
    "eps_cu = sp.Symbol('varepsilon_cu', real=True)\n",
    "eps = sp.Symbol('varepsilon', real=True)\n",
    "E_cc = sp.Symbol('E_cc', real=True)\n",
    "\n",
    "f_cd = sp.Symbol('f_cd', real=True)\n",
    "n = sp.Symbol('n', real=True)\n",
    "\n",
    "sig_c = f_cd * (1-(1- eps/eps_cy)**n)\n",
    "\n",
    "sig_c_eps = -sp.Piecewise(\n",
    "        (0, eps < eps_cu), \n",
    "        (f_cd, eps < eps_cy),   \n",
    "        (sig_c, eps < 0),\n",
    "        (0, True)\n",
    "    )\n",
    "\n",
    "eps_values = np.linspace(-0.005, 0.0035, 200)\n",
    "sig_c_eps = sig_c_eps.subs({E_cc:37000, eps_cy:-0.00245, f_cd:50 * 0.85/1.5, n:2, eps_cu:-0.0035})\n",
    "# sig_c_eps = sig_c_eps.subs({E_cc:44000, eps_cy:-0.0028, f_cm:98, eps_cu:-0.0028})\n",
    "\n",
    "get_sig = sp.lambdify(eps, sig_c_eps, 'numpy' )\n",
    "plt.plot(eps_values, get_sig(eps_values))\n",
    "# plt.show()\n",
    "plt.axvline(x=0, color='r', linestyle='-')\n",
    "\n",
    "sig_c_eps"
   ]
  },
  {
   "cell_type": "code",
   "execution_count": 4,
   "metadata": {},
   "outputs": [
    {
     "data": {
      "text/latex": [
       "$\\displaystyle \\frac{E_{ct} \\mu \\varepsilon_{cr} \\left(\\varepsilon - \\varepsilon_{tu}\\right)}{\\varepsilon_{cr} - \\varepsilon_{tu}}$"
      ],
      "text/plain": [
       "E_ct*mu*varepsilon_cr*(varepsilon - varepsilon_tu)/(varepsilon_cr - varepsilon_tu)"
      ]
     },
     "execution_count": 4,
     "metadata": {},
     "output_type": "execute_result"
    },
    {
     "data": {
      "image/png": "[encoded data removed]",
      "text/plain": [
       "<Figure size 640x480 with 1 Axes>"
      ]
     },
     "metadata": {},
     "output_type": "display_data"
    }
   ],
   "source": [
    "%matplotlib qt\n",
    "\n",
    "import sympy as sp\n",
    "import matplotlib.pyplot as plt\n",
    "import numpy as np\n",
    "kappa = sp.Symbol('kappa', real=True)\n",
    "eps_top = sp.symbols('varepsilon_top', real=True)\n",
    "eps_bot = sp.symbols('varepsilon_bot', real=True)\n",
    "b, h, z = sp.symbols('b, h, z', real=True, nonnegative=True)\n",
    "eps_sy, E_s = sp.symbols('varepsilon_sy, E_s', real=True, nonnegative=True)\n",
    "eps = sp.Symbol('varepsilon', real=True)\n",
    "x = sp.Symbol('x', real=True)\n",
    "y = sp.Symbol('y', real=True)\n",
    "# -------------------------------------------------------------------------\n",
    "# Model parameters\n",
    "# -------------------------------------------------------------------------\n",
    "E_ct, E_cc, eps_cr, eps_tu, mu = sp.symbols(\n",
    "    r'E_ct, E_cc, varepsilon_cr, varepsilon_tu, mu', real=True,\n",
    "    nonnegative=True\n",
    ")\n",
    "eps_cy, eps_cu = sp.symbols(\n",
    "    r'varepsilon_cy, varepsilon_cu',\n",
    "    real=True, nonpositive=True\n",
    ")\n",
    "\n",
    "l = sp.Line(sp.Point(eps_cr, E_ct * eps_cr), sp.Point(0, eps_tu))\n",
    "    \n",
    "\n",
    "sig_c_eps = sp.Piecewise(\n",
    "                (0, eps < eps_cu),\n",
    "                (E_cc * eps_cy, eps < eps_cy),\n",
    "                (E_cc * eps, eps < 0),\n",
    "                (E_ct * eps, eps < eps_cr),\n",
    "                (mu * E_ct * eps_cr, eps < eps_tu),\n",
    "                (0, True)  # eps >= eps_tu)\n",
    "            )\n",
    "\n",
    "# sp.solve(l.equation().subs({x:eps}), y)[0]\n",
    "\n",
    "            \n",
    "eps_values = np.linspace(-0.012, 0.0025, 1000)\n",
    "sig_c_eps = sig_c_eps.subs({E_cc:25000, E_ct: 24000, eps_cr:0.001, eps_cu: -0.01, eps_cy:-0.003, eps_tu: 0.002, mu:0.3})\n",
    "get_sig = sp.lambdify(eps, sig_c_eps, 'numpy' )\n",
    "plt.plot(eps_values, get_sig(eps_values))\n",
    "plt.fill_between(eps_values, 0, get_sig(eps_values), alpha = 0.1)\n",
    "# plt.show()\n",
    "plt.axhline(y=0, color='r', linestyle='-')\n",
    "(mu*E_ct*eps_cr - ((eps - eps_cr)/(eps_tu-eps_cr))*(mu*E_ct*eps_cr)).simplify()\n",
    "mu*E_ct*eps_cr*(eps-eps_tu)/(eps_cr-eps_tu)"
   ]
  }
 ],
 "metadata": {
  "kernelspec": {
   "display_name": "Python 3 (ipykernel)",
   "language": "python",
   "name": "python3"
  },
  "language_info": {
   "codemirror_mode": {
    "name": "ipython",
    "version": 3
   },
   "file_extension": ".py",
   "mimetype": "text/x-python",
   "name": "python",
   "nbconvert_exporter": "python",
   "pygments_lexer": "ipython3",
   "version": "3.9.7"
  }
 },
 "nbformat": 4,
 "nbformat_minor": 4
}
