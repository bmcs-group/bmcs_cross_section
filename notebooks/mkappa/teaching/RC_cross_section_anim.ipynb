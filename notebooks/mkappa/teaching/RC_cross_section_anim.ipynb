{
 "cells": [
  {
   "cell_type": "code",
   "execution_count": null,
   "id": "333ed65f-3294-41db-a737-66783adcedbf",
   "metadata": {
    "tags": []
   },
   "outputs": [],
   "source": [
    "%matplotlib widget\n",
    "from bmcs_cross_section.api import ReinfLayer, BarLayer, MKappa, TShape\n",
    "mc = MKappa(high_kappa=0.00004)\n",
    "mc.cs_design.cross_section_shape_.trait_set(H=500, B=300)\n",
    "mc.cs_design.concrete.compression = 'EC2 with plateau'"
   ]
  },
  {
   "cell_type": "code",
   "execution_count": null,
   "id": "9afb58a8-829a-43d2-8e96-8b06eb1d7f3e",
   "metadata": {},
   "outputs": [],
   "source": [
    "mc.cs_design.concrete.compression_.trait_set(\n",
    "    f_c = 14.8, eps_cy=-0.0035, eps_cu=-0.006, E_cc=350000\n",
    ")\n",
    "mc.cs_design.concrete.tension_.trait_set(mu=0)\n",
    "bl1 = BarLayer(name='steel 1', z=50, count=4, ds=20 )\n",
    "bl1.matmod_.trait_set(f_sy = 435, f_st = 435)\n",
    "mc.cross_section_layout.add_layer(bl1)\n",
    "mc.interact()"
   ]
  },
  {
   "cell_type": "code",
   "execution_count": null,
   "id": "2a9f1b20-7c35-42c8-bcd4-7c544b0098da",
   "metadata": {
    "tags": []
   },
   "outputs": [],
   "source": [
    "%%capture\n",
    "import matplotlib.pylab as plt\n",
    "from matplotlib import animation, rc\n",
    "from IPython.display import HTML\n",
    "import traits.api as tr\n",
    "import bmcs_utils.api as bu\n",
    "import numpy as np\n",
    "\n",
    "fig = plt.figure(tight_layout=True)\n",
    "fig.set_size_inches(10, 4)"
   ]
  },
  {
   "cell_type": "code",
   "execution_count": null,
   "id": "fb2a2d30-b179-4005-8772-932a508b291e",
   "metadata": {},
   "outputs": [],
   "source": [
    "class CrossSectionAnimator(bu.Model):\n",
    "    \n",
    "    model = bu.Instance(bu.Model, mc)\n",
    "    \n",
    "    n_kappa = bu.Int(35)\n",
    "    n_kappa_end = bu.Int(10)\n",
    "    \n",
    "    def init(self):\n",
    "        self.kappa_T = np.hstack([\n",
    "            np.linspace(0,self.model.high_kappa,self.n_kappa),\n",
    "            np.ones((self.n_kappa_end,)) * self.model.high_kappa\n",
    "        ])\n",
    "    \n",
    "    def plot(self, i):\n",
    "        fig.clear()\n",
    "        kappa = self.kappa_T[i]\n",
    "        print('{},'.format(i), end='')\n",
    "        #axes = self.model.subplots(fig)\n",
    "        axes = fig.subplots(1,3)\n",
    "        self.model.kappa_slider = kappa\n",
    "        ax1, ax2, ax3 = axes\n",
    "        ax22 = ax2.twiny()\n",
    "        self.model.plot_strain_profile(ax1)\n",
    "#        ax1.set_xlim(eps_min, eps_max)\n",
    "        ax1.xaxis.set_ticks([-0.01, 0, 0.01])\n",
    "        self.model.plot_mk_and_stress_profile(ax3, ax2, ax22)\n",
    "        ax22.set_xlim(-20, 20)\n",
    "        ax2.set_xlim(-500, 500)\n",
    "        \n",
    "    def mp4_video(self):\n",
    "        n_t = len(self.kappa_T)\n",
    "        # call the animator. blit=True means only re-draw the parts that have changed.\n",
    "        anim = animation.FuncAnimation(fig, self.plot, init_func=self.init,\n",
    "                                       frames=n_t, interval=300, blit=True)\n",
    "        return anim.save(\"cross_section_animation.gif\")\n",
    "    \n",
    "    def html5_video(self):\n",
    "        n_t = len(self.kappa_T)\n",
    "        # call the animator. blit=True means only re-draw the parts that have changed.\n",
    "        anim = animation.FuncAnimation(fig, self.plot, # init_func=self.init,\n",
    "                                       frames=n_t, interval=300, blit=True)\n",
    "        return anim.to_html5_video()"
   ]
  },
  {
   "cell_type": "code",
   "execution_count": null,
   "id": "6e3bcd4c-2112-42b0-86aa-8388e5f2c882",
   "metadata": {},
   "outputs": [],
   "source": [
    "anim = CrossSectionAnimator(n_kappa=30, n_kappa_end=10)\n",
    "anim.init()\n",
    "with open('cross_section_animation.html','w') as html_video_file:\n",
    "    html_video_file.write(anim.html5_video())"
   ]
  },
  {
   "cell_type": "code",
   "execution_count": null,
   "id": "6722f80e-85c2-44cb-adb3-24473fdc645a",
   "metadata": {},
   "outputs": [],
   "source": [
    "html_video_file = open('cross_section_animation.html','r')\n",
    "HTML(html_video_file.read())"
   ]
  },
  {
   "cell_type": "code",
   "execution_count": null,
   "id": "d6f85d06-dad2-4a6f-8833-2995c91fcbe3",
   "metadata": {},
   "outputs": [],
   "source": []
  }
 ],
 "metadata": {
  "kernelspec": {
   "display_name": "bmcs_env2",
   "language": "python",
   "name": "bmcs_env2"
  },
  "language_info": {
   "codemirror_mode": {
    "name": "ipython",
    "version": 3
   },
   "file_extension": ".py",
   "mimetype": "text/x-python",
   "name": "python",
   "nbconvert_exporter": "python",
   "pygments_lexer": "ipython3"
  }
 },
 "nbformat": 4,
 "nbformat_minor": 5
}
