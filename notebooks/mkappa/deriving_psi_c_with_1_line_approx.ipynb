{
 "cells": [
  {
   "cell_type": "code",
   "execution_count": 1,
   "metadata": {},
   "outputs": [],
   "source": [
    "%matplotlib widget\n",
    "from bmcs_cross_section.api import MKappa, EC2\n",
    "import sympy as sp\n",
    "import numpy as np\n",
    "import matplotlib.pyplot as plt"
   ]
  },
  {
   "cell_type": "code",
   "execution_count": 2,
   "metadata": {
    "scrolled": false
   },
   "outputs": [],
   "source": [
    "# EC2, eq. (3.14)\n",
    "\n",
    "sig_c1, sig_c2, sig_c3, eps_cu1, b, c, d, A_f, f_fu, E_f = \\\n",
    " sp.symbols('sigma_c1 sigma_c2 sigma_c3, varepsilon_cu1, b, c, d, A_f, f_{fu}, E_f', real=True, nonnegative=True)\n",
    "eps_cy, eps_cu, eps, E_cc, f_cm = \\\n",
    "sp.symbols('varepsilon_cy, varepsilon_cu, varepsilon, E_cc, f_cm', real=True, nonnegative=True)\n",
    "\n",
    "k = 1.05 * E_cc * eps_cy / f_cm\n",
    "eta = eps / eps_cy\n",
    "sig_c = f_cm * (k*eta - eta**2)/(1+eta*(k-2))\n",
    "\n",
    "sig_c_eps_ = sp.Piecewise(\n",
    "        (0, eps > eps_cu),\n",
    "        (sig_c, eps > 0),\n",
    "        (0, True)\n",
    ")"
   ]
  },
  {
   "cell_type": "code",
   "execution_count": 3,
   "metadata": {},
   "outputs": [],
   "source": [
    "# # Comparison to EC2, multi-linear concept\n",
    "\n",
    "# result2 = np.zeros((len(f_cms), 3))\n",
    "\n",
    "# for i, f_cm_ in enumerate(f_cms):\n",
    "#     sig_c_eps = sig_c_eps_.subs({E_cc:EC2.get_E_cm(f_cm_ - 8), eps_cy:eps_cy_, \n",
    "#                                 f_cm:EC2.get_f_cm(f_cm_ - 8), eps_cu:EC2.get_eps_cu1(f_cm_- 8)})\n",
    "#     get_sig = sp.lambdify(eps, sig_c_eps, 'numpy')\n",
    "#     eps_exact = np.linspace(0, eps_cy_, 300)\n",
    "#     sig_exact = get_sig(eps_exact)\n",
    "#     area_fine = np.trapz(y=sig_exact, x=eps_exact)\n",
    "    \n",
    "#     f_ck = f_cm_ - 8\n",
    "#     eps_c3 = EC2.get_eps_c3(f_ck)\n",
    "#     eps_cu3 = EC2.get_eps_cu3(f_ck)\n",
    "#     area = eps_c3 * f_cm_ / 2 + (eps_cu3 - eps_c3) * f_cm_\n",
    "    \n",
    "#     result2[i, 0] = f_cm_\n",
    "#     result2[i, 1] = area_fine\n",
    "#     result2[i, 2] = area\n",
    "# result2"
   ]
  },
  {
   "cell_type": "code",
   "execution_count": 4,
   "metadata": {},
   "outputs": [
    {
     "data": {
      "text/plain": [
       "array([[ 20.        ,   1.40553767],\n",
       "       [ 24.        ,   1.38424032],\n",
       "       [ 28.        ,   1.36561157],\n",
       "       [ 33.        ,   1.34507086],\n",
       "       [ 38.        ,   1.32681699],\n",
       "       [ 43.        ,   1.31030984],\n",
       "       [ 48.        ,   1.29518105],\n",
       "       [ 53.        ,   1.28116745],\n",
       "       [ 58.        ,   1.2680741 ],\n",
       "       [ 63.        ,   1.25575229],\n",
       "       [ 68.        ,   1.2440857 ],\n",
       "       [ 78.        ,   1.22236429],\n",
       "       [ 88.        ,   1.20161951],\n",
       "       [ 98.        ,   1.16735515],\n",
       "       [108.        ,   1.13352108]])"
      ]
     },
     "execution_count": 4,
     "metadata": {},
     "output_type": "execute_result"
    }
   ],
   "source": [
    "f_cms = np.array([ 20.,  24.,  28.,  33.,  38.,  43.,  48.,  53.,  58.,  63.,  68., 78.,  88.,  98., 108.])\n",
    "result = np.zeros((len(f_cms), 2))\n",
    "\n",
    "for i, f_cm_ in enumerate(f_cms):\n",
    "    eps_cy_ = EC2.get_eps_c1(f_cm_ - 8)\n",
    "    eps_cu_ = EC2.get_eps_cu1(f_cm_- 8)\n",
    "\n",
    "    sig_c_eps = sig_c_eps_.subs({E_cc:EC2.get_E_cm(f_cm_ - 8), eps_cy:eps_cy_, \n",
    "                                f_cm:EC2.get_f_cm(f_cm_ - 8), eps_cu:eps_cu_})\n",
    "    get_sig = sp.lambdify(eps, sig_c_eps, 'numpy')\n",
    "    eps_exact = np.linspace(0, eps_cy_, 300)\n",
    "    sig_exact = get_sig(eps_exact)\n",
    "    area_fine = np.trapz(y=sig_exact, x=eps_exact)\n",
    "\n",
    "    sig_eps_c1_new = 2 * area_fine / eps_cy_\n",
    "    sig_eps_c1_scale = sig_eps_c1_new / f_cm_\n",
    "    \n",
    "    area_part_2 = (eps_cu_ - eps_cy_)\n",
    "    \n",
    "    result[i, 0] = f_cm_\n",
    "    result[i, 1] = sig_eps_c1_scale\n",
    "\n",
    "result"
   ]
  },
  {
   "cell_type": "code",
   "execution_count": 5,
   "metadata": {
    "scrolled": true
   },
   "outputs": [
    {
     "data": {
      "text/plain": [
       "array([[ 20.        ,   1.40553767],\n",
       "       [ 24.        ,   1.38424032],\n",
       "       [ 28.        ,   1.36561157],\n",
       "       [ 33.        ,   1.34507086],\n",
       "       [ 38.        ,   1.32681699],\n",
       "       [ 43.        ,   1.31030984],\n",
       "       [ 48.        ,   1.29518105],\n",
       "       [ 53.        ,   1.28116745],\n",
       "       [ 58.        ,   1.2680741 ],\n",
       "       [ 63.        ,   1.25575229],\n",
       "       [ 68.        ,   1.2440857 ],\n",
       "       [ 78.        ,   1.22236429],\n",
       "       [ 88.        ,   1.20161951],\n",
       "       [ 98.        ,   1.16735515],\n",
       "       [108.        ,   1.13352108]])"
      ]
     },
     "execution_count": 5,
     "metadata": {},
     "output_type": "execute_result"
    }
   ],
   "source": [
    "f_cms = np.array([ 20.,  24.,  28.,  33.,  38.,  43.,  48.,  53.,  58.,  63.,  68., 78.,  88.,  98., 108.])\n",
    "result = np.zeros((len(f_cms), 2))\n",
    "\n",
    "for i, f_cm_ in enumerate(f_cms):\n",
    "    eps_cy_ = EC2.get_eps_c1(f_cm_ - 8)\n",
    "    eps_cu_ = EC2.get_eps_cu1(f_cm_- 8)\n",
    "\n",
    "    sig_c_eps = sig_c_eps_.subs({E_cc:EC2.get_E_cm(f_cm_ - 8), eps_cy:eps_cy_, \n",
    "                                f_cm:EC2.get_f_cm(f_cm_ - 8), eps_cu:eps_cu_})\n",
    "    get_sig = sp.lambdify(eps, sig_c_eps, 'numpy')\n",
    "    eps_exact = np.linspace(0, eps_cy_, 300)\n",
    "    sig_exact = get_sig(eps_exact)\n",
    "    area_fine = np.trapz(y=sig_exact, x=eps_exact)\n",
    "\n",
    "    sig_eps_c1_new = 2 * area_fine / eps_cy_\n",
    "    sig_eps_c1_scale = sig_eps_c1_new / f_cm_\n",
    "    \n",
    "    area_part_2 = (eps_cu_ - eps_cy_)\n",
    "    \n",
    "    result[i, 0] = f_cm_\n",
    "    result[i, 1] = sig_eps_c1_scale\n",
    "\n",
    "result"
   ]
  },
  {
   "cell_type": "code",
   "execution_count": 6,
   "metadata": {
    "scrolled": true
   },
   "outputs": [
    {
     "data": {
      "text/plain": [
       "[<matplotlib.lines.Line2D at 0x18ee43811f0>]"
      ]
     },
     "execution_count": 6,
     "metadata": {},
     "output_type": "execute_result"
    },
    {
     "data": {
      "application/vnd.jupyter.widget-view+json": {
       "model_id": "27b9ee94783d40ff946d09281fe66fe2",
       "version_major": 2,
       "version_minor": 0
      },
      "image/png": "[encoded data removed]",
      "text/html": [
       "\n",
       "            <div style=\"display: inline-block;\">\n",
       "                <div class=\"jupyter-widgets widget-label\" style=\"text-align: center;\">\n",
       "                    Figure\n",
       "                </div>\n",
       "                <img src='data:image/png;base64,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' width=640.0/>\n",
       "            </div>\n",
       "        "
      ],
      "text/plain": [
       "Canvas(toolbar=Toolbar(toolitems=[('Home', 'Reset original view', 'home', 'home'), ('Back', 'Back to previous …"
      ]
     },
     "metadata": {},
     "output_type": "display_data"
    }
   ],
   "source": [
    "fig1, ax1 = plt.subplots()\n",
    "ax1.plot(result[:, 0], result[:, 1])"
   ]
  },
  {
   "cell_type": "code",
   "execution_count": 7,
   "metadata": {},
   "outputs": [
    {
     "data": {
      "text/latex": [
       "$\\displaystyle 1.44328334402529 - 0.00288035647501513 f_{cm}$"
      ],
      "text/plain": [
       "1.44328334402529 - 0.00288035647501513*f_cm"
      ]
     },
     "execution_count": 7,
     "metadata": {},
     "output_type": "execute_result"
    }
   ],
   "source": [
    "# Linear regression using numpy\n",
    "\n",
    "m1, p1 = np.polyfit(result[:, 0], result[:, 1], 1)\n",
    "sig_cy_scale = m1 * f_cm + p1 # must be <= 1\n",
    "sig_cy_scale"
   ]
  },
  {
   "cell_type": "code",
   "execution_count": 8,
   "metadata": {},
   "outputs": [],
   "source": [
    "get_sig_cy_scale = sp.lambdify(f_cm, sig_cy_scale, 'numpy')"
   ]
  },
  {
   "cell_type": "code",
   "execution_count": 9,
   "metadata": {},
   "outputs": [
    {
     "data": {
      "text/plain": [
       "[<matplotlib.lines.Line2D at 0x18ee4b1ac10>]"
      ]
     },
     "execution_count": 9,
     "metadata": {},
     "output_type": "execute_result"
    },
    {
     "data": {
      "application/vnd.jupyter.widget-view+json": {
       "model_id": "9832004728524705944a1ce961714301",
       "version_major": 2,
       "version_minor": 0
      },
      "image/png": "[encoded data removed]",
      "text/html": [
       "\n",
       "            <div style=\"display: inline-block;\">\n",
       "                <div class=\"jupyter-widgets widget-label\" style=\"text-align: center;\">\n",
       "                    Figure\n",
       "                </div>\n",
       "                <img src='data:image/png;base64,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' width=640.0/>\n",
       "            </div>\n",
       "        "
      ],
      "text/plain": [
       "Canvas(toolbar=Toolbar(toolitems=[('Home', 'Reset original view', 'home', 'home'), ('Back', 'Back to previous …"
      ]
     },
     "metadata": {},
     "output_type": "display_data"
    }
   ],
   "source": [
    "fig1, ax1 = plt.subplots()\n",
    "f_cm_mid = (result[:, 0][-1] + result[:, 0][0])/2\n",
    "ax1.set_xlabel('f_cm')\n",
    "ax1.set_ylabel('eps_cy_p1_scale')\n",
    "\n",
    "ax1.plot(result[:, 0], result[:, 1])\n",
    "ax1.plot(result[:, 0], get_sig_cy_scale(result[:, 0]))\n",
    "\n",
    "# sig_cy_scale_mid = np.interp(f_cm_mid, result[:, 0], get_sig_cy_scale(result[:, 0]))\n",
    "# ax1.plot(f_cm_mid, sig_cy_scale_mid, 'o')"
   ]
  },
  {
   "cell_type": "code",
   "execution_count": 299,
   "metadata": {
    "scrolled": false
   },
   "outputs": [
    {
     "name": "stdout",
     "output_type": "stream",
     "text": [
      "[ 0 48 48]\n",
      "area1 = 0.0722477864306494\n",
      "area2 = 0.0722477864306494\n"
     ]
    },
    {
     "data": {
      "application/vnd.jupyter.widget-view+json": {
       "model_id": "3ef58dc2638b48d5a5999ccd31a400bd",
       "version_major": 2,
       "version_minor": 0
      },
      "image/png": "[encoded data removed]",
      "text/html": [
       "\n",
       "            <div style=\"display: inline-block;\">\n",
       "                <div class=\"jupyter-widgets widget-label\" style=\"text-align: center;\">\n",
       "                    Figure\n",
       "                </div>\n",
       "                <img src='data:image/png;base64,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' width=640.0/>\n",
       "            </div>\n",
       "        "
      ],
      "text/plain": [
       "Canvas(toolbar=Toolbar(toolitems=[('Home', 'Reset original view', 'home', 'home'), ('Back', 'Back to previous …"
      ]
     },
     "metadata": {},
     "output_type": "display_data"
    }
   ],
   "source": [
    "fig, ax = plt.subplots()\n",
    "\n",
    "for f_cm_ in [48]: # f_cms:\n",
    "    eps_cy_ = EC2.get_eps_c1(f_cm_ - 8)\n",
    "    eps_cu_ = EC2.get_eps_cu1(f_cm_ - 8)\n",
    "\n",
    "    eps_fine = np.linspace(0, eps_cu_, 300)\n",
    "\n",
    "    sig_c_eps = sig_c_eps_.subs({E_cc:EC2.get_E_cm(f_cm_ - 8), eps_cy:eps_cy_, \n",
    "                                f_cm:f_cm_, eps_cu:eps_cu_})\n",
    "    get_sig = sp.lambdify(eps, sig_c_eps, 'numpy')\n",
    "    sig_fine = get_sig(eps_fine)\n",
    "    \n",
    "    sig_scale_for_f_cm = result[np.argwhere(result[:, 0] == f_cm_)[0]][0][1]\n",
    "    eps_coarse = np.array([0., eps_cy_])\n",
    "    sig_coarse = np.array([0., f_cm_ * sig_scale_for_f_cm])\n",
    "    \n",
    "    eps_sig_coarse_equals_f_cm = np.interp(f_cm_, sig_coarse, eps_coarse)\n",
    "    eps_coarse_psi = np.array([0, eps_sig_coarse_equals_f_cm, eps_cu_])\n",
    "    sig_coarse_psi = np.array([0, f_cm_, f_cm_])\n",
    "    print(sig_coarse_psi)\n",
    "    \n",
    "    eps_example = 0.001\n",
    "    sig_example = np.interp(eps_example, eps_coarse, sig_coarse)\n",
    "    \n",
    "    area = np.trapz(y=sig_coarse, x=eps_coarse)\n",
    "    print('area1 =', area)\n",
    "    print('area2 =', sig_coarse[-1] * eps_coarse[-1] / 2)\n",
    "    \n",
    "    ax.plot(eps_fine, sig_fine)\n",
    "    ax.plot(eps_coarse, sig_coarse)\n",
    "    ax.plot(eps_coarse_psi, sig_coarse_psi, label='$\\psi_c$ assumption, $\\psi_c = red/black$')\n",
    "    ax.plot([eps_example, eps_example], [0, sig_example])\n",
    "    ax.plot([eps_cy_, eps_cy_], [0, f_cm_], c='black')\n",
    "    ax.legend()\n",
    "    \n",
    "# fig.show()"
   ]
  },
  {
   "cell_type": "markdown",
   "metadata": {},
   "source": [
    "## Deriving $\\psi_c, M_n$ equations for the linearized curve"
   ]
  },
  {
   "cell_type": "code",
   "execution_count": 307,
   "metadata": {},
   "outputs": [
    {
     "data": {
      "text/latex": [
       "$\\displaystyle \\frac{f_{cm} \\varepsilon \\left(144328334402529000 - 288035647501513 f_{cm}\\right)}{100000000000000000 \\varepsilon_{cy}}$"
      ],
      "text/plain": [
       "f_cm*varepsilon*(144328334402529000 - 288035647501513*f_cm)/(100000000000000000*varepsilon_cy)"
      ]
     },
     "execution_count": 307,
     "metadata": {},
     "output_type": "execute_result"
    }
   ],
   "source": [
    "substitute_eps_cy = False\n",
    "\n",
    "if substitute_eps_cy:\n",
    "    # WARNING, TODO: Instead use 0.001 * sp.Min(0.7 * f_cm ** 0.31, 2.8) ??\n",
    "    eps_c1 = 0.001 * 0.7 * f_cm ** 0.31\n",
    "#     eps_c1 = 0.001 * sp.Min(0.7 * f_cm ** 0.31, 2.8)\n",
    "else:\n",
    "    eps_c1 = eps_cy\n",
    "\n",
    "f_cm_max = f_cm * sig_cy_scale\n",
    "sig_line = sp.Line(sp.Point(0, 0), sp.Point(eps_c1, f_cm_max))\n",
    "\n",
    "sig_eq_ = sig_line.equation(x=eps, y=sig_c1)\n",
    "sig_eq = sp.solve(sig_eq_, sig_c1)[0]\n",
    "sig_eq"
   ]
  },
  {
   "cell_type": "code",
   "execution_count": 124,
   "metadata": {},
   "outputs": [
    {
     "data": {
      "text/latex": [
       "$\\displaystyle \\frac{\\varepsilon^{2} \\left(- 288035647501513 f_{cm}^{2} + 144328334402529000 f_{cm}\\right)}{200000000000000000 \\varepsilon_{cy}}$"
      ],
      "text/plain": [
       "varepsilon**2*(-288035647501513*f_cm**2 + 144328334402529000*f_cm)/(200000000000000000*varepsilon_cy)"
      ]
     },
     "execution_count": 124,
     "metadata": {},
     "output_type": "execute_result"
    }
   ],
   "source": [
    "sig_eq_area_up_to_eps = sp.integrate(sp.simplify(sig_eq), eps)\n",
    "sig_eq_area_up_to_eps"
   ]
  },
  {
   "cell_type": "code",
   "execution_count": 269,
   "metadata": {},
   "outputs": [
    {
     "data": {
      "text/latex": [
       "$\\displaystyle \\frac{E_{f} b d f_{cm} \\varepsilon_{cy} \\left(144328334402529000 - 288035647501513 f_{cm}\\right)}{200000000000000000 \\left(E_{f} \\varepsilon_{cy} + f_{fu}\\right)}$"
      ],
      "text/plain": [
       "E_f*b*d*f_cm*varepsilon_cy*(144328334402529000 - 288035647501513*f_cm)/(200000000000000000*(E_f*varepsilon_cy + f_{fu}))"
      ]
     },
     "execution_count": 269,
     "metadata": {},
     "output_type": "execute_result"
    }
   ],
   "source": [
    "# Compare F_t = A_f * f_fu with F_c_cy, if F_t <= F_c_1, then use psi_c formula, otherwise psi_c = 1\n",
    "# Note: one can also compare eps_top_solved with eps_c1, but the equation of eps_top_solved is more complicated\n",
    "eps_fu = f_fu/E_f\n",
    "c_1 = d * (eps_c1 / (eps_c1 + eps_fu))\n",
    "F_c_cy = sig_eq_area_up_to_eps.subs({eps:eps_c1}) * (c_1 / eps_c1) * b\n",
    "F_c_cy = sp.simplify(F_c_cy)\n",
    "F_c_cy"
   ]
  },
  {
   "cell_type": "code",
   "execution_count": 126,
   "metadata": {},
   "outputs": [
    {
     "data": {
      "text/plain": [
       "50000"
      ]
     },
     "execution_count": 126,
     "metadata": {},
     "output_type": "execute_result"
    }
   ],
   "source": [
    "2500 * 20"
   ]
  },
  {
   "cell_type": "code",
   "execution_count": 127,
   "metadata": {},
   "outputs": [
    {
     "data": {
      "text/latex": [
       "$\\displaystyle 370604.025760238$"
      ],
      "text/plain": [
       "370604.025760238"
      ]
     },
     "execution_count": 127,
     "metadata": {},
     "output_type": "execute_result"
    }
   ],
   "source": [
    "sp.N(F_c_cy.subs({f_cm:50, b:400, d:180, f_fu:2500, E_f:200000, A_f:20, E_cc:EC2.get_E_cm(50-8), eps_cy:EC2.get_eps_c1(50-8)}))"
   ]
  },
  {
   "cell_type": "code",
   "execution_count": 128,
   "metadata": {
    "scrolled": true
   },
   "outputs": [],
   "source": [
    "# Solving eps top for part 1\n",
    "def get_eps_top_solved():\n",
    "    c = d * eps/(eps + eps_fu)\n",
    "    F_t = A_f * f_fu\n",
    "    sig_z_area = sig_eq_area_up_to_eps * (c / eps)\n",
    "    F_c = sig_z_area * b\n",
    "    eps_top_solved = sp.solve(F_t - F_c, eps)[0] # TODO, this the positive solution, make sure you don't want the negative\n",
    "    eps_top_solved = sp.simplify(eps_top_solved)\n",
    "    return eps_top_solved"
   ]
  },
  {
   "cell_type": "code",
   "execution_count": 129,
   "metadata": {
    "scrolled": true
   },
   "outputs": [
    {
     "data": {
      "text/latex": [
       "$\\displaystyle - \\frac{200000000 f_{fu} \\left(\\sqrt{5} \\sqrt{A_{f}} \\sqrt{\\varepsilon_{cy}} \\sqrt{50000000000000000 A_{f} E_{f} \\varepsilon_{cy} - 288035647501513 b d f_{cm}^{2} + 144328334402529000 b d f_{cm}} + 500000000 A_{f} \\sqrt{E_{f}} \\varepsilon_{cy}\\right)}{\\sqrt{E_{f}} b d f_{cm} \\left(288035647501513 f_{cm} - 144328334402529000\\right)}$"
      ],
      "text/plain": [
       "-200000000*f_{fu}*(sqrt(5)*sqrt(A_f)*sqrt(varepsilon_cy)*sqrt(50000000000000000*A_f*E_f*varepsilon_cy - 288035647501513*b*d*f_cm**2 + 144328334402529000*b*d*f_cm) + 500000000*A_f*sqrt(E_f)*varepsilon_cy)/(sqrt(E_f)*b*d*f_cm*(288035647501513*f_cm - 144328334402529000))"
      ]
     },
     "execution_count": 129,
     "metadata": {},
     "output_type": "execute_result"
    }
   ],
   "source": [
    "eps_part_1 = get_eps_top_solved()\n",
    "eps_part_1"
   ]
  },
  {
   "cell_type": "code",
   "execution_count": 130,
   "metadata": {},
   "outputs": [],
   "source": [
    "def get_psi():\n",
    "    eps_top_solved = get_eps_top_solved()\n",
    "    sig_c_max = sig_eq.subs({eps: eps_top_solved})\n",
    "    psi_c = sp.Min(sig_c_max / f_cm, 1)\n",
    "    psi_c = sp.simplify(psi_c)\n",
    "    return psi_c"
   ]
  },
  {
   "cell_type": "code",
   "execution_count": 131,
   "metadata": {
    "scrolled": true
   },
   "outputs": [
    {
     "data": {
      "text/latex": [
       "$\\displaystyle \\min\\left(1, \\frac{\\sqrt{5} \\sqrt{A_{f}} f_{fu} \\sqrt{50000000000000000 A_{f} E_{f} \\varepsilon_{cy} - 288035647501513 b d f_{cm}^{2} + 144328334402529000 b d f_{cm}}}{500000000 \\sqrt{E_{f}} b d f_{cm} \\sqrt{\\varepsilon_{cy}}} + \\frac{A_{f} f_{fu}}{b d f_{cm}}\\right)$"
      ],
      "text/plain": [
       "Min(1, sqrt(5)*sqrt(A_f)*f_{fu}*sqrt(50000000000000000*A_f*E_f*varepsilon_cy - 288035647501513*b*d*f_cm**2 + 144328334402529000*b*d*f_cm)/(500000000*sqrt(E_f)*b*d*f_cm*sqrt(varepsilon_cy)) + A_f*f_{fu}/(b*d*f_cm))"
      ]
     },
     "execution_count": 131,
     "metadata": {},
     "output_type": "execute_result"
    }
   ],
   "source": [
    "psi_c = get_psi()\n",
    "psi_c"
   ]
  },
  {
   "cell_type": "code",
   "execution_count": 156,
   "metadata": {},
   "outputs": [
    {
     "data": {
      "text/latex": [
       "$\\displaystyle 0.451896632119519$"
      ],
      "text/plain": [
       "0.451896632119519"
      ]
     },
     "execution_count": 156,
     "metadata": {},
     "output_type": "execute_result"
    }
   ],
   "source": [
    "sp.N(psi_c.subs({f_cm:50, b:400, d:180, f_fu:2500, E_f:200000, A_f:20, E_cc:EC2.get_E_cm(50-8), eps_cy:EC2.get_eps_c1(50-8)}))"
   ]
  },
  {
   "cell_type": "code",
   "execution_count": 132,
   "metadata": {
    "scrolled": true
   },
   "outputs": [
    {
     "data": {
      "text/latex": [
       "$\\displaystyle \\min\\left(1, \\frac{\\sqrt{5} \\sqrt{A_{f}} x_{0} \\sqrt{50000000000000000 A_{f} E_{f} \\varepsilon_{cy} - 288035647501513 f_{cm}^{2} x_{1} + 144328334402529000 f_{cm} x_{1}}}{500000000 \\sqrt{E_{f}} \\sqrt{\\varepsilon_{cy}}} + A_{f} x_{0}\\right)$"
      ],
      "text/plain": [
       "Min(1, sqrt(5)*sqrt(A_f)*x0*sqrt(50000000000000000*A_f*E_f*varepsilon_cy - 288035647501513*f_cm**2*x1 + 144328334402529000*f_cm*x1)/(500000000*sqrt(E_f)*sqrt(varepsilon_cy)) + A_f*x0)"
      ]
     },
     "execution_count": 132,
     "metadata": {},
     "output_type": "execute_result"
    }
   ],
   "source": [
    "psi_c_reduced = sp.cse(psi_c)\n",
    "psi_c_reduced[-1][0]"
   ]
  },
  {
   "cell_type": "code",
   "execution_count": 154,
   "metadata": {},
   "outputs": [
    {
     "data": {
      "text/latex": [
       "$\\displaystyle \\frac{0.759736796528903 \\sqrt{5} \\sqrt{A_{f}} f_{1} \\sqrt{0.346500346500347 A_{f} E_{f} \\varepsilon_{cy} - 0.001995841995842 b d f_{cm}^{2} + b d f_{cm}}}{\\sqrt{E_{f}} \\sqrt{\\varepsilon_{cy}}} + A_{f} f_{1}$"
      ],
      "text/plain": [
       "0.759736796528903*sqrt(5)*sqrt(A_f)*f_1*sqrt(0.346500346500347*A_f*E_f*varepsilon_cy - 0.001995841995842*b*d*f_cm**2 + b*d*f_cm)/(sqrt(E_f)*sqrt(varepsilon_cy)) + A_f*f_1"
      ]
     },
     "execution_count": 154,
     "metadata": {},
     "output_type": "execute_result"
    }
   ],
   "source": [
    "f_1 = sp.symbols('f_1')\n",
    "f_1_ = f_fu / (b * d * f_cm)\n",
    "# psi_c_reduced_final = f_1*sp.sqrt(5 * A_f * (50000000000000000*A_f*E_f*eps_cy - 288035647501513*f_cm**2*b*d + \\\n",
    "#                                              144328334402529000*f_cm*b*d))/(500000000*sp.sqrt(E_f)*sp.sqrt(eps_cy)) + A_f*f_1\n",
    "psi_c_reduced_final = f_1*sp.sqrt(5 * A_f * (5*10**16*A_f*E_f*eps_cy - 2.88 * 10**14*f_cm**2*b*d + \\\n",
    "                                             1.443 * 10**17*f_cm*b*d))/(5 * 10 **8*sp.sqrt(E_f)*sp.sqrt(eps_cy)) + A_f*f_1\n",
    "\n",
    "\n",
    "psi_c_reduced_final"
   ]
  },
  {
   "cell_type": "code",
   "execution_count": 157,
   "metadata": {},
   "outputs": [
    {
     "data": {
      "text/latex": [
       "$\\displaystyle 0.451851918807199$"
      ],
      "text/plain": [
       "0.451851918807199"
      ]
     },
     "execution_count": 157,
     "metadata": {},
     "output_type": "execute_result"
    }
   ],
   "source": [
    "sp.N(psi_c_reduced_final.subs({f_1:f_1_}).subs({f_cm:50, b:400, d:180, f_fu:2500, E_f:200000, A_f:20, E_cc:EC2.get_E_cm(50-8), eps_cy:EC2.get_eps_c1(50-8)}))"
   ]
  },
  {
   "cell_type": "code",
   "execution_count": 160,
   "metadata": {},
   "outputs": [
    {
     "data": {
      "text/plain": [
       "1.6988231220465535"
      ]
     },
     "execution_count": 160,
     "metadata": {},
     "output_type": "execute_result"
    }
   ],
   "source": [
    "0.759736796528903 * np.sqrt(5)"
   ]
  },
  {
   "cell_type": "code",
   "execution_count": 168,
   "metadata": {},
   "outputs": [
    {
     "data": {
      "text/latex": [
       "$\\displaystyle \\frac{1.699 \\sqrt{A_{f}} f_{1} \\sqrt{0.3465 A_{f} E_{f} \\varepsilon_{cy} - 0.002 b d f_{cm}^{2} + b d f_{cm}}}{\\sqrt{E_{f}} \\sqrt{\\varepsilon_{cy}}} + A_{f} f_{1}$"
      ],
      "text/plain": [
       "1.699*sqrt(A_f)*f_1*sqrt(0.3465*A_f*E_f*varepsilon_cy - 0.002*b*d*f_cm**2 + b*d*f_cm)/(sqrt(E_f)*sqrt(varepsilon_cy)) + A_f*f_1"
      ]
     },
     "execution_count": 168,
     "metadata": {},
     "output_type": "execute_result"
    }
   ],
   "source": [
    "psi_c_reduced_final_final = 1.699 * sp.sqrt(A_f)*f_1\\\n",
    "*sp.sqrt(0.3465*A_f*E_f*eps_cy - 0.002*b*d*f_cm**2 + b*d*f_cm)/(sp.sqrt(E_f)*sp.sqrt(eps_cy)) + A_f*f_1\n",
    "psi_c_reduced_final_final"
   ]
  },
  {
   "cell_type": "code",
   "execution_count": 173,
   "metadata": {},
   "outputs": [
    {
     "data": {
      "text/latex": [
       "$\\displaystyle 0.451846987979982$"
      ],
      "text/plain": [
       "0.451846987979982"
      ]
     },
     "execution_count": 173,
     "metadata": {},
     "output_type": "execute_result"
    }
   ],
   "source": [
    "sp.N(psi_c_reduced_final_final.subs({f_1:f_1_}).subs({f_cm:50, b:400, d:180, f_fu:2500, E_f:200000, A_f:20, E_cc:EC2.get_E_cm(50-8), eps_cy:EC2.get_eps_c1(50-8)}))"
   ]
  },
  {
   "cell_type": "markdown",
   "metadata": {},
   "source": [
    "### Validate with Test T1"
   ]
  },
  {
   "cell_type": "code",
   "execution_count": 315,
   "metadata": {},
   "outputs": [
    {
     "data": {
      "text/plain": [
       "110740.144"
      ]
     },
     "execution_count": 315,
     "metadata": {},
     "output_type": "execute_result"
    }
   ],
   "source": [
    "3823.90 * 28.96"
   ]
  },
  {
   "cell_type": "code",
   "execution_count": 314,
   "metadata": {},
   "outputs": [
    {
     "data": {
      "text/latex": [
       "$\\displaystyle 236780.226388124$"
      ],
      "text/plain": [
       "236780.226388124"
      ]
     },
     "execution_count": 314,
     "metadata": {},
     "output_type": "execute_result"
    }
   ],
   "source": [
    "sp.N(F_c_cy.subs({f_cm:98.63, b:300, d:90, f_fu:3823.90, E_f:247468.92, A_f:28.96, E_cc:EC2.get_E_cm(98.63-8), eps_cy:EC2.get_eps_c1(98.63-8), eps_cu:EC2.get_eps_cu1(98.63-8)}))"
   ]
  },
  {
   "cell_type": "code",
   "execution_count": 310,
   "metadata": {},
   "outputs": [
    {
     "data": {
      "text/latex": [
       "$\\displaystyle 0.772181300239644$"
      ],
      "text/plain": [
       "0.772181300239644"
      ]
     },
     "execution_count": 310,
     "metadata": {},
     "output_type": "execute_result"
    }
   ],
   "source": [
    "sp.N(psi_c.subs({f_cm:98.63, b:300, d:90, f_fu:3823.90, E_f:247468.92, A_f:28.96, E_cc:EC2.get_E_cm(98.63-8), eps_cy:EC2.get_eps_c1(98.63-8), eps_cu:EC2.get_eps_cu1(98.63-8)}))"
   ]
  },
  {
   "cell_type": "markdown",
   "metadata": {},
   "source": [
    "# Final $\\psi_c$ ready for copying\n",
    "\n",
    "For $\\rho_\\mathrm{f} < \\rho_\\mathrm{fb}$, the utilization ratio for concrete is given as\n",
    "\n",
    "$\n",
    "\\psi_c = \\mathrm{Min} \\bigg(\n",
    "1.699 f_1 \\sqrt{\\frac{A_\\mathrm{f} \\cdot \\big(0.3465 A_f E_f \\varepsilon_{cy}~+~b d f_\\mathrm{cm} (~1~-~0.002 f_\\mathrm{cm}\\big)}{E_\\mathrm{f} \\varepsilon_\\mathrm{cy}}} + A_\\mathrm{f} f_1, 1 \\bigg)\n",
    "$\n",
    "\n",
    "where $f_1 = \\frac{f_\\mathrm{fu}}{b d f_\\mathrm{cm}}$\n",
    "\n",
    "Note: can be used for $\\rho_\\mathrm{f} < \\rho_\\mathrm{fb}$ without checking $F_t < F_{c, cy}$ because for that case it indeed result in a value larger than 1, so the final resulting value of 1 is correct."
   ]
  },
  {
   "cell_type": "code",
   "execution_count": 120,
   "metadata": {
    "scrolled": true
   },
   "outputs": [
    {
     "data": {
      "text/latex": [
       "$\\displaystyle - \\frac{200000000 E_{f} d \\left(\\sqrt{5} \\sqrt{A_{f}} \\sqrt{\\varepsilon_{cy}} \\sqrt{50000000000000000 A_{f} E_{f} \\varepsilon_{cy} - 288035647501513 b d f_{cm}^{2} + 144328334402529000 b d f_{cm}} + 500000000 A_{f} \\sqrt{E_{f}} \\varepsilon_{cy}\\right)}{3 \\sqrt{E_{f}} b d f_{cm} \\left(288035647501513 f_{cm} - 144328334402529000\\right) - 600000000 E_{f} \\left(\\sqrt{5} \\sqrt{A_{f}} \\sqrt{\\varepsilon_{cy}} \\sqrt{50000000000000000 A_{f} E_{f} \\varepsilon_{cy} - 288035647501513 b d f_{cm}^{2} + 144328334402529000 b d f_{cm}} + 500000000 A_{f} \\sqrt{E_{f}} \\varepsilon_{cy}\\right)}$"
      ],
      "text/plain": [
       "-200000000*E_f*d*(sqrt(5)*sqrt(A_f)*sqrt(varepsilon_cy)*sqrt(50000000000000000*A_f*E_f*varepsilon_cy - 288035647501513*b*d*f_cm**2 + 144328334402529000*b*d*f_cm) + 500000000*A_f*sqrt(E_f)*varepsilon_cy)/(3*sqrt(E_f)*b*d*f_cm*(288035647501513*f_cm - 144328334402529000) - 600000000*E_f*(sqrt(5)*sqrt(A_f)*sqrt(varepsilon_cy)*sqrt(50000000000000000*A_f*E_f*varepsilon_cy - 288035647501513*b*d*f_cm**2 + 144328334402529000*b*d*f_cm) + 500000000*A_f*sqrt(E_f)*varepsilon_cy))"
      ]
     },
     "execution_count": 120,
     "metadata": {},
     "output_type": "execute_result"
    }
   ],
   "source": [
    "# Because first part is triangle, the center of it is\n",
    "c = d * eps/(eps + eps_fu)\n",
    "ce1 = c.subs({eps: eps_part_1}) / 3\n",
    "ce1 = sp.simplify(ce1)\n",
    "ce1"
   ]
  },
  {
   "cell_type": "code",
   "execution_count": 180,
   "metadata": {
    "scrolled": true
   },
   "outputs": [
    {
     "data": {
      "text/latex": [
       "$\\displaystyle \\frac{A_{f} d f_{fu} \\left(3 \\sqrt{E_{f}} b d f_{cm} \\left(288035647501513 f_{cm} - 144328334402529000\\right) - 400000000 E_{f} \\left(\\sqrt{5} \\sqrt{A_{f}} \\sqrt{\\varepsilon_{cy}} \\sqrt{50000000000000000 A_{f} E_{f} \\varepsilon_{cy} - 288035647501513 b d f_{cm}^{2} + 144328334402529000 b d f_{cm}} + 500000000 A_{f} \\sqrt{E_{f}} \\varepsilon_{cy}\\right)\\right)}{3 \\left(\\sqrt{E_{f}} b d f_{cm} \\left(288035647501513 f_{cm} - 144328334402529000\\right) - 200000000 E_{f} \\left(\\sqrt{5} \\sqrt{A_{f}} \\sqrt{\\varepsilon_{cy}} \\sqrt{50000000000000000 A_{f} E_{f} \\varepsilon_{cy} - 288035647501513 b d f_{cm}^{2} + 144328334402529000 b d f_{cm}} + 500000000 A_{f} \\sqrt{E_{f}} \\varepsilon_{cy}\\right)\\right)}$"
      ],
      "text/plain": [
       "A_f*d*f_{fu}*(3*sqrt(E_f)*b*d*f_cm*(288035647501513*f_cm - 144328334402529000) - 400000000*E_f*(sqrt(5)*sqrt(A_f)*sqrt(varepsilon_cy)*sqrt(50000000000000000*A_f*E_f*varepsilon_cy - 288035647501513*b*d*f_cm**2 + 144328334402529000*b*d*f_cm) + 500000000*A_f*sqrt(E_f)*varepsilon_cy))/(3*(sqrt(E_f)*b*d*f_cm*(288035647501513*f_cm - 144328334402529000) - 200000000*E_f*(sqrt(5)*sqrt(A_f)*sqrt(varepsilon_cy)*sqrt(50000000000000000*A_f*E_f*varepsilon_cy - 288035647501513*b*d*f_cm**2 + 144328334402529000*b*d*f_cm) + 500000000*A_f*sqrt(E_f)*varepsilon_cy)))"
      ]
     },
     "execution_count": 180,
     "metadata": {},
     "output_type": "execute_result"
    }
   ],
   "source": [
    "# Valid for f_cm > 80 in general and in case F_t < F_c_1\n",
    "M_n_1 = sp.simplify(A_f * f_fu * (d - ce1))\n",
    "M_n_1"
   ]
  },
  {
   "cell_type": "code",
   "execution_count": 181,
   "metadata": {},
   "outputs": [
    {
     "data": {
      "text/plain": [
       "([(x0, sqrt(E_f)),\n",
       "  (x1, b*d),\n",
       "  (x2, f_cm*x1),\n",
       "  (x3, x0*x2*(288035647501513*f_cm - 144328334402529000)),\n",
       "  (x4, A_f*varepsilon_cy),\n",
       "  (x5,\n",
       "   E_f*(sqrt(5)*sqrt(A_f)*sqrt(varepsilon_cy)*sqrt(50000000000000000*E_f*x4 - 288035647501513*f_cm**2*x1 + 144328334402529000*x2) + 500000000*x0*x4))],\n",
       " [A_f*d*f_{fu}*(3*x3 - 400000000*x5)/(3*(x3 - 200000000*x5))])"
      ]
     },
     "execution_count": 181,
     "metadata": {},
     "output_type": "execute_result"
    }
   ],
   "source": [
    "# packaging common terms\n",
    "M_n_1_reduced = sp.cse(M_n_1)\n",
    "M_n_1_reduced"
   ]
  },
  {
   "cell_type": "code",
   "execution_count": 182,
   "metadata": {},
   "outputs": [
    {
     "data": {
      "text/latex": [
       "$\\displaystyle E_{f} \\left(\\sqrt{5} \\sqrt{A_{f}} \\sqrt{\\varepsilon_{cy}} \\sqrt{50000000000000000 E_{f} x_{4} - 288035647501513 f_{cm}^{2} x_{1} + 144328334402529000 x_{2}} + 500000000 x_{0} x_{4}\\right)$"
      ],
      "text/plain": [
       "E_f*(sqrt(5)*sqrt(A_f)*sqrt(varepsilon_cy)*sqrt(50000000000000000*E_f*x4 - 288035647501513*f_cm**2*x1 + 144328334402529000*x2) + 500000000*x0*x4)"
      ]
     },
     "execution_count": 182,
     "metadata": {},
     "output_type": "execute_result"
    }
   ],
   "source": [
    "M_n_1_reduced[0][-1][1]"
   ]
  },
  {
   "cell_type": "code",
   "execution_count": 183,
   "metadata": {},
   "outputs": [
    {
     "data": {
      "text/latex": [
       "$\\displaystyle \\frac{A_{f} d f_{fu} \\left(3 x_{3} - 400000000 x_{5}\\right)}{3 \\left(x_{3} - 200000000 x_{5}\\right)}$"
      ],
      "text/plain": [
       "A_f*d*f_{fu}*(3*x3 - 400000000*x5)/(3*(x3 - 200000000*x5))"
      ]
     },
     "execution_count": 183,
     "metadata": {},
     "output_type": "execute_result"
    }
   ],
   "source": [
    "M_n_1_reduced[-1][0]"
   ]
  },
  {
   "cell_type": "code",
   "execution_count": 193,
   "metadata": {},
   "outputs": [
    {
     "data": {
      "text/plain": [
       "[[x0, sqrt(E_f)],\n",
       " [x1, b*d],\n",
       " [x2, b*d*f_cm],\n",
       " [x3, sqrt(E_f)*b*d*f_cm*(288035647501513*f_cm - 144328334402529000)],\n",
       " [x4, A_f*varepsilon_cy],\n",
       " [x5,\n",
       "  E_f*(sqrt(5)*sqrt(A_f)*sqrt(varepsilon_cy)*sqrt(50000000000000000*A_f*E_f*varepsilon_cy - 288035647501513*b*d*f_cm**2 + 144328334402529000*b*d*f_cm) + 500000000*A_f*sqrt(E_f)*varepsilon_cy)]]"
      ]
     },
     "execution_count": 193,
     "metadata": {},
     "output_type": "execute_result"
    }
   ],
   "source": [
    "symb_exp_list = [[s, e] for (s, e) in M_n_1_reduced[0]]\n",
    "for symb_exp in symb_exp_list:\n",
    "    symb_exp[1] = symb_exp[1].subs({s:e for (s, e) in symb_exp_list})\n",
    "symb_exp_list"
   ]
  },
  {
   "cell_type": "code",
   "execution_count": 203,
   "metadata": {},
   "outputs": [
    {
     "data": {
      "text/latex": [
       "$\\displaystyle \\sqrt{E_{f}} b d f_{cm} \\left(288035647501513 f_{cm} - 144328334402529000\\right)$"
      ],
      "text/plain": [
       "sqrt(E_f)*b*d*f_cm*(288035647501513*f_cm - 144328334402529000)"
      ]
     },
     "execution_count": 203,
     "metadata": {},
     "output_type": "execute_result"
    }
   ],
   "source": [
    "x3 = symb_exp_list[3][1]\n",
    "x3"
   ]
  },
  {
   "cell_type": "code",
   "execution_count": 240,
   "metadata": {},
   "outputs": [
    {
     "data": {
      "text/latex": [
       "$\\displaystyle \\sqrt{E_{f}} b d f_{cm} \\left(288000000000000.0 f_{cm} - 1.443 \\cdot 10^{17}\\right)$"
      ],
      "text/plain": [
       "sqrt(E_f)*b*d*f_cm*(288000000000000.0*f_cm - 1.443e+17)"
      ]
     },
     "execution_count": 240,
     "metadata": {},
     "output_type": "execute_result"
    }
   ],
   "source": [
    "x3_final = sp.sqrt(E_f)*b*d*f_cm*(2.88 * 10**14 *f_cm - 1.443 * 10**17)\n",
    "x3_final"
   ]
  },
  {
   "cell_type": "code",
   "execution_count": 241,
   "metadata": {},
   "outputs": [
    {
     "data": {
      "text/latex": [
       "$\\displaystyle -2.09177713739195 \\cdot 10^{26}$"
      ],
      "text/plain": [
       "-2.09177713739195e+26"
      ]
     },
     "execution_count": 241,
     "metadata": {},
     "output_type": "execute_result"
    }
   ],
   "source": [
    "sp.N(x3.subs({f_cm:50, b:400, d:180, f_fu:2500, E_f:200000, A_f:20, E_cc:EC2.get_E_cm(50-8), eps_cy:EC2.get_eps_c1(50-8)}))"
   ]
  },
  {
   "cell_type": "code",
   "execution_count": 242,
   "metadata": {},
   "outputs": [
    {
     "data": {
      "text/latex": [
       "$\\displaystyle -2.091349657996 \\cdot 10^{26}$"
      ],
      "text/plain": [
       "-2.09134965799600e+26"
      ]
     },
     "execution_count": 242,
     "metadata": {},
     "output_type": "execute_result"
    }
   ],
   "source": [
    "sp.N(x3_final.subs({f_cm:50, b:400, d:180, f_fu:2500, E_f:200000, A_f:20, E_cc:EC2.get_E_cm(50-8), eps_cy:EC2.get_eps_c1(50-8)}))"
   ]
  },
  {
   "cell_type": "code",
   "execution_count": 205,
   "metadata": {},
   "outputs": [
    {
     "name": "stdout",
     "output_type": "stream",
     "text": [
      "\\sqrt{E_{f}} b d f_{cm} \\left(288035647501513 f_{cm} - 144328334402529000\\right)\n"
     ]
    }
   ],
   "source": [
    "sp.print_latex(x3_final)"
   ]
  },
  {
   "cell_type": "code",
   "execution_count": 243,
   "metadata": {},
   "outputs": [
    {
     "data": {
      "text/latex": [
       "$\\displaystyle E_{f} \\left(\\sqrt{5} \\sqrt{A_{f}} \\sqrt{\\varepsilon_{cy}} \\sqrt{50000000000000000 A_{f} E_{f} \\varepsilon_{cy} - 288035647501513 b d f_{cm}^{2} + 144328334402529000 b d f_{cm}} + 500000000 A_{f} \\sqrt{E_{f}} \\varepsilon_{cy}\\right)$"
      ],
      "text/plain": [
       "E_f*(sqrt(5)*sqrt(A_f)*sqrt(varepsilon_cy)*sqrt(50000000000000000*A_f*E_f*varepsilon_cy - 288035647501513*b*d*f_cm**2 + 144328334402529000*b*d*f_cm) + 500000000*A_f*sqrt(E_f)*varepsilon_cy)"
      ]
     },
     "execution_count": 243,
     "metadata": {},
     "output_type": "execute_result"
    }
   ],
   "source": [
    "x5 = symb_exp_list[5][1]\n",
    "x5"
   ]
  },
  {
   "cell_type": "code",
   "execution_count": 253,
   "metadata": {},
   "outputs": [
    {
     "data": {
      "text/latex": [
       "$\\displaystyle E_{f} \\left(379868398.264452 \\sqrt{5} \\sqrt{A_{f}} \\sqrt{\\varepsilon_{cy}} \\sqrt{0.346500346500347 A_{f} E_{f} \\varepsilon_{cy} - 0.001995841995842 b d f_{cm}^{2} + b d f_{cm}} + 500000000 A_{f} \\sqrt{E_{f}} \\varepsilon_{cy}\\right)$"
      ],
      "text/plain": [
       "E_f*(379868398.264452*sqrt(5)*sqrt(A_f)*sqrt(varepsilon_cy)*sqrt(0.346500346500347*A_f*E_f*varepsilon_cy - 0.001995841995842*b*d*f_cm**2 + b*d*f_cm) + 500000000*A_f*sqrt(E_f)*varepsilon_cy)"
      ]
     },
     "execution_count": 253,
     "metadata": {},
     "output_type": "execute_result"
    }
   ],
   "source": [
    "x5_final = E_f*(sp.sqrt(5)*sp.sqrt(A_f)*sp.sqrt(eps_cy)*sp.sqrt(5 * 10**16 *A_f*E_f*eps_cy - 2.88 * 10**14 *b*d*f_cm**2 + 1.443 * 10**17 *b*d*f_cm) + 5 * 10**8 *A_f*sp.sqrt(E_f)*eps_cy)\n",
    "x5_final"
   ]
  },
  {
   "cell_type": "code",
   "execution_count": 249,
   "metadata": {},
   "outputs": [
    {
     "data": {
      "text/latex": [
       "$\\displaystyle 6.85007514854441 \\cdot 10^{16}$"
      ],
      "text/plain": [
       "6.85007514854441e+16"
      ]
     },
     "execution_count": 249,
     "metadata": {},
     "output_type": "execute_result"
    }
   ],
   "source": [
    "sp.N(x5.subs({f_cm:50, b:400, d:180, f_fu:2500, E_f:200000, A_f:20, E_cc:EC2.get_E_cm(50-8), eps_cy:EC2.get_eps_c1(50-8)}))"
   ]
  },
  {
   "cell_type": "code",
   "execution_count": 250,
   "metadata": {},
   "outputs": [
    {
     "data": {
      "text/latex": [
       "$\\displaystyle 6.8493973617946 \\cdot 10^{16}$"
      ],
      "text/plain": [
       "6.84939736179460e+16"
      ]
     },
     "execution_count": 250,
     "metadata": {},
     "output_type": "execute_result"
    }
   ],
   "source": [
    "sp.N(x5_final.subs({f_cm:50, b:400, d:180, f_fu:2500, E_f:200000, A_f:20, E_cc:EC2.get_E_cm(50-8), eps_cy:EC2.get_eps_c1(50-8)}))"
   ]
  },
  {
   "cell_type": "code",
   "execution_count": 206,
   "metadata": {},
   "outputs": [
    {
     "name": "stdout",
     "output_type": "stream",
     "text": [
      "E_{f} \\left(\\sqrt{5} \\sqrt{A_{f}} \\sqrt{\\varepsilon_{cy}} \\sqrt{50000000000000000 A_{f} E_{f} \\varepsilon_{cy} - 288035647501513 b d f_{cm}^{2} + 144328334402529000 b d f_{cm}} + 500000000 A_{f} \\sqrt{E_{f}} \\varepsilon_{cy}\\right)\n"
     ]
    }
   ],
   "source": [
    "sp.print_latex(x5)"
   ]
  },
  {
   "cell_type": "code",
   "execution_count": 204,
   "metadata": {},
   "outputs": [
    {
     "name": "stdout",
     "output_type": "stream",
     "text": [
      "\\frac{A_{f} d f_{fu} \\left(3 x_{3} - 400000000 x_{5}\\right)}{3 \\left(x_{3} - 200000000 x_{5}\\right)}\n"
     ]
    }
   ],
   "source": [
    "sp.print_latex(M_n_1_reduced[-1][0])"
   ]
  },
  {
   "cell_type": "code",
   "execution_count": 251,
   "metadata": {},
   "outputs": [
    {
     "data": {
      "text/latex": [
       "$\\displaystyle 8.81557379782005$"
      ],
      "text/plain": [
       "8.81557379782005"
      ]
     },
     "execution_count": 251,
     "metadata": {},
     "output_type": "execute_result"
    }
   ],
   "source": [
    "sp.N(M_n_1_reduced[-1][0].subs({'x5': x5_final, 'x3': x3_final}).subs({f_cm:50, b:400, d:180, f_fu:2500, E_f:200000, A_f:20, E_cc:EC2.get_E_cm(50-8), eps_cy:EC2.get_eps_c1(50-8)}) / 1e6)"
   ]
  },
  {
   "cell_type": "code",
   "execution_count": 36,
   "metadata": {},
   "outputs": [
    {
     "data": {
      "text/latex": [
       "$\\displaystyle A_{f} f_{fu} \\left(- \\frac{\\beta_{1} d \\varepsilon_{cu}}{2 \\left(\\varepsilon_{cu} + \\frac{f_{fu}}{E_{f}}\\right)} + d\\right)$"
      ],
      "text/plain": [
       "A_f*f_{fu}*(-beta_1*d*varepsilon_cu/(2*(varepsilon_cu + f_{fu}/E_f)) + d)"
      ]
     },
     "execution_count": 36,
     "metadata": {},
     "output_type": "execute_result"
    }
   ],
   "source": [
    "# In case F_t > F_c_1, just use the ACI code conservative value\n",
    "beta_1  = sp.symbols('beta_1')\n",
    "c_b = (eps_cu / (eps_cu + eps_fu)) * d\n",
    "M_n_2 = A_f * f_fu * (d - beta_1 * c_b / 2)\n",
    "M_n_2"
   ]
  },
  {
   "cell_type": "code",
   "execution_count": 266,
   "metadata": {},
   "outputs": [
    {
     "name": "stdout",
     "output_type": "stream",
     "text": [
      "A_{f} f_{fu} \\left(- \\frac{\\beta_{1} d \\varepsilon_{cu}}{2 \\left(\\varepsilon_{cu} + \\frac{f_{fu}}{E_{f}}\\right)} + d\\right)\n"
     ]
    }
   ],
   "source": [
    "sp.print_latex(M_n_2)"
   ]
  },
  {
   "cell_type": "code",
   "execution_count": 252,
   "metadata": {},
   "outputs": [
    {
     "data": {
      "text/latex": [
       "$\\displaystyle 8.8155920460339$"
      ],
      "text/plain": [
       "8.81559204603390"
      ]
     },
     "execution_count": 252,
     "metadata": {},
     "output_type": "execute_result"
    }
   ],
   "source": [
    "sp.N(M_n_1.subs({f_cm:50, b:400, d:180, f_fu:2500, E_f:200000, A_f:20, E_cc:EC2.get_E_cm(50-8), eps_cy:EC2.get_eps_c1(50-8)}) / 1e6)"
   ]
  },
  {
   "cell_type": "code",
   "execution_count": 264,
   "metadata": {},
   "outputs": [
    {
     "data": {
      "text/latex": [
       "$\\displaystyle \\sqrt{E_{f}} b d f_{cm} \\left(288035647501513 f_{cm} - 144328334402529000\\right)$"
      ],
      "text/plain": [
       "sqrt(E_f)*b*d*f_cm*(288035647501513*f_cm - 144328334402529000)"
      ]
     },
     "execution_count": 264,
     "metadata": {},
     "output_type": "execute_result"
    }
   ],
   "source": [
    "x3"
   ]
  },
  {
   "cell_type": "code",
   "execution_count": 263,
   "metadata": {},
   "outputs": [
    {
     "data": {
      "text/latex": [
       "$\\displaystyle E_{f} \\left(\\sqrt{5} \\sqrt{A_{f}} \\sqrt{\\varepsilon_{cy}} \\sqrt{50000000000000000 A_{f} E_{f} \\varepsilon_{cy} - 288035647501513 b d f_{cm}^{2} + 144328334402529000 b d f_{cm}} + 500000000 A_{f} \\sqrt{E_{f}} \\varepsilon_{cy}\\right)$"
      ],
      "text/plain": [
       "E_f*(sqrt(5)*sqrt(A_f)*sqrt(varepsilon_cy)*sqrt(50000000000000000*A_f*E_f*varepsilon_cy - 288035647501513*b*d*f_cm**2 + 144328334402529000*b*d*f_cm) + 500000000*A_f*sqrt(E_f)*varepsilon_cy)"
      ]
     },
     "execution_count": 263,
     "metadata": {},
     "output_type": "execute_result"
    }
   ],
   "source": [
    "x5"
   ]
  },
  {
   "cell_type": "code",
   "execution_count": 268,
   "metadata": {},
   "outputs": [
    {
     "name": "stdout",
     "output_type": "stream",
     "text": [
      "\\frac{d \\varepsilon_{cu}}{\\varepsilon_{cu} + \\frac{f_{fu}}{E_{f}}}\n"
     ]
    }
   ],
   "source": [
    "sp.print_latex(c_b)"
   ]
  },
  {
   "cell_type": "markdown",
   "metadata": {},
   "source": [
    "## Moment capacity equation:\n",
    "\n",
    "Calculate $F_\\mathrm{c, cy}$ as:\n",
    "\n",
    "$\n",
    "F_\\mathrm{c, cy} = \\frac{E_\\mathrm{f} b d f_\\mathrm{cm} \\varepsilon_\\mathrm{cy} \\left(1.443 \\cdot 10^{17} - 2.88 \\cdot 10^{14} f_\\mathrm{cm}\\right)}{2 \\cdot 10^{17} \\left(E_\\mathrm{f} \\varepsilon_\\mathrm{cy} + f_\\mathrm{fu}\\right)}\n",
    "$\n",
    "\n",
    "and compare it with $F_t = f_\\mathrm{fu} A_\\mathrm{f}$\n",
    "\n",
    "So the moment for $\\rho_\\mathrm{f} < \\rho_\\mathrm{fb}$ is given:\n",
    "\n",
    "\\begin{equation*}\n",
    "  M_\\mathrm{n}=\n",
    "  \\begin{cases}\n",
    "      \\frac{A_\\mathrm{f} d f_\\mathrm{fu} \\left(3 m_{1} - 4 \\cdot 10^8 m_{2}\\right)}{3 \\left(m_{1} - 2 \\cdot 10^8 m_{2}\\right)},\n",
    "    & F_t \\le F_\\mathrm{c, cy}\\\\\n",
    "    ~A_\\mathrm{f} f_\\mathrm{fu} \\left(d - \\frac{\\beta_{1} c_\\mathrm{b}}{2}\\right)\n",
    ",\n",
    "    & F_t > F_\\mathrm{c, cy}.\n",
    "  \\end{cases}\n",
    "\\label{eq:beta_1}\n",
    "\\end{equation*}\n",
    "\n",
    "where\n",
    "\n",
    "$m_1 = \\sqrt{E_\\mathrm{f}} b d f_\\mathrm{cm} \\left(2.88 \\cdot 10^{14} f_\\mathrm{cm} - 1.443 \\cdot 10^{17}\\right), $\n",
    "\n",
    "and\n",
    "\n",
    "$\n",
    "m_2 = E_f \\Bigg( \\sqrt{5 A_\\mathrm{f} \\varepsilon_\\mathrm{cy} \\cdot \\bigg(5 \\cdot 10^{16} A_\\mathrm{f} E_\\mathrm{f} \\varepsilon_\\mathrm{cy} - \\frac{m_1}{\\sqrt{E_\\mathrm{f}}}\\bigg)} + 5 \\cdot 10^8 A_\\mathrm{f}~\\varepsilon_\\mathrm{cy}~\\sqrt{E_\\mathrm{f}} \\Bigg)\n",
    "$\n",
    "\n",
    "and\n",
    "\n",
    "$c_\\mathrm{b} = \\frac{d \\varepsilon_\\mathrm{cu}}{\\varepsilon_\\mathrm{cu} + \\varepsilon_\\mathrm{fu}}$\n",
    "\n",
    "and\n",
    "\n",
    "$\\varepsilon_\\mathrm{cy} = 0.001 \\cdot \\min\\left(2.8,~0.7 f_{cm}^{0.31}\\right)$\n"
   ]
  }
 ],
 "metadata": {
  "kernelspec": {
   "display_name": "Python 3 (ipykernel)",
   "language": "python",
   "name": "python3"
  },
  "language_info": {
   "codemirror_mode": {
    "name": "ipython",
    "version": 3
   },
   "file_extension": ".py",
   "mimetype": "text/x-python",
   "name": "python",
   "nbconvert_exporter": "python",
   "pygments_lexer": "ipython3",
   "version": "3.9.12"
  }
 },
 "nbformat": 4,
 "nbformat_minor": 4
}
