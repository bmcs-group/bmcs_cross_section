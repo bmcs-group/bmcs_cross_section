{
 "cells": [
  {
   "cell_type": "code",
   "execution_count": 103,
   "metadata": {},
   "outputs": [],
   "source": [
    "%matplotlib widget\n",
    "from bmcs_cross_section.api import MKappa, EC2, ACI440\n",
    "import sympy as sp\n",
    "import numpy as np\n",
    "import matplotlib.pyplot as plt"
   ]
  },
  {
   "cell_type": "markdown",
   "metadata": {},
   "source": [
    "# Deriving the two-lines equations\n",
    "\n",
    "Using a linear regression on data based on the parabolic EC2 stress-strain law of concrete"
   ]
  },
  {
   "cell_type": "code",
   "execution_count": 104,
   "metadata": {
    "scrolled": false
   },
   "outputs": [],
   "source": [
    "# EC2, eq. (3.14)\n",
    "\n",
    "sig_c1, sig_c2, sig_c3, eps_cu1, b, d, A_f, f_fu, E_f, rho_f, f_f = \\\n",
    " sp.symbols('sigma_c1 sigma_c2 sigma_c3, varepsilon_cu1, b, d, A_f, f_{fu}, E_f, rho_f, f_f', real=True, nonnegative=True)\n",
    "eps_cy, eps_cu, eps, E_cc, f_cm = \\\n",
    "sp.symbols('varepsilon_cy, varepsilon_cu, varepsilon, E_cc, f_cm', real=True, nonnegative=True)\n",
    "\n",
    "k = 1.05 * E_cc * eps_cy / f_cm\n",
    "eta = eps / eps_cy\n",
    "sig_c = f_cm * (k * eta - eta**2)/(1 + eta*(k-2))\n",
    "\n",
    "sig_c_eps_ = sp.Piecewise(\n",
    "        (0, eps > eps_cu),\n",
    "        (sig_c, eps > 0),\n",
    "        (0, True)\n",
    ")"
   ]
  },
  {
   "cell_type": "code",
   "execution_count": 105,
   "metadata": {
    "scrolled": true
   },
   "outputs": [],
   "source": [
    "# # Comparison to EC2, multi-linear concept\n",
    "\n",
    "# result2 = np.zeros((len(f_cms), 3))\n",
    "\n",
    "# for i, f_cm_ in enumerate(f_cms):\n",
    "#     sig_c_eps = sig_c_eps_.subs({E_cc:EC2.get_E_cm(f_cm_ - 8), eps_cy:eps_cy_, \n",
    "#                                 f_cm:EC2.get_f_cm(f_cm_ - 8), eps_cu:EC2.get_eps_cu1(f_cm_- 8)})\n",
    "#     get_sig = sp.lambdify(eps, sig_c_eps, 'numpy')\n",
    "#     eps_exact = np.linspace(0, eps_cy_, 300)\n",
    "#     sig_exact = get_sig(eps_exact)\n",
    "#     area_fine = np.trapz(y=sig_exact, x=eps_exact)\n",
    "    \n",
    "#     f_ck = f_cm_ - 8\n",
    "#     eps_c3 = EC2.get_eps_c3(f_ck)\n",
    "#     eps_cu3 = EC2.get_eps_cu3(f_ck)\n",
    "#     area = eps_c3 * f_cm_ / 2 + (eps_cu3 - eps_c3) * f_cm_\n",
    "    \n",
    "#     result2[i, 0] = f_cm_\n",
    "#     result2[i, 1] = area_fine\n",
    "#     result2[i, 2] = area\n",
    "# result2"
   ]
  },
  {
   "cell_type": "code",
   "execution_count": 117,
   "metadata": {},
   "outputs": [
    {
     "name": "stdout",
     "output_type": "stream",
     "text": [
      "area_exact_part_2= 0.02877701214730907\n",
      "area_exact_part_2= 0.029815737674886583\n",
      "area_exact_part_2= 0.030828691661410515\n",
      "area_exact_part_2= 0.03181655570378753\n",
      "area_exact_part_2= 0.03277995980757356\n",
      "area_exact_part_2= 0.03371948824877098\n",
      "area_exact_part_2= 0.034635684556817724\n",
      "area_exact_part_2= 0.03552905577979381\n",
      "area_exact_part_2= 0.03640007615840574\n",
      "area_exact_part_2= 0.03724919030920934\n",
      "area_exact_part_2= 0.03807681599757036\n",
      "area_exact_part_2= 0.038883346565345735\n",
      "area_exact_part_2= 0.039669153066218\n",
      "area_exact_part_2= 0.04043458615206537\n",
      "area_exact_part_2= 0.041179977746182116\n",
      "area_exact_part_2= 0.04190564253309988\n",
      "area_exact_part_2= 0.04261187928987349\n",
      "area_exact_part_2= 0.04329897207970764\n",
      "area_exact_part_2= 0.04396719132556892\n",
      "area_exact_part_2= 0.04461679477875618\n",
      "area_exact_part_2= 0.045248028395184936\n",
      "area_exact_part_2= 0.0458611271303266\n",
      "area_exact_part_2= 0.04645631566219391\n",
      "area_exact_part_2= 0.04703380905049359\n",
      "area_exact_part_2= 0.0475938133389697\n",
      "area_exact_part_2= 0.048136526107062975\n",
      "area_exact_part_2= 0.04866213697620929\n",
      "area_exact_part_2= 0.04917082807545671\n",
      "area_exact_part_2= 0.049662774470494164\n",
      "area_exact_part_2= 0.05013814455970673\n",
      "area_exact_part_2= 0.05059710044044636\n",
      "area_exact_part_2= 0.05103979824833607\n",
      "area_exact_part_2= 0.05146638847212051\n",
      "area_exact_part_2= 0.05187701624629055\n",
      "area_exact_part_2= 0.05227182162346763\n",
      "area_exact_part_2= 0.0526509398283375\n",
      "area_exact_part_2= 0.05301450149471294\n",
      "area_exact_part_2= 0.05336263288717022\n",
      "area_exact_part_2= 0.05369545610853977\n",
      "area_exact_part_2= 0.050933012796644035\n",
      "area_exact_part_2= 0.04841911156716397\n",
      "area_exact_part_2= 0.0458551057971841\n",
      "area_exact_part_2= 0.04321135972526744\n",
      "area_exact_part_2= 0.040706369624936636\n",
      "area_exact_part_2= 0.03817193011459331\n",
      "area_exact_part_2= 0.03568943554458842\n",
      "area_exact_part_2= 0.033272721493613606\n",
      "area_exact_part_2= 0.030932197721723495\n",
      "area_exact_part_2= 0.028675356080449067\n",
      "area_exact_part_2= 0.026507216390975277\n",
      "area_exact_part_2= 0.024430714921129894\n",
      "area_exact_part_2= 0.02241029333024352\n",
      "area_exact_part_2= 0.020555925889807196\n",
      "area_exact_part_2= 0.01875589387444352\n",
      "area_exact_part_2= 0.017044473509610483\n",
      "area_exact_part_2= 0.015418381314324568\n",
      "area_exact_part_2= 0.013873677973139067\n",
      "area_exact_part_2= 0.012405902530032934\n",
      "area_exact_part_2= 0.011010187901839687\n",
      "area_exact_part_2= 0.009681360795832459\n",
      "area_exact_part_2= 0.008414028693058347\n",
      "area_exact_part_2= 0.007202656172846315\n",
      "area_exact_part_2= 0.00604163250741743\n",
      "area_exact_part_2= 0.0049253321489258406\n",
      "area_exact_part_2= 0.0038481694631037084\n",
      "area_exact_part_2= 0.0028046488314402364\n",
      "area_exact_part_2= 0.0017894110443415238\n",
      "area_exact_part_2= 0.0007972767375742307\n",
      "area_exact_part_2= 0.00023759982078011517\n",
      "area_exact_part_2= 0.00015766077740262638\n",
      "area_exact_part_2= 9.953278669911167e-05\n",
      "area_exact_part_2= 5.899256721511587e-05\n",
      "area_exact_part_2= 3.219263954463172e-05\n",
      "area_exact_part_2= 1.5693749946855806e-05\n",
      "area_exact_part_2= 6.497279996209839e-06\n",
      "area_exact_part_2= 2.0776499998541718e-06\n",
      "area_exact_part_2= 4.1471999996556e-07\n",
      "area_exact_part_2= 2.6190000021551137e-08\n",
      "area_exact_part_2= 0.0\n",
      "area_exact_part_2= 2.6730000021995492e-08\n",
      "area_exact_part_2= 4.3199999996399057e-07\n",
      "area_exact_part_2= 2.2088699998184264e-06\n",
      "area_exact_part_2= 7.050239994756133e-06\n",
      "area_exact_part_2= 1.7381249920273297e-05\n",
      "area_exact_part_2= 3.639167925854229e-05\n",
      "area_exact_part_2= 6.806834507738217e-05\n",
      "area_exact_part_2= 0.00011722749446512867\n",
      "area_exact_part_2= 0.00018954718026941464\n",
      "area_exact_part_2= 0.0002915995934037693\n"
     ]
    },
    {
     "name": "stderr",
     "output_type": "stream",
     "text": [
      "C:\\Users\\hspartali\\AppData\\Local\\Temp\\ipykernel_10552\\3539078300.py:28: RuntimeWarning: invalid value encountered in double_scalars\n",
      "  sig_eps_cu1_new = 2 * area_exact_part_2 / (eps_cu_ - eps_cy_) - sig_eps_c1_new\n"
     ]
    },
    {
     "data": {
      "text/plain": [
       "array([[ 20.        ,   1.40553767,   0.25961634],\n",
       "       [ 21.        ,   1.39991292,   0.26927106],\n",
       "       [ 22.        ,   1.39449986,   0.27864123],\n",
       "       [ 23.        ,   1.38928082,   0.2877492 ],\n",
       "       [ 24.        ,   1.38424032,   0.2966147 ],\n",
       "       [ 25.        ,   1.37936465,   0.30525524],\n",
       "       [ 26.        ,   1.37464167,   0.31368645],\n",
       "       [ 27.        ,   1.37006055,   0.32192231],\n",
       "       [ 28.        ,   1.36561157,   0.32997541],\n",
       "       [ 29.        ,   1.36128601,   0.33785714],\n",
       "       [ 30.        ,   1.35707598,   0.34557778],\n",
       "       [ 31.        ,   1.35297435,   0.35314673],\n",
       "       [ 32.        ,   1.34897462,   0.36057252],\n",
       "       [ 33.        ,   1.34507086,   0.36786299],\n",
       "       [ 34.        ,   1.34125767,   0.37502531],\n",
       "       [ 35.        ,   1.33753008,   0.38206607],\n",
       "       [ 36.        ,   1.33388352,   0.38899138],\n",
       "       [ 37.        ,   1.33031378,   0.39580684],\n",
       "       [ 38.        ,   1.32681699,   0.40251767],\n",
       "       [ 39.        ,   1.32338954,   0.40912869],\n",
       "       [ 40.        ,   1.3200281 ,   0.41564439],\n",
       "       [ 41.        ,   1.31672956,   0.42206895],\n",
       "       [ 42.        ,   1.31349104,   0.42840628],\n",
       "       [ 43.        ,   1.31030984,   0.43466001],\n",
       "       [ 44.        ,   1.30718346,   0.44083354],\n",
       "       [ 45.        ,   1.30410953,   0.44693008],\n",
       "       [ 46.        ,   1.30108584,   0.45295261],\n",
       "       [ 47.        ,   1.29811033,   0.45890395],\n",
       "       [ 48.        ,   1.29518105,   0.46478674],\n",
       "       [ 49.        ,   1.29229616,   0.47060346],\n",
       "       [ 50.        ,   1.28945394,   0.47635648],\n",
       "       [ 51.        ,   1.28665276,   0.482048  ],\n",
       "       [ 52.        ,   1.28389108,   0.4876801 ],\n",
       "       [ 53.        ,   1.28116745,   0.49325478],\n",
       "       [ 54.        ,   1.27848048,   0.49877389],\n",
       "       [ 55.        ,   1.27582887,   0.50423921],\n",
       "       [ 56.        ,   1.27321137,   0.50965242],\n",
       "       [ 57.        ,   1.27062683,   0.5150151 ],\n",
       "       [ 58.        ,   1.2680741 ,   0.52032876],\n",
       "       [ 59.        ,   1.26555214,   0.55790297],\n",
       "       [ 60.        ,   1.26305992,   0.58725783],\n",
       "       [ 61.        ,   1.26059648,   0.61283805],\n",
       "       [ 62.        ,   1.25816089,   0.63233065],\n",
       "       [ 63.        ,   1.25575229,   0.65449792],\n",
       "       [ 64.        ,   1.25336981,   0.67137271],\n",
       "       [ 65.        ,   1.25101267,   0.6860688 ],\n",
       "       [ 66.        ,   1.24868009,   0.6988805 ],\n",
       "       [ 67.        ,   1.24637134,   0.71006677],\n",
       "       [ 68.        ,   1.2440857 ,   0.71985449],\n",
       "       [ 69.        ,   1.24182251,   0.72844172],\n",
       "       [ 70.        ,   1.2395811 ,   0.73600074],\n",
       "       [ 71.        ,   1.23736086,   0.73943941],\n",
       "       [ 72.        ,   1.2351612 ,   0.74861118],\n",
       "       [ 73.        ,   1.23298152,   0.75390278],\n",
       "       [ 74.        ,   1.23082128,   0.75865114],\n",
       "       [ 75.        ,   1.22867994,   0.76293796],\n",
       "       [ 76.        ,   1.22655699,   0.766833  ],\n",
       "       [ 77.        ,   1.22445193,   0.7703956 ],\n",
       "       [ 78.        ,   1.22236429,   0.77367609],\n",
       "       [ 79.        ,   1.22029361,   0.77671702],\n",
       "       [ 80.        ,   1.21823943,   0.77955424],\n",
       "       [ 81.        ,   1.21620134,   0.7822178 ],\n",
       "       [ 82.        ,   1.21417891,   0.78473284],\n",
       "       [ 83.        ,   1.21217174,   0.78712022],\n",
       "       [ 84.        ,   1.21017945,   0.78939721],\n",
       "       [ 85.        ,   1.20820166,   0.79157797],\n",
       "       [ 86.        ,   1.20623801,   0.79367404],\n",
       "       [ 87.        ,   1.20428814,   0.79569473],\n",
       "       [ 88.        ,   1.20161951,   0.79837898],\n",
       "       [ 89.        ,   1.19815505,   0.80184428],\n",
       "       [ 90.        ,   1.19470078,   0.80529895],\n",
       "       [ 91.        ,   1.19125605,   0.80874386],\n",
       "       [ 92.        ,   1.1878202 ,   0.81217977],\n",
       "       [ 93.        ,   1.18439257,   0.81560742],\n",
       "       [ 94.        ,   1.18097252,   0.81902747],\n",
       "       [ 95.        ,   1.17755941,   0.82244059],\n",
       "       [ 96.        ,   1.17415257,   0.82584743],\n",
       "       [ 97.        ,   1.17075137,   0.82924863],\n",
       "       [ 98.        ,   1.16735515,   1.16735515],\n",
       "       [ 99.        ,   1.16396326,   1.16396326],\n",
       "       [100.        ,   1.16057506,   1.16057506],\n",
       "       [101.        ,   1.15718987,   1.15718987],\n",
       "       [102.        ,   1.15380704,   1.15380704],\n",
       "       [103.        ,   1.15042588,   1.15042588],\n",
       "       [104.        ,   1.14704572,   1.14704572],\n",
       "       [105.        ,   1.14366588,   1.14366588],\n",
       "       [106.        ,   1.14028563,   1.14028563],\n",
       "       [107.        ,   1.13690428,   1.13690428],\n",
       "       [108.        ,   1.13352108,   1.13352108]])"
      ]
     },
     "execution_count": 117,
     "metadata": {},
     "output_type": "execute_result"
    }
   ],
   "source": [
    "# f_cms = np.array([ 20.,  24.,  28.,  33.,  38.,  43.,  48.,  53.,  58.,  63.,  68., 78.,  88.,  98., 108.])\n",
    "f_cms = np.linspace(20, 108, 108 -20 +1)\n",
    "result = np.zeros((len(f_cms), 3))\n",
    "\n",
    "f_cm_limit = 98\n",
    "\n",
    "for i, f_cm_ in enumerate(f_cms):\n",
    "    eps_cy_ = EC2.get_eps_c1(f_cm_ - 8)\n",
    "    eps_cu_ = EC2.get_eps_cu1(f_cm_- 8)\n",
    "\n",
    "    sig_c_eps = sig_c_eps_.subs({E_cc:EC2.get_E_cm(f_cm_ - 8), eps_cy:eps_cy_, \n",
    "                                f_cm:EC2.get_f_cm(f_cm_ - 8), eps_cu:eps_cu_})\n",
    "    get_sig = sp.lambdify(eps, sig_c_eps, 'numpy')\n",
    "    \n",
    "    eps_exact_part_1 = np.linspace(0, eps_cy_, 300)\n",
    "    sig_exact_part_1 = get_sig(eps_exact_part_1)\n",
    "    area_exact_part_1 = np.trapz(y=sig_exact_part_1, x=eps_exact_part_1)\n",
    "    \n",
    "    eps_exact_part_2 = np.linspace(eps_cy_, eps_cu_, 300)\n",
    "    sig_exact_part_2 = get_sig(eps_exact_part_2)\n",
    "    area_exact_part_2 = np.trapz(y=sig_exact_part_2, x=eps_exact_part_2)\n",
    "    \n",
    "    print('area_exact_part_2=', area_exact_part_2)\n",
    "\n",
    "    sig_eps_c1_new = 2 * area_exact_part_1 / eps_cy_\n",
    "    sig_eps_c1_scale = sig_eps_c1_new / f_cm_\n",
    "    \n",
    "    sig_eps_cu1_new = 2 * area_exact_part_2 / (eps_cu_ - eps_cy_) - sig_eps_c1_new\n",
    "    sig_eps_cu1_scale = sig_eps_c1_scale if f_cm_ >= f_cm_limit else sig_eps_cu1_new / f_cm_\n",
    "    \n",
    "    result[i] = [f_cm_, sig_eps_c1_scale, sig_eps_cu1_scale]\n",
    "\n",
    "result"
   ]
  },
  {
   "cell_type": "code",
   "execution_count": 118,
   "metadata": {
    "scrolled": true
   },
   "outputs": [
    {
     "data": {
      "text/plain": [
       "[<matplotlib.lines.Line2D at 0x26576a85b50>]"
      ]
     },
     "execution_count": 118,
     "metadata": {},
     "output_type": "execute_result"
    },
    {
     "data": {
      "application/vnd.jupyter.widget-view+json": {
       "model_id": "2e820acb70274d1aacdc91ea08853c9c",
       "version_major": 2,
       "version_minor": 0
      },
      "image/png": "[encoded data removed]",
      "text/html": [
       "\n",
       "            <div style=\"display: inline-block;\">\n",
       "                <div class=\"jupyter-widgets widget-label\" style=\"text-align: center;\">\n",
       "                    Figure\n",
       "                </div>\n",
       "                <img src='data:image/png;base64,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' width=640.0/>\n",
       "            </div>\n",
       "        "
      ],
      "text/plain": [
       "Canvas(toolbar=Toolbar(toolitems=[('Home', 'Reset original view', 'home', 'home'), ('Back', 'Back to previous …"
      ]
     },
     "metadata": {},
     "output_type": "display_data"
    }
   ],
   "source": [
    "fig1, ax1 = plt.subplots()\n",
    "ax1.plot(result[:, 0], result[:, 1])\n",
    "ax1.plot(result[:, 0], result[:, 2])"
   ]
  },
  {
   "cell_type": "code",
   "execution_count": 119,
   "metadata": {},
   "outputs": [
    {
     "data": {
      "text/plain": [
       "(1.43762037986179 - 0.00278582241716739*f_cm,\n",
       " 0.00822753426311964*f_cm + 0.0955313938528231)"
      ]
     },
     "execution_count": 119,
     "metadata": {},
     "output_type": "execute_result"
    }
   ],
   "source": [
    "# Linear regression using numpy\n",
    "\n",
    "m1, p1 = np.polyfit(result[:, 0], result[:, 1], 1)\n",
    "sig_cy_scale = m1 * f_cm + p1\n",
    "\n",
    "# Exclude f_cm >= f_cm_limit from curve fitting\n",
    "f_cms_less_than_limit = result[:, 0][result[:, 0] < f_cm_limit]\n",
    "sig_eps_cu1_scale_for_f_cms_less_than_limit = result[:, 2][result[:, 0] < f_cm_limit]\n",
    "m2, p2 = np.polyfit(f_cms_less_than_limit, sig_eps_cu1_scale_for_f_cms_less_than_limit, 1)\n",
    "sig_cu_scale = m2 * f_cm + p2\n",
    "\n",
    "sig_cy_scale, sig_cu_scale"
   ]
  },
  {
   "cell_type": "code",
   "execution_count": 120,
   "metadata": {},
   "outputs": [],
   "source": [
    "get_sig_cy_scale = sp.lambdify(f_cm, sig_cy_scale, 'numpy')\n",
    "get_sig_cu_scale = sp.lambdify(f_cm, sig_cu_scale, 'numpy')"
   ]
  },
  {
   "cell_type": "code",
   "execution_count": 121,
   "metadata": {},
   "outputs": [
    {
     "data": {
      "text/plain": [
       "[<matplotlib.lines.Line2D at 0x26577150e50>]"
      ]
     },
     "execution_count": 121,
     "metadata": {},
     "output_type": "execute_result"
    },
    {
     "data": {
      "application/vnd.jupyter.widget-view+json": {
       "model_id": "afc45202fd0a4ac18e82a643598cbf54",
       "version_major": 2,
       "version_minor": 0
      },
      "image/png": "[encoded data removed]",
      "text/html": [
       "\n",
       "            <div style=\"display: inline-block;\">\n",
       "                <div class=\"jupyter-widgets widget-label\" style=\"text-align: center;\">\n",
       "                    Figure\n",
       "                </div>\n",
       "                <img src='data:image/png;base64,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' width=640.0/>\n",
       "            </div>\n",
       "        "
      ],
      "text/plain": [
       "Canvas(toolbar=Toolbar(toolitems=[('Home', 'Reset original view', 'home', 'home'), ('Back', 'Back to previous …"
      ]
     },
     "metadata": {},
     "output_type": "display_data"
    }
   ],
   "source": [
    "fig1, ax1 = plt.subplots()\n",
    "ax1.set_xlabel('$f_\\mathrm{cm}$')\n",
    "ax1.set_ylabel('sigma_scale')\n",
    "\n",
    "ax1.plot(result[:, 0], result[:, 1])\n",
    "ax1.plot(result[:, 0], get_sig_cy_scale(result[:, 0]))\n",
    "\n",
    "ax1.plot(result[:, 0], result[:, 2])\n",
    "ax1.plot(result[:, 0], get_sig_cu_scale(result[:, 0]))"
   ]
  },
  {
   "cell_type": "code",
   "execution_count": 194,
   "metadata": {},
   "outputs": [
    {
     "name": "stdout",
     "output_type": "stream",
     "text": [
      "area_approx = 0.14279697384496404\n",
      "area_exact = 0.1427964249293711\n",
      "area_diff [%] = -0.0003844042966729845\n"
     ]
    },
    {
     "data": {
      "application/vnd.jupyter.widget-view+json": {
       "model_id": "ba04ce6152eb40f28351bd0fb8a94477",
       "version_major": 2,
       "version_minor": 0
      },
      "image/png": "[encoded data removed]",
      "text/html": [
       "\n",
       "            <div style=\"display: inline-block;\">\n",
       "                <div class=\"jupyter-widgets widget-label\" style=\"text-align: center;\">\n",
       "                    Figure\n",
       "                </div>\n",
       "                <img src='data:image/png;base64,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' width=640.0/>\n",
       "            </div>\n",
       "        "
      ],
      "text/plain": [
       "Canvas(toolbar=Toolbar(toolitems=[('Home', 'Reset original view', 'home', 'home'), ('Back', 'Back to previous …"
      ]
     },
     "metadata": {},
     "output_type": "display_data"
    }
   ],
   "source": [
    "# Just for checking..\n",
    "\n",
    "fig, ax = plt.subplots()\n",
    "\n",
    "for f_cm_ in [60]: # f_cms:\n",
    "    eps_cy_ = EC2.get_eps_c1(f_cm_ - 8)\n",
    "    eps_cu_ = EC2.get_eps_cu1(f_cm_ - 8)\n",
    "    sig_c_eps = sig_c_eps_.subs({E_cc:EC2.get_E_cm(f_cm_ - 8), eps_cy:eps_cy_, \n",
    "                                f_cm:f_cm_, eps_cu:eps_cu_})\n",
    "    get_sig = sp.lambdify(eps, sig_c_eps, 'numpy')\n",
    "    \n",
    "    eps_exact = np.linspace(0, eps_cu_, 300)\n",
    "    sig_exact = get_sig(eps_exact)\n",
    "    \n",
    "    f_cm_cy_scale = result[np.argwhere(result[:, 0] == f_cm_)[0]][0][1]\n",
    "    f_cm_cu_scale = result[np.argwhere(result[:, 0] == f_cm_)[0]][0][2]\n",
    "    eps_coarse = np.array([0., eps_cy_, eps_cu_])\n",
    "    sig_coarse = np.array([0., f_cm_ * f_cm_cy_scale, f_cm_ * f_cm_cu_scale])\n",
    "    \n",
    "    area_approx = np.trapz(y=sig_coarse, x=eps_coarse)\n",
    "    area_exact = np.trapz(y=sig_exact, x=eps_exact)\n",
    "    print('area_approx =', area_approx)\n",
    "    print('area_exact =', area_exact)\n",
    "    print('area_diff [%] =', (area_exact - area_approx) * 100 / area_exact)\n",
    "    \n",
    "    ax.fill_between(eps_coarse, sig_coarse, color= 'orange', alpha= 0.1)\n",
    "    ax.fill_between(eps_exact, sig_exact, color= 'blue', alpha= 0.1)\n",
    "    ax.set_xlabel('Concrete strain')\n",
    "    ax.set_ylabel('Concrete stress')\n",
    "    ax.plot(eps_exact, sig_exact)\n",
    "    ax.plot(eps_coarse, sig_coarse)\n",
    "    \n",
    "    # Plot example lines\n",
    "    eps_sig_coarse_equals_f_cm = np.interp(f_cm_, sig_coarse[:-1], eps_coarse[:-1])\n",
    "    eps_coarse_psi = np.array([0, eps_sig_coarse_equals_f_cm, eps_cu_])\n",
    "    sig_coarse_psi = np.array([0, f_cm_, f_cm_])\n",
    "    eps_example = 0.001\n",
    "    sig_example = np.interp(eps_example, eps_coarse, sig_coarse)\n",
    "    \n",
    "    ax.plot(eps_coarse_psi, sig_coarse_psi, label='$\\psi_c$ assumption, $\\psi_c = red/black$')\n",
    "    ax.plot([eps_example, eps_example], [0, sig_example])\n",
    "    ax.plot([eps_cy_, eps_cy_], [0, f_cm_], c='black')\n",
    "    ax.legend()\n",
    "\n",
    "# fig.show()"
   ]
  },
  {
   "cell_type": "markdown",
   "metadata": {},
   "source": [
    "# Deriving $M_u, \\rho_\\mathrm{fb}, \\psi_c, \\psi_f$ equations for the 2-lines-based material law"
   ]
  },
  {
   "cell_type": "code",
   "execution_count": 419,
   "metadata": {},
   "outputs": [],
   "source": [
    "substitute_eps_cy = False\n",
    "substitute_scaled_stress = False\n",
    "\n",
    "if substitute_eps_cy:\n",
    "    eps_cy = 0.001 * sp.Min(0.7 * f_cm ** 0.31, 2.8) # 0.001 * 0.7 * f_cm ** 0.31\n",
    "    eps_cu = 0.001 * sp.Piecewise(\n",
    "        (3.5, f_cm <= 58), \n",
    "        (2.8 + 27 * ((98 - f_cm) / 100) ** 4, True)\n",
    ")\n",
    "    \n",
    "# Don't substitute scaled_stress as it makes formulas longer and not any better!\n",
    "if substitute_scaled_stress:\n",
    "    sig_cy_scaled = f_cm * sig_cy_scale\n",
    "    sig_cu_scaled = f_cm * sig_cu_scale\n",
    "else:\n",
    "    sig_cy_scaled, sig_cu_scaled = sp.symbols(r'f_{cm_{cy}}, f_{cm_{cu}}')\n",
    "\n",
    "sig_line = sp.Line(sp.Point(0, 0), sp.Point(eps_cy, sig_cy_scaled))\n",
    "sig_line2 = sp.Line(sp.Point(eps_cy, sig_cy_scaled), sp.Point(eps_cu, sig_cu_scaled))\n",
    "\n",
    "sig_eq_1 = sig_line.equation(x=eps, y=sig_c1)\n",
    "sig_eq1 = sp.solve(sig_eq_1, sig_c1)[0]\n",
    "\n",
    "sig_eq_2 = sig_line2.equation(x=eps, y=sig_c2)\n",
    "sig_eq2 = sp.solve(sig_eq_2, sig_c2)[0]"
   ]
  },
  {
   "cell_type": "code",
   "execution_count": 420,
   "metadata": {},
   "outputs": [
    {
     "data": {
      "text/latex": [
       "$\\displaystyle \\begin{cases} \\frac{f_{cm_{cy}} \\varepsilon}{\\varepsilon_{cy}} & \\text{for}\\: \\varepsilon \\leq \\varepsilon_{cy} \\\\\\frac{f_{cm_{cu}} \\varepsilon - f_{cm_{cu}} \\varepsilon_{cy} - f_{cm_{cy}} \\varepsilon + f_{cm_{cy}} \\varepsilon_{cu}}{\\varepsilon_{cu} - \\varepsilon_{cy}} & \\text{otherwise} \\end{cases}$"
      ],
      "text/plain": [
       "Piecewise((f_{cm_{cy}}*varepsilon/varepsilon_cy, varepsilon <= varepsilon_cy), ((f_{cm_{cu}}*varepsilon - f_{cm_{cu}}*varepsilon_cy - f_{cm_{cy}}*varepsilon + f_{cm_{cy}}*varepsilon_cu)/(varepsilon_cu - varepsilon_cy), True))"
      ]
     },
     "execution_count": 420,
     "metadata": {},
     "output_type": "execute_result"
    }
   ],
   "source": [
    "sig_eq = sp.Piecewise(\n",
    "        (sig_eq1, eps <= eps_cy), \n",
    "        (sig_eq2, True)\n",
    ")\n",
    "sig_eq"
   ]
  },
  {
   "cell_type": "code",
   "execution_count": 421,
   "metadata": {},
   "outputs": [
    {
     "data": {
      "text/latex": [
       "$\\displaystyle \\begin{cases} \\frac{f_{cm_{cy}} \\varepsilon^{2}}{2 \\varepsilon_{cy}} & \\text{for}\\: \\varepsilon \\leq \\varepsilon_{cy} \\\\\\frac{f_{cm_{cy}} \\varepsilon_{cy}}{2} + \\frac{\\varepsilon^{2} \\left(f_{cm_{cu}} - f_{cm_{cy}}\\right)}{2 \\varepsilon_{cu} - 2 \\varepsilon_{cy}} + \\frac{\\varepsilon \\left(- f_{cm_{cu}} \\varepsilon_{cy} + f_{cm_{cy}} \\varepsilon_{cu}\\right)}{\\varepsilon_{cu} - \\varepsilon_{cy}} - \\frac{\\varepsilon_{cy}^{2} \\left(f_{cm_{cu}} - f_{cm_{cy}}\\right)}{2 \\varepsilon_{cu} - 2 \\varepsilon_{cy}} - \\frac{\\varepsilon_{cy} \\left(- f_{cm_{cu}} \\varepsilon_{cy} + f_{cm_{cy}} \\varepsilon_{cu}\\right)}{\\varepsilon_{cu} - \\varepsilon_{cy}} & \\text{otherwise} \\end{cases}$"
      ],
      "text/plain": [
       "Piecewise((f_{cm_{cy}}*varepsilon**2/(2*varepsilon_cy), varepsilon <= varepsilon_cy), (f_{cm_{cy}}*varepsilon_cy/2 + varepsilon**2*(f_{cm_{cu}} - f_{cm_{cy}})/(2*varepsilon_cu - 2*varepsilon_cy) + varepsilon*(-f_{cm_{cu}}*varepsilon_cy + f_{cm_{cy}}*varepsilon_cu)/(varepsilon_cu - varepsilon_cy) - varepsilon_cy**2*(f_{cm_{cu}} - f_{cm_{cy}})/(2*varepsilon_cu - 2*varepsilon_cy) - varepsilon_cy*(-f_{cm_{cu}}*varepsilon_cy + f_{cm_{cy}}*varepsilon_cu)/(varepsilon_cu - varepsilon_cy), True))"
      ]
     },
     "execution_count": 421,
     "metadata": {},
     "output_type": "execute_result"
    }
   ],
   "source": [
    "sig_eq_area = sp.integrate(sp.simplify(sig_eq), eps)\n",
    "sig_eq_area"
   ]
  },
  {
   "cell_type": "code",
   "execution_count": 422,
   "metadata": {},
   "outputs": [],
   "source": [
    "area_up_to_eps_part_1 = sig_eq_area.args[0][0]\n",
    "area_up_to_eps_part_2 = sig_eq_area.args[1][0]"
   ]
  },
  {
   "cell_type": "markdown",
   "metadata": {},
   "source": [
    "## Calculate $F_\\mathrm{c, cy}$ and $\\rho_\\mathrm{f, cy}$ defining the switch from part 1 to 2"
   ]
  },
  {
   "cell_type": "code",
   "execution_count": 339,
   "metadata": {},
   "outputs": [
    {
     "data": {
      "text/latex": [
       "$\\displaystyle \\frac{E_{f} b d f_{cm_{cy}} \\varepsilon_{cy}}{2 \\left(E_{f} \\varepsilon_{cy} + f_{fu}\\right)}$"
      ],
      "text/plain": [
       "E_f*b*d*f_{cm_{cy}}*varepsilon_cy/(2*(E_f*varepsilon_cy + f_{fu}))"
      ]
     },
     "execution_count": 339,
     "metadata": {},
     "output_type": "execute_result"
    }
   ],
   "source": [
    "# Compare F_t = A_f * f_fu with F_c_cy, if F_t <= F_c_1, then use psi_c formula, otherwise psi_c = 1\n",
    "# Note: one can also compare eps_top_solved with eps_cy, but the equation of eps_top_solved is more complicated\n",
    "eps_fu = f_fu/E_f\n",
    "c_1 = d * (eps_cy / (eps_cy + eps_fu))\n",
    "F_c_cy = area_up_to_eps_part_1.subs({eps:eps_cy}) * (c_1 / eps_cy) * b\n",
    "F_c_cy = sp.simplify(F_c_cy)\n",
    "F_c_cy"
   ]
  },
  {
   "cell_type": "code",
   "execution_count": 340,
   "metadata": {},
   "outputs": [
    {
     "data": {
      "text/latex": [
       "$\\displaystyle \\frac{E_{f} f_{cm_{cy}} \\varepsilon_{cy}}{2 f_{fu} \\left(E_{f} \\varepsilon_{cy} + f_{fu}\\right)}$"
      ],
      "text/plain": [
       "E_f*f_{cm_{cy}}*varepsilon_cy/(2*f_{fu}*(E_f*varepsilon_cy + f_{fu}))"
      ]
     },
     "execution_count": 340,
     "metadata": {},
     "output_type": "execute_result"
    }
   ],
   "source": [
    "# rho corresponding to concrete block up to eps_cy\n",
    "F_t_cy = A_f * f_fu\n",
    "A_f_cy = sp.solve(F_c_cy - F_t_cy, A_f)[0]\n",
    "rho_f_cy = A_f_cy /(b*d)\n",
    "rho_f_cy"
   ]
  },
  {
   "cell_type": "code",
   "execution_count": 392,
   "metadata": {},
   "outputs": [
    {
     "name": "stdout",
     "output_type": "stream",
     "text": [
      "\\frac{E_{f} f_{cm_{cy}} \\varepsilon_{cy}}{2 f_{fu} \\left(E_{f} \\varepsilon_{cy} + f_{fu}\\right)}\n"
     ]
    }
   ],
   "source": [
    "sp.print_latex(rho_f_cy)"
   ]
  },
  {
   "cell_type": "markdown",
   "metadata": {},
   "source": [
    "### Final $\\rho_\\mathrm{f, cy}$ formula\n",
    "\n",
    "$\\rho_\\mathrm{f, cy} = \\frac{E_{f} f_{cm_{cy}} \\varepsilon_{cy}}{2 f_{fu} \\left(E_{f} \\varepsilon_{cy} + f_{fu}\\right)}$"
   ]
  },
  {
   "cell_type": "markdown",
   "metadata": {},
   "source": [
    "## $\\psi_c$ for part 1"
   ]
  },
  {
   "cell_type": "code",
   "execution_count": 346,
   "metadata": {},
   "outputs": [
    {
     "data": {
      "text/latex": [
       "$\\displaystyle \\frac{f_{fu} \\left(\\sqrt{A_{f}} \\sqrt{\\varepsilon_{cy}} \\sqrt{A_{f} E_{f} \\varepsilon_{cy} + 2 b d f_{cm_{cy}}} + A_{f} \\sqrt{E_{f}} \\varepsilon_{cy}\\right)}{\\sqrt{E_{f}} b d f_{cm_{cy}}}$"
      ],
      "text/plain": [
       "f_{fu}*(sqrt(A_f)*sqrt(varepsilon_cy)*sqrt(A_f*E_f*varepsilon_cy + 2*b*d*f_{cm_{cy}}) + A_f*sqrt(E_f)*varepsilon_cy)/(sqrt(E_f)*b*d*f_{cm_{cy}})"
      ]
     },
     "execution_count": 346,
     "metadata": {},
     "output_type": "execute_result"
    }
   ],
   "source": [
    "# Solving eps top for part 1\n",
    "def get_eps_top_solved(index):\n",
    "    c = d * eps/(eps + eps_fu)\n",
    "    F_t = A_f * f_fu\n",
    "    area_up_to_eps = area_up_to_eps_part_1 if index == 0 else area_up_to_eps_part_2\n",
    "    sig_z_area = area_up_to_eps * (c / eps)\n",
    "    F_c = sig_z_area * b\n",
    "    eps_top_solved = sp.solve(F_t - F_c, eps)[1] # Note: this the positive solution\n",
    "    eps_top_solved = sp.simplify(eps_top_solved)\n",
    "    return eps_top_solved\n",
    "\n",
    "eps_part_1 = get_eps_top_solved(0)\n",
    "eps_part_1"
   ]
  },
  {
   "cell_type": "code",
   "execution_count": 347,
   "metadata": {},
   "outputs": [
    {
     "data": {
      "text/latex": [
       "$\\displaystyle \\min\\left(1, \\frac{\\sqrt{A_{f}} f_{fu} \\sqrt{A_{f} E_{f} \\varepsilon_{cy} + 2 b d f_{cm_{cy}}}}{\\sqrt{E_{f}} b d f_{cm} \\sqrt{\\varepsilon_{cy}}} + \\frac{A_{f} f_{fu}}{b d f_{cm}}\\right)$"
      ],
      "text/plain": [
       "Min(1, sqrt(A_f)*f_{fu}*sqrt(A_f*E_f*varepsilon_cy + 2*b*d*f_{cm_{cy}})/(sqrt(E_f)*b*d*f_cm*sqrt(varepsilon_cy)) + A_f*f_{fu}/(b*d*f_cm))"
      ]
     },
     "execution_count": 347,
     "metadata": {},
     "output_type": "execute_result"
    }
   ],
   "source": [
    "# Solving eps top for part 1\n",
    "def get_psi(index):\n",
    "    if index > 0:\n",
    "        return 1\n",
    "    else:\n",
    "        eps_top_solved = get_eps_top_solved(0)\n",
    "        sig_c_max = sig_eq1.subs({eps: eps_top_solved})\n",
    "        psi_c = sp.Min(sig_c_max / f_cm, 1)\n",
    "        psi_c = sp.simplify(psi_c)\n",
    "        return psi_c\n",
    "psi_c = get_psi(0)\n",
    "psi_c"
   ]
  },
  {
   "cell_type": "markdown",
   "metadata": {},
   "source": [
    "### Validate with data"
   ]
  },
  {
   "cell_type": "code",
   "execution_count": 433,
   "metadata": {},
   "outputs": [],
   "source": [
    "f_cms_vals = {sig_cy_scaled_:f_cm * sig_cy_scale, sig_cu_scaled_:f_cm * sig_cu_scale}\n",
    "test_vals= {f_cm:50, b:400, d:180, f_fu:2500, E_f:200000, \n",
    "            A_f:20,\n",
    "            E_cc:EC2.get_E_cm(50-8), \n",
    "            eps_cy:EC2.get_eps_c1(50-8),\n",
    "           eps_cu:EC2.get_eps_cu1(50-8)}"
   ]
  },
  {
   "cell_type": "code",
   "execution_count": 348,
   "metadata": {},
   "outputs": [
    {
     "data": {
      "text/latex": [
       "$\\displaystyle 0.451738946449611$"
      ],
      "text/plain": [
       "0.451738946449611"
      ]
     },
     "execution_count": 348,
     "metadata": {},
     "output_type": "execute_result"
    }
   ],
   "source": [
    "sp.N(psi_c.subs(f_cms_vals).subs(test_vals))"
   ]
  },
  {
   "cell_type": "markdown",
   "metadata": {},
   "source": [
    "### Validate with Test T1"
   ]
  },
  {
   "cell_type": "code",
   "execution_count": 488,
   "metadata": {},
   "outputs": [
    {
     "data": {
      "text/latex": [
       "$\\displaystyle 0.773330333072977$"
      ],
      "text/plain": [
       "0.773330333072977"
      ]
     },
     "execution_count": 488,
     "metadata": {},
     "output_type": "execute_result"
    }
   ],
   "source": [
    "T1_data = {f_cm:98.63, b:300, d:90, f_fu:3823.90, E_f:247468.92, \\\n",
    "           rho_f:28.96/(300 * 90),\n",
    "           A_f:28.96, E_cc:EC2.get_E_cm(98.63-8), eps_cy:EC2.get_eps_c1(98.63-8), \\\n",
    "           eps_cu:EC2.get_eps_cu1(98.63-8)}\n",
    "\n",
    "# Value from MK tool is about 0.77\n",
    "sp.N(psi_c.subs(f_cms_vals).subs(T1_data))"
   ]
  },
  {
   "cell_type": "markdown",
   "metadata": {},
   "source": [
    "### Reduce and print formula"
   ]
  },
  {
   "cell_type": "code",
   "execution_count": 480,
   "metadata": {},
   "outputs": [
    {
     "data": {
      "text/latex": [
       "$\\displaystyle \\min\\left(1, \\frac{\\sqrt{A_{f}} x_{0} \\sqrt{A_{f} E_{f} \\varepsilon_{cy} + 2 b d f_{cm_{cy}}}}{\\sqrt{E_{f}} \\sqrt{\\varepsilon_{cy}}} + A_{f} x_{0}\\right)$"
      ],
      "text/plain": [
       "Min(1, sqrt(A_f)*x0*sqrt(A_f*E_f*varepsilon_cy + 2*b*d*f_{cm_{cy}})/(sqrt(E_f)*sqrt(varepsilon_cy)) + A_f*x0)"
      ]
     },
     "execution_count": 480,
     "metadata": {},
     "output_type": "execute_result"
    }
   ],
   "source": [
    "psi_c_reduced = sp.cse(psi_c)\n",
    "psi_c_reduced[-1][0]"
   ]
  },
  {
   "cell_type": "code",
   "execution_count": 357,
   "metadata": {},
   "outputs": [
    {
     "name": "stdout",
     "output_type": "stream",
     "text": [
      "\\min\\left(1, \\frac{\\sqrt{A_{f}} x_{0} \\sqrt{A_{f} E_{f} \\varepsilon_{cy} + 2 b d f_{cm_{cy}}}}{\\sqrt{E_{f}} \\sqrt{\\varepsilon_{cy}}} + A_{f} x_{0}\\right)\n"
     ]
    }
   ],
   "source": [
    "sp.print_latex(psi_c_reduced[-1][0])"
   ]
  },
  {
   "cell_type": "code",
   "execution_count": 356,
   "metadata": {},
   "outputs": [
    {
     "data": {
      "text/latex": [
       "$\\displaystyle \\frac{f_{fu}}{b d f_{cm}}$"
      ],
      "text/plain": [
       "f_{fu}/(b*d*f_cm)"
      ]
     },
     "execution_count": 356,
     "metadata": {},
     "output_type": "execute_result"
    }
   ],
   "source": [
    "psi_c_reduced[0][0][1]"
   ]
  },
  {
   "cell_type": "markdown",
   "metadata": {},
   "source": [
    "### Final $\\psi_c$ formula\n",
    "\n",
    "For $\\rho_\\mathrm{f} < \\rho_\\mathrm{fb}$, the utilization ratio for concrete is given as\n",
    "\n",
    "$\n",
    "\\psi_c = \\min\\left(1,~\\frac{f_\\mathrm{fu}}{b d f_\\mathrm{cm}} \\cdot \\bigg( A_\\mathrm{f} + \\sqrt{\\frac{A_\\mathrm{f} \\cdot (A_\\mathrm{f} E_\\mathrm{f} \\varepsilon_{cy} + 2 b d f_\\mathrm{cm, cy})}{E_\\mathrm{f} \\varepsilon_\\mathrm{cy}}} \\bigg)\\right)\n",
    "$\n",
    "\n",
    "Note: can be used for $\\rho_\\mathrm{f} < \\rho_\\mathrm{fb}$ without checking $F_t < F_{c, cy}$ because for that case it indeed result in a value larger than 1, so the final resulting value of 1 is correct."
   ]
  },
  {
   "cell_type": "markdown",
   "metadata": {},
   "source": [
    "## $M_u$ for part 1"
   ]
  },
  {
   "cell_type": "code",
   "execution_count": 270,
   "metadata": {},
   "outputs": [
    {
     "data": {
      "text/latex": [
       "$\\displaystyle \\frac{E_{f} d \\left(\\sqrt{A_{f}} \\sqrt{\\varepsilon_{cy}} \\sqrt{A_{f} E_{f} \\varepsilon_{cy} + 2 b d f_{cm_{cy}}} + A_{f} \\sqrt{E_{f}} \\varepsilon_{cy}\\right)}{3 \\left(\\sqrt{E_{f}} b d f_{cm_{cy}} + E_{f} \\left(\\sqrt{A_{f}} \\sqrt{\\varepsilon_{cy}} \\sqrt{A_{f} E_{f} \\varepsilon_{cy} + 2 b d f_{cm_{cy}}} + A_{f} \\sqrt{E_{f}} \\varepsilon_{cy}\\right)\\right)}$"
      ],
      "text/plain": [
       "E_f*d*(sqrt(A_f)*sqrt(varepsilon_cy)*sqrt(A_f*E_f*varepsilon_cy + 2*b*d*f_{cm_{cy}}) + A_f*sqrt(E_f)*varepsilon_cy)/(3*(sqrt(E_f)*b*d*f_{cm_{cy}} + E_f*(sqrt(A_f)*sqrt(varepsilon_cy)*sqrt(A_f*E_f*varepsilon_cy + 2*b*d*f_{cm_{cy}}) + A_f*sqrt(E_f)*varepsilon_cy)))"
      ]
     },
     "execution_count": 270,
     "metadata": {},
     "output_type": "execute_result"
    }
   ],
   "source": [
    "# Because first part is triangle, the center of it is\n",
    "# ce: the distance from the top of the cross section to the centroid of concrete compression block\n",
    "c = d * eps/(eps + eps_fu)\n",
    "ce1 = c.subs({eps: eps_part_1}) / 3\n",
    "ce1 = sp.simplify(ce1)\n",
    "ce1"
   ]
  },
  {
   "cell_type": "code",
   "execution_count": 271,
   "metadata": {},
   "outputs": [
    {
     "data": {
      "text/latex": [
       "$\\displaystyle \\frac{A_{f} d f_{fu} \\left(3 \\sqrt{E_{f}} b d f_{cm_{cy}} + 2 E_{f} \\left(\\sqrt{A_{f}} \\sqrt{\\varepsilon_{cy}} \\sqrt{A_{f} E_{f} \\varepsilon_{cy} + 2 b d f_{cm_{cy}}} + A_{f} \\sqrt{E_{f}} \\varepsilon_{cy}\\right)\\right)}{3 \\left(\\sqrt{E_{f}} b d f_{cm_{cy}} + E_{f} \\left(\\sqrt{A_{f}} \\sqrt{\\varepsilon_{cy}} \\sqrt{A_{f} E_{f} \\varepsilon_{cy} + 2 b d f_{cm_{cy}}} + A_{f} \\sqrt{E_{f}} \\varepsilon_{cy}\\right)\\right)}$"
      ],
      "text/plain": [
       "A_f*d*f_{fu}*(3*sqrt(E_f)*b*d*f_{cm_{cy}} + 2*E_f*(sqrt(A_f)*sqrt(varepsilon_cy)*sqrt(A_f*E_f*varepsilon_cy + 2*b*d*f_{cm_{cy}}) + A_f*sqrt(E_f)*varepsilon_cy))/(3*(sqrt(E_f)*b*d*f_{cm_{cy}} + E_f*(sqrt(A_f)*sqrt(varepsilon_cy)*sqrt(A_f*E_f*varepsilon_cy + 2*b*d*f_{cm_{cy}}) + A_f*sqrt(E_f)*varepsilon_cy)))"
      ]
     },
     "execution_count": 271,
     "metadata": {},
     "output_type": "execute_result"
    }
   ],
   "source": [
    "# Valid for f_cm > 80 in general and in case F_t < F_c_1\n",
    "M_n_1 = sp.simplify(A_f * f_fu * (d - ce1))\n",
    "M_n_1"
   ]
  },
  {
   "cell_type": "markdown",
   "metadata": {},
   "source": [
    "### Reduce and print formula"
   ]
  },
  {
   "cell_type": "code",
   "execution_count": 272,
   "metadata": {},
   "outputs": [
    {
     "data": {
      "text/plain": [
       "([(x0, sqrt(E_f)),\n",
       "  (x1, b*d*f_{cm_{cy}}),\n",
       "  (x2, x0*x1),\n",
       "  (x3, A_f*varepsilon_cy),\n",
       "  (x4, E_f*(sqrt(A_f)*sqrt(varepsilon_cy)*sqrt(E_f*x3 + 2*x1) + x0*x3))],\n",
       " [A_f*d*f_{fu}*(3*x2 + 2*x4)/(3*(x2 + x4))])"
      ]
     },
     "execution_count": 272,
     "metadata": {},
     "output_type": "execute_result"
    }
   ],
   "source": [
    "# packaging common terms\n",
    "M_n_1_reduced = sp.cse(M_n_1)\n",
    "M_n_1_reduced"
   ]
  },
  {
   "cell_type": "code",
   "execution_count": 376,
   "metadata": {},
   "outputs": [
    {
     "data": {
      "text/latex": [
       "$\\displaystyle \\frac{A_{f} d f_{fu} \\left(3 x_{2} + 2 x_{4}\\right)}{3 \\left(x_{2} + x_{4}\\right)}$"
      ],
      "text/plain": [
       "A_f*d*f_{fu}*(3*x2 + 2*x4)/(3*(x2 + x4))"
      ]
     },
     "execution_count": 376,
     "metadata": {},
     "output_type": "execute_result"
    }
   ],
   "source": [
    "M_n_1_reduced[-1][0]"
   ]
  },
  {
   "cell_type": "code",
   "execution_count": 377,
   "metadata": {},
   "outputs": [
    {
     "data": {
      "text/plain": [
       "[[x0, sqrt(E_f)],\n",
       " [x1, b*d*f_{cm_{cy}}],\n",
       " [x2, sqrt(E_f)*b*d*f_{cm_{cy}}],\n",
       " [x3, A_f*varepsilon_cy],\n",
       " [x4,\n",
       "  E_f*(sqrt(A_f)*sqrt(varepsilon_cy)*sqrt(A_f*E_f*varepsilon_cy + 2*b*d*f_{cm_{cy}}) + A_f*sqrt(E_f)*varepsilon_cy)]]"
      ]
     },
     "execution_count": 377,
     "metadata": {},
     "output_type": "execute_result"
    }
   ],
   "source": [
    "symb_exp_list = [[s, e] for (s, e) in M_n_1_reduced[0]]\n",
    "for symb_exp in symb_exp_list:\n",
    "    symb_exp[1] = symb_exp[1].subs({s:e for (s, e) in symb_exp_list})\n",
    "symb_exp_list"
   ]
  },
  {
   "cell_type": "code",
   "execution_count": 378,
   "metadata": {},
   "outputs": [
    {
     "data": {
      "text/latex": [
       "$\\displaystyle \\sqrt{E_{f}} b d f_{cm_{cy}}$"
      ],
      "text/plain": [
       "sqrt(E_f)*b*d*f_{cm_{cy}}"
      ]
     },
     "execution_count": 378,
     "metadata": {},
     "output_type": "execute_result"
    }
   ],
   "source": [
    "x2 = symb_exp_list[2][1]\n",
    "x2"
   ]
  },
  {
   "cell_type": "code",
   "execution_count": 379,
   "metadata": {},
   "outputs": [
    {
     "name": "stdout",
     "output_type": "stream",
     "text": [
      "\\sqrt{E_{f}} b d f_{cm_{cy}}\n"
     ]
    }
   ],
   "source": [
    "sp.print_latex(x2)"
   ]
  },
  {
   "cell_type": "code",
   "execution_count": 381,
   "metadata": {},
   "outputs": [
    {
     "data": {
      "text/latex": [
       "$\\displaystyle E_{f} \\left(\\sqrt{A_{f}} \\sqrt{\\varepsilon_{cy}} \\sqrt{A_{f} E_{f} \\varepsilon_{cy} + 2 b d f_{cm_{cy}}} + A_{f} \\sqrt{E_{f}} \\varepsilon_{cy}\\right)$"
      ],
      "text/plain": [
       "E_f*(sqrt(A_f)*sqrt(varepsilon_cy)*sqrt(A_f*E_f*varepsilon_cy + 2*b*d*f_{cm_{cy}}) + A_f*sqrt(E_f)*varepsilon_cy)"
      ]
     },
     "execution_count": 381,
     "metadata": {},
     "output_type": "execute_result"
    }
   ],
   "source": [
    "x4 = symb_exp_list[4][1]\n",
    "x4"
   ]
  },
  {
   "cell_type": "code",
   "execution_count": 389,
   "metadata": {},
   "outputs": [
    {
     "name": "stdout",
     "output_type": "stream",
     "text": [
      "E_{f} \\left(\\sqrt{A_{f}} \\sqrt{\\varepsilon_{cy}} \\sqrt{A_{f} E_{f} \\varepsilon_{cy} + 2 b d f_{cm_{cy}}} + A_{f} \\sqrt{E_{f}} \\varepsilon_{cy}\\right)\n"
     ]
    }
   ],
   "source": [
    "sp.print_latex(x4)"
   ]
  },
  {
   "cell_type": "code",
   "execution_count": 286,
   "metadata": {},
   "outputs": [
    {
     "name": "stdout",
     "output_type": "stream",
     "text": [
      "\\frac{A_{f} d f_{fu} \\left(3 x_{2} + 2 x_{4}\\right)}{3 \\left(x_{2} + x_{4}\\right)}\n"
     ]
    }
   ],
   "source": [
    "sp.print_latex(M_n_1_reduced[-1][0])"
   ]
  },
  {
   "cell_type": "markdown",
   "metadata": {},
   "source": [
    "### Final $M_u$ formula\n",
    "\n",
    "For $\\rho_\\mathrm{f} < \\rho_\\mathrm{f, cy}$, flexural capacity is given\n",
    "\n",
    "$M_\\mathrm{u,cy} = \\frac{A_\\mathrm{f} d f_\\mathrm{fu} \\left(3 m_{1} + 2 m_{2}\\right)}{3 \\left(m_{1} + m_{2}\\right)}$\n",
    "\n",
    "with\n",
    "\n",
    "\\begin{align}\n",
    "m_1 & = \\sqrt{E_\\mathrm{f}} b d f_\\mathrm{cm, cy}, \\\\\n",
    "m_2 & =  E_f \\Bigg( \\sqrt{A_\\mathrm{f} \\varepsilon_\\mathrm{cy} \\cdot \\bigg(A_\\mathrm{f} E_\\mathrm{f} \\varepsilon_\\mathrm{cy} + \\frac{2 m_1}{\\sqrt{E_\\mathrm{f}}}\\bigg)} + A_\\mathrm{f}~\\varepsilon_\\mathrm{cy}~\\sqrt{E_\\mathrm{f}} \\Bigg)\n",
    "\\end{align}"
   ]
  },
  {
   "cell_type": "markdown",
   "metadata": {},
   "source": [
    "## Solving for the second part\n",
    "\n",
    "Note: this is complex and not usable, but left here for completeness, use the formula of $\\rho_f > \\rho_{fb}$ instead which gives conservative M_u solution."
   ]
  },
  {
   "cell_type": "code",
   "execution_count": 293,
   "metadata": {},
   "outputs": [],
   "source": [
    "# eps_part_2 = get_eps_top_solved(1)\n",
    "# eps_part_2"
   ]
  },
  {
   "cell_type": "code",
   "execution_count": 294,
   "metadata": {
    "scrolled": false
   },
   "outputs": [],
   "source": [
    "# ce_part_2 = ce2_eps_fraction.subs({eps: eps_part_2}) * c.subs({eps: eps_part_2})\n",
    "# # simplify takes forever here\n",
    "# # ce_part_2 = sp.simplify(ce_part_2)\n",
    "# ce_part_2"
   ]
  },
  {
   "cell_type": "code",
   "execution_count": 295,
   "metadata": {
    "scrolled": true
   },
   "outputs": [],
   "source": [
    "# M_n_part_2 = A_f * f_fu * (d - ce_part_2)\n",
    "# # simplify takes forever here\n",
    "# # M_n_part_2 = sp.simplify(M_n_part_2)\n",
    "# M_n_part_2"
   ]
  },
  {
   "cell_type": "markdown",
   "metadata": {},
   "source": [
    "# Deriving $M_u$ and other equations for $\\rho_\\mathrm{f} \\ge \\rho_\\mathrm{fb}$\n",
    "\n",
    "Here, we know that $\\varepsilon_{c, top} = \\varepsilon_{cu}$"
   ]
  },
  {
   "cell_type": "markdown",
   "metadata": {},
   "source": [
    "## Balanced reinforcement ratio $\\rho_\\mathrm{fb}$"
   ]
  },
  {
   "cell_type": "code",
   "execution_count": 416,
   "metadata": {},
   "outputs": [
    {
     "data": {
      "text/latex": [
       "$\\displaystyle \\frac{E_{f} \\left(f_{cm_{cu}} \\varepsilon_{cu} - f_{cm_{cu}} \\varepsilon_{cy} + f_{cm_{cy}} \\varepsilon_{cu}\\right)}{2 f_{fu} \\left(E_{f} \\varepsilon_{cu} + f_{fu}\\right)}$"
      ],
      "text/plain": [
       "E_f*(f_{cm_{cu}}*varepsilon_cu - f_{cm_{cu}}*varepsilon_cy + f_{cm_{cy}}*varepsilon_cu)/(2*f_{fu}*(E_f*varepsilon_cu + f_{fu}))"
      ]
     },
     "execution_count": 416,
     "metadata": {},
     "output_type": "execute_result"
    }
   ],
   "source": [
    "F_t = A_f * f_fu\n",
    "sig_z_area = area_up_to_eps_part_2.subs({eps:eps_cu}) * (c.subs({eps:eps_cu}) / eps_cu)\n",
    "F_c = sig_z_area * b\n",
    "A_fb = sp.solve(F_t - F_c, A_f)[0]\n",
    "A_fb = sp.simplify(A_fb)\n",
    "rho_fb = A_fb / (b * d)\n",
    "rho_fb"
   ]
  },
  {
   "cell_type": "code",
   "execution_count": 425,
   "metadata": {},
   "outputs": [
    {
     "data": {
      "text/latex": [
       "$\\displaystyle 0.00320321578123761$"
      ],
      "text/plain": [
       "0.00320321578123761"
      ]
     },
     "execution_count": 425,
     "metadata": {},
     "output_type": "execute_result"
    }
   ],
   "source": [
    "sp.N(rho_fb.subs(f_cms_vals).subs(test_vals))"
   ]
  },
  {
   "cell_type": "markdown",
   "metadata": {},
   "source": [
    "## $M_\\mathrm{u}$ for $\\rho_\\mathrm{f} > \\rho_\\mathrm{fb}$"
   ]
  },
  {
   "cell_type": "code",
   "execution_count": 428,
   "metadata": {},
   "outputs": [
    {
     "data": {
      "text/latex": [
       "$\\displaystyle \\frac{f_{cm_{cy}} \\varepsilon_{cy} \\left(3 \\varepsilon - 2 \\varepsilon_{cy}\\right) \\left(\\varepsilon_{cu} - \\varepsilon_{cy}\\right) + \\left(\\varepsilon - \\varepsilon_{cy}\\right)^{2} \\left(f_{cm_{cu}} \\varepsilon - f_{cm_{cu}} \\varepsilon_{cy} - f_{cm_{cy}} \\varepsilon + f_{cm_{cy}} \\varepsilon_{cu} + 2 f_{cm_{cy}} \\left(\\varepsilon_{cu} - \\varepsilon_{cy}\\right)\\right)}{3 \\varepsilon \\left(f_{cm_{cy}} \\varepsilon_{cy} \\left(\\varepsilon_{cu} - \\varepsilon_{cy}\\right) + \\left(\\varepsilon - \\varepsilon_{cy}\\right) \\left(f_{cm_{cu}} \\varepsilon - f_{cm_{cu}} \\varepsilon_{cy} - f_{cm_{cy}} \\varepsilon + f_{cm_{cy}} \\varepsilon_{cu} + f_{cm_{cy}} \\left(\\varepsilon_{cu} - \\varepsilon_{cy}\\right)\\right)\\right)}$"
      ],
      "text/plain": [
       "(f_{cm_{cy}}*varepsilon_cy*(3*varepsilon - 2*varepsilon_cy)*(varepsilon_cu - varepsilon_cy) + (varepsilon - varepsilon_cy)**2*(f_{cm_{cu}}*varepsilon - f_{cm_{cu}}*varepsilon_cy - f_{cm_{cy}}*varepsilon + f_{cm_{cy}}*varepsilon_cu + 2*f_{cm_{cy}}*(varepsilon_cu - varepsilon_cy)))/(3*varepsilon*(f_{cm_{cy}}*varepsilon_cy*(varepsilon_cu - varepsilon_cy) + (varepsilon - varepsilon_cy)*(f_{cm_{cu}}*varepsilon - f_{cm_{cu}}*varepsilon_cy - f_{cm_{cy}}*varepsilon + f_{cm_{cy}}*varepsilon_cu + f_{cm_{cy}}*(varepsilon_cu - varepsilon_cy))))"
      ]
     },
     "execution_count": 428,
     "metadata": {},
     "output_type": "execute_result"
    }
   ],
   "source": [
    "# Calculating centroid and area for second part:\n",
    "# -----------------------------------------------\n",
    "# The following is valid for any eps in the second descending line in the approximated sig-eps relation\n",
    "# For f_cm > f_cm_limit, only the triangle is enough as the trapz doesn't exist because eps_cy = eps_cu\n",
    "# However, even if these are used, setting eps_cy = eps_cu would cancel the trapezoidal part.\n",
    "# Therefore, eps_cu1 formula in EC2 was adapted below.\n",
    "\n",
    "triangle_area = eps_cy * sig_cy_scaled / 2\n",
    "triangle_ce = (eps - eps_cy) + eps_cy / 3\n",
    "\n",
    "small_base_trapz = sig_eq.args[1][0]\n",
    "large_base_trapz = sig_cy_scaled\n",
    "h_trapz = eps - eps_cy\n",
    "trapz_ce_dist_from_large_base = (h_trapz/3) * (large_base_trapz + 2 * small_base_trapz) / (large_base_trapz + small_base_trapz)\n",
    "trapz_ce_dist_from_large_base = sp.simplify(trapz_ce_dist_from_large_base)\n",
    "trapz_ce = eps - eps_cy - trapz_ce_dist_from_large_base\n",
    "trapz_ce = sp.simplify(trapz_ce)\n",
    "trapz_area = h_trapz * (small_base_trapz + large_base_trapz) / 2 \n",
    "trapz_area = sp.simplify(trapz_area)\n",
    "\n",
    "total_area = triangle_area + trapz_area\n",
    "\n",
    "ce2_eps = ((trapz_ce * trapz_area) + (triangle_ce * triangle_area)) / total_area\n",
    "ce2_eps_fraction = ce2_eps / eps\n",
    "ce2_eps_fraction = sp.simplify(ce2_eps_fraction)\n",
    "ce2_eps_fraction"
   ]
  },
  {
   "cell_type": "code",
   "execution_count": 471,
   "metadata": {},
   "outputs": [
    {
     "data": {
      "text/latex": [
       "$\\displaystyle \\frac{E_{f} d \\left(f_{cm_{cy}} \\varepsilon_{cy} \\left(3 \\varepsilon_{cu} - 2 \\varepsilon_{cy}\\right) + \\left(\\varepsilon_{cu} - \\varepsilon_{cy}\\right) \\left(f_{cm_{cu}} \\varepsilon_{cu} - f_{cm_{cu}} \\varepsilon_{cy} + 2 f_{cm_{cy}} \\left(\\varepsilon_{cu} - \\varepsilon_{cy}\\right)\\right)\\right)}{3 \\left(E_{f} \\varepsilon_{cu} + f_{fu}\\right) \\left(f_{cm_{cu}} \\varepsilon_{cu} - f_{cm_{cu}} \\varepsilon_{cy} + f_{cm_{cy}} \\varepsilon_{cy} + f_{cm_{cy}} \\left(\\varepsilon_{cu} - \\varepsilon_{cy}\\right)\\right)}$"
      ],
      "text/plain": [
       "E_f*d*(f_{cm_{cy}}*varepsilon_cy*(3*varepsilon_cu - 2*varepsilon_cy) + (varepsilon_cu - varepsilon_cy)*(f_{cm_{cu}}*varepsilon_cu - f_{cm_{cu}}*varepsilon_cy + 2*f_{cm_{cy}}*(varepsilon_cu - varepsilon_cy)))/(3*(E_f*varepsilon_cu + f_{fu})*(f_{cm_{cu}}*varepsilon_cu - f_{cm_{cu}}*varepsilon_cy + f_{cm_{cy}}*varepsilon_cy + f_{cm_{cy}}*(varepsilon_cu - varepsilon_cy)))"
      ]
     },
     "execution_count": 471,
     "metadata": {},
     "output_type": "execute_result"
    }
   ],
   "source": [
    "# ce: the distance from the top of the cross section to the centroid of concrete compression block\n",
    "eps_fu = f_fu / E_f\n",
    "c = d * eps/(eps + eps_fu)\n",
    "ce2 = ce2_eps_fraction.subs({eps: eps_cu}) * c.subs({eps: eps_cu})\n",
    "ce2 = sp.simplify(ce2)\n",
    "ce2"
   ]
  },
  {
   "cell_type": "code",
   "execution_count": 474,
   "metadata": {},
   "outputs": [
    {
     "data": {
      "text/latex": [
       "$\\displaystyle \\min\\left(f_{fu}, \\frac{\\sqrt{E_{f}} \\sqrt{E_{f} \\rho_{f} \\varepsilon_{cu}^{2} + 2 f_{cm_{cu}} \\varepsilon_{cu} - 2 f_{cm_{cu}} \\varepsilon_{cy} + 2 f_{cm_{cy}} \\varepsilon_{cu}}}{2 \\sqrt{\\rho_{f}}} - \\frac{E_{f} \\varepsilon_{cu}}{2}\\right)$"
      ],
      "text/plain": [
       "Min(f_{fu}, sqrt(E_f)*sqrt(E_f*rho_f*varepsilon_cu**2 + 2*f_{cm_{cu}}*varepsilon_cu - 2*f_{cm_{cu}}*varepsilon_cy + 2*f_{cm_{cy}}*varepsilon_cu)/(2*sqrt(rho_f)) - E_f*varepsilon_cu/2)"
      ]
     },
     "execution_count": 474,
     "metadata": {},
     "output_type": "execute_result"
    }
   ],
   "source": [
    "F_t = A_f * f_fu\n",
    "sig_z_area = area_up_to_eps_part_2.subs({eps:eps_cu}) * (c.subs({eps:eps_cu}) / eps_cu)\n",
    "F_c = sig_z_area * b\n",
    "f_f_sol = sp.solve(F_t - F_c, f_fu)[1].subs({A_f:rho_f * b * d})\n",
    "f_f_sol = sp.simplify(f_f_sol)\n",
    "\n",
    "# Note: if f_f > f_fu then FRP reinforcement will fail on tension (most probably a rho_f < rho_fb is used)\n",
    "f_f_ = sp.Min(f_f_sol, f_fu)\n",
    "f_f_"
   ]
  },
  {
   "cell_type": "code",
   "execution_count": 475,
   "metadata": {},
   "outputs": [
    {
     "data": {
      "text/latex": [
       "$\\displaystyle \\frac{f_{f}}{f_{fu}}$"
      ],
      "text/plain": [
       "f_f/f_{fu}"
      ]
     },
     "execution_count": 475,
     "metadata": {},
     "output_type": "execute_result"
    }
   ],
   "source": [
    "psi_f = f_f / f_fu\n",
    "psi_f"
   ]
  },
  {
   "cell_type": "code",
   "execution_count": 476,
   "metadata": {
    "scrolled": true
   },
   "outputs": [],
   "source": [
    "test_vals= {f_cm:50, b:400, d:180, f_fu:2500, E_f:200000, \n",
    "            A_f:250, \n",
    "            rho_f:250/(180*400),\n",
    "            E_cc:EC2.get_E_cm(50-8), \n",
    "            eps_cy:EC2.get_eps_c1(50-8),\n",
    "           eps_cu:EC2.get_eps_cu1(50-8)}"
   ]
  },
  {
   "cell_type": "code",
   "execution_count": 477,
   "metadata": {},
   "outputs": [
    {
     "data": {
      "text/latex": [
       "$\\displaystyle 2389.10736554292$"
      ],
      "text/plain": [
       "2389.10736554292"
      ]
     },
     "execution_count": 477,
     "metadata": {},
     "output_type": "execute_result"
    }
   ],
   "source": [
    "sp.N(f_f_.subs(f_cms_vals).subs(test_vals))"
   ]
  },
  {
   "cell_type": "code",
   "execution_count": 478,
   "metadata": {
    "scrolled": true
   },
   "outputs": [
    {
     "data": {
      "text/latex": [
       "$\\displaystyle - \\frac{A_{f} d f_{f} \\left(E_{f} \\left(f_{cm_{cy}} \\varepsilon_{cy} \\left(3 \\varepsilon_{cu} - 2 \\varepsilon_{cy}\\right) + \\left(\\varepsilon_{cu} - \\varepsilon_{cy}\\right) \\left(f_{cm_{cu}} \\varepsilon_{cu} - f_{cm_{cu}} \\varepsilon_{cy} + 2 f_{cm_{cy}} \\left(\\varepsilon_{cu} - \\varepsilon_{cy}\\right)\\right)\\right) - 3 \\left(E_{f} \\varepsilon_{cu} + f_{f}\\right) \\left(f_{cm_{cu}} \\varepsilon_{cu} - f_{cm_{cu}} \\varepsilon_{cy} + f_{cm_{cy}} \\varepsilon_{cy} + f_{cm_{cy}} \\left(\\varepsilon_{cu} - \\varepsilon_{cy}\\right)\\right)\\right)}{3 \\left(E_{f} \\varepsilon_{cu} + f_{f}\\right) \\left(f_{cm_{cu}} \\varepsilon_{cu} - f_{cm_{cu}} \\varepsilon_{cy} + f_{cm_{cy}} \\varepsilon_{cy} + f_{cm_{cy}} \\left(\\varepsilon_{cu} - \\varepsilon_{cy}\\right)\\right)}$"
      ],
      "text/plain": [
       "-A_f*d*f_f*(E_f*(f_{cm_{cy}}*varepsilon_cy*(3*varepsilon_cu - 2*varepsilon_cy) + (varepsilon_cu - varepsilon_cy)*(f_{cm_{cu}}*varepsilon_cu - f_{cm_{cu}}*varepsilon_cy + 2*f_{cm_{cy}}*(varepsilon_cu - varepsilon_cy))) - 3*(E_f*varepsilon_cu + f_f)*(f_{cm_{cu}}*varepsilon_cu - f_{cm_{cu}}*varepsilon_cy + f_{cm_{cy}}*varepsilon_cy + f_{cm_{cy}}*(varepsilon_cu - varepsilon_cy)))/(3*(E_f*varepsilon_cu + f_f)*(f_{cm_{cu}}*varepsilon_cu - f_{cm_{cu}}*varepsilon_cy + f_{cm_{cy}}*varepsilon_cy + f_{cm_{cy}}*(varepsilon_cu - varepsilon_cy)))"
      ]
     },
     "execution_count": 478,
     "metadata": {},
     "output_type": "execute_result"
    }
   ],
   "source": [
    "ce2_f_f = ce2.subs({f_fu: f_f})\n",
    "M_n_2 = A_f * f_f * (d - ce2_f_f)\n",
    "M_n_2 = sp.simplify(M_n_2)\n",
    "M_n_2\n",
    "\n",
    "# for rho<rho_fb but F_t > F_c_cy, a conservative approx is to USE THIS TOO, but with replacing f_f with f_fu ;)\n",
    "# even if f_f is used it will retrun f_fu as it's limited not to exceed it"
   ]
  },
  {
   "cell_type": "markdown",
   "metadata": {},
   "source": [
    "### Validation with Mk model\n",
    "\n",
    "\n",
    "M_u_mk_model = 97.76 kNm\n",
    "\n",
    "M_u_model = 97.65 kNm !!!\n",
    "\n",
    "M_u_aci = 81.72 kNm !!!"
   ]
  },
  {
   "cell_type": "code",
   "execution_count": 484,
   "metadata": {},
   "outputs": [
    {
     "data": {
      "text/latex": [
       "$\\displaystyle 97.6504404760672$"
      ],
      "text/plain": [
       "97.6504404760672"
      ]
     },
     "execution_count": 484,
     "metadata": {},
     "output_type": "execute_result"
    }
   ],
   "source": [
    "sp.N(M_n_2.subs({f_f:f_f_}).subs(f_cms_vals).subs(test_vals) / 1e6)"
   ]
  },
  {
   "cell_type": "code",
   "execution_count": 485,
   "metadata": {},
   "outputs": [
    {
     "data": {
      "text/plain": [
       "81.72727250760829"
      ]
     },
     "execution_count": 485,
     "metadata": {},
     "output_type": "execute_result"
    }
   ],
   "source": [
    "ACI440.get_M_n(A_f=250, f_fu=2500, E_f=200000, f_c=50, b=400, d=180)"
   ]
  },
  {
   "cell_type": "markdown",
   "metadata": {},
   "source": [
    "### Validation with T1 bending experiment"
   ]
  },
  {
   "cell_type": "code",
   "execution_count": 489,
   "metadata": {},
   "outputs": [
    {
     "data": {
      "text/latex": [
       "$\\displaystyle 9.45696190033026$"
      ],
      "text/plain": [
       "9.45696190033026"
      ]
     },
     "execution_count": 489,
     "metadata": {},
     "output_type": "execute_result"
    }
   ],
   "source": [
    "sp.N(M_n_2.subs({f_f:f_f_}).subs(f_cms_vals).subs(T1_data) / 1e6)"
   ]
  },
  {
   "cell_type": "code",
   "execution_count": 493,
   "metadata": {},
   "outputs": [
    {
     "data": {
      "text/plain": [
       "9.439980300822834"
      ]
     },
     "execution_count": 493,
     "metadata": {},
     "output_type": "execute_result"
    }
   ],
   "source": [
    "ACI440.get_M_n(A_f=T1_data[A_f], f_fu=T1_data[f_fu], E_f=T1_data[E_f], f_c=T1_data[f_cm], b=T1_data[b], d=T1_data[d])"
   ]
  },
  {
   "cell_type": "code",
   "execution_count": 494,
   "metadata": {},
   "outputs": [
    {
     "data": {
      "text/latex": [
       "$\\displaystyle 0.00230061827749369$"
      ],
      "text/plain": [
       "0.00230061827749369"
      ]
     },
     "execution_count": 494,
     "metadata": {},
     "output_type": "execute_result"
    }
   ],
   "source": [
    "sp.N(rho_fb.subs({f_f:f_f_}).subs(f_cms_vals).subs(T1_data))"
   ]
  },
  {
   "cell_type": "code",
   "execution_count": 495,
   "metadata": {},
   "outputs": [
    {
     "data": {
      "text/plain": [
       "0.0023169231194534973"
      ]
     },
     "execution_count": 495,
     "metadata": {},
     "output_type": "execute_result"
    }
   ],
   "source": [
    "ACI440.get_rho_balanced(f_c=T1_data[f_cm], f_fu=T1_data[f_fu], E_f=T1_data[E_f])"
   ]
  },
  {
   "cell_type": "code",
   "execution_count": 461,
   "metadata": {
    "scrolled": true
   },
   "outputs": [
    {
     "name": "stderr",
     "output_type": "stream",
     "text": [
      "C:\\Users\\hspartali\\AppData\\Local\\Temp\\ipykernel_10552\\406985166.py:1: RuntimeWarning: More than 20 figures have been opened. Figures created through the pyplot interface (`matplotlib.pyplot.figure`) are retained until explicitly closed and may consume too much memory. (To control this warning, see the rcParam `figure.max_open_warning`).\n",
      "  fig, ax = plt.subplots()\n"
     ]
    },
    {
     "data": {
      "text/plain": [
       "<matplotlib.legend.Legend at 0x26577c116d0>"
      ]
     },
     "execution_count": 461,
     "metadata": {},
     "output_type": "execute_result"
    },
    {
     "data": {
      "application/vnd.jupyter.widget-view+json": {
       "model_id": "e71fbb1a1b3942c1b0bf9ecc8678ad11",
       "version_major": 2,
       "version_minor": 0
      },
      "image/png": "[encoded data removed]",
      "text/html": [
       "\n",
       "            <div style=\"display: inline-block;\">\n",
       "                <div class=\"jupyter-widgets widget-label\" style=\"text-align: center;\">\n",
       "                    Figure\n",
       "                </div>\n",
       "                <img src='data:image/png;base64,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' width=640.0/>\n",
       "            </div>\n",
       "        "
      ],
      "text/plain": [
       "Canvas(toolbar=Toolbar(toolitems=[('Home', 'Reset original view', 'home', 'home'), ('Back', 'Back to previous …"
      ]
     },
     "metadata": {},
     "output_type": "display_data"
    }
   ],
   "source": [
    "fig, ax = plt.subplots()\n",
    "rho_list = np.linspace(0.1/100, 2.5/100, 200)\n",
    "A_f_list = rho_list * 200 * 280\n",
    "get_M_n = sp.lambdify(A_f, M_n_2.subs({f_f:f_f_sol, rho_f:A_f/(b*d)}).subs(f_cms_vals).subs({f_cm:48, b:200, d:280, f_fu:2500, E_f:158000, E_cc:EC2.get_E_cm(48-8), eps_cy:EC2.get_eps_c1(48-8), eps_cu:EC2.get_eps_cu1(48-8)}), 'numpy')\n",
    "\n",
    "get_M_n_aci = np.zeros_like(rho_list)\n",
    "for i, A_f_ in enumerate(A_f_list):\n",
    "    get_M_n_aci[i] = ACI440.get_M_n(A_f=A_f_, f_fu=2500, E_f=158000, f_c=48, b=200, d=280)\n",
    "\n",
    "ax.plot(rho_list, get_M_n(A_f_list)/1e6)\n",
    "ax.plot(rho_list, get_M_n_aci, label='ACI')\n",
    "ax.legend()"
   ]
  },
  {
   "cell_type": "code",
   "execution_count": 459,
   "metadata": {},
   "outputs": [
    {
     "data": {
      "text/plain": [
       "0.0018393513305793058"
      ]
     },
     "execution_count": 459,
     "metadata": {},
     "output_type": "execute_result"
    }
   ],
   "source": [
    "ACI440.get_rho_balanced(f_c=48, f_fu=2500, E_f=158000)"
   ]
  },
  {
   "cell_type": "code",
   "execution_count": 460,
   "metadata": {},
   "outputs": [
    {
     "data": {
      "text/latex": [
       "$\\displaystyle 0.00255381989675629$"
      ],
      "text/plain": [
       "0.00255381989675629"
      ]
     },
     "execution_count": 460,
     "metadata": {},
     "output_type": "execute_result"
    }
   ],
   "source": [
    "rho_fb.subs({f_f:f_f_sol, rho_f:A_f/(b*d)}).subs(f_cms_vals).subs({f_cm:48, b:200, d:280, f_fu:2500, E_f:158000, E_cc:EC2.get_E_cm(48-8), eps_cy:EC2.get_eps_c1(48-8), eps_cu:EC2.get_eps_cu1(48-8)})"
   ]
  },
  {
   "cell_type": "markdown",
   "metadata": {},
   "source": [
    "### Validation with experiments\n",
    "\n",
    "**BC2HA** beam from Thériault1998_Effects of FRP Reinforcement Ratio and Concrete Strength on Flexural Behavior of Concrete Beams.pdf\n",
    "\n",
    "M_u_experiment = 19.7 kNm\n",
    "\n",
    "M_u_model = 19.7 kNm !!!\n",
    "\n",
    "M_u_aci = 16 kNm !!!"
   ]
  },
  {
   "cell_type": "code",
   "execution_count": 469,
   "metadata": {},
   "outputs": [
    {
     "data": {
      "text/latex": [
       "$\\displaystyle 19.7172786302442$"
      ],
      "text/plain": [
       "19.7172786302442"
      ]
     },
     "execution_count": 469,
     "metadata": {},
     "output_type": "execute_result"
    }
   ],
   "source": [
    "sp.N(M_n_2.subs({f_f:f_f_}).subs(f_cms_vals).subs({f_cm:57.2, b:130, d:180-20-6-12.3/2, f_fu:773, E_f:38000,  rho_f:2*np.pi*(12.3/2)**2/(130*(180-20-6-12.3/2)), A_f:2*np.pi*(12.3/2)**2, E_cc:EC2.get_E_cm(57.2-8), eps_cy:EC2.get_eps_c1(57.2-8), eps_cu:EC2.get_eps_cu1(57.2-8)}) / 1e6)"
   ]
  },
  {
   "cell_type": "code",
   "execution_count": 470,
   "metadata": {},
   "outputs": [
    {
     "data": {
      "text/plain": [
       "16.014750484294655"
      ]
     },
     "execution_count": 470,
     "metadata": {},
     "output_type": "execute_result"
    }
   ],
   "source": [
    "ACI440.get_M_n(A_f=2*np.pi*(12.3/2)**2, f_fu=773, E_f=38000, f_c=57.2, b=130, d=180-20-6-12.3/2)"
   ]
  },
  {
   "cell_type": "markdown",
   "metadata": {},
   "source": [
    "### Reduce and print formula"
   ]
  },
  {
   "cell_type": "code",
   "execution_count": 481,
   "metadata": {},
   "outputs": [
    {
     "data": {
      "text/plain": [
       "([(x0, E_f*varepsilon_cu + f_f),\n",
       "  (x1, f_{cm_{cy}}*varepsilon_cy),\n",
       "  (x2, varepsilon_cu - varepsilon_cy),\n",
       "  (x3, f_{cm_{cy}}*x2),\n",
       "  (x4, f_{cm_{cu}}*varepsilon_cu - f_{cm_{cu}}*varepsilon_cy),\n",
       "  (x5, x1 + x3 + x4)],\n",
       " [-A_f*d*f_f*(E_f*(x1*(3*varepsilon_cu - 2*varepsilon_cy) + x2*(2*x3 + x4)) - 3*x0*x5)/(3*x0*x5)])"
      ]
     },
     "execution_count": 481,
     "metadata": {},
     "output_type": "execute_result"
    }
   ],
   "source": [
    "# packaging common terms\n",
    "M_n_2_reduced = sp.cse(M_n_2)\n",
    "M_n_2_reduced"
   ]
  },
  {
   "cell_type": "code",
   "execution_count": 482,
   "metadata": {},
   "outputs": [
    {
     "data": {
      "text/latex": [
       "$\\displaystyle - \\frac{A_{f} d f_{f} \\left(E_{f} \\left(x_{1} \\cdot \\left(3 \\varepsilon_{cu} - 2 \\varepsilon_{cy}\\right) + x_{2} \\cdot \\left(2 x_{3} + x_{4}\\right)\\right) - 3 x_{0} x_{5}\\right)}{3 x_{0} x_{5}}$"
      ],
      "text/plain": [
       "-A_f*d*f_f*(E_f*(x1*(3*varepsilon_cu - 2*varepsilon_cy) + x2*(2*x3 + x4)) - 3*x0*x5)/(3*x0*x5)"
      ]
     },
     "execution_count": 482,
     "metadata": {},
     "output_type": "execute_result"
    }
   ],
   "source": [
    "M_n_2_reduced[-1][0]"
   ]
  },
  {
   "cell_type": "code",
   "execution_count": 483,
   "metadata": {
    "scrolled": true
   },
   "outputs": [
    {
     "data": {
      "text/plain": [
       "[[x0, E_f*varepsilon_cu + f_f],\n",
       " [x1, f_{cm_{cy}}*varepsilon_cy],\n",
       " [x2, varepsilon_cu - varepsilon_cy],\n",
       " [x3, f_{cm_{cy}}*(varepsilon_cu - varepsilon_cy)],\n",
       " [x4, f_{cm_{cu}}*varepsilon_cu - f_{cm_{cu}}*varepsilon_cy],\n",
       " [x5,\n",
       "  f_{cm_{cu}}*varepsilon_cu - f_{cm_{cu}}*varepsilon_cy + f_{cm_{cy}}*varepsilon_cy + f_{cm_{cy}}*(varepsilon_cu - varepsilon_cy)]]"
      ]
     },
     "execution_count": 483,
     "metadata": {},
     "output_type": "execute_result"
    }
   ],
   "source": [
    "symb_exp_list = [[s, e] for (s, e) in M_n_2_reduced[0]]\n",
    "for symb_exp in symb_exp_list:\n",
    "    symb_exp[1] = symb_exp[1].subs({s:e for (s, e) in symb_exp_list})\n",
    "symb_exp_list"
   ]
  },
  {
   "cell_type": "markdown",
   "metadata": {},
   "source": [
    "### Final $M_u$ formula\n",
    "\n",
    "For $\\rho_\\mathrm{f} > \\rho_\\mathrm{f, cy}$, flexural capacity is given\n",
    "\n",
    "$M_\\mathrm{u,cu} = xxx$\n",
    "\n",
    "with\n",
    "\n",
    "<!-- \\begin{align}\n",
    "m_1 & = \\sqrt{E_\\mathrm{f}} b d f_\\mathrm{cm, cy}, \\\\\n",
    "m_2 & =  E_f \\Bigg( \\sqrt{A_\\mathrm{f} \\varepsilon_\\mathrm{cy} \\cdot \\bigg(A_\\mathrm{f} E_\\mathrm{f} \\varepsilon_\\mathrm{cy} + \\frac{2 m_1}{\\sqrt{E_\\mathrm{f}}}\\bigg)} + A_\\mathrm{f}~\\varepsilon_\\mathrm{cy}~\\sqrt{E_\\mathrm{f}} \\Bigg)\n",
    "\\end{align} -->\n",
    "\n",
    "Note: this formula is exact for $\\rho_\\mathrm{f} > \\rho_\\mathrm{fb}$ and for $\\rho_\\mathrm{f, cy} < \\rho_\\mathrm{f} < \\rho_\\mathrm{fb}$ it's a conservative approx. considering the whole concrete block which gives larger ce resulting in smaller M_u"
   ]
  },
  {
   "cell_type": "markdown",
   "metadata": {},
   "source": [
    "# Summary"
   ]
  },
  {
   "cell_type": "markdown",
   "metadata": {},
   "source": [
    "## Moment capacity\n",
    "\n",
    "Calculate $\\rho_\\mathrm{f,cy}$ as:\n",
    "\n",
    "$\n",
    "\\rho_\\mathrm{f,cy} = \\frac{E_\\mathrm{f} f_\\mathrm{cm} \\varepsilon_\\mathrm{cy} \\left(1.438 \\cdot 10^{17} - 2.786 \\cdot 10^{14} f_\\mathrm{cm}\\right)}{2 \\cdot 10^{17} f_\\mathrm{fu} \\left(E_\\mathrm{f} \\varepsilon_\\mathrm{cy} + f_\\mathrm{fu}\\right)}\n",
    "$\n",
    "\n",
    "The ultimate flexural moment is given:\n",
    "\n",
    "\\begin{equation*}\n",
    "  M_\\mathrm{u}=\n",
    "  \\begin{cases}\n",
    "      M_\\mathrm{u,cy},\n",
    "    & \\rho_\\mathrm{f} \\le \\rho_\\mathrm{f,cy}\\\\\n",
    "      M_\\mathrm{u,cu},\n",
    "    & \\rho_\\mathrm{f} > \\rho_\\mathrm{f,cy}.\n",
    "  \\end{cases}\n",
    "\\end{equation*}\n",
    "\n",
    "where\n",
    "\n",
    "$M_\\mathrm{u,cy} = \\frac{A_\\mathrm{f} d f_\\mathrm{fu} \\left(3 m_{1} + 2 m_{2}\\right)}{3 \\left(m_{1} + m_{2}\\right)}$\n",
    "\n",
    "with\n",
    "\n",
    "\\begin{align}\n",
    "m_1 & = \\sqrt{E_\\mathrm{f}} b d f_\\mathrm{cm, cy}, \\\\\n",
    "m_2 & =  E_f \\Bigg( \\sqrt{A_\\mathrm{f} \\varepsilon_\\mathrm{cy} \\cdot \\bigg(A_\\mathrm{f} E_\\mathrm{f} \\varepsilon_\\mathrm{cy} + \\frac{2 m_1}{\\sqrt{E_\\mathrm{f}}}\\bigg)} + A_\\mathrm{f}~\\varepsilon_\\mathrm{cy}~\\sqrt{E_\\mathrm{f}} \\Bigg)\n",
    "\\end{align}\n",
    "\n",
    "and\n",
    "\n",
    "$\\varepsilon_\\mathrm{cy} = 0.001 \\cdot \\min\\left(2.8,~0.7 f_{cm}^{0.31}\\right)$\n",
    "\\begin{equation*}\n",
    "  \\varepsilon_\\mathrm{cu}= 0.001 \\cdot\n",
    "  \\begin{cases}\n",
    "      3.5 ,\n",
    "    & f_\\mathrm{cm} \\le 58~\\mathrm{MPa} \\\\\n",
    "    2.8 + 27 \\cdot \\big(\\frac{98 - f_\\mathrm{cm}}{100}\\big)^4,\n",
    "    & 58~\\mathrm{MPa} < f_\\mathrm{cm} \\boldsymbol{\\le 98~\\mathrm{MPa}}\\\\\n",
    "    \\boldsymbol{2.8,}\n",
    "    & \\boldsymbol{f_\\mathrm{cm} > 98~\\mathrm{MPa}}.\n",
    "  \\end{cases}\n",
    "\\end{equation*}\n",
    "\n",
    "The bold marked text is an adaptation to EC2 formula."
   ]
  },
  {
   "cell_type": "markdown",
   "metadata": {},
   "source": [
    "## Material utilization factors ($\\psi_\\mathrm{c}~and~\\psi_\\mathrm{f}$)\n",
    "\n",
    "\\begin{equation*}\n",
    "  \\psi_\\mathrm{c} =\n",
    "  \\begin{cases}\n",
    "\\psi_c = \\min\\left(1,~\\frac{f_\\mathrm{fu}}{b d f_\\mathrm{cm}} \\cdot \\bigg( A_\\mathrm{f} + \\sqrt{\\frac{A_\\mathrm{f} \\cdot (A_\\mathrm{f} E_\\mathrm{f} \\varepsilon_{cy} + 2 b d f_\\mathrm{cm, cy})}{E_\\mathrm{f} \\varepsilon_\\mathrm{cy}}} \\bigg)\\right)\n",
    ",\n",
    "    & \\rho_\\mathrm{f} < \\rho_\\mathrm{f,cy}\\\\\n",
    "      1,\n",
    "    & \\rho_\\mathrm{f} \\ge \\rho_\\mathrm{f,cy}.\n",
    "  \\end{cases}\n",
    "\\end{equation*}\n",
    "\n",
    "\\begin{equation*}\n",
    "  \\psi_\\mathrm{f} =\n",
    "  \\begin{cases}\n",
    "      \\frac{f_\\mathrm{f}}{f_\\mathrm{fu}},\n",
    "    & \\rho_\\mathrm{f} > \\rho_\\mathrm{fb}\\\\\n",
    "      1,\n",
    "    & \\rho_\\mathrm{f} \\le \\rho_\\mathrm{fb}.\n",
    "  \\end{cases}\n",
    "\\end{equation*}"
   ]
  },
  {
   "cell_type": "code",
   "execution_count": 207,
   "metadata": {},
   "outputs": [
    {
     "data": {
      "text/latex": [
       "$\\displaystyle \\min\\left(1, \\frac{\\sqrt{5} \\sqrt{A_{f}} x_{0} \\sqrt{50000000000000000 A_{f} E_{f} \\varepsilon_{cy} - 278582241716739 f_{cm}^{2} x_{1} + 143762037986179000 f_{cm} x_{1}}}{500000000 \\sqrt{E_{f}} \\sqrt{\\varepsilon_{cy}}} + A_{f} x_{0}\\right)$"
      ],
      "text/plain": [
       "Min(1, sqrt(5)*sqrt(A_f)*x0*sqrt(50000000000000000*A_f*E_f*varepsilon_cy - 278582241716739*f_cm**2*x1 + 143762037986179000*f_cm*x1)/(500000000*sqrt(E_f)*sqrt(varepsilon_cy)) + A_f*x0)"
      ]
     },
     "execution_count": 207,
     "metadata": {},
     "output_type": "execute_result"
    }
   ],
   "source": [
    "psi_c_reduced[-1][0]"
   ]
  }
 ],
 "metadata": {
  "kernelspec": {
   "display_name": "Python 3 (ipykernel)",
   "language": "python",
   "name": "python3"
  },
  "language_info": {
   "codemirror_mode": {
    "name": "ipython",
    "version": 3
   },
   "file_extension": ".py",
   "mimetype": "text/x-python",
   "name": "python",
   "nbconvert_exporter": "python",
   "pygments_lexer": "ipython3",
   "version": "3.9.12"
  },
  "toc": {
   "base_numbering": 1,
   "nav_menu": {},
   "number_sections": true,
   "sideBar": true,
   "skip_h1_title": false,
   "title_cell": "Table of Contents",
   "title_sidebar": "Contents",
   "toc_cell": false,
   "toc_position": {},
   "toc_section_display": true,
   "toc_window_display": false
  }
 },
 "nbformat": 4,
 "nbformat_minor": 4
}
