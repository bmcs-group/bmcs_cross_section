{
 "cells": [
  {
   "cell_type": "code",
   "execution_count": 1,
   "metadata": {},
   "outputs": [],
   "source": [
    "%matplotlib widget\n",
    "from bmcs_cross_section.api import MKappa, EC2, ACI440\n",
    "import sympy as sp\n",
    "import numpy as np\n",
    "import matplotlib.pyplot as plt"
   ]
  },
  {
   "cell_type": "markdown",
   "metadata": {},
   "source": [
    "# Deriving the two-lines equations\n",
    "\n",
    "Using a linear regression on data based on the parabolic EC2 stress-strain law of concrete"
   ]
  },
  {
   "cell_type": "code",
   "execution_count": 2,
   "metadata": {
    "scrolled": false
   },
   "outputs": [],
   "source": [
    "# EC2, eq. (3.14)\n",
    "\n",
    "sig_c1, sig_c2, sig_c3, eps_cu1, b, d, A_f, f_fu, E_f, rho_f, sigma_f = \\\n",
    " sp.symbols(r'\\sigma_c1 \\sigma_c2 \\sigma_c3, \\varepsilon_\\mathrm{cu1}, b, d, A_\\mathrm{f}, f_\\mathrm{fu}, E_\\mathrm{f}, \\rho_\\mathrm{f}, \\sigma_\\mathrm{f}', real=True, nonnegative=True)\n",
    "eps_cy, eps_cu, eps, E_cc, f_cm = \\\n",
    "sp.symbols(r'\\varepsilon_\\mathrm{cy}, \\varepsilon_\\mathrm{cu}, \\varepsilon, E_\\mathrm{cc}, f_\\mathrm{cm}', real=True, nonnegative=True)\n",
    "\n",
    "k = 1.05 * E_cc * eps_cy / f_cm\n",
    "eta = eps / eps_cy\n",
    "sig_c = f_cm * (k * eta - eta**2)/(1 + eta*(k-2))\n",
    "\n",
    "sig_c_eps_ = sp.Piecewise(\n",
    "        (0, eps > eps_cu),\n",
    "        (sig_c, eps > 0),\n",
    "        (0, True)\n",
    ")"
   ]
  },
  {
   "cell_type": "code",
   "execution_count": 3,
   "metadata": {
    "scrolled": true
   },
   "outputs": [],
   "source": [
    "# # Comparison to EC2, multi-linear concept\n",
    "\n",
    "# result2 = np.zeros((len(f_cms), 3))\n",
    "\n",
    "# for i, f_cm_ in enumerate(f_cms):\n",
    "#     sig_c_eps = sig_c_eps_.subs({E_cc:EC2.get_E_cm(f_cm_ - 8), eps_cy:eps_cy_, \n",
    "#                                 f_cm:EC2.get_f_cm(f_cm_ - 8), eps_cu:EC2.get_eps_cu1(f_cm_- 8)})\n",
    "#     get_sig = sp.lambdify(eps, sig_c_eps, 'numpy')\n",
    "#     eps_exact = np.linspace(0, eps_cy_, 300)\n",
    "#     sig_exact = get_sig(eps_exact)\n",
    "#     area_fine = np.trapz(y=sig_exact, x=eps_exact)\n",
    "    \n",
    "#     f_ck = f_cm_ - 8\n",
    "#     eps_c3 = EC2.get_eps_c3(f_ck)\n",
    "#     eps_cu3 = EC2.get_eps_cu3(f_ck)\n",
    "#     area = eps_c3 * f_cm_ / 2 + (eps_cu3 - eps_c3) * f_cm_\n",
    "    \n",
    "#     result2[i, 0] = f_cm_\n",
    "#     result2[i, 1] = area_fine\n",
    "#     result2[i, 2] = area\n",
    "# result2"
   ]
  },
  {
   "cell_type": "code",
   "execution_count": 4,
   "metadata": {},
   "outputs": [
    {
     "name": "stdout",
     "output_type": "stream",
     "text": [
      "area_exact_part_2= 0.02877701214730907\n",
      "area_exact_part_2= 0.029815737674886583\n",
      "area_exact_part_2= 0.030828691661410515\n",
      "area_exact_part_2= 0.03181655570378753\n",
      "area_exact_part_2= 0.03277995980757356\n",
      "area_exact_part_2= 0.03371948824877098\n",
      "area_exact_part_2= 0.034635684556817724\n",
      "area_exact_part_2= 0.03552905577979381\n",
      "area_exact_part_2= 0.03640007615840567\n",
      "area_exact_part_2= 0.03724919030920936\n",
      "area_exact_part_2= 0.03807681599757036\n",
      "area_exact_part_2= 0.038883346565345735\n",
      "area_exact_part_2= 0.039669153066218\n",
      "area_exact_part_2= 0.040434586152065397\n",
      "area_exact_part_2= 0.041179977746182116\n",
      "area_exact_part_2= 0.04190564253309988\n",
      "area_exact_part_2= 0.04261187928987349\n",
      "area_exact_part_2= 0.043298972079707655\n",
      "area_exact_part_2= 0.04396719132556892\n",
      "area_exact_part_2= 0.04461679477875618\n",
      "area_exact_part_2= 0.045248028395184936\n",
      "area_exact_part_2= 0.0458611271303266\n",
      "area_exact_part_2= 0.04645631566219391\n",
      "area_exact_part_2= 0.04703380905049358\n",
      "area_exact_part_2= 0.04759381333896968\n",
      "area_exact_part_2= 0.048136526107062996\n",
      "area_exact_part_2= 0.0486621369762093\n",
      "area_exact_part_2= 0.04917082807545671\n",
      "area_exact_part_2= 0.049662774470494164\n",
      "area_exact_part_2= 0.05013814455970673\n",
      "area_exact_part_2= 0.05059710044044636\n",
      "area_exact_part_2= 0.05103979824833607\n",
      "area_exact_part_2= 0.05146638847212051\n",
      "area_exact_part_2= 0.05187701624629055\n",
      "area_exact_part_2= 0.05227182162346763\n",
      "area_exact_part_2= 0.0526509398283375\n",
      "area_exact_part_2= 0.05301450149471294\n",
      "area_exact_part_2= 0.05336263288717022\n",
      "area_exact_part_2= 0.05369545610853977\n",
      "area_exact_part_2= 0.050933012796644035\n",
      "area_exact_part_2= 0.04841911156716397\n",
      "area_exact_part_2= 0.0458551057971841\n",
      "area_exact_part_2= 0.04321135972526744\n",
      "area_exact_part_2= 0.040706369624936636\n",
      "area_exact_part_2= 0.03817193011459331\n",
      "area_exact_part_2= 0.03568943554458842\n",
      "area_exact_part_2= 0.033272721493613606\n",
      "area_exact_part_2= 0.030932197721723495\n",
      "area_exact_part_2= 0.028675356080449067\n",
      "area_exact_part_2= 0.026507216390975277\n",
      "area_exact_part_2= 0.024430714921129894\n",
      "area_exact_part_2= 0.02241029333024352\n",
      "area_exact_part_2= 0.020555925889807196\n",
      "area_exact_part_2= 0.01875589387444352\n",
      "area_exact_part_2= 0.017044473509610483\n",
      "area_exact_part_2= 0.015418381314324568\n",
      "area_exact_part_2= 0.013873677973139067\n",
      "area_exact_part_2= 0.012405902530032934\n",
      "area_exact_part_2= 0.011010187901839687\n",
      "area_exact_part_2= 0.009681360795832459\n",
      "area_exact_part_2= 0.008414028693058347\n",
      "area_exact_part_2= 0.007202656172846315\n",
      "area_exact_part_2= 0.00604163250741743\n",
      "area_exact_part_2= 0.0049253321489258406\n",
      "area_exact_part_2= 0.0038481694631037084\n",
      "area_exact_part_2= 0.0028046488314402364\n",
      "area_exact_part_2= 0.0017894110443415238\n",
      "area_exact_part_2= 0.0007972767375742307\n",
      "area_exact_part_2= 0.00023759982078011517\n",
      "area_exact_part_2= 0.00015766077740262638\n",
      "area_exact_part_2= 9.953278669911167e-05\n",
      "area_exact_part_2= 5.89925672151163e-05\n",
      "area_exact_part_2= 3.219263954463172e-05\n",
      "area_exact_part_2= 1.5693749946855806e-05\n",
      "area_exact_part_2= 6.497279996209839e-06\n",
      "area_exact_part_2= 2.0776499998541718e-06\n",
      "area_exact_part_2= 4.1471999996556e-07\n",
      "area_exact_part_2= 2.6190000021551137e-08\n",
      "area_exact_part_2= 0.0\n",
      "area_exact_part_2= 2.6730000021995492e-08\n",
      "area_exact_part_2= 4.3199999996399057e-07\n",
      "area_exact_part_2= 2.2088699998184264e-06\n",
      "area_exact_part_2= 7.050239994756133e-06\n",
      "area_exact_part_2= 1.7381249920273297e-05\n",
      "area_exact_part_2= 3.639167925854229e-05\n",
      "area_exact_part_2= 6.806834507738217e-05\n",
      "area_exact_part_2= 0.00011722749446512867\n",
      "area_exact_part_2= 0.00018954718026941464\n",
      "area_exact_part_2= 0.000291599593403773\n"
     ]
    },
    {
     "name": "stderr",
     "output_type": "stream",
     "text": [
      "C:\\Users\\hspartali\\AppData\\Local\\Temp\\ipykernel_9112\\3539078300.py:28: RuntimeWarning: invalid value encountered in double_scalars\n",
      "  sig_eps_cu1_new = 2 * area_exact_part_2 / (eps_cu_ - eps_cy_) - sig_eps_c1_new\n"
     ]
    },
    {
     "data": {
      "text/plain": [
       "array([[ 20.        ,   1.40553767,   0.25961634],\n",
       "       [ 21.        ,   1.39991292,   0.26927106],\n",
       "       [ 22.        ,   1.39449986,   0.27864123],\n",
       "       [ 23.        ,   1.38928082,   0.2877492 ],\n",
       "       [ 24.        ,   1.38424032,   0.2966147 ],\n",
       "       [ 25.        ,   1.37936465,   0.30525524],\n",
       "       [ 26.        ,   1.37464167,   0.31368645],\n",
       "       [ 27.        ,   1.37006055,   0.32192231],\n",
       "       [ 28.        ,   1.36561157,   0.32997541],\n",
       "       [ 29.        ,   1.36128601,   0.33785714],\n",
       "       [ 30.        ,   1.35707598,   0.34557778],\n",
       "       [ 31.        ,   1.35297435,   0.35314673],\n",
       "       [ 32.        ,   1.34897462,   0.36057252],\n",
       "       [ 33.        ,   1.34507086,   0.36786299],\n",
       "       [ 34.        ,   1.34125767,   0.37502531],\n",
       "       [ 35.        ,   1.33753008,   0.38206607],\n",
       "       [ 36.        ,   1.33388352,   0.38899138],\n",
       "       [ 37.        ,   1.33031378,   0.39580684],\n",
       "       [ 38.        ,   1.32681699,   0.40251767],\n",
       "       [ 39.        ,   1.32338954,   0.40912869],\n",
       "       [ 40.        ,   1.3200281 ,   0.41564439],\n",
       "       [ 41.        ,   1.31672956,   0.42206895],\n",
       "       [ 42.        ,   1.31349104,   0.42840628],\n",
       "       [ 43.        ,   1.31030984,   0.43466001],\n",
       "       [ 44.        ,   1.30718346,   0.44083354],\n",
       "       [ 45.        ,   1.30410953,   0.44693008],\n",
       "       [ 46.        ,   1.30108584,   0.45295261],\n",
       "       [ 47.        ,   1.29811033,   0.45890395],\n",
       "       [ 48.        ,   1.29518105,   0.46478674],\n",
       "       [ 49.        ,   1.29229616,   0.47060346],\n",
       "       [ 50.        ,   1.28945394,   0.47635648],\n",
       "       [ 51.        ,   1.28665276,   0.482048  ],\n",
       "       [ 52.        ,   1.28389108,   0.4876801 ],\n",
       "       [ 53.        ,   1.28116745,   0.49325478],\n",
       "       [ 54.        ,   1.27848048,   0.49877389],\n",
       "       [ 55.        ,   1.27582887,   0.50423921],\n",
       "       [ 56.        ,   1.27321137,   0.50965242],\n",
       "       [ 57.        ,   1.27062683,   0.5150151 ],\n",
       "       [ 58.        ,   1.2680741 ,   0.52032876],\n",
       "       [ 59.        ,   1.26555214,   0.55790297],\n",
       "       [ 60.        ,   1.26305992,   0.58725783],\n",
       "       [ 61.        ,   1.26059648,   0.61283805],\n",
       "       [ 62.        ,   1.25816089,   0.63233065],\n",
       "       [ 63.        ,   1.25575229,   0.65449792],\n",
       "       [ 64.        ,   1.25336981,   0.67137271],\n",
       "       [ 65.        ,   1.25101267,   0.6860688 ],\n",
       "       [ 66.        ,   1.24868009,   0.6988805 ],\n",
       "       [ 67.        ,   1.24637134,   0.71006677],\n",
       "       [ 68.        ,   1.2440857 ,   0.71985449],\n",
       "       [ 69.        ,   1.24182251,   0.72844172],\n",
       "       [ 70.        ,   1.2395811 ,   0.73600074],\n",
       "       [ 71.        ,   1.23736086,   0.73943941],\n",
       "       [ 72.        ,   1.2351612 ,   0.74861118],\n",
       "       [ 73.        ,   1.23298152,   0.75390278],\n",
       "       [ 74.        ,   1.23082128,   0.75865114],\n",
       "       [ 75.        ,   1.22867994,   0.76293796],\n",
       "       [ 76.        ,   1.22655699,   0.766833  ],\n",
       "       [ 77.        ,   1.22445193,   0.7703956 ],\n",
       "       [ 78.        ,   1.22236429,   0.77367609],\n",
       "       [ 79.        ,   1.22029361,   0.77671702],\n",
       "       [ 80.        ,   1.21823943,   0.77955424],\n",
       "       [ 81.        ,   1.21620134,   0.7822178 ],\n",
       "       [ 82.        ,   1.21417891,   0.78473284],\n",
       "       [ 83.        ,   1.21217174,   0.78712022],\n",
       "       [ 84.        ,   1.21017945,   0.78939721],\n",
       "       [ 85.        ,   1.20820166,   0.79157797],\n",
       "       [ 86.        ,   1.20623801,   0.79367404],\n",
       "       [ 87.        ,   1.20428814,   0.79569473],\n",
       "       [ 88.        ,   1.20161951,   0.79837898],\n",
       "       [ 89.        ,   1.19815505,   0.80184428],\n",
       "       [ 90.        ,   1.19470078,   0.80529895],\n",
       "       [ 91.        ,   1.19125605,   0.80874386],\n",
       "       [ 92.        ,   1.1878202 ,   0.81217977],\n",
       "       [ 93.        ,   1.18439257,   0.81560742],\n",
       "       [ 94.        ,   1.18097252,   0.81902747],\n",
       "       [ 95.        ,   1.17755941,   0.82244059],\n",
       "       [ 96.        ,   1.17415257,   0.82584743],\n",
       "       [ 97.        ,   1.17075137,   0.82924863],\n",
       "       [ 98.        ,   1.16735515,   1.16735515],\n",
       "       [ 99.        ,   1.16396326,   1.16396326],\n",
       "       [100.        ,   1.16057506,   1.16057506],\n",
       "       [101.        ,   1.15718987,   1.15718987],\n",
       "       [102.        ,   1.15380704,   1.15380704],\n",
       "       [103.        ,   1.15042588,   1.15042588],\n",
       "       [104.        ,   1.14704572,   1.14704572],\n",
       "       [105.        ,   1.14366588,   1.14366588],\n",
       "       [106.        ,   1.14028563,   1.14028563],\n",
       "       [107.        ,   1.13690428,   1.13690428],\n",
       "       [108.        ,   1.13352108,   1.13352108]])"
      ]
     },
     "execution_count": 4,
     "metadata": {},
     "output_type": "execute_result"
    }
   ],
   "source": [
    "# f_cms = np.array([ 20.,  24.,  28.,  33.,  38.,  43.,  48.,  53.,  58.,  63.,  68., 78.,  88.,  98., 108.])\n",
    "f_cms = np.linspace(20, 108, 108 -20 +1)\n",
    "result = np.zeros((len(f_cms), 3))\n",
    "\n",
    "f_cm_limit = 98\n",
    "\n",
    "for i, f_cm_ in enumerate(f_cms):\n",
    "    eps_cy_ = EC2.get_eps_c1(f_cm_ - 8)\n",
    "    eps_cu_ = EC2.get_eps_cu1(f_cm_- 8)\n",
    "\n",
    "    sig_c_eps = sig_c_eps_.subs({E_cc:EC2.get_E_cm(f_cm_ - 8), eps_cy:eps_cy_, \n",
    "                                f_cm:EC2.get_f_cm(f_cm_ - 8), eps_cu:eps_cu_})\n",
    "    get_sig = sp.lambdify(eps, sig_c_eps, 'numpy')\n",
    "    \n",
    "    eps_exact_part_1 = np.linspace(0, eps_cy_, 300)\n",
    "    sig_exact_part_1 = get_sig(eps_exact_part_1)\n",
    "    area_exact_part_1 = np.trapz(y=sig_exact_part_1, x=eps_exact_part_1)\n",
    "    \n",
    "    eps_exact_part_2 = np.linspace(eps_cy_, eps_cu_, 300)\n",
    "    sig_exact_part_2 = get_sig(eps_exact_part_2)\n",
    "    area_exact_part_2 = np.trapz(y=sig_exact_part_2, x=eps_exact_part_2)\n",
    "    \n",
    "    print('area_exact_part_2=', area_exact_part_2)\n",
    "\n",
    "    sig_eps_c1_new = 2 * area_exact_part_1 / eps_cy_\n",
    "    sig_eps_c1_scale = sig_eps_c1_new / f_cm_\n",
    "    \n",
    "    sig_eps_cu1_new = 2 * area_exact_part_2 / (eps_cu_ - eps_cy_) - sig_eps_c1_new\n",
    "    sig_eps_cu1_scale = sig_eps_c1_scale if f_cm_ >= f_cm_limit else sig_eps_cu1_new / f_cm_\n",
    "    \n",
    "    result[i] = [f_cm_, sig_eps_c1_scale, sig_eps_cu1_scale]\n",
    "\n",
    "result"
   ]
  },
  {
   "cell_type": "code",
   "execution_count": 5,
   "metadata": {
    "scrolled": true
   },
   "outputs": [
    {
     "data": {
      "text/plain": [
       "[<matplotlib.lines.Line2D at 0x1ccfcc422e0>]"
      ]
     },
     "execution_count": 5,
     "metadata": {},
     "output_type": "execute_result"
    },
    {
     "data": {
      "application/vnd.jupyter.widget-view+json": {
       "model_id": "75c46fac18a849108fda7d9f60d6eadf",
       "version_major": 2,
       "version_minor": 0
      },
      "image/png": "[encoded data removed]",
      "text/html": [
       "\n",
       "            <div style=\"display: inline-block;\">\n",
       "                <div class=\"jupyter-widgets widget-label\" style=\"text-align: center;\">\n",
       "                    Figure\n",
       "                </div>\n",
       "                <img src='data:image/png;base64,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' width=640.0/>\n",
       "            </div>\n",
       "        "
      ],
      "text/plain": [
       "Canvas(toolbar=Toolbar(toolitems=[('Home', 'Reset original view', 'home', 'home'), ('Back', 'Back to previous …"
      ]
     },
     "metadata": {},
     "output_type": "display_data"
    }
   ],
   "source": [
    "fig1, ax1 = plt.subplots()\n",
    "ax1.plot(result[:, 0], result[:, 1])\n",
    "ax1.plot(result[:, 0], result[:, 2])"
   ]
  },
  {
   "cell_type": "code",
   "execution_count": 6,
   "metadata": {},
   "outputs": [
    {
     "data": {
      "text/plain": [
       "(1.43762037986179 - 0.00278582241716739*f_\\mathrm{cm},\n",
       " 0.00822753426311965*f_\\mathrm{cm} + 0.0955313938528226)"
      ]
     },
     "execution_count": 6,
     "metadata": {},
     "output_type": "execute_result"
    }
   ],
   "source": [
    "# Linear regression using numpy\n",
    "\n",
    "m1, p1 = np.polyfit(result[:, 0], result[:, 1], 1)\n",
    "sig_cy_scale = m1 * f_cm + p1\n",
    "\n",
    "# Exclude f_cm >= f_cm_limit from curve fitting\n",
    "f_cms_less_than_limit = result[:, 0][result[:, 0] < f_cm_limit]\n",
    "sig_eps_cu1_scale_for_f_cms_less_than_limit = result[:, 2][result[:, 0] < f_cm_limit]\n",
    "m2, p2 = np.polyfit(f_cms_less_than_limit, sig_eps_cu1_scale_for_f_cms_less_than_limit, 1)\n",
    "sig_cu_scale = m2 * f_cm + p2\n",
    "\n",
    "sig_cy_scale, sig_cu_scale"
   ]
  },
  {
   "cell_type": "code",
   "execution_count": 7,
   "metadata": {},
   "outputs": [],
   "source": [
    "get_sig_cy_scale = sp.lambdify(f_cm, sig_cy_scale, 'numpy')\n",
    "get_sig_cu_scale = sp.lambdify(f_cm, sig_cu_scale, 'numpy')"
   ]
  },
  {
   "cell_type": "code",
   "execution_count": 8,
   "metadata": {
    "scrolled": true
   },
   "outputs": [
    {
     "data": {
      "text/plain": [
       "[<matplotlib.lines.Line2D at 0x1ccfd3af5b0>]"
      ]
     },
     "execution_count": 8,
     "metadata": {},
     "output_type": "execute_result"
    },
    {
     "data": {
      "application/vnd.jupyter.widget-view+json": {
       "model_id": "3635420d8ff64d33ae994bcf11ec2e13",
       "version_major": 2,
       "version_minor": 0
      },
      "image/png": "[encoded data removed]",
      "text/html": [
       "\n",
       "            <div style=\"display: inline-block;\">\n",
       "                <div class=\"jupyter-widgets widget-label\" style=\"text-align: center;\">\n",
       "                    Figure\n",
       "                </div>\n",
       "                <img src='data:image/png;base64,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' width=640.0/>\n",
       "            </div>\n",
       "        "
      ],
      "text/plain": [
       "Canvas(toolbar=Toolbar(toolitems=[('Home', 'Reset original view', 'home', 'home'), ('Back', 'Back to previous …"
      ]
     },
     "metadata": {},
     "output_type": "display_data"
    }
   ],
   "source": [
    "fig1, ax1 = plt.subplots()\n",
    "ax1.set_xlabel('$f_\\mathrm{cm}$')\n",
    "ax1.set_ylabel('sigma_scale')\n",
    "\n",
    "ax1.plot(result[:, 0], result[:, 1])\n",
    "ax1.plot(result[:, 0], get_sig_cy_scale(result[:, 0]))\n",
    "\n",
    "ax1.plot(result[:, 0], result[:, 2])\n",
    "ax1.plot(result[:, 0], get_sig_cu_scale(result[:, 0]))"
   ]
  },
  {
   "cell_type": "code",
   "execution_count": 9,
   "metadata": {},
   "outputs": [
    {
     "name": "stdout",
     "output_type": "stream",
     "text": [
      "area_approx = 0.14279697384496404\n",
      "area_exact = 0.1427964249293711\n",
      "area_diff [%] = -0.0003844042966729845\n"
     ]
    },
    {
     "data": {
      "application/vnd.jupyter.widget-view+json": {
       "model_id": "82715d77a8174498a033714abcc457d4",
       "version_major": 2,
       "version_minor": 0
      },
      "image/png": "[encoded data removed]",
      "text/html": [
       "\n",
       "            <div style=\"display: inline-block;\">\n",
       "                <div class=\"jupyter-widgets widget-label\" style=\"text-align: center;\">\n",
       "                    Figure\n",
       "                </div>\n",
       "                <img src='data:image/png;base64,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' width=640.0/>\n",
       "            </div>\n",
       "        "
      ],
      "text/plain": [
       "Canvas(toolbar=Toolbar(toolitems=[('Home', 'Reset original view', 'home', 'home'), ('Back', 'Back to previous …"
      ]
     },
     "metadata": {},
     "output_type": "display_data"
    }
   ],
   "source": [
    "# Just for checking..\n",
    "\n",
    "fig, ax = plt.subplots()\n",
    "\n",
    "for f_cm_ in [60]: # f_cms:\n",
    "    eps_cy_ = EC2.get_eps_c1(f_cm_ - 8)\n",
    "    eps_cu_ = EC2.get_eps_cu1(f_cm_ - 8)\n",
    "    sig_c_eps = sig_c_eps_.subs({E_cc:EC2.get_E_cm(f_cm_ - 8), eps_cy:eps_cy_, \n",
    "                                f_cm:f_cm_, eps_cu:eps_cu_})\n",
    "    get_sig = sp.lambdify(eps, sig_c_eps, 'numpy')\n",
    "    \n",
    "    eps_exact = np.linspace(0, eps_cu_, 300)\n",
    "    sig_exact = get_sig(eps_exact)\n",
    "    \n",
    "    sigma_cm_cy_scale = result[np.argwhere(result[:, 0] == f_cm_)[0]][0][1]\n",
    "    sigma_cm_cu_scale = result[np.argwhere(result[:, 0] == f_cm_)[0]][0][2]\n",
    "    eps_coarse = np.array([0., eps_cy_, eps_cu_])\n",
    "    sig_coarse = np.array([0., f_cm_ * sigma_cm_cy_scale, f_cm_ * sigma_cm_cu_scale])\n",
    "    \n",
    "    area_approx = np.trapz(y=sig_coarse, x=eps_coarse)\n",
    "    area_exact = np.trapz(y=sig_exact, x=eps_exact)\n",
    "    print('area_approx =', area_approx)\n",
    "    print('area_exact =', area_exact)\n",
    "    print('area_diff [%] =', (area_exact - area_approx) * 100 / area_exact)\n",
    "    \n",
    "    ax.fill_between(eps_coarse, sig_coarse, color= 'orange', alpha= 0.1)\n",
    "    ax.fill_between(eps_exact, sig_exact, color= 'blue', alpha= 0.1)\n",
    "    ax.set_xlabel('Concrete strain')\n",
    "    ax.set_ylabel('Concrete stress')\n",
    "    ax.plot(eps_exact, sig_exact)\n",
    "    ax.plot(eps_coarse, sig_coarse)\n",
    "    \n",
    "    # Plot example lines\n",
    "    eps_sig_coarse_equals_f_cm = np.interp(f_cm_, sig_coarse[:-1], eps_coarse[:-1])\n",
    "    eps_coarse_psi = np.array([0, eps_sig_coarse_equals_f_cm, eps_cu_])\n",
    "    sig_coarse_psi = np.array([0, f_cm_, f_cm_])\n",
    "    eps_example = 0.001\n",
    "    sig_example = np.interp(eps_example, eps_coarse, sig_coarse)\n",
    "    \n",
    "    ax.plot(eps_coarse_psi, sig_coarse_psi, label='$\\psi_c$ assumption, $\\psi_c = red/black$')\n",
    "    ax.plot([eps_example, eps_example], [0, sig_example])\n",
    "    ax.plot([eps_cy_, eps_cy_], [0, f_cm_], c='black')\n",
    "    ax.legend()\n",
    "\n",
    "# fig.show()"
   ]
  },
  {
   "cell_type": "markdown",
   "metadata": {},
   "source": [
    "# Deriving $M_u, \\rho_\\mathrm{fb}, \\psi_c, \\psi_f$ equations for the 2-lines-based material law"
   ]
  },
  {
   "cell_type": "code",
   "execution_count": 10,
   "metadata": {},
   "outputs": [],
   "source": [
    "substitute_eps_cy = False\n",
    "substitute_scaled_stress = False\n",
    "\n",
    "if substitute_eps_cy:\n",
    "    eps_cy = 0.001 * sp.Min(0.7 * f_cm ** 0.31, 2.8) # 0.001 * 0.7 * f_cm ** 0.31\n",
    "    eps_cu = 0.001 * sp.Piecewise(\n",
    "        (3.5, f_cm <= 58), \n",
    "        (2.8 + 27 * ((98 - f_cm) / 100) ** 4, True)\n",
    ")\n",
    "    \n",
    "# Don't substitute scaled_stress as it makes formulas longer and not any better!\n",
    "if substitute_scaled_stress:\n",
    "    sig_cy_scaled = f_cm * sig_cy_scale\n",
    "    sig_cu_scaled = f_cm * sig_cu_scale\n",
    "else:\n",
    "    sig_cy_scaled, sig_cu_scaled = sp.symbols(r'\\sigma_\\mathrm{cy}, \\sigma_\\mathrm{cu}')\n",
    "\n",
    "sig_line = sp.Line(sp.Point(0, 0), sp.Point(eps_cy, sig_cy_scaled))\n",
    "sig_line2 = sp.Line(sp.Point(eps_cy, sig_cy_scaled), sp.Point(eps_cu, sig_cu_scaled))\n",
    "\n",
    "sig_eq_1 = sig_line.equation(x=eps, y=sig_c1)\n",
    "sig_eq1 = sp.solve(sig_eq_1, sig_c1)[0]\n",
    "\n",
    "sig_eq_2 = sig_line2.equation(x=eps, y=sig_c2)\n",
    "sig_eq2 = sp.solve(sig_eq_2, sig_c2)[0]"
   ]
  },
  {
   "cell_type": "code",
   "execution_count": 11,
   "metadata": {},
   "outputs": [
    {
     "data": {
      "text/latex": [
       "$\\displaystyle \\begin{cases} \\frac{\\sigma_\\mathrm{cy} \\varepsilon}{\\varepsilon_\\mathrm{cy}} & \\text{for}\\: \\varepsilon \\leq \\varepsilon_\\mathrm{cy} \\\\\\frac{\\sigma_\\mathrm{cu} \\varepsilon - \\sigma_\\mathrm{cu} \\varepsilon_\\mathrm{cy} - \\sigma_\\mathrm{cy} \\varepsilon + \\sigma_\\mathrm{cy} \\varepsilon_\\mathrm{cu}}{\\varepsilon_\\mathrm{cu} - \\varepsilon_\\mathrm{cy}} & \\text{otherwise} \\end{cases}$"
      ],
      "text/plain": [
       "Piecewise((\\sigma_\\mathrm{cy}*\\varepsilon/\\varepsilon_\\mathrm{cy}, \\varepsilon <= \\varepsilon_\\mathrm{cy}), ((\\sigma_\\mathrm{cu}*\\varepsilon - \\sigma_\\mathrm{cu}*\\varepsilon_\\mathrm{cy} - \\sigma_\\mathrm{cy}*\\varepsilon + \\sigma_\\mathrm{cy}*\\varepsilon_\\mathrm{cu})/(\\varepsilon_\\mathrm{cu} - \\varepsilon_\\mathrm{cy}), True))"
      ]
     },
     "execution_count": 11,
     "metadata": {},
     "output_type": "execute_result"
    }
   ],
   "source": [
    "sig_eq = sp.Piecewise(\n",
    "        (sig_eq1, eps <= eps_cy), \n",
    "        (sig_eq2, True)\n",
    ")\n",
    "sig_eq"
   ]
  },
  {
   "cell_type": "code",
   "execution_count": 12,
   "metadata": {},
   "outputs": [
    {
     "data": {
      "text/latex": [
       "$\\displaystyle \\begin{cases} \\frac{\\sigma_\\mathrm{cy} \\varepsilon^{2}}{2 \\varepsilon_\\mathrm{cy}} & \\text{for}\\: \\varepsilon \\leq \\varepsilon_\\mathrm{cy} \\\\\\frac{\\sigma_\\mathrm{cy} \\varepsilon_\\mathrm{cy}}{2} + \\frac{\\varepsilon^{2} \\left(\\sigma_\\mathrm{cu} - \\sigma_\\mathrm{cy}\\right)}{2 \\varepsilon_\\mathrm{cu} - 2 \\varepsilon_\\mathrm{cy}} + \\frac{\\varepsilon \\left(- \\sigma_\\mathrm{cu} \\varepsilon_\\mathrm{cy} + \\sigma_\\mathrm{cy} \\varepsilon_\\mathrm{cu}\\right)}{\\varepsilon_\\mathrm{cu} - \\varepsilon_\\mathrm{cy}} - \\frac{\\varepsilon_\\mathrm{cy}^{2} \\left(\\sigma_\\mathrm{cu} - \\sigma_\\mathrm{cy}\\right)}{2 \\varepsilon_\\mathrm{cu} - 2 \\varepsilon_\\mathrm{cy}} - \\frac{\\varepsilon_\\mathrm{cy} \\left(- \\sigma_\\mathrm{cu} \\varepsilon_\\mathrm{cy} + \\sigma_\\mathrm{cy} \\varepsilon_\\mathrm{cu}\\right)}{\\varepsilon_\\mathrm{cu} - \\varepsilon_\\mathrm{cy}} & \\text{otherwise} \\end{cases}$"
      ],
      "text/plain": [
       "Piecewise((\\sigma_\\mathrm{cy}*\\varepsilon**2/(2*\\varepsilon_\\mathrm{cy}), \\varepsilon <= \\varepsilon_\\mathrm{cy}), (\\sigma_\\mathrm{cy}*\\varepsilon_\\mathrm{cy}/2 + \\varepsilon**2*(\\sigma_\\mathrm{cu} - \\sigma_\\mathrm{cy})/(2*\\varepsilon_\\mathrm{cu} - 2*\\varepsilon_\\mathrm{cy}) + \\varepsilon*(-\\sigma_\\mathrm{cu}*\\varepsilon_\\mathrm{cy} + \\sigma_\\mathrm{cy}*\\varepsilon_\\mathrm{cu})/(\\varepsilon_\\mathrm{cu} - \\varepsilon_\\mathrm{cy}) - \\varepsilon_\\mathrm{cy}**2*(\\sigma_\\mathrm{cu} - \\sigma_\\mathrm{cy})/(2*\\varepsilon_\\mathrm{cu} - 2*\\varepsilon_\\mathrm{cy}) - \\varepsilon_\\mathrm{cy}*(-\\sigma_\\mathrm{cu}*\\varepsilon_\\mathrm{cy} + \\sigma_\\mathrm{cy}*\\varepsilon_\\mathrm{cu})/(\\varepsilon_\\mathrm{cu} - \\varepsilon_\\mathrm{cy}), True))"
      ]
     },
     "execution_count": 12,
     "metadata": {},
     "output_type": "execute_result"
    }
   ],
   "source": [
    "sig_eq_area = sp.integrate(sp.simplify(sig_eq), eps)\n",
    "sig_eq_area"
   ]
  },
  {
   "cell_type": "code",
   "execution_count": 13,
   "metadata": {},
   "outputs": [],
   "source": [
    "area_up_to_eps_part_1 = sig_eq_area.args[0][0]\n",
    "area_up_to_eps_part_2 = sig_eq_area.args[1][0]"
   ]
  },
  {
   "cell_type": "markdown",
   "metadata": {},
   "source": [
    "## Calculate $F_\\mathrm{c, cy}$ and $\\rho_\\mathrm{f, cy}$ defining the switch from part 1 to 2"
   ]
  },
  {
   "cell_type": "code",
   "execution_count": 14,
   "metadata": {},
   "outputs": [
    {
     "data": {
      "text/latex": [
       "$\\displaystyle \\frac{E_\\mathrm{f} \\sigma_\\mathrm{cy} \\varepsilon_\\mathrm{cy} b d}{2 \\left(E_\\mathrm{f} \\varepsilon_\\mathrm{cy} + f_\\mathrm{fu}\\right)}$"
      ],
      "text/plain": [
       "E_\\mathrm{f}*\\sigma_\\mathrm{cy}*\\varepsilon_\\mathrm{cy}*b*d/(2*(E_\\mathrm{f}*\\varepsilon_\\mathrm{cy} + f_\\mathrm{fu}))"
      ]
     },
     "execution_count": 14,
     "metadata": {},
     "output_type": "execute_result"
    }
   ],
   "source": [
    "# Compare F_t = A_f * f_fu with F_c_cy, if F_t <= F_c_1, then use psi_c formula, otherwise psi_c = 1\n",
    "# Note: one can also compare eps_top_solved with eps_cy, but the equation of eps_top_solved is more complicated\n",
    "eps_fu = f_fu/E_f\n",
    "c_1 = d * (eps_cy / (eps_cy + eps_fu))\n",
    "F_c_cy = area_up_to_eps_part_1.subs({eps:eps_cy}) * (c_1 / eps_cy) * b\n",
    "F_c_cy = sp.simplify(F_c_cy)\n",
    "F_c_cy"
   ]
  },
  {
   "cell_type": "code",
   "execution_count": 15,
   "metadata": {},
   "outputs": [
    {
     "data": {
      "text/latex": [
       "$\\displaystyle \\frac{E_\\mathrm{f} \\sigma_\\mathrm{cy} \\varepsilon_\\mathrm{cy}}{2 f_\\mathrm{fu} \\left(E_\\mathrm{f} \\varepsilon_\\mathrm{cy} + f_\\mathrm{fu}\\right)}$"
      ],
      "text/plain": [
       "E_\\mathrm{f}*\\sigma_\\mathrm{cy}*\\varepsilon_\\mathrm{cy}/(2*f_\\mathrm{fu}*(E_\\mathrm{f}*\\varepsilon_\\mathrm{cy} + f_\\mathrm{fu}))"
      ]
     },
     "execution_count": 15,
     "metadata": {},
     "output_type": "execute_result"
    }
   ],
   "source": [
    "# rho corresponding to concrete block up to eps_cy\n",
    "F_t_cy = A_f * f_fu\n",
    "A_f_cy = sp.solve(F_c_cy - F_t_cy, A_f)[0]\n",
    "rho_f_cy = A_f_cy /(b*d)\n",
    "rho_f_cy"
   ]
  },
  {
   "cell_type": "code",
   "execution_count": 16,
   "metadata": {},
   "outputs": [
    {
     "name": "stdout",
     "output_type": "stream",
     "text": [
      "\\frac{E_\\mathrm{f} \\sigma_\\mathrm{cy} \\varepsilon_\\mathrm{cy}}{2 f_\\mathrm{fu} \\left(E_\\mathrm{f} \\varepsilon_\\mathrm{cy} + f_\\mathrm{fu}\\right)}\n"
     ]
    }
   ],
   "source": [
    "sp.print_latex(rho_f_cy)"
   ]
  },
  {
   "cell_type": "markdown",
   "metadata": {},
   "source": [
    "### Final $\\rho_\\mathrm{f, cy}$ formula\n",
    "\n",
    "$\\rho_\\mathrm{f, cy} = \\frac{E_{f} f_{cm_{cy}} \\varepsilon_{cy}}{2 f_{fu} \\left(E_{f} \\varepsilon_{cy} + f_{fu}\\right)}$"
   ]
  },
  {
   "cell_type": "markdown",
   "metadata": {},
   "source": [
    "## $\\psi_c$ for part 1"
   ]
  },
  {
   "cell_type": "code",
   "execution_count": 17,
   "metadata": {},
   "outputs": [
    {
     "data": {
      "text/latex": [
       "$\\displaystyle \\frac{f_\\mathrm{fu} \\left(\\sqrt{A_\\mathrm{f}} \\sqrt{\\varepsilon_\\mathrm{cy}} \\sqrt{A_\\mathrm{f} E_\\mathrm{f} \\varepsilon_\\mathrm{cy} + 2 \\sigma_\\mathrm{cy} b d} + A_\\mathrm{f} \\sqrt{E_\\mathrm{f}} \\varepsilon_\\mathrm{cy}\\right)}{\\sqrt{E_\\mathrm{f}} \\sigma_\\mathrm{cy} b d}$"
      ],
      "text/plain": [
       "f_\\mathrm{fu}*(sqrt(A_\\mathrm{f})*sqrt(\\varepsilon_\\mathrm{cy})*sqrt(A_\\mathrm{f}*E_\\mathrm{f}*\\varepsilon_\\mathrm{cy} + 2*\\sigma_\\mathrm{cy}*b*d) + A_\\mathrm{f}*sqrt(E_\\mathrm{f})*\\varepsilon_\\mathrm{cy})/(sqrt(E_\\mathrm{f})*\\sigma_\\mathrm{cy}*b*d)"
      ]
     },
     "execution_count": 17,
     "metadata": {},
     "output_type": "execute_result"
    }
   ],
   "source": [
    "# Solving eps top for part 1\n",
    "def get_eps_top_solved(index):\n",
    "    c = d * eps/(eps + eps_fu)\n",
    "    F_t = A_f * f_fu\n",
    "    area_up_to_eps = area_up_to_eps_part_1 if index == 0 else area_up_to_eps_part_2\n",
    "    sig_z_area = area_up_to_eps * (c / eps)\n",
    "    F_c = sig_z_area * b\n",
    "    eps_top_solved = sp.solve(F_t - F_c, eps)[1] # Note: this the positive solution\n",
    "    eps_top_solved = sp.simplify(eps_top_solved)\n",
    "    return eps_top_solved\n",
    "\n",
    "eps_part_1 = get_eps_top_solved(0)\n",
    "eps_part_1"
   ]
  },
  {
   "cell_type": "code",
   "execution_count": 18,
   "metadata": {},
   "outputs": [
    {
     "data": {
      "text/latex": [
       "$\\displaystyle \\min\\left(1, \\frac{\\sqrt{A_\\mathrm{f}} f_\\mathrm{fu} \\sqrt{A_\\mathrm{f} E_\\mathrm{f} \\varepsilon_\\mathrm{cy} + 2 \\sigma_\\mathrm{cy} b d}}{\\sqrt{E_\\mathrm{f}} \\sqrt{\\varepsilon_\\mathrm{cy}} b d f_\\mathrm{cm}} + \\frac{A_\\mathrm{f} f_\\mathrm{fu}}{b d f_\\mathrm{cm}}\\right)$"
      ],
      "text/plain": [
       "Min(1, sqrt(A_\\mathrm{f})*f_\\mathrm{fu}*sqrt(A_\\mathrm{f}*E_\\mathrm{f}*\\varepsilon_\\mathrm{cy} + 2*\\sigma_\\mathrm{cy}*b*d)/(sqrt(E_\\mathrm{f})*sqrt(\\varepsilon_\\mathrm{cy})*b*d*f_\\mathrm{cm}) + A_\\mathrm{f}*f_\\mathrm{fu}/(b*d*f_\\mathrm{cm}))"
      ]
     },
     "execution_count": 18,
     "metadata": {},
     "output_type": "execute_result"
    }
   ],
   "source": [
    "# Solving eps top for part 1\n",
    "def get_psi(index):\n",
    "    if index > 0:\n",
    "        return 1\n",
    "    else:\n",
    "        eps_top_solved = get_eps_top_solved(0)\n",
    "        sig_c_max = sig_eq1.subs({eps: eps_top_solved})\n",
    "        psi_c = sp.Min(sig_c_max / f_cm, 1)\n",
    "        psi_c = sp.simplify(psi_c)\n",
    "        return psi_c\n",
    "psi_c = get_psi(0)\n",
    "psi_c"
   ]
  },
  {
   "cell_type": "markdown",
   "metadata": {},
   "source": [
    "### Validate with data"
   ]
  },
  {
   "cell_type": "code",
   "execution_count": 19,
   "metadata": {},
   "outputs": [],
   "source": [
    "f_cms_vals = {sig_cy_scaled:f_cm * sig_cy_scale, sig_cu_scaled:f_cm * sig_cu_scale}\n",
    "test_vals= {f_cm:50, b:400, d:180, f_fu:2500, E_f:200000, \n",
    "            A_f:20,\n",
    "            E_cc:EC2.get_E_cm(50-8), \n",
    "            eps_cy:EC2.get_eps_c1(50-8),\n",
    "           eps_cu:EC2.get_eps_cu1(50-8)}"
   ]
  },
  {
   "cell_type": "code",
   "execution_count": 20,
   "metadata": {},
   "outputs": [
    {
     "data": {
      "text/latex": [
       "$\\displaystyle 0.451738946449611$"
      ],
      "text/plain": [
       "0.451738946449611"
      ]
     },
     "execution_count": 20,
     "metadata": {},
     "output_type": "execute_result"
    }
   ],
   "source": [
    "sp.N(psi_c.subs(f_cms_vals).subs(test_vals))"
   ]
  },
  {
   "cell_type": "markdown",
   "metadata": {},
   "source": [
    "### Validate with Test T1"
   ]
  },
  {
   "cell_type": "code",
   "execution_count": 21,
   "metadata": {},
   "outputs": [
    {
     "data": {
      "text/latex": [
       "$\\displaystyle 0.773330333072977$"
      ],
      "text/plain": [
       "0.773330333072977"
      ]
     },
     "execution_count": 21,
     "metadata": {},
     "output_type": "execute_result"
    }
   ],
   "source": [
    "T1_data = {f_cm:98.63, b:300, d:90, f_fu:3823.90, E_f:247468.92, \\\n",
    "           rho_f:28.96/(300 * 90),\n",
    "           A_f:28.96, E_cc:EC2.get_E_cm(98.63-8), eps_cy:EC2.get_eps_c1(98.63-8), \\\n",
    "           eps_cu:EC2.get_eps_cu1(98.63-8)}\n",
    "\n",
    "# Value from MK tool is about 0.77\n",
    "sp.N(psi_c.subs(f_cms_vals).subs(T1_data))"
   ]
  },
  {
   "cell_type": "markdown",
   "metadata": {},
   "source": [
    "### Reduce and print formula"
   ]
  },
  {
   "cell_type": "code",
   "execution_count": 22,
   "metadata": {},
   "outputs": [
    {
     "data": {
      "text/latex": [
       "$\\displaystyle \\min\\left(1, \\frac{\\sqrt{A_\\mathrm{f}} x_{0} \\sqrt{A_\\mathrm{f} E_\\mathrm{f} \\varepsilon_\\mathrm{cy} + 2 \\sigma_\\mathrm{cy} b d}}{\\sqrt{E_\\mathrm{f}} \\sqrt{\\varepsilon_\\mathrm{cy}}} + A_\\mathrm{f} x_{0}\\right)$"
      ],
      "text/plain": [
       "Min(1, sqrt(A_\\mathrm{f})*x0*sqrt(A_\\mathrm{f}*E_\\mathrm{f}*\\varepsilon_\\mathrm{cy} + 2*\\sigma_\\mathrm{cy}*b*d)/(sqrt(E_\\mathrm{f})*sqrt(\\varepsilon_\\mathrm{cy})) + A_\\mathrm{f}*x0)"
      ]
     },
     "execution_count": 22,
     "metadata": {},
     "output_type": "execute_result"
    }
   ],
   "source": [
    "psi_c_reduced = sp.cse(psi_c)\n",
    "psi_c_reduced[-1][0]"
   ]
  },
  {
   "cell_type": "code",
   "execution_count": 23,
   "metadata": {},
   "outputs": [
    {
     "name": "stdout",
     "output_type": "stream",
     "text": [
      "\\min\\left(1, \\frac{\\sqrt{A_\\mathrm{f}} x_{0} \\sqrt{A_\\mathrm{f} E_\\mathrm{f} \\varepsilon_\\mathrm{cy} + 2 \\sigma_\\mathrm{cy} b d}}{\\sqrt{E_\\mathrm{f}} \\sqrt{\\varepsilon_\\mathrm{cy}}} + A_\\mathrm{f} x_{0}\\right)\n"
     ]
    }
   ],
   "source": [
    "sp.print_latex(psi_c_reduced[-1][0])"
   ]
  },
  {
   "cell_type": "code",
   "execution_count": 24,
   "metadata": {},
   "outputs": [
    {
     "data": {
      "text/latex": [
       "$\\displaystyle \\frac{f_\\mathrm{fu}}{b d f_\\mathrm{cm}}$"
      ],
      "text/plain": [
       "f_\\mathrm{fu}/(b*d*f_\\mathrm{cm})"
      ]
     },
     "execution_count": 24,
     "metadata": {},
     "output_type": "execute_result"
    }
   ],
   "source": [
    "psi_c_reduced[0][0][1]"
   ]
  },
  {
   "cell_type": "markdown",
   "metadata": {},
   "source": [
    "### Final $\\psi_c$ formula\n",
    "\n",
    "For $\\rho_\\mathrm{f} < \\rho_\\mathrm{fb}$, the utilization ratio for concrete is given as\n",
    "\n",
    "$\n",
    "\\psi_c = \\min\\left(1,~\\frac{f_\\mathrm{fu}}{b d f_\\mathrm{cm}} \\cdot \\bigg( A_\\mathrm{f} + \\sqrt{\\frac{A_\\mathrm{f} \\cdot (A_\\mathrm{f} E_\\mathrm{f} \\varepsilon_{cy} + 2 b d f_\\mathrm{cm, cy})}{E_\\mathrm{f} \\varepsilon_\\mathrm{cy}}} \\bigg)\\right)\n",
    "$\n",
    "\n",
    "Note: can be used for $\\rho_\\mathrm{f} < \\rho_\\mathrm{fb}$ without checking $F_t < F_{c, cy}$ because for that case it indeed result in a value larger than 1, so the final resulting value of 1 is correct."
   ]
  },
  {
   "cell_type": "markdown",
   "metadata": {},
   "source": [
    "## $M_u$ for part 1"
   ]
  },
  {
   "cell_type": "code",
   "execution_count": 25,
   "metadata": {},
   "outputs": [
    {
     "data": {
      "text/latex": [
       "$\\displaystyle \\frac{E_\\mathrm{f} d \\left(\\sqrt{A_\\mathrm{f}} \\sqrt{\\varepsilon_\\mathrm{cy}} \\sqrt{A_\\mathrm{f} E_\\mathrm{f} \\varepsilon_\\mathrm{cy} + 2 \\sigma_\\mathrm{cy} b d} + A_\\mathrm{f} \\sqrt{E_\\mathrm{f}} \\varepsilon_\\mathrm{cy}\\right)}{3 \\left(\\sqrt{E_\\mathrm{f}} \\sigma_\\mathrm{cy} b d + E_\\mathrm{f} \\left(\\sqrt{A_\\mathrm{f}} \\sqrt{\\varepsilon_\\mathrm{cy}} \\sqrt{A_\\mathrm{f} E_\\mathrm{f} \\varepsilon_\\mathrm{cy} + 2 \\sigma_\\mathrm{cy} b d} + A_\\mathrm{f} \\sqrt{E_\\mathrm{f}} \\varepsilon_\\mathrm{cy}\\right)\\right)}$"
      ],
      "text/plain": [
       "E_\\mathrm{f}*d*(sqrt(A_\\mathrm{f})*sqrt(\\varepsilon_\\mathrm{cy})*sqrt(A_\\mathrm{f}*E_\\mathrm{f}*\\varepsilon_\\mathrm{cy} + 2*\\sigma_\\mathrm{cy}*b*d) + A_\\mathrm{f}*sqrt(E_\\mathrm{f})*\\varepsilon_\\mathrm{cy})/(3*(sqrt(E_\\mathrm{f})*\\sigma_\\mathrm{cy}*b*d + E_\\mathrm{f}*(sqrt(A_\\mathrm{f})*sqrt(\\varepsilon_\\mathrm{cy})*sqrt(A_\\mathrm{f}*E_\\mathrm{f}*\\varepsilon_\\mathrm{cy} + 2*\\sigma_\\mathrm{cy}*b*d) + A_\\mathrm{f}*sqrt(E_\\mathrm{f})*\\varepsilon_\\mathrm{cy})))"
      ]
     },
     "execution_count": 25,
     "metadata": {},
     "output_type": "execute_result"
    }
   ],
   "source": [
    "# Because first part is triangle, the center of it is\n",
    "# ce: the distance from the top of the cross section to the centroid of concrete compression block\n",
    "c = d * eps/(eps + eps_fu)\n",
    "ce1 = c.subs({eps: eps_part_1}) / 3\n",
    "ce1 = sp.simplify(ce1)\n",
    "ce1"
   ]
  },
  {
   "cell_type": "code",
   "execution_count": 26,
   "metadata": {},
   "outputs": [
    {
     "data": {
      "text/latex": [
       "$\\displaystyle \\frac{A_\\mathrm{f} d f_\\mathrm{fu} \\left(3 \\sqrt{E_\\mathrm{f}} \\sigma_\\mathrm{cy} b d + 2 E_\\mathrm{f} \\left(\\sqrt{A_\\mathrm{f}} \\sqrt{\\varepsilon_\\mathrm{cy}} \\sqrt{A_\\mathrm{f} E_\\mathrm{f} \\varepsilon_\\mathrm{cy} + 2 \\sigma_\\mathrm{cy} b d} + A_\\mathrm{f} \\sqrt{E_\\mathrm{f}} \\varepsilon_\\mathrm{cy}\\right)\\right)}{3 \\left(\\sqrt{E_\\mathrm{f}} \\sigma_\\mathrm{cy} b d + E_\\mathrm{f} \\left(\\sqrt{A_\\mathrm{f}} \\sqrt{\\varepsilon_\\mathrm{cy}} \\sqrt{A_\\mathrm{f} E_\\mathrm{f} \\varepsilon_\\mathrm{cy} + 2 \\sigma_\\mathrm{cy} b d} + A_\\mathrm{f} \\sqrt{E_\\mathrm{f}} \\varepsilon_\\mathrm{cy}\\right)\\right)}$"
      ],
      "text/plain": [
       "A_\\mathrm{f}*d*f_\\mathrm{fu}*(3*sqrt(E_\\mathrm{f})*\\sigma_\\mathrm{cy}*b*d + 2*E_\\mathrm{f}*(sqrt(A_\\mathrm{f})*sqrt(\\varepsilon_\\mathrm{cy})*sqrt(A_\\mathrm{f}*E_\\mathrm{f}*\\varepsilon_\\mathrm{cy} + 2*\\sigma_\\mathrm{cy}*b*d) + A_\\mathrm{f}*sqrt(E_\\mathrm{f})*\\varepsilon_\\mathrm{cy}))/(3*(sqrt(E_\\mathrm{f})*\\sigma_\\mathrm{cy}*b*d + E_\\mathrm{f}*(sqrt(A_\\mathrm{f})*sqrt(\\varepsilon_\\mathrm{cy})*sqrt(A_\\mathrm{f}*E_\\mathrm{f}*\\varepsilon_\\mathrm{cy} + 2*\\sigma_\\mathrm{cy}*b*d) + A_\\mathrm{f}*sqrt(E_\\mathrm{f})*\\varepsilon_\\mathrm{cy})))"
      ]
     },
     "execution_count": 26,
     "metadata": {},
     "output_type": "execute_result"
    }
   ],
   "source": [
    "# Valid for f_cm > 80 in general and in case F_t < F_c_1\n",
    "M_n_1 = sp.simplify(A_f * f_fu * (d - ce1))\n",
    "M_n_1"
   ]
  },
  {
   "cell_type": "markdown",
   "metadata": {},
   "source": [
    "### Reduce and print formula"
   ]
  },
  {
   "cell_type": "code",
   "execution_count": 27,
   "metadata": {},
   "outputs": [
    {
     "data": {
      "text/plain": [
       "([(x0, sqrt(E_\\mathrm{f})),\n",
       "  (x1, \\sigma_\\mathrm{cy}*b*d),\n",
       "  (x2, x0*x1),\n",
       "  (x3, A_\\mathrm{f}*\\varepsilon_\\mathrm{cy}),\n",
       "  (x4,\n",
       "   E_\\mathrm{f}*(sqrt(A_\\mathrm{f})*sqrt(\\varepsilon_\\mathrm{cy})*sqrt(E_\\mathrm{f}*x3 + 2*x1) + x0*x3))],\n",
       " [A_\\mathrm{f}*d*f_\\mathrm{fu}*(3*x2 + 2*x4)/(3*(x2 + x4))])"
      ]
     },
     "execution_count": 27,
     "metadata": {},
     "output_type": "execute_result"
    }
   ],
   "source": [
    "# packaging common terms\n",
    "M_n_1_reduced = sp.cse(M_n_1)\n",
    "M_n_1_reduced"
   ]
  },
  {
   "cell_type": "code",
   "execution_count": 28,
   "metadata": {},
   "outputs": [
    {
     "data": {
      "text/latex": [
       "$\\displaystyle \\frac{A_\\mathrm{f} d f_\\mathrm{fu} \\left(3 x_{2} + 2 x_{4}\\right)}{3 \\left(x_{2} + x_{4}\\right)}$"
      ],
      "text/plain": [
       "A_\\mathrm{f}*d*f_\\mathrm{fu}*(3*x2 + 2*x4)/(3*(x2 + x4))"
      ]
     },
     "execution_count": 28,
     "metadata": {},
     "output_type": "execute_result"
    }
   ],
   "source": [
    "M_n_1_reduced[-1][0]"
   ]
  },
  {
   "cell_type": "code",
   "execution_count": 29,
   "metadata": {},
   "outputs": [
    {
     "data": {
      "text/plain": [
       "[[x0, sqrt(E_\\mathrm{f})],\n",
       " [x1, \\sigma_\\mathrm{cy}*b*d],\n",
       " [x2, sqrt(E_\\mathrm{f})*\\sigma_\\mathrm{cy}*b*d],\n",
       " [x3, A_\\mathrm{f}*\\varepsilon_\\mathrm{cy}],\n",
       " [x4,\n",
       "  E_\\mathrm{f}*(sqrt(A_\\mathrm{f})*sqrt(\\varepsilon_\\mathrm{cy})*sqrt(A_\\mathrm{f}*E_\\mathrm{f}*\\varepsilon_\\mathrm{cy} + 2*\\sigma_\\mathrm{cy}*b*d) + A_\\mathrm{f}*sqrt(E_\\mathrm{f})*\\varepsilon_\\mathrm{cy})]]"
      ]
     },
     "execution_count": 29,
     "metadata": {},
     "output_type": "execute_result"
    }
   ],
   "source": [
    "symb_exp_list = [[s, e] for (s, e) in M_n_1_reduced[0]]\n",
    "for symb_exp in symb_exp_list:\n",
    "    symb_exp[1] = symb_exp[1].subs({s:e for (s, e) in symb_exp_list})\n",
    "symb_exp_list"
   ]
  },
  {
   "cell_type": "code",
   "execution_count": 30,
   "metadata": {},
   "outputs": [
    {
     "data": {
      "text/latex": [
       "$\\displaystyle \\sqrt{E_\\mathrm{f}} \\sigma_\\mathrm{cy} b d$"
      ],
      "text/plain": [
       "sqrt(E_\\mathrm{f})*\\sigma_\\mathrm{cy}*b*d"
      ]
     },
     "execution_count": 30,
     "metadata": {},
     "output_type": "execute_result"
    }
   ],
   "source": [
    "x2 = symb_exp_list[2][1]\n",
    "x2"
   ]
  },
  {
   "cell_type": "code",
   "execution_count": 31,
   "metadata": {},
   "outputs": [
    {
     "name": "stdout",
     "output_type": "stream",
     "text": [
      "\\sqrt{E_\\mathrm{f}} \\sigma_\\mathrm{cy} b d\n"
     ]
    }
   ],
   "source": [
    "sp.print_latex(x2)"
   ]
  },
  {
   "cell_type": "code",
   "execution_count": 32,
   "metadata": {},
   "outputs": [
    {
     "data": {
      "text/latex": [
       "$\\displaystyle E_\\mathrm{f} \\left(\\sqrt{A_\\mathrm{f}} \\sqrt{\\varepsilon_\\mathrm{cy}} \\sqrt{A_\\mathrm{f} E_\\mathrm{f} \\varepsilon_\\mathrm{cy} + 2 \\sigma_\\mathrm{cy} b d} + A_\\mathrm{f} \\sqrt{E_\\mathrm{f}} \\varepsilon_\\mathrm{cy}\\right)$"
      ],
      "text/plain": [
       "E_\\mathrm{f}*(sqrt(A_\\mathrm{f})*sqrt(\\varepsilon_\\mathrm{cy})*sqrt(A_\\mathrm{f}*E_\\mathrm{f}*\\varepsilon_\\mathrm{cy} + 2*\\sigma_\\mathrm{cy}*b*d) + A_\\mathrm{f}*sqrt(E_\\mathrm{f})*\\varepsilon_\\mathrm{cy})"
      ]
     },
     "execution_count": 32,
     "metadata": {},
     "output_type": "execute_result"
    }
   ],
   "source": [
    "x4 = symb_exp_list[4][1]\n",
    "x4"
   ]
  },
  {
   "cell_type": "code",
   "execution_count": 33,
   "metadata": {},
   "outputs": [
    {
     "name": "stdout",
     "output_type": "stream",
     "text": [
      "E_\\mathrm{f} \\left(\\sqrt{A_\\mathrm{f}} \\sqrt{\\varepsilon_\\mathrm{cy}} \\sqrt{A_\\mathrm{f} E_\\mathrm{f} \\varepsilon_\\mathrm{cy} + 2 \\sigma_\\mathrm{cy} b d} + A_\\mathrm{f} \\sqrt{E_\\mathrm{f}} \\varepsilon_\\mathrm{cy}\\right)\n"
     ]
    }
   ],
   "source": [
    "sp.print_latex(x4)"
   ]
  },
  {
   "cell_type": "code",
   "execution_count": 34,
   "metadata": {},
   "outputs": [
    {
     "name": "stdout",
     "output_type": "stream",
     "text": [
      "\\frac{A_\\mathrm{f} d f_\\mathrm{fu} \\left(3 x_{2} + 2 x_{4}\\right)}{3 \\left(x_{2} + x_{4}\\right)}\n"
     ]
    }
   ],
   "source": [
    "sp.print_latex(M_n_1_reduced[-1][0])"
   ]
  },
  {
   "cell_type": "markdown",
   "metadata": {},
   "source": [
    "### Final $M_u$ formula\n",
    "\n",
    "For $\\rho_\\mathrm{f} < \\rho_\\mathrm{f, cy}$, flexural capacity is given\n",
    "\n",
    "$M_\\mathrm{u,cy} = \\frac{A_\\mathrm{f} d f_\\mathrm{fu} \\left(3 m_{1} + 2 m_{2}\\right)}{3 \\left(m_{1} + m_{2}\\right)}$\n",
    "\n",
    "with\n",
    "\n",
    "\\begin{align}\n",
    "m_1 & = \\sqrt{E_\\mathrm{f}} b d f_\\mathrm{cm, cy}, \\\\\n",
    "m_2 & =  E_f \\Bigg( \\sqrt{A_\\mathrm{f} \\varepsilon_\\mathrm{cy} \\cdot \\bigg(A_\\mathrm{f} E_\\mathrm{f} \\varepsilon_\\mathrm{cy} + \\frac{2 m_1}{\\sqrt{E_\\mathrm{f}}}\\bigg)} + A_\\mathrm{f}~\\varepsilon_\\mathrm{cy}~\\sqrt{E_\\mathrm{f}} \\Bigg)\n",
    "\\end{align}"
   ]
  },
  {
   "cell_type": "markdown",
   "metadata": {},
   "source": [
    "## Solving for the second part\n",
    "\n",
    "Note: this is complex and not usable, but left here for completeness, use the formula of $\\rho_f > \\rho_{fb}$ instead which gives conservative M_u solution."
   ]
  },
  {
   "cell_type": "code",
   "execution_count": 35,
   "metadata": {},
   "outputs": [],
   "source": [
    "# eps_part_2 = get_eps_top_solved(1)\n",
    "# eps_part_2"
   ]
  },
  {
   "cell_type": "code",
   "execution_count": 36,
   "metadata": {
    "scrolled": false
   },
   "outputs": [],
   "source": [
    "# ce_part_2 = ce2_eps_fraction.subs({eps: eps_part_2}) * c.subs({eps: eps_part_2})\n",
    "# # simplify takes forever here\n",
    "# # ce_part_2 = sp.simplify(ce_part_2)\n",
    "# ce_part_2"
   ]
  },
  {
   "cell_type": "code",
   "execution_count": 37,
   "metadata": {
    "scrolled": true
   },
   "outputs": [],
   "source": [
    "# M_n_part_2 = A_f * f_fu * (d - ce_part_2)\n",
    "# # simplify takes forever here\n",
    "# # M_n_part_2 = sp.simplify(M_n_part_2)\n",
    "# M_n_part_2"
   ]
  },
  {
   "cell_type": "markdown",
   "metadata": {},
   "source": [
    "# Deriving $M_u$ and other equations for $\\rho_\\mathrm{f} \\ge \\rho_\\mathrm{fb}$\n",
    "\n",
    "Here, we know that $\\varepsilon_{c, top} = \\varepsilon_{cu}$"
   ]
  },
  {
   "cell_type": "markdown",
   "metadata": {},
   "source": [
    "## Balanced reinforcement ratio $\\rho_\\mathrm{fb}$"
   ]
  },
  {
   "cell_type": "code",
   "execution_count": 38,
   "metadata": {},
   "outputs": [
    {
     "data": {
      "text/latex": [
       "$\\displaystyle \\frac{E_\\mathrm{f} \\left(\\sigma_\\mathrm{cu} \\varepsilon_\\mathrm{cu} - \\sigma_\\mathrm{cu} \\varepsilon_\\mathrm{cy} + \\sigma_\\mathrm{cy} \\varepsilon_\\mathrm{cu}\\right)}{2 f_\\mathrm{fu} \\left(E_\\mathrm{f} \\varepsilon_\\mathrm{cu} + f_\\mathrm{fu}\\right)}$"
      ],
      "text/plain": [
       "E_\\mathrm{f}*(\\sigma_\\mathrm{cu}*\\varepsilon_\\mathrm{cu} - \\sigma_\\mathrm{cu}*\\varepsilon_\\mathrm{cy} + \\sigma_\\mathrm{cy}*\\varepsilon_\\mathrm{cu})/(2*f_\\mathrm{fu}*(E_\\mathrm{f}*\\varepsilon_\\mathrm{cu} + f_\\mathrm{fu}))"
      ]
     },
     "execution_count": 38,
     "metadata": {},
     "output_type": "execute_result"
    }
   ],
   "source": [
    "F_t = A_f * f_fu\n",
    "sig_z_area = area_up_to_eps_part_2.subs({eps:eps_cu}) * (c.subs({eps:eps_cu}) / eps_cu)\n",
    "F_c = sig_z_area * b\n",
    "A_fb = sp.solve(F_t - F_c, A_f)[0]\n",
    "A_fb = sp.simplify(A_fb)\n",
    "rho_fb = A_fb / (b * d)\n",
    "rho_fb"
   ]
  },
  {
   "cell_type": "code",
   "execution_count": 39,
   "metadata": {},
   "outputs": [
    {
     "data": {
      "text/latex": [
       "$\\displaystyle 0.00320321578123761$"
      ],
      "text/plain": [
       "0.00320321578123761"
      ]
     },
     "execution_count": 39,
     "metadata": {},
     "output_type": "execute_result"
    }
   ],
   "source": [
    "# This should be almost 0.00326 according to MK tool\n",
    "sp.N(rho_fb.subs(f_cms_vals).subs(test_vals))"
   ]
  },
  {
   "cell_type": "markdown",
   "metadata": {},
   "source": [
    "## $M_\\mathrm{u}$ for $\\rho_\\mathrm{f} > \\rho_\\mathrm{fb}$"
   ]
  },
  {
   "cell_type": "code",
   "execution_count": 40,
   "metadata": {},
   "outputs": [
    {
     "data": {
      "text/latex": [
       "$\\displaystyle \\frac{\\sigma_\\mathrm{cy} \\varepsilon_\\mathrm{cy} \\left(3 \\varepsilon - 2 \\varepsilon_\\mathrm{cy}\\right) \\left(\\varepsilon_\\mathrm{cu} - \\varepsilon_\\mathrm{cy}\\right) + \\left(\\varepsilon - \\varepsilon_\\mathrm{cy}\\right)^{2} \\left(\\sigma_\\mathrm{cu} \\varepsilon - \\sigma_\\mathrm{cu} \\varepsilon_\\mathrm{cy} - \\sigma_\\mathrm{cy} \\varepsilon + \\sigma_\\mathrm{cy} \\varepsilon_\\mathrm{cu} + 2 \\sigma_\\mathrm{cy} \\left(\\varepsilon_\\mathrm{cu} - \\varepsilon_\\mathrm{cy}\\right)\\right)}{3 \\varepsilon \\left(\\sigma_\\mathrm{cy} \\varepsilon_\\mathrm{cy} \\left(\\varepsilon_\\mathrm{cu} - \\varepsilon_\\mathrm{cy}\\right) + \\left(\\varepsilon - \\varepsilon_\\mathrm{cy}\\right) \\left(\\sigma_\\mathrm{cu} \\varepsilon - \\sigma_\\mathrm{cu} \\varepsilon_\\mathrm{cy} - \\sigma_\\mathrm{cy} \\varepsilon + \\sigma_\\mathrm{cy} \\varepsilon_\\mathrm{cu} + \\sigma_\\mathrm{cy} \\left(\\varepsilon_\\mathrm{cu} - \\varepsilon_\\mathrm{cy}\\right)\\right)\\right)}$"
      ],
      "text/plain": [
       "(\\sigma_\\mathrm{cy}*\\varepsilon_\\mathrm{cy}*(3*\\varepsilon - 2*\\varepsilon_\\mathrm{cy})*(\\varepsilon_\\mathrm{cu} - \\varepsilon_\\mathrm{cy}) + (\\varepsilon - \\varepsilon_\\mathrm{cy})**2*(\\sigma_\\mathrm{cu}*\\varepsilon - \\sigma_\\mathrm{cu}*\\varepsilon_\\mathrm{cy} - \\sigma_\\mathrm{cy}*\\varepsilon + \\sigma_\\mathrm{cy}*\\varepsilon_\\mathrm{cu} + 2*\\sigma_\\mathrm{cy}*(\\varepsilon_\\mathrm{cu} - \\varepsilon_\\mathrm{cy})))/(3*\\varepsilon*(\\sigma_\\mathrm{cy}*\\varepsilon_\\mathrm{cy}*(\\varepsilon_\\mathrm{cu} - \\varepsilon_\\mathrm{cy}) + (\\varepsilon - \\varepsilon_\\mathrm{cy})*(\\sigma_\\mathrm{cu}*\\varepsilon - \\sigma_\\mathrm{cu}*\\varepsilon_\\mathrm{cy} - \\sigma_\\mathrm{cy}*\\varepsilon + \\sigma_\\mathrm{cy}*\\varepsilon_\\mathrm{cu} + \\sigma_\\mathrm{cy}*(\\varepsilon_\\mathrm{cu} - \\varepsilon_\\mathrm{cy}))))"
      ]
     },
     "execution_count": 40,
     "metadata": {},
     "output_type": "execute_result"
    }
   ],
   "source": [
    "# Calculating centroid and area for second part:\n",
    "# -----------------------------------------------\n",
    "# The following is valid for any eps in the second descending line in the approximated sig-eps relation\n",
    "# For f_cm > f_cm_limit, only the triangle is enough as the trapz doesn't exist because eps_cy = eps_cu\n",
    "# However, even if these are used, setting eps_cy = eps_cu would cancel the trapezoidal part.\n",
    "# Therefore, eps_cu1 formula in EC2 was adapted below.\n",
    "\n",
    "triangle_area = eps_cy * sig_cy_scaled / 2\n",
    "triangle_ce = (eps - eps_cy) + eps_cy / 3\n",
    "\n",
    "small_base_trapz = sig_eq.args[1][0]\n",
    "large_base_trapz = sig_cy_scaled\n",
    "h_trapz = eps - eps_cy\n",
    "trapz_ce_dist_from_large_base = (h_trapz/3) * (large_base_trapz + 2 * small_base_trapz) / (large_base_trapz + small_base_trapz)\n",
    "trapz_ce_dist_from_large_base = sp.simplify(trapz_ce_dist_from_large_base)\n",
    "trapz_ce = eps - eps_cy - trapz_ce_dist_from_large_base\n",
    "trapz_ce = sp.simplify(trapz_ce)\n",
    "trapz_area = h_trapz * (small_base_trapz + large_base_trapz) / 2 \n",
    "trapz_area = sp.simplify(trapz_area)\n",
    "\n",
    "total_area = triangle_area + trapz_area\n",
    "\n",
    "ce2_eps = ((trapz_ce * trapz_area) + (triangle_ce * triangle_area)) / total_area\n",
    "ce2_eps_fraction = ce2_eps / eps\n",
    "ce2_eps_fraction = sp.simplify(ce2_eps_fraction)\n",
    "ce2_eps_fraction"
   ]
  },
  {
   "cell_type": "code",
   "execution_count": 41,
   "metadata": {},
   "outputs": [
    {
     "data": {
      "text/latex": [
       "$\\displaystyle \\frac{E_\\mathrm{f} d \\left(\\sigma_\\mathrm{cy} \\varepsilon_\\mathrm{cy} \\left(3 \\varepsilon_\\mathrm{cu} - 2 \\varepsilon_\\mathrm{cy}\\right) + \\left(\\varepsilon_\\mathrm{cu} - \\varepsilon_\\mathrm{cy}\\right) \\left(\\sigma_\\mathrm{cu} \\varepsilon_\\mathrm{cu} - \\sigma_\\mathrm{cu} \\varepsilon_\\mathrm{cy} + 2 \\sigma_\\mathrm{cy} \\left(\\varepsilon_\\mathrm{cu} - \\varepsilon_\\mathrm{cy}\\right)\\right)\\right)}{3 \\left(E_\\mathrm{f} \\varepsilon_\\mathrm{cu} + f_\\mathrm{fu}\\right) \\left(\\sigma_\\mathrm{cu} \\varepsilon_\\mathrm{cu} - \\sigma_\\mathrm{cu} \\varepsilon_\\mathrm{cy} + \\sigma_\\mathrm{cy} \\varepsilon_\\mathrm{cy} + \\sigma_\\mathrm{cy} \\left(\\varepsilon_\\mathrm{cu} - \\varepsilon_\\mathrm{cy}\\right)\\right)}$"
      ],
      "text/plain": [
       "E_\\mathrm{f}*d*(\\sigma_\\mathrm{cy}*\\varepsilon_\\mathrm{cy}*(3*\\varepsilon_\\mathrm{cu} - 2*\\varepsilon_\\mathrm{cy}) + (\\varepsilon_\\mathrm{cu} - \\varepsilon_\\mathrm{cy})*(\\sigma_\\mathrm{cu}*\\varepsilon_\\mathrm{cu} - \\sigma_\\mathrm{cu}*\\varepsilon_\\mathrm{cy} + 2*\\sigma_\\mathrm{cy}*(\\varepsilon_\\mathrm{cu} - \\varepsilon_\\mathrm{cy})))/(3*(E_\\mathrm{f}*\\varepsilon_\\mathrm{cu} + f_\\mathrm{fu})*(\\sigma_\\mathrm{cu}*\\varepsilon_\\mathrm{cu} - \\sigma_\\mathrm{cu}*\\varepsilon_\\mathrm{cy} + \\sigma_\\mathrm{cy}*\\varepsilon_\\mathrm{cy} + \\sigma_\\mathrm{cy}*(\\varepsilon_\\mathrm{cu} - \\varepsilon_\\mathrm{cy})))"
      ]
     },
     "execution_count": 41,
     "metadata": {},
     "output_type": "execute_result"
    }
   ],
   "source": [
    "# ce: the distance from the top of the cross section to the centroid of concrete compression block\n",
    "eps_fu = f_fu / E_f\n",
    "c = d * eps/(eps + eps_fu)\n",
    "ce2 = ce2_eps_fraction.subs({eps: eps_cu}) * c.subs({eps: eps_cu})\n",
    "ce2 = sp.simplify(ce2)\n",
    "ce2"
   ]
  },
  {
   "cell_type": "code",
   "execution_count": 42,
   "metadata": {},
   "outputs": [
    {
     "data": {
      "text/latex": [
       "$\\displaystyle \\min\\left(f_\\mathrm{fu}, \\frac{\\sqrt{E_\\mathrm{f}} \\sqrt{E_\\mathrm{f} \\rho_\\mathrm{f} \\varepsilon_\\mathrm{cu}^{2} + 2 \\sigma_\\mathrm{cu} \\varepsilon_\\mathrm{cu} - 2 \\sigma_\\mathrm{cu} \\varepsilon_\\mathrm{cy} + 2 \\sigma_\\mathrm{cy} \\varepsilon_\\mathrm{cu}}}{2 \\sqrt{\\rho_\\mathrm{f}}} - \\frac{E_\\mathrm{f} \\varepsilon_\\mathrm{cu}}{2}\\right)$"
      ],
      "text/plain": [
       "Min(f_\\mathrm{fu}, sqrt(E_\\mathrm{f})*sqrt(E_\\mathrm{f}*\\rho_\\mathrm{f}*\\varepsilon_\\mathrm{cu}**2 + 2*\\sigma_\\mathrm{cu}*\\varepsilon_\\mathrm{cu} - 2*\\sigma_\\mathrm{cu}*\\varepsilon_\\mathrm{cy} + 2*\\sigma_\\mathrm{cy}*\\varepsilon_\\mathrm{cu})/(2*sqrt(\\rho_\\mathrm{f})) - E_\\mathrm{f}*\\varepsilon_\\mathrm{cu}/2)"
      ]
     },
     "execution_count": 42,
     "metadata": {},
     "output_type": "execute_result"
    }
   ],
   "source": [
    "F_t = A_f * f_fu\n",
    "sig_z_area = area_up_to_eps_part_2.subs({eps:eps_cu}) * (c.subs({eps:eps_cu}) / eps_cu)\n",
    "F_c = sig_z_area * b\n",
    "sigma_f_sol = sp.solve(F_t - F_c, f_fu)[1].subs({A_f:rho_f * b * d})\n",
    "sigma_f_sol = sp.simplify(sigma_f_sol)\n",
    "\n",
    "# Note: if sigma_f > f_fu then FRP reinforcement will fail on tension (most probably a rho_f < rho_fb is used)\n",
    "sigma_f_ = sp.Min(sigma_f_sol, f_fu)\n",
    "sigma_f_"
   ]
  },
  {
   "cell_type": "code",
   "execution_count": 43,
   "metadata": {},
   "outputs": [
    {
     "data": {
      "text/latex": [
       "$\\displaystyle \\frac{\\sigma_\\mathrm{f}}{f_\\mathrm{fu}}$"
      ],
      "text/plain": [
       "\\sigma_\\mathrm{f}/f_\\mathrm{fu}"
      ]
     },
     "execution_count": 43,
     "metadata": {},
     "output_type": "execute_result"
    }
   ],
   "source": [
    "psi_f = sigma_f / f_fu\n",
    "psi_f"
   ]
  },
  {
   "cell_type": "code",
   "execution_count": 44,
   "metadata": {
    "scrolled": true
   },
   "outputs": [],
   "source": [
    "test_vals= {f_cm:50, b:400, d:180, f_fu:2500, E_f:200000, \n",
    "            A_f:250, \n",
    "            rho_f:250/(180*400),\n",
    "            E_cc:EC2.get_E_cm(50-8), \n",
    "            eps_cy:EC2.get_eps_c1(50-8),\n",
    "           eps_cu:EC2.get_eps_cu1(50-8)}"
   ]
  },
  {
   "cell_type": "code",
   "execution_count": 45,
   "metadata": {},
   "outputs": [
    {
     "data": {
      "text/latex": [
       "$\\displaystyle 2389.10736554292$"
      ],
      "text/plain": [
       "2389.10736554292"
      ]
     },
     "execution_count": 45,
     "metadata": {},
     "output_type": "execute_result"
    }
   ],
   "source": [
    "sp.N(sigma_f_.subs(f_cms_vals).subs(test_vals))"
   ]
  },
  {
   "cell_type": "code",
   "execution_count": 46,
   "metadata": {
    "scrolled": true
   },
   "outputs": [
    {
     "data": {
      "text/latex": [
       "$\\displaystyle - \\frac{A_\\mathrm{f} \\sigma_\\mathrm{f} d \\left(E_\\mathrm{f} \\left(\\sigma_\\mathrm{cy} \\varepsilon_\\mathrm{cy} \\left(3 \\varepsilon_\\mathrm{cu} - 2 \\varepsilon_\\mathrm{cy}\\right) + \\left(\\varepsilon_\\mathrm{cu} - \\varepsilon_\\mathrm{cy}\\right) \\left(\\sigma_\\mathrm{cu} \\varepsilon_\\mathrm{cu} - \\sigma_\\mathrm{cu} \\varepsilon_\\mathrm{cy} + 2 \\sigma_\\mathrm{cy} \\left(\\varepsilon_\\mathrm{cu} - \\varepsilon_\\mathrm{cy}\\right)\\right)\\right) - 3 \\left(E_\\mathrm{f} \\varepsilon_\\mathrm{cu} + \\sigma_\\mathrm{f}\\right) \\left(\\sigma_\\mathrm{cu} \\varepsilon_\\mathrm{cu} - \\sigma_\\mathrm{cu} \\varepsilon_\\mathrm{cy} + \\sigma_\\mathrm{cy} \\varepsilon_\\mathrm{cy} + \\sigma_\\mathrm{cy} \\left(\\varepsilon_\\mathrm{cu} - \\varepsilon_\\mathrm{cy}\\right)\\right)\\right)}{3 \\left(E_\\mathrm{f} \\varepsilon_\\mathrm{cu} + \\sigma_\\mathrm{f}\\right) \\left(\\sigma_\\mathrm{cu} \\varepsilon_\\mathrm{cu} - \\sigma_\\mathrm{cu} \\varepsilon_\\mathrm{cy} + \\sigma_\\mathrm{cy} \\varepsilon_\\mathrm{cy} + \\sigma_\\mathrm{cy} \\left(\\varepsilon_\\mathrm{cu} - \\varepsilon_\\mathrm{cy}\\right)\\right)}$"
      ],
      "text/plain": [
       "-A_\\mathrm{f}*\\sigma_\\mathrm{f}*d*(E_\\mathrm{f}*(\\sigma_\\mathrm{cy}*\\varepsilon_\\mathrm{cy}*(3*\\varepsilon_\\mathrm{cu} - 2*\\varepsilon_\\mathrm{cy}) + (\\varepsilon_\\mathrm{cu} - \\varepsilon_\\mathrm{cy})*(\\sigma_\\mathrm{cu}*\\varepsilon_\\mathrm{cu} - \\sigma_\\mathrm{cu}*\\varepsilon_\\mathrm{cy} + 2*\\sigma_\\mathrm{cy}*(\\varepsilon_\\mathrm{cu} - \\varepsilon_\\mathrm{cy}))) - 3*(E_\\mathrm{f}*\\varepsilon_\\mathrm{cu} + \\sigma_\\mathrm{f})*(\\sigma_\\mathrm{cu}*\\varepsilon_\\mathrm{cu} - \\sigma_\\mathrm{cu}*\\varepsilon_\\mathrm{cy} + \\sigma_\\mathrm{cy}*\\varepsilon_\\mathrm{cy} + \\sigma_\\mathrm{cy}*(\\varepsilon_\\mathrm{cu} - \\varepsilon_\\mathrm{cy})))/(3*(E_\\mathrm{f}*\\varepsilon_\\mathrm{cu} + \\sigma_\\mathrm{f})*(\\sigma_\\mathrm{cu}*\\varepsilon_\\mathrm{cu} - \\sigma_\\mathrm{cu}*\\varepsilon_\\mathrm{cy} + \\sigma_\\mathrm{cy}*\\varepsilon_\\mathrm{cy} + \\sigma_\\mathrm{cy}*(\\varepsilon_\\mathrm{cu} - \\varepsilon_\\mathrm{cy})))"
      ]
     },
     "execution_count": 46,
     "metadata": {},
     "output_type": "execute_result"
    }
   ],
   "source": [
    "ce2_sigma_f = ce2.subs({f_fu: sigma_f})\n",
    "M_n_2 = A_f * sigma_f * (d - ce2_sigma_f)\n",
    "M_n_2 = sp.simplify(M_n_2)\n",
    "M_n_2\n",
    "\n",
    "# for rho<rho_fb but F_t > F_c_cy, a conservative approx is to USE THIS TOO, but with replacing sigma_f with f_fu ;)\n",
    "# even if sigma_f is used it will retrun f_fu as it's limited not to exceed it"
   ]
  },
  {
   "cell_type": "markdown",
   "metadata": {},
   "source": [
    "### Validation with Mk model\n",
    "\n",
    "\n",
    "M_u_mk_model = 97.76 kNm\n",
    "\n",
    "M_u_model = 97.65 kNm !!!\n",
    "\n",
    "M_u_aci = 81.72 kNm !!!"
   ]
  },
  {
   "cell_type": "code",
   "execution_count": 47,
   "metadata": {},
   "outputs": [
    {
     "data": {
      "text/latex": [
       "$\\displaystyle 97.6504404760672$"
      ],
      "text/plain": [
       "97.6504404760672"
      ]
     },
     "execution_count": 47,
     "metadata": {},
     "output_type": "execute_result"
    }
   ],
   "source": [
    "sp.N(M_n_2.subs({sigma_f:sigma_f_}).subs(f_cms_vals).subs(test_vals) / 1e6)"
   ]
  },
  {
   "cell_type": "code",
   "execution_count": 48,
   "metadata": {},
   "outputs": [
    {
     "data": {
      "text/plain": [
       "81.72727250760829"
      ]
     },
     "execution_count": 48,
     "metadata": {},
     "output_type": "execute_result"
    }
   ],
   "source": [
    "ACI440.get_M_n(A_f=250, f_fu=2500, E_f=200000, f_c=50, b=400, d=180)"
   ]
  },
  {
   "cell_type": "markdown",
   "metadata": {},
   "source": [
    "### Validation with T1 bending experiment"
   ]
  },
  {
   "cell_type": "code",
   "execution_count": 49,
   "metadata": {},
   "outputs": [
    {
     "data": {
      "text/latex": [
       "$\\displaystyle 9.45696190033025$"
      ],
      "text/plain": [
       "9.45696190033025"
      ]
     },
     "execution_count": 49,
     "metadata": {},
     "output_type": "execute_result"
    }
   ],
   "source": [
    "sp.N(M_n_2.subs({sigma_f:sigma_f_}).subs(f_cms_vals).subs(T1_data) / 1e6)"
   ]
  },
  {
   "cell_type": "code",
   "execution_count": 50,
   "metadata": {},
   "outputs": [
    {
     "data": {
      "text/plain": [
       "9.439980300822834"
      ]
     },
     "execution_count": 50,
     "metadata": {},
     "output_type": "execute_result"
    }
   ],
   "source": [
    "ACI440.get_M_n(A_f=T1_data[A_f], f_fu=T1_data[f_fu], E_f=T1_data[E_f], f_c=T1_data[f_cm], b=T1_data[b], d=T1_data[d])"
   ]
  },
  {
   "cell_type": "code",
   "execution_count": 51,
   "metadata": {},
   "outputs": [
    {
     "data": {
      "text/latex": [
       "$\\displaystyle 0.00230061827749369$"
      ],
      "text/plain": [
       "0.00230061827749369"
      ]
     },
     "execution_count": 51,
     "metadata": {},
     "output_type": "execute_result"
    }
   ],
   "source": [
    "sp.N(rho_fb.subs({sigma_f:sigma_f_}).subs(f_cms_vals).subs(T1_data))"
   ]
  },
  {
   "cell_type": "code",
   "execution_count": 52,
   "metadata": {},
   "outputs": [
    {
     "data": {
      "text/plain": [
       "0.0023169231194534973"
      ]
     },
     "execution_count": 52,
     "metadata": {},
     "output_type": "execute_result"
    }
   ],
   "source": [
    "ACI440.get_rho_balanced(f_c=T1_data[f_cm], f_fu=T1_data[f_fu], E_f=T1_data[E_f])"
   ]
  },
  {
   "cell_type": "code",
   "execution_count": 53,
   "metadata": {
    "scrolled": true
   },
   "outputs": [
    {
     "data": {
      "text/plain": [
       "<matplotlib.legend.Legend at 0x1ccfba49460>"
      ]
     },
     "execution_count": 53,
     "metadata": {},
     "output_type": "execute_result"
    },
    {
     "data": {
      "application/vnd.jupyter.widget-view+json": {
       "model_id": "7828eaaaba8d40e0a3752f82f774fc56",
       "version_major": 2,
       "version_minor": 0
      },
      "image/png": "[encoded data removed]",
      "text/html": [
       "\n",
       "            <div style=\"display: inline-block;\">\n",
       "                <div class=\"jupyter-widgets widget-label\" style=\"text-align: center;\">\n",
       "                    Figure\n",
       "                </div>\n",
       "                <img src='data:image/png;base64,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' width=640.0/>\n",
       "            </div>\n",
       "        "
      ],
      "text/plain": [
       "Canvas(toolbar=Toolbar(toolitems=[('Home', 'Reset original view', 'home', 'home'), ('Back', 'Back to previous …"
      ]
     },
     "metadata": {},
     "output_type": "display_data"
    }
   ],
   "source": [
    "fig, ax = plt.subplots()\n",
    "rho_list = np.linspace(0.1/100, 2.5/100, 200)\n",
    "A_f_list = rho_list * 200 * 280\n",
    "get_M_n = sp.lambdify(A_f, M_n_2.subs({sigma_f:sigma_f_sol}).subs({rho_f:A_f/(b*d)}).subs(f_cms_vals).subs({f_cm:48, b:200, d:280, f_fu:2500, E_f:158000, E_cc:EC2.get_E_cm(48-8), eps_cy:EC2.get_eps_c1(48-8), eps_cu:EC2.get_eps_cu1(48-8)}), 'numpy')\n",
    "\n",
    "get_M_n_aci = np.zeros_like(rho_list)\n",
    "for i, A_f_ in enumerate(A_f_list):\n",
    "    get_M_n_aci[i] = ACI440.get_M_n(A_f=A_f_, f_fu=2500, E_f=158000, f_c=48, b=200, d=280)\n",
    "\n",
    "ax.plot(rho_list, get_M_n(A_f_list)/1e6)\n",
    "ax.plot(rho_list, get_M_n_aci, label='ACI')\n",
    "ax.legend()"
   ]
  },
  {
   "cell_type": "code",
   "execution_count": 54,
   "metadata": {
    "scrolled": true
   },
   "outputs": [
    {
     "data": {
      "text/plain": [
       "0.0018393513305793058"
      ]
     },
     "execution_count": 54,
     "metadata": {},
     "output_type": "execute_result"
    }
   ],
   "source": [
    "ACI440.get_rho_balanced(f_c=48, f_fu=2500, E_f=158000)"
   ]
  },
  {
   "cell_type": "code",
   "execution_count": 55,
   "metadata": {},
   "outputs": [
    {
     "data": {
      "text/latex": [
       "$\\displaystyle 0.00255381989675629$"
      ],
      "text/plain": [
       "0.00255381989675629"
      ]
     },
     "execution_count": 55,
     "metadata": {},
     "output_type": "execute_result"
    }
   ],
   "source": [
    "rho_fb.subs({sigma_f:sigma_f_sol, rho_f:A_f/(b*d)}).subs(f_cms_vals).subs({f_cm:48, b:200, d:280, f_fu:2500, E_f:158000, E_cc:EC2.get_E_cm(48-8), eps_cy:EC2.get_eps_c1(48-8), eps_cu:EC2.get_eps_cu1(48-8)})"
   ]
  },
  {
   "cell_type": "markdown",
   "metadata": {},
   "source": [
    "### Validation with experiments\n",
    "\n",
    "**BC2HA** beam from Thériault1998_Effects of FRP Reinforcement Ratio and Concrete Strength on Flexural Behavior of Concrete Beams.pdf\n",
    "\n",
    "M_u_experiment = 19.7 kNm\n",
    "\n",
    "M_u_model = 19.7 kNm !!!\n",
    "\n",
    "M_u_aci = 16 kNm !!!"
   ]
  },
  {
   "cell_type": "code",
   "execution_count": 56,
   "metadata": {},
   "outputs": [
    {
     "data": {
      "text/latex": [
       "$\\displaystyle 19.7172786302442$"
      ],
      "text/plain": [
       "19.7172786302442"
      ]
     },
     "execution_count": 56,
     "metadata": {},
     "output_type": "execute_result"
    }
   ],
   "source": [
    "sp.N(M_n_2.subs({sigma_f:sigma_f_}).subs(f_cms_vals).subs({f_cm:57.2, b:130, d:180-20-6-12.3/2, f_fu:773, E_f:38000,  rho_f:2*np.pi*(12.3/2)**2/(130*(180-20-6-12.3/2)), A_f:2*np.pi*(12.3/2)**2, E_cc:EC2.get_E_cm(57.2-8), eps_cy:EC2.get_eps_c1(57.2-8), eps_cu:EC2.get_eps_cu1(57.2-8)}) / 1e6)"
   ]
  },
  {
   "cell_type": "code",
   "execution_count": 57,
   "metadata": {},
   "outputs": [
    {
     "data": {
      "text/plain": [
       "16.014750484294655"
      ]
     },
     "execution_count": 57,
     "metadata": {},
     "output_type": "execute_result"
    }
   ],
   "source": [
    "ACI440.get_M_n(A_f=2*np.pi*(12.3/2)**2, f_fu=773, E_f=38000, f_c=57.2, b=130, d=180-20-6-12.3/2)"
   ]
  },
  {
   "cell_type": "markdown",
   "metadata": {},
   "source": [
    "### Reduce and print formula"
   ]
  },
  {
   "cell_type": "code",
   "execution_count": 58,
   "metadata": {},
   "outputs": [
    {
     "data": {
      "text/plain": [
       "([(x0, E_\\mathrm{f}*\\varepsilon_\\mathrm{cu} + \\sigma_\\mathrm{f}),\n",
       "  (x1, \\sigma_\\mathrm{cy}*\\varepsilon_\\mathrm{cy}),\n",
       "  (x2, \\varepsilon_\\mathrm{cu} - \\varepsilon_\\mathrm{cy}),\n",
       "  (x3, \\sigma_\\mathrm{cy}*x2),\n",
       "  (x4,\n",
       "   \\sigma_\\mathrm{cu}*\\varepsilon_\\mathrm{cu} - \\sigma_\\mathrm{cu}*\\varepsilon_\\mathrm{cy}),\n",
       "  (x5, x1 + x3 + x4)],\n",
       " [-A_\\mathrm{f}*\\sigma_\\mathrm{f}*d*(E_\\mathrm{f}*(x1*(3*\\varepsilon_\\mathrm{cu} - 2*\\varepsilon_\\mathrm{cy}) + x2*(2*x3 + x4)) - 3*x0*x5)/(3*x0*x5)])"
      ]
     },
     "execution_count": 58,
     "metadata": {},
     "output_type": "execute_result"
    }
   ],
   "source": [
    "# packaging common terms\n",
    "M_n_2_reduced = sp.cse(M_n_2)\n",
    "M_n_2_reduced"
   ]
  },
  {
   "cell_type": "code",
   "execution_count": 59,
   "metadata": {},
   "outputs": [
    {
     "data": {
      "text/latex": [
       "$\\displaystyle - \\frac{A_\\mathrm{f} \\sigma_\\mathrm{f} d \\left(E_\\mathrm{f} \\left(x_{1} \\cdot \\left(3 \\varepsilon_\\mathrm{cu} - 2 \\varepsilon_\\mathrm{cy}\\right) + x_{2} \\cdot \\left(2 x_{3} + x_{4}\\right)\\right) - 3 x_{0} x_{5}\\right)}{3 x_{0} x_{5}}$"
      ],
      "text/plain": [
       "-A_\\mathrm{f}*\\sigma_\\mathrm{f}*d*(E_\\mathrm{f}*(x1*(3*\\varepsilon_\\mathrm{cu} - 2*\\varepsilon_\\mathrm{cy}) + x2*(2*x3 + x4)) - 3*x0*x5)/(3*x0*x5)"
      ]
     },
     "execution_count": 59,
     "metadata": {},
     "output_type": "execute_result"
    }
   ],
   "source": [
    "M_n_2_reduced[-1][0]"
   ]
  },
  {
   "cell_type": "code",
   "execution_count": 60,
   "metadata": {
    "scrolled": true
   },
   "outputs": [
    {
     "data": {
      "text/plain": [
       "[[x0, E_\\mathrm{f}*\\varepsilon_\\mathrm{cu} + \\sigma_\\mathrm{f}],\n",
       " [x1, \\sigma_\\mathrm{cy}*\\varepsilon_\\mathrm{cy}],\n",
       " [x2, \\varepsilon_\\mathrm{cu} - \\varepsilon_\\mathrm{cy}],\n",
       " [x3, \\sigma_\\mathrm{cy}*(\\varepsilon_\\mathrm{cu} - \\varepsilon_\\mathrm{cy})],\n",
       " [x4,\n",
       "  \\sigma_\\mathrm{cu}*\\varepsilon_\\mathrm{cu} - \\sigma_\\mathrm{cu}*\\varepsilon_\\mathrm{cy}],\n",
       " [x5,\n",
       "  \\sigma_\\mathrm{cu}*\\varepsilon_\\mathrm{cu} - \\sigma_\\mathrm{cu}*\\varepsilon_\\mathrm{cy} + \\sigma_\\mathrm{cy}*\\varepsilon_\\mathrm{cy} + \\sigma_\\mathrm{cy}*(\\varepsilon_\\mathrm{cu} - \\varepsilon_\\mathrm{cy})]]"
      ]
     },
     "execution_count": 60,
     "metadata": {},
     "output_type": "execute_result"
    }
   ],
   "source": [
    "symb_exp_list = [[s, e] for (s, e) in M_n_2_reduced[0]]\n",
    "for symb_exp in symb_exp_list:\n",
    "    symb_exp[1] = symb_exp[1].subs({s:e for (s, e) in symb_exp_list})\n",
    "symb_exp_list"
   ]
  },
  {
   "cell_type": "code",
   "execution_count": 61,
   "metadata": {},
   "outputs": [
    {
     "data": {
      "text/latex": [
       "$\\displaystyle - \\frac{A_\\mathrm{f} \\sigma_\\mathrm{f} d \\left(E_\\mathrm{f} \\left(\\Delta\\varepsilon \\left(2 \\Delta\\varepsilon \\sigma_\\mathrm{cy} + \\sigma_\\mathrm{cu} \\varepsilon_\\mathrm{cu} - \\sigma_\\mathrm{cu} \\varepsilon_\\mathrm{cy}\\right) + \\sigma_\\mathrm{cy} \\varepsilon_\\mathrm{cy} \\left(3 \\varepsilon_\\mathrm{cu} - 2 \\varepsilon_\\mathrm{cy}\\right)\\right) - 3 x_{5} \\left(E_\\mathrm{f} \\varepsilon_\\mathrm{cu} + \\sigma_\\mathrm{f}\\right)\\right)}{3 x_{5} \\left(E_\\mathrm{f} \\varepsilon_\\mathrm{cu} + \\sigma_\\mathrm{f}\\right)}$"
      ],
      "text/plain": [
       "-A_\\mathrm{f}*\\sigma_\\mathrm{f}*d*(E_\\mathrm{f}*(\\Delta\\varepsilon*(2*\\Delta\\varepsilon*\\sigma_\\mathrm{cy} + \\sigma_\\mathrm{cu}*\\varepsilon_\\mathrm{cu} - \\sigma_\\mathrm{cu}*\\varepsilon_\\mathrm{cy}) + \\sigma_\\mathrm{cy}*\\varepsilon_\\mathrm{cy}*(3*\\varepsilon_\\mathrm{cu} - 2*\\varepsilon_\\mathrm{cy})) - 3*x5*(E_\\mathrm{f}*\\varepsilon_\\mathrm{cu} + \\sigma_\\mathrm{f}))/(3*x5*(E_\\mathrm{f}*\\varepsilon_\\mathrm{cu} + \\sigma_\\mathrm{f}))"
      ]
     },
     "execution_count": 61,
     "metadata": {},
     "output_type": "execute_result"
    }
   ],
   "source": [
    "d_eps = sp.symbols(r'\\Delta\\varepsilon')\n",
    "M_n_2_reduced_final = sp.simplify(M_n_2_reduced[-1][0].subs({sym: exp for sym, exp in symb_exp_list[:-1]}).subs({eps_cu - eps_cy: d_eps}))\n",
    "M_n_2_reduced_final"
   ]
  },
  {
   "cell_type": "code",
   "execution_count": 62,
   "metadata": {},
   "outputs": [
    {
     "data": {
      "text/latex": [
       "$\\displaystyle \\Delta\\varepsilon \\sigma_\\mathrm{cu} + \\Delta\\varepsilon \\sigma_\\mathrm{cy} + \\sigma_\\mathrm{cy} \\varepsilon_\\mathrm{cy}$"
      ],
      "text/plain": [
       "\\Delta\\varepsilon*\\sigma_\\mathrm{cu} + \\Delta\\varepsilon*\\sigma_\\mathrm{cy} + \\sigma_\\mathrm{cy}*\\varepsilon_\\mathrm{cy}"
      ]
     },
     "execution_count": 62,
     "metadata": {},
     "output_type": "execute_result"
    }
   ],
   "source": [
    "x5_final = sp.simplify(symb_exp_list[5][1].subs({eps_cu: d_eps + eps_cy}))\n",
    "x5_final"
   ]
  },
  {
   "cell_type": "code",
   "execution_count": 63,
   "metadata": {},
   "outputs": [
    {
     "data": {
      "text/latex": [
       "$\\displaystyle - \\frac{A_\\mathrm{f} \\sigma_\\mathrm{f} d \\left(E_\\mathrm{f} \\left(\\Delta\\varepsilon \\left(2 \\Delta\\varepsilon \\sigma_\\mathrm{cy} + \\sigma_\\mathrm{cu} \\varepsilon_\\mathrm{cu} - \\sigma_\\mathrm{cu} \\varepsilon_\\mathrm{cy}\\right) + \\sigma_\\mathrm{cy} \\varepsilon_\\mathrm{cy} \\left(3 \\varepsilon_\\mathrm{cu} - 2 \\varepsilon_\\mathrm{cy}\\right)\\right) - 3 x_{5} \\left(E_\\mathrm{f} \\varepsilon_\\mathrm{cu} + \\sigma_\\mathrm{f}\\right)\\right)}{3 x_{5} \\left(E_\\mathrm{f} \\varepsilon_\\mathrm{cu} + \\sigma_\\mathrm{f}\\right)}$"
      ],
      "text/plain": [
       "-A_\\mathrm{f}*\\sigma_\\mathrm{f}*d*(E_\\mathrm{f}*(\\Delta\\varepsilon*(2*\\Delta\\varepsilon*\\sigma_\\mathrm{cy} + \\sigma_\\mathrm{cu}*\\varepsilon_\\mathrm{cu} - \\sigma_\\mathrm{cu}*\\varepsilon_\\mathrm{cy}) + \\sigma_\\mathrm{cy}*\\varepsilon_\\mathrm{cy}*(3*\\varepsilon_\\mathrm{cu} - 2*\\varepsilon_\\mathrm{cy})) - 3*x5*(E_\\mathrm{f}*\\varepsilon_\\mathrm{cu} + \\sigma_\\mathrm{f}))/(3*x5*(E_\\mathrm{f}*\\varepsilon_\\mathrm{cu} + \\sigma_\\mathrm{f}))"
      ]
     },
     "execution_count": 63,
     "metadata": {},
     "output_type": "execute_result"
    }
   ],
   "source": [
    "sp.simplify(M_n_2_reduced[-1][0].subs({sym: exp for sym, exp in symb_exp_list[:-1]}).subs({eps_cu - eps_cy: d_eps}))"
   ]
  },
  {
   "cell_type": "code",
   "execution_count": 64,
   "metadata": {},
   "outputs": [
    {
     "name": "stdout",
     "output_type": "stream",
     "text": [
      "- \\frac{A_\\mathrm{f} \\sigma_\\mathrm{f} d \\left(E_\\mathrm{f} \\left(\\Delta\\varepsilon \\left(2 \\Delta\\varepsilon \\sigma_\\mathrm{cy} + \\sigma_\\mathrm{cu} \\varepsilon_\\mathrm{cu} - \\sigma_\\mathrm{cu} \\varepsilon_\\mathrm{cy}\\right) + \\sigma_\\mathrm{cy} \\varepsilon_\\mathrm{cy} \\left(3 \\varepsilon_\\mathrm{cu} - 2 \\varepsilon_\\mathrm{cy}\\right)\\right) - 3 x_{5} \\left(E_\\mathrm{f} \\varepsilon_\\mathrm{cu} + \\sigma_\\mathrm{f}\\right)\\right)}{3 x_{5} \\left(E_\\mathrm{f} \\varepsilon_\\mathrm{cu} + \\sigma_\\mathrm{f}\\right)}\n"
     ]
    }
   ],
   "source": [
    "sp.print_latex(M_n_2_reduced_final)"
   ]
  },
  {
   "cell_type": "code",
   "execution_count": 65,
   "metadata": {},
   "outputs": [
    {
     "name": "stdout",
     "output_type": "stream",
     "text": [
      "\\Delta\\varepsilon \\sigma_\\mathrm{cu} + \\Delta\\varepsilon \\sigma_\\mathrm{cy} + \\sigma_\\mathrm{cy} \\varepsilon_\\mathrm{cy}\n"
     ]
    }
   ],
   "source": [
    "sp.print_latex(x5_final)"
   ]
  },
  {
   "cell_type": "markdown",
   "metadata": {},
   "source": [
    "### Final $M_u$ formula\n",
    "\n",
    "For $\\rho_\\mathrm{f} > \\rho_\\mathrm{f, cy}$, flexural capacity is given\n",
    "\n",
    "$M_\\mathrm{u,cu} = \\frac{A_{f} d f_{f} \n",
    "\\bigg(\n",
    "3 m_0 \\left(E_{f} \\varepsilon_{cu} + f_{f}\\right) \n",
    "- E_{f} \\big(\\Delta\\varepsilon^2 \\left(2 f_{cm_{cy}} + f_{cm_{cu}} \\right)\n",
    "~+~f_{cm_{cy}} \\varepsilon_{cy} \\left(3 \\varepsilon_{cu} - 2 \\varepsilon_{cy}\\right)\\big)\\bigg)}\n",
    "{3 m_0 \\left(E_{f} \\varepsilon_{cu} + f_{f}\\right)}$\n",
    "\n",
    "with\n",
    "\n",
    "$m_0 = \\Delta\\varepsilon f_{cm_{cu}} + \\Delta\\varepsilon f_{cm_{cy}} + f_{cm_{cy}} \\varepsilon_{cy}$\n",
    "\n",
    "and\n",
    "\n",
    "$\\Delta\\varepsilon = \\varepsilon_\\mathrm{cu} - \\varepsilon_\\mathrm{cy}$\n",
    "\n",
    "<!-- \\begin{align}\n",
    "m_1 & = \\sqrt{E_\\mathrm{f}} b d f_\\mathrm{cm, cy}, \\\\\n",
    "m_2 & =  E_f \\Bigg( \\sqrt{A_\\mathrm{f} \\varepsilon_\\mathrm{cy} \\cdot \\bigg(A_\\mathrm{f} E_\\mathrm{f} \\varepsilon_\\mathrm{cy} + \\frac{2 m_1}{\\sqrt{E_\\mathrm{f}}}\\bigg)} + A_\\mathrm{f}~\\varepsilon_\\mathrm{cy}~\\sqrt{E_\\mathrm{f}} \\Bigg)\n",
    "\\end{align} -->\n",
    "\n",
    "Note: this formula is exact for $\\rho_\\mathrm{f} > \\rho_\\mathrm{fb}$, but for $\\rho_\\mathrm{f, cy} < \\rho_\\mathrm{f} < \\rho_\\mathrm{fb}$ it's a conservative approx. considering the whole concrete block which gives larger ce resulting in smaller M_u"
   ]
  },
  {
   "cell_type": "markdown",
   "metadata": {},
   "source": [
    "# Summary"
   ]
  },
  {
   "cell_type": "markdown",
   "metadata": {},
   "source": [
    "## Moment capacity\n",
    "\n",
    "Calculate $\\rho_\\mathrm{f,cy}$ as:\n",
    "\n",
    "$\n",
    "\\rho_\\mathrm{f,cy} = \\frac{E_{f} f_{cm_{cy}} \\varepsilon_{cy}}{2 f_{fu} \\left(E_{f} \\varepsilon_{cy} + f_{fu}\\right)}$\n",
    "\n",
    "The ultimate flexural moment is given:\n",
    "\n",
    "\\begin{equation*}\n",
    "  M_\\mathrm{u}=\n",
    "  \\begin{cases}\n",
    "      M_\\mathrm{u,cy},\n",
    "    & \\rho_\\mathrm{f} \\le \\rho_\\mathrm{f,cy}\\\\\n",
    "      M_\\mathrm{u,cu},\n",
    "    & \\rho_\\mathrm{f} > \\rho_\\mathrm{f,cy}.\n",
    "  \\end{cases}\n",
    "\\end{equation*}"
   ]
  },
  {
   "cell_type": "markdown",
   "metadata": {},
   "source": [
    "### $M_\\mathrm{u,cy}$\n",
    "\n",
    "$M_\\mathrm{u,cy} = \\frac{A_\\mathrm{f} d f_\\mathrm{fu} \\left(3 m_{1} + 2 m_{2}\\right)}{3 \\left(m_{1} + m_{2}\\right)}$\n",
    "\n",
    "with\n",
    "\n",
    "\\begin{align}\n",
    "m_1 & = \\sqrt{E_\\mathrm{f}} b d \\sigma_\\mathrm{cy}, \\\\\n",
    "m_2 & =  E_f \\Bigg( \\sqrt{A_\\mathrm{f} \\varepsilon_\\mathrm{cy} \\cdot \\bigg(A_\\mathrm{f} E_\\mathrm{f} \\varepsilon_\\mathrm{cy} + \\frac{2 m_1}{\\sqrt{E_\\mathrm{f}}}\\bigg)} + A_\\mathrm{f}~\\varepsilon_\\mathrm{cy}~\\sqrt{E_\\mathrm{f}} \\Bigg), \\\\\n",
    "\\sigma_\\mathrm{cy} & = 10^{-3} f_\\mathrm{cm} \\cdot (1437.6204 - 2.7858 f_\\mathrm{cm})\n",
    "\\end{align}\n",
    "\n",
    "and according to EC2\n",
    "\n",
    "$\\varepsilon_\\mathrm{cy} = 0.001 \\cdot \\min\\left(2.8,~0.7 f_\\mathrm{cm}^{0.31}\\right)$"
   ]
  },
  {
   "cell_type": "code",
   "execution_count": 66,
   "metadata": {
    "scrolled": true
   },
   "outputs": [
    {
     "data": {
      "text/latex": [
       "$\\displaystyle f_\\mathrm{cm} \\left(1.43762037986179 - 0.00278582241716739 f_\\mathrm{cm}\\right)$"
      ],
      "text/plain": [
       "f_\\mathrm{cm}*(1.43762037986179 - 0.00278582241716739*f_\\mathrm{cm})"
      ]
     },
     "execution_count": 66,
     "metadata": {},
     "output_type": "execute_result"
    }
   ],
   "source": [
    "f_cm * sig_cy_scale"
   ]
  },
  {
   "cell_type": "code",
   "execution_count": 67,
   "metadata": {},
   "outputs": [
    {
     "name": "stdout",
     "output_type": "stream",
     "text": [
      "1437.62037986179 - 2.78582241716739 f_\\mathrm{cm}\n"
     ]
    }
   ],
   "source": [
    "sp.print_latex(sig_cy_scale * 1000)"
   ]
  },
  {
   "cell_type": "markdown",
   "metadata": {},
   "source": [
    "### $M_\\mathrm{u,cu}$\n",
    "Note: this formula is exact for $\\rho_\\mathrm{f} > \\rho_\\mathrm{fb}$, but for $\\rho_\\mathrm{f, cy} < \\rho_\\mathrm{f} < \\rho_\\mathrm{fb}$ it's a conservative approx. considering the whole concrete block which gives larger $ce$ resulting in smaller M_u\n",
    "\n",
    "$M_\\mathrm{u,cu} = \\frac{A_\\mathrm{f} d \\sigma_\\mathrm{f} \n",
    "\\bigg(\n",
    "3 m_0 \\left(E_\\mathrm{f} \\varepsilon_\\mathrm{cu} + \\sigma_\\mathrm{f}\\right) \n",
    "~ - ~E_\\mathrm{f} \\big(\\Delta\\varepsilon^2 \\left(2 \\sigma_\\mathrm{cy} + \\sigma_\\mathrm{cu} \\right)\n",
    "~+~\\sigma_\\mathrm{cy} \\varepsilon_\\mathrm{cy} \\left(3 \\varepsilon_\\mathrm{cu} - 2 \\varepsilon_\\mathrm{cy}\\right)\\big)\\bigg)}\n",
    "{3 m_0 \\left(E_\\mathrm{f} \\varepsilon_\\mathrm{cu} + \\sigma_\\mathrm{f}\\right)}$\n",
    "\n",
    "with\n",
    "\n",
    "$\\Delta\\varepsilon = \\varepsilon_\\mathrm{cu} - \\varepsilon_\\mathrm{cy}$\n",
    "\n",
    "and\n",
    "\n",
    "$m_0 = \\Delta\\varepsilon \\sigma_\\mathrm{cu} + \\Delta\\varepsilon \\sigma_\\mathrm{cy} + \\sigma_\\mathrm{cy} \\varepsilon_\\mathrm{cy}$\n",
    "\n",
    "$\\sigma_\\mathrm{f} = \\min\\left(f_\\mathrm{fu},~0.5 \\bigg( \\sqrt{\\frac{E_\\mathrm{f} \\cdot \\big(E_\\mathrm{f} \\rho_\\mathrm{f} \\varepsilon_\\mathrm{cu}^2~+~2 \\sigma_\\mathrm{cu} \\Delta\\varepsilon~+~2 \\sigma_\\mathrm{cy} \\varepsilon_\\mathrm{cu} \\big)}\n",
    "{\\rho_\\mathrm{f}}}\n",
    "- E_{f} \\varepsilon_\\mathrm{cu}\\bigg) \\right)$\n",
    "\n",
    "$\\sigma_\\mathrm{cu} = 10^{-3} f_\\mathrm{cm} \\cdot (8.2275 f_\\mathrm{cm} + 95.5314)$\n",
    "\n",
    "and\n",
    "\n",
    "\\begin{equation*}\n",
    "  \\varepsilon_\\mathrm{cu}= 0.001 \\cdot\n",
    "  \\begin{cases}\n",
    "      3.5 ,\n",
    "    & f_\\mathrm{cm} \\le 58~\\mathrm{MPa} \\\\\n",
    "    2.8 + 27 \\cdot \\big(\\frac{98 - f_\\mathrm{cm}}{100}\\big)^4,\n",
    "    & 58~\\mathrm{MPa} < f_\\mathrm{cm} \\boldsymbol{\\le 98~\\mathrm{MPa}}\\\\\n",
    "    \\boldsymbol{2.8,}\n",
    "    & \\boldsymbol{f_\\mathrm{cm} > 98~\\mathrm{MPa}}.\n",
    "  \\end{cases}\n",
    "\\end{equation*}\n",
    "\n",
    "The bold marked text is an adaptation to EC2 formula."
   ]
  },
  {
   "cell_type": "code",
   "execution_count": 68,
   "metadata": {},
   "outputs": [
    {
     "data": {
      "text/latex": [
       "$\\displaystyle f_\\mathrm{cm} \\left(0.00822753426311965 f_\\mathrm{cm} + 0.0955313938528226\\right)$"
      ],
      "text/plain": [
       "f_\\mathrm{cm}*(0.00822753426311965*f_\\mathrm{cm} + 0.0955313938528226)"
      ]
     },
     "execution_count": 68,
     "metadata": {},
     "output_type": "execute_result"
    }
   ],
   "source": [
    "f_cm * sig_cu_scale"
   ]
  },
  {
   "cell_type": "code",
   "execution_count": 69,
   "metadata": {},
   "outputs": [
    {
     "name": "stdout",
     "output_type": "stream",
     "text": [
      "8.22753426311965 f_\\mathrm{cm} + 95.5313938528226\n"
     ]
    }
   ],
   "source": [
    "sp.print_latex(sig_cu_scale * 1000)"
   ]
  },
  {
   "cell_type": "code",
   "execution_count": 70,
   "metadata": {
    "scrolled": true
   },
   "outputs": [
    {
     "name": "stdout",
     "output_type": "stream",
     "text": [
      "\\frac{E_\\mathrm{f} \\left(\\sigma_\\mathrm{cu} \\varepsilon_\\mathrm{cu} - \\sigma_\\mathrm{cu} \\varepsilon_\\mathrm{cy} + \\sigma_\\mathrm{cy} \\varepsilon_\\mathrm{cu}\\right)}{2 f_\\mathrm{fu} \\left(E_\\mathrm{f} \\varepsilon_\\mathrm{cu} + f_\\mathrm{fu}\\right)}\n"
     ]
    }
   ],
   "source": [
    "sp.print_latex(rho_fb)"
   ]
  },
  {
   "cell_type": "markdown",
   "metadata": {},
   "source": [
    "## Balanced reinforcement ratio $\\rho_\\mathrm{fb}$\n",
    "\n",
    "$\\rho_\\mathrm{fb} = \\frac{E_\\mathrm{f} \\left(\\sigma_\\mathrm{cu} \\varepsilon_\\mathrm{cu}~-~\\sigma_\\mathrm{cu} \\varepsilon_\\mathrm{cy}~+~\\sigma_\\mathrm{cy} \\varepsilon_\\mathrm{cu}\\right)}{2 f_\\mathrm{fu} \\left(E_\\mathrm{f} \\varepsilon_\\mathrm{cu}~+~f_\\mathrm{fu}\\right)}\n",
    "$"
   ]
  },
  {
   "cell_type": "markdown",
   "metadata": {},
   "source": [
    "## Material utilization factors ($\\psi_\\mathrm{c}~and~\\psi_\\mathrm{f}$)\n",
    "\n",
    "\\begin{equation*}\n",
    "  \\psi_\\mathrm{c} =\n",
    "  \\begin{cases}\n",
    "\\psi_c = \\min\\left(\n",
    "1,~\n",
    "\\frac{f_\\mathrm{fu}}{f_\\mathrm{cm}} \\bigg(\\rho_\\mathrm{f} + \\sqrt{\\frac{\\rho_\\mathrm{f} \\left(\\rho_\\mathrm{f} E_\\mathrm{f} \\varepsilon_{cy}~+~2 \\sigma_\\mathrm{cy}\\right)}\n",
    "{E_\\mathrm{f} \\varepsilon_\\mathrm{cy}}} \\bigg)\\right)\n",
    ",\n",
    "    & \\rho_\\mathrm{f} < \\rho_\\mathrm{f,cy}\\\\\n",
    "      1,\n",
    "    & \\rho_\\mathrm{f} \\ge \\rho_\\mathrm{f,cy}.\n",
    "  \\end{cases}\n",
    "\\end{equation*}\n",
    "\n",
    "\n",
    "\\begin{equation*}\n",
    "  \\psi_\\mathrm{f} =\n",
    "  \\begin{cases}\n",
    "      \\frac{\\sigma_\\mathrm{f}}{f_\\mathrm{fu}},\n",
    "    & \\rho_\\mathrm{f} > \\rho_\\mathrm{fb}\\\\\n",
    "      1,\n",
    "    & \\rho_\\mathrm{f} \\le \\rho_\\mathrm{fb}.\n",
    "  \\end{cases}\n",
    "\\end{equation*}\n",
    "\n",
    "Notice that material utilization is optimal ($\\psi_c = 1, \\psi_f = 1$) for $\\rho_\\mathrm{f,cy} < \\rho_\\mathrm{f} < \\rho_\\mathrm{fb}$."
   ]
  },
  {
   "cell_type": "code",
   "execution_count": 71,
   "metadata": {},
   "outputs": [
    {
     "data": {
      "text/latex": [
       "$\\displaystyle \\frac{\\rho_\\mathrm{f} f_\\mathrm{fu}}{f_\\mathrm{cm}} + \\frac{\\sqrt{\\rho_\\mathrm{f}} f_\\mathrm{fu} \\sqrt{E_\\mathrm{f} \\rho_\\mathrm{f} \\varepsilon_\\mathrm{cy} + 2 \\sigma_\\mathrm{cy}}}{\\sqrt{E_\\mathrm{f}} \\sqrt{\\varepsilon_\\mathrm{cy}} f_\\mathrm{cm}}$"
      ],
      "text/plain": [
       "\\rho_\\mathrm{f}*f_\\mathrm{fu}/f_\\mathrm{cm} + sqrt(\\rho_\\mathrm{f})*f_\\mathrm{fu}*sqrt(E_\\mathrm{f}*\\rho_\\mathrm{f}*\\varepsilon_\\mathrm{cy} + 2*\\sigma_\\mathrm{cy})/(sqrt(E_\\mathrm{f})*sqrt(\\varepsilon_\\mathrm{cy})*f_\\mathrm{cm})"
      ]
     },
     "execution_count": 71,
     "metadata": {},
     "output_type": "execute_result"
    }
   ],
   "source": [
    "sp.simplify(psi_c.args[1].subs({A_f:rho_f * b * d}))"
   ]
  },
  {
   "cell_type": "code",
   "execution_count": null,
   "metadata": {},
   "outputs": [],
   "source": []
  }
 ],
 "metadata": {
  "kernelspec": {
   "display_name": "Python 3 (ipykernel)",
   "language": "python",
   "name": "python3"
  },
  "language_info": {
   "codemirror_mode": {
    "name": "ipython",
    "version": 3
   },
   "file_extension": ".py",
   "mimetype": "text/x-python",
   "name": "python",
   "nbconvert_exporter": "python",
   "pygments_lexer": "ipython3",
   "version": "3.9.12"
  },
  "toc": {
   "base_numbering": 1,
   "nav_menu": {},
   "number_sections": true,
   "sideBar": true,
   "skip_h1_title": false,
   "title_cell": "Table of Contents",
   "title_sidebar": "Contents",
   "toc_cell": false,
   "toc_position": {},
   "toc_section_display": true,
   "toc_window_display": false
  }
 },
 "nbformat": 4,
 "nbformat_minor": 4
}
