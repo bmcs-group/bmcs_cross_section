{
 "cells": [
  {
   "cell_type": "code",
   "metadata": {
    "ExecuteTime": {
     "end_time": "2024-05-19T22:22:59.945058Z",
     "start_time": "2024-05-19T22:22:59.942022Z"
    }
   },
   "source": [
    "#%matplotlib widget\n",
    "from bmcs_cross_section.api import MKappa, EC2, ACI440, AnaFRPBending, ReinfLayer\n",
    "import bmcs_utils.api as bu \n",
    "import sympy as sp\n",
    "import numpy as np\n",
    "import matplotlib.pyplot as plt\n",
    "\n",
    "bu.set_latex_mpl_format()\n",
    "plot_colors = bu.plot_colors"
   ],
   "outputs": [],
   "execution_count": 136
  },
  {
   "cell_type": "markdown",
   "metadata": {},
   "source": [
    "# Deriving the two-lines equations\n",
    "\n",
    "Using a linear regression on data based on the parabolic EC2 stress-strain law of concrete\n",
    "\n",
    "### Define variables:\n",
    "$\\sigma_{\\mathrm{c1}}$: Compressive stress in concrete at a specific point 1 \\\\\n",
    "$\\sigma_{\\mathrm{c2}}$: Compressive stress in concrete at a specific point 2 \\\\\n",
    "$\\sigma_{\\mathrm{c3}}$: Compressive stress in concrete at a specific point 3 \\\\\n",
    "$\\varepsilon_{\\mathrm{cu1}}$: Ultimate strain in concrete \\\\\n",
    "$b$: Width of the concrete section \\\\\n",
    "$d$: Effective depth of the concrete section \\\\\n",
    "$A_{\\mathrm{f}}$: Area of the fiber reinforcement \\\\\n",
    "$f_{\\mathrm{fu}}$: Ultimate strength of the fiber reinforcement \\\\\n",
    "$E_{\\mathrm{f}}$: Modulus of elasticity of the fiber reinforcement \\\\\n",
    "$\\rho_{\\mathrm{f}}$: Reinforcement ratio of the fiber reinforcement \\\\\n",
    "$\\sigma_{\\mathrm{f}}$: Stress in the fiber reinforcement \\\\\n",
    "$\\varepsilon_{\\mathrm{cy}}$: Yield strain of concrete \\\\\n",
    "$\\varepsilon_{\\mathrm{cu}}$: Ultimate strain of concrete \\\\\n",
    "$\\varepsilon$: Strain in the concrete \\\\\n",
    "$E_{\\mathrm{cc}}$: Modulus of elasticity of concrete \\\\\n",
    "$f_{\\mathrm{cm}}$: Compressive strength of concrete \\\\\n",
    "$\\varepsilon_{\\mathrm{1}}$: Strain at a specific point 1 \\\\"
   ]
  },
  {
   "cell_type": "code",
   "metadata": {
    "ExecuteTime": {
     "end_time": "2024-05-19T22:23:01.383783Z",
     "start_time": "2024-05-19T22:23:01.366237Z"
    }
   },
   "source": [
    "# EC2, eq. (3.14)\n",
    "# Define concrete stress and strain variables\n",
    "sig_c1, sig_c2, sig_c3, eps_cu1 = sp.symbols(r'\\sigma_{\\mathrm{c1}} \\sigma_{\\mathrm{c2}} \\sigma_{\\mathrm{c3}}, \\varepsilon_{\\mathrm{cu1}}', real=True, nonnegative=True)\n",
    "\n",
    "# Define geometric and material properties of reinforced concrete\n",
    "b, d = sp.symbols('b, d', real=True, nonnegative=True)  # Width and effective depth of the concrete section\n",
    "\n",
    "# Define the reinforcement properties\n",
    "A_f, f_fu, E_f, rho_f, sigma_f = sp.symbols(r'A_{\\mathrm{f}}, f_{\\mathrm{fu}}, E_{\\mathrm{f}}, \\rho_{\\mathrm{f}}, \\sigma_{\\mathrm{f}}', real=True, nonnegative=True)  # Area, ultimate strength, modulus of elasticity, density, and stress of reinforcement\n",
    "\n",
    "# Define concrete material properties\n",
    "eps_cy, eps_cu, eps, E_cc, f_cm, eps_1 = sp.symbols(r'\\varepsilon_{\\mathrm{cy}}, \\varepsilon_{\\mathrm{cu}}, \\varepsilon, E_{\\mathrm{cc}}, f_{\\mathrm{cm}}, \\varepsilon_{\\mathrm{1}}', real=True, nonnegative=True)\n",
    "\n",
    "# Define the constant k using the given formula\n",
    "# The factor 1.05 is a safety factor as per Eurocode 2\n",
    "k = 1.05 * E_cc * eps_cy / f_cm\n",
    "display(sp.Eq(sp.Symbol('k'), k))\n",
    "# Define eta as the ratio of eps and eps_cy\n",
    "# Eta represents the ratio of current strain to yield strain of concrete\n",
    "eta = eps / eps_cy\n",
    "display(sp.Eq(sp.Symbol(r'\\eta'), eta))\n",
    "\n",
    "# Define the stress-strain relationship for concrete (sig_c)\n",
    "# The equation represents the stress in concrete based on its strain\n",
    "sig_c = f_cm * (k * eta - eta**2) / (1 + eta * (k - 2))\n",
    "\n",
    "# Define the Piecewise function sig_c_eps_ for the stress-strain relationship\n",
    "# Piecewise function handles different strain scenarios as per Eurocode 2\n",
    "sig_c_eps_ = sp.Piecewise(\n",
    "    (0, eps > eps_cu),  # Stress is zero if strain exceeds ultimate strain, eps_cu\n",
    "    (sig_c, eps > 0),   # Calculate stress using for strain smaller than the yield strain\n",
    "    (0, True)           # Default case for all other values of strain\n",
    ")\n",
    "\n",
    "# Output the Piecewise function\n",
    "\n",
    "display(sp.Eq(sp.Symbol(r'\\sigma_c'), sig_c_eps_))"
   ],
   "outputs": [
    {
     "data": {
      "text/plain": [
       "Eq(k, 1.05*E_{\\mathrm{cc}}*\\varepsilon_{\\mathrm{cy}}/f_{\\mathrm{cm}})"
      ],
      "text/latex": "$\\displaystyle k = \\frac{1.05 E_{\\mathrm{cc}} \\varepsilon_{\\mathrm{cy}}}{f_{\\mathrm{cm}}}$"
     },
     "metadata": {},
     "output_type": "display_data"
    },
    {
     "data": {
      "text/plain": [
       "Eq(\\eta, \\varepsilon/\\varepsilon_{\\mathrm{cy}})"
      ],
      "text/latex": "$\\displaystyle \\eta = \\frac{\\varepsilon}{\\varepsilon_{\\mathrm{cy}}}$"
     },
     "metadata": {},
     "output_type": "display_data"
    },
    {
     "data": {
      "text/plain": [
       "Eq(\\sigma_c, Piecewise((0, \\varepsilon > \\varepsilon_{\\mathrm{cu}}), (f_{\\mathrm{cm}}*(1.05*E_{\\mathrm{cc}}*\\varepsilon/f_{\\mathrm{cm}} - \\varepsilon**2/\\varepsilon_{\\mathrm{cy}}**2)/(\\varepsilon*(1.05*E_{\\mathrm{cc}}*\\varepsilon_{\\mathrm{cy}}/f_{\\mathrm{cm}} - 2)/\\varepsilon_{\\mathrm{cy}} + 1), \\varepsilon > 0), (0, True)))"
      ],
      "text/latex": "$\\displaystyle \\sigma_{c} = \\begin{cases} 0 & \\text{for}\\: \\varepsilon > \\varepsilon_{\\mathrm{cu}} \\\\\\frac{f_{\\mathrm{cm}} \\left(\\frac{1.05 E_{\\mathrm{cc}} \\varepsilon}{f_{\\mathrm{cm}}} - \\frac{\\varepsilon^{2}}{\\varepsilon_{\\mathrm{cy}}^{2}}\\right)}{\\frac{\\varepsilon \\left(\\frac{1.05 E_{\\mathrm{cc}} \\varepsilon_{\\mathrm{cy}}}{f_{\\mathrm{cm}}} - 2\\right)}{\\varepsilon_{\\mathrm{cy}}} + 1} & \\text{for}\\: \\varepsilon > 0 \\\\0 & \\text{otherwise} \\end{cases}$"
     },
     "metadata": {},
     "output_type": "display_data"
    }
   ],
   "execution_count": 137
  },
  {
   "cell_type": "code",
   "metadata": {
    "ExecuteTime": {
     "end_time": "2024-05-19T22:23:01.413978Z",
     "start_time": "2024-05-19T22:23:01.412155Z"
    }
   },
   "source": [
    "# # Comparison to EC2, multi-linear concept\n",
    "\n",
    "# result2 = np.zeros((len(f_cms), 3))\n",
    "\n",
    "# for i, f_cm_ in enumerate(f_cms):\n",
    "#     sig_c_eps = sig_c_eps_.subs({E_cc:EC2.get_E_cm(f_cm_ - 8), eps_cy:eps_cy_, \n",
    "#                                 f_cm:EC2.get_f_cm(f_cm_ - 8), eps_cu:EC2.get_eps_cu1(f_cm_- 8)})\n",
    "#     get_sig = sp.lambdify(eps, sig_c_eps, 'numpy')\n",
    "#     eps_exact = np.linspace(0, eps_cy_, 300)\n",
    "#     sig_exact = get_sig(eps_exact)\n",
    "#     area_fine = np.trapz(y=sig_exact, x=eps_exact)\n",
    "    \n",
    "#     f_ck = f_cm_ - 8\n",
    "#     eps_c3 = EC2.get_eps_c3(f_ck)\n",
    "#     eps_cu3 = EC2.get_eps_cu3(f_ck)\n",
    "#     area = eps_c3 * f_cm_ / 2 + (eps_cu3 - eps_c3) * f_cm_\n",
    "    \n",
    "#     result2[i, 0] = f_cm_\n",
    "#     result2[i, 1] = area_fine\n",
    "#     result2[i, 2] = area\n",
    "# result2"
   ],
   "outputs": [],
   "execution_count": 138
  },
  {
   "cell_type": "code",
   "metadata": {
    "ExecuteTime": {
     "end_time": "2024-05-19T22:23:02.041107Z",
     "start_time": "2024-05-19T22:23:01.525604Z"
    }
   },
   "source": [
    "# f_cms = np.array([ 20.,  24.,  28.,  33.,  38.,  43.,  48.,  53.,  58.,  63.,  68., 78.,  88.,  98., 108.])\n",
    "# Define an array of concrete compressive strengths (f_cm) ranging from 20 to 108 MPa\n",
    "f_cms = np.linspace(20, 108, 108 - 20 + 1)\n",
    "\n",
    "# Initialize an array to store results for each f_cm\n",
    "result = np.zeros((len(f_cms), 3))\n",
    "\n",
    "# Define the upper limit for f_cm\n",
    "f_cm_limit = 98\n",
    "\n",
    "# Loop through each f_cm value\n",
    "for i, f_cm_ in enumerate(f_cms):\n",
    "    # Calculate yield strain (eps_cy) and ultimate strain (eps_cu) based on f_cm\n",
    "    eps_cy_ = EC2.get_eps_c1(f_cm_ - 8)\n",
    "    eps_cu_ = EC2.get_eps_cu1(f_cm_ - 8)\n",
    "\n",
    "    # Substitute concrete properties into the piecewise function to get stress-strain relationship (sig_c_eps)\n",
    "    sig_c_eps = sig_c_eps_.subs({E_cc:EC2.get_E_cm(f_ck=f_cm_ - 8), eps_cy:eps_cy_, \n",
    "                                f_cm:EC2.get_f_cm(f_ck=f_cm_ - 8), eps_cu:eps_cu_})\n",
    "    # Create a function to calculate concrete stress (sig_c) for a given strain (eps)\n",
    "    get_sig = sp.lambdify(eps, sig_c_eps, 'numpy')\n",
    "    \n",
    "    # Calculate area under the stress-strain curve up to concrete yield strain (eps_cy)\n",
    "    eps_exact_part_1 = np.linspace(0, eps_cy_, 300)\n",
    "    sig_exact_part_1 = get_sig(eps_exact_part_1) # get stress corresponding to the strain from zero to the concrete yield strain eps_cy\n",
    "    area_exact_part_1 = np.trapezoid(y=sig_exact_part_1, x=eps_exact_part_1) # integrate the  stress-strain curve from 0 to eps_cy\n",
    "    \n",
    "    # Calculate area under the stress-strain curve from concrete yield strain (eps_cy) to ultimate strain (eps_cu)\n",
    "    eps_exact_part_2 = np.linspace(eps_cy_, eps_cu_, 300)\n",
    "    sig_exact_part_2 = get_sig(eps_exact_part_2) # get stress corresponding to the strain from concrete yield strain eps_cy to the ultimate strain eps_cu\n",
    "    area_exact_part_2 = np.trapezoid(y=sig_exact_part_2, x=eps_exact_part_2)  # integrate the stress-strain curve from eps_cy to eps_cu\n",
    "    # Calculate stress at yield strain (sig_eps_c1_new) and scale it by f_cm (sig_eps_c1_scale)\n",
    "    sig_eps_c1_new = 2 * area_exact_part_1 / eps_cy_\n",
    "    sig_eps_c1_scale = sig_eps_c1_new / f_cm_\n",
    "    \n",
    "    # Calculate stress at ultimate strain (sig_eps_cu1_new) and scale it by f_cm (sig_eps_cu1_scale)\n",
    "    sig_eps_cu1_new = 2 * area_exact_part_2 / (eps_cu_ - eps_cy_) - sig_eps_c1_new\n",
    "    sig_eps_cu1_scale = sig_eps_c1_scale if f_cm_ >= f_cm_limit else sig_eps_cu1_new / f_cm_\n",
    "    \n",
    "    # Store results for this f_cm value\n",
    "    result[i] = [f_cm_, sig_eps_c1_scale, sig_eps_cu1_scale]\n",
    "# fcm5 | lambda,cy | lambda,cu\n",
    "result"
   ],
   "outputs": [
    {
     "name": "stderr",
     "output_type": "stream",
     "text": [
      "/var/folders/x5/_7rzy47d3212sjtcr_thts7r0000gn/T/ipykernel_70470/950091029.py:37: RuntimeWarning: invalid value encountered in scalar divide\n",
      "  sig_eps_cu1_new = 2 * area_exact_part_2 / (eps_cu_ - eps_cy_) - sig_eps_c1_new\n"
     ]
    },
    {
     "data": {
      "text/plain": [
       "array([[ 20.        ,   1.40553767,   0.25961634],\n",
       "       [ 21.        ,   1.39991292,   0.26927106],\n",
       "       [ 22.        ,   1.39449986,   0.27864123],\n",
       "       [ 23.        ,   1.38928082,   0.2877492 ],\n",
       "       [ 24.        ,   1.38424032,   0.2966147 ],\n",
       "       [ 25.        ,   1.37936465,   0.30525524],\n",
       "       [ 26.        ,   1.37464167,   0.31368645],\n",
       "       [ 27.        ,   1.37006055,   0.32192231],\n",
       "       [ 28.        ,   1.36561157,   0.32997541],\n",
       "       [ 29.        ,   1.36128601,   0.33785714],\n",
       "       [ 30.        ,   1.35707598,   0.34557778],\n",
       "       [ 31.        ,   1.35297435,   0.35314673],\n",
       "       [ 32.        ,   1.34897462,   0.36057252],\n",
       "       [ 33.        ,   1.34507086,   0.36786299],\n",
       "       [ 34.        ,   1.34125767,   0.37502531],\n",
       "       [ 35.        ,   1.33753008,   0.38206607],\n",
       "       [ 36.        ,   1.33388352,   0.38899138],\n",
       "       [ 37.        ,   1.33031378,   0.39580684],\n",
       "       [ 38.        ,   1.32681699,   0.40251767],\n",
       "       [ 39.        ,   1.32338954,   0.40912869],\n",
       "       [ 40.        ,   1.3200281 ,   0.41564439],\n",
       "       [ 41.        ,   1.31672956,   0.42206895],\n",
       "       [ 42.        ,   1.31349104,   0.42840628],\n",
       "       [ 43.        ,   1.31030984,   0.43466001],\n",
       "       [ 44.        ,   1.30718346,   0.44083354],\n",
       "       [ 45.        ,   1.30410953,   0.44693008],\n",
       "       [ 46.        ,   1.30108584,   0.45295261],\n",
       "       [ 47.        ,   1.29811033,   0.45890395],\n",
       "       [ 48.        ,   1.29518105,   0.46478674],\n",
       "       [ 49.        ,   1.29229616,   0.47060346],\n",
       "       [ 50.        ,   1.28945394,   0.47635648],\n",
       "       [ 51.        ,   1.28665276,   0.482048  ],\n",
       "       [ 52.        ,   1.28389108,   0.4876801 ],\n",
       "       [ 53.        ,   1.28116745,   0.49325478],\n",
       "       [ 54.        ,   1.27848048,   0.49877389],\n",
       "       [ 55.        ,   1.27582887,   0.50423921],\n",
       "       [ 56.        ,   1.27321137,   0.50965242],\n",
       "       [ 57.        ,   1.27062683,   0.5150151 ],\n",
       "       [ 58.        ,   1.2680741 ,   0.52032876],\n",
       "       [ 59.        ,   1.26555214,   0.55790297],\n",
       "       [ 60.        ,   1.26305992,   0.58725783],\n",
       "       [ 61.        ,   1.26059648,   0.61283805],\n",
       "       [ 62.        ,   1.25816089,   0.63233065],\n",
       "       [ 63.        ,   1.25575229,   0.65449792],\n",
       "       [ 64.        ,   1.25336981,   0.67137271],\n",
       "       [ 65.        ,   1.25101267,   0.6860688 ],\n",
       "       [ 66.        ,   1.24868009,   0.6988805 ],\n",
       "       [ 67.        ,   1.24637134,   0.71006677],\n",
       "       [ 68.        ,   1.2440857 ,   0.71985449],\n",
       "       [ 69.        ,   1.24182251,   0.72844172],\n",
       "       [ 70.        ,   1.2395811 ,   0.73600074],\n",
       "       [ 71.        ,   1.23736086,   0.73943941],\n",
       "       [ 72.        ,   1.2351612 ,   0.74861118],\n",
       "       [ 73.        ,   1.23298152,   0.75390278],\n",
       "       [ 74.        ,   1.23082128,   0.75865114],\n",
       "       [ 75.        ,   1.22867994,   0.76293796],\n",
       "       [ 76.        ,   1.22655699,   0.766833  ],\n",
       "       [ 77.        ,   1.22445193,   0.7703956 ],\n",
       "       [ 78.        ,   1.22236429,   0.77367609],\n",
       "       [ 79.        ,   1.22029361,   0.77671702],\n",
       "       [ 80.        ,   1.21823943,   0.77955424],\n",
       "       [ 81.        ,   1.21620134,   0.7822178 ],\n",
       "       [ 82.        ,   1.21417891,   0.78473284],\n",
       "       [ 83.        ,   1.21217174,   0.78712022],\n",
       "       [ 84.        ,   1.21017945,   0.78939721],\n",
       "       [ 85.        ,   1.20820166,   0.79157797],\n",
       "       [ 86.        ,   1.20623801,   0.79367404],\n",
       "       [ 87.        ,   1.20428814,   0.79569473],\n",
       "       [ 88.        ,   1.20161951,   0.79837898],\n",
       "       [ 89.        ,   1.19815505,   0.80184428],\n",
       "       [ 90.        ,   1.19470078,   0.80529895],\n",
       "       [ 91.        ,   1.19125605,   0.80874386],\n",
       "       [ 92.        ,   1.1878202 ,   0.81217977],\n",
       "       [ 93.        ,   1.18439257,   0.81560742],\n",
       "       [ 94.        ,   1.18097252,   0.81902747],\n",
       "       [ 95.        ,   1.17755941,   0.82244059],\n",
       "       [ 96.        ,   1.17415257,   0.82584743],\n",
       "       [ 97.        ,   1.17075137,   0.82924863],\n",
       "       [ 98.        ,   1.16735515,   1.16735515],\n",
       "       [ 99.        ,   1.16396326,   1.16396326],\n",
       "       [100.        ,   1.16057506,   1.16057506],\n",
       "       [101.        ,   1.15718987,   1.15718987],\n",
       "       [102.        ,   1.15380704,   1.15380704],\n",
       "       [103.        ,   1.15042588,   1.15042588],\n",
       "       [104.        ,   1.14704572,   1.14704572],\n",
       "       [105.        ,   1.14366588,   1.14366588],\n",
       "       [106.        ,   1.14028563,   1.14028563],\n",
       "       [107.        ,   1.13690428,   1.13690428],\n",
       "       [108.        ,   1.13352108,   1.13352108]])"
      ]
     },
     "execution_count": 139,
     "metadata": {},
     "output_type": "execute_result"
    }
   ],
   "execution_count": 139
  },
  {
   "cell_type": "code",
   "metadata": {
    "ExecuteTime": {
     "end_time": "2024-05-19T22:23:02.113807Z",
     "start_time": "2024-05-19T22:23:02.042014Z"
    }
   },
   "source": [
    "fig1, ax1 = plt.subplots()\n",
    "ax1.plot(result[:, 0], result[:, 1])\n",
    "ax1.plot(result[:, 0], result[:, 2])"
   ],
   "outputs": [
    {
     "data": {
      "text/plain": [
       "[<matplotlib.lines.Line2D at 0x13f096120>]"
      ]
     },
     "execution_count": 140,
     "metadata": {},
     "output_type": "execute_result"
    },
    {
     "data": {
      "text/plain": [
       "<Figure size 640x480 with 1 Axes>"
      ],
      "image/png": "[encoded data removed]"
     },
     "metadata": {},
     "output_type": "display_data"
    }
   ],
   "execution_count": 140
  },
  {
   "cell_type": "code",
   "metadata": {
    "ExecuteTime": {
     "end_time": "2024-05-19T22:23:02.128493Z",
     "start_time": "2024-05-19T22:23:02.114498Z"
    }
   },
   "source": [
    "# Linear regression using numpy\n",
    "\n",
    "##  Yield \n",
    "# Perform linear regression to fit a straight line to the data\n",
    "# for scaled stress at yield strain (sig_cy_scale)\n",
    "m1, p1 = np.polyfit(result[:, 0], result[:, 1], 1)\n",
    "\n",
    "# Calculate the scaled stress at yield strain (sig_cy_scale) using the linear regression equation\n",
    "# for the given compressive strength (f_cm)\n",
    "sig_cy_scale = m1 * f_cm + p1\n",
    "\n",
    "## Ultimate \n",
    "# Exclude compressive strengths (f_cm) greater than or equal to f_cm_limit from curve fitting\n",
    "f_cms_less_than_limit = result[:, 0][result[:, 0] < f_cm_limit]\n",
    "sig_eps_cu1_scale_for_f_cms_less_than_limit = result[:, 2][result[:, 0] < f_cm_limit]\n",
    "\n",
    "# Perform linear regression to fit a straight line to the data\n",
    "# for scaled stress at ultimate strain (sig_cu_scale)\n",
    "m2, p2 = np.polyfit(f_cms_less_than_limit, sig_eps_cu1_scale_for_f_cms_less_than_limit, 1)\n",
    "\n",
    "# Calculate the scaled stress at ultimate strain (sig_cu_scale) using the linear regression equation\n",
    "# for the given compressive strength (f_cm)\n",
    "sig_cu_scale = m2 * f_cm + p2\n",
    "\n",
    "# Output the calculated scaled stresses at yield and ultimate strains\n",
    "\n",
    "display(sp.Eq(sp.Symbol(r'\\sigma_{cy}'), sig_cy_scale))\n",
    "display(sp.Eq(sp.Symbol(r'\\sigma_{cu}'), sig_cu_scale))"
   ],
   "outputs": [
    {
     "data": {
      "text/plain": [
       "Eq(\\sigma_{cy}, 1.43762037986179 - 0.00278582241716738*f_{\\mathrm{cm}})"
      ],
      "text/latex": "$\\displaystyle \\sigma_{cy} = 1.43762037986179 - 0.00278582241716738 f_{\\mathrm{cm}}$"
     },
     "metadata": {},
     "output_type": "display_data"
    },
    {
     "data": {
      "text/plain": [
       "Eq(\\sigma_{cu}, 0.00822753426311965*f_{\\mathrm{cm}} + 0.0955313938528226)"
      ],
      "text/latex": "$\\displaystyle \\sigma_{cu} = 0.00822753426311965 f_{\\mathrm{cm}} + 0.0955313938528226$"
     },
     "metadata": {},
     "output_type": "display_data"
    }
   ],
   "execution_count": 141
  },
  {
   "cell_type": "code",
   "metadata": {
    "ExecuteTime": {
     "end_time": "2024-05-19T22:23:02.132496Z",
     "start_time": "2024-05-19T22:23:02.129756Z"
    }
   },
   "source": [
    "# Evaluate the fitted curves\n",
    "\n",
    "get_sig_cy_scale = sp.lambdify(f_cm, sig_cy_scale, 'numpy')\n",
    "get_sig_cu_scale = sp.lambdify(f_cm, sig_cu_scale, 'numpy')\n"
   ],
   "outputs": [],
   "execution_count": 142
  },
  {
   "cell_type": "code",
   "metadata": {
    "ExecuteTime": {
     "end_time": "2024-05-19T22:23:02.364329Z",
     "start_time": "2024-05-19T22:23:02.133115Z"
    }
   },
   "source": [
    "fig1, ax1 = plt.subplots()\n",
    "ax1.set_xlabel('$f_\\mathrm{cm}$ [MPa]')\n",
    "ax1.set_ylabel('$\\lambda_\\mathrm{cy},\\;\\lambda_\\mathrm{cu}$ [-]')\n",
    "\n",
    "# ax1.plot(result[:, 0], result[:, 1], '--', label='$\\lambda_\\mathrm{cy}$ exact', color=plot_colors[0])\n",
    "ax1.plot(result[:, 0], result[:, 1], 'o', markersize=3, label='$\\lambda_\\mathrm{cy}$ exact', color=plot_colors[0])\n",
    "ax1.plot(result[:, 0], get_sig_cy_scale(result[:, 0]), label='$\\lambda_\\mathrm{cy}$ fitted', color=plot_colors[0])\n",
    "\n",
    "# ax1.plot(result[:, 0], result[:, 2], '--', label='$\\lambda_\\mathrm{cu}$ exact', color=plot_colors[1])\n",
    "ax1.plot(result[:, 0], result[:, 2], 'o', markersize=3, label='$\\lambda_\\mathrm{cu}$ exact', color=plot_colors[1])\n",
    "ax1.plot(result[:, 0], get_sig_cu_scale(result[:, 0]), label='$\\lambda_\\mathrm{cu}$ fitted', color=plot_colors[1])\n",
    "\n",
    "ax1.legend()\n",
    "fig1.show()"
   ],
   "outputs": [
    {
     "name": "stderr",
     "output_type": "stream",
     "text": [
      "<>:2: SyntaxWarning: invalid escape sequence '\\m'\n",
      "<>:3: SyntaxWarning: invalid escape sequence '\\l'\n",
      "<>:6: SyntaxWarning: invalid escape sequence '\\l'\n",
      "<>:7: SyntaxWarning: invalid escape sequence '\\l'\n",
      "<>:10: SyntaxWarning: invalid escape sequence '\\l'\n",
      "<>:11: SyntaxWarning: invalid escape sequence '\\l'\n",
      "<>:2: SyntaxWarning: invalid escape sequence '\\m'\n",
      "<>:3: SyntaxWarning: invalid escape sequence '\\l'\n",
      "<>:6: SyntaxWarning: invalid escape sequence '\\l'\n",
      "<>:7: SyntaxWarning: invalid escape sequence '\\l'\n",
      "<>:10: SyntaxWarning: invalid escape sequence '\\l'\n",
      "<>:11: SyntaxWarning: invalid escape sequence '\\l'\n",
      "/var/folders/x5/_7rzy47d3212sjtcr_thts7r0000gn/T/ipykernel_70470/1957119523.py:2: SyntaxWarning: invalid escape sequence '\\m'\n",
      "  ax1.set_xlabel('$f_\\mathrm{cm}$ [MPa]')\n",
      "/var/folders/x5/_7rzy47d3212sjtcr_thts7r0000gn/T/ipykernel_70470/1957119523.py:3: SyntaxWarning: invalid escape sequence '\\l'\n",
      "  ax1.set_ylabel('$\\lambda_\\mathrm{cy},\\;\\lambda_\\mathrm{cu}$ [-]')\n",
      "/var/folders/x5/_7rzy47d3212sjtcr_thts7r0000gn/T/ipykernel_70470/1957119523.py:6: SyntaxWarning: invalid escape sequence '\\l'\n",
      "  ax1.plot(result[:, 0], result[:, 1], 'o', markersize=3, label='$\\lambda_\\mathrm{cy}$ exact', color=plot_colors[0])\n",
      "/var/folders/x5/_7rzy47d3212sjtcr_thts7r0000gn/T/ipykernel_70470/1957119523.py:7: SyntaxWarning: invalid escape sequence '\\l'\n",
      "  ax1.plot(result[:, 0], get_sig_cy_scale(result[:, 0]), label='$\\lambda_\\mathrm{cy}$ fitted', color=plot_colors[0])\n",
      "/var/folders/x5/_7rzy47d3212sjtcr_thts7r0000gn/T/ipykernel_70470/1957119523.py:10: SyntaxWarning: invalid escape sequence '\\l'\n",
      "  ax1.plot(result[:, 0], result[:, 2], 'o', markersize=3, label='$\\lambda_\\mathrm{cu}$ exact', color=plot_colors[1])\n",
      "/var/folders/x5/_7rzy47d3212sjtcr_thts7r0000gn/T/ipykernel_70470/1957119523.py:11: SyntaxWarning: invalid escape sequence '\\l'\n",
      "  ax1.plot(result[:, 0], get_sig_cu_scale(result[:, 0]), label='$\\lambda_\\mathrm{cu}$ fitted', color=plot_colors[1])\n",
      "/var/folders/x5/_7rzy47d3212sjtcr_thts7r0000gn/T/ipykernel_70470/1957119523.py:14: UserWarning: FigureCanvasAgg is non-interactive, and thus cannot be shown\n",
      "  fig1.show()\n"
     ]
    },
    {
     "data": {
      "text/plain": [
       "<Figure size 640x480 with 1 Axes>"
      ],
      "image/png": "[encoded data removed]"
     },
     "metadata": {},
     "output_type": "display_data"
    }
   ],
   "execution_count": 143
  },
  {
   "cell_type": "code",
   "metadata": {},
   "source": [
    "# fig1.savefig('f_cm_vs_sigma_cy_scale_sigma_cu_scale.pdf')"
   ],
   "outputs": [],
   "execution_count": 144
  },
  {
   "cell_type": "code",
   "metadata": {
    "ExecuteTime": {
     "end_time": "2024-05-19T22:23:02.522361Z",
     "start_time": "2024-05-19T22:23:02.369292Z"
    }
   },
   "source": [
    "# Just for checking...\n",
    "\n",
    "# EC2.get_eps_c1(f_cm) calculates the concrete strain for the yield compressive strength\n",
    "# EC2.get_eps_cu1(f_cm) calculates the ultimate concrete strain\n",
    "# EC2.get_E_cm(f_ck) calculates the modulus of elasticity of concrete\n",
    "# Here, f_cm_ is a predefined concrete compressive strength value\n",
    "\n",
    "# Creating a plot\n",
    "fig, ax = plt.subplots()\n",
    "\n",
    "# Looping over predefined concrete compressive strength values\n",
    "for f_cm_ in [60]: # f_cms:\n",
    "\n",
    "    # Obtaining concrete strains at yield and ultimate strengths\n",
    "    eps_cy_ = EC2.get_eps_c1(f_cm_ - 8)\n",
    "    eps_cu_ = EC2.get_eps_cu1(f_cm_ - 8)\n",
    "    \n",
    "    # Defining a symbolic expression for concrete stress\n",
    "    sig_c_eps = sig_c_eps_.subs({E_cc:EC2.get_E_cm(f_ck=f_cm_ - 8), eps_cy:eps_cy_, \n",
    "                                f_cm:f_cm_, eps_cu:eps_cu_})\n",
    "    \n",
    "    # Converting the symbolic expression to a numerical function\n",
    "    get_sig = sp.lambdify(eps, sig_c_eps, 'numpy')\n",
    "    \n",
    "    # Generating a range of concrete strains\n",
    "    eps_exact = np.linspace(0, eps_cu_, 300)\n",
    "    \n",
    "    # Calculating corresponding concrete stresses using the numerical function\n",
    "    sig_exact = get_sig(eps_exact)\n",
    "    \n",
    "    # Scaling factors for concrete stress\n",
    "    sigma_cm_cy_scale = result[np.argwhere(result[:, 0] == f_cm_)[0]][0][1]\n",
    "    sigma_cm_cu_scale = result[np.argwhere(result[:, 0] == f_cm_)[0]][0][2]\n",
    "    \n",
    "    # Coarse approximation of concrete stress-strain curve\n",
    "    eps_coarse = np.array([0., eps_cy_, eps_cu_])\n",
    "    sig_coarse = np.array([0., f_cm_ * sigma_cm_cy_scale, f_cm_ * sigma_cm_cu_scale])\n",
    "    \n",
    "    # Calculating areas under the curves\n",
    "    area_approx = np.trapezoid(y=sig_coarse, x=eps_coarse) # integration over the TTC functions\n",
    "    area_exact = np.trapezoid(y=sig_exact, x=eps_exact) # integration over the nonlinear concrete stress-strain curve from EC2\n",
    "    area_diff_percent = (area_exact - area_approx) * 100 / area_exact\n",
    "    \n",
    "    # Printing area differences\n",
    "    print('area_approx =', area_approx)\n",
    "    print('area_exact =', area_exact)\n",
    "    print('area_diff [%] =', area_diff_percent)\n",
    "    \n",
    "    # Plotting concrete stress-strain curves\n",
    "    ax.fill_between(eps_coarse, sig_coarse, color='orange', alpha=0.1)\n",
    "    ax.fill_between(eps_exact, sig_exact, color='blue', alpha=0.1)\n",
    "    ax.set_xlabel('Concrete strain')\n",
    "    ax.set_ylabel('Concrete stress')\n",
    "    ax.plot(eps_exact, sig_exact)\n",
    "    ax.plot(eps_coarse, sig_coarse)\n",
    "    \n",
    "    # Plotting example lines and annotations\n",
    "    eps_sig_coarse_equals_f_cm = np.interp(f_cm_, sig_coarse[:-1], eps_coarse[:-1])\n",
    "    eps_coarse_psi = np.array([0, eps_sig_coarse_equals_f_cm, eps_cu_])\n",
    "    sig_coarse_psi = np.array([0, f_cm_, f_cm_])\n",
    "    eps_example = 0.001\n",
    "    sig_example = np.interp(eps_example, eps_coarse, sig_coarse)\n",
    "    \n",
    "    ax.plot(eps_coarse_psi, sig_coarse_psi, label='$\\psi_c$ assumption, $\\psi_c = red/black$')\n",
    "    ax.plot([eps_example, eps_example], [0, sig_example])\n",
    "    ax.plot([eps_cy_, eps_cy_], [0, f_cm_], c='black')\n",
    "    ax.legend()\n",
    "\n",
    "# Displaying the plot\n",
    "fig.show()\n"
   ],
   "outputs": [
    {
     "name": "stderr",
     "output_type": "stream",
     "text": [
      "<>:64: SyntaxWarning: invalid escape sequence '\\p'\n",
      "<>:64: SyntaxWarning: invalid escape sequence '\\p'\n",
      "/var/folders/x5/_7rzy47d3212sjtcr_thts7r0000gn/T/ipykernel_70470/2442836698.py:64: SyntaxWarning: invalid escape sequence '\\p'\n",
      "  ax.plot(eps_coarse_psi, sig_coarse_psi, label='$\\psi_c$ assumption, $\\psi_c = red/black$')\n",
      "/var/folders/x5/_7rzy47d3212sjtcr_thts7r0000gn/T/ipykernel_70470/2442836698.py:70: UserWarning: FigureCanvasAgg is non-interactive, and thus cannot be shown\n",
      "  fig.show()\n"
     ]
    },
    {
     "name": "stdout",
     "output_type": "stream",
     "text": [
      "area_approx = 0.14279697384496404\n",
      "area_exact = 0.1427964249293711\n",
      "area_diff [%] = -0.0003844042966729845\n"
     ]
    },
    {
     "data": {
      "text/plain": [
       "<Figure size 640x480 with 1 Axes>"
      ],
      "image/png": "[encoded data removed]"
     },
     "metadata": {},
     "output_type": "display_data"
    }
   ],
   "execution_count": 145
  },
  {
   "cell_type": "code",
   "metadata": {
    "ExecuteTime": {
     "end_time": "2024-05-19T22:23:02.524985Z",
     "start_time": "2024-05-19T22:23:02.523125Z"
    }
   },
   "source": [
    "# fig.savefig('stress_strain_concrete_curve_with_linear_approx.pdf')"
   ],
   "outputs": [],
   "execution_count": 146
  },
  {
   "cell_type": "markdown",
   "metadata": {},
   "source": [
    "# Deriving $M_u, \\rho_\\mathrm{fb}, \\psi_c, \\psi_f$ equations for the 2-lines-based material law"
   ]
  },
  {
   "cell_type": "code",
   "metadata": {
    "ExecuteTime": {
     "end_time": "2024-05-19T22:23:02.563888Z",
     "start_time": "2024-05-19T22:23:02.525661Z"
    }
   },
   "source": [
    "substitute_eps_cy = False  # Flag indicating whether to substitute eps_cy and eps_cu values\n",
    "substitute_scaled_stress = False  # Flag indicating whether to substitute scaled stress values\n",
    "\n",
    "# Substituting eps_cy and eps_cu values if the flag is True\n",
    "if substitute_eps_cy:\n",
    "    # Calculating eps_cy and eps_cu based on given expressions\n",
    "    eps_cy = 0.001 * sp.Min(0.7 * f_cm ** 0.31, 2.8)  # Compressive strain at yield\n",
    "    eps_cu = 0.001 * sp.Piecewise(\n",
    "        (3.5, f_cm <= 58),  # Concrete compressive strength <= 58 MPa\n",
    "        (2.8 + 27 * ((98 - f_cm) / 100) ** 4, True)  # Concrete compressive strength > 58 MPa\n",
    "    )\n",
    "    \n",
    "# Not substituting scaled stress as it may not significantly improve the formulas\n",
    "if substitute_scaled_stress:\n",
    "    sig_cy_scaled = f_cm * sig_cy_scale  # Scaled compressive strength at yield\n",
    "    sig_cu_scaled = f_cm * sig_cu_scale  # Scaled compressive strength at failure\n",
    "else:\n",
    "    sig_cy_scaled, sig_cu_scaled = sp.symbols(r'\\sigma_\\mathrm{cy}, \\sigma_\\mathrm{cu}')  # Symbolic representations for scaled stresses\n",
    "\n",
    "# Defining two pairs of coordinates to build a linear function representing the TTC material law\n",
    "sig_line = sp.Line(sp.Point(0, 0), sp.Point(eps_cy, sig_cy_scaled))  # Line segment for initial linear relationship\n",
    "sig_line2 = sp.Line(sp.Point(eps_cy, sig_cy_scaled), sp.Point(eps_cu, sig_cu_scaled))  # Line segment for descending branch\n",
    "\n",
    "# Solving equations of lines for concrete stress\n",
    "sig_eq_1 = sig_line.equation(x=eps, y=sig_c1)  # Equation for the initial linear segment\n",
    "sig_eq1 = sp.solve(sig_eq_1, sig_c1)[0]  # Solving for the concrete stress\n",
    "\n",
    "sig_eq_2 = sig_line2.equation(x=eps, y=sig_c2)  # Equation for the descending branch\n",
    "sig_eq2 = sp.solve(sig_eq_2, sig_c2)[0]  # Solving for the concrete stress\n",
    "\n",
    "display(sp.Eq(sig_c1, sig_eq1))\n",
    "display(sp.Eq(sig_c2, sig_eq2))"
   ],
   "outputs": [
    {
     "data": {
      "text/plain": [
       "Eq(\\sigma_{\\mathrm{c1}}, \\sigma_\\mathrm{cy}*\\varepsilon/\\varepsilon_{\\mathrm{cy}})"
      ],
      "text/latex": "$\\displaystyle \\sigma_{\\mathrm{c1}} = \\frac{\\sigma_\\mathrm{cy} \\varepsilon}{\\varepsilon_{\\mathrm{cy}}}$"
     },
     "metadata": {},
     "output_type": "display_data"
    },
    {
     "data": {
      "text/plain": [
       "Eq(\\sigma_{\\mathrm{c2}}, (\\sigma_\\mathrm{cu}*\\varepsilon - \\sigma_\\mathrm{cu}*\\varepsilon_{\\mathrm{cy}} - \\sigma_\\mathrm{cy}*\\varepsilon + \\sigma_\\mathrm{cy}*\\varepsilon_{\\mathrm{cu}})/(\\varepsilon_{\\mathrm{cu}} - \\varepsilon_{\\mathrm{cy}}))"
      ],
      "text/latex": "$\\displaystyle \\sigma_{\\mathrm{c2}} = \\frac{\\sigma_\\mathrm{cu} \\varepsilon - \\sigma_\\mathrm{cu} \\varepsilon_{\\mathrm{cy}} - \\sigma_\\mathrm{cy} \\varepsilon + \\sigma_\\mathrm{cy} \\varepsilon_{\\mathrm{cu}}}{\\varepsilon_{\\mathrm{cu}} - \\varepsilon_{\\mathrm{cy}}}$"
     },
     "metadata": {},
     "output_type": "display_data"
    }
   ],
   "execution_count": 147
  },
  {
   "cell_type": "code",
   "metadata": {
    "ExecuteTime": {
     "end_time": "2024-05-19T22:23:02.570474Z",
     "start_time": "2024-05-19T22:23:02.565896Z"
    }
   },
   "source": [
    "# sig_eq represents the piecewise function for concrete stress-strain relationship  \n",
    "# Below, sig_eq1 is used when the strain is less than or equal to the yield strain of concrete (eps_cy), \n",
    "# and sig_eq2 is used for strains above the yield strain.\n",
    "sig_eq = sp.Piecewise(\n",
    "        (sig_eq1, eps <= eps_cy),  # For strains less than or equal to the yield strain\n",
    "        (sig_eq2, True) # For strains greater than the yield strain\n",
    ")\n",
    "\n",
    "display(sp.Eq(sp.Symbol(r'\\sigma_{c}'), sig_eq))"
   ],
   "outputs": [
    {
     "data": {
      "text/plain": [
       "Eq(\\sigma_{c}, Piecewise((\\sigma_\\mathrm{cy}*\\varepsilon/\\varepsilon_{\\mathrm{cy}}, \\varepsilon <= \\varepsilon_{\\mathrm{cy}}), ((\\sigma_\\mathrm{cu}*\\varepsilon - \\sigma_\\mathrm{cu}*\\varepsilon_{\\mathrm{cy}} - \\sigma_\\mathrm{cy}*\\varepsilon + \\sigma_\\mathrm{cy}*\\varepsilon_{\\mathrm{cu}})/(\\varepsilon_{\\mathrm{cu}} - \\varepsilon_{\\mathrm{cy}}), True)))"
      ],
      "text/latex": "$\\displaystyle \\sigma_{c} = \\begin{cases} \\frac{\\sigma_\\mathrm{cy} \\varepsilon}{\\varepsilon_{\\mathrm{cy}}} & \\text{for}\\: \\varepsilon \\leq \\varepsilon_{\\mathrm{cy}} \\\\\\frac{\\sigma_\\mathrm{cu} \\varepsilon - \\sigma_\\mathrm{cu} \\varepsilon_{\\mathrm{cy}} - \\sigma_\\mathrm{cy} \\varepsilon + \\sigma_\\mathrm{cy} \\varepsilon_{\\mathrm{cu}}}{\\varepsilon_{\\mathrm{cu}} - \\varepsilon_{\\mathrm{cy}}} & \\text{otherwise} \\end{cases}$"
     },
     "metadata": {},
     "output_type": "display_data"
    }
   ],
   "execution_count": 148
  },
  {
   "cell_type": "code",
   "metadata": {
    "ExecuteTime": {
     "end_time": "2024-05-19T22:23:02.613984Z",
     "start_time": "2024-05-19T22:23:02.571376Z"
    }
   },
   "source": [
    "# Display the piecewise TTC equation for the concrete stress (sigma_c)\n",
    "sig_eq_area = sp.integrate(sp.simplify(sig_eq), eps)\n",
    "\n",
    "# Integrate the piecewise stress-strain function to find the area under the curve (W_TTC)\n",
    "\n",
    "# Energy approach (W_TTC)\n",
    "display(sp.Eq(sp.Symbol(r'W_{TTC}'), sig_eq_area))"
   ],
   "outputs": [
    {
     "data": {
      "text/plain": [
       "Eq(W_{TTC}, Piecewise((\\sigma_\\mathrm{cy}*\\varepsilon**2/(2*\\varepsilon_{\\mathrm{cy}}), \\varepsilon <= \\varepsilon_{\\mathrm{cy}}), (\\sigma_\\mathrm{cy}*\\varepsilon_{\\mathrm{cy}}/2 + \\varepsilon**2*(\\sigma_\\mathrm{cu} - \\sigma_\\mathrm{cy})/(2*\\varepsilon_{\\mathrm{cu}} - 2*\\varepsilon_{\\mathrm{cy}}) + \\varepsilon*(-\\sigma_\\mathrm{cu}*\\varepsilon_{\\mathrm{cy}} + \\sigma_\\mathrm{cy}*\\varepsilon_{\\mathrm{cu}})/(\\varepsilon_{\\mathrm{cu}} - \\varepsilon_{\\mathrm{cy}}) - \\varepsilon_{\\mathrm{cy}}**2*(\\sigma_\\mathrm{cu} - \\sigma_\\mathrm{cy})/(2*\\varepsilon_{\\mathrm{cu}} - 2*\\varepsilon_{\\mathrm{cy}}) - \\varepsilon_{\\mathrm{cy}}*(-\\sigma_\\mathrm{cu}*\\varepsilon_{\\mathrm{cy}} + \\sigma_\\mathrm{cy}*\\varepsilon_{\\mathrm{cu}})/(\\varepsilon_{\\mathrm{cu}} - \\varepsilon_{\\mathrm{cy}}), True)))"
      ],
      "text/latex": "$\\displaystyle W_{TTC} = \\begin{cases} \\frac{\\sigma_\\mathrm{cy} \\varepsilon^{2}}{2 \\varepsilon_{\\mathrm{cy}}} & \\text{for}\\: \\varepsilon \\leq \\varepsilon_{\\mathrm{cy}} \\\\\\frac{\\sigma_\\mathrm{cy} \\varepsilon_{\\mathrm{cy}}}{2} + \\frac{\\varepsilon^{2} \\left(\\sigma_\\mathrm{cu} - \\sigma_\\mathrm{cy}\\right)}{2 \\varepsilon_{\\mathrm{cu}} - 2 \\varepsilon_{\\mathrm{cy}}} + \\frac{\\varepsilon \\left(- \\sigma_\\mathrm{cu} \\varepsilon_{\\mathrm{cy}} + \\sigma_\\mathrm{cy} \\varepsilon_{\\mathrm{cu}}\\right)}{\\varepsilon_{\\mathrm{cu}} - \\varepsilon_{\\mathrm{cy}}} - \\frac{\\varepsilon_{\\mathrm{cy}}^{2} \\left(\\sigma_\\mathrm{cu} - \\sigma_\\mathrm{cy}\\right)}{2 \\varepsilon_{\\mathrm{cu}} - 2 \\varepsilon_{\\mathrm{cy}}} - \\frac{\\varepsilon_{\\mathrm{cy}} \\left(- \\sigma_\\mathrm{cu} \\varepsilon_{\\mathrm{cy}} + \\sigma_\\mathrm{cy} \\varepsilon_{\\mathrm{cu}}\\right)}{\\varepsilon_{\\mathrm{cu}} - \\varepsilon_{\\mathrm{cy}}} & \\text{otherwise} \\end{cases}$"
     },
     "metadata": {},
     "output_type": "display_data"
    }
   ],
   "execution_count": 149
  },
  {
   "cell_type": "code",
   "metadata": {
    "ExecuteTime": {
     "end_time": "2024-05-19T22:23:02.616754Z",
     "start_time": "2024-05-19T22:23:02.614887Z"
    }
   },
   "source": [
    "# sp.simplify(sig_eq_area).subs({eps_cu - eps_cy: d_eps})"
   ],
   "outputs": [],
   "execution_count": 150
  },
  {
   "cell_type": "code",
   "metadata": {
    "ExecuteTime": {
     "end_time": "2024-05-19T22:23:02.622585Z",
     "start_time": "2024-05-19T22:23:02.617584Z"
    }
   },
   "source": [
    "area_up_to_eps_part_1 = sig_eq_area.args[0][0]\n",
    "area_up_to_eps_part_2 = sig_eq_area.args[1][0]\n",
    "display(area_up_to_eps_part_1)\n",
    "display(area_up_to_eps_part_2)"
   ],
   "outputs": [
    {
     "data": {
      "text/plain": [
       "\\sigma_\\mathrm{cy}*\\varepsilon**2/(2*\\varepsilon_{\\mathrm{cy}})"
      ],
      "text/latex": "$\\displaystyle \\frac{\\sigma_\\mathrm{cy} \\varepsilon^{2}}{2 \\varepsilon_{\\mathrm{cy}}}$"
     },
     "metadata": {},
     "output_type": "display_data"
    },
    {
     "data": {
      "text/plain": [
       "\\sigma_\\mathrm{cy}*\\varepsilon_{\\mathrm{cy}}/2 + \\varepsilon**2*(\\sigma_\\mathrm{cu} - \\sigma_\\mathrm{cy})/(2*\\varepsilon_{\\mathrm{cu}} - 2*\\varepsilon_{\\mathrm{cy}}) + \\varepsilon*(-\\sigma_\\mathrm{cu}*\\varepsilon_{\\mathrm{cy}} + \\sigma_\\mathrm{cy}*\\varepsilon_{\\mathrm{cu}})/(\\varepsilon_{\\mathrm{cu}} - \\varepsilon_{\\mathrm{cy}}) - \\varepsilon_{\\mathrm{cy}}**2*(\\sigma_\\mathrm{cu} - \\sigma_\\mathrm{cy})/(2*\\varepsilon_{\\mathrm{cu}} - 2*\\varepsilon_{\\mathrm{cy}}) - \\varepsilon_{\\mathrm{cy}}*(-\\sigma_\\mathrm{cu}*\\varepsilon_{\\mathrm{cy}} + \\sigma_\\mathrm{cy}*\\varepsilon_{\\mathrm{cu}})/(\\varepsilon_{\\mathrm{cu}} - \\varepsilon_{\\mathrm{cy}})"
      ],
      "text/latex": "$\\displaystyle \\frac{\\sigma_\\mathrm{cy} \\varepsilon_{\\mathrm{cy}}}{2} + \\frac{\\varepsilon^{2} \\left(\\sigma_\\mathrm{cu} - \\sigma_\\mathrm{cy}\\right)}{2 \\varepsilon_{\\mathrm{cu}} - 2 \\varepsilon_{\\mathrm{cy}}} + \\frac{\\varepsilon \\left(- \\sigma_\\mathrm{cu} \\varepsilon_{\\mathrm{cy}} + \\sigma_\\mathrm{cy} \\varepsilon_{\\mathrm{cu}}\\right)}{\\varepsilon_{\\mathrm{cu}} - \\varepsilon_{\\mathrm{cy}}} - \\frac{\\varepsilon_{\\mathrm{cy}}^{2} \\left(\\sigma_\\mathrm{cu} - \\sigma_\\mathrm{cy}\\right)}{2 \\varepsilon_{\\mathrm{cu}} - 2 \\varepsilon_{\\mathrm{cy}}} - \\frac{\\varepsilon_{\\mathrm{cy}} \\left(- \\sigma_\\mathrm{cu} \\varepsilon_{\\mathrm{cy}} + \\sigma_\\mathrm{cy} \\varepsilon_{\\mathrm{cu}}\\right)}{\\varepsilon_{\\mathrm{cu}} - \\varepsilon_{\\mathrm{cy}}}$"
     },
     "metadata": {},
     "output_type": "display_data"
    }
   ],
   "execution_count": 151
  },
  {
   "cell_type": "markdown",
   "metadata": {},
   "source": [
    "## Calculate $F_\\mathrm{c, cy}$ and $\\rho_\\mathrm{f, cy}$ defining the switch from part 1 to 2"
   ]
  },
  {
   "cell_type": "code",
   "metadata": {
    "ExecuteTime": {
     "end_time": "2024-05-19T22:23:02.952440Z",
     "start_time": "2024-05-19T22:23:02.934030Z"
    }
   },
   "source": [
    "# Compare F_t = A_f * f_fu with F_c_cy, if F_t <= F_c_1, then use psi_c formula, otherwise psi_c = 1\n",
    "# Note: one can also compare eps_top_solved with eps_cy, but the equation of eps_top_solved is more complicated\n",
    "\n",
    "# Calculate the ultimate tensile strain of the reinforcement (eps_fu)\n",
    "eps_fu = f_fu/E_f\n",
    "display(sp.Eq(sp.Symbol(r'\\varepsilon_{fu}'), eps_fu))\n",
    "\n",
    "# Calculate the neutral axis depth (c_1) based on strain compatibility for the first party, where the concrete yields.\n",
    "c_1 = d * (eps_cy / (eps_cy + eps_fu))\n",
    "display(sp.Eq(sp.Symbol('c_1'), c_1))\n",
    "\n",
    "# Calculate the resulting compressive force on the cross-section. Integration of the compressive strain diagram. The integral is equal the W_TTC\n",
    "F_c_cy = area_up_to_eps_part_1.subs({eps:eps_cy}) * (c_1 / eps_cy) * b\n",
    "F_c_cy = sp.simplify(F_c_cy)\n",
    "display(sp.Eq(sp.Symbol(r'F_c,cy'), F_c_cy))"
   ],
   "outputs": [
    {
     "data": {
      "text/plain": [
       "Eq(\\varepsilon_{fu}, f_{\\mathrm{fu}}/E_{\\mathrm{f}})"
      ],
      "text/latex": "$\\displaystyle \\varepsilon_{fu} = \\frac{f_{\\mathrm{fu}}}{E_{\\mathrm{f}}}$"
     },
     "metadata": {},
     "output_type": "display_data"
    },
    {
     "data": {
      "text/plain": [
       "Eq(c_1, \\varepsilon_{\\mathrm{cy}}*d/(\\varepsilon_{\\mathrm{cy}} + f_{\\mathrm{fu}}/E_{\\mathrm{f}}))"
      ],
      "text/latex": "$\\displaystyle c_{1} = \\frac{\\varepsilon_{\\mathrm{cy}} d}{\\varepsilon_{\\mathrm{cy}} + \\frac{f_{\\mathrm{fu}}}{E_{\\mathrm{f}}}}$"
     },
     "metadata": {},
     "output_type": "display_data"
    },
    {
     "data": {
      "text/plain": [
       "Eq(F_c,cy, E_{\\mathrm{f}}*\\sigma_\\mathrm{cy}*\\varepsilon_{\\mathrm{cy}}*b*d/(2*(E_{\\mathrm{f}}*\\varepsilon_{\\mathrm{cy}} + f_{\\mathrm{fu}})))"
      ],
      "text/latex": "$\\displaystyle F_{c,cy} = \\frac{E_{\\mathrm{f}} \\sigma_\\mathrm{cy} \\varepsilon_{\\mathrm{cy}} b d}{2 \\left(E_{\\mathrm{f}} \\varepsilon_{\\mathrm{cy}} + f_{\\mathrm{fu}}\\right)}$"
     },
     "metadata": {},
     "output_type": "display_data"
    }
   ],
   "execution_count": 152
  },
  {
   "cell_type": "code",
   "metadata": {
    "ExecuteTime": {
     "end_time": "2024-05-19T22:23:03.289686Z",
     "start_time": "2024-05-19T22:23:03.272259Z"
    }
   },
   "source": [
    "# Resulting tensile for on the reinforcement\n",
    "F_t_cy = A_f * f_fu\n",
    "display(sp.Eq(sp.Symbol(r'F_t,cy'), F_t_cy))\n",
    "\n",
    "# Solve the equilibrium equation for the cross-section -> Fc,cy = Ft,cy\n",
    "A_f_cy = sp.solve(F_c_cy - F_t_cy, A_f)[0]\n",
    "display(sp.Eq(sp.Symbol(r'A_f,cy'), A_f_cy))\n",
    "\n",
    "# From the equilibrium the reinforcement ratio can be obtained as\n",
    "rho_f_cy = A_f_cy /(b*d)\n",
    "display(sp.Eq(sp.Symbol(r'\\rho_{f,cy}'), rho_f_cy))\n"
   ],
   "outputs": [
    {
     "data": {
      "text/plain": [
       "Eq(F_t,cy, A_{\\mathrm{f}}*f_{\\mathrm{fu}})"
      ],
      "text/latex": "$\\displaystyle F_{t,cy} = A_{\\mathrm{f}} f_{\\mathrm{fu}}$"
     },
     "metadata": {},
     "output_type": "display_data"
    },
    {
     "data": {
      "text/plain": [
       "Eq(A_f,cy, E_{\\mathrm{f}}*\\sigma_\\mathrm{cy}*\\varepsilon_{\\mathrm{cy}}*b*d/(2*f_{\\mathrm{fu}}*(E_{\\mathrm{f}}*\\varepsilon_{\\mathrm{cy}} + f_{\\mathrm{fu}})))"
      ],
      "text/latex": "$\\displaystyle A_{f,cy} = \\frac{E_{\\mathrm{f}} \\sigma_\\mathrm{cy} \\varepsilon_{\\mathrm{cy}} b d}{2 f_{\\mathrm{fu}} \\left(E_{\\mathrm{f}} \\varepsilon_{\\mathrm{cy}} + f_{\\mathrm{fu}}\\right)}$"
     },
     "metadata": {},
     "output_type": "display_data"
    },
    {
     "data": {
      "text/plain": [
       "Eq(\\rho_{f,cy}, E_{\\mathrm{f}}*\\sigma_\\mathrm{cy}*\\varepsilon_{\\mathrm{cy}}/(2*f_{\\mathrm{fu}}*(E_{\\mathrm{f}}*\\varepsilon_{\\mathrm{cy}} + f_{\\mathrm{fu}})))"
      ],
      "text/latex": "$\\displaystyle \\rho_{f,cy} = \\frac{E_{\\mathrm{f}} \\sigma_\\mathrm{cy} \\varepsilon_{\\mathrm{cy}}}{2 f_{\\mathrm{fu}} \\left(E_{\\mathrm{f}} \\varepsilon_{\\mathrm{cy}} + f_{\\mathrm{fu}}\\right)}$"
     },
     "metadata": {},
     "output_type": "display_data"
    }
   ],
   "execution_count": 153
  },
  {
   "cell_type": "code",
   "metadata": {
    "ExecuteTime": {
     "end_time": "2024-05-19T22:23:03.814264Z",
     "start_time": "2024-05-19T22:23:03.811088Z"
    }
   },
   "source": [
    "sp.print_latex(rho_f_cy)"
   ],
   "outputs": [
    {
     "name": "stdout",
     "output_type": "stream",
     "text": [
      "\\frac{E_{\\mathrm{f}} \\sigma_\\mathrm{cy} \\varepsilon_{\\mathrm{cy}}}{2 f_{\\mathrm{fu}} \\left(E_{\\mathrm{f}} \\varepsilon_{\\mathrm{cy}} + f_{\\mathrm{fu}}\\right)}\n"
     ]
    }
   ],
   "execution_count": 154
  },
  {
   "cell_type": "markdown",
   "metadata": {},
   "source": [
    "### Final $\\rho_\\mathrm{f, cy}$ formula\n",
    "\n",
    "$\\rho_\\mathrm{f, cy} = \\frac{E_\\mathrm{f} \\sigma_\\mathrm{cy} \\varepsilon_\\mathrm{cy}}{2 f_\\mathrm{fu} \\left(E_\\mathrm{f} \\varepsilon_\\mathrm{cy} + f_\\mathrm{fu}\\right)}$"
   ]
  },
  {
   "cell_type": "markdown",
   "metadata": {},
   "source": [
    "## $\\psi_c$ for part 1"
   ]
  },
  {
   "cell_type": "code",
   "metadata": {
    "ExecuteTime": {
     "end_time": "2024-05-19T22:23:04.178348Z",
     "start_time": "2024-05-19T22:23:04.043018Z"
    }
   },
   "source": [
    "# Solving eps top for part 1\n",
    "def get_eps_top_solved(index):\n",
    "    c = d * eps/(eps + eps_fu) # calculate the depth of the neutral line\n",
    "    F_t = A_f * f_fu # calculate the tensile force on the reinforcement\n",
    "    area_up_to_eps = area_up_to_eps_part_1 if index == 0 else area_up_to_eps_part_2\n",
    "    sig_z_area = area_up_to_eps * (c / eps)    # integration of the stress-strain curve, change coordinates dz for d eps. MBI\n",
    "    display(sp.Eq(sp.Symbol(r'\\sigma_{area}'), sig_z_area))\n",
    "    F_c = sig_z_area * b\n",
    "    display(sp.Eq(sp.Symbol(r'F{c,1}'), F_c))\n",
    "    \n",
    "    eps_top_solved = sp.solve(F_t - F_c, eps)[1] # Note: this the positive solution\n",
    "    eps_top_solved = sp.simplify(eps_top_solved)\n",
    "    return eps_top_solved\n",
    "\n",
    "eps_part_1 = get_eps_top_solved(0)\n",
    "\n",
    "display(sp.Eq(sp.Symbol(r'\\varepsilon_{c,1}'), eps_part_1))"
   ],
   "outputs": [
    {
     "data": {
      "text/plain": [
       "Eq(\\sigma_{area}, \\sigma_\\mathrm{cy}*\\varepsilon**2*d/(2*\\varepsilon_{\\mathrm{cy}}*(\\varepsilon + f_{\\mathrm{fu}}/E_{\\mathrm{f}})))"
      ],
      "text/latex": "$\\displaystyle \\sigma_{area} = \\frac{\\sigma_\\mathrm{cy} \\varepsilon^{2} d}{2 \\varepsilon_{\\mathrm{cy}} \\left(\\varepsilon + \\frac{f_{\\mathrm{fu}}}{E_{\\mathrm{f}}}\\right)}$"
     },
     "metadata": {},
     "output_type": "display_data"
    },
    {
     "data": {
      "text/plain": [
       "Eq(F{c,1}, \\sigma_\\mathrm{cy}*\\varepsilon**2*b*d/(2*\\varepsilon_{\\mathrm{cy}}*(\\varepsilon + f_{\\mathrm{fu}}/E_{\\mathrm{f}})))"
      ],
      "text/latex": "$\\displaystyle F{c,1} = \\frac{\\sigma_\\mathrm{cy} \\varepsilon^{2} b d}{2 \\varepsilon_{\\mathrm{cy}} \\left(\\varepsilon + \\frac{f_{\\mathrm{fu}}}{E_{\\mathrm{f}}}\\right)}$"
     },
     "metadata": {},
     "output_type": "display_data"
    },
    {
     "data": {
      "text/plain": [
       "Eq(\\varepsilon_{c,1}, f_{\\mathrm{fu}}*(sqrt(A_{\\mathrm{f}})*sqrt(\\varepsilon_{\\mathrm{cy}})*sqrt(A_{\\mathrm{f}}*E_{\\mathrm{f}}*\\varepsilon_{\\mathrm{cy}} + 2*\\sigma_\\mathrm{cy}*b*d) + A_{\\mathrm{f}}*sqrt(E_{\\mathrm{f}})*\\varepsilon_{\\mathrm{cy}})/(sqrt(E_{\\mathrm{f}})*\\sigma_\\mathrm{cy}*b*d))"
      ],
      "text/latex": "$\\displaystyle \\varepsilon_{c,1} = \\frac{f_{\\mathrm{fu}} \\left(\\sqrt{A_{\\mathrm{f}}} \\sqrt{\\varepsilon_{\\mathrm{cy}}} \\sqrt{A_{\\mathrm{f}} E_{\\mathrm{f}} \\varepsilon_{\\mathrm{cy}} + 2 \\sigma_\\mathrm{cy} b d} + A_{\\mathrm{f}} \\sqrt{E_{\\mathrm{f}}} \\varepsilon_{\\mathrm{cy}}\\right)}{\\sqrt{E_{\\mathrm{f}}} \\sigma_\\mathrm{cy} b d}$"
     },
     "metadata": {},
     "output_type": "display_data"
    }
   ],
   "execution_count": 155
  },
  {
   "cell_type": "code",
   "metadata": {
    "ExecuteTime": {
     "end_time": "2024-05-19T22:23:04.305647Z",
     "start_time": "2024-05-19T22:23:04.179420Z"
    }
   },
   "source": [
    "# Solving eps top for part 1\n",
    "def get_psi(index):\n",
    "    if index > 0:\n",
    "        return 1\n",
    "    else:\n",
    "        eps_top_solved = get_eps_top_solved(0)\n",
    "        sig_c_max = sig_eq1.subs({eps: eps_top_solved})\n",
    "        # Variant 1:\n",
    "#         psi_c = sp.Min(sig_c_max / f_cm, 1)\n",
    "        # Variant 2: has larger error compared to upper variant, but it doesn't yield 1 until eps_c=eps_cy\n",
    "        psi_c = sig_c_max / sig_cy_scaled\n",
    "        psi_c = sp.simplify(psi_c)\n",
    "        return psi_c\n",
    "psi_c = get_psi(0)\n",
    "\n",
    "display(sp.Eq(sp.Symbol(r'\\psi_{c}'), psi_c))"
   ],
   "outputs": [
    {
     "data": {
      "text/plain": [
       "Eq(\\sigma_{area}, \\sigma_\\mathrm{cy}*\\varepsilon**2*d/(2*\\varepsilon_{\\mathrm{cy}}*(\\varepsilon + f_{\\mathrm{fu}}/E_{\\mathrm{f}})))"
      ],
      "text/latex": "$\\displaystyle \\sigma_{area} = \\frac{\\sigma_\\mathrm{cy} \\varepsilon^{2} d}{2 \\varepsilon_{\\mathrm{cy}} \\left(\\varepsilon + \\frac{f_{\\mathrm{fu}}}{E_{\\mathrm{f}}}\\right)}$"
     },
     "metadata": {},
     "output_type": "display_data"
    },
    {
     "data": {
      "text/plain": [
       "Eq(F{c,1}, \\sigma_\\mathrm{cy}*\\varepsilon**2*b*d/(2*\\varepsilon_{\\mathrm{cy}}*(\\varepsilon + f_{\\mathrm{fu}}/E_{\\mathrm{f}})))"
      ],
      "text/latex": "$\\displaystyle F{c,1} = \\frac{\\sigma_\\mathrm{cy} \\varepsilon^{2} b d}{2 \\varepsilon_{\\mathrm{cy}} \\left(\\varepsilon + \\frac{f_{\\mathrm{fu}}}{E_{\\mathrm{f}}}\\right)}$"
     },
     "metadata": {},
     "output_type": "display_data"
    },
    {
     "data": {
      "text/plain": [
       "Eq(\\psi_{c}, sqrt(A_{\\mathrm{f}})*f_{\\mathrm{fu}}*sqrt(A_{\\mathrm{f}}*E_{\\mathrm{f}}*\\varepsilon_{\\mathrm{cy}} + 2*\\sigma_\\mathrm{cy}*b*d)/(sqrt(E_{\\mathrm{f}})*\\sigma_\\mathrm{cy}*sqrt(\\varepsilon_{\\mathrm{cy}})*b*d) + A_{\\mathrm{f}}*f_{\\mathrm{fu}}/(\\sigma_\\mathrm{cy}*b*d))"
      ],
      "text/latex": "$\\displaystyle \\psi_{c} = \\frac{\\sqrt{A_{\\mathrm{f}}} f_{\\mathrm{fu}} \\sqrt{A_{\\mathrm{f}} E_{\\mathrm{f}} \\varepsilon_{\\mathrm{cy}} + 2 \\sigma_\\mathrm{cy} b d}}{\\sqrt{E_{\\mathrm{f}}} \\sigma_\\mathrm{cy} \\sqrt{\\varepsilon_{\\mathrm{cy}}} b d} + \\frac{A_{\\mathrm{f}} f_{\\mathrm{fu}}}{\\sigma_\\mathrm{cy} b d}$"
     },
     "metadata": {},
     "output_type": "display_data"
    }
   ],
   "execution_count": 156
  },
  {
   "cell_type": "markdown",
   "metadata": {},
   "source": [
    "### Validate with data"
   ]
  },
  {
   "cell_type": "code",
   "metadata": {
    "ExecuteTime": {
     "end_time": "2024-05-19T22:23:04.388746Z",
     "start_time": "2024-05-19T22:23:04.386207Z"
    }
   },
   "source": [
    "sigma_cy_cu_vals = {sig_cy_scaled:f_cm * sig_cy_scale, sig_cu_scaled:f_cm * sig_cu_scale}\n",
    "test_vals= {f_cm:50, b:400, d:180, f_fu:2500, E_f:200000, \n",
    "            A_f:20,\n",
    "            E_cc:EC2.get_E_cm(50-8), \n",
    "            eps_cy:EC2.get_eps_c1(50-8),\n",
    "           eps_cu:EC2.get_eps_cu1(50-8)}"
   ],
   "outputs": [],
   "execution_count": 157
  },
  {
   "cell_type": "code",
   "metadata": {
    "ExecuteTime": {
     "end_time": "2024-05-19T22:23:04.529204Z",
     "start_time": "2024-05-19T22:23:04.516171Z"
    }
   },
   "source": [
    "sp.N(psi_c.subs(sigma_cy_cu_vals).subs(test_vals))"
   ],
   "outputs": [
    {
     "data": {
      "text/plain": [
       "0.347938662952384"
      ],
      "text/latex": "$\\displaystyle 0.347938662952384$"
     },
     "execution_count": 158,
     "metadata": {},
     "output_type": "execute_result"
    }
   ],
   "execution_count": 158
  },
  {
   "cell_type": "markdown",
   "metadata": {},
   "source": [
    "### Validate with Test T1"
   ]
  },
  {
   "cell_type": "code",
   "metadata": {
    "ExecuteTime": {
     "end_time": "2024-05-19T22:23:04.708390Z",
     "start_time": "2024-05-19T22:23:04.700027Z"
    }
   },
   "source": [
    "T1_data = {f_cm:98.63, b:300, d:90, f_fu:3823.90, E_f:247468.92, \\\n",
    "           rho_f:28.96/(300 * 90),\n",
    "           A_f:28.96, E_cc:EC2.get_E_cm(98.63-8), eps_cy:EC2.get_eps_c1(98.63-8), \\\n",
    "           eps_cu:EC2.get_eps_cu1(98.63-8)}\n",
    "\n",
    "# Value from MK tool is about 0.77\n",
    "sp.N(psi_c.subs(sigma_cy_cu_vals).subs(T1_data))"
   ],
   "outputs": [
    {
     "data": {
      "text/plain": [
       "0.665027473503739"
      ],
      "text/latex": "$\\displaystyle 0.665027473503739$"
     },
     "execution_count": 159,
     "metadata": {},
     "output_type": "execute_result"
    }
   ],
   "execution_count": 159
  },
  {
   "cell_type": "markdown",
   "metadata": {},
   "source": [
    "### Reduce and print formula"
   ]
  },
  {
   "cell_type": "code",
   "metadata": {
    "ExecuteTime": {
     "end_time": "2024-05-19T22:23:04.794339Z",
     "start_time": "2024-05-19T22:23:04.790381Z"
    }
   },
   "source": [
    "psi_c_reduced = sp.cse(psi_c)\n",
    "psi_c_reduced[-1][0]"
   ],
   "outputs": [
    {
     "data": {
      "text/plain": [
       "sqrt(A_{\\mathrm{f}})*x0*sqrt(A_{\\mathrm{f}}*E_{\\mathrm{f}}*\\varepsilon_{\\mathrm{cy}} + 2*\\sigma_\\mathrm{cy}*b*d)/(sqrt(E_{\\mathrm{f}})*sqrt(\\varepsilon_{\\mathrm{cy}})) + A_{\\mathrm{f}}*x0"
      ],
      "text/latex": "$\\displaystyle \\frac{\\sqrt{A_{\\mathrm{f}}} x_{0} \\sqrt{A_{\\mathrm{f}} E_{\\mathrm{f}} \\varepsilon_{\\mathrm{cy}} + 2 \\sigma_\\mathrm{cy} b d}}{\\sqrt{E_{\\mathrm{f}}} \\sqrt{\\varepsilon_{\\mathrm{cy}}}} + A_{\\mathrm{f}} x_{0}$"
     },
     "execution_count": 160,
     "metadata": {},
     "output_type": "execute_result"
    }
   ],
   "execution_count": 160
  },
  {
   "cell_type": "code",
   "metadata": {
    "ExecuteTime": {
     "end_time": "2024-05-19T22:23:04.907256Z",
     "start_time": "2024-05-19T22:23:04.904762Z"
    }
   },
   "source": [
    "sp.print_latex(psi_c_reduced[-1][0])"
   ],
   "outputs": [
    {
     "name": "stdout",
     "output_type": "stream",
     "text": [
      "\\frac{\\sqrt{A_{\\mathrm{f}}} x_{0} \\sqrt{A_{\\mathrm{f}} E_{\\mathrm{f}} \\varepsilon_{\\mathrm{cy}} + 2 \\sigma_\\mathrm{cy} b d}}{\\sqrt{E_{\\mathrm{f}}} \\sqrt{\\varepsilon_{\\mathrm{cy}}}} + A_{\\mathrm{f}} x_{0}\n"
     ]
    }
   ],
   "execution_count": 161
  },
  {
   "cell_type": "code",
   "metadata": {
    "ExecuteTime": {
     "end_time": "2024-05-19T22:23:05.082221Z",
     "start_time": "2024-05-19T22:23:05.078066Z"
    }
   },
   "source": [
    "psi_c_reduced[0][0][1]"
   ],
   "outputs": [
    {
     "data": {
      "text/plain": [
       "f_{\\mathrm{fu}}/(\\sigma_\\mathrm{cy}*b*d)"
      ],
      "text/latex": "$\\displaystyle \\frac{f_{\\mathrm{fu}}}{\\sigma_\\mathrm{cy} b d}$"
     },
     "execution_count": 162,
     "metadata": {},
     "output_type": "execute_result"
    }
   ],
   "execution_count": 162
  },
  {
   "cell_type": "markdown",
   "metadata": {},
   "source": [
    "### Final $\\psi_c$ formula\n",
    "\n",
    "For $\\rho_\\mathrm{f} < \\rho_\\mathrm{fb}$, the utilization ratio for concrete is given as\n",
    "\n",
    "$\n",
    "\\psi_c = \\min\\left(1,~\\frac{f_\\mathrm{fu}}{b d f_\\mathrm{cm}} \\cdot \\bigg( A_\\mathrm{f} + \\sqrt{\\frac{A_\\mathrm{f} \\cdot (A_\\mathrm{f} E_\\mathrm{f} \\varepsilon_{cy} + 2 b d f_\\mathrm{cm, cy})}{E_\\mathrm{f} \\varepsilon_\\mathrm{cy}}} \\bigg)\\right)\n",
    "$\n",
    "\n",
    "Note: can be used for $\\rho_\\mathrm{f} < \\rho_\\mathrm{fb}$ without checking $F_t < F_{c, cy}$ because for that case it indeed result in a value larger than 1, so the final resulting value of 1 is correct."
   ]
  },
  {
   "cell_type": "markdown",
   "metadata": {},
   "source": [
    "## $M_u$ for part 1"
   ]
  },
  {
   "cell_type": "code",
   "metadata": {
    "ExecuteTime": {
     "end_time": "2024-05-19T22:23:05.232323Z",
     "start_time": "2024-05-19T22:23:05.192734Z"
    }
   },
   "source": [
    "# Because first part is triangle, the center of it is\n",
    "# ce: the distance from the top of the cross section to the centroid of concrete compression block\n",
    "eps_f = sigma_f / E_f\n",
    "c = d * eps/(eps + eps_f)\n",
    "c1 = c.subs({eps: eps_part_1, sigma_f: f_fu})\n",
    "ce1 = c1 / 3\n",
    "ce1 = sp.simplify(ce1)\n",
    "ce1"
   ],
   "outputs": [
    {
     "data": {
      "text/plain": [
       "E_{\\mathrm{f}}*d*(sqrt(A_{\\mathrm{f}})*sqrt(\\varepsilon_{\\mathrm{cy}})*sqrt(A_{\\mathrm{f}}*E_{\\mathrm{f}}*\\varepsilon_{\\mathrm{cy}} + 2*\\sigma_\\mathrm{cy}*b*d) + A_{\\mathrm{f}}*sqrt(E_{\\mathrm{f}})*\\varepsilon_{\\mathrm{cy}})/(3*(sqrt(E_{\\mathrm{f}})*\\sigma_\\mathrm{cy}*b*d + E_{\\mathrm{f}}*(sqrt(A_{\\mathrm{f}})*sqrt(\\varepsilon_{\\mathrm{cy}})*sqrt(A_{\\mathrm{f}}*E_{\\mathrm{f}}*\\varepsilon_{\\mathrm{cy}} + 2*\\sigma_\\mathrm{cy}*b*d) + A_{\\mathrm{f}}*sqrt(E_{\\mathrm{f}})*\\varepsilon_{\\mathrm{cy}})))"
      ],
      "text/latex": "$\\displaystyle \\frac{E_{\\mathrm{f}} d \\left(\\sqrt{A_{\\mathrm{f}}} \\sqrt{\\varepsilon_{\\mathrm{cy}}} \\sqrt{A_{\\mathrm{f}} E_{\\mathrm{f}} \\varepsilon_{\\mathrm{cy}} + 2 \\sigma_\\mathrm{cy} b d} + A_{\\mathrm{f}} \\sqrt{E_{\\mathrm{f}}} \\varepsilon_{\\mathrm{cy}}\\right)}{3 \\left(\\sqrt{E_{\\mathrm{f}}} \\sigma_\\mathrm{cy} b d + E_{\\mathrm{f}} \\left(\\sqrt{A_{\\mathrm{f}}} \\sqrt{\\varepsilon_{\\mathrm{cy}}} \\sqrt{A_{\\mathrm{f}} E_{\\mathrm{f}} \\varepsilon_{\\mathrm{cy}} + 2 \\sigma_\\mathrm{cy} b d} + A_{\\mathrm{f}} \\sqrt{E_{\\mathrm{f}}} \\varepsilon_{\\mathrm{cy}}\\right)\\right)}$"
     },
     "execution_count": 163,
     "metadata": {},
     "output_type": "execute_result"
    }
   ],
   "execution_count": 163
  },
  {
   "cell_type": "code",
   "metadata": {
    "ExecuteTime": {
     "end_time": "2024-05-19T22:23:05.343466Z",
     "start_time": "2024-05-19T22:23:05.341527Z"
    }
   },
   "source": [
    "# sp.simplify(c1).subs({x4: 'm2'})"
   ],
   "outputs": [],
   "execution_count": 164
  },
  {
   "cell_type": "code",
   "metadata": {
    "ExecuteTime": {
     "end_time": "2024-05-19T22:23:05.508282Z",
     "start_time": "2024-05-19T22:23:05.457537Z"
    }
   },
   "source": [
    "# Valid for f_cm > 80 in general and in case F_t < F_c_1\n",
    "M_n_1 = sp.simplify(A_f * f_fu * (d - ce1))\n",
    "M_n_1"
   ],
   "outputs": [
    {
     "data": {
      "text/plain": [
       "A_{\\mathrm{f}}*d*f_{\\mathrm{fu}}*(3*sqrt(E_{\\mathrm{f}})*\\sigma_\\mathrm{cy}*b*d + 2*E_{\\mathrm{f}}*(sqrt(A_{\\mathrm{f}})*sqrt(\\varepsilon_{\\mathrm{cy}})*sqrt(A_{\\mathrm{f}}*E_{\\mathrm{f}}*\\varepsilon_{\\mathrm{cy}} + 2*\\sigma_\\mathrm{cy}*b*d) + A_{\\mathrm{f}}*sqrt(E_{\\mathrm{f}})*\\varepsilon_{\\mathrm{cy}}))/(3*(sqrt(E_{\\mathrm{f}})*\\sigma_\\mathrm{cy}*b*d + E_{\\mathrm{f}}*(sqrt(A_{\\mathrm{f}})*sqrt(\\varepsilon_{\\mathrm{cy}})*sqrt(A_{\\mathrm{f}}*E_{\\mathrm{f}}*\\varepsilon_{\\mathrm{cy}} + 2*\\sigma_\\mathrm{cy}*b*d) + A_{\\mathrm{f}}*sqrt(E_{\\mathrm{f}})*\\varepsilon_{\\mathrm{cy}})))"
      ],
      "text/latex": "$\\displaystyle \\frac{A_{\\mathrm{f}} d f_{\\mathrm{fu}} \\left(3 \\sqrt{E_{\\mathrm{f}}} \\sigma_\\mathrm{cy} b d + 2 E_{\\mathrm{f}} \\left(\\sqrt{A_{\\mathrm{f}}} \\sqrt{\\varepsilon_{\\mathrm{cy}}} \\sqrt{A_{\\mathrm{f}} E_{\\mathrm{f}} \\varepsilon_{\\mathrm{cy}} + 2 \\sigma_\\mathrm{cy} b d} + A_{\\mathrm{f}} \\sqrt{E_{\\mathrm{f}}} \\varepsilon_{\\mathrm{cy}}\\right)\\right)}{3 \\left(\\sqrt{E_{\\mathrm{f}}} \\sigma_\\mathrm{cy} b d + E_{\\mathrm{f}} \\left(\\sqrt{A_{\\mathrm{f}}} \\sqrt{\\varepsilon_{\\mathrm{cy}}} \\sqrt{A_{\\mathrm{f}} E_{\\mathrm{f}} \\varepsilon_{\\mathrm{cy}} + 2 \\sigma_\\mathrm{cy} b d} + A_{\\mathrm{f}} \\sqrt{E_{\\mathrm{f}}} \\varepsilon_{\\mathrm{cy}}\\right)\\right)}$"
     },
     "execution_count": 165,
     "metadata": {},
     "output_type": "execute_result"
    }
   ],
   "execution_count": 165
  },
  {
   "cell_type": "markdown",
   "metadata": {},
   "source": [
    "### Reduce and print formula"
   ]
  },
  {
   "cell_type": "code",
   "metadata": {
    "ExecuteTime": {
     "end_time": "2024-05-19T22:23:05.565897Z",
     "start_time": "2024-05-19T22:23:05.561638Z"
    }
   },
   "source": [
    "# packaging common terms\n",
    "M_n_1_reduced = sp.cse(M_n_1)\n",
    "M_n_1_reduced"
   ],
   "outputs": [
    {
     "data": {
      "text/plain": [
       "([(x0, sqrt(E_{\\mathrm{f}})),\n",
       "  (x1, \\sigma_\\mathrm{cy}*b*d),\n",
       "  (x2, x0*x1),\n",
       "  (x3, A_{\\mathrm{f}}*\\varepsilon_{\\mathrm{cy}}),\n",
       "  (x4,\n",
       "   E_{\\mathrm{f}}*(sqrt(A_{\\mathrm{f}})*sqrt(\\varepsilon_{\\mathrm{cy}})*sqrt(E_{\\mathrm{f}}*x3 + 2*x1) + x0*x3))],\n",
       " [A_{\\mathrm{f}}*d*f_{\\mathrm{fu}}*(3*x2 + 2*x4)/(3*(x2 + x4))])"
      ]
     },
     "execution_count": 166,
     "metadata": {},
     "output_type": "execute_result"
    }
   ],
   "execution_count": 166
  },
  {
   "cell_type": "code",
   "metadata": {
    "ExecuteTime": {
     "end_time": "2024-05-19T22:23:05.637816Z",
     "start_time": "2024-05-19T22:23:05.634661Z"
    }
   },
   "source": [
    "M_n_1_reduced[-1][0]"
   ],
   "outputs": [
    {
     "data": {
      "text/plain": [
       "A_{\\mathrm{f}}*d*f_{\\mathrm{fu}}*(3*x2 + 2*x4)/(3*(x2 + x4))"
      ],
      "text/latex": "$\\displaystyle \\frac{A_{\\mathrm{f}} d f_{\\mathrm{fu}} \\left(3 x_{2} + 2 x_{4}\\right)}{3 \\left(x_{2} + x_{4}\\right)}$"
     },
     "execution_count": 167,
     "metadata": {},
     "output_type": "execute_result"
    }
   ],
   "execution_count": 167
  },
  {
   "cell_type": "code",
   "metadata": {
    "ExecuteTime": {
     "end_time": "2024-05-19T22:23:05.786988Z",
     "start_time": "2024-05-19T22:23:05.780763Z"
    }
   },
   "source": [
    "symb_exp_list = [[s, e] for (s, e) in M_n_1_reduced[0]]\n",
    "for symb_exp in symb_exp_list:\n",
    "    symb_exp[1] = symb_exp[1].subs({s:e for (s, e) in symb_exp_list})\n",
    "symb_exp_list"
   ],
   "outputs": [
    {
     "data": {
      "text/plain": [
       "[[x0, sqrt(E_{\\mathrm{f}})],\n",
       " [x1, \\sigma_\\mathrm{cy}*b*d],\n",
       " [x2, sqrt(E_{\\mathrm{f}})*\\sigma_\\mathrm{cy}*b*d],\n",
       " [x3, A_{\\mathrm{f}}*\\varepsilon_{\\mathrm{cy}}],\n",
       " [x4,\n",
       "  E_{\\mathrm{f}}*(sqrt(A_{\\mathrm{f}})*sqrt(\\varepsilon_{\\mathrm{cy}})*sqrt(A_{\\mathrm{f}}*E_{\\mathrm{f}}*\\varepsilon_{\\mathrm{cy}} + 2*\\sigma_\\mathrm{cy}*b*d) + A_{\\mathrm{f}}*sqrt(E_{\\mathrm{f}})*\\varepsilon_{\\mathrm{cy}})]]"
      ]
     },
     "execution_count": 168,
     "metadata": {},
     "output_type": "execute_result"
    }
   ],
   "execution_count": 168
  },
  {
   "cell_type": "code",
   "metadata": {
    "ExecuteTime": {
     "end_time": "2024-05-19T22:23:05.832507Z",
     "start_time": "2024-05-19T22:23:05.830129Z"
    }
   },
   "source": [
    "x2 = symb_exp_list[2][1]\n",
    "x2"
   ],
   "outputs": [
    {
     "data": {
      "text/plain": [
       "sqrt(E_{\\mathrm{f}})*\\sigma_\\mathrm{cy}*b*d"
      ],
      "text/latex": "$\\displaystyle \\sqrt{E_{\\mathrm{f}}} \\sigma_\\mathrm{cy} b d$"
     },
     "execution_count": 169,
     "metadata": {},
     "output_type": "execute_result"
    }
   ],
   "execution_count": 169
  },
  {
   "cell_type": "code",
   "metadata": {
    "ExecuteTime": {
     "end_time": "2024-05-19T22:23:05.956212Z",
     "start_time": "2024-05-19T22:23:05.954206Z"
    }
   },
   "source": [
    "sp.print_latex(x2)"
   ],
   "outputs": [
    {
     "name": "stdout",
     "output_type": "stream",
     "text": [
      "\\sqrt{E_{\\mathrm{f}}} \\sigma_\\mathrm{cy} b d\n"
     ]
    }
   ],
   "execution_count": 170
  },
  {
   "cell_type": "code",
   "metadata": {
    "ExecuteTime": {
     "end_time": "2024-05-19T22:23:06.047558Z",
     "start_time": "2024-05-19T22:23:06.044728Z"
    }
   },
   "source": [
    "x4 = symb_exp_list[4][1]\n",
    "x4"
   ],
   "outputs": [
    {
     "data": {
      "text/plain": [
       "E_{\\mathrm{f}}*(sqrt(A_{\\mathrm{f}})*sqrt(\\varepsilon_{\\mathrm{cy}})*sqrt(A_{\\mathrm{f}}*E_{\\mathrm{f}}*\\varepsilon_{\\mathrm{cy}} + 2*\\sigma_\\mathrm{cy}*b*d) + A_{\\mathrm{f}}*sqrt(E_{\\mathrm{f}})*\\varepsilon_{\\mathrm{cy}})"
      ],
      "text/latex": "$\\displaystyle E_{\\mathrm{f}} \\left(\\sqrt{A_{\\mathrm{f}}} \\sqrt{\\varepsilon_{\\mathrm{cy}}} \\sqrt{A_{\\mathrm{f}} E_{\\mathrm{f}} \\varepsilon_{\\mathrm{cy}} + 2 \\sigma_\\mathrm{cy} b d} + A_{\\mathrm{f}} \\sqrt{E_{\\mathrm{f}}} \\varepsilon_{\\mathrm{cy}}\\right)$"
     },
     "execution_count": 171,
     "metadata": {},
     "output_type": "execute_result"
    }
   ],
   "execution_count": 171
  },
  {
   "cell_type": "code",
   "metadata": {
    "ExecuteTime": {
     "end_time": "2024-05-19T22:23:06.133276Z",
     "start_time": "2024-05-19T22:23:06.130887Z"
    }
   },
   "source": [
    "sp.print_latex(x4)"
   ],
   "outputs": [
    {
     "name": "stdout",
     "output_type": "stream",
     "text": [
      "E_{\\mathrm{f}} \\left(\\sqrt{A_{\\mathrm{f}}} \\sqrt{\\varepsilon_{\\mathrm{cy}}} \\sqrt{A_{\\mathrm{f}} E_{\\mathrm{f}} \\varepsilon_{\\mathrm{cy}} + 2 \\sigma_\\mathrm{cy} b d} + A_{\\mathrm{f}} \\sqrt{E_{\\mathrm{f}}} \\varepsilon_{\\mathrm{cy}}\\right)\n"
     ]
    }
   ],
   "execution_count": 172
  },
  {
   "cell_type": "code",
   "metadata": {
    "ExecuteTime": {
     "end_time": "2024-05-19T22:23:06.219503Z",
     "start_time": "2024-05-19T22:23:06.216963Z"
    }
   },
   "source": [
    "sp.print_latex(M_n_1_reduced[-1][0])"
   ],
   "outputs": [
    {
     "name": "stdout",
     "output_type": "stream",
     "text": [
      "\\frac{A_{\\mathrm{f}} d f_{\\mathrm{fu}} \\left(3 x_{2} + 2 x_{4}\\right)}{3 \\left(x_{2} + x_{4}\\right)}\n"
     ]
    }
   ],
   "execution_count": 173
  },
  {
   "cell_type": "markdown",
   "metadata": {},
   "source": [
    "### Final $M_u$ formula\n",
    "\n",
    "For $\\rho_\\mathrm{f} < \\rho_\\mathrm{f, cy}$, flexural capacity is given\n",
    "\n",
    "$M_\\mathrm{u,cy} = \\frac{A_\\mathrm{f} d f_\\mathrm{fu} \\left(3 m_{1} + 2 m_{2}\\right)}{3 \\left(m_{1} + m_{2}\\right)}$\n",
    "\n",
    "with\n",
    "\n",
    "\\begin{align}\n",
    "m_1 & = \\sqrt{E_\\mathrm{f}} b d f_\\mathrm{cm, cy}, \\\\\n",
    "m_2 & =  E_f \\Bigg( \\sqrt{A_\\mathrm{f} \\varepsilon_\\mathrm{cy} \\cdot \\bigg(A_\\mathrm{f} E_\\mathrm{f} \\varepsilon_\\mathrm{cy} + \\frac{2 m_1}{\\sqrt{E_\\mathrm{f}}}\\bigg)} + A_\\mathrm{f}~\\varepsilon_\\mathrm{cy}~\\sqrt{E_\\mathrm{f}} \\Bigg)\n",
    "\\end{align}"
   ]
  },
  {
   "cell_type": "markdown",
   "metadata": {},
   "source": [
    "## Curvature $\\kappa$ for part 1\n",
    "\n",
    "Valid for $\\rho_f < \\rho_{f, cy}$"
   ]
  },
  {
   "cell_type": "code",
   "metadata": {
    "ExecuteTime": {
     "end_time": "2024-05-19T22:23:06.324843Z",
     "start_time": "2024-05-19T22:23:06.321271Z"
    }
   },
   "source": [
    "kappa_1 = eps_part_1 / c1\n",
    "kappa_1"
   ],
   "outputs": [
    {
     "data": {
      "text/plain": [
       "(f_{\\mathrm{fu}}/E_{\\mathrm{f}} + f_{\\mathrm{fu}}*(sqrt(A_{\\mathrm{f}})*sqrt(\\varepsilon_{\\mathrm{cy}})*sqrt(A_{\\mathrm{f}}*E_{\\mathrm{f}}*\\varepsilon_{\\mathrm{cy}} + 2*\\sigma_\\mathrm{cy}*b*d) + A_{\\mathrm{f}}*sqrt(E_{\\mathrm{f}})*\\varepsilon_{\\mathrm{cy}})/(sqrt(E_{\\mathrm{f}})*\\sigma_\\mathrm{cy}*b*d))/d"
      ],
      "text/latex": "$\\displaystyle \\frac{\\frac{f_{\\mathrm{fu}}}{E_{\\mathrm{f}}} + \\frac{f_{\\mathrm{fu}} \\left(\\sqrt{A_{\\mathrm{f}}} \\sqrt{\\varepsilon_{\\mathrm{cy}}} \\sqrt{A_{\\mathrm{f}} E_{\\mathrm{f}} \\varepsilon_{\\mathrm{cy}} + 2 \\sigma_\\mathrm{cy} b d} + A_{\\mathrm{f}} \\sqrt{E_{\\mathrm{f}}} \\varepsilon_{\\mathrm{cy}}\\right)}{\\sqrt{E_{\\mathrm{f}}} \\sigma_\\mathrm{cy} b d}}{d}$"
     },
     "execution_count": 174,
     "metadata": {},
     "output_type": "execute_result"
    }
   ],
   "execution_count": 174
  },
  {
   "cell_type": "code",
   "metadata": {
    "ExecuteTime": {
     "end_time": "2024-05-19T22:23:06.408499Z",
     "start_time": "2024-05-19T22:23:06.403672Z"
    }
   },
   "source": [
    "# or as follows\n",
    "kappa_1 = kappa_1.subs({eps_part_1: eps_1})\n",
    "kappa_1"
   ],
   "outputs": [
    {
     "data": {
      "text/plain": [
       "(\\varepsilon_{\\mathrm{1}} + f_{\\mathrm{fu}}/E_{\\mathrm{f}})/d"
      ],
      "text/latex": "$\\displaystyle \\frac{\\varepsilon_{\\mathrm{1}} + \\frac{f_{\\mathrm{fu}}}{E_{\\mathrm{f}}}}{d}$"
     },
     "execution_count": 175,
     "metadata": {},
     "output_type": "execute_result"
    }
   ],
   "execution_count": 175
  },
  {
   "cell_type": "markdown",
   "metadata": {},
   "source": [
    "## Solving for the second part where $\\varepsilon_c < \\varepsilon_{cu}$\n",
    "\n",
    "Note: this is complex and not usable, but left here for completeness, use the formula of $\\rho_f > \\rho_{fb}$ instead which gives conservative M_u solution."
   ]
  },
  {
   "cell_type": "code",
   "metadata": {
    "ExecuteTime": {
     "end_time": "2024-05-19T22:23:06.503879Z",
     "start_time": "2024-05-19T22:23:06.502177Z"
    }
   },
   "source": [
    "# eps_part_2 = get_eps_top_solved(1)\n",
    "# eps_part_2"
   ],
   "outputs": [],
   "execution_count": 176
  },
  {
   "cell_type": "code",
   "metadata": {
    "ExecuteTime": {
     "end_time": "2024-05-19T22:23:06.575058Z",
     "start_time": "2024-05-19T22:23:06.573345Z"
    }
   },
   "source": [
    "# ce_part_2 = ce2_eps_fraction.subs({eps: eps_part_2}) * c.subs({eps: eps_part_2})\n",
    "# # simplify takes forever here\n",
    "# # ce_part_2 = sp.simplify(ce_part_2)\n",
    "# ce_part_2"
   ],
   "outputs": [],
   "execution_count": 177
  },
  {
   "cell_type": "code",
   "metadata": {
    "ExecuteTime": {
     "end_time": "2024-05-19T22:23:06.710513Z",
     "start_time": "2024-05-19T22:23:06.708892Z"
    }
   },
   "source": [
    "# M_n_part_2 = A_f * f_fu * (d - ce_part_2)\n",
    "# # simplify takes forever here\n",
    "# # M_n_part_2 = sp.simplify(M_n_part_2)\n",
    "# M_n_part_2"
   ],
   "outputs": [],
   "execution_count": 178
  },
  {
   "cell_type": "markdown",
   "metadata": {},
   "source": [
    "# Deriving $M_u$ and other equations for $\\rho_\\mathrm{f} \\ge \\rho_\\mathrm{fb}$\n",
    "\n",
    "Here, we know that $\\varepsilon_{c, top} = \\varepsilon_{cu}$"
   ]
  },
  {
   "cell_type": "markdown",
   "metadata": {},
   "source": [
    "## Balanced reinforcement ratio $\\rho_\\mathrm{fb}$"
   ]
  },
  {
   "cell_type": "code",
   "metadata": {
    "ExecuteTime": {
     "end_time": "2024-05-19T22:23:06.836247Z",
     "start_time": "2024-05-19T22:23:06.772989Z"
    }
   },
   "source": [
    "F_t = A_f * f_fu\n",
    "sig_z_area = area_up_to_eps_part_2.subs({eps:eps_cu}) * (c.subs({eps:eps_cu}) / eps_cu)\n",
    "F_c = sig_z_area * b\n",
    "A_fb = sp.solve(F_t - F_c, A_f)[0]\n",
    "A_fb = sp.simplify(A_fb).subs(sigma_f, f_fu)\n",
    "rho_fb = A_fb / (b * d)\n",
    "rho_fb"
   ],
   "outputs": [
    {
     "data": {
      "text/plain": [
       "E_{\\mathrm{f}}*(\\sigma_\\mathrm{cu}*\\varepsilon_{\\mathrm{cu}} - \\sigma_\\mathrm{cu}*\\varepsilon_{\\mathrm{cy}} + \\sigma_\\mathrm{cy}*\\varepsilon_{\\mathrm{cu}})/(2*f_{\\mathrm{fu}}*(E_{\\mathrm{f}}*\\varepsilon_{\\mathrm{cu}} + f_{\\mathrm{fu}}))"
      ],
      "text/latex": "$\\displaystyle \\frac{E_{\\mathrm{f}} \\left(\\sigma_\\mathrm{cu} \\varepsilon_{\\mathrm{cu}} - \\sigma_\\mathrm{cu} \\varepsilon_{\\mathrm{cy}} + \\sigma_\\mathrm{cy} \\varepsilon_{\\mathrm{cu}}\\right)}{2 f_{\\mathrm{fu}} \\left(E_{\\mathrm{f}} \\varepsilon_{\\mathrm{cu}} + f_{\\mathrm{fu}}\\right)}$"
     },
     "execution_count": 179,
     "metadata": {},
     "output_type": "execute_result"
    }
   ],
   "execution_count": 179
  },
  {
   "cell_type": "code",
   "metadata": {
    "ExecuteTime": {
     "end_time": "2024-05-19T22:23:06.861122Z",
     "start_time": "2024-05-19T22:23:06.855016Z"
    }
   },
   "source": [
    "# This should be almost 0.00326 according to MK tool\n",
    "sp.N(rho_fb.subs(sigma_cy_cu_vals).subs(test_vals))"
   ],
   "outputs": [
    {
     "data": {
      "text/plain": [
       "0.00320321578123761"
      ],
      "text/latex": "$\\displaystyle 0.00320321578123761$"
     },
     "execution_count": 180,
     "metadata": {},
     "output_type": "execute_result"
    }
   ],
   "execution_count": 180
  },
  {
   "cell_type": "markdown",
   "metadata": {},
   "source": [
    "## $M_\\mathrm{u}$ for $\\rho_\\mathrm{f} > \\rho_\\mathrm{fb}$"
   ]
  },
  {
   "cell_type": "code",
   "metadata": {
    "ExecuteTime": {
     "end_time": "2024-05-19T22:23:07.076357Z",
     "start_time": "2024-05-19T22:23:06.899402Z"
    }
   },
   "source": [
    "# Calculating centroid and area for second part:\n",
    "# -----------------------------------------------\n",
    "# The following is valid for any eps in the second descending line in the approximated sig-eps relation\n",
    "# For f_cm > f_cm_limit, only the triangle is enough as the trapz doesn't exist because eps_cy = eps_cu\n",
    "# However, even if these are used, setting eps_cy = eps_cu would cancel the trapezoidal part.\n",
    "# Therefore, eps_cu1 formula in EC2 was adapted below.\n",
    "\n",
    "triangle_area = eps_cy * sig_cy_scaled / 2\n",
    "triangle_ce = (eps - eps_cy) + eps_cy / 3\n",
    "\n",
    "small_base_trapz = sig_eq.args[1][0]\n",
    "large_base_trapz = sig_cy_scaled\n",
    "h_trapz = eps - eps_cy\n",
    "trapz_ce_dist_from_large_base = (h_trapz/3) * (large_base_trapz + 2 * small_base_trapz) / (large_base_trapz + small_base_trapz)\n",
    "trapz_ce_dist_from_large_base = sp.simplify(trapz_ce_dist_from_large_base)\n",
    "trapz_ce = eps - eps_cy - trapz_ce_dist_from_large_base\n",
    "trapz_ce = sp.simplify(trapz_ce)\n",
    "trapz_area = h_trapz * (small_base_trapz + large_base_trapz) / 2 \n",
    "trapz_area = sp.simplify(trapz_area)\n",
    "\n",
    "total_area = triangle_area + trapz_area\n",
    "\n",
    "ce2_eps = ((trapz_ce * trapz_area) + (triangle_ce * triangle_area)) / total_area\n",
    "ce2_eps_fraction = ce2_eps / eps\n",
    "ce2_eps_fraction = sp.simplify(ce2_eps_fraction)\n",
    "ce2_eps_fraction"
   ],
   "outputs": [
    {
     "data": {
      "text/plain": [
       "(\\sigma_\\mathrm{cy}*\\varepsilon_{\\mathrm{cy}}*(3*\\varepsilon - 2*\\varepsilon_{\\mathrm{cy}})*(\\varepsilon_{\\mathrm{cu}} - \\varepsilon_{\\mathrm{cy}}) + (\\varepsilon - \\varepsilon_{\\mathrm{cy}})**2*(\\sigma_\\mathrm{cu}*\\varepsilon - \\sigma_\\mathrm{cu}*\\varepsilon_{\\mathrm{cy}} - \\sigma_\\mathrm{cy}*\\varepsilon + \\sigma_\\mathrm{cy}*\\varepsilon_{\\mathrm{cu}} + 2*\\sigma_\\mathrm{cy}*(\\varepsilon_{\\mathrm{cu}} - \\varepsilon_{\\mathrm{cy}})))/(3*\\varepsilon*(\\sigma_\\mathrm{cy}*\\varepsilon_{\\mathrm{cy}}*(\\varepsilon_{\\mathrm{cu}} - \\varepsilon_{\\mathrm{cy}}) + (\\varepsilon - \\varepsilon_{\\mathrm{cy}})*(\\sigma_\\mathrm{cu}*\\varepsilon - \\sigma_\\mathrm{cu}*\\varepsilon_{\\mathrm{cy}} - \\sigma_\\mathrm{cy}*\\varepsilon + \\sigma_\\mathrm{cy}*\\varepsilon_{\\mathrm{cu}} + \\sigma_\\mathrm{cy}*(\\varepsilon_{\\mathrm{cu}} - \\varepsilon_{\\mathrm{cy}}))))"
      ],
      "text/latex": "$\\displaystyle \\frac{\\sigma_\\mathrm{cy} \\varepsilon_{\\mathrm{cy}} \\left(3 \\varepsilon - 2 \\varepsilon_{\\mathrm{cy}}\\right) \\left(\\varepsilon_{\\mathrm{cu}} - \\varepsilon_{\\mathrm{cy}}\\right) + \\left(\\varepsilon - \\varepsilon_{\\mathrm{cy}}\\right)^{2} \\left(\\sigma_\\mathrm{cu} \\varepsilon - \\sigma_\\mathrm{cu} \\varepsilon_{\\mathrm{cy}} - \\sigma_\\mathrm{cy} \\varepsilon + \\sigma_\\mathrm{cy} \\varepsilon_{\\mathrm{cu}} + 2 \\sigma_\\mathrm{cy} \\left(\\varepsilon_{\\mathrm{cu}} - \\varepsilon_{\\mathrm{cy}}\\right)\\right)}{3 \\varepsilon \\left(\\sigma_\\mathrm{cy} \\varepsilon_{\\mathrm{cy}} \\left(\\varepsilon_{\\mathrm{cu}} - \\varepsilon_{\\mathrm{cy}}\\right) + \\left(\\varepsilon - \\varepsilon_{\\mathrm{cy}}\\right) \\left(\\sigma_\\mathrm{cu} \\varepsilon - \\sigma_\\mathrm{cu} \\varepsilon_{\\mathrm{cy}} - \\sigma_\\mathrm{cy} \\varepsilon + \\sigma_\\mathrm{cy} \\varepsilon_{\\mathrm{cu}} + \\sigma_\\mathrm{cy} \\left(\\varepsilon_{\\mathrm{cu}} - \\varepsilon_{\\mathrm{cy}}\\right)\\right)\\right)}$"
     },
     "execution_count": 181,
     "metadata": {},
     "output_type": "execute_result"
    }
   ],
   "execution_count": 181
  },
  {
   "cell_type": "code",
   "metadata": {
    "ExecuteTime": {
     "end_time": "2024-05-19T22:23:07.130171Z",
     "start_time": "2024-05-19T22:23:07.077512Z"
    }
   },
   "source": [
    "# ce: the distance from the top of the cross section to the centroid of concrete compression block\n",
    "eps_f = sigma_f / E_f\n",
    "c = d * eps/(eps + eps_f)\n",
    "c2 = c.subs({eps: eps_cu})\n",
    "ce2 = ce2_eps_fraction.subs({eps: eps_cu}) * c2\n",
    "ce2 = sp.simplify(ce2)\n",
    "ce2"
   ],
   "outputs": [
    {
     "data": {
      "text/plain": [
       "E_{\\mathrm{f}}*d*(\\sigma_\\mathrm{cy}*\\varepsilon_{\\mathrm{cy}}*(3*\\varepsilon_{\\mathrm{cu}} - 2*\\varepsilon_{\\mathrm{cy}}) + (\\varepsilon_{\\mathrm{cu}} - \\varepsilon_{\\mathrm{cy}})*(\\sigma_\\mathrm{cu}*\\varepsilon_{\\mathrm{cu}} - \\sigma_\\mathrm{cu}*\\varepsilon_{\\mathrm{cy}} + 2*\\sigma_\\mathrm{cy}*(\\varepsilon_{\\mathrm{cu}} - \\varepsilon_{\\mathrm{cy}})))/(3*(E_{\\mathrm{f}}*\\varepsilon_{\\mathrm{cu}} + \\sigma_{\\mathrm{f}})*(\\sigma_\\mathrm{cu}*\\varepsilon_{\\mathrm{cu}} - \\sigma_\\mathrm{cu}*\\varepsilon_{\\mathrm{cy}} + \\sigma_\\mathrm{cy}*\\varepsilon_{\\mathrm{cy}} + \\sigma_\\mathrm{cy}*(\\varepsilon_{\\mathrm{cu}} - \\varepsilon_{\\mathrm{cy}})))"
      ],
      "text/latex": "$\\displaystyle \\frac{E_{\\mathrm{f}} d \\left(\\sigma_\\mathrm{cy} \\varepsilon_{\\mathrm{cy}} \\left(3 \\varepsilon_{\\mathrm{cu}} - 2 \\varepsilon_{\\mathrm{cy}}\\right) + \\left(\\varepsilon_{\\mathrm{cu}} - \\varepsilon_{\\mathrm{cy}}\\right) \\left(\\sigma_\\mathrm{cu} \\varepsilon_{\\mathrm{cu}} - \\sigma_\\mathrm{cu} \\varepsilon_{\\mathrm{cy}} + 2 \\sigma_\\mathrm{cy} \\left(\\varepsilon_{\\mathrm{cu}} - \\varepsilon_{\\mathrm{cy}}\\right)\\right)\\right)}{3 \\left(E_{\\mathrm{f}} \\varepsilon_{\\mathrm{cu}} + \\sigma_{\\mathrm{f}}\\right) \\left(\\sigma_\\mathrm{cu} \\varepsilon_{\\mathrm{cu}} - \\sigma_\\mathrm{cu} \\varepsilon_{\\mathrm{cy}} + \\sigma_\\mathrm{cy} \\varepsilon_{\\mathrm{cy}} + \\sigma_\\mathrm{cy} \\left(\\varepsilon_{\\mathrm{cu}} - \\varepsilon_{\\mathrm{cy}}\\right)\\right)}$"
     },
     "execution_count": 182,
     "metadata": {},
     "output_type": "execute_result"
    }
   ],
   "execution_count": 182
  },
  {
   "cell_type": "code",
   "metadata": {
    "ExecuteTime": {
     "end_time": "2024-05-19T22:23:07.338136Z",
     "start_time": "2024-05-19T22:23:07.131046Z"
    }
   },
   "source": [
    "F_t = A_f * sigma_f\n",
    "sig_z_area = area_up_to_eps_part_2.subs({eps:eps_cu}) * (c.subs({eps:eps_cu}) / eps_cu)\n",
    "F_c = sig_z_area * b\n",
    "sigma_f_sol = sp.solve(F_t - F_c, sigma_f)[1].subs({A_f:rho_f * b * d})\n",
    "sigma_f_sol = sp.simplify(sigma_f_sol)\n",
    "\n",
    "# Note: if sigma_f > f_fu then FRP reinforcement will fail on tension (most probably a rho_f < rho_fb is used)\n",
    "sigma_f_ = sp.Min(sigma_f_sol, f_fu)\n",
    "sigma_f_"
   ],
   "outputs": [
    {
     "data": {
      "text/plain": [
       "Min(f_{\\mathrm{fu}}, sqrt(E_{\\mathrm{f}})*sqrt(E_{\\mathrm{f}}*\\rho_{\\mathrm{f}}*\\varepsilon_{\\mathrm{cu}}**2 + 2*\\sigma_\\mathrm{cu}*\\varepsilon_{\\mathrm{cu}} - 2*\\sigma_\\mathrm{cu}*\\varepsilon_{\\mathrm{cy}} + 2*\\sigma_\\mathrm{cy}*\\varepsilon_{\\mathrm{cu}})/(2*sqrt(\\rho_{\\mathrm{f}})) - E_{\\mathrm{f}}*\\varepsilon_{\\mathrm{cu}}/2)"
      ],
      "text/latex": "$\\displaystyle \\min\\left(f_{\\mathrm{fu}}, \\frac{\\sqrt{E_{\\mathrm{f}}} \\sqrt{E_{\\mathrm{f}} \\rho_{\\mathrm{f}} \\varepsilon_{\\mathrm{cu}}^{2} + 2 \\sigma_\\mathrm{cu} \\varepsilon_{\\mathrm{cu}} - 2 \\sigma_\\mathrm{cu} \\varepsilon_{\\mathrm{cy}} + 2 \\sigma_\\mathrm{cy} \\varepsilon_{\\mathrm{cu}}}}{2 \\sqrt{\\rho_{\\mathrm{f}}}} - \\frac{E_{\\mathrm{f}} \\varepsilon_{\\mathrm{cu}}}{2}\\right)$"
     },
     "execution_count": 183,
     "metadata": {},
     "output_type": "execute_result"
    }
   ],
   "execution_count": 183
  },
  {
   "cell_type": "code",
   "metadata": {
    "ExecuteTime": {
     "end_time": "2024-05-19T22:23:07.343268Z",
     "start_time": "2024-05-19T22:23:07.339856Z"
    }
   },
   "source": [
    "psi_f = sigma_f / f_fu\n",
    "psi_f"
   ],
   "outputs": [
    {
     "data": {
      "text/plain": [
       "\\sigma_{\\mathrm{f}}/f_{\\mathrm{fu}}"
      ],
      "text/latex": "$\\displaystyle \\frac{\\sigma_{\\mathrm{f}}}{f_{\\mathrm{fu}}}$"
     },
     "execution_count": 184,
     "metadata": {},
     "output_type": "execute_result"
    }
   ],
   "execution_count": 184
  },
  {
   "cell_type": "code",
   "metadata": {
    "ExecuteTime": {
     "end_time": "2024-05-19T22:23:07.347315Z",
     "start_time": "2024-05-19T22:23:07.344100Z"
    }
   },
   "source": [
    "test_vals= {f_cm:50, b:400, d:180, f_fu:2500, E_f:200000, \n",
    "            A_f:250, \n",
    "            rho_f:250/(180*400),\n",
    "            E_cc:EC2.get_E_cm(50-8), \n",
    "            eps_cy:EC2.get_eps_c1(50-8),\n",
    "           eps_cu:EC2.get_eps_cu1(50-8)}"
   ],
   "outputs": [],
   "execution_count": 185
  },
  {
   "cell_type": "code",
   "metadata": {
    "ExecuteTime": {
     "end_time": "2024-05-19T22:23:07.504404Z",
     "start_time": "2024-05-19T22:23:07.426333Z"
    }
   },
   "source": [
    "sp.N(sigma_f_.subs(sigma_cy_cu_vals).subs(test_vals))"
   ],
   "outputs": [
    {
     "data": {
      "text/plain": [
       "2389.10736554291"
      ],
      "text/latex": "$\\displaystyle 2389.10736554291$"
     },
     "execution_count": 186,
     "metadata": {},
     "output_type": "execute_result"
    }
   ],
   "execution_count": 186
  },
  {
   "cell_type": "code",
   "metadata": {
    "ExecuteTime": {
     "end_time": "2024-05-19T22:23:07.681241Z",
     "start_time": "2024-05-19T22:23:07.614141Z"
    }
   },
   "source": [
    "M_n_2 = A_f * sigma_f * (d - ce2)\n",
    "M_n_2 = sp.simplify(M_n_2)\n",
    "M_n_2\n",
    "\n",
    "# for rho<rho_fb but F_t > F_c_cy, a conservative approx is to USE THIS TOO, but with replacing sigma_f with f_fu ;)\n",
    "# even if sigma_f is used it will retrun f_fu as it's limited not to exceed it"
   ],
   "outputs": [
    {
     "data": {
      "text/plain": [
       "-A_{\\mathrm{f}}*\\sigma_{\\mathrm{f}}*d*(E_{\\mathrm{f}}*(\\sigma_\\mathrm{cy}*\\varepsilon_{\\mathrm{cy}}*(3*\\varepsilon_{\\mathrm{cu}} - 2*\\varepsilon_{\\mathrm{cy}}) + (\\varepsilon_{\\mathrm{cu}} - \\varepsilon_{\\mathrm{cy}})*(\\sigma_\\mathrm{cu}*\\varepsilon_{\\mathrm{cu}} - \\sigma_\\mathrm{cu}*\\varepsilon_{\\mathrm{cy}} + 2*\\sigma_\\mathrm{cy}*(\\varepsilon_{\\mathrm{cu}} - \\varepsilon_{\\mathrm{cy}}))) - 3*(E_{\\mathrm{f}}*\\varepsilon_{\\mathrm{cu}} + \\sigma_{\\mathrm{f}})*(\\sigma_\\mathrm{cu}*\\varepsilon_{\\mathrm{cu}} - \\sigma_\\mathrm{cu}*\\varepsilon_{\\mathrm{cy}} + \\sigma_\\mathrm{cy}*\\varepsilon_{\\mathrm{cy}} + \\sigma_\\mathrm{cy}*(\\varepsilon_{\\mathrm{cu}} - \\varepsilon_{\\mathrm{cy}})))/(3*(E_{\\mathrm{f}}*\\varepsilon_{\\mathrm{cu}} + \\sigma_{\\mathrm{f}})*(\\sigma_\\mathrm{cu}*\\varepsilon_{\\mathrm{cu}} - \\sigma_\\mathrm{cu}*\\varepsilon_{\\mathrm{cy}} + \\sigma_\\mathrm{cy}*\\varepsilon_{\\mathrm{cy}} + \\sigma_\\mathrm{cy}*(\\varepsilon_{\\mathrm{cu}} - \\varepsilon_{\\mathrm{cy}})))"
      ],
      "text/latex": "$\\displaystyle - \\frac{A_{\\mathrm{f}} \\sigma_{\\mathrm{f}} d \\left(E_{\\mathrm{f}} \\left(\\sigma_\\mathrm{cy} \\varepsilon_{\\mathrm{cy}} \\left(3 \\varepsilon_{\\mathrm{cu}} - 2 \\varepsilon_{\\mathrm{cy}}\\right) + \\left(\\varepsilon_{\\mathrm{cu}} - \\varepsilon_{\\mathrm{cy}}\\right) \\left(\\sigma_\\mathrm{cu} \\varepsilon_{\\mathrm{cu}} - \\sigma_\\mathrm{cu} \\varepsilon_{\\mathrm{cy}} + 2 \\sigma_\\mathrm{cy} \\left(\\varepsilon_{\\mathrm{cu}} - \\varepsilon_{\\mathrm{cy}}\\right)\\right)\\right) - 3 \\left(E_{\\mathrm{f}} \\varepsilon_{\\mathrm{cu}} + \\sigma_{\\mathrm{f}}\\right) \\left(\\sigma_\\mathrm{cu} \\varepsilon_{\\mathrm{cu}} - \\sigma_\\mathrm{cu} \\varepsilon_{\\mathrm{cy}} + \\sigma_\\mathrm{cy} \\varepsilon_{\\mathrm{cy}} + \\sigma_\\mathrm{cy} \\left(\\varepsilon_{\\mathrm{cu}} - \\varepsilon_{\\mathrm{cy}}\\right)\\right)\\right)}{3 \\left(E_{\\mathrm{f}} \\varepsilon_{\\mathrm{cu}} + \\sigma_{\\mathrm{f}}\\right) \\left(\\sigma_\\mathrm{cu} \\varepsilon_{\\mathrm{cu}} - \\sigma_\\mathrm{cu} \\varepsilon_{\\mathrm{cy}} + \\sigma_\\mathrm{cy} \\varepsilon_{\\mathrm{cy}} + \\sigma_\\mathrm{cy} \\left(\\varepsilon_{\\mathrm{cu}} - \\varepsilon_{\\mathrm{cy}}\\right)\\right)}$"
     },
     "execution_count": 187,
     "metadata": {},
     "output_type": "execute_result"
    }
   ],
   "execution_count": 187
  },
  {
   "cell_type": "markdown",
   "metadata": {},
   "source": [
    "### Validation with Mk model\n",
    "\n",
    "\n",
    "M_u_mk_model = 97.76 kNm\n",
    "\n",
    "M_u_model = 97.65 kNm !!!\n",
    "\n",
    "M_u_aci = 81.72 kNm !!!"
   ]
  },
  {
   "cell_type": "code",
   "metadata": {
    "ExecuteTime": {
     "end_time": "2024-05-19T22:23:07.884754Z",
     "start_time": "2024-05-19T22:23:07.864961Z"
    }
   },
   "source": [
    "sp.N(M_n_2.subs({sigma_f:sigma_f_}).subs(sigma_cy_cu_vals).subs(test_vals) / 1e6)"
   ],
   "outputs": [
    {
     "data": {
      "text/plain": [
       "97.6504404760672"
      ],
      "text/latex": "$\\displaystyle 97.6504404760672$"
     },
     "execution_count": 188,
     "metadata": {},
     "output_type": "execute_result"
    }
   ],
   "execution_count": 188
  },
  {
   "cell_type": "code",
   "metadata": {
    "ExecuteTime": {
     "end_time": "2024-05-19T22:23:08.062923Z",
     "start_time": "2024-05-19T22:23:08.058679Z"
    }
   },
   "source": [
    "ACI440.get_M_n(A_f=250, f_fu=2500, E_f=200000, f_c=50, b=400, d=180)"
   ],
   "outputs": [
    {
     "data": {
      "text/plain": [
       "np.float64(81.72727250760829)"
      ]
     },
     "execution_count": 189,
     "metadata": {},
     "output_type": "execute_result"
    }
   ],
   "execution_count": 189
  },
  {
   "cell_type": "markdown",
   "metadata": {},
   "source": [
    "### Validation with T1 bending experiment"
   ]
  },
  {
   "cell_type": "code",
   "metadata": {
    "ExecuteTime": {
     "end_time": "2024-05-19T22:23:08.203695Z",
     "start_time": "2024-05-19T22:23:08.147367Z"
    }
   },
   "source": [
    "sp.N(M_n_2.subs({sigma_f:sigma_f_}).subs(sigma_cy_cu_vals).subs(T1_data) / 1e6)"
   ],
   "outputs": [
    {
     "data": {
      "text/plain": [
       "9.45696190033025"
      ],
      "text/latex": "$\\displaystyle 9.45696190033025$"
     },
     "execution_count": 190,
     "metadata": {},
     "output_type": "execute_result"
    }
   ],
   "execution_count": 190
  },
  {
   "cell_type": "code",
   "metadata": {
    "ExecuteTime": {
     "end_time": "2024-05-19T22:23:08.352191Z",
     "start_time": "2024-05-19T22:23:08.349754Z"
    }
   },
   "source": [
    "ACI440.get_M_n(A_f=T1_data[A_f], f_fu=T1_data[f_fu], E_f=T1_data[E_f], f_c=T1_data[f_cm], b=T1_data[b], d=T1_data[d])"
   ],
   "outputs": [
    {
     "data": {
      "text/plain": [
       "9.439980300822834"
      ]
     },
     "execution_count": 191,
     "metadata": {},
     "output_type": "execute_result"
    }
   ],
   "execution_count": 191
  },
  {
   "cell_type": "code",
   "metadata": {
    "ExecuteTime": {
     "end_time": "2024-05-19T22:23:08.411962Z",
     "start_time": "2024-05-19T22:23:08.405670Z"
    }
   },
   "source": [
    "sp.N(rho_fb.subs({sigma_f:sigma_f_}).subs(sigma_cy_cu_vals).subs(T1_data))"
   ],
   "outputs": [
    {
     "data": {
      "text/plain": [
       "0.00230061827749369"
      ],
      "text/latex": "$\\displaystyle 0.00230061827749369$"
     },
     "execution_count": 192,
     "metadata": {},
     "output_type": "execute_result"
    }
   ],
   "execution_count": 192
  },
  {
   "cell_type": "code",
   "metadata": {
    "ExecuteTime": {
     "end_time": "2024-05-19T22:23:08.549395Z",
     "start_time": "2024-05-19T22:23:08.546881Z"
    }
   },
   "source": [
    "ACI440.get_rho_balanced(f_c=T1_data[f_cm], f_fu=T1_data[f_fu], E_f=T1_data[E_f])"
   ],
   "outputs": [
    {
     "data": {
      "text/plain": [
       "0.0023169231194534973"
      ]
     },
     "execution_count": 193,
     "metadata": {},
     "output_type": "execute_result"
    }
   ],
   "execution_count": 193
  },
  {
   "cell_type": "code",
   "metadata": {
    "ExecuteTime": {
     "end_time": "2024-05-19T22:23:08.701951Z",
     "start_time": "2024-05-19T22:23:08.615384Z"
    }
   },
   "source": [
    "fig, ax = plt.subplots()\n",
    "rho_list = np.linspace(0.1/100, 2.5/100, 200)\n",
    "A_f_list = rho_list * 200 * 280\n",
    "get_M_n = sp.lambdify(A_f, M_n_2.subs({sigma_f:sigma_f_sol}).subs({rho_f:A_f/(b*d)}).subs(sigma_cy_cu_vals).subs({f_cm:48, b:200, d:280, f_fu:2500, E_f:158000, E_cc:EC2.get_E_cm(48-8), eps_cy:EC2.get_eps_c1(48-8), eps_cu:EC2.get_eps_cu1(48-8)}), 'numpy')\n",
    "\n",
    "get_M_n_aci = np.zeros_like(rho_list)\n",
    "for i, A_f_ in enumerate(A_f_list):\n",
    "    get_M_n_aci[i] = ACI440.get_M_n(A_f=A_f_, f_fu=2500, E_f=158000, f_c=48, b=200, d=280)\n",
    "\n",
    "ax.plot(rho_list, get_M_n(A_f_list)/1e6)\n",
    "ax.plot(rho_list, get_M_n_aci, label='ACI')\n",
    "ax.legend()"
   ],
   "outputs": [
    {
     "data": {
      "text/plain": [
       "<matplotlib.legend.Legend at 0x12fce5dc0>"
      ]
     },
     "execution_count": 194,
     "metadata": {},
     "output_type": "execute_result"
    },
    {
     "data": {
      "text/plain": [
       "<Figure size 640x480 with 1 Axes>"
      ],
      "image/png": "[encoded data removed]"
     },
     "metadata": {},
     "output_type": "display_data"
    }
   ],
   "execution_count": 194
  },
  {
   "cell_type": "code",
   "metadata": {
    "ExecuteTime": {
     "end_time": "2024-05-19T22:23:08.770333Z",
     "start_time": "2024-05-19T22:23:08.768279Z"
    }
   },
   "source": [
    "ACI440.get_rho_balanced(f_c=48, f_fu=2500, E_f=158000)"
   ],
   "outputs": [
    {
     "data": {
      "text/plain": [
       "0.0018393513305793058"
      ]
     },
     "execution_count": 195,
     "metadata": {},
     "output_type": "execute_result"
    }
   ],
   "execution_count": 195
  },
  {
   "cell_type": "code",
   "metadata": {
    "ExecuteTime": {
     "end_time": "2024-05-19T22:23:08.824166Z",
     "start_time": "2024-05-19T22:23:08.819730Z"
    }
   },
   "source": [
    "rho_fb.subs({sigma_f:sigma_f_sol, rho_f:A_f/(b*d)}).subs(sigma_cy_cu_vals).subs({f_cm:48, b:200, d:280, f_fu:2500, E_f:158000, E_cc:EC2.get_E_cm(48-8), eps_cy:EC2.get_eps_c1(48-8), eps_cu:EC2.get_eps_cu1(48-8)})"
   ],
   "outputs": [
    {
     "data": {
      "text/plain": [
       "0.00255381989675629"
      ],
      "text/latex": "$\\displaystyle 0.00255381989675629$"
     },
     "execution_count": 196,
     "metadata": {},
     "output_type": "execute_result"
    }
   ],
   "execution_count": 196
  },
  {
   "cell_type": "markdown",
   "metadata": {},
   "source": [
    "### Validation with experiments\n",
    "\n",
    "**BC2HA** beam from Thériault1998_Effects of FRP Reinforcement Ratio and Concrete Strength on Flexural Behavior of Concrete Beams.pdf\n",
    "\n",
    "M_u_experiment = 19.7 kNm\n",
    "\n",
    "M_u_model = 19.7 kNm !!!\n",
    "\n",
    "M_u_aci = 16 kNm !!!"
   ]
  },
  {
   "cell_type": "code",
   "metadata": {
    "ExecuteTime": {
     "end_time": "2024-05-19T22:23:09.080296Z",
     "start_time": "2024-05-19T22:23:09.004128Z"
    }
   },
   "source": [
    "sp.N(M_n_2.subs({sigma_f:sigma_f_}).subs(sigma_cy_cu_vals).subs({f_cm:57.2, b:130, d:180-20-6-12.3/2, f_fu:773, E_f:38000,  rho_f:2*np.pi*(12.3/2)**2/(130*(180-20-6-12.3/2)), A_f:2*np.pi*(12.3/2)**2, E_cc:EC2.get_E_cm(57.2-8), eps_cy:EC2.get_eps_c1(57.2-8), eps_cu:EC2.get_eps_cu1(57.2-8)}) / 1e6)"
   ],
   "outputs": [
    {
     "data": {
      "text/plain": [
       "19.7172786302442"
      ],
      "text/latex": "$\\displaystyle 19.7172786302442$"
     },
     "execution_count": 197,
     "metadata": {},
     "output_type": "execute_result"
    }
   ],
   "execution_count": 197
  },
  {
   "cell_type": "code",
   "metadata": {
    "ExecuteTime": {
     "end_time": "2024-05-19T22:23:09.084282Z",
     "start_time": "2024-05-19T22:23:09.081557Z"
    }
   },
   "source": [
    "ACI440.get_M_n(A_f=2*np.pi*(12.3/2)**2, f_fu=773, E_f=38000, f_c=57.2, b=130, d=180-20-6-12.3/2)"
   ],
   "outputs": [
    {
     "data": {
      "text/plain": [
       "np.float64(16.014750484294655)"
      ]
     },
     "execution_count": 198,
     "metadata": {},
     "output_type": "execute_result"
    }
   ],
   "execution_count": 198
  },
  {
   "cell_type": "markdown",
   "metadata": {},
   "source": [
    "### Reduce and print formula"
   ]
  },
  {
   "cell_type": "code",
   "metadata": {
    "ExecuteTime": {
     "end_time": "2024-05-19T22:23:09.171287Z",
     "start_time": "2024-05-19T22:23:09.166138Z"
    }
   },
   "source": [
    "# packaging common terms\n",
    "M_n_2_reduced = sp.cse(M_n_2)\n",
    "M_n_2_reduced"
   ],
   "outputs": [
    {
     "data": {
      "text/plain": [
       "([(x0, E_{\\mathrm{f}}*\\varepsilon_{\\mathrm{cu}} + \\sigma_{\\mathrm{f}}),\n",
       "  (x1, \\sigma_\\mathrm{cy}*\\varepsilon_{\\mathrm{cy}}),\n",
       "  (x2, \\varepsilon_{\\mathrm{cu}} - \\varepsilon_{\\mathrm{cy}}),\n",
       "  (x3, \\sigma_\\mathrm{cy}*x2),\n",
       "  (x4,\n",
       "   \\sigma_\\mathrm{cu}*\\varepsilon_{\\mathrm{cu}} - \\sigma_\\mathrm{cu}*\\varepsilon_{\\mathrm{cy}}),\n",
       "  (x5, x1 + x3 + x4)],\n",
       " [-A_{\\mathrm{f}}*\\sigma_{\\mathrm{f}}*d*(E_{\\mathrm{f}}*(x1*(3*\\varepsilon_{\\mathrm{cu}} - 2*\\varepsilon_{\\mathrm{cy}}) + x2*(2*x3 + x4)) - 3*x0*x5)/(3*x0*x5)])"
      ]
     },
     "execution_count": 199,
     "metadata": {},
     "output_type": "execute_result"
    }
   ],
   "execution_count": 199
  },
  {
   "cell_type": "code",
   "metadata": {
    "ExecuteTime": {
     "end_time": "2024-05-19T22:23:09.203096Z",
     "start_time": "2024-05-19T22:23:09.199407Z"
    }
   },
   "source": [
    "M_n_2_reduced[-1][0]"
   ],
   "outputs": [
    {
     "data": {
      "text/plain": [
       "-A_{\\mathrm{f}}*\\sigma_{\\mathrm{f}}*d*(E_{\\mathrm{f}}*(x1*(3*\\varepsilon_{\\mathrm{cu}} - 2*\\varepsilon_{\\mathrm{cy}}) + x2*(2*x3 + x4)) - 3*x0*x5)/(3*x0*x5)"
      ],
      "text/latex": "$\\displaystyle - \\frac{A_{\\mathrm{f}} \\sigma_{\\mathrm{f}} d \\left(E_{\\mathrm{f}} \\left(x_{1} \\cdot \\left(3 \\varepsilon_{\\mathrm{cu}} - 2 \\varepsilon_{\\mathrm{cy}}\\right) + x_{2} \\cdot \\left(2 x_{3} + x_{4}\\right)\\right) - 3 x_{0} x_{5}\\right)}{3 x_{0} x_{5}}$"
     },
     "execution_count": 200,
     "metadata": {},
     "output_type": "execute_result"
    }
   ],
   "execution_count": 200
  },
  {
   "cell_type": "code",
   "metadata": {
    "ExecuteTime": {
     "end_time": "2024-05-19T22:23:09.366839Z",
     "start_time": "2024-05-19T22:23:09.362110Z"
    }
   },
   "source": [
    "symb_exp_list = [[s, e] for (s, e) in M_n_2_reduced[0]]\n",
    "for symb_exp in symb_exp_list:\n",
    "    symb_exp[1] = symb_exp[1].subs({s:e for (s, e) in symb_exp_list})\n",
    "symb_exp_list"
   ],
   "outputs": [
    {
     "data": {
      "text/plain": [
       "[[x0, E_{\\mathrm{f}}*\\varepsilon_{\\mathrm{cu}} + \\sigma_{\\mathrm{f}}],\n",
       " [x1, \\sigma_\\mathrm{cy}*\\varepsilon_{\\mathrm{cy}}],\n",
       " [x2, \\varepsilon_{\\mathrm{cu}} - \\varepsilon_{\\mathrm{cy}}],\n",
       " [x3,\n",
       "  \\sigma_\\mathrm{cy}*(\\varepsilon_{\\mathrm{cu}} - \\varepsilon_{\\mathrm{cy}})],\n",
       " [x4,\n",
       "  \\sigma_\\mathrm{cu}*\\varepsilon_{\\mathrm{cu}} - \\sigma_\\mathrm{cu}*\\varepsilon_{\\mathrm{cy}}],\n",
       " [x5,\n",
       "  \\sigma_\\mathrm{cu}*\\varepsilon_{\\mathrm{cu}} - \\sigma_\\mathrm{cu}*\\varepsilon_{\\mathrm{cy}} + \\sigma_\\mathrm{cy}*\\varepsilon_{\\mathrm{cy}} + \\sigma_\\mathrm{cy}*(\\varepsilon_{\\mathrm{cu}} - \\varepsilon_{\\mathrm{cy}})]]"
      ]
     },
     "execution_count": 201,
     "metadata": {},
     "output_type": "execute_result"
    }
   ],
   "execution_count": 201
  },
  {
   "cell_type": "code",
   "metadata": {
    "ExecuteTime": {
     "end_time": "2024-05-19T22:23:09.511794Z",
     "start_time": "2024-05-19T22:23:09.470399Z"
    }
   },
   "source": [
    "d_eps = sp.symbols(r'\\varepsilon_{\\Delta}')\n",
    "M_n_2_reduced_final = sp.simplify(M_n_2_reduced[-1][0].subs({sym: exp for sym, exp in symb_exp_list[:-1]}).subs({eps_cu - eps_cy: d_eps}))\n",
    "M_n_2_reduced_final"
   ],
   "outputs": [
    {
     "data": {
      "text/plain": [
       "-A_{\\mathrm{f}}*\\sigma_{\\mathrm{f}}*d*(E_{\\mathrm{f}}*(\\sigma_\\mathrm{cy}*\\varepsilon_{\\mathrm{cy}}*(3*\\varepsilon_{\\mathrm{cu}} - 2*\\varepsilon_{\\mathrm{cy}}) + \\varepsilon_{\\Delta}*(\\sigma_\\mathrm{cu}*\\varepsilon_{\\mathrm{cu}} - \\sigma_\\mathrm{cu}*\\varepsilon_{\\mathrm{cy}} + 2*\\sigma_\\mathrm{cy}*\\varepsilon_{\\Delta})) - 3*x5*(E_{\\mathrm{f}}*\\varepsilon_{\\mathrm{cu}} + \\sigma_{\\mathrm{f}}))/(3*x5*(E_{\\mathrm{f}}*\\varepsilon_{\\mathrm{cu}} + \\sigma_{\\mathrm{f}}))"
      ],
      "text/latex": "$\\displaystyle - \\frac{A_{\\mathrm{f}} \\sigma_{\\mathrm{f}} d \\left(E_{\\mathrm{f}} \\left(\\sigma_\\mathrm{cy} \\varepsilon_{\\mathrm{cy}} \\left(3 \\varepsilon_{\\mathrm{cu}} - 2 \\varepsilon_{\\mathrm{cy}}\\right) + \\varepsilon_{\\Delta} \\left(\\sigma_\\mathrm{cu} \\varepsilon_{\\mathrm{cu}} - \\sigma_\\mathrm{cu} \\varepsilon_{\\mathrm{cy}} + 2 \\sigma_\\mathrm{cy} \\varepsilon_{\\Delta}\\right)\\right) - 3 x_{5} \\left(E_{\\mathrm{f}} \\varepsilon_{\\mathrm{cu}} + \\sigma_{\\mathrm{f}}\\right)\\right)}{3 x_{5} \\left(E_{\\mathrm{f}} \\varepsilon_{\\mathrm{cu}} + \\sigma_{\\mathrm{f}}\\right)}$"
     },
     "execution_count": 202,
     "metadata": {},
     "output_type": "execute_result"
    }
   ],
   "execution_count": 202
  },
  {
   "cell_type": "code",
   "metadata": {
    "ExecuteTime": {
     "end_time": "2024-05-19T22:23:09.592498Z",
     "start_time": "2024-05-19T22:23:09.582327Z"
    }
   },
   "source": [
    "x5_final = sp.simplify(symb_exp_list[5][1].subs({eps_cu: d_eps + eps_cy}))\n",
    "x5_final"
   ],
   "outputs": [
    {
     "data": {
      "text/plain": [
       "\\sigma_\\mathrm{cu}*\\varepsilon_{\\Delta} + \\sigma_\\mathrm{cy}*\\varepsilon_{\\Delta} + \\sigma_\\mathrm{cy}*\\varepsilon_{\\mathrm{cy}}"
      ],
      "text/latex": "$\\displaystyle \\sigma_\\mathrm{cu} \\varepsilon_{\\Delta} + \\sigma_\\mathrm{cy} \\varepsilon_{\\Delta} + \\sigma_\\mathrm{cy} \\varepsilon_{\\mathrm{cy}}$"
     },
     "execution_count": 203,
     "metadata": {},
     "output_type": "execute_result"
    }
   ],
   "execution_count": 203
  },
  {
   "cell_type": "code",
   "metadata": {
    "ExecuteTime": {
     "end_time": "2024-05-19T22:23:09.674881Z",
     "start_time": "2024-05-19T22:23:09.646853Z"
    }
   },
   "source": [
    "sp.simplify(M_n_2_reduced[-1][0].subs({sym: exp for sym, exp in symb_exp_list[:-1]}).subs({eps_cu - eps_cy: d_eps}))"
   ],
   "outputs": [
    {
     "data": {
      "text/plain": [
       "-A_{\\mathrm{f}}*\\sigma_{\\mathrm{f}}*d*(E_{\\mathrm{f}}*(\\sigma_\\mathrm{cy}*\\varepsilon_{\\mathrm{cy}}*(3*\\varepsilon_{\\mathrm{cu}} - 2*\\varepsilon_{\\mathrm{cy}}) + \\varepsilon_{\\Delta}*(\\sigma_\\mathrm{cu}*\\varepsilon_{\\mathrm{cu}} - \\sigma_\\mathrm{cu}*\\varepsilon_{\\mathrm{cy}} + 2*\\sigma_\\mathrm{cy}*\\varepsilon_{\\Delta})) - 3*x5*(E_{\\mathrm{f}}*\\varepsilon_{\\mathrm{cu}} + \\sigma_{\\mathrm{f}}))/(3*x5*(E_{\\mathrm{f}}*\\varepsilon_{\\mathrm{cu}} + \\sigma_{\\mathrm{f}}))"
      ],
      "text/latex": "$\\displaystyle - \\frac{A_{\\mathrm{f}} \\sigma_{\\mathrm{f}} d \\left(E_{\\mathrm{f}} \\left(\\sigma_\\mathrm{cy} \\varepsilon_{\\mathrm{cy}} \\left(3 \\varepsilon_{\\mathrm{cu}} - 2 \\varepsilon_{\\mathrm{cy}}\\right) + \\varepsilon_{\\Delta} \\left(\\sigma_\\mathrm{cu} \\varepsilon_{\\mathrm{cu}} - \\sigma_\\mathrm{cu} \\varepsilon_{\\mathrm{cy}} + 2 \\sigma_\\mathrm{cy} \\varepsilon_{\\Delta}\\right)\\right) - 3 x_{5} \\left(E_{\\mathrm{f}} \\varepsilon_{\\mathrm{cu}} + \\sigma_{\\mathrm{f}}\\right)\\right)}{3 x_{5} \\left(E_{\\mathrm{f}} \\varepsilon_{\\mathrm{cu}} + \\sigma_{\\mathrm{f}}\\right)}$"
     },
     "execution_count": 204,
     "metadata": {},
     "output_type": "execute_result"
    }
   ],
   "execution_count": 204
  },
  {
   "cell_type": "code",
   "metadata": {
    "ExecuteTime": {
     "end_time": "2024-05-19T22:23:09.810158Z",
     "start_time": "2024-05-19T22:23:09.807488Z"
    }
   },
   "source": [
    "sp.print_latex(M_n_2_reduced_final)"
   ],
   "outputs": [
    {
     "name": "stdout",
     "output_type": "stream",
     "text": [
      "- \\frac{A_{\\mathrm{f}} \\sigma_{\\mathrm{f}} d \\left(E_{\\mathrm{f}} \\left(\\sigma_\\mathrm{cy} \\varepsilon_{\\mathrm{cy}} \\left(3 \\varepsilon_{\\mathrm{cu}} - 2 \\varepsilon_{\\mathrm{cy}}\\right) + \\varepsilon_{\\Delta} \\left(\\sigma_\\mathrm{cu} \\varepsilon_{\\mathrm{cu}} - \\sigma_\\mathrm{cu} \\varepsilon_{\\mathrm{cy}} + 2 \\sigma_\\mathrm{cy} \\varepsilon_{\\Delta}\\right)\\right) - 3 x_{5} \\left(E_{\\mathrm{f}} \\varepsilon_{\\mathrm{cu}} + \\sigma_{\\mathrm{f}}\\right)\\right)}{3 x_{5} \\left(E_{\\mathrm{f}} \\varepsilon_{\\mathrm{cu}} + \\sigma_{\\mathrm{f}}\\right)}\n"
     ]
    }
   ],
   "execution_count": 205
  },
  {
   "cell_type": "code",
   "metadata": {
    "ExecuteTime": {
     "end_time": "2024-05-19T22:23:09.888130Z",
     "start_time": "2024-05-19T22:23:09.886163Z"
    }
   },
   "source": [
    "sp.print_latex(x5_final)"
   ],
   "outputs": [
    {
     "name": "stdout",
     "output_type": "stream",
     "text": [
      "\\sigma_\\mathrm{cu} \\varepsilon_{\\Delta} + \\sigma_\\mathrm{cy} \\varepsilon_{\\Delta} + \\sigma_\\mathrm{cy} \\varepsilon_{\\mathrm{cy}}\n"
     ]
    }
   ],
   "execution_count": 206
  },
  {
   "cell_type": "markdown",
   "metadata": {},
   "source": [
    "### Final $M_u$ formula\n",
    "\n",
    "For $\\rho_\\mathrm{f} > \\rho_\\mathrm{f, cy}$, flexural capacity is given\n",
    "\n",
    "$M_\\mathrm{u,cu} = \\frac{A_{f} d f_{f} \n",
    "\\bigg(\n",
    "3 m_0 \\left(E_{f} \\varepsilon_{cu} + f_{f}\\right) \n",
    "- E_{f} \\big(\\Delta\\varepsilon^2 \\left(2 f_{cm_{cy}} + f_{cm_{cu}} \\right)\n",
    "~+~f_{cm_{cy}} \\varepsilon_{cy} \\left(3 \\varepsilon_{cu} - 2 \\varepsilon_{cy}\\right)\\big)\\bigg)}\n",
    "{3 m_0 \\left(E_{f} \\varepsilon_{cu} + f_{f}\\right)}$\n",
    "\n",
    "with\n",
    "\n",
    "$m_0 = \\Delta\\varepsilon f_{cm_{cu}} + \\Delta\\varepsilon f_{cm_{cy}} + f_{cm_{cy}} \\varepsilon_{cy}$\n",
    "\n",
    "and\n",
    "\n",
    "$\\Delta\\varepsilon = \\varepsilon_\\mathrm{cu} - \\varepsilon_\\mathrm{cy}$\n",
    "\n",
    "<!-- \\begin{align}\n",
    "m_1 & = \\sqrt{E_\\mathrm{f}} b d f_\\mathrm{cm, cy}, \\\\\n",
    "m_2 & =  E_f \\Bigg( \\sqrt{A_\\mathrm{f} \\varepsilon_\\mathrm{cy} \\cdot \\bigg(A_\\mathrm{f} E_\\mathrm{f} \\varepsilon_\\mathrm{cy} + \\frac{2 m_1}{\\sqrt{E_\\mathrm{f}}}\\bigg)} + A_\\mathrm{f}~\\varepsilon_\\mathrm{cy}~\\sqrt{E_\\mathrm{f}} \\Bigg)\n",
    "\\end{align} -->\n",
    "\n",
    "Note: this formula is exact for $\\rho_\\mathrm{f} > \\rho_\\mathrm{fb}$, but for $\\rho_\\mathrm{f, cy} < \\rho_\\mathrm{f} < \\rho_\\mathrm{fb}$ it's a conservative approx. considering the whole concrete block which gives larger ce resulting in smaller M_u"
   ]
  },
  {
   "cell_type": "markdown",
   "metadata": {},
   "source": [
    "## Ultimate curvature $\\kappa$ for part 2 with $\\varepsilon_c = \\varepsilon_{cu}$ ($\\rho_f \\ge \\rho_{fb}$)\n",
    "\n",
    "Valid for $\\rho_f \\ge \\rho_{fb}$"
   ]
  },
  {
   "cell_type": "code",
   "metadata": {
    "ExecuteTime": {
     "end_time": "2024-05-19T22:23:10.040965Z",
     "start_time": "2024-05-19T22:23:10.038128Z"
    }
   },
   "source": [
    "kappa_2 = eps_cu / c2\n",
    "kappa_2"
   ],
   "outputs": [
    {
     "data": {
      "text/plain": [
       "(\\varepsilon_{\\mathrm{cu}} + \\sigma_{\\mathrm{f}}/E_{\\mathrm{f}})/d"
      ],
      "text/latex": "$\\displaystyle \\frac{\\varepsilon_{\\mathrm{cu}} + \\frac{\\sigma_{\\mathrm{f}}}{E_{\\mathrm{f}}}}{d}$"
     },
     "execution_count": 207,
     "metadata": {},
     "output_type": "execute_result"
    }
   ],
   "execution_count": 207
  },
  {
   "cell_type": "code",
   "metadata": {
    "ExecuteTime": {
     "end_time": "2024-05-19T22:23:10.084860Z",
     "start_time": "2024-05-19T22:23:10.067924Z"
    }
   },
   "source": [
    "# From MK tool I get almost 8.75 * 1e-5\n",
    "sp.N(kappa_2.subs({sigma_f:sigma_f_sol}).subs(sigma_cy_cu_vals).subs(test_vals))"
   ],
   "outputs": [
    {
     "data": {
      "text/plain": [
       "8.58085379317476e-5"
      ],
      "text/latex": "$\\displaystyle 8.58085379317476 \\cdot 10^{-5}$"
     },
     "execution_count": 208,
     "metadata": {},
     "output_type": "execute_result"
    }
   ],
   "execution_count": 208
  },
  {
   "cell_type": "markdown",
   "metadata": {},
   "source": [
    "## Ultimate curvature for $\\rho_{f, cy} < \\rho_f < \\rho_{fb}$\n",
    "A linear interpolation is done between k1 and k2"
   ]
  },
  {
   "cell_type": "code",
   "metadata": {
    "ExecuteTime": {
     "end_time": "2024-05-19T22:23:10.228476Z",
     "start_time": "2024-05-19T22:23:10.194867Z"
    }
   },
   "source": [
    "kappa_1_symb, kappa_2_symb, rho_f_cy_symb, rho_fb_symb, kappa_u = sp.symbols(r'\\kappa_\\mathrm{u1}, \\kappa_\\mathrm{u2}, \\rho_\\mathrm{fcy}, \\rho_\\mathrm{fb}, \\kappa_u', real=True, nonnegative=True)\n",
    "\n",
    "kappa_u_cy_fb = sp.Line(sp.Point(rho_f_cy_symb, kappa_1_symb), sp.Point(rho_fb_symb, kappa_2_symb))\n",
    "kappa_u_cy_fb_eq = kappa_u_cy_fb.equation(x=rho_f, y=kappa_u)\n",
    "kappa_u_cy_fb_eq_sol = sp.simplify(sp.solve(kappa_u_cy_fb_eq, kappa_u)[0])\n",
    "kappa_u_cy_fb_eq_sol"
   ],
   "outputs": [
    {
     "data": {
      "text/plain": [
       "(\\kappa_\\mathrm{u1}*\\rho_\\mathrm{fb} - \\kappa_\\mathrm{u1}*\\rho_{\\mathrm{f}} - \\kappa_\\mathrm{u2}*\\rho_\\mathrm{fcy} + \\kappa_\\mathrm{u2}*\\rho_{\\mathrm{f}})/(\\rho_\\mathrm{fb} - \\rho_\\mathrm{fcy})"
      ],
      "text/latex": "$\\displaystyle \\frac{\\kappa_\\mathrm{u1} \\rho_\\mathrm{fb} - \\kappa_\\mathrm{u1} \\rho_{\\mathrm{f}} - \\kappa_\\mathrm{u2} \\rho_\\mathrm{fcy} + \\kappa_\\mathrm{u2} \\rho_{\\mathrm{f}}}{\\rho_\\mathrm{fb} - \\rho_\\mathrm{fcy}}$"
     },
     "execution_count": 209,
     "metadata": {},
     "output_type": "execute_result"
    }
   ],
   "execution_count": 209
  },
  {
   "cell_type": "markdown",
   "metadata": {},
   "source": [
    "# Summary"
   ]
  },
  {
   "cell_type": "markdown",
   "metadata": {},
   "source": [
    "## Moment capacity\n",
    "\n",
    "Calculate $\\rho_\\mathrm{f,cy}$ as:\n",
    "\n",
    "$\n",
    "\\rho_\\mathrm{f,cy} = \\frac{E_\\mathrm{f} \\sigma_\\mathrm{cy} \\varepsilon_\\mathrm{cy}}{2 f_\\mathrm{fu} \\left(E_\\mathrm{f} \\varepsilon_\\mathrm{cy} + f_\\mathrm{fu}\\right)}$\n",
    "\n",
    "The ultimate flexural moment is given:\n",
    "\n",
    "\\begin{equation*}\n",
    "  M_\\mathrm{u}=\n",
    "  \\begin{cases}\n",
    "      M_\\mathrm{u,cy},\n",
    "    & \\rho_\\mathrm{f} \\le \\rho_\\mathrm{f,cy}\\\\\n",
    "      M_\\mathrm{u,cu},\n",
    "    & \\rho_\\mathrm{f} > \\rho_\\mathrm{f,cy}.\n",
    "  \\end{cases}\n",
    "\\end{equation*}"
   ]
  },
  {
   "cell_type": "markdown",
   "metadata": {},
   "source": [
    "### $M_\\mathrm{u,cy}$\n",
    "\n",
    "$M_\\mathrm{u,cy} = \\frac{A_\\mathrm{f} d f_\\mathrm{fu} \\left(3 m_{1} + 2 m_{2}\\right)}{3 \\left(m_{1} + m_{2}\\right)}$\n",
    "\n",
    "with\n",
    "\n",
    "\\begin{align}\n",
    "m_1 & = \\sqrt{E_\\mathrm{f}} b d \\sigma_\\mathrm{cy}, \\\\\n",
    "m_2 & =  E_f \\Bigg( \\sqrt{A_\\mathrm{f} \\varepsilon_\\mathrm{cy} \\cdot \\bigg(A_\\mathrm{f} E_\\mathrm{f} \\varepsilon_\\mathrm{cy} + \\frac{2 m_1}{\\sqrt{E_\\mathrm{f}}}\\bigg)} + A_\\mathrm{f}~\\varepsilon_\\mathrm{cy}~\\sqrt{E_\\mathrm{f}} \\Bigg), \\\\\n",
    "\\sigma_\\mathrm{cy} & = 10^{-3} f_\\mathrm{cm} \\cdot (1437.6204 - 2.7858 f_\\mathrm{cm})\n",
    "\\end{align}\n",
    "\n",
    "and according to EC2\n",
    "\n",
    "$\\varepsilon_\\mathrm{cy} = 0.001 \\cdot \\min\\left(2.8,~0.7 f_\\mathrm{cm}^{0.31}\\right)$"
   ]
  },
  {
   "cell_type": "code",
   "metadata": {
    "ExecuteTime": {
     "end_time": "2024-05-19T22:23:10.272689Z",
     "start_time": "2024-05-19T22:23:10.270113Z"
    }
   },
   "source": [
    "f_cm * sig_cy_scale"
   ],
   "outputs": [
    {
     "data": {
      "text/plain": [
       "f_{\\mathrm{cm}}*(1.43762037986179 - 0.00278582241716738*f_{\\mathrm{cm}})"
      ],
      "text/latex": "$\\displaystyle f_{\\mathrm{cm}} \\left(1.43762037986179 - 0.00278582241716738 f_{\\mathrm{cm}}\\right)$"
     },
     "execution_count": 210,
     "metadata": {},
     "output_type": "execute_result"
    }
   ],
   "execution_count": 210
  },
  {
   "cell_type": "code",
   "metadata": {
    "ExecuteTime": {
     "end_time": "2024-05-19T22:23:10.378210Z",
     "start_time": "2024-05-19T22:23:10.375955Z"
    }
   },
   "source": [
    "sp.print_latex(sig_cy_scale * 1000)"
   ],
   "outputs": [
    {
     "name": "stdout",
     "output_type": "stream",
     "text": [
      "1437.62037986179 - 2.78582241716738 f_{\\mathrm{cm}}\n"
     ]
    }
   ],
   "execution_count": 211
  },
  {
   "cell_type": "markdown",
   "metadata": {},
   "source": [
    "### $M_\\mathrm{u,cu}$\n",
    "Note: this formula is exact for $\\rho_\\mathrm{f} > \\rho_\\mathrm{fb}$, but for $\\rho_\\mathrm{f, cy} < \\rho_\\mathrm{f} < \\rho_\\mathrm{fb}$ it's a conservative approx. considering the whole concrete block which gives larger $ce$ resulting in smaller M_u\n",
    "\n",
    "$M_\\mathrm{u,cu} = \\frac{A_\\mathrm{f} d \\sigma_\\mathrm{f} \n",
    "\\bigg(\n",
    "3 m_0 \\left(E_\\mathrm{f} \\varepsilon_\\mathrm{cu} + \\sigma_\\mathrm{f}\\right) \n",
    "~ - ~E_\\mathrm{f} \\big(\\Delta\\varepsilon^2 \\left(2 \\sigma_\\mathrm{cy} + \\sigma_\\mathrm{cu} \\right)\n",
    "~+~\\sigma_\\mathrm{cy} \\varepsilon_\\mathrm{cy} \\left(3 \\varepsilon_\\mathrm{cu} - 2 \\varepsilon_\\mathrm{cy}\\right)\\big)\\bigg)}\n",
    "{3 m_0 \\left(E_\\mathrm{f} \\varepsilon_\\mathrm{cu} + \\sigma_\\mathrm{f}\\right)}$\n",
    "\n",
    "with\n",
    "\n",
    "$\\Delta\\varepsilon = \\varepsilon_\\mathrm{cu} - \\varepsilon_\\mathrm{cy}$\n",
    "\n",
    "and\n",
    "\n",
    "$m_0 = \\Delta\\varepsilon \\sigma_\\mathrm{cu} + \\Delta\\varepsilon \\sigma_\\mathrm{cy} + \\sigma_\\mathrm{cy} \\varepsilon_\\mathrm{cy}$\n",
    "\n",
    "$\\sigma_\\mathrm{f} = \\min\\left(f_\\mathrm{fu},~0.5 \\bigg( \\sqrt{\\frac{E_\\mathrm{f} \\cdot \\big(E_\\mathrm{f} \\rho_\\mathrm{f} \\varepsilon_\\mathrm{cu}^2~+~2 \\sigma_\\mathrm{cu} \\Delta\\varepsilon~+~2 \\sigma_\\mathrm{cy} \\varepsilon_\\mathrm{cu} \\big)}\n",
    "{\\rho_\\mathrm{f}}}\n",
    "- E_{f} \\varepsilon_\\mathrm{cu}\\bigg) \\right)$\n",
    "\n",
    "$\\sigma_\\mathrm{cu} = 10^{-3} f_\\mathrm{cm} \\cdot (8.2275 f_\\mathrm{cm} + 95.5314)$\n",
    "\n",
    "and\n",
    "\n",
    "\\begin{equation*}\n",
    "  \\varepsilon_\\mathrm{cu}= 0.001 \\cdot\n",
    "  \\begin{cases}\n",
    "      3.5 ,\n",
    "    & f_\\mathrm{cm} \\le 58~\\mathrm{MPa} \\\\\n",
    "    2.8 + 27 \\cdot \\big(\\frac{98 - f_\\mathrm{cm}}{100}\\big)^4,\n",
    "    & 58~\\mathrm{MPa} < f_\\mathrm{cm} \\boldsymbol{\\le 98~\\mathrm{MPa}}\\\\\n",
    "    \\boldsymbol{2.8,}\n",
    "    & \\boldsymbol{f_\\mathrm{cm} > 98~\\mathrm{MPa}}.\n",
    "  \\end{cases}\n",
    "\\end{equation*}\n",
    "\n",
    "The bold marked text is an adaptation to EC2 formula."
   ]
  },
  {
   "cell_type": "code",
   "metadata": {
    "ExecuteTime": {
     "end_time": "2024-05-19T22:23:10.544877Z",
     "start_time": "2024-05-19T22:23:10.542163Z"
    }
   },
   "source": [
    "f_cm * sig_cu_scale"
   ],
   "outputs": [
    {
     "data": {
      "text/plain": [
       "f_{\\mathrm{cm}}*(0.00822753426311965*f_{\\mathrm{cm}} + 0.0955313938528226)"
      ],
      "text/latex": "$\\displaystyle f_{\\mathrm{cm}} \\left(0.00822753426311965 f_{\\mathrm{cm}} + 0.0955313938528226\\right)$"
     },
     "execution_count": 212,
     "metadata": {},
     "output_type": "execute_result"
    }
   ],
   "execution_count": 212
  },
  {
   "cell_type": "code",
   "metadata": {
    "ExecuteTime": {
     "end_time": "2024-05-19T22:23:10.590935Z",
     "start_time": "2024-05-19T22:23:10.588732Z"
    }
   },
   "source": [
    "sp.print_latex(sig_cu_scale * 1000)"
   ],
   "outputs": [
    {
     "name": "stdout",
     "output_type": "stream",
     "text": [
      "8.22753426311965 f_{\\mathrm{cm}} + 95.5313938528226\n"
     ]
    }
   ],
   "execution_count": 213
  },
  {
   "cell_type": "code",
   "metadata": {
    "ExecuteTime": {
     "end_time": "2024-05-19T22:23:10.715881Z",
     "start_time": "2024-05-19T22:23:10.713624Z"
    }
   },
   "source": [
    "sp.print_latex(rho_fb)"
   ],
   "outputs": [
    {
     "name": "stdout",
     "output_type": "stream",
     "text": [
      "\\frac{E_{\\mathrm{f}} \\left(\\sigma_\\mathrm{cu} \\varepsilon_{\\mathrm{cu}} - \\sigma_\\mathrm{cu} \\varepsilon_{\\mathrm{cy}} + \\sigma_\\mathrm{cy} \\varepsilon_{\\mathrm{cu}}\\right)}{2 f_{\\mathrm{fu}} \\left(E_{\\mathrm{f}} \\varepsilon_{\\mathrm{cu}} + f_{\\mathrm{fu}}\\right)}\n"
     ]
    }
   ],
   "execution_count": 214
  },
  {
   "cell_type": "markdown",
   "metadata": {},
   "source": [
    "## Balanced reinforcement ratio $\\rho_\\mathrm{fb}$\n",
    "\n",
    "$\\rho_\\mathrm{fb} = \\frac{E_\\mathrm{f} \\left(\\sigma_\\mathrm{cu} \\varepsilon_\\mathrm{cu}~-~\\sigma_\\mathrm{cu} \\varepsilon_\\mathrm{cy}~+~\\sigma_\\mathrm{cy} \\varepsilon_\\mathrm{cu}\\right)}{2 f_\\mathrm{fu} \\left(E_\\mathrm{f} \\varepsilon_\\mathrm{cu}~+~f_\\mathrm{fu}\\right)}\n",
    "$"
   ]
  },
  {
   "cell_type": "markdown",
   "metadata": {},
   "source": [
    "## Material utilization factors ($\\psi_\\mathrm{c}~and~\\psi_\\mathrm{f}$)\n",
    "\n",
    "\\begin{equation*}\n",
    "  \\psi_\\mathrm{c} =\n",
    "  \\begin{cases}\n",
    "\\min\\left(\n",
    "1,~\n",
    "\\frac{f_\\mathrm{fu}}{f_\\mathrm{cm}} \\bigg(\\rho_\\mathrm{f} + \\sqrt{\\frac{\\rho_\\mathrm{f} \\left(\\rho_\\mathrm{f} E_\\mathrm{f} \\varepsilon_{cy}~+~2 \\sigma_\\mathrm{cy}\\right)}\n",
    "{E_\\mathrm{f} \\varepsilon_\\mathrm{cy}}} \\bigg)\\right)\n",
    ",\n",
    "    & \\rho_\\mathrm{f} < \\rho_\\mathrm{f,cy}\\\\\n",
    "      1,\n",
    "    & \\rho_\\mathrm{f} \\ge \\rho_\\mathrm{f,cy}.\n",
    "  \\end{cases}\n",
    "\\end{equation*}\n",
    "\n",
    "\n",
    "\\begin{equation*}\n",
    "  \\psi_\\mathrm{f} =\n",
    "  \\begin{cases}\n",
    "      \\frac{\\sigma_\\mathrm{f}}{f_\\mathrm{fu}},\n",
    "    & \\rho_\\mathrm{f} > \\rho_\\mathrm{fb}\\\\\n",
    "      1,\n",
    "    & \\rho_\\mathrm{f} \\le \\rho_\\mathrm{fb}.\n",
    "  \\end{cases}\n",
    "\\end{equation*}\n",
    "\n",
    "Notice that material utilization is optimal ($\\psi_c = 1, \\psi_f = 1$) for $\\rho_\\mathrm{f,cy} < \\rho_\\mathrm{f} < \\rho_\\mathrm{fb}$."
   ]
  },
  {
   "cell_type": "code",
   "metadata": {
    "ExecuteTime": {
     "end_time": "2024-05-19T22:23:10.763544Z",
     "start_time": "2024-05-19T22:23:10.745846Z"
    }
   },
   "source": [
    "sp.simplify(psi_c.args[1].subs({A_f:rho_f * b * d}))"
   ],
   "outputs": [
    {
     "data": {
      "text/plain": [
       "sqrt(\\rho_{\\mathrm{f}})*f_{\\mathrm{fu}}*sqrt(E_{\\mathrm{f}}*\\rho_{\\mathrm{f}}*\\varepsilon_{\\mathrm{cy}} + 2*\\sigma_\\mathrm{cy})/(sqrt(E_{\\mathrm{f}})*\\sigma_\\mathrm{cy}*sqrt(\\varepsilon_{\\mathrm{cy}}))"
      ],
      "text/latex": "$\\displaystyle \\frac{\\sqrt{\\rho_{\\mathrm{f}}} f_{\\mathrm{fu}} \\sqrt{E_{\\mathrm{f}} \\rho_{\\mathrm{f}} \\varepsilon_{\\mathrm{cy}} + 2 \\sigma_\\mathrm{cy}}}{\\sqrt{E_{\\mathrm{f}}} \\sigma_\\mathrm{cy} \\sqrt{\\varepsilon_{\\mathrm{cy}}}}$"
     },
     "execution_count": 215,
     "metadata": {},
     "output_type": "execute_result"
    }
   ],
   "execution_count": 215
  },
  {
   "attachments": {
    "image.png": {
     "image/png": "[encoded data removed]"
    }
   },
   "cell_type": "markdown",
   "metadata": {},
   "source": [
    "# For a given $M_u$, solve for different parameters to get optimally utilized section\n",
    "\n",
    "An optimally utilized section is a section with reinforcement ratio $\\rho_\\mathrm{f, cy} \\le \\rho \\le \\rho_\\mathrm{fb}$\n",
    "\n",
    "We substitute these limit reinforcement ratio in $M_n$ formula and solve for different parameters to find, for each parameter, a range that makes the section optimally utilized\n",
    "\n",
    "![image.png](attachment:image.png)"
   ]
  },
  {
   "cell_type": "code",
   "metadata": {
    "ExecuteTime": {
     "end_time": "2024-05-19T22:23:10.889058Z",
     "start_time": "2024-05-19T22:23:10.887383Z"
    }
   },
   "source": [
    "M_req = sp.Symbol(r'M_\\mathrm{req}')"
   ],
   "outputs": [],
   "execution_count": 216
  },
  {
   "cell_type": "code",
   "metadata": {
    "ExecuteTime": {
     "end_time": "2024-05-19T22:23:10.939593Z",
     "start_time": "2024-05-19T22:23:10.934599Z"
    }
   },
   "source": [
    "M_n_2_fb = M_n_2.subs(A_f, rho_fb * b * d).subs(sigma_f, f_fu)\n",
    "M_n_2_cy = M_n_2.subs(A_f, rho_f_cy * b * d).subs(sigma_f, f_fu)"
   ],
   "outputs": [],
   "execution_count": 217
  },
  {
   "cell_type": "markdown",
   "metadata": {},
   "source": [
    "## $d$ range that ensures an optimal cross-section"
   ]
  },
  {
   "cell_type": "markdown",
   "metadata": {},
   "source": [
    "Notice: if reinforcement ratio is higher then lower $d$ is needed, therefore $d$ corresponding to $\\rho_\\mathrm{fb}$ is the *min*"
   ]
  },
  {
   "cell_type": "markdown",
   "metadata": {},
   "source": [
    "### Lower limit for $d$"
   ]
  },
  {
   "cell_type": "code",
   "metadata": {
    "ExecuteTime": {
     "end_time": "2024-05-19T22:23:11.178789Z",
     "start_time": "2024-05-19T22:23:11.052951Z"
    }
   },
   "source": [
    "d_min = sp.simplify(sp.solve(M_n_2_fb - M_req, d)[1])\n",
    "d_min"
   ],
   "outputs": [
    {
     "data": {
      "text/plain": [
       "sqrt(6)*sqrt(M_\\mathrm{req}/(E_{\\mathrm{f}}*b*(2*E_{\\mathrm{f}}*\\sigma_\\mathrm{cu}*\\varepsilon_{\\mathrm{cu}}**2 - E_{\\mathrm{f}}*\\sigma_\\mathrm{cu}*\\varepsilon_{\\mathrm{cu}}*\\varepsilon_{\\mathrm{cy}} - E_{\\mathrm{f}}*\\sigma_\\mathrm{cu}*\\varepsilon_{\\mathrm{cy}}**2 + E_{\\mathrm{f}}*\\sigma_\\mathrm{cy}*\\varepsilon_{\\mathrm{cu}}**2 + E_{\\mathrm{f}}*\\sigma_\\mathrm{cy}*\\varepsilon_{\\mathrm{cu}}*\\varepsilon_{\\mathrm{cy}} + 3*\\sigma_\\mathrm{cu}*\\varepsilon_{\\mathrm{cu}}*f_{\\mathrm{fu}} - 3*\\sigma_\\mathrm{cu}*\\varepsilon_{\\mathrm{cy}}*f_{\\mathrm{fu}} + 3*\\sigma_\\mathrm{cy}*\\varepsilon_{\\mathrm{cu}}*f_{\\mathrm{fu}})))*(E_{\\mathrm{f}}*\\varepsilon_{\\mathrm{cu}} + f_{\\mathrm{fu}})"
      ],
      "text/latex": "$\\displaystyle \\sqrt{6} \\sqrt{\\frac{M_\\mathrm{req}}{E_{\\mathrm{f}} b \\left(2 E_{\\mathrm{f}} \\sigma_\\mathrm{cu} \\varepsilon_{\\mathrm{cu}}^{2} - E_{\\mathrm{f}} \\sigma_\\mathrm{cu} \\varepsilon_{\\mathrm{cu}} \\varepsilon_{\\mathrm{cy}} - E_{\\mathrm{f}} \\sigma_\\mathrm{cu} \\varepsilon_{\\mathrm{cy}}^{2} + E_{\\mathrm{f}} \\sigma_\\mathrm{cy} \\varepsilon_{\\mathrm{cu}}^{2} + E_{\\mathrm{f}} \\sigma_\\mathrm{cy} \\varepsilon_{\\mathrm{cu}} \\varepsilon_{\\mathrm{cy}} + 3 \\sigma_\\mathrm{cu} \\varepsilon_{\\mathrm{cu}} f_{\\mathrm{fu}} - 3 \\sigma_\\mathrm{cu} \\varepsilon_{\\mathrm{cy}} f_{\\mathrm{fu}} + 3 \\sigma_\\mathrm{cy} \\varepsilon_{\\mathrm{cu}} f_{\\mathrm{fu}}\\right)}} \\left(E_{\\mathrm{f}} \\varepsilon_{\\mathrm{cu}} + f_{\\mathrm{fu}}\\right)$"
     },
     "execution_count": 218,
     "metadata": {},
     "output_type": "execute_result"
    }
   ],
   "execution_count": 218
  },
  {
   "cell_type": "code",
   "metadata": {
    "ExecuteTime": {
     "end_time": "2024-05-19T22:23:11.186605Z",
     "start_time": "2024-05-19T22:23:11.179936Z"
    }
   },
   "source": [
    "sp.cse(d_min)"
   ],
   "outputs": [
    {
     "data": {
      "text/plain": [
       "([(x0, E_{\\mathrm{f}}*\\varepsilon_{\\mathrm{cu}}),\n",
       "  (x1, 3*f_{\\mathrm{fu}}),\n",
       "  (x2, \\varepsilon_{\\mathrm{cu}}*x1),\n",
       "  (x3, \\sigma_\\mathrm{cu}*\\varepsilon_{\\mathrm{cy}}),\n",
       "  (x4, E_{\\mathrm{f}}*\\varepsilon_{\\mathrm{cu}}**2)],\n",
       " [sqrt(6)*sqrt(M_\\mathrm{req}/(E_{\\mathrm{f}}*b*(-E_{\\mathrm{f}}*\\sigma_\\mathrm{cu}*\\varepsilon_{\\mathrm{cy}}**2 + \\sigma_\\mathrm{cu}*x2 + 2*\\sigma_\\mathrm{cu}*x4 + \\sigma_\\mathrm{cy}*\\varepsilon_{\\mathrm{cy}}*x0 + \\sigma_\\mathrm{cy}*x2 + \\sigma_\\mathrm{cy}*x4 - x0*x3 - x1*x3)))*(f_{\\mathrm{fu}} + x0)])"
      ]
     },
     "execution_count": 219,
     "metadata": {},
     "output_type": "execute_result"
    }
   ],
   "execution_count": 219
  },
  {
   "cell_type": "markdown",
   "metadata": {},
   "source": [
    "### Upper limit for $d$"
   ]
  },
  {
   "cell_type": "code",
   "metadata": {
    "ExecuteTime": {
     "end_time": "2024-05-19T22:23:11.667225Z",
     "start_time": "2024-05-19T22:23:11.216967Z"
    }
   },
   "source": [
    "d_max = sp.simplify(sp.solve(M_n_2_cy - M_req, d)[1])\n",
    "# or\n",
    "# d_max = sp.solve(M_n_1.subs(A_f, rho_f_cy * b * d) - M_req, d)[1]\n",
    "d_max"
   ],
   "outputs": [
    {
     "data": {
      "text/plain": [
       "sqrt(6)*sqrt(M_\\mathrm{req}*(\\sigma_\\mathrm{cu}*\\varepsilon_{\\mathrm{cu}}**2*f_{\\mathrm{fu}}/(\\sigma_\\mathrm{cy}*\\varepsilon_{\\mathrm{cy}}) + \\sigma_\\mathrm{cu}*(E_{\\mathrm{f}}*\\varepsilon_{\\mathrm{cu}}**2 - E_{\\mathrm{f}}*\\varepsilon_{\\mathrm{cu}}*\\varepsilon_{\\mathrm{cy}} - \\varepsilon_{\\mathrm{cy}}*f_{\\mathrm{fu}})/\\sigma_\\mathrm{cy} + \\varepsilon_{\\mathrm{cu}}**2*f_{\\mathrm{fu}}/\\varepsilon_{\\mathrm{cy}} + \\varepsilon_{\\mathrm{cu}}*(E_{\\mathrm{f}}*\\varepsilon_{\\mathrm{cu}} + f_{\\mathrm{fu}}) + \\sigma_\\mathrm{cu}*\\varepsilon_{\\mathrm{cu}}*f_{\\mathrm{fu}}**2/(E_{\\mathrm{f}}*\\sigma_\\mathrm{cy}*\\varepsilon_{\\mathrm{cy}}) - \\sigma_\\mathrm{cu}*f_{\\mathrm{fu}}**2/(E_{\\mathrm{f}}*\\sigma_\\mathrm{cy}) + \\varepsilon_{\\mathrm{cu}}*f_{\\mathrm{fu}}**2/(E_{\\mathrm{f}}*\\varepsilon_{\\mathrm{cy}}))/(b*(2*E_{\\mathrm{f}}*\\sigma_\\mathrm{cu}*\\varepsilon_{\\mathrm{cu}}**2 - E_{\\mathrm{f}}*\\sigma_\\mathrm{cu}*\\varepsilon_{\\mathrm{cu}}*\\varepsilon_{\\mathrm{cy}} - E_{\\mathrm{f}}*\\sigma_\\mathrm{cu}*\\varepsilon_{\\mathrm{cy}}**2 + E_{\\mathrm{f}}*\\sigma_\\mathrm{cy}*\\varepsilon_{\\mathrm{cu}}**2 + E_{\\mathrm{f}}*\\sigma_\\mathrm{cy}*\\varepsilon_{\\mathrm{cu}}*\\varepsilon_{\\mathrm{cy}} + 3*\\sigma_\\mathrm{cu}*\\varepsilon_{\\mathrm{cu}}*f_{\\mathrm{fu}} - 3*\\sigma_\\mathrm{cu}*\\varepsilon_{\\mathrm{cy}}*f_{\\mathrm{fu}} + 3*\\sigma_\\mathrm{cy}*\\varepsilon_{\\mathrm{cu}}*f_{\\mathrm{fu}})))"
      ],
      "text/latex": "$\\displaystyle \\sqrt{6} \\sqrt{\\frac{M_\\mathrm{req} \\left(\\frac{\\sigma_\\mathrm{cu} \\varepsilon_{\\mathrm{cu}}^{2} f_{\\mathrm{fu}}}{\\sigma_\\mathrm{cy} \\varepsilon_{\\mathrm{cy}}} + \\frac{\\sigma_\\mathrm{cu} \\left(E_{\\mathrm{f}} \\varepsilon_{\\mathrm{cu}}^{2} - E_{\\mathrm{f}} \\varepsilon_{\\mathrm{cu}} \\varepsilon_{\\mathrm{cy}} - \\varepsilon_{\\mathrm{cy}} f_{\\mathrm{fu}}\\right)}{\\sigma_\\mathrm{cy}} + \\frac{\\varepsilon_{\\mathrm{cu}}^{2} f_{\\mathrm{fu}}}{\\varepsilon_{\\mathrm{cy}}} + \\varepsilon_{\\mathrm{cu}} \\left(E_{\\mathrm{f}} \\varepsilon_{\\mathrm{cu}} + f_{\\mathrm{fu}}\\right) + \\frac{\\sigma_\\mathrm{cu} \\varepsilon_{\\mathrm{cu}} f_{\\mathrm{fu}}^{2}}{E_{\\mathrm{f}} \\sigma_\\mathrm{cy} \\varepsilon_{\\mathrm{cy}}} - \\frac{\\sigma_\\mathrm{cu} f_{\\mathrm{fu}}^{2}}{E_{\\mathrm{f}} \\sigma_\\mathrm{cy}} + \\frac{\\varepsilon_{\\mathrm{cu}} f_{\\mathrm{fu}}^{2}}{E_{\\mathrm{f}} \\varepsilon_{\\mathrm{cy}}}\\right)}{b \\left(2 E_{\\mathrm{f}} \\sigma_\\mathrm{cu} \\varepsilon_{\\mathrm{cu}}^{2} - E_{\\mathrm{f}} \\sigma_\\mathrm{cu} \\varepsilon_{\\mathrm{cu}} \\varepsilon_{\\mathrm{cy}} - E_{\\mathrm{f}} \\sigma_\\mathrm{cu} \\varepsilon_{\\mathrm{cy}}^{2} + E_{\\mathrm{f}} \\sigma_\\mathrm{cy} \\varepsilon_{\\mathrm{cu}}^{2} + E_{\\mathrm{f}} \\sigma_\\mathrm{cy} \\varepsilon_{\\mathrm{cu}} \\varepsilon_{\\mathrm{cy}} + 3 \\sigma_\\mathrm{cu} \\varepsilon_{\\mathrm{cu}} f_{\\mathrm{fu}} - 3 \\sigma_\\mathrm{cu} \\varepsilon_{\\mathrm{cy}} f_{\\mathrm{fu}} + 3 \\sigma_\\mathrm{cy} \\varepsilon_{\\mathrm{cu}} f_{\\mathrm{fu}}\\right)}}$"
     },
     "execution_count": 220,
     "metadata": {},
     "output_type": "execute_result"
    }
   ],
   "execution_count": 220
  },
  {
   "cell_type": "code",
   "metadata": {
    "ExecuteTime": {
     "end_time": "2024-05-19T22:23:11.679502Z",
     "start_time": "2024-05-19T22:23:11.668322Z"
    }
   },
   "source": [
    "sp.cse(d_max)[-1][0]"
   ],
   "outputs": [
    {
     "data": {
      "text/plain": [
       "sqrt(6)*sqrt(M_\\mathrm{req}*(\\varepsilon_{\\mathrm{cu}}*(f_{\\mathrm{fu}} + x3) + x10*x11 + x10 + x11*x8 - x11*x9 + x11*(E_{\\mathrm{f}}*x5 - x2 - x4) + x8)/(b*(-E_{\\mathrm{f}}*\\sigma_\\mathrm{cu}*\\varepsilon_{\\mathrm{cy}}**2 - \\sigma_\\mathrm{cu}*x4 + 2*\\sigma_\\mathrm{cu}*x6 + 3*\\sigma_\\mathrm{cy}*x1 + \\sigma_\\mathrm{cy}*x4 + \\sigma_\\mathrm{cy}*x6 + x0*x1 - x0*x2)))"
      ],
      "text/latex": "$\\displaystyle \\sqrt{6} \\sqrt{\\frac{M_\\mathrm{req} \\left(\\varepsilon_{\\mathrm{cu}} \\left(f_{\\mathrm{fu}} + x_{3}\\right) + x_{10} x_{11} + x_{10} + x_{11} x_{8} - x_{11} x_{9} + x_{11} \\left(E_{\\mathrm{f}} x_{5} - x_{2} - x_{4}\\right) + x_{8}\\right)}{b \\left(- E_{\\mathrm{f}} \\sigma_\\mathrm{cu} \\varepsilon_{\\mathrm{cy}}^{2} - \\sigma_\\mathrm{cu} x_{4} + 2 \\sigma_\\mathrm{cu} x_{6} + 3 \\sigma_\\mathrm{cy} x_{1} + \\sigma_\\mathrm{cy} x_{4} + \\sigma_\\mathrm{cy} x_{6} + x_{0} x_{1} - x_{0} x_{2}\\right)}}$"
     },
     "execution_count": 221,
     "metadata": {},
     "output_type": "execute_result"
    }
   ],
   "execution_count": 221
  },
  {
   "cell_type": "markdown",
   "metadata": {},
   "source": [
    "## $b$ range that ensures an optimal cross-section"
   ]
  },
  {
   "cell_type": "markdown",
   "metadata": {},
   "source": [
    "### Lower limit for $b$"
   ]
  },
  {
   "cell_type": "code",
   "metadata": {
    "ExecuteTime": {
     "end_time": "2024-05-19T22:23:11.753726Z",
     "start_time": "2024-05-19T22:23:11.680032Z"
    }
   },
   "source": [
    "b_min = sp.simplify(sp.solve(M_n_2_fb - M_req, b)[0])\n",
    "b_min"
   ],
   "outputs": [
    {
     "data": {
      "text/plain": [
       "6*M_\\mathrm{req}*(E_{\\mathrm{f}}*\\varepsilon_{\\mathrm{cu}} + f_{\\mathrm{fu}})**2/(E_{\\mathrm{f}}*d**2*(2*E_{\\mathrm{f}}*\\sigma_\\mathrm{cu}*\\varepsilon_{\\mathrm{cu}}**2 - E_{\\mathrm{f}}*\\sigma_\\mathrm{cu}*\\varepsilon_{\\mathrm{cu}}*\\varepsilon_{\\mathrm{cy}} - E_{\\mathrm{f}}*\\sigma_\\mathrm{cu}*\\varepsilon_{\\mathrm{cy}}**2 + E_{\\mathrm{f}}*\\sigma_\\mathrm{cy}*\\varepsilon_{\\mathrm{cu}}**2 + E_{\\mathrm{f}}*\\sigma_\\mathrm{cy}*\\varepsilon_{\\mathrm{cu}}*\\varepsilon_{\\mathrm{cy}} + 3*\\sigma_\\mathrm{cu}*\\varepsilon_{\\mathrm{cu}}*f_{\\mathrm{fu}} - 3*\\sigma_\\mathrm{cu}*\\varepsilon_{\\mathrm{cy}}*f_{\\mathrm{fu}} + 3*\\sigma_\\mathrm{cy}*\\varepsilon_{\\mathrm{cu}}*f_{\\mathrm{fu}}))"
      ],
      "text/latex": "$\\displaystyle \\frac{6 M_\\mathrm{req} \\left(E_{\\mathrm{f}} \\varepsilon_{\\mathrm{cu}} + f_{\\mathrm{fu}}\\right)^{2}}{E_{\\mathrm{f}} d^{2} \\cdot \\left(2 E_{\\mathrm{f}} \\sigma_\\mathrm{cu} \\varepsilon_{\\mathrm{cu}}^{2} - E_{\\mathrm{f}} \\sigma_\\mathrm{cu} \\varepsilon_{\\mathrm{cu}} \\varepsilon_{\\mathrm{cy}} - E_{\\mathrm{f}} \\sigma_\\mathrm{cu} \\varepsilon_{\\mathrm{cy}}^{2} + E_{\\mathrm{f}} \\sigma_\\mathrm{cy} \\varepsilon_{\\mathrm{cu}}^{2} + E_{\\mathrm{f}} \\sigma_\\mathrm{cy} \\varepsilon_{\\mathrm{cu}} \\varepsilon_{\\mathrm{cy}} + 3 \\sigma_\\mathrm{cu} \\varepsilon_{\\mathrm{cu}} f_{\\mathrm{fu}} - 3 \\sigma_\\mathrm{cu} \\varepsilon_{\\mathrm{cy}} f_{\\mathrm{fu}} + 3 \\sigma_\\mathrm{cy} \\varepsilon_{\\mathrm{cu}} f_{\\mathrm{fu}}\\right)}$"
     },
     "execution_count": 222,
     "metadata": {},
     "output_type": "execute_result"
    }
   ],
   "execution_count": 222
  },
  {
   "cell_type": "code",
   "metadata": {
    "ExecuteTime": {
     "end_time": "2024-05-19T22:23:11.758944Z",
     "start_time": "2024-05-19T22:23:11.754998Z"
    }
   },
   "source": [
    "sp.cse(b_min)"
   ],
   "outputs": [
    {
     "data": {
      "text/plain": [
       "([(x0, E_{\\mathrm{f}}*\\varepsilon_{\\mathrm{cu}}),\n",
       "  (x1, 3*f_{\\mathrm{fu}}),\n",
       "  (x2, \\varepsilon_{\\mathrm{cu}}*x1),\n",
       "  (x3, \\sigma_\\mathrm{cu}*\\varepsilon_{\\mathrm{cy}}),\n",
       "  (x4, E_{\\mathrm{f}}*\\varepsilon_{\\mathrm{cu}}**2)],\n",
       " [6*M_\\mathrm{req}*(f_{\\mathrm{fu}} + x0)**2/(E_{\\mathrm{f}}*d**2*(-E_{\\mathrm{f}}*\\sigma_\\mathrm{cu}*\\varepsilon_{\\mathrm{cy}}**2 + \\sigma_\\mathrm{cu}*x2 + 2*\\sigma_\\mathrm{cu}*x4 + \\sigma_\\mathrm{cy}*\\varepsilon_{\\mathrm{cy}}*x0 + \\sigma_\\mathrm{cy}*x2 + \\sigma_\\mathrm{cy}*x4 - x0*x3 - x1*x3))])"
      ]
     },
     "execution_count": 223,
     "metadata": {},
     "output_type": "execute_result"
    }
   ],
   "execution_count": 223
  },
  {
   "cell_type": "markdown",
   "metadata": {},
   "source": [
    "### Upper limit for $b$"
   ]
  },
  {
   "cell_type": "code",
   "metadata": {
    "ExecuteTime": {
     "end_time": "2024-05-19T22:23:11.946359Z",
     "start_time": "2024-05-19T22:23:11.759529Z"
    }
   },
   "source": [
    "b_max = sp.simplify(sp.solve(M_n_2_cy - M_req, b)[0])\n",
    "# or\n",
    "# b_max = sp.simplify(sp.solve(M_n_1.subs(A_f, rho_f_cy * b * d) - M_req, b)[0])\n",
    "b_max"
   ],
   "outputs": [
    {
     "data": {
      "text/plain": [
       "6*M_\\mathrm{req}*(E_{\\mathrm{f}}**2*\\sigma_\\mathrm{cu}*\\varepsilon_{\\mathrm{cu}}**2*\\varepsilon_{\\mathrm{cy}} - E_{\\mathrm{f}}**2*\\sigma_\\mathrm{cu}*\\varepsilon_{\\mathrm{cu}}*\\varepsilon_{\\mathrm{cy}}**2 + E_{\\mathrm{f}}**2*\\sigma_\\mathrm{cy}*\\varepsilon_{\\mathrm{cu}}**2*\\varepsilon_{\\mathrm{cy}} + E_{\\mathrm{f}}*\\sigma_\\mathrm{cu}*\\varepsilon_{\\mathrm{cu}}**2*f_{\\mathrm{fu}} - E_{\\mathrm{f}}*\\sigma_\\mathrm{cu}*\\varepsilon_{\\mathrm{cy}}**2*f_{\\mathrm{fu}} + E_{\\mathrm{f}}*\\sigma_\\mathrm{cy}*\\varepsilon_{\\mathrm{cu}}**2*f_{\\mathrm{fu}} + E_{\\mathrm{f}}*\\sigma_\\mathrm{cy}*\\varepsilon_{\\mathrm{cu}}*\\varepsilon_{\\mathrm{cy}}*f_{\\mathrm{fu}} + \\sigma_\\mathrm{cu}*\\varepsilon_{\\mathrm{cu}}*f_{\\mathrm{fu}}**2 - \\sigma_\\mathrm{cu}*\\varepsilon_{\\mathrm{cy}}*f_{\\mathrm{fu}}**2 + \\sigma_\\mathrm{cy}*\\varepsilon_{\\mathrm{cu}}*f_{\\mathrm{fu}}**2)/(E_{\\mathrm{f}}*\\sigma_\\mathrm{cy}*\\varepsilon_{\\mathrm{cy}}*d**2*(2*E_{\\mathrm{f}}*\\sigma_\\mathrm{cu}*\\varepsilon_{\\mathrm{cu}}**2 - E_{\\mathrm{f}}*\\sigma_\\mathrm{cu}*\\varepsilon_{\\mathrm{cu}}*\\varepsilon_{\\mathrm{cy}} - E_{\\mathrm{f}}*\\sigma_\\mathrm{cu}*\\varepsilon_{\\mathrm{cy}}**2 + E_{\\mathrm{f}}*\\sigma_\\mathrm{cy}*\\varepsilon_{\\mathrm{cu}}**2 + E_{\\mathrm{f}}*\\sigma_\\mathrm{cy}*\\varepsilon_{\\mathrm{cu}}*\\varepsilon_{\\mathrm{cy}} + 3*\\sigma_\\mathrm{cu}*\\varepsilon_{\\mathrm{cu}}*f_{\\mathrm{fu}} - 3*\\sigma_\\mathrm{cu}*\\varepsilon_{\\mathrm{cy}}*f_{\\mathrm{fu}} + 3*\\sigma_\\mathrm{cy}*\\varepsilon_{\\mathrm{cu}}*f_{\\mathrm{fu}}))"
      ],
      "text/latex": "$\\displaystyle \\frac{6 M_\\mathrm{req} \\left(E_{\\mathrm{f}}^{2} \\sigma_\\mathrm{cu} \\varepsilon_{\\mathrm{cu}}^{2} \\varepsilon_{\\mathrm{cy}} - E_{\\mathrm{f}}^{2} \\sigma_\\mathrm{cu} \\varepsilon_{\\mathrm{cu}} \\varepsilon_{\\mathrm{cy}}^{2} + E_{\\mathrm{f}}^{2} \\sigma_\\mathrm{cy} \\varepsilon_{\\mathrm{cu}}^{2} \\varepsilon_{\\mathrm{cy}} + E_{\\mathrm{f}} \\sigma_\\mathrm{cu} \\varepsilon_{\\mathrm{cu}}^{2} f_{\\mathrm{fu}} - E_{\\mathrm{f}} \\sigma_\\mathrm{cu} \\varepsilon_{\\mathrm{cy}}^{2} f_{\\mathrm{fu}} + E_{\\mathrm{f}} \\sigma_\\mathrm{cy} \\varepsilon_{\\mathrm{cu}}^{2} f_{\\mathrm{fu}} + E_{\\mathrm{f}} \\sigma_\\mathrm{cy} \\varepsilon_{\\mathrm{cu}} \\varepsilon_{\\mathrm{cy}} f_{\\mathrm{fu}} + \\sigma_\\mathrm{cu} \\varepsilon_{\\mathrm{cu}} f_{\\mathrm{fu}}^{2} - \\sigma_\\mathrm{cu} \\varepsilon_{\\mathrm{cy}} f_{\\mathrm{fu}}^{2} + \\sigma_\\mathrm{cy} \\varepsilon_{\\mathrm{cu}} f_{\\mathrm{fu}}^{2}\\right)}{E_{\\mathrm{f}} \\sigma_\\mathrm{cy} \\varepsilon_{\\mathrm{cy}} d^{2} \\cdot \\left(2 E_{\\mathrm{f}} \\sigma_\\mathrm{cu} \\varepsilon_{\\mathrm{cu}}^{2} - E_{\\mathrm{f}} \\sigma_\\mathrm{cu} \\varepsilon_{\\mathrm{cu}} \\varepsilon_{\\mathrm{cy}} - E_{\\mathrm{f}} \\sigma_\\mathrm{cu} \\varepsilon_{\\mathrm{cy}}^{2} + E_{\\mathrm{f}} \\sigma_\\mathrm{cy} \\varepsilon_{\\mathrm{cu}}^{2} + E_{\\mathrm{f}} \\sigma_\\mathrm{cy} \\varepsilon_{\\mathrm{cu}} \\varepsilon_{\\mathrm{cy}} + 3 \\sigma_\\mathrm{cu} \\varepsilon_{\\mathrm{cu}} f_{\\mathrm{fu}} - 3 \\sigma_\\mathrm{cu} \\varepsilon_{\\mathrm{cy}} f_{\\mathrm{fu}} + 3 \\sigma_\\mathrm{cy} \\varepsilon_{\\mathrm{cu}} f_{\\mathrm{fu}}\\right)}$"
     },
     "execution_count": 224,
     "metadata": {},
     "output_type": "execute_result"
    }
   ],
   "execution_count": 224
  },
  {
   "cell_type": "code",
   "metadata": {
    "ExecuteTime": {
     "end_time": "2024-05-19T22:23:11.953398Z",
     "start_time": "2024-05-19T22:23:11.947194Z"
    }
   },
   "source": [
    "sp.cse(b_max)"
   ],
   "outputs": [
    {
     "data": {
      "text/plain": [
       "([(x0, 3*f_{\\mathrm{fu}}),\n",
       "  (x1, \\varepsilon_{\\mathrm{cu}}*x0),\n",
       "  (x2, \\sigma_\\mathrm{cu}*\\varepsilon_{\\mathrm{cy}}),\n",
       "  (x3, \\varepsilon_{\\mathrm{cu}}*\\varepsilon_{\\mathrm{cy}}),\n",
       "  (x4, E_{\\mathrm{f}}*\\sigma_\\mathrm{cy}*x3),\n",
       "  (x5, \\varepsilon_{\\mathrm{cu}}**2),\n",
       "  (x6, E_{\\mathrm{f}}*x5),\n",
       "  (x7, \\sigma_\\mathrm{cy}*x6),\n",
       "  (x8, E_{\\mathrm{f}}*\\sigma_\\mathrm{cu}),\n",
       "  (x9, \\sigma_\\mathrm{cu}*x6),\n",
       "  (x10, \\varepsilon_{\\mathrm{cy}}**2),\n",
       "  (x11, x10*x8),\n",
       "  (x12, f_{\\mathrm{fu}}**2),\n",
       "  (x13, \\varepsilon_{\\mathrm{cu}}*x12),\n",
       "  (x14, E_{\\mathrm{f}}**2),\n",
       "  (x15, x14*x5)],\n",
       " [6*M_\\mathrm{req}*(-\\sigma_\\mathrm{cu}*\\varepsilon_{\\mathrm{cu}}*x10*x14 + \\sigma_\\mathrm{cu}*x13 + \\sigma_\\mathrm{cy}*\\varepsilon_{\\mathrm{cy}}*x15 + \\sigma_\\mathrm{cy}*x13 - f_{\\mathrm{fu}}*x11 + f_{\\mathrm{fu}}*x4 + f_{\\mathrm{fu}}*x7 + f_{\\mathrm{fu}}*x9 - x12*x2 + x15*x2)/(E_{\\mathrm{f}}*\\sigma_\\mathrm{cy}*\\varepsilon_{\\mathrm{cy}}*d**2*(\\sigma_\\mathrm{cu}*x1 + \\sigma_\\mathrm{cy}*x1 - x0*x2 - x11 - x3*x8 + x4 + x7 + 2*x9))])"
      ]
     },
     "execution_count": 225,
     "metadata": {},
     "output_type": "execute_result"
    }
   ],
   "execution_count": 225
  },
  {
   "cell_type": "markdown",
   "metadata": {},
   "source": [
    "### Dimensionless efficient design diagram"
   ]
  },
  {
   "cell_type": "markdown",
   "metadata": {},
   "source": [
    "#### Generalized diagrams"
   ]
  },
  {
   "cell_type": "code",
   "metadata": {
    "ExecuteTime": {
     "end_time": "2024-05-19T22:23:12.816006Z",
     "start_time": "2024-05-19T22:23:11.954365Z"
    }
   },
   "source": [
    "from labellines import labelLine, labelLines\n",
    "\n",
    "M_n_2_cy_norm = M_n_2_cy / (f_cm * b*d**2)\n",
    "M_n_2_fb_norm = M_n_2_fb / (f_cm * b*d**2)\n",
    "\n",
    "# f_cms = [30, 50, 90]\n",
    "f_cms = [50]\n",
    "f_fus = np.linspace(100, 5000, 60)\n",
    "# E_fs = np.linspace(30000, 500000, 10)\n",
    "E_fs = np.array([20, 30, 40, 50, 75, 100, 150, 200, 250, 300, 400, 500]) * 1000\n",
    "M_n_2_cy_norm_vals = np.zeros((len(f_cms), len(E_fs), len(f_fus)))\n",
    "M_n_2_fb_norm_vals = np.zeros((len(f_cms), len(E_fs), len(f_fus)))\n",
    "\n",
    "for f_cm_i, f_cm_val in enumerate(f_cms):\n",
    "    for E_j, E_f_val in enumerate(E_fs):\n",
    "        for f_i, f_fu_val in enumerate(f_fus):\n",
    "            t1_mat_params = {\n",
    "                  f_cm:f_cm_val,\n",
    "                  f_fu:f_fu_val, \n",
    "                  E_f:E_f_val, \n",
    "                  eps_cy:EC2.get_eps_c1(f_cm_val-8),\n",
    "                  eps_cu:EC2.get_eps_cu1(f_cm_val-8) # In TTC model, this is adapted for f_cm > 98 to yield 0.0028\n",
    "                 }\n",
    "            M_n_2_cy_norm_vals[f_cm_i, E_j, f_i] = sp.N(M_n_2_cy_norm.subs(sigma_cy_cu_vals).subs(t1_mat_params))\n",
    "            M_n_2_fb_norm_vals[f_cm_i, E_j, f_i] = sp.N(M_n_2_fb_norm.subs(sigma_cy_cu_vals).subs(t1_mat_params))\n",
    "\n",
    "fig, axes = plt.subplots(len(f_cms), 2, figsize=(10, len(f_cms) * 6))\n",
    "\n",
    "for f_cm_i, f_cm_val in enumerate(f_cms):\n",
    "    ax1 = axes[f_cm_i, 0] if len(f_cms) > 1 else axes[0]\n",
    "    ax2 = axes[f_cm_i, 1] if len(f_cms) > 1 else axes[1]\n",
    "    ax1.set_xlabel(r'$M_{\\rho_\\mathrm{f, cy}}/(f_\\mathrm{cm} bd^2)$')\n",
    "    ax2.set_xlabel(r'$M_{\\rho_\\mathrm{fb}}/(f_\\mathrm{cm} bd^2)$')\n",
    "    title = r'$f_\\mathrm{cm}$ = ' + str(f_cm_val)\n",
    "    ax1.set_title(title); ax2.set_title(title)\n",
    "    for i, E_f_val in enumerate(E_fs):\n",
    "        label = r'$E_\\mathrm{f} = $' + str(int(E_f_val/1000)) + ' GPa' if i==0 else str(round(E_f_val/1000))\n",
    "        ax1.plot(M_n_2_cy_norm_vals[f_cm_i, i, :], f_fus, label=label)\n",
    "        ax2.plot(M_n_2_fb_norm_vals[f_cm_i, i, :], f_fus, label=label)\n",
    "\n",
    "for ax in axes.flatten():\n",
    "    labelLines(ax.get_lines(), align=True, fontsize=14, zorder=12.5, yoffsets=0.1)\n",
    "    ax.set_xlim(0, 0.5)\n",
    "    ax.set_ylim(0, np.max(f_fus))\n",
    "    ax.set_ylabel(r'$f_\\mathrm{fu} \\mathrm{[MPa]}$')\n",
    "    ax.grid()\n",
    "#     ax.legend()\n"
   ],
   "outputs": [
    {
     "data": {
      "text/plain": [
       "<Figure size 1000x600 with 2 Axes>"
      ],
      "image/png": "[encoded data removed]"
     },
     "metadata": {},
     "output_type": "display_data"
    }
   ],
   "execution_count": 226
  },
  {
   "cell_type": "markdown",
   "metadata": {},
   "source": [
    "#### Alternative approach\n",
    "\n",
    "Given $b, M_\\mathrm{req}$ calculate $d$ which gives a optimally utilized cross-section (have a reinf. ratio $\\rho= \\rho_\\mathrm{fb}$)"
   ]
  },
  {
   "cell_type": "code",
   "metadata": {
    "ExecuteTime": {
     "end_time": "2024-05-19T22:23:12.832391Z",
     "start_time": "2024-05-19T22:23:12.816597Z"
    }
   },
   "source": [
    "d_limit = d_min\n",
    "get_d_sol = sp.lambdify((M_req, b, E_f, f_fu, f_cm, eps_cy, eps_cu), d_limit.subs(sigma_cy_cu_vals))\n",
    "\n",
    "bs = np.linspace(20, 600, 50)\n",
    "M_reqs = np.array([1, 5, 10, 20, 40, 80, 160]) * 1e6\n",
    "bs_grid, M_reqs_grid = np.meshgrid(bs, M_reqs)\n",
    "\n",
    "# t1_f_cm = 98.6\n",
    "# t1_data = (M_reqs_grid, bs_grid, 247469, 3823.9, t1_f_cm, EC2.get_eps_c1(t1_f_cm-8), EC2.get_eps_cu1(t1_f_cm-8))\n",
    "f_cm_val = 50\n",
    "test_data = (M_reqs_grid, bs_grid, 200000, 1500, f_cm_val, EC2.get_eps_c1(f_cm_val-8), EC2.get_eps_cu1(f_cm_val-8))\n",
    "\n",
    "ds_grid = get_d_sol(*test_data)"
   ],
   "outputs": [],
   "execution_count": 227
  },
  {
   "cell_type": "code",
   "metadata": {
    "ExecuteTime": {
     "end_time": "2024-05-19T22:23:12.926005Z",
     "start_time": "2024-05-19T22:23:12.834455Z"
    }
   },
   "source": [
    "fig1, ax1 = plt.subplots()\n",
    "\n",
    "## Plotting b vs area too:\n",
    "# get_A = sp.lambdify((b, d), b*d)\n",
    "# A_grid = get_A(bs_grid, ds_grid)\n",
    "# ax_A = ax1.twinx()\n",
    "# ax_A.plot(bs_grid.T, A_grid.T * 1e-6, ls = 'dashed')\n",
    "\n",
    "plots = ax1.plot(bs_grid.T, ds_grid.T, label=(M_reqs/1e6).astype(np.int_))\n",
    "plots[-1].set_label(r'$M_\\mathrm{req} = $' + str((M_reqs/1e6).astype(np.int_)[-1]) + ' kNm')\n",
    "\n",
    "ax1.set_title('For given ' + r'$(f_\\mathrm{cm}, f_\\mathrm{fu}, E_\\mathrm{f})$' + ' and ' + r' $\\rho= \\rho_\\mathrm{fb}$')\n",
    "ax1.set_xlabel(r'$b \\mathrm{[mm]}$')\n",
    "ax1.set_ylabel(r'$d \\mathrm{[mm]}$')\n",
    "ax1.grid()\n",
    "\n",
    "labelLines(plots, align=True, fontsize=14, zorder=12.5, yoffsets=0.1);"
   ],
   "outputs": [
    {
     "data": {
      "text/plain": [
       "<Figure size 640x480 with 1 Axes>"
      ],
      "image/png": "[encoded data removed]"
     },
     "metadata": {},
     "output_type": "display_data"
    }
   ],
   "execution_count": 228
  },
  {
   "cell_type": "code",
   "metadata": {
    "ExecuteTime": {
     "end_time": "2024-05-19T22:23:12.928931Z",
     "start_time": "2024-05-19T22:23:12.926796Z"
    }
   },
   "source": [
    "# Example design moment for a slab segment\n",
    "q_d = 1.35 * 2.5 + 1.5 * 3\n",
    "d_ribs = 0.6\n",
    "Q_d = q_d * d_ribs\n",
    "l = 6\n",
    "M_d = Q_d * l**2 / 8\n",
    "M_d"
   ],
   "outputs": [
    {
     "data": {
      "text/plain": [
       "21.2625"
      ]
     },
     "execution_count": 229,
     "metadata": {},
     "output_type": "execute_result"
    }
   ],
   "execution_count": 229
  },
  {
   "cell_type": "markdown",
   "metadata": {},
   "source": [
    "### Validation"
   ]
  },
  {
   "cell_type": "code",
   "metadata": {
    "ExecuteTime": {
     "end_time": "2024-05-19T22:23:12.931577Z",
     "start_time": "2024-05-19T22:23:12.929407Z"
    }
   },
   "source": [
    "from bmcs_cross_section.api import AnaFRPBending\n",
    "bend = AnaFRPBending(f_fu=3823.9, E_f=247469, f_cm=98.6, b=300, d=65)\n",
    "bend.A_f = bend.rho_fb * bend.b * bend.d\n",
    "bend.M_u"
   ],
   "outputs": [
    {
     "data": {
      "text/plain": [
       "np.float64(10.577989578155297)"
      ]
     },
     "execution_count": 230,
     "metadata": {},
     "output_type": "execute_result"
    }
   ],
   "execution_count": 230
  },
  {
   "cell_type": "markdown",
   "metadata": {},
   "source": [
    "## Tests"
   ]
  },
  {
   "cell_type": "code",
   "metadata": {
    "ExecuteTime": {
     "end_time": "2024-05-19T22:23:12.934392Z",
     "start_time": "2024-05-19T22:23:12.932104Z"
    }
   },
   "source": [
    "f_cm_val = 98.6\n",
    "test_vals1 = {f_cm:f_cm_val, \n",
    "              b:300, \n",
    "              d:90, \n",
    "              f_fu:3823.9, \n",
    "              E_f:247469, \n",
    "#             A_f:250, \n",
    "#             rho_f:250/(180*400),\n",
    "            E_cc:EC2.get_E_cm(f_cm_val-8), \n",
    "            eps_cy:EC2.get_eps_c1(f_cm_val-8),\n",
    "           eps_cu:EC2.get_eps_cu1(f_cm_val-8)\n",
    "             }\n",
    "# test_vals1[d] = 185\n",
    "# test_vals1[A_f] = rho_fb_test * test_vals1[b] * test_vals1[d]\n",
    "# test_vals1[rho_f] = rho_fb_test\n",
    "test_vals1"
   ],
   "outputs": [
    {
     "data": {
      "text/plain": [
       "{f_{\\mathrm{cm}}: 98.6,\n",
       " b: 300,\n",
       " d: 90,\n",
       " f_{\\mathrm{fu}}: 3823.9,\n",
       " E_{\\mathrm{f}}: 247469,\n",
       " E_{\\mathrm{cc}}: 43710.49808123633,\n",
       " \\varepsilon_{\\mathrm{cy}}: np.float64(0.0028),\n",
       " \\varepsilon_{\\mathrm{cu}}: np.float64(0.0028000000349919997)}"
      ]
     },
     "execution_count": 231,
     "metadata": {},
     "output_type": "execute_result"
    }
   ],
   "execution_count": 231
  },
  {
   "cell_type": "markdown",
   "metadata": {},
   "source": [
    "$b$ range"
   ]
  },
  {
   "cell_type": "code",
   "metadata": {
    "ExecuteTime": {
     "end_time": "2024-05-19T22:23:12.944227Z",
     "start_time": "2024-05-19T22:23:12.935041Z"
    }
   },
   "source": [
    "sp.N(b_min.subs(sigma_cy_cu_vals).subs(test_vals1).subs(M_req, 100e6)) # with rho_fb"
   ],
   "outputs": [
    {
     "data": {
      "text/plain": [
       "1479.31492447447"
      ],
      "text/latex": "$\\displaystyle 1479.31492447447$"
     },
     "execution_count": 232,
     "metadata": {},
     "output_type": "execute_result"
    }
   ],
   "execution_count": 232
  },
  {
   "cell_type": "code",
   "metadata": {
    "ExecuteTime": {
     "end_time": "2024-05-19T22:23:12.956716Z",
     "start_time": "2024-05-19T22:23:12.945044Z"
    }
   },
   "source": [
    "sp.N(b_max.subs(sigma_cy_cu_vals).subs(test_vals1).subs(M_req, 100e6)) # with rho_f_cy"
   ],
   "outputs": [
    {
     "data": {
      "text/plain": [
       "1479.31495454045"
      ],
      "text/latex": "$\\displaystyle 1479.31495454045$"
     },
     "execution_count": 233,
     "metadata": {},
     "output_type": "execute_result"
    }
   ],
   "execution_count": 233
  },
  {
   "cell_type": "code",
   "metadata": {
    "ExecuteTime": {
     "end_time": "2024-05-19T22:23:12.961579Z",
     "start_time": "2024-05-19T22:23:12.957391Z"
    }
   },
   "source": [
    "rho_f_cy.subs(sigma_cy_cu_vals).subs(test_vals1)"
   ],
   "outputs": [
    {
     "data": {
      "text/plain": [
       "0.00230008437353020"
      ],
      "text/latex": "$\\displaystyle 0.0023000843735302$"
     },
     "execution_count": 234,
     "metadata": {},
     "output_type": "execute_result"
    }
   ],
   "execution_count": 234
  },
  {
   "cell_type": "code",
   "metadata": {
    "ExecuteTime": {
     "end_time": "2024-05-19T22:23:12.966773Z",
     "start_time": "2024-05-19T22:23:12.962203Z"
    }
   },
   "source": [
    "rho_fb.subs(sigma_cy_cu_vals).subs(test_vals1)"
   ],
   "outputs": [
    {
     "data": {
      "text/plain": [
       "0.00230008442027771"
      ],
      "text/latex": "$\\displaystyle 0.00230008442027771$"
     },
     "execution_count": 235,
     "metadata": {},
     "output_type": "execute_result"
    }
   ],
   "execution_count": 235
  },
  {
   "cell_type": "markdown",
   "metadata": {},
   "source": [
    "$d$ range"
   ]
  },
  {
   "cell_type": "code",
   "metadata": {
    "ExecuteTime": {
     "end_time": "2024-05-19T22:23:12.985666Z",
     "start_time": "2024-05-19T22:23:12.967542Z"
    }
   },
   "source": [
    "sp.N(d_min.subs(sigma_cy_cu_vals).subs(test_vals1).subs(M_req, 100e6)) # with rho_fb"
   ],
   "outputs": [
    {
     "data": {
      "text/plain": [
       "199.853703895651"
      ],
      "text/latex": "$\\displaystyle 199.853703895651$"
     },
     "execution_count": 236,
     "metadata": {},
     "output_type": "execute_result"
    }
   ],
   "execution_count": 236
  },
  {
   "cell_type": "code",
   "metadata": {
    "ExecuteTime": {
     "end_time": "2024-05-19T22:23:13.016942Z",
     "start_time": "2024-05-19T22:23:12.986299Z"
    }
   },
   "source": [
    "sp.N(d_max.subs(sigma_cy_cu_vals).subs(test_vals1).subs(M_req, 100e6)) # with rho_f_cy"
   ],
   "outputs": [
    {
     "data": {
      "text/plain": [
       "199.853705926591"
      ],
      "text/latex": "$\\displaystyle 199.853705926591$"
     },
     "execution_count": 237,
     "metadata": {},
     "output_type": "execute_result"
    }
   ],
   "execution_count": 237
  },
  {
   "cell_type": "code",
   "metadata": {
    "ExecuteTime": {
     "end_time": "2024-05-19T22:23:13.019564Z",
     "start_time": "2024-05-19T22:23:13.017676Z"
    }
   },
   "source": [
    "rho_range = np.linspace(0.002057, 0.0032032, 50)\n",
    "b_range = np.linspace(658.33585, 422.8495, 50)\n",
    "d_range = np.linspace(230.9225, 185.069, 50)"
   ],
   "outputs": [],
   "execution_count": 238
  },
  {
   "cell_type": "code",
   "metadata": {
    "ExecuteTime": {
     "end_time": "2024-05-19T22:23:13.023719Z",
     "start_time": "2024-05-19T22:23:13.020026Z"
    }
   },
   "source": [
    "M_us = np.zeros_like(rho_range)\n",
    "i = 0\n",
    "for rho, b_val in zip(rho_range, b_range):\n",
    "    M_u = AnaFRPBending(f_cm = 50, E_f = 200000, f_fu = 2500, b=b_val, d=180, A_f=rho * b_val * 180).M_u\n",
    "    M_us[i] = M_u\n",
    "    i += 1\n",
    "M_us"
   ],
   "outputs": [
    {
     "data": {
      "text/plain": [
       "array([103.89640643, 100.37801283, 100.76021245, 101.1258127 ,\n",
       "       101.47481356, 101.80721504, 102.12301714, 102.42221986,\n",
       "       102.7048232 , 102.97082716, 103.22023173, 103.45303692,\n",
       "       103.66924274, 103.86884917, 104.05185622, 104.21826389,\n",
       "       104.36807218, 104.50128109, 104.61789061, 104.71790076,\n",
       "       104.80131152, 104.8681229 , 104.9183349 , 104.95194752,\n",
       "       104.96896076, 104.96937462, 104.9531891 , 104.92040419,\n",
       "       104.8710199 , 104.80503624, 104.72245319, 104.62327076,\n",
       "       104.50748895, 104.37510776, 104.22612718, 104.06054723,\n",
       "       103.87836789, 103.67958918, 103.46421108, 103.2322336 ,\n",
       "       102.98365674, 102.7184805 , 102.43670488, 102.13832987,\n",
       "       101.82335549, 101.49178172, 101.14360857, 100.77883604,\n",
       "       100.39746413,  99.99949284])"
      ]
     },
     "execution_count": 239,
     "metadata": {},
     "output_type": "execute_result"
    }
   ],
   "execution_count": 239
  },
  {
   "cell_type": "code",
   "metadata": {
    "ExecuteTime": {
     "end_time": "2024-05-19T22:23:13.074666Z",
     "start_time": "2024-05-19T22:23:13.024252Z"
    }
   },
   "source": [
    "fig, ax = plt.subplots()\n",
    "ax.plot(rho_range, M_us)"
   ],
   "outputs": [
    {
     "data": {
      "text/plain": [
       "[<matplotlib.lines.Line2D at 0x13f79ede0>]"
      ]
     },
     "execution_count": 240,
     "metadata": {},
     "output_type": "execute_result"
    },
    {
     "data": {
      "text/plain": [
       "<Figure size 640x480 with 1 Axes>"
      ],
      "image/png": "[encoded data removed]"
     },
     "metadata": {},
     "output_type": "display_data"
    }
   ],
   "execution_count": 240
  },
  {
   "cell_type": "code",
   "metadata": {
    "ExecuteTime": {
     "end_time": "2024-05-19T22:23:13.081396Z",
     "start_time": "2024-05-19T22:23:13.077437Z"
    }
   },
   "source": [
    "M_us = np.zeros_like(rho_range)\n",
    "i = 0\n",
    "for rho, d_val in zip(rho_range, d_range):\n",
    "    M_u = AnaFRPBending(f_cm = 50, E_f = 200000, f_fu = 2500, b=400, d=d_val, A_f=rho * 400 * d_val).M_u\n",
    "    M_us[i] = M_u\n",
    "    i += 1\n",
    "M_us"
   ],
   "outputs": [
    {
     "data": {
      "text/plain": [
       "array([103.89640089, 100.29829255, 100.60234296, 100.89147176,\n",
       "       101.16579095, 101.42541257, 101.67044864, 101.90101118,\n",
       "       102.11721222, 102.31916378, 102.50697789, 102.68076657,\n",
       "       102.84064185, 102.98671574, 103.11910028, 103.23790748,\n",
       "       103.34324937, 103.43523798, 103.51398532, 103.57960343,\n",
       "       103.63220433, 103.67190003, 103.69880258, 103.71302398,\n",
       "       103.71467626, 103.70387145, 103.68072157, 103.64533865,\n",
       "       103.59783471, 103.53832176, 103.46691185, 103.38371699,\n",
       "       103.2888492 , 103.18242052, 103.06454296, 102.93532854,\n",
       "       102.7948893 , 102.64333725, 102.48078442, 102.30734284,\n",
       "       102.12312452, 101.9282415 , 101.72280579, 101.50692942,\n",
       "       101.28072442, 101.04430281, 100.7977766 , 100.54125784,\n",
       "       100.27485853,  99.99869071])"
      ]
     },
     "execution_count": 241,
     "metadata": {},
     "output_type": "execute_result"
    }
   ],
   "execution_count": 241
  },
  {
   "cell_type": "code",
   "metadata": {
    "ExecuteTime": {
     "end_time": "2024-05-19T22:23:13.132475Z",
     "start_time": "2024-05-19T22:23:13.082151Z"
    }
   },
   "source": [
    "fig, ax = plt.subplots()\n",
    "ax.plot(rho_range, M_us)"
   ],
   "outputs": [
    {
     "data": {
      "text/plain": [
       "[<matplotlib.lines.Line2D at 0x1482d8ec0>]"
      ]
     },
     "execution_count": 242,
     "metadata": {},
     "output_type": "execute_result"
    },
    {
     "data": {
      "text/plain": [
       "<Figure size 640x480 with 1 Axes>"
      ],
      "image/png": "[encoded data removed]"
     },
     "metadata": {},
     "output_type": "display_data"
    }
   ],
   "execution_count": 242
  },
  {
   "cell_type": "code",
   "metadata": {
    "ExecuteTime": {
     "end_time": "2024-05-19T22:23:13.136235Z",
     "start_time": "2024-05-19T22:23:13.133260Z"
    }
   },
   "source": [
    "rho_fb_test = sp.N(rho_fb.subs(sigma_cy_cu_vals).subs(test_vals1))\n",
    "rho_fb_test"
   ],
   "outputs": [
    {
     "data": {
      "text/plain": [
       "0.00230008442027771"
      ],
      "text/latex": "$\\displaystyle 0.00230008442027771$"
     },
     "execution_count": 243,
     "metadata": {},
     "output_type": "execute_result"
    }
   ],
   "execution_count": 243
  }
 ],
 "metadata": {
  "kernelspec": {
   "display_name": "Python 3 (ipykernel)",
   "language": "python",
   "name": "python3"
  },
  "language_info": {
   "codemirror_mode": {
    "name": "ipython",
    "version": 3
   },
   "file_extension": ".py",
   "mimetype": "text/x-python",
   "name": "python",
   "nbconvert_exporter": "python",
   "pygments_lexer": "ipython3",
   "version": "3.11.7"
  },
  "toc": {
   "base_numbering": 1,
   "nav_menu": {},
   "number_sections": true,
   "sideBar": true,
   "skip_h1_title": false,
   "title_cell": "Table of Contents",
   "title_sidebar": "Contents",
   "toc_cell": false,
   "toc_position": {},
   "toc_section_display": true,
   "toc_window_display": false
  }
 },
 "nbformat": 4,
 "nbformat_minor": 4
}
