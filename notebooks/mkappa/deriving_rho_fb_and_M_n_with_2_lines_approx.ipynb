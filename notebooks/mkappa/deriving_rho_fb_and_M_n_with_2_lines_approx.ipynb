{
 "cells": [
  {
   "cell_type": "code",
   "metadata": {
    "ExecuteTime": {
     "end_time": "2024-05-17T07:31:45.288275Z",
     "start_time": "2024-05-17T07:31:45.269658Z"
    }
   },
   "source": [
    "#%matplotlib widget\n",
    "from bmcs_cross_section.api import MKappa, EC2, ACI440, AnaFRPBending, ReinfLayer\n",
    "import bmcs_utils.api as bu \n",
    "import sympy as sp\n",
    "import numpy as np\n",
    "import matplotlib.pyplot as plt\n",
    "\n",
    "bu.set_latex_mpl_format()\n",
    "plot_colors = bu.plot_colors"
   ],
   "outputs": [],
   "execution_count": 152
  },
  {
   "cell_type": "markdown",
   "metadata": {},
   "source": [
    "# Deriving the two-lines equations\n",
    "\n",
    "Using a linear regression on data based on the parabolic EC2 stress-strain law of concrete"
   ]
  },
  {
   "cell_type": "code",
   "metadata": {
    "ExecuteTime": {
     "end_time": "2024-05-17T07:31:47.038123Z",
     "start_time": "2024-05-17T07:31:47.001332Z"
    }
   },
   "source": [
    "# EC2, eq. (3.14)\n",
    "\n",
    "sig_c1, sig_c2, sig_c3, eps_cu1, b, d, A_f, f_fu, E_f, rho_f, sigma_f = \\\n",
    " sp.symbols(r'\\sigma_c1 \\sigma_c2 \\sigma_c3, \\varepsilon_\\mathrm{cu1}, b, d, A_\\mathrm{f}, f_\\mathrm{fu}, E_\\mathrm{f}, \\rho_\\mathrm{f}, \\sigma_\\mathrm{f}', real=True, nonnegative=True)\n",
    "eps_cy, eps_cu, eps, E_cc, f_cm, eps_1 = \\\n",
    "sp.symbols(r'\\varepsilon_\\mathrm{cy}, \\varepsilon_\\mathrm{cu}, \\varepsilon, E_\\mathrm{cc}, f_\\mathrm{cm}, \\varepsilon_\\mathrm{1}', real=True, nonnegative=True)\n",
    "kappa= sp.symbols(r'\\kappa', real=True)\n",
    "\n",
    "k = 1.05 * E_cc * eps_cy / f_cm\n",
    "eta = eps / eps_cy\n",
    "sig_c = f_cm * (k * eta - eta**2)/(1 + eta*(k-2))\n",
    "\n",
    "sig_c_eps_ = sp.Piecewise(\n",
    "        (0, eps > eps_cu),\n",
    "        (sig_c, eps > 0),\n",
    "        (0, True)\n",
    ")"
   ],
   "outputs": [],
   "execution_count": 153
  },
  {
   "cell_type": "code",
   "metadata": {
    "ExecuteTime": {
     "end_time": "2024-05-17T07:31:47.068356Z",
     "start_time": "2024-05-17T07:31:47.065253Z"
    }
   },
   "source": [
    "# # Comparison to EC2, multi-linear concept\n",
    "\n",
    "# result2 = np.zeros((len(f_cms), 3))\n",
    "\n",
    "# for i, f_cm_ in enumerate(f_cms):\n",
    "#     sig_c_eps = sig_c_eps_.subs({E_cc:EC2.get_E_cm(f_cm_ - 8), eps_cy:eps_cy_, \n",
    "#                                 f_cm:EC2.get_f_cm(f_cm_ - 8), eps_cu:EC2.get_eps_cu1(f_cm_- 8)})\n",
    "#     get_sig = sp.lambdify(eps, sig_c_eps, 'numpy')\n",
    "#     eps_exact = np.linspace(0, eps_cy_, 300)\n",
    "#     sig_exact = get_sig(eps_exact)\n",
    "#     area_fine = np.trapz(y=sig_exact, x=eps_exact)\n",
    "    \n",
    "#     f_ck = f_cm_ - 8\n",
    "#     eps_c3 = EC2.get_eps_c3(f_ck)\n",
    "#     eps_cu3 = EC2.get_eps_cu3(f_ck)\n",
    "#     area = eps_c3 * f_cm_ / 2 + (eps_cu3 - eps_c3) * f_cm_\n",
    "    \n",
    "#     result2[i, 0] = f_cm_\n",
    "#     result2[i, 1] = area_fine\n",
    "#     result2[i, 2] = area\n",
    "# result2"
   ],
   "outputs": [],
   "execution_count": 154
  },
  {
   "cell_type": "code",
   "metadata": {
    "ExecuteTime": {
     "end_time": "2024-05-17T07:31:48.212780Z",
     "start_time": "2024-05-17T07:31:47.160311Z"
    }
   },
   "source": [
    "# f_cms = np.array([ 20.,  24.,  28.,  33.,  38.,  43.,  48.,  53.,  58.,  63.,  68., 78.,  88.,  98., 108.])\n",
    "f_cms = np.linspace(20, 108, 108 -20 +1)\n",
    "result = np.zeros((len(f_cms), 3))\n",
    "\n",
    "f_cm_limit = 98\n",
    "\n",
    "for i, f_cm_ in enumerate(f_cms):\n",
    "    eps_cy_ = EC2.get_eps_c1(f_cm_ - 8)\n",
    "    eps_cu_ = EC2.get_eps_cu1(f_cm_- 8)\n",
    "\n",
    "    sig_c_eps = sig_c_eps_.subs({E_cc:EC2.get_E_cm(f_cm_ - 8), eps_cy:eps_cy_, \n",
    "                                f_cm:EC2.get_f_cm(f_cm_ - 8), eps_cu:eps_cu_})\n",
    "    get_sig = sp.lambdify(eps, sig_c_eps, 'numpy')\n",
    "    \n",
    "    eps_exact_part_1 = np.linspace(0, eps_cy_, 300)\n",
    "    sig_exact_part_1 = get_sig(eps_exact_part_1)\n",
    "    area_exact_part_1 = np.trapz(y=sig_exact_part_1, x=eps_exact_part_1)\n",
    "    \n",
    "    eps_exact_part_2 = np.linspace(eps_cy_, eps_cu_, 300)\n",
    "    sig_exact_part_2 = get_sig(eps_exact_part_2)\n",
    "    area_exact_part_2 = np.trapz(y=sig_exact_part_2, x=eps_exact_part_2)\n",
    "    \n",
    "    print('area_exact_part_2=', area_exact_part_2)\n",
    "\n",
    "    sig_eps_c1_new = 2 * area_exact_part_1 / eps_cy_\n",
    "    sig_eps_c1_scale = sig_eps_c1_new / f_cm_\n",
    "    \n",
    "    sig_eps_cu1_new = 2 * area_exact_part_2 / (eps_cu_ - eps_cy_) - sig_eps_c1_new\n",
    "    sig_eps_cu1_scale = sig_eps_c1_scale if f_cm_ >= f_cm_limit else sig_eps_cu1_new / f_cm_\n",
    "    \n",
    "    result[i] = [f_cm_, sig_eps_c1_scale, sig_eps_cu1_scale]\n",
    "\n",
    "result"
   ],
   "outputs": [
    {
     "name": "stdout",
     "output_type": "stream",
     "text": [
      "area_exact_part_2= 0.02877701214730907\n",
      "area_exact_part_2= 0.029815737674886583\n",
      "area_exact_part_2= 0.030828691661410515\n",
      "area_exact_part_2= 0.03181655570378753\n",
      "area_exact_part_2= 0.03277995980757356\n",
      "area_exact_part_2= 0.03371948824877098\n",
      "area_exact_part_2= 0.034635684556817724\n",
      "area_exact_part_2= 0.03552905577979381\n",
      "area_exact_part_2= 0.03640007615840567\n",
      "area_exact_part_2= 0.03724919030920936\n",
      "area_exact_part_2= 0.03807681599757036\n",
      "area_exact_part_2= 0.038883346565345735\n",
      "area_exact_part_2= 0.039669153066218\n",
      "area_exact_part_2= 0.040434586152065397\n",
      "area_exact_part_2= 0.041179977746182116\n",
      "area_exact_part_2= 0.04190564253309988\n",
      "area_exact_part_2= 0.04261187928987349\n",
      "area_exact_part_2= 0.043298972079707655\n",
      "area_exact_part_2= 0.04396719132556892\n",
      "area_exact_part_2= 0.04461679477875618\n",
      "area_exact_part_2= 0.045248028395184936\n",
      "area_exact_part_2= 0.0458611271303266\n",
      "area_exact_part_2= 0.04645631566219391\n",
      "area_exact_part_2= 0.04703380905049358\n",
      "area_exact_part_2= 0.04759381333896968\n",
      "area_exact_part_2= 0.048136526107062996\n",
      "area_exact_part_2= 0.0486621369762093\n",
      "area_exact_part_2= 0.04917082807545671\n",
      "area_exact_part_2= 0.049662774470494164\n",
      "area_exact_part_2= 0.05013814455970673\n",
      "area_exact_part_2= 0.05059710044044636\n",
      "area_exact_part_2= 0.05103979824833607\n",
      "area_exact_part_2= 0.05146638847212051\n",
      "area_exact_part_2= 0.05187701624629055\n",
      "area_exact_part_2= 0.05227182162346763\n",
      "area_exact_part_2= 0.0526509398283375\n",
      "area_exact_part_2= 0.05301450149471294\n",
      "area_exact_part_2= 0.05336263288717022\n",
      "area_exact_part_2= 0.05369545610853977\n",
      "area_exact_part_2= 0.050933012796644035\n",
      "area_exact_part_2= 0.04841911156716397\n",
      "area_exact_part_2= 0.0458551057971841\n",
      "area_exact_part_2= 0.04321135972526744\n",
      "area_exact_part_2= 0.040706369624936636\n",
      "area_exact_part_2= 0.03817193011459331\n",
      "area_exact_part_2= 0.03568943554458842\n",
      "area_exact_part_2= 0.033272721493613606\n",
      "area_exact_part_2= 0.030932197721723495\n",
      "area_exact_part_2= 0.028675356080449067\n",
      "area_exact_part_2= 0.026507216390975277\n",
      "area_exact_part_2= 0.024430714921129894\n",
      "area_exact_part_2= 0.02241029333024352\n",
      "area_exact_part_2= 0.020555925889807196\n",
      "area_exact_part_2= 0.01875589387444352\n",
      "area_exact_part_2= 0.017044473509610483\n",
      "area_exact_part_2= 0.015418381314324568\n",
      "area_exact_part_2= 0.013873677973139067\n",
      "area_exact_part_2= 0.012405902530032934\n",
      "area_exact_part_2= 0.011010187901839687\n",
      "area_exact_part_2= 0.009681360795832459\n",
      "area_exact_part_2= 0.008414028693058347\n",
      "area_exact_part_2= 0.007202656172846315\n",
      "area_exact_part_2= 0.00604163250741743\n",
      "area_exact_part_2= 0.0049253321489258406\n",
      "area_exact_part_2= 0.0038481694631037084\n",
      "area_exact_part_2= 0.0028046488314402364\n",
      "area_exact_part_2= 0.0017894110443415238\n",
      "area_exact_part_2= 0.0007972767375742307\n",
      "area_exact_part_2= 0.00023759982078011517\n",
      "area_exact_part_2= 0.00015766077740262638\n",
      "area_exact_part_2= 9.953278669911167e-05\n",
      "area_exact_part_2= 5.89925672151163e-05\n",
      "area_exact_part_2= 3.219263954463172e-05\n",
      "area_exact_part_2= 1.5693749946855806e-05\n",
      "area_exact_part_2= 6.497279996209839e-06\n",
      "area_exact_part_2= 2.0776499998541718e-06\n",
      "area_exact_part_2= 4.1471999996556e-07\n",
      "area_exact_part_2= 2.6190000021551137e-08\n",
      "area_exact_part_2= 0.0\n",
      "area_exact_part_2= 2.6730000021995492e-08\n",
      "area_exact_part_2= 4.3199999996399057e-07\n",
      "area_exact_part_2= 2.2088699998184264e-06\n",
      "area_exact_part_2= 7.050239994756133e-06\n",
      "area_exact_part_2= 1.7381249920273297e-05\n",
      "area_exact_part_2= 3.639167925854229e-05\n",
      "area_exact_part_2= 6.806834507738217e-05\n",
      "area_exact_part_2= 0.00011722749446512867\n",
      "area_exact_part_2= 0.00018954718026941464\n",
      "area_exact_part_2= 0.000291599593403773\n"
     ]
    },
    {
     "name": "stderr",
     "output_type": "stream",
     "text": [
      "C:\\Users\\cgomes\\AppData\\Local\\Temp\\ipykernel_16300\\3663653120.py:28: RuntimeWarning: invalid value encountered in scalar divide\n",
      "  sig_eps_cu1_new = 2 * area_exact_part_2 / (eps_cu_ - eps_cy_) - sig_eps_c1_new\n"
     ]
    },
    {
     "data": {
      "text/plain": [
       "array([[ 20.        ,   1.40553767,   0.25961634],\n",
       "       [ 21.        ,   1.39991292,   0.26927106],\n",
       "       [ 22.        ,   1.39449986,   0.27864123],\n",
       "       [ 23.        ,   1.38928082,   0.2877492 ],\n",
       "       [ 24.        ,   1.38424032,   0.2966147 ],\n",
       "       [ 25.        ,   1.37936465,   0.30525524],\n",
       "       [ 26.        ,   1.37464167,   0.31368645],\n",
       "       [ 27.        ,   1.37006055,   0.32192231],\n",
       "       [ 28.        ,   1.36561157,   0.32997541],\n",
       "       [ 29.        ,   1.36128601,   0.33785714],\n",
       "       [ 30.        ,   1.35707598,   0.34557778],\n",
       "       [ 31.        ,   1.35297435,   0.35314673],\n",
       "       [ 32.        ,   1.34897462,   0.36057252],\n",
       "       [ 33.        ,   1.34507086,   0.36786299],\n",
       "       [ 34.        ,   1.34125767,   0.37502531],\n",
       "       [ 35.        ,   1.33753008,   0.38206607],\n",
       "       [ 36.        ,   1.33388352,   0.38899138],\n",
       "       [ 37.        ,   1.33031378,   0.39580684],\n",
       "       [ 38.        ,   1.32681699,   0.40251767],\n",
       "       [ 39.        ,   1.32338954,   0.40912869],\n",
       "       [ 40.        ,   1.3200281 ,   0.41564439],\n",
       "       [ 41.        ,   1.31672956,   0.42206895],\n",
       "       [ 42.        ,   1.31349104,   0.42840628],\n",
       "       [ 43.        ,   1.31030984,   0.43466001],\n",
       "       [ 44.        ,   1.30718346,   0.44083354],\n",
       "       [ 45.        ,   1.30410953,   0.44693008],\n",
       "       [ 46.        ,   1.30108584,   0.45295261],\n",
       "       [ 47.        ,   1.29811033,   0.45890395],\n",
       "       [ 48.        ,   1.29518105,   0.46478674],\n",
       "       [ 49.        ,   1.29229616,   0.47060346],\n",
       "       [ 50.        ,   1.28945394,   0.47635648],\n",
       "       [ 51.        ,   1.28665276,   0.482048  ],\n",
       "       [ 52.        ,   1.28389108,   0.4876801 ],\n",
       "       [ 53.        ,   1.28116745,   0.49325478],\n",
       "       [ 54.        ,   1.27848048,   0.49877389],\n",
       "       [ 55.        ,   1.27582887,   0.50423921],\n",
       "       [ 56.        ,   1.27321137,   0.50965242],\n",
       "       [ 57.        ,   1.27062683,   0.5150151 ],\n",
       "       [ 58.        ,   1.2680741 ,   0.52032876],\n",
       "       [ 59.        ,   1.26555214,   0.55790297],\n",
       "       [ 60.        ,   1.26305992,   0.58725783],\n",
       "       [ 61.        ,   1.26059648,   0.61283805],\n",
       "       [ 62.        ,   1.25816089,   0.63233065],\n",
       "       [ 63.        ,   1.25575229,   0.65449792],\n",
       "       [ 64.        ,   1.25336981,   0.67137271],\n",
       "       [ 65.        ,   1.25101267,   0.6860688 ],\n",
       "       [ 66.        ,   1.24868009,   0.6988805 ],\n",
       "       [ 67.        ,   1.24637134,   0.71006677],\n",
       "       [ 68.        ,   1.2440857 ,   0.71985449],\n",
       "       [ 69.        ,   1.24182251,   0.72844172],\n",
       "       [ 70.        ,   1.2395811 ,   0.73600074],\n",
       "       [ 71.        ,   1.23736086,   0.73943941],\n",
       "       [ 72.        ,   1.2351612 ,   0.74861118],\n",
       "       [ 73.        ,   1.23298152,   0.75390278],\n",
       "       [ 74.        ,   1.23082128,   0.75865114],\n",
       "       [ 75.        ,   1.22867994,   0.76293796],\n",
       "       [ 76.        ,   1.22655699,   0.766833  ],\n",
       "       [ 77.        ,   1.22445193,   0.7703956 ],\n",
       "       [ 78.        ,   1.22236429,   0.77367609],\n",
       "       [ 79.        ,   1.22029361,   0.77671702],\n",
       "       [ 80.        ,   1.21823943,   0.77955424],\n",
       "       [ 81.        ,   1.21620134,   0.7822178 ],\n",
       "       [ 82.        ,   1.21417891,   0.78473284],\n",
       "       [ 83.        ,   1.21217174,   0.78712022],\n",
       "       [ 84.        ,   1.21017945,   0.78939721],\n",
       "       [ 85.        ,   1.20820166,   0.79157797],\n",
       "       [ 86.        ,   1.20623801,   0.79367404],\n",
       "       [ 87.        ,   1.20428814,   0.79569473],\n",
       "       [ 88.        ,   1.20161951,   0.79837898],\n",
       "       [ 89.        ,   1.19815505,   0.80184428],\n",
       "       [ 90.        ,   1.19470078,   0.80529895],\n",
       "       [ 91.        ,   1.19125605,   0.80874386],\n",
       "       [ 92.        ,   1.1878202 ,   0.81217977],\n",
       "       [ 93.        ,   1.18439257,   0.81560742],\n",
       "       [ 94.        ,   1.18097252,   0.81902747],\n",
       "       [ 95.        ,   1.17755941,   0.82244059],\n",
       "       [ 96.        ,   1.17415257,   0.82584743],\n",
       "       [ 97.        ,   1.17075137,   0.82924863],\n",
       "       [ 98.        ,   1.16735515,   1.16735515],\n",
       "       [ 99.        ,   1.16396326,   1.16396326],\n",
       "       [100.        ,   1.16057506,   1.16057506],\n",
       "       [101.        ,   1.15718987,   1.15718987],\n",
       "       [102.        ,   1.15380704,   1.15380704],\n",
       "       [103.        ,   1.15042588,   1.15042588],\n",
       "       [104.        ,   1.14704572,   1.14704572],\n",
       "       [105.        ,   1.14366588,   1.14366588],\n",
       "       [106.        ,   1.14028563,   1.14028563],\n",
       "       [107.        ,   1.13690428,   1.13690428],\n",
       "       [108.        ,   1.13352108,   1.13352108]])"
      ]
     },
     "execution_count": 155,
     "metadata": {},
     "output_type": "execute_result"
    }
   ],
   "execution_count": 155
  },
  {
   "cell_type": "code",
   "metadata": {
    "ExecuteTime": {
     "end_time": "2024-05-17T07:31:48.344962Z",
     "start_time": "2024-05-17T07:31:48.212780Z"
    }
   },
   "source": [
    "fig1, ax1 = plt.subplots()\n",
    "ax1.plot(result[:, 0], result[:, 1])\n",
    "ax1.plot(result[:, 0], result[:, 2])"
   ],
   "outputs": [
    {
     "data": {
      "text/plain": [
       "[<matplotlib.lines.Line2D at 0x21cdd77dfa0>]"
      ]
     },
     "execution_count": 156,
     "metadata": {},
     "output_type": "execute_result"
    },
    {
     "data": {
      "text/plain": [
       "<Figure size 640x480 with 1 Axes>"
      ],
      "image/png": "[encoded data removed]"
     },
     "metadata": {},
     "output_type": "display_data"
    }
   ],
   "execution_count": 156
  },
  {
   "cell_type": "code",
   "metadata": {
    "ExecuteTime": {
     "end_time": "2024-05-17T07:31:48.354509Z",
     "start_time": "2024-05-17T07:31:48.344962Z"
    }
   },
   "source": [
    "# Linear regression using numpy\n",
    "\n",
    "m1, p1 = np.polyfit(result[:, 0], result[:, 1], 1)\n",
    "sig_cy_scale = m1 * f_cm + p1\n",
    "\n",
    "# Exclude f_cm >= f_cm_limit from curve fitting\n",
    "f_cms_less_than_limit = result[:, 0][result[:, 0] < f_cm_limit]\n",
    "sig_eps_cu1_scale_for_f_cms_less_than_limit = result[:, 2][result[:, 0] < f_cm_limit]\n",
    "m2, p2 = np.polyfit(f_cms_less_than_limit, sig_eps_cu1_scale_for_f_cms_less_than_limit, 1)\n",
    "sig_cu_scale = m2 * f_cm + p2\n",
    "\n",
    "sig_cy_scale, sig_cu_scale"
   ],
   "outputs": [
    {
     "data": {
      "text/plain": [
       "(1.43762037986179 - 0.00278582241716738*f_\\mathrm{cm},\n",
       " 0.00822753426311965*f_\\mathrm{cm} + 0.0955313938528226)"
      ]
     },
     "execution_count": 157,
     "metadata": {},
     "output_type": "execute_result"
    }
   ],
   "execution_count": 157
  },
  {
   "cell_type": "code",
   "metadata": {
    "ExecuteTime": {
     "end_time": "2024-05-17T07:31:48.360774Z",
     "start_time": "2024-05-17T07:31:48.354509Z"
    }
   },
   "source": [
    "get_sig_cy_scale = sp.lambdify(f_cm, sig_cy_scale, 'numpy')\n",
    "get_sig_cu_scale = sp.lambdify(f_cm, sig_cu_scale, 'numpy')"
   ],
   "outputs": [],
   "execution_count": 158
  },
  {
   "cell_type": "code",
   "metadata": {
    "ExecuteTime": {
     "end_time": "2024-05-17T07:31:48.682101Z",
     "start_time": "2024-05-17T07:31:48.360774Z"
    }
   },
   "source": [
    "fig1, ax1 = plt.subplots()\n",
    "ax1.set_xlabel('$f_\\mathrm{cm}$ [MPa]')\n",
    "ax1.set_ylabel('$\\lambda_\\mathrm{cy},\\;\\lambda_\\mathrm{cu}$ [-]')\n",
    "\n",
    "# ax1.plot(result[:, 0], result[:, 1], '--', label='$\\lambda_\\mathrm{cy}$ exact', color=plot_colors[0])\n",
    "ax1.plot(result[:, 0], result[:, 1], 'o', markersize=3, label='$\\lambda_\\mathrm{cy}$ exact', color=plot_colors[0])\n",
    "ax1.plot(result[:, 0], get_sig_cy_scale(result[:, 0]), label='$\\lambda_\\mathrm{cy}$ fitted', color=plot_colors[0])\n",
    "\n",
    "# ax1.plot(result[:, 0], result[:, 2], '--', label='$\\lambda_\\mathrm{cu}$ exact', color=plot_colors[1])\n",
    "ax1.plot(result[:, 0], result[:, 2], 'o', markersize=3, label='$\\lambda_\\mathrm{cu}$ exact', color=plot_colors[1])\n",
    "ax1.plot(result[:, 0], get_sig_cu_scale(result[:, 0]), label='$\\lambda_\\mathrm{cu}$ fitted', color=plot_colors[1])\n",
    "\n",
    "ax1.legend()\n",
    "fig1.show()"
   ],
   "outputs": [
    {
     "name": "stderr",
     "output_type": "stream",
     "text": [
      "<>:2: SyntaxWarning: invalid escape sequence '\\m'\n",
      "<>:3: SyntaxWarning: invalid escape sequence '\\l'\n",
      "<>:6: SyntaxWarning: invalid escape sequence '\\l'\n",
      "<>:7: SyntaxWarning: invalid escape sequence '\\l'\n",
      "<>:10: SyntaxWarning: invalid escape sequence '\\l'\n",
      "<>:11: SyntaxWarning: invalid escape sequence '\\l'\n",
      "<>:2: SyntaxWarning: invalid escape sequence '\\m'\n",
      "<>:3: SyntaxWarning: invalid escape sequence '\\l'\n",
      "<>:6: SyntaxWarning: invalid escape sequence '\\l'\n",
      "<>:7: SyntaxWarning: invalid escape sequence '\\l'\n",
      "<>:10: SyntaxWarning: invalid escape sequence '\\l'\n",
      "<>:11: SyntaxWarning: invalid escape sequence '\\l'\n",
      "C:\\Users\\cgomes\\AppData\\Local\\Temp\\ipykernel_16300\\1957119523.py:2: SyntaxWarning: invalid escape sequence '\\m'\n",
      "  ax1.set_xlabel('$f_\\mathrm{cm}$ [MPa]')\n",
      "C:\\Users\\cgomes\\AppData\\Local\\Temp\\ipykernel_16300\\1957119523.py:3: SyntaxWarning: invalid escape sequence '\\l'\n",
      "  ax1.set_ylabel('$\\lambda_\\mathrm{cy},\\;\\lambda_\\mathrm{cu}$ [-]')\n",
      "C:\\Users\\cgomes\\AppData\\Local\\Temp\\ipykernel_16300\\1957119523.py:6: SyntaxWarning: invalid escape sequence '\\l'\n",
      "  ax1.plot(result[:, 0], result[:, 1], 'o', markersize=3, label='$\\lambda_\\mathrm{cy}$ exact', color=plot_colors[0])\n",
      "C:\\Users\\cgomes\\AppData\\Local\\Temp\\ipykernel_16300\\1957119523.py:7: SyntaxWarning: invalid escape sequence '\\l'\n",
      "  ax1.plot(result[:, 0], get_sig_cy_scale(result[:, 0]), label='$\\lambda_\\mathrm{cy}$ fitted', color=plot_colors[0])\n",
      "C:\\Users\\cgomes\\AppData\\Local\\Temp\\ipykernel_16300\\1957119523.py:10: SyntaxWarning: invalid escape sequence '\\l'\n",
      "  ax1.plot(result[:, 0], result[:, 2], 'o', markersize=3, label='$\\lambda_\\mathrm{cu}$ exact', color=plot_colors[1])\n",
      "C:\\Users\\cgomes\\AppData\\Local\\Temp\\ipykernel_16300\\1957119523.py:11: SyntaxWarning: invalid escape sequence '\\l'\n",
      "  ax1.plot(result[:, 0], get_sig_cu_scale(result[:, 0]), label='$\\lambda_\\mathrm{cu}$ fitted', color=plot_colors[1])\n",
      "C:\\Users\\cgomes\\AppData\\Local\\Temp\\ipykernel_16300\\1957119523.py:14: UserWarning: FigureCanvasAgg is non-interactive, and thus cannot be shown\n",
      "  fig1.show()\n"
     ]
    },
    {
     "data": {
      "text/plain": [
       "<Figure size 640x480 with 1 Axes>"
      ],
      "image/png": "[encoded data removed]"
     },
     "metadata": {},
     "output_type": "display_data"
    }
   ],
   "execution_count": 159
  },
  {
   "cell_type": "code",
   "metadata": {
    "ExecuteTime": {
     "end_time": "2024-05-17T07:31:48.686549Z",
     "start_time": "2024-05-17T07:31:48.682101Z"
    }
   },
   "source": [
    "# fig1.savefig('f_cm_vs_sigma_cy_scale_sigma_cu_scale.pdf')"
   ],
   "outputs": [],
   "execution_count": 160
  },
  {
   "cell_type": "code",
   "metadata": {
    "ExecuteTime": {
     "end_time": "2024-05-17T07:31:48.879894Z",
     "start_time": "2024-05-17T07:31:48.686549Z"
    }
   },
   "source": [
    "# Just for checking..\n",
    "\n",
    "fig, ax = plt.subplots()\n",
    "\n",
    "for f_cm_ in [60]: # f_cms:\n",
    "    eps_cy_ = EC2.get_eps_c1(f_cm_ - 8)\n",
    "    eps_cu_ = EC2.get_eps_cu1(f_cm_ - 8)\n",
    "    sig_c_eps = sig_c_eps_.subs({E_cc:EC2.get_E_cm(f_cm_ - 8), eps_cy:eps_cy_, \n",
    "                                f_cm:f_cm_, eps_cu:eps_cu_})\n",
    "    get_sig = sp.lambdify(eps, sig_c_eps, 'numpy')\n",
    "    \n",
    "    eps_exact = np.linspace(0, eps_cu_, 300)\n",
    "    sig_exact = get_sig(eps_exact)\n",
    "    \n",
    "    sigma_cm_cy_scale = result[np.argwhere(result[:, 0] == f_cm_)[0]][0][1]\n",
    "    sigma_cm_cu_scale = result[np.argwhere(result[:, 0] == f_cm_)[0]][0][2]\n",
    "    eps_coarse = np.array([0., eps_cy_, eps_cu_])\n",
    "    sig_coarse = np.array([0., f_cm_ * sigma_cm_cy_scale, f_cm_ * sigma_cm_cu_scale])\n",
    "    \n",
    "    area_approx = np.trapz(y=sig_coarse, x=eps_coarse)\n",
    "    area_exact = np.trapz(y=sig_exact, x=eps_exact)\n",
    "    print('area_approx =', area_approx)\n",
    "    print('area_exact =', area_exact)\n",
    "    print('area_diff [%] =', (area_exact - area_approx) * 100 / area_exact)\n",
    "    \n",
    "    ax.fill_between(eps_coarse, sig_coarse, color= 'orange', alpha= 0.1)\n",
    "    ax.fill_between(eps_exact, sig_exact, color= 'blue', alpha= 0.1)\n",
    "    ax.set_xlabel('Concrete strain')\n",
    "    ax.set_ylabel('Concrete stress')\n",
    "    ax.plot(eps_exact, sig_exact)\n",
    "    ax.plot(eps_coarse, sig_coarse)\n",
    "    \n",
    "    # Plot example lines\n",
    "    eps_sig_coarse_equals_f_cm = np.interp(f_cm_, sig_coarse[:-1], eps_coarse[:-1])\n",
    "    eps_coarse_psi = np.array([0, eps_sig_coarse_equals_f_cm, eps_cu_])\n",
    "    sig_coarse_psi = np.array([0, f_cm_, f_cm_])\n",
    "    eps_example = 0.001\n",
    "    sig_example = np.interp(eps_example, eps_coarse, sig_coarse)\n",
    "    \n",
    "    ax.plot(eps_coarse_psi, sig_coarse_psi, label='$\\psi_c$ assumption, $\\psi_c = red/black$')\n",
    "    ax.plot([eps_example, eps_example], [0, sig_example])\n",
    "    ax.plot([eps_cy_, eps_cy_], [0, f_cm_], c='black')\n",
    "    ax.legend()\n",
    "\n",
    "fig.show()"
   ],
   "outputs": [
    {
     "name": "stdout",
     "output_type": "stream",
     "text": [
      "area_approx = 0.14279697384496404\n",
      "area_exact = 0.1427964249293711\n",
      "area_diff [%] = -0.0003844042966729845\n"
     ]
    },
    {
     "name": "stderr",
     "output_type": "stream",
     "text": [
      "<>:40: SyntaxWarning: invalid escape sequence '\\p'\n",
      "<>:40: SyntaxWarning: invalid escape sequence '\\p'\n",
      "C:\\Users\\cgomes\\AppData\\Local\\Temp\\ipykernel_16300\\3871600583.py:40: SyntaxWarning: invalid escape sequence '\\p'\n",
      "  ax.plot(eps_coarse_psi, sig_coarse_psi, label='$\\psi_c$ assumption, $\\psi_c = red/black$')\n",
      "C:\\Users\\cgomes\\AppData\\Local\\Temp\\ipykernel_16300\\3871600583.py:45: UserWarning: FigureCanvasAgg is non-interactive, and thus cannot be shown\n",
      "  fig.show()\n"
     ]
    },
    {
     "data": {
      "text/plain": [
       "<Figure size 640x480 with 1 Axes>"
      ],
      "image/png": "[encoded data removed]"
     },
     "metadata": {},
     "output_type": "display_data"
    }
   ],
   "execution_count": 161
  },
  {
   "cell_type": "code",
   "metadata": {
    "ExecuteTime": {
     "end_time": "2024-05-17T07:31:48.884132Z",
     "start_time": "2024-05-17T07:31:48.879894Z"
    }
   },
   "source": [
    "# fig.savefig('stress_strain_concrete_curve_with_linear_approx.pdf')"
   ],
   "outputs": [],
   "execution_count": 162
  },
  {
   "cell_type": "markdown",
   "metadata": {},
   "source": [
    "# Deriving $M_u, \\rho_\\mathrm{fb}, \\psi_c, \\psi_f$ equations for the 2-lines-based material law"
   ]
  },
  {
   "cell_type": "code",
   "metadata": {
    "ExecuteTime": {
     "end_time": "2024-05-17T07:31:48.968005Z",
     "start_time": "2024-05-17T07:31:48.885636Z"
    }
   },
   "source": [
    "substitute_eps_cy = False\n",
    "substitute_scaled_stress = False\n",
    "\n",
    "if substitute_eps_cy:\n",
    "    eps_cy = 0.001 * sp.Min(0.7 * f_cm ** 0.31, 2.8) # 0.001 * 0.7 * f_cm ** 0.31\n",
    "    eps_cu = 0.001 * sp.Piecewise(\n",
    "        (3.5, f_cm <= 58), \n",
    "        (2.8 + 27 * ((98 - f_cm) / 100) ** 4, True)\n",
    ")\n",
    "    \n",
    "# Don't substitute scaled_stress as it makes formulas longer and not any better!\n",
    "if substitute_scaled_stress:\n",
    "    sig_cy_scaled = f_cm * sig_cy_scale\n",
    "    sig_cu_scaled = f_cm * sig_cu_scale\n",
    "else:\n",
    "    sig_cy_scaled, sig_cu_scaled = sp.symbols(r'\\sigma_\\mathrm{cy}, \\sigma_\\mathrm{cu}')\n",
    "\n",
    "sig_line = sp.Line(sp.Point(0, 0), sp.Point(eps_cy, sig_cy_scaled))\n",
    "sig_line2 = sp.Line(sp.Point(eps_cy, sig_cy_scaled), sp.Point(eps_cu, sig_cu_scaled))\n",
    "\n",
    "sig_eq_1 = sig_line.equation(x=eps, y=sig_c1)\n",
    "sig_eq1 = sp.solve(sig_eq_1, sig_c1)[0]\n",
    "\n",
    "sig_eq_2 = sig_line2.equation(x=eps, y=sig_c2)\n",
    "sig_eq2 = sp.solve(sig_eq_2, sig_c2)[0]"
   ],
   "outputs": [],
   "execution_count": 163
  },
  {
   "cell_type": "code",
   "metadata": {
    "ExecuteTime": {
     "end_time": "2024-05-17T07:31:48.976118Z",
     "start_time": "2024-05-17T07:31:48.968005Z"
    }
   },
   "source": [
    "sig_eq = sp.Piecewise(\n",
    "        (sig_eq1, eps <= eps_cy), \n",
    "        (sig_eq2, True)\n",
    ")\n",
    "sig_eq"
   ],
   "outputs": [
    {
     "data": {
      "text/plain": [
       "Piecewise((\\sigma_\\mathrm{cy}*\\varepsilon/\\varepsilon_\\mathrm{cy}, \\varepsilon <= \\varepsilon_\\mathrm{cy}), ((\\sigma_\\mathrm{cu}*\\varepsilon - \\sigma_\\mathrm{cu}*\\varepsilon_\\mathrm{cy} - \\sigma_\\mathrm{cy}*\\varepsilon + \\sigma_\\mathrm{cy}*\\varepsilon_\\mathrm{cu})/(\\varepsilon_\\mathrm{cu} - \\varepsilon_\\mathrm{cy}), True))"
      ],
      "text/latex": "$\\displaystyle \\begin{cases} \\frac{\\sigma_\\mathrm{cy} \\varepsilon}{\\varepsilon_\\mathrm{cy}} & \\text{for}\\: \\varepsilon \\leq \\varepsilon_\\mathrm{cy} \\\\\\frac{\\sigma_\\mathrm{cu} \\varepsilon - \\sigma_\\mathrm{cu} \\varepsilon_\\mathrm{cy} - \\sigma_\\mathrm{cy} \\varepsilon + \\sigma_\\mathrm{cy} \\varepsilon_\\mathrm{cu}}{\\varepsilon_\\mathrm{cu} - \\varepsilon_\\mathrm{cy}} & \\text{otherwise} \\end{cases}$"
     },
     "execution_count": 164,
     "metadata": {},
     "output_type": "execute_result"
    }
   ],
   "execution_count": 164
  },
  {
   "cell_type": "code",
   "metadata": {
    "ExecuteTime": {
     "end_time": "2024-05-17T07:31:49.112484Z",
     "start_time": "2024-05-17T07:31:48.976118Z"
    }
   },
   "source": [
    "sig_eq_area = sp.integrate(sp.simplify(sig_eq), eps)\n",
    "sig_eq_area"
   ],
   "outputs": [
    {
     "data": {
      "text/plain": [
       "Piecewise((\\sigma_\\mathrm{cy}*\\varepsilon**2/(2*\\varepsilon_\\mathrm{cy}), \\varepsilon <= \\varepsilon_\\mathrm{cy}), (\\sigma_\\mathrm{cy}*\\varepsilon_\\mathrm{cy}/2 + \\varepsilon**2*(\\sigma_\\mathrm{cu} - \\sigma_\\mathrm{cy})/(2*\\varepsilon_\\mathrm{cu} - 2*\\varepsilon_\\mathrm{cy}) + \\varepsilon*(-\\sigma_\\mathrm{cu}*\\varepsilon_\\mathrm{cy} + \\sigma_\\mathrm{cy}*\\varepsilon_\\mathrm{cu})/(\\varepsilon_\\mathrm{cu} - \\varepsilon_\\mathrm{cy}) - \\varepsilon_\\mathrm{cy}**2*(\\sigma_\\mathrm{cu} - \\sigma_\\mathrm{cy})/(2*\\varepsilon_\\mathrm{cu} - 2*\\varepsilon_\\mathrm{cy}) - \\varepsilon_\\mathrm{cy}*(-\\sigma_\\mathrm{cu}*\\varepsilon_\\mathrm{cy} + \\sigma_\\mathrm{cy}*\\varepsilon_\\mathrm{cu})/(\\varepsilon_\\mathrm{cu} - \\varepsilon_\\mathrm{cy}), True))"
      ],
      "text/latex": "$\\displaystyle \\begin{cases} \\frac{\\sigma_\\mathrm{cy} \\varepsilon^{2}}{2 \\varepsilon_\\mathrm{cy}} & \\text{for}\\: \\varepsilon \\leq \\varepsilon_\\mathrm{cy} \\\\\\frac{\\sigma_\\mathrm{cy} \\varepsilon_\\mathrm{cy}}{2} + \\frac{\\varepsilon^{2} \\left(\\sigma_\\mathrm{cu} - \\sigma_\\mathrm{cy}\\right)}{2 \\varepsilon_\\mathrm{cu} - 2 \\varepsilon_\\mathrm{cy}} + \\frac{\\varepsilon \\left(- \\sigma_\\mathrm{cu} \\varepsilon_\\mathrm{cy} + \\sigma_\\mathrm{cy} \\varepsilon_\\mathrm{cu}\\right)}{\\varepsilon_\\mathrm{cu} - \\varepsilon_\\mathrm{cy}} - \\frac{\\varepsilon_\\mathrm{cy}^{2} \\left(\\sigma_\\mathrm{cu} - \\sigma_\\mathrm{cy}\\right)}{2 \\varepsilon_\\mathrm{cu} - 2 \\varepsilon_\\mathrm{cy}} - \\frac{\\varepsilon_\\mathrm{cy} \\left(- \\sigma_\\mathrm{cu} \\varepsilon_\\mathrm{cy} + \\sigma_\\mathrm{cy} \\varepsilon_\\mathrm{cu}\\right)}{\\varepsilon_\\mathrm{cu} - \\varepsilon_\\mathrm{cy}} & \\text{otherwise} \\end{cases}$"
     },
     "execution_count": 165,
     "metadata": {},
     "output_type": "execute_result"
    }
   ],
   "execution_count": 165
  },
  {
   "cell_type": "code",
   "metadata": {
    "ExecuteTime": {
     "end_time": "2024-05-17T07:31:49.116047Z",
     "start_time": "2024-05-17T07:31:49.112484Z"
    }
   },
   "source": [
    "# sp.simplify(sig_eq_area).subs({eps_cu - eps_cy: d_eps})"
   ],
   "outputs": [],
   "execution_count": 166
  },
  {
   "cell_type": "code",
   "metadata": {
    "ExecuteTime": {
     "end_time": "2024-05-17T07:31:49.120381Z",
     "start_time": "2024-05-17T07:31:49.116047Z"
    }
   },
   "source": [
    "area_up_to_eps_part_1 = sig_eq_area.args[0][0]\n",
    "area_up_to_eps_part_2 = sig_eq_area.args[1][0]"
   ],
   "outputs": [],
   "execution_count": 167
  },
  {
   "cell_type": "markdown",
   "metadata": {},
   "source": [
    "## Calculate $F_\\mathrm{c, cy}$ and $\\rho_\\mathrm{f, cy}$ defining the switch from part 1 to 2"
   ]
  },
  {
   "cell_type": "code",
   "metadata": {
    "ExecuteTime": {
     "end_time": "2024-05-17T07:31:49.156788Z",
     "start_time": "2024-05-17T07:31:49.120381Z"
    }
   },
   "source": [
    "# Compare F_t = A_f * f_fu with F_c_cy, if F_t <= F_c_1, then use psi_c formula, otherwise psi_c = 1\n",
    "# Note: one can also compare eps_top_solved with eps_cy, but the equation of eps_top_solved is more complicated\n",
    "eps_fu = f_fu/E_f\n",
    "c_1 = d * (eps_cy / (eps_cy + eps_fu))\n",
    "F_c_cy = area_up_to_eps_part_1.subs({eps:eps_cy}) * (c_1 / eps_cy) * b\n",
    "F_c_cy = sp.simplify(F_c_cy)\n",
    "F_c_cy"
   ],
   "outputs": [
    {
     "data": {
      "text/plain": [
       "E_\\mathrm{f}*\\sigma_\\mathrm{cy}*\\varepsilon_\\mathrm{cy}*b*d/(2*(E_\\mathrm{f}*\\varepsilon_\\mathrm{cy} + f_\\mathrm{fu}))"
      ],
      "text/latex": "$\\displaystyle \\frac{E_\\mathrm{f} \\sigma_\\mathrm{cy} \\varepsilon_\\mathrm{cy} b d}{2 \\left(E_\\mathrm{f} \\varepsilon_\\mathrm{cy} + f_\\mathrm{fu}\\right)}$"
     },
     "execution_count": 168,
     "metadata": {},
     "output_type": "execute_result"
    }
   ],
   "execution_count": 168
  },
  {
   "cell_type": "code",
   "metadata": {
    "ExecuteTime": {
     "end_time": "2024-05-17T07:31:49.187976Z",
     "start_time": "2024-05-17T07:31:49.156788Z"
    }
   },
   "source": [
    "# rho corresponding to concrete block up to eps_cy\n",
    "F_t_cy = A_f * f_fu\n",
    "A_f_cy = sp.solve(F_c_cy - F_t_cy, A_f)[0]\n",
    "rho_f_cy = A_f_cy /(b*d)\n",
    "rho_f_cy"
   ],
   "outputs": [
    {
     "data": {
      "text/plain": [
       "E_\\mathrm{f}*\\sigma_\\mathrm{cy}*\\varepsilon_\\mathrm{cy}/(2*f_\\mathrm{fu}*(E_\\mathrm{f}*\\varepsilon_\\mathrm{cy} + f_\\mathrm{fu}))"
      ],
      "text/latex": "$\\displaystyle \\frac{E_\\mathrm{f} \\sigma_\\mathrm{cy} \\varepsilon_\\mathrm{cy}}{2 f_\\mathrm{fu} \\left(E_\\mathrm{f} \\varepsilon_\\mathrm{cy} + f_\\mathrm{fu}\\right)}$"
     },
     "execution_count": 169,
     "metadata": {},
     "output_type": "execute_result"
    }
   ],
   "execution_count": 169
  },
  {
   "cell_type": "code",
   "metadata": {
    "ExecuteTime": {
     "end_time": "2024-05-17T07:31:49.192843Z",
     "start_time": "2024-05-17T07:31:49.187976Z"
    }
   },
   "source": [
    "sp.print_latex(rho_f_cy)"
   ],
   "outputs": [
    {
     "name": "stdout",
     "output_type": "stream",
     "text": [
      "\\frac{E_\\mathrm{f} \\sigma_\\mathrm{cy} \\varepsilon_\\mathrm{cy}}{2 f_\\mathrm{fu} \\left(E_\\mathrm{f} \\varepsilon_\\mathrm{cy} + f_\\mathrm{fu}\\right)}\n"
     ]
    }
   ],
   "execution_count": 170
  },
  {
   "cell_type": "markdown",
   "metadata": {},
   "source": [
    "### Final $\\rho_\\mathrm{f, cy}$ formula\n",
    "\n",
    "$\\rho_\\mathrm{f, cy} = \\frac{E_\\mathrm{f} \\sigma_\\mathrm{cy} \\varepsilon_\\mathrm{cy}}{2 f_\\mathrm{fu} \\left(E_\\mathrm{f} \\varepsilon_\\mathrm{cy} + f_\\mathrm{fu}\\right)}$"
   ]
  },
  {
   "cell_type": "markdown",
   "metadata": {},
   "source": [
    "## $\\psi_c$ for part 1"
   ]
  },
  {
   "cell_type": "code",
   "metadata": {
    "ExecuteTime": {
     "end_time": "2024-05-17T07:31:49.687236Z",
     "start_time": "2024-05-17T07:31:49.192843Z"
    }
   },
   "source": [
    "# Solving eps top for part 1\n",
    "def get_eps_top_solved(index):\n",
    "    c = d * eps/(eps + eps_fu)\n",
    "    F_t = A_f * f_fu\n",
    "    area_up_to_eps = area_up_to_eps_part_1 if index == 0 else area_up_to_eps_part_2\n",
    "    sig_z_area = area_up_to_eps * (c / eps)\n",
    "    F_c = sig_z_area * b\n",
    "    eps_top_solved = sp.solve(F_t - F_c, eps)[1] # Note: this the positive solution\n",
    "    eps_top_solved = sp.simplify(eps_top_solved)\n",
    "    return eps_top_solved\n",
    "\n",
    "eps_part_1 = get_eps_top_solved(0)\n",
    "eps_part_1"
   ],
   "outputs": [
    {
     "data": {
      "text/plain": [
       "f_\\mathrm{fu}*(sqrt(A_\\mathrm{f})*sqrt(\\varepsilon_\\mathrm{cy})*sqrt(A_\\mathrm{f}*E_\\mathrm{f}*\\varepsilon_\\mathrm{cy} + 2*\\sigma_\\mathrm{cy}*b*d) + A_\\mathrm{f}*sqrt(E_\\mathrm{f})*\\varepsilon_\\mathrm{cy})/(sqrt(E_\\mathrm{f})*\\sigma_\\mathrm{cy}*b*d)"
      ],
      "text/latex": "$\\displaystyle \\frac{f_\\mathrm{fu} \\left(\\sqrt{A_\\mathrm{f}} \\sqrt{\\varepsilon_\\mathrm{cy}} \\sqrt{A_\\mathrm{f} E_\\mathrm{f} \\varepsilon_\\mathrm{cy} + 2 \\sigma_\\mathrm{cy} b d} + A_\\mathrm{f} \\sqrt{E_\\mathrm{f}} \\varepsilon_\\mathrm{cy}\\right)}{\\sqrt{E_\\mathrm{f}} \\sigma_\\mathrm{cy} b d}$"
     },
     "execution_count": 171,
     "metadata": {},
     "output_type": "execute_result"
    }
   ],
   "execution_count": 171
  },
  {
   "cell_type": "code",
   "metadata": {
    "ExecuteTime": {
     "end_time": "2024-05-17T07:31:49.692711Z",
     "start_time": "2024-05-17T07:31:49.688242Z"
    }
   },
   "source": [
    "eps_part_1"
   ],
   "outputs": [
    {
     "data": {
      "text/plain": [
       "f_\\mathrm{fu}*(sqrt(A_\\mathrm{f})*sqrt(\\varepsilon_\\mathrm{cy})*sqrt(A_\\mathrm{f}*E_\\mathrm{f}*\\varepsilon_\\mathrm{cy} + 2*\\sigma_\\mathrm{cy}*b*d) + A_\\mathrm{f}*sqrt(E_\\mathrm{f})*\\varepsilon_\\mathrm{cy})/(sqrt(E_\\mathrm{f})*\\sigma_\\mathrm{cy}*b*d)"
      ],
      "text/latex": "$\\displaystyle \\frac{f_\\mathrm{fu} \\left(\\sqrt{A_\\mathrm{f}} \\sqrt{\\varepsilon_\\mathrm{cy}} \\sqrt{A_\\mathrm{f} E_\\mathrm{f} \\varepsilon_\\mathrm{cy} + 2 \\sigma_\\mathrm{cy} b d} + A_\\mathrm{f} \\sqrt{E_\\mathrm{f}} \\varepsilon_\\mathrm{cy}\\right)}{\\sqrt{E_\\mathrm{f}} \\sigma_\\mathrm{cy} b d}$"
     },
     "execution_count": 172,
     "metadata": {},
     "output_type": "execute_result"
    }
   ],
   "execution_count": 172
  },
  {
   "cell_type": "code",
   "metadata": {
    "ExecuteTime": {
     "end_time": "2024-05-17T07:31:50.019742Z",
     "start_time": "2024-05-17T07:31:49.693713Z"
    }
   },
   "source": [
    "# Solving eps top for part 1\n",
    "def get_psi(index):\n",
    "    if index > 0:\n",
    "        return 1\n",
    "    else:\n",
    "        eps_top_solved = get_eps_top_solved(0)\n",
    "        sig_c_max = sig_eq1.subs({eps: eps_top_solved})\n",
    "        # Variant 1:\n",
    "#         psi_c = sp.Min(sig_c_max / f_cm, 1)\n",
    "        # Variant 2: has larger error compared to upper variant, but it doesn't yield 1 until eps_c=eps_cy\n",
    "        psi_c = sig_c_max / sig_cy_scaled\n",
    "        psi_c = sp.simplify(psi_c)\n",
    "        return psi_c\n",
    "psi_c = get_psi(0)\n",
    "psi_c"
   ],
   "outputs": [
    {
     "data": {
      "text/plain": [
       "sqrt(A_\\mathrm{f})*f_\\mathrm{fu}*sqrt(A_\\mathrm{f}*E_\\mathrm{f}*\\varepsilon_\\mathrm{cy} + 2*\\sigma_\\mathrm{cy}*b*d)/(sqrt(E_\\mathrm{f})*\\sigma_\\mathrm{cy}*sqrt(\\varepsilon_\\mathrm{cy})*b*d) + A_\\mathrm{f}*f_\\mathrm{fu}/(\\sigma_\\mathrm{cy}*b*d)"
      ],
      "text/latex": "$\\displaystyle \\frac{\\sqrt{A_\\mathrm{f}} f_\\mathrm{fu} \\sqrt{A_\\mathrm{f} E_\\mathrm{f} \\varepsilon_\\mathrm{cy} + 2 \\sigma_\\mathrm{cy} b d}}{\\sqrt{E_\\mathrm{f}} \\sigma_\\mathrm{cy} \\sqrt{\\varepsilon_\\mathrm{cy}} b d} + \\frac{A_\\mathrm{f} f_\\mathrm{fu}}{\\sigma_\\mathrm{cy} b d}$"
     },
     "execution_count": 173,
     "metadata": {},
     "output_type": "execute_result"
    }
   ],
   "execution_count": 173
  },
  {
   "cell_type": "markdown",
   "metadata": {},
   "source": [
    "### Validate with data"
   ]
  },
  {
   "cell_type": "code",
   "metadata": {
    "ExecuteTime": {
     "end_time": "2024-05-17T07:31:50.026073Z",
     "start_time": "2024-05-17T07:31:50.020764Z"
    }
   },
   "source": [
    "sigma_cy_cu_vals = {sig_cy_scaled:f_cm * sig_cy_scale, sig_cu_scaled:f_cm * sig_cu_scale}\n",
    "test_vals= {f_cm:50, b:400, d:180, f_fu:2500, E_f:200000, \n",
    "            A_f:20,\n",
    "            E_cc:EC2.get_E_cm(50-8), \n",
    "            eps_cy:EC2.get_eps_c1(50-8),\n",
    "           eps_cu:EC2.get_eps_cu1(50-8)}"
   ],
   "outputs": [],
   "execution_count": 174
  },
  {
   "cell_type": "code",
   "metadata": {
    "ExecuteTime": {
     "end_time": "2024-05-17T07:31:50.071207Z",
     "start_time": "2024-05-17T07:31:50.026576Z"
    }
   },
   "source": [
    "sp.N(psi_c.subs(sigma_cy_cu_vals).subs(test_vals))"
   ],
   "outputs": [
    {
     "data": {
      "text/plain": [
       "0.347938662952384"
      ],
      "text/latex": "$\\displaystyle 0.347938662952384$"
     },
     "execution_count": 175,
     "metadata": {},
     "output_type": "execute_result"
    }
   ],
   "execution_count": 175
  },
  {
   "cell_type": "markdown",
   "metadata": {},
   "source": [
    "### Validate with Test T1"
   ]
  },
  {
   "cell_type": "code",
   "metadata": {
    "ExecuteTime": {
     "end_time": "2024-05-17T07:31:50.101606Z",
     "start_time": "2024-05-17T07:31:50.072209Z"
    }
   },
   "source": [
    "T1_data = {f_cm:98.63, b:300, d:90, f_fu:3823.90, E_f:247468.92, \\\n",
    "           rho_f:28.96/(300 * 90),\n",
    "           A_f:28.96, E_cc:EC2.get_E_cm(98.63-8), eps_cy:EC2.get_eps_c1(98.63-8), \\\n",
    "           eps_cu:EC2.get_eps_cu1(98.63-8)}\n",
    "\n",
    "# Value from MK tool is about 0.77\n",
    "sp.N(psi_c.subs(sigma_cy_cu_vals).subs(T1_data))"
   ],
   "outputs": [
    {
     "data": {
      "text/plain": [
       "0.665027473503739"
      ],
      "text/latex": "$\\displaystyle 0.665027473503739$"
     },
     "execution_count": 176,
     "metadata": {},
     "output_type": "execute_result"
    }
   ],
   "execution_count": 176
  },
  {
   "cell_type": "markdown",
   "metadata": {},
   "source": [
    "### Reduce and print formula"
   ]
  },
  {
   "cell_type": "code",
   "metadata": {
    "ExecuteTime": {
     "end_time": "2024-05-17T07:31:50.113203Z",
     "start_time": "2024-05-17T07:31:50.102609Z"
    }
   },
   "source": [
    "psi_c_reduced = sp.cse(psi_c)\n",
    "psi_c_reduced[-1][0]"
   ],
   "outputs": [
    {
     "data": {
      "text/plain": [
       "sqrt(A_\\mathrm{f})*x0*sqrt(A_\\mathrm{f}*E_\\mathrm{f}*\\varepsilon_\\mathrm{cy} + 2*\\sigma_\\mathrm{cy}*b*d)/(sqrt(E_\\mathrm{f})*sqrt(\\varepsilon_\\mathrm{cy})) + A_\\mathrm{f}*x0"
      ],
      "text/latex": "$\\displaystyle \\frac{\\sqrt{A_\\mathrm{f}} x_{0} \\sqrt{A_\\mathrm{f} E_\\mathrm{f} \\varepsilon_\\mathrm{cy} + 2 \\sigma_\\mathrm{cy} b d}}{\\sqrt{E_\\mathrm{f}} \\sqrt{\\varepsilon_\\mathrm{cy}}} + A_\\mathrm{f} x_{0}$"
     },
     "execution_count": 177,
     "metadata": {},
     "output_type": "execute_result"
    }
   ],
   "execution_count": 177
  },
  {
   "cell_type": "code",
   "metadata": {
    "ExecuteTime": {
     "end_time": "2024-05-17T07:31:50.120638Z",
     "start_time": "2024-05-17T07:31:50.114207Z"
    }
   },
   "source": [
    "sp.print_latex(psi_c_reduced[-1][0])"
   ],
   "outputs": [
    {
     "name": "stdout",
     "output_type": "stream",
     "text": [
      "\\frac{\\sqrt{A_\\mathrm{f}} x_{0} \\sqrt{A_\\mathrm{f} E_\\mathrm{f} \\varepsilon_\\mathrm{cy} + 2 \\sigma_\\mathrm{cy} b d}}{\\sqrt{E_\\mathrm{f}} \\sqrt{\\varepsilon_\\mathrm{cy}}} + A_\\mathrm{f} x_{0}\n"
     ]
    }
   ],
   "execution_count": 178
  },
  {
   "cell_type": "code",
   "metadata": {
    "ExecuteTime": {
     "end_time": "2024-05-17T07:31:50.131207Z",
     "start_time": "2024-05-17T07:31:50.123143Z"
    }
   },
   "source": [
    "psi_c_reduced[0][0][1]"
   ],
   "outputs": [
    {
     "data": {
      "text/plain": [
       "f_\\mathrm{fu}/(\\sigma_\\mathrm{cy}*b*d)"
      ],
      "text/latex": "$\\displaystyle \\frac{f_\\mathrm{fu}}{\\sigma_\\mathrm{cy} b d}$"
     },
     "execution_count": 179,
     "metadata": {},
     "output_type": "execute_result"
    }
   ],
   "execution_count": 179
  },
  {
   "cell_type": "markdown",
   "metadata": {},
   "source": [
    "### Final $\\psi_c$ formula\n",
    "\n",
    "For $\\rho_\\mathrm{f} < \\rho_\\mathrm{fb}$, the utilization ratio for concrete is given as\n",
    "\n",
    "$\n",
    "\\psi_c = \\min\\left(1,~\\frac{f_\\mathrm{fu}}{b d f_\\mathrm{cm}} \\cdot \\bigg( A_\\mathrm{f} + \\sqrt{\\frac{A_\\mathrm{f} \\cdot (A_\\mathrm{f} E_\\mathrm{f} \\varepsilon_{cy} + 2 b d f_\\mathrm{cm, cy})}{E_\\mathrm{f} \\varepsilon_\\mathrm{cy}}} \\bigg)\\right)\n",
    "$\n",
    "\n",
    "Note: can be used for $\\rho_\\mathrm{f} < \\rho_\\mathrm{fb}$ without checking $F_t < F_{c, cy}$ because for that case it indeed result in a value larger than 1, so the final resulting value of 1 is correct."
   ]
  },
  {
   "cell_type": "markdown",
   "metadata": {},
   "source": [
    "## $M_u$ for part 1"
   ]
  },
  {
   "cell_type": "code",
   "metadata": {
    "ExecuteTime": {
     "end_time": "2024-05-17T07:31:50.408385Z",
     "start_time": "2024-05-17T07:31:50.133210Z"
    }
   },
   "source": [
    "# Because first part is triangle, the center of it is\n",
    "# ce: the distance from the top of the cross section to the centroid of concrete compression block\n",
    "eps_f = sigma_f / E_f\n",
    "c = d * eps/(eps + eps_f)\n",
    "c1 = c.subs({eps: eps_part_1, sigma_f: f_fu})\n",
    "ce1 = c1 / 3\n",
    "ce1 = sp.simplify(ce1)\n",
    "ce1"
   ],
   "outputs": [
    {
     "data": {
      "text/plain": [
       "E_\\mathrm{f}*d*(sqrt(A_\\mathrm{f})*sqrt(\\varepsilon_\\mathrm{cy})*sqrt(A_\\mathrm{f}*E_\\mathrm{f}*\\varepsilon_\\mathrm{cy} + 2*\\sigma_\\mathrm{cy}*b*d) + A_\\mathrm{f}*sqrt(E_\\mathrm{f})*\\varepsilon_\\mathrm{cy})/(3*(sqrt(E_\\mathrm{f})*\\sigma_\\mathrm{cy}*b*d + E_\\mathrm{f}*(sqrt(A_\\mathrm{f})*sqrt(\\varepsilon_\\mathrm{cy})*sqrt(A_\\mathrm{f}*E_\\mathrm{f}*\\varepsilon_\\mathrm{cy} + 2*\\sigma_\\mathrm{cy}*b*d) + A_\\mathrm{f}*sqrt(E_\\mathrm{f})*\\varepsilon_\\mathrm{cy})))"
      ],
      "text/latex": "$\\displaystyle \\frac{E_\\mathrm{f} d \\left(\\sqrt{A_\\mathrm{f}} \\sqrt{\\varepsilon_\\mathrm{cy}} \\sqrt{A_\\mathrm{f} E_\\mathrm{f} \\varepsilon_\\mathrm{cy} + 2 \\sigma_\\mathrm{cy} b d} + A_\\mathrm{f} \\sqrt{E_\\mathrm{f}} \\varepsilon_\\mathrm{cy}\\right)}{3 \\left(\\sqrt{E_\\mathrm{f}} \\sigma_\\mathrm{cy} b d + E_\\mathrm{f} \\left(\\sqrt{A_\\mathrm{f}} \\sqrt{\\varepsilon_\\mathrm{cy}} \\sqrt{A_\\mathrm{f} E_\\mathrm{f} \\varepsilon_\\mathrm{cy} + 2 \\sigma_\\mathrm{cy} b d} + A_\\mathrm{f} \\sqrt{E_\\mathrm{f}} \\varepsilon_\\mathrm{cy}\\right)\\right)}$"
     },
     "execution_count": 180,
     "metadata": {},
     "output_type": "execute_result"
    }
   ],
   "execution_count": 180
  },
  {
   "cell_type": "code",
   "metadata": {
    "ExecuteTime": {
     "end_time": "2024-05-17T07:31:50.416534Z",
     "start_time": "2024-05-17T07:31:50.412388Z"
    }
   },
   "source": [
    "# sp.simplify(c1).subs({x4: 'm2'})"
   ],
   "outputs": [],
   "execution_count": 181
  },
  {
   "cell_type": "code",
   "metadata": {
    "ExecuteTime": {
     "end_time": "2024-05-17T07:31:50.641326Z",
     "start_time": "2024-05-17T07:31:50.424830Z"
    }
   },
   "source": [
    "# Valid for f_cm > 80 in general and in case F_t < F_c_1\n",
    "M_n_1 = sp.simplify(A_f * f_fu * (d - ce1))\n",
    "M_n_1"
   ],
   "outputs": [
    {
     "data": {
      "text/plain": [
       "A_\\mathrm{f}*d*f_\\mathrm{fu}*(3*sqrt(E_\\mathrm{f})*\\sigma_\\mathrm{cy}*b*d + 2*E_\\mathrm{f}*(sqrt(A_\\mathrm{f})*sqrt(\\varepsilon_\\mathrm{cy})*sqrt(A_\\mathrm{f}*E_\\mathrm{f}*\\varepsilon_\\mathrm{cy} + 2*\\sigma_\\mathrm{cy}*b*d) + A_\\mathrm{f}*sqrt(E_\\mathrm{f})*\\varepsilon_\\mathrm{cy}))/(3*(sqrt(E_\\mathrm{f})*\\sigma_\\mathrm{cy}*b*d + E_\\mathrm{f}*(sqrt(A_\\mathrm{f})*sqrt(\\varepsilon_\\mathrm{cy})*sqrt(A_\\mathrm{f}*E_\\mathrm{f}*\\varepsilon_\\mathrm{cy} + 2*\\sigma_\\mathrm{cy}*b*d) + A_\\mathrm{f}*sqrt(E_\\mathrm{f})*\\varepsilon_\\mathrm{cy})))"
      ],
      "text/latex": "$\\displaystyle \\frac{A_\\mathrm{f} d f_\\mathrm{fu} \\left(3 \\sqrt{E_\\mathrm{f}} \\sigma_\\mathrm{cy} b d + 2 E_\\mathrm{f} \\left(\\sqrt{A_\\mathrm{f}} \\sqrt{\\varepsilon_\\mathrm{cy}} \\sqrt{A_\\mathrm{f} E_\\mathrm{f} \\varepsilon_\\mathrm{cy} + 2 \\sigma_\\mathrm{cy} b d} + A_\\mathrm{f} \\sqrt{E_\\mathrm{f}} \\varepsilon_\\mathrm{cy}\\right)\\right)}{3 \\left(\\sqrt{E_\\mathrm{f}} \\sigma_\\mathrm{cy} b d + E_\\mathrm{f} \\left(\\sqrt{A_\\mathrm{f}} \\sqrt{\\varepsilon_\\mathrm{cy}} \\sqrt{A_\\mathrm{f} E_\\mathrm{f} \\varepsilon_\\mathrm{cy} + 2 \\sigma_\\mathrm{cy} b d} + A_\\mathrm{f} \\sqrt{E_\\mathrm{f}} \\varepsilon_\\mathrm{cy}\\right)\\right)}$"
     },
     "execution_count": 182,
     "metadata": {},
     "output_type": "execute_result"
    }
   ],
   "execution_count": 182
  },
  {
   "cell_type": "markdown",
   "metadata": {},
   "source": [
    "### Reduce and print formula"
   ]
  },
  {
   "cell_type": "code",
   "metadata": {
    "ExecuteTime": {
     "end_time": "2024-05-17T07:31:50.656241Z",
     "start_time": "2024-05-17T07:31:50.641326Z"
    }
   },
   "source": [
    "# packaging common terms\n",
    "M_n_1_reduced = sp.cse(M_n_1)\n",
    "M_n_1_reduced"
   ],
   "outputs": [
    {
     "data": {
      "text/plain": [
       "([(x0, sqrt(E_\\mathrm{f})),\n",
       "  (x1, \\sigma_\\mathrm{cy}*b*d),\n",
       "  (x2, x0*x1),\n",
       "  (x3, A_\\mathrm{f}*\\varepsilon_\\mathrm{cy}),\n",
       "  (x4,\n",
       "   E_\\mathrm{f}*(sqrt(A_\\mathrm{f})*sqrt(\\varepsilon_\\mathrm{cy})*sqrt(E_\\mathrm{f}*x3 + 2*x1) + x0*x3))],\n",
       " [A_\\mathrm{f}*d*f_\\mathrm{fu}*(3*x2 + 2*x4)/(3*(x2 + x4))])"
      ]
     },
     "execution_count": 183,
     "metadata": {},
     "output_type": "execute_result"
    }
   ],
   "execution_count": 183
  },
  {
   "cell_type": "code",
   "metadata": {
    "ExecuteTime": {
     "end_time": "2024-05-17T07:31:50.663130Z",
     "start_time": "2024-05-17T07:31:50.656241Z"
    }
   },
   "source": [
    "M_n_1_reduced[-1][0]"
   ],
   "outputs": [
    {
     "data": {
      "text/plain": [
       "A_\\mathrm{f}*d*f_\\mathrm{fu}*(3*x2 + 2*x4)/(3*(x2 + x4))"
      ],
      "text/latex": "$\\displaystyle \\frac{A_\\mathrm{f} d f_\\mathrm{fu} \\left(3 x_{2} + 2 x_{4}\\right)}{3 \\left(x_{2} + x_{4}\\right)}$"
     },
     "execution_count": 184,
     "metadata": {},
     "output_type": "execute_result"
    }
   ],
   "execution_count": 184
  },
  {
   "cell_type": "code",
   "metadata": {
    "ExecuteTime": {
     "end_time": "2024-05-17T07:31:50.676323Z",
     "start_time": "2024-05-17T07:31:50.663130Z"
    }
   },
   "source": [
    "symb_exp_list = [[s, e] for (s, e) in M_n_1_reduced[0]]\n",
    "for symb_exp in symb_exp_list:\n",
    "    symb_exp[1] = symb_exp[1].subs({s:e for (s, e) in symb_exp_list})\n",
    "symb_exp_list"
   ],
   "outputs": [
    {
     "data": {
      "text/plain": [
       "[[x0, sqrt(E_\\mathrm{f})],\n",
       " [x1, \\sigma_\\mathrm{cy}*b*d],\n",
       " [x2, sqrt(E_\\mathrm{f})*\\sigma_\\mathrm{cy}*b*d],\n",
       " [x3, A_\\mathrm{f}*\\varepsilon_\\mathrm{cy}],\n",
       " [x4,\n",
       "  E_\\mathrm{f}*(sqrt(A_\\mathrm{f})*sqrt(\\varepsilon_\\mathrm{cy})*sqrt(A_\\mathrm{f}*E_\\mathrm{f}*\\varepsilon_\\mathrm{cy} + 2*\\sigma_\\mathrm{cy}*b*d) + A_\\mathrm{f}*sqrt(E_\\mathrm{f})*\\varepsilon_\\mathrm{cy})]]"
      ]
     },
     "execution_count": 185,
     "metadata": {},
     "output_type": "execute_result"
    }
   ],
   "execution_count": 185
  },
  {
   "cell_type": "code",
   "metadata": {
    "ExecuteTime": {
     "end_time": "2024-05-17T07:31:50.681216Z",
     "start_time": "2024-05-17T07:31:50.677330Z"
    }
   },
   "source": [
    "x2 = symb_exp_list[2][1]\n",
    "x2"
   ],
   "outputs": [
    {
     "data": {
      "text/plain": [
       "sqrt(E_\\mathrm{f})*\\sigma_\\mathrm{cy}*b*d"
      ],
      "text/latex": "$\\displaystyle \\sqrt{E_\\mathrm{f}} \\sigma_\\mathrm{cy} b d$"
     },
     "execution_count": 186,
     "metadata": {},
     "output_type": "execute_result"
    }
   ],
   "execution_count": 186
  },
  {
   "cell_type": "code",
   "metadata": {
    "ExecuteTime": {
     "end_time": "2024-05-17T07:31:50.900074Z",
     "start_time": "2024-05-17T07:31:50.895127Z"
    }
   },
   "source": [
    "sp.print_latex(x2)"
   ],
   "outputs": [
    {
     "name": "stdout",
     "output_type": "stream",
     "text": [
      "\\sqrt{E_\\mathrm{f}} \\sigma_\\mathrm{cy} b d\n"
     ]
    }
   ],
   "execution_count": 187
  },
  {
   "cell_type": "code",
   "metadata": {
    "ExecuteTime": {
     "end_time": "2024-05-17T07:31:51.230089Z",
     "start_time": "2024-05-17T07:31:51.223826Z"
    }
   },
   "source": [
    "x4 = symb_exp_list[4][1]\n",
    "x4"
   ],
   "outputs": [
    {
     "data": {
      "text/plain": [
       "E_\\mathrm{f}*(sqrt(A_\\mathrm{f})*sqrt(\\varepsilon_\\mathrm{cy})*sqrt(A_\\mathrm{f}*E_\\mathrm{f}*\\varepsilon_\\mathrm{cy} + 2*\\sigma_\\mathrm{cy}*b*d) + A_\\mathrm{f}*sqrt(E_\\mathrm{f})*\\varepsilon_\\mathrm{cy})"
      ],
      "text/latex": "$\\displaystyle E_\\mathrm{f} \\left(\\sqrt{A_\\mathrm{f}} \\sqrt{\\varepsilon_\\mathrm{cy}} \\sqrt{A_\\mathrm{f} E_\\mathrm{f} \\varepsilon_\\mathrm{cy} + 2 \\sigma_\\mathrm{cy} b d} + A_\\mathrm{f} \\sqrt{E_\\mathrm{f}} \\varepsilon_\\mathrm{cy}\\right)$"
     },
     "execution_count": 188,
     "metadata": {},
     "output_type": "execute_result"
    }
   ],
   "execution_count": 188
  },
  {
   "cell_type": "code",
   "metadata": {
    "ExecuteTime": {
     "end_time": "2024-05-17T07:31:51.647365Z",
     "start_time": "2024-05-17T07:31:51.631923Z"
    }
   },
   "source": [
    "sp.print_latex(x4)"
   ],
   "outputs": [
    {
     "name": "stdout",
     "output_type": "stream",
     "text": [
      "E_\\mathrm{f} \\left(\\sqrt{A_\\mathrm{f}} \\sqrt{\\varepsilon_\\mathrm{cy}} \\sqrt{A_\\mathrm{f} E_\\mathrm{f} \\varepsilon_\\mathrm{cy} + 2 \\sigma_\\mathrm{cy} b d} + A_\\mathrm{f} \\sqrt{E_\\mathrm{f}} \\varepsilon_\\mathrm{cy}\\right)\n"
     ]
    }
   ],
   "execution_count": 189
  },
  {
   "cell_type": "code",
   "metadata": {
    "ExecuteTime": {
     "end_time": "2024-05-17T07:31:51.716265Z",
     "start_time": "2024-05-17T07:31:51.707788Z"
    }
   },
   "source": [
    "sp.print_latex(M_n_1_reduced[-1][0])"
   ],
   "outputs": [
    {
     "name": "stdout",
     "output_type": "stream",
     "text": [
      "\\frac{A_\\mathrm{f} d f_\\mathrm{fu} \\left(3 x_{2} + 2 x_{4}\\right)}{3 \\left(x_{2} + x_{4}\\right)}\n"
     ]
    }
   ],
   "execution_count": 190
  },
  {
   "cell_type": "markdown",
   "metadata": {},
   "source": [
    "### Final $M_u$ formula\n",
    "\n",
    "For $\\rho_\\mathrm{f} < \\rho_\\mathrm{f, cy}$, flexural capacity is given\n",
    "\n",
    "$M_\\mathrm{u,cy} = \\frac{A_\\mathrm{f} d f_\\mathrm{fu} \\left(3 m_{1} + 2 m_{2}\\right)}{3 \\left(m_{1} + m_{2}\\right)}$\n",
    "\n",
    "with\n",
    "\n",
    "\\begin{align}\n",
    "m_1 & = \\sqrt{E_\\mathrm{f}} b d f_\\mathrm{cm, cy}, \\\\\n",
    "m_2 & =  E_f \\Bigg( \\sqrt{A_\\mathrm{f} \\varepsilon_\\mathrm{cy} \\cdot \\bigg(A_\\mathrm{f} E_\\mathrm{f} \\varepsilon_\\mathrm{cy} + \\frac{2 m_1}{\\sqrt{E_\\mathrm{f}}}\\bigg)} + A_\\mathrm{f}~\\varepsilon_\\mathrm{cy}~\\sqrt{E_\\mathrm{f}} \\Bigg)\n",
    "\\end{align}"
   ]
  },
  {
   "cell_type": "markdown",
   "metadata": {},
   "source": [
    "## Curvature $\\kappa$ for part 1\n",
    "\n",
    "Valid for $\\rho_f < \\rho_{f, cy}$"
   ]
  },
  {
   "cell_type": "code",
   "metadata": {
    "ExecuteTime": {
     "end_time": "2024-05-17T07:31:51.889831Z",
     "start_time": "2024-05-17T07:31:51.878332Z"
    }
   },
   "source": [
    "kappa_1 = eps_part_1 / c1\n",
    "kappa_1"
   ],
   "outputs": [
    {
     "data": {
      "text/plain": [
       "(f_\\mathrm{fu}/E_\\mathrm{f} + f_\\mathrm{fu}*(sqrt(A_\\mathrm{f})*sqrt(\\varepsilon_\\mathrm{cy})*sqrt(A_\\mathrm{f}*E_\\mathrm{f}*\\varepsilon_\\mathrm{cy} + 2*\\sigma_\\mathrm{cy}*b*d) + A_\\mathrm{f}*sqrt(E_\\mathrm{f})*\\varepsilon_\\mathrm{cy})/(sqrt(E_\\mathrm{f})*\\sigma_\\mathrm{cy}*b*d))/d"
      ],
      "text/latex": "$\\displaystyle \\frac{\\frac{f_\\mathrm{fu}}{E_\\mathrm{f}} + \\frac{f_\\mathrm{fu} \\left(\\sqrt{A_\\mathrm{f}} \\sqrt{\\varepsilon_\\mathrm{cy}} \\sqrt{A_\\mathrm{f} E_\\mathrm{f} \\varepsilon_\\mathrm{cy} + 2 \\sigma_\\mathrm{cy} b d} + A_\\mathrm{f} \\sqrt{E_\\mathrm{f}} \\varepsilon_\\mathrm{cy}\\right)}{\\sqrt{E_\\mathrm{f}} \\sigma_\\mathrm{cy} b d}}{d}$"
     },
     "execution_count": 191,
     "metadata": {},
     "output_type": "execute_result"
    }
   ],
   "execution_count": 191
  },
  {
   "cell_type": "code",
   "metadata": {
    "ExecuteTime": {
     "end_time": "2024-05-17T07:31:51.925828Z",
     "start_time": "2024-05-17T07:31:51.904421Z"
    }
   },
   "source": [
    "# or as follows\n",
    "kappa_1 = kappa_1.subs({eps_part_1: eps_1})\n",
    "kappa_1"
   ],
   "outputs": [
    {
     "data": {
      "text/plain": [
       "(\\varepsilon_\\mathrm{1} + f_\\mathrm{fu}/E_\\mathrm{f})/d"
      ],
      "text/latex": "$\\displaystyle \\frac{\\varepsilon_\\mathrm{1} + \\frac{f_\\mathrm{fu}}{E_\\mathrm{f}}}{d}$"
     },
     "execution_count": 192,
     "metadata": {},
     "output_type": "execute_result"
    }
   ],
   "execution_count": 192
  },
  {
   "cell_type": "markdown",
   "metadata": {},
   "source": [
    "## Solving for the second part where $\\varepsilon_c < \\varepsilon_{cu}$\n",
    "\n",
    "Note: this is complex and not usable, but left here for completeness, use the formula of $\\rho_f > \\rho_{fb}$ instead which gives conservative M_u solution."
   ]
  },
  {
   "cell_type": "code",
   "metadata": {
    "ExecuteTime": {
     "end_time": "2024-05-17T07:31:52.099592Z",
     "start_time": "2024-05-17T07:31:52.096282Z"
    }
   },
   "source": [
    "# eps_part_2 = get_eps_top_solved(1)\n",
    "# eps_part_2"
   ],
   "outputs": [],
   "execution_count": 193
  },
  {
   "cell_type": "code",
   "metadata": {
    "ExecuteTime": {
     "end_time": "2024-05-17T07:31:52.185439Z",
     "start_time": "2024-05-17T07:31:52.182120Z"
    }
   },
   "source": [
    "# ce_part_2 = ce2_eps_fraction.subs({eps: eps_part_2}) * c.subs({eps: eps_part_2})\n",
    "# # simplify takes forever here\n",
    "# # ce_part_2 = sp.simplify(ce_part_2)\n",
    "# ce_part_2"
   ],
   "outputs": [],
   "execution_count": 194
  },
  {
   "cell_type": "code",
   "metadata": {
    "ExecuteTime": {
     "end_time": "2024-05-17T07:31:52.339532Z",
     "start_time": "2024-05-17T07:31:52.336338Z"
    }
   },
   "source": [
    "# M_n_part_2 = A_f * f_fu * (d - ce_part_2)\n",
    "# # simplify takes forever here\n",
    "# # M_n_part_2 = sp.simplify(M_n_part_2)\n",
    "# M_n_part_2"
   ],
   "outputs": [],
   "execution_count": 195
  },
  {
   "cell_type": "markdown",
   "metadata": {},
   "source": [
    "# Deriving $M_u$ and other equations for $\\rho_\\mathrm{f} \\ge \\rho_\\mathrm{fb}$\n",
    "\n",
    "Here, we know that $\\varepsilon_{c, top} = \\varepsilon_{cu}$"
   ]
  },
  {
   "cell_type": "markdown",
   "metadata": {},
   "source": [
    "## Balanced reinforcement ratio $\\rho_\\mathrm{fb}$"
   ]
  },
  {
   "cell_type": "code",
   "metadata": {
    "ExecuteTime": {
     "end_time": "2024-05-17T07:31:52.612153Z",
     "start_time": "2024-05-17T07:31:52.412983Z"
    }
   },
   "source": [
    "F_t = A_f * f_fu\n",
    "sig_z_area = area_up_to_eps_part_2.subs({eps:eps_cu}) * (c.subs({eps:eps_cu}) / eps_cu)\n",
    "F_c = sig_z_area * b\n",
    "A_fb = sp.solve(F_t - F_c, A_f)[0]\n",
    "A_fb = sp.simplify(A_fb).subs(sigma_f, f_fu)\n",
    "rho_fb = A_fb / (b * d)\n",
    "rho_fb"
   ],
   "outputs": [
    {
     "data": {
      "text/plain": [
       "E_\\mathrm{f}*(\\sigma_\\mathrm{cu}*\\varepsilon_\\mathrm{cu} - \\sigma_\\mathrm{cu}*\\varepsilon_\\mathrm{cy} + \\sigma_\\mathrm{cy}*\\varepsilon_\\mathrm{cu})/(2*f_\\mathrm{fu}*(E_\\mathrm{f}*\\varepsilon_\\mathrm{cu} + f_\\mathrm{fu}))"
      ],
      "text/latex": "$\\displaystyle \\frac{E_\\mathrm{f} \\left(\\sigma_\\mathrm{cu} \\varepsilon_\\mathrm{cu} - \\sigma_\\mathrm{cu} \\varepsilon_\\mathrm{cy} + \\sigma_\\mathrm{cy} \\varepsilon_\\mathrm{cu}\\right)}{2 f_\\mathrm{fu} \\left(E_\\mathrm{f} \\varepsilon_\\mathrm{cu} + f_\\mathrm{fu}\\right)}$"
     },
     "execution_count": 196,
     "metadata": {},
     "output_type": "execute_result"
    }
   ],
   "execution_count": 196
  },
  {
   "cell_type": "code",
   "metadata": {
    "ExecuteTime": {
     "end_time": "2024-05-17T07:31:52.625827Z",
     "start_time": "2024-05-17T07:31:52.612153Z"
    }
   },
   "source": [
    "# This should be almost 0.00326 according to MK tool\n",
    "sp.N(rho_fb.subs(sigma_cy_cu_vals).subs(test_vals))"
   ],
   "outputs": [
    {
     "data": {
      "text/plain": [
       "0.00320321578123761"
      ],
      "text/latex": "$\\displaystyle 0.00320321578123761$"
     },
     "execution_count": 197,
     "metadata": {},
     "output_type": "execute_result"
    }
   ],
   "execution_count": 197
  },
  {
   "cell_type": "markdown",
   "metadata": {},
   "source": [
    "## $M_\\mathrm{u}$ for $\\rho_\\mathrm{f} > \\rho_\\mathrm{fb}$"
   ]
  },
  {
   "cell_type": "code",
   "metadata": {
    "ExecuteTime": {
     "end_time": "2024-05-17T07:31:53.083055Z",
     "start_time": "2024-05-17T07:31:52.639831Z"
    }
   },
   "source": [
    "# Calculating centroid and area for second part:\n",
    "# -----------------------------------------------\n",
    "# The following is valid for any eps in the second descending line in the approximated sig-eps relation\n",
    "# For f_cm > f_cm_limit, only the triangle is enough as the trapz doesn't exist because eps_cy = eps_cu\n",
    "# However, even if these are used, setting eps_cy = eps_cu would cancel the trapezoidal part.\n",
    "# Therefore, eps_cu1 formula in EC2 was adapted below.\n",
    "\n",
    "triangle_area = eps_cy * sig_cy_scaled / 2\n",
    "triangle_ce = (eps - eps_cy) + eps_cy / 3\n",
    "\n",
    "small_base_trapz = sig_eq.args[1][0]\n",
    "large_base_trapz = sig_cy_scaled\n",
    "h_trapz = eps - eps_cy\n",
    "trapz_ce_dist_from_large_base = (h_trapz/3) * (large_base_trapz + 2 * small_base_trapz) / (large_base_trapz + small_base_trapz)\n",
    "trapz_ce_dist_from_large_base = sp.simplify(trapz_ce_dist_from_large_base)\n",
    "trapz_ce = eps - eps_cy - trapz_ce_dist_from_large_base\n",
    "trapz_ce = sp.simplify(trapz_ce)\n",
    "trapz_area = h_trapz * (small_base_trapz + large_base_trapz) / 2 \n",
    "trapz_area = sp.simplify(trapz_area)\n",
    "\n",
    "total_area = triangle_area + trapz_area\n",
    "\n",
    "ce2_eps = ((trapz_ce * trapz_area) + (triangle_ce * triangle_area)) / total_area\n",
    "ce2_eps_fraction = ce2_eps / eps\n",
    "ce2_eps_fraction = sp.simplify(ce2_eps_fraction)\n",
    "ce2_eps_fraction"
   ],
   "outputs": [
    {
     "data": {
      "text/plain": [
       "(\\sigma_\\mathrm{cy}*\\varepsilon_\\mathrm{cy}*(3*\\varepsilon - 2*\\varepsilon_\\mathrm{cy})*(\\varepsilon_\\mathrm{cu} - \\varepsilon_\\mathrm{cy}) + (\\varepsilon - \\varepsilon_\\mathrm{cy})**2*(\\sigma_\\mathrm{cu}*\\varepsilon - \\sigma_\\mathrm{cu}*\\varepsilon_\\mathrm{cy} - \\sigma_\\mathrm{cy}*\\varepsilon + \\sigma_\\mathrm{cy}*\\varepsilon_\\mathrm{cu} + 2*\\sigma_\\mathrm{cy}*(\\varepsilon_\\mathrm{cu} - \\varepsilon_\\mathrm{cy})))/(3*\\varepsilon*(\\sigma_\\mathrm{cy}*\\varepsilon_\\mathrm{cy}*(\\varepsilon_\\mathrm{cu} - \\varepsilon_\\mathrm{cy}) + (\\varepsilon - \\varepsilon_\\mathrm{cy})*(\\sigma_\\mathrm{cu}*\\varepsilon - \\sigma_\\mathrm{cu}*\\varepsilon_\\mathrm{cy} - \\sigma_\\mathrm{cy}*\\varepsilon + \\sigma_\\mathrm{cy}*\\varepsilon_\\mathrm{cu} + \\sigma_\\mathrm{cy}*(\\varepsilon_\\mathrm{cu} - \\varepsilon_\\mathrm{cy}))))"
      ],
      "text/latex": "$\\displaystyle \\frac{\\sigma_\\mathrm{cy} \\varepsilon_\\mathrm{cy} \\left(3 \\varepsilon - 2 \\varepsilon_\\mathrm{cy}\\right) \\left(\\varepsilon_\\mathrm{cu} - \\varepsilon_\\mathrm{cy}\\right) + \\left(\\varepsilon - \\varepsilon_\\mathrm{cy}\\right)^{2} \\left(\\sigma_\\mathrm{cu} \\varepsilon - \\sigma_\\mathrm{cu} \\varepsilon_\\mathrm{cy} - \\sigma_\\mathrm{cy} \\varepsilon + \\sigma_\\mathrm{cy} \\varepsilon_\\mathrm{cu} + 2 \\sigma_\\mathrm{cy} \\left(\\varepsilon_\\mathrm{cu} - \\varepsilon_\\mathrm{cy}\\right)\\right)}{3 \\varepsilon \\left(\\sigma_\\mathrm{cy} \\varepsilon_\\mathrm{cy} \\left(\\varepsilon_\\mathrm{cu} - \\varepsilon_\\mathrm{cy}\\right) + \\left(\\varepsilon - \\varepsilon_\\mathrm{cy}\\right) \\left(\\sigma_\\mathrm{cu} \\varepsilon - \\sigma_\\mathrm{cu} \\varepsilon_\\mathrm{cy} - \\sigma_\\mathrm{cy} \\varepsilon + \\sigma_\\mathrm{cy} \\varepsilon_\\mathrm{cu} + \\sigma_\\mathrm{cy} \\left(\\varepsilon_\\mathrm{cu} - \\varepsilon_\\mathrm{cy}\\right)\\right)\\right)}$"
     },
     "execution_count": 198,
     "metadata": {},
     "output_type": "execute_result"
    }
   ],
   "execution_count": 198
  },
  {
   "cell_type": "code",
   "metadata": {
    "ExecuteTime": {
     "end_time": "2024-05-17T07:31:53.220820Z",
     "start_time": "2024-05-17T07:31:53.084065Z"
    }
   },
   "source": [
    "# ce: the distance from the top of the cross section to the centroid of concrete compression block\n",
    "eps_f = sigma_f / E_f\n",
    "c = d * eps/(eps + eps_f)\n",
    "c2 = c.subs({eps: eps_cu})\n",
    "ce2 = ce2_eps_fraction.subs({eps: eps_cu}) * c2\n",
    "ce2 = sp.simplify(ce2)\n",
    "ce2"
   ],
   "outputs": [
    {
     "data": {
      "text/plain": [
       "E_\\mathrm{f}*d*(\\sigma_\\mathrm{cy}*\\varepsilon_\\mathrm{cy}*(3*\\varepsilon_\\mathrm{cu} - 2*\\varepsilon_\\mathrm{cy}) + (\\varepsilon_\\mathrm{cu} - \\varepsilon_\\mathrm{cy})*(\\sigma_\\mathrm{cu}*\\varepsilon_\\mathrm{cu} - \\sigma_\\mathrm{cu}*\\varepsilon_\\mathrm{cy} + 2*\\sigma_\\mathrm{cy}*(\\varepsilon_\\mathrm{cu} - \\varepsilon_\\mathrm{cy})))/(3*(E_\\mathrm{f}*\\varepsilon_\\mathrm{cu} + \\sigma_\\mathrm{f})*(\\sigma_\\mathrm{cu}*\\varepsilon_\\mathrm{cu} - \\sigma_\\mathrm{cu}*\\varepsilon_\\mathrm{cy} + \\sigma_\\mathrm{cy}*\\varepsilon_\\mathrm{cy} + \\sigma_\\mathrm{cy}*(\\varepsilon_\\mathrm{cu} - \\varepsilon_\\mathrm{cy})))"
      ],
      "text/latex": "$\\displaystyle \\frac{E_\\mathrm{f} d \\left(\\sigma_\\mathrm{cy} \\varepsilon_\\mathrm{cy} \\left(3 \\varepsilon_\\mathrm{cu} - 2 \\varepsilon_\\mathrm{cy}\\right) + \\left(\\varepsilon_\\mathrm{cu} - \\varepsilon_\\mathrm{cy}\\right) \\left(\\sigma_\\mathrm{cu} \\varepsilon_\\mathrm{cu} - \\sigma_\\mathrm{cu} \\varepsilon_\\mathrm{cy} + 2 \\sigma_\\mathrm{cy} \\left(\\varepsilon_\\mathrm{cu} - \\varepsilon_\\mathrm{cy}\\right)\\right)\\right)}{3 \\left(E_\\mathrm{f} \\varepsilon_\\mathrm{cu} + \\sigma_\\mathrm{f}\\right) \\left(\\sigma_\\mathrm{cu} \\varepsilon_\\mathrm{cu} - \\sigma_\\mathrm{cu} \\varepsilon_\\mathrm{cy} + \\sigma_\\mathrm{cy} \\varepsilon_\\mathrm{cy} + \\sigma_\\mathrm{cy} \\left(\\varepsilon_\\mathrm{cu} - \\varepsilon_\\mathrm{cy}\\right)\\right)}$"
     },
     "execution_count": 199,
     "metadata": {},
     "output_type": "execute_result"
    }
   ],
   "execution_count": 199
  },
  {
   "cell_type": "code",
   "metadata": {
    "ExecuteTime": {
     "end_time": "2024-05-17T07:31:53.734044Z",
     "start_time": "2024-05-17T07:31:53.221822Z"
    }
   },
   "source": [
    "F_t = A_f * sigma_f\n",
    "sig_z_area = area_up_to_eps_part_2.subs({eps:eps_cu}) * (c.subs({eps:eps_cu}) / eps_cu)\n",
    "F_c = sig_z_area * b\n",
    "sigma_f_sol = sp.solve(F_t - F_c, sigma_f)[1].subs({A_f:rho_f * b * d})\n",
    "sigma_f_sol = sp.simplify(sigma_f_sol)\n",
    "\n",
    "# Note: if sigma_f > f_fu then FRP reinforcement will fail on tension (most probably a rho_f < rho_fb is used)\n",
    "sigma_f_ = sp.Min(sigma_f_sol, f_fu)\n",
    "sigma_f_"
   ],
   "outputs": [
    {
     "data": {
      "text/plain": [
       "Min(f_\\mathrm{fu}, sqrt(E_\\mathrm{f})*sqrt(E_\\mathrm{f}*\\rho_\\mathrm{f}*\\varepsilon_\\mathrm{cu}**2 + 2*\\sigma_\\mathrm{cu}*\\varepsilon_\\mathrm{cu} - 2*\\sigma_\\mathrm{cu}*\\varepsilon_\\mathrm{cy} + 2*\\sigma_\\mathrm{cy}*\\varepsilon_\\mathrm{cu})/(2*sqrt(\\rho_\\mathrm{f})) - E_\\mathrm{f}*\\varepsilon_\\mathrm{cu}/2)"
      ],
      "text/latex": "$\\displaystyle \\min\\left(f_\\mathrm{fu}, \\frac{\\sqrt{E_\\mathrm{f}} \\sqrt{E_\\mathrm{f} \\rho_\\mathrm{f} \\varepsilon_\\mathrm{cu}^{2} + 2 \\sigma_\\mathrm{cu} \\varepsilon_\\mathrm{cu} - 2 \\sigma_\\mathrm{cu} \\varepsilon_\\mathrm{cy} + 2 \\sigma_\\mathrm{cy} \\varepsilon_\\mathrm{cu}}}{2 \\sqrt{\\rho_\\mathrm{f}}} - \\frac{E_\\mathrm{f} \\varepsilon_\\mathrm{cu}}{2}\\right)$"
     },
     "execution_count": 200,
     "metadata": {},
     "output_type": "execute_result"
    }
   ],
   "execution_count": 200
  },
  {
   "cell_type": "code",
   "metadata": {
    "ExecuteTime": {
     "end_time": "2024-05-17T07:31:53.739259Z",
     "start_time": "2024-05-17T07:31:53.735047Z"
    }
   },
   "source": [
    "psi_f = sigma_f / f_fu\n",
    "psi_f"
   ],
   "outputs": [
    {
     "data": {
      "text/plain": [
       "\\sigma_\\mathrm{f}/f_\\mathrm{fu}"
      ],
      "text/latex": "$\\displaystyle \\frac{\\sigma_\\mathrm{f}}{f_\\mathrm{fu}}$"
     },
     "execution_count": 201,
     "metadata": {},
     "output_type": "execute_result"
    }
   ],
   "execution_count": 201
  },
  {
   "cell_type": "code",
   "metadata": {
    "ExecuteTime": {
     "end_time": "2024-05-17T07:31:53.748426Z",
     "start_time": "2024-05-17T07:31:53.740409Z"
    }
   },
   "source": [
    "test_vals= {f_cm:50, b:400, d:180, f_fu:2500, E_f:200000, \n",
    "            A_f:250, \n",
    "            rho_f:250/(180*400),\n",
    "            E_cc:EC2.get_E_cm(50-8), \n",
    "            eps_cy:EC2.get_eps_c1(50-8),\n",
    "           eps_cu:EC2.get_eps_cu1(50-8)}"
   ],
   "outputs": [],
   "execution_count": 202
  },
  {
   "cell_type": "code",
   "metadata": {
    "ExecuteTime": {
     "end_time": "2024-05-17T07:31:53.910704Z",
     "start_time": "2024-05-17T07:31:53.748426Z"
    }
   },
   "source": [
    "sp.N(sigma_f_.subs(sigma_cy_cu_vals).subs(test_vals))"
   ],
   "outputs": [
    {
     "data": {
      "text/plain": [
       "2389.10736554291"
      ],
      "text/latex": "$\\displaystyle 2389.10736554291$"
     },
     "execution_count": 203,
     "metadata": {},
     "output_type": "execute_result"
    }
   ],
   "execution_count": 203
  },
  {
   "cell_type": "code",
   "metadata": {
    "ExecuteTime": {
     "end_time": "2024-05-17T07:31:54.088005Z",
     "start_time": "2024-05-17T07:31:53.911707Z"
    }
   },
   "source": [
    "M_n_2 = A_f * sigma_f * (d - ce2)\n",
    "M_n_2 = sp.simplify(M_n_2)\n",
    "M_n_2\n",
    "\n",
    "# for rho<rho_fb but F_t > F_c_cy, a conservative approx is to USE THIS TOO, but with replacing sigma_f with f_fu ;)\n",
    "# even if sigma_f is used it will retrun f_fu as it's limited not to exceed it"
   ],
   "outputs": [
    {
     "data": {
      "text/plain": [
       "-A_\\mathrm{f}*\\sigma_\\mathrm{f}*d*(E_\\mathrm{f}*(\\sigma_\\mathrm{cy}*\\varepsilon_\\mathrm{cy}*(3*\\varepsilon_\\mathrm{cu} - 2*\\varepsilon_\\mathrm{cy}) + (\\varepsilon_\\mathrm{cu} - \\varepsilon_\\mathrm{cy})*(\\sigma_\\mathrm{cu}*\\varepsilon_\\mathrm{cu} - \\sigma_\\mathrm{cu}*\\varepsilon_\\mathrm{cy} + 2*\\sigma_\\mathrm{cy}*(\\varepsilon_\\mathrm{cu} - \\varepsilon_\\mathrm{cy}))) - 3*(E_\\mathrm{f}*\\varepsilon_\\mathrm{cu} + \\sigma_\\mathrm{f})*(\\sigma_\\mathrm{cu}*\\varepsilon_\\mathrm{cu} - \\sigma_\\mathrm{cu}*\\varepsilon_\\mathrm{cy} + \\sigma_\\mathrm{cy}*\\varepsilon_\\mathrm{cy} + \\sigma_\\mathrm{cy}*(\\varepsilon_\\mathrm{cu} - \\varepsilon_\\mathrm{cy})))/(3*(E_\\mathrm{f}*\\varepsilon_\\mathrm{cu} + \\sigma_\\mathrm{f})*(\\sigma_\\mathrm{cu}*\\varepsilon_\\mathrm{cu} - \\sigma_\\mathrm{cu}*\\varepsilon_\\mathrm{cy} + \\sigma_\\mathrm{cy}*\\varepsilon_\\mathrm{cy} + \\sigma_\\mathrm{cy}*(\\varepsilon_\\mathrm{cu} - \\varepsilon_\\mathrm{cy})))"
      ],
      "text/latex": "$\\displaystyle - \\frac{A_\\mathrm{f} \\sigma_\\mathrm{f} d \\left(E_\\mathrm{f} \\left(\\sigma_\\mathrm{cy} \\varepsilon_\\mathrm{cy} \\left(3 \\varepsilon_\\mathrm{cu} - 2 \\varepsilon_\\mathrm{cy}\\right) + \\left(\\varepsilon_\\mathrm{cu} - \\varepsilon_\\mathrm{cy}\\right) \\left(\\sigma_\\mathrm{cu} \\varepsilon_\\mathrm{cu} - \\sigma_\\mathrm{cu} \\varepsilon_\\mathrm{cy} + 2 \\sigma_\\mathrm{cy} \\left(\\varepsilon_\\mathrm{cu} - \\varepsilon_\\mathrm{cy}\\right)\\right)\\right) - 3 \\left(E_\\mathrm{f} \\varepsilon_\\mathrm{cu} + \\sigma_\\mathrm{f}\\right) \\left(\\sigma_\\mathrm{cu} \\varepsilon_\\mathrm{cu} - \\sigma_\\mathrm{cu} \\varepsilon_\\mathrm{cy} + \\sigma_\\mathrm{cy} \\varepsilon_\\mathrm{cy} + \\sigma_\\mathrm{cy} \\left(\\varepsilon_\\mathrm{cu} - \\varepsilon_\\mathrm{cy}\\right)\\right)\\right)}{3 \\left(E_\\mathrm{f} \\varepsilon_\\mathrm{cu} + \\sigma_\\mathrm{f}\\right) \\left(\\sigma_\\mathrm{cu} \\varepsilon_\\mathrm{cu} - \\sigma_\\mathrm{cu} \\varepsilon_\\mathrm{cy} + \\sigma_\\mathrm{cy} \\varepsilon_\\mathrm{cy} + \\sigma_\\mathrm{cy} \\left(\\varepsilon_\\mathrm{cu} - \\varepsilon_\\mathrm{cy}\\right)\\right)}$"
     },
     "execution_count": 204,
     "metadata": {},
     "output_type": "execute_result"
    }
   ],
   "execution_count": 204
  },
  {
   "cell_type": "markdown",
   "metadata": {},
   "source": [
    "### Validation with Mk model\n",
    "\n",
    "\n",
    "M_u_mk_model = 97.76 kNm\n",
    "\n",
    "M_u_model = 97.65 kNm !!!\n",
    "\n",
    "M_u_aci = 81.72 kNm !!!"
   ]
  },
  {
   "cell_type": "code",
   "metadata": {
    "ExecuteTime": {
     "end_time": "2024-05-17T07:31:54.137057Z",
     "start_time": "2024-05-17T07:31:54.089008Z"
    }
   },
   "source": [
    "sp.N(M_n_2.subs({sigma_f:sigma_f_}).subs(sigma_cy_cu_vals).subs(test_vals) / 1e6)"
   ],
   "outputs": [
    {
     "data": {
      "text/plain": [
       "97.6504404760672"
      ],
      "text/latex": "$\\displaystyle 97.6504404760672$"
     },
     "execution_count": 205,
     "metadata": {},
     "output_type": "execute_result"
    }
   ],
   "execution_count": 205
  },
  {
   "cell_type": "code",
   "metadata": {
    "ExecuteTime": {
     "end_time": "2024-05-17T07:31:54.142853Z",
     "start_time": "2024-05-17T07:31:54.137057Z"
    }
   },
   "source": [
    "ACI440.get_M_n(A_f=250, f_fu=2500, E_f=200000, f_c=50, b=400, d=180)"
   ],
   "outputs": [
    {
     "data": {
      "text/plain": [
       "81.72727250760829"
      ]
     },
     "execution_count": 206,
     "metadata": {},
     "output_type": "execute_result"
    }
   ],
   "execution_count": 206
  },
  {
   "cell_type": "markdown",
   "metadata": {},
   "source": [
    "### Validation with T1 bending experiment"
   ]
  },
  {
   "cell_type": "code",
   "metadata": {
    "ExecuteTime": {
     "end_time": "2024-05-17T07:31:54.282890Z",
     "start_time": "2024-05-17T07:31:54.144418Z"
    }
   },
   "source": [
    "sp.N(M_n_2.subs({sigma_f:sigma_f_}).subs(sigma_cy_cu_vals).subs(T1_data) / 1e6)"
   ],
   "outputs": [
    {
     "data": {
      "text/plain": [
       "9.45696190033025"
      ],
      "text/latex": "$\\displaystyle 9.45696190033025$"
     },
     "execution_count": 207,
     "metadata": {},
     "output_type": "execute_result"
    }
   ],
   "execution_count": 207
  },
  {
   "cell_type": "code",
   "metadata": {
    "ExecuteTime": {
     "end_time": "2024-05-17T07:31:54.289004Z",
     "start_time": "2024-05-17T07:31:54.283895Z"
    }
   },
   "source": [
    "ACI440.get_M_n(A_f=T1_data[A_f], f_fu=T1_data[f_fu], E_f=T1_data[E_f], f_c=T1_data[f_cm], b=T1_data[b], d=T1_data[d])"
   ],
   "outputs": [
    {
     "data": {
      "text/plain": [
       "9.439980300822834"
      ]
     },
     "execution_count": 208,
     "metadata": {},
     "output_type": "execute_result"
    }
   ],
   "execution_count": 208
  },
  {
   "cell_type": "code",
   "metadata": {
    "ExecuteTime": {
     "end_time": "2024-05-17T07:31:54.304393Z",
     "start_time": "2024-05-17T07:31:54.289004Z"
    }
   },
   "source": [
    "sp.N(rho_fb.subs({sigma_f:sigma_f_}).subs(sigma_cy_cu_vals).subs(T1_data))"
   ],
   "outputs": [
    {
     "data": {
      "text/plain": [
       "0.00230061827749369"
      ],
      "text/latex": "$\\displaystyle 0.00230061827749369$"
     },
     "execution_count": 209,
     "metadata": {},
     "output_type": "execute_result"
    }
   ],
   "execution_count": 209
  },
  {
   "cell_type": "code",
   "metadata": {
    "ExecuteTime": {
     "end_time": "2024-05-17T07:31:54.310772Z",
     "start_time": "2024-05-17T07:31:54.304393Z"
    }
   },
   "source": [
    "ACI440.get_rho_balanced(f_c=T1_data[f_cm], f_fu=T1_data[f_fu], E_f=T1_data[E_f])"
   ],
   "outputs": [
    {
     "data": {
      "text/plain": [
       "0.0023169231194534973"
      ]
     },
     "execution_count": 210,
     "metadata": {},
     "output_type": "execute_result"
    }
   ],
   "execution_count": 210
  },
  {
   "cell_type": "code",
   "metadata": {
    "ExecuteTime": {
     "end_time": "2024-05-17T07:31:54.508297Z",
     "start_time": "2024-05-17T07:31:54.310772Z"
    }
   },
   "source": [
    "fig, ax = plt.subplots()\n",
    "rho_list = np.linspace(0.1/100, 2.5/100, 200)\n",
    "A_f_list = rho_list * 200 * 280\n",
    "get_M_n = sp.lambdify(A_f, M_n_2.subs({sigma_f:sigma_f_sol}).subs({rho_f:A_f/(b*d)}).subs(sigma_cy_cu_vals).subs({f_cm:48, b:200, d:280, f_fu:2500, E_f:158000, E_cc:EC2.get_E_cm(48-8), eps_cy:EC2.get_eps_c1(48-8), eps_cu:EC2.get_eps_cu1(48-8)}), 'numpy')\n",
    "\n",
    "get_M_n_aci = np.zeros_like(rho_list)\n",
    "for i, A_f_ in enumerate(A_f_list):\n",
    "    get_M_n_aci[i] = ACI440.get_M_n(A_f=A_f_, f_fu=2500, E_f=158000, f_c=48, b=200, d=280)\n",
    "\n",
    "ax.plot(rho_list, get_M_n(A_f_list)/1e6)\n",
    "ax.plot(rho_list, get_M_n_aci, label='ACI')\n",
    "ax.legend()"
   ],
   "outputs": [
    {
     "data": {
      "text/plain": [
       "<matplotlib.legend.Legend at 0x21ce0535580>"
      ]
     },
     "execution_count": 211,
     "metadata": {},
     "output_type": "execute_result"
    },
    {
     "data": {
      "text/plain": [
       "<Figure size 640x480 with 1 Axes>"
      ],
      "image/png": "[encoded data removed]"
     },
     "metadata": {},
     "output_type": "display_data"
    }
   ],
   "execution_count": 211
  },
  {
   "cell_type": "code",
   "metadata": {
    "ExecuteTime": {
     "end_time": "2024-05-17T07:31:54.516126Z",
     "start_time": "2024-05-17T07:31:54.509812Z"
    }
   },
   "source": [
    "ACI440.get_rho_balanced(f_c=48, f_fu=2500, E_f=158000)"
   ],
   "outputs": [
    {
     "data": {
      "text/plain": [
       "0.0018393513305793058"
      ]
     },
     "execution_count": 212,
     "metadata": {},
     "output_type": "execute_result"
    }
   ],
   "execution_count": 212
  },
  {
   "cell_type": "code",
   "metadata": {
    "ExecuteTime": {
     "end_time": "2024-05-17T07:31:54.527158Z",
     "start_time": "2024-05-17T07:31:54.517128Z"
    }
   },
   "source": [
    "rho_fb.subs({sigma_f:sigma_f_sol, rho_f:A_f/(b*d)}).subs(sigma_cy_cu_vals).subs({f_cm:48, b:200, d:280, f_fu:2500, E_f:158000, E_cc:EC2.get_E_cm(48-8), eps_cy:EC2.get_eps_c1(48-8), eps_cu:EC2.get_eps_cu1(48-8)})"
   ],
   "outputs": [
    {
     "data": {
      "text/plain": [
       "0.00255381989675629"
      ],
      "text/latex": "$\\displaystyle 0.00255381989675629$"
     },
     "execution_count": 213,
     "metadata": {},
     "output_type": "execute_result"
    }
   ],
   "execution_count": 213
  },
  {
   "cell_type": "markdown",
   "metadata": {},
   "source": [
    "### Validation with experiments\n",
    "\n",
    "**BC2HA** beam from Thériault1998_Effects of FRP Reinforcement Ratio and Concrete Strength on Flexural Behavior of Concrete Beams.pdf\n",
    "\n",
    "M_u_experiment = 19.7 kNm\n",
    "\n",
    "M_u_model = 19.7 kNm !!!\n",
    "\n",
    "M_u_aci = 16 kNm !!!"
   ]
  },
  {
   "cell_type": "code",
   "metadata": {
    "ExecuteTime": {
     "end_time": "2024-05-17T07:31:54.701897Z",
     "start_time": "2024-05-17T07:31:54.528164Z"
    }
   },
   "source": [
    "sp.N(M_n_2.subs({sigma_f:sigma_f_}).subs(sigma_cy_cu_vals).subs({f_cm:57.2, b:130, d:180-20-6-12.3/2, f_fu:773, E_f:38000,  rho_f:2*np.pi*(12.3/2)**2/(130*(180-20-6-12.3/2)), A_f:2*np.pi*(12.3/2)**2, E_cc:EC2.get_E_cm(57.2-8), eps_cy:EC2.get_eps_c1(57.2-8), eps_cu:EC2.get_eps_cu1(57.2-8)}) / 1e6)"
   ],
   "outputs": [
    {
     "data": {
      "text/plain": [
       "19.7172786302442"
      ],
      "text/latex": "$\\displaystyle 19.7172786302442$"
     },
     "execution_count": 214,
     "metadata": {},
     "output_type": "execute_result"
    }
   ],
   "execution_count": 214
  },
  {
   "cell_type": "code",
   "metadata": {
    "ExecuteTime": {
     "end_time": "2024-05-17T07:31:54.706851Z",
     "start_time": "2024-05-17T07:31:54.701897Z"
    }
   },
   "source": [
    "ACI440.get_M_n(A_f=2*np.pi*(12.3/2)**2, f_fu=773, E_f=38000, f_c=57.2, b=130, d=180-20-6-12.3/2)"
   ],
   "outputs": [
    {
     "data": {
      "text/plain": [
       "16.014750484294655"
      ]
     },
     "execution_count": 215,
     "metadata": {},
     "output_type": "execute_result"
    }
   ],
   "execution_count": 215
  },
  {
   "cell_type": "markdown",
   "metadata": {},
   "source": [
    "### Reduce and print formula"
   ]
  },
  {
   "cell_type": "code",
   "metadata": {
    "ExecuteTime": {
     "end_time": "2024-05-17T07:31:54.717010Z",
     "start_time": "2024-05-17T07:31:54.707168Z"
    }
   },
   "source": [
    "# packaging common terms\n",
    "M_n_2_reduced = sp.cse(M_n_2)\n",
    "M_n_2_reduced"
   ],
   "outputs": [
    {
     "data": {
      "text/plain": [
       "([(x0, E_\\mathrm{f}*\\varepsilon_\\mathrm{cu} + \\sigma_\\mathrm{f}),\n",
       "  (x1, \\sigma_\\mathrm{cy}*\\varepsilon_\\mathrm{cy}),\n",
       "  (x2, \\varepsilon_\\mathrm{cu} - \\varepsilon_\\mathrm{cy}),\n",
       "  (x3, \\sigma_\\mathrm{cy}*x2),\n",
       "  (x4,\n",
       "   \\sigma_\\mathrm{cu}*\\varepsilon_\\mathrm{cu} - \\sigma_\\mathrm{cu}*\\varepsilon_\\mathrm{cy}),\n",
       "  (x5, x1 + x3 + x4)],\n",
       " [-A_\\mathrm{f}*\\sigma_\\mathrm{f}*d*(E_\\mathrm{f}*(x1*(3*\\varepsilon_\\mathrm{cu} - 2*\\varepsilon_\\mathrm{cy}) + x2*(2*x3 + x4)) - 3*x0*x5)/(3*x0*x5)])"
      ]
     },
     "execution_count": 216,
     "metadata": {},
     "output_type": "execute_result"
    }
   ],
   "execution_count": 216
  },
  {
   "cell_type": "code",
   "metadata": {
    "ExecuteTime": {
     "end_time": "2024-05-17T07:31:54.725590Z",
     "start_time": "2024-05-17T07:31:54.719090Z"
    }
   },
   "source": [
    "M_n_2_reduced[-1][0]"
   ],
   "outputs": [
    {
     "data": {
      "text/plain": [
       "-A_\\mathrm{f}*\\sigma_\\mathrm{f}*d*(E_\\mathrm{f}*(x1*(3*\\varepsilon_\\mathrm{cu} - 2*\\varepsilon_\\mathrm{cy}) + x2*(2*x3 + x4)) - 3*x0*x5)/(3*x0*x5)"
      ],
      "text/latex": "$\\displaystyle - \\frac{A_\\mathrm{f} \\sigma_\\mathrm{f} d \\left(E_\\mathrm{f} \\left(x_{1} \\cdot \\left(3 \\varepsilon_\\mathrm{cu} - 2 \\varepsilon_\\mathrm{cy}\\right) + x_{2} \\cdot \\left(2 x_{3} + x_{4}\\right)\\right) - 3 x_{0} x_{5}\\right)}{3 x_{0} x_{5}}$"
     },
     "execution_count": 217,
     "metadata": {},
     "output_type": "execute_result"
    }
   ],
   "execution_count": 217
  },
  {
   "cell_type": "code",
   "metadata": {
    "ExecuteTime": {
     "end_time": "2024-05-17T07:31:54.734917Z",
     "start_time": "2024-05-17T07:31:54.726592Z"
    }
   },
   "source": [
    "symb_exp_list = [[s, e] for (s, e) in M_n_2_reduced[0]]\n",
    "for symb_exp in symb_exp_list:\n",
    "    symb_exp[1] = symb_exp[1].subs({s:e for (s, e) in symb_exp_list})\n",
    "symb_exp_list"
   ],
   "outputs": [
    {
     "data": {
      "text/plain": [
       "[[x0, E_\\mathrm{f}*\\varepsilon_\\mathrm{cu} + \\sigma_\\mathrm{f}],\n",
       " [x1, \\sigma_\\mathrm{cy}*\\varepsilon_\\mathrm{cy}],\n",
       " [x2, \\varepsilon_\\mathrm{cu} - \\varepsilon_\\mathrm{cy}],\n",
       " [x3, \\sigma_\\mathrm{cy}*(\\varepsilon_\\mathrm{cu} - \\varepsilon_\\mathrm{cy})],\n",
       " [x4,\n",
       "  \\sigma_\\mathrm{cu}*\\varepsilon_\\mathrm{cu} - \\sigma_\\mathrm{cu}*\\varepsilon_\\mathrm{cy}],\n",
       " [x5,\n",
       "  \\sigma_\\mathrm{cu}*\\varepsilon_\\mathrm{cu} - \\sigma_\\mathrm{cu}*\\varepsilon_\\mathrm{cy} + \\sigma_\\mathrm{cy}*\\varepsilon_\\mathrm{cy} + \\sigma_\\mathrm{cy}*(\\varepsilon_\\mathrm{cu} - \\varepsilon_\\mathrm{cy})]]"
      ]
     },
     "execution_count": 218,
     "metadata": {},
     "output_type": "execute_result"
    }
   ],
   "execution_count": 218
  },
  {
   "cell_type": "code",
   "metadata": {
    "ExecuteTime": {
     "end_time": "2024-05-17T07:31:54.854098Z",
     "start_time": "2024-05-17T07:31:54.739923Z"
    }
   },
   "source": [
    "d_eps = sp.symbols(r'\\varepsilon_{\\Delta}')\n",
    "M_n_2_reduced_final = sp.simplify(M_n_2_reduced[-1][0].subs({sym: exp for sym, exp in symb_exp_list[:-1]}).subs({eps_cu - eps_cy: d_eps}))\n",
    "M_n_2_reduced_final"
   ],
   "outputs": [
    {
     "data": {
      "text/plain": [
       "-A_\\mathrm{f}*\\sigma_\\mathrm{f}*d*(E_\\mathrm{f}*(\\sigma_\\mathrm{cy}*\\varepsilon_\\mathrm{cy}*(3*\\varepsilon_\\mathrm{cu} - 2*\\varepsilon_\\mathrm{cy}) + \\varepsilon_{\\Delta}*(\\sigma_\\mathrm{cu}*\\varepsilon_\\mathrm{cu} - \\sigma_\\mathrm{cu}*\\varepsilon_\\mathrm{cy} + 2*\\sigma_\\mathrm{cy}*\\varepsilon_{\\Delta})) - 3*x5*(E_\\mathrm{f}*\\varepsilon_\\mathrm{cu} + \\sigma_\\mathrm{f}))/(3*x5*(E_\\mathrm{f}*\\varepsilon_\\mathrm{cu} + \\sigma_\\mathrm{f}))"
      ],
      "text/latex": "$\\displaystyle - \\frac{A_\\mathrm{f} \\sigma_\\mathrm{f} d \\left(E_\\mathrm{f} \\left(\\sigma_\\mathrm{cy} \\varepsilon_\\mathrm{cy} \\left(3 \\varepsilon_\\mathrm{cu} - 2 \\varepsilon_\\mathrm{cy}\\right) + \\varepsilon_{\\Delta} \\left(\\sigma_\\mathrm{cu} \\varepsilon_\\mathrm{cu} - \\sigma_\\mathrm{cu} \\varepsilon_\\mathrm{cy} + 2 \\sigma_\\mathrm{cy} \\varepsilon_{\\Delta}\\right)\\right) - 3 x_{5} \\left(E_\\mathrm{f} \\varepsilon_\\mathrm{cu} + \\sigma_\\mathrm{f}\\right)\\right)}{3 x_{5} \\left(E_\\mathrm{f} \\varepsilon_\\mathrm{cu} + \\sigma_\\mathrm{f}\\right)}$"
     },
     "execution_count": 219,
     "metadata": {},
     "output_type": "execute_result"
    }
   ],
   "execution_count": 219
  },
  {
   "cell_type": "code",
   "metadata": {
    "ExecuteTime": {
     "end_time": "2024-05-17T07:31:55.068154Z",
     "start_time": "2024-05-17T07:31:55.043149Z"
    }
   },
   "source": [
    "x5_final = sp.simplify(symb_exp_list[5][1].subs({eps_cu: d_eps + eps_cy}))\n",
    "x5_final"
   ],
   "outputs": [
    {
     "data": {
      "text/plain": [
       "\\sigma_\\mathrm{cu}*\\varepsilon_{\\Delta} + \\sigma_\\mathrm{cy}*\\varepsilon_\\mathrm{cy} + \\sigma_\\mathrm{cy}*\\varepsilon_{\\Delta}"
      ],
      "text/latex": "$\\displaystyle \\sigma_\\mathrm{cu} \\varepsilon_{\\Delta} + \\sigma_\\mathrm{cy} \\varepsilon_\\mathrm{cy} + \\sigma_\\mathrm{cy} \\varepsilon_{\\Delta}$"
     },
     "execution_count": 220,
     "metadata": {},
     "output_type": "execute_result"
    }
   ],
   "execution_count": 220
  },
  {
   "cell_type": "code",
   "metadata": {
    "ExecuteTime": {
     "end_time": "2024-05-17T07:31:55.544244Z",
     "start_time": "2024-05-17T07:31:55.493655Z"
    }
   },
   "source": [
    "sp.simplify(M_n_2_reduced[-1][0].subs({sym: exp for sym, exp in symb_exp_list[:-1]}).subs({eps_cu - eps_cy: d_eps}))"
   ],
   "outputs": [
    {
     "data": {
      "text/plain": [
       "-A_\\mathrm{f}*\\sigma_\\mathrm{f}*d*(E_\\mathrm{f}*(\\sigma_\\mathrm{cy}*\\varepsilon_\\mathrm{cy}*(3*\\varepsilon_\\mathrm{cu} - 2*\\varepsilon_\\mathrm{cy}) + \\varepsilon_{\\Delta}*(\\sigma_\\mathrm{cu}*\\varepsilon_\\mathrm{cu} - \\sigma_\\mathrm{cu}*\\varepsilon_\\mathrm{cy} + 2*\\sigma_\\mathrm{cy}*\\varepsilon_{\\Delta})) - 3*x5*(E_\\mathrm{f}*\\varepsilon_\\mathrm{cu} + \\sigma_\\mathrm{f}))/(3*x5*(E_\\mathrm{f}*\\varepsilon_\\mathrm{cu} + \\sigma_\\mathrm{f}))"
      ],
      "text/latex": "$\\displaystyle - \\frac{A_\\mathrm{f} \\sigma_\\mathrm{f} d \\left(E_\\mathrm{f} \\left(\\sigma_\\mathrm{cy} \\varepsilon_\\mathrm{cy} \\left(3 \\varepsilon_\\mathrm{cu} - 2 \\varepsilon_\\mathrm{cy}\\right) + \\varepsilon_{\\Delta} \\left(\\sigma_\\mathrm{cu} \\varepsilon_\\mathrm{cu} - \\sigma_\\mathrm{cu} \\varepsilon_\\mathrm{cy} + 2 \\sigma_\\mathrm{cy} \\varepsilon_{\\Delta}\\right)\\right) - 3 x_{5} \\left(E_\\mathrm{f} \\varepsilon_\\mathrm{cu} + \\sigma_\\mathrm{f}\\right)\\right)}{3 x_{5} \\left(E_\\mathrm{f} \\varepsilon_\\mathrm{cu} + \\sigma_\\mathrm{f}\\right)}$"
     },
     "execution_count": 221,
     "metadata": {},
     "output_type": "execute_result"
    }
   ],
   "execution_count": 221
  },
  {
   "cell_type": "code",
   "metadata": {
    "ExecuteTime": {
     "end_time": "2024-05-17T07:31:55.581999Z",
     "start_time": "2024-05-17T07:31:55.573423Z"
    }
   },
   "source": [
    "sp.print_latex(M_n_2_reduced_final)"
   ],
   "outputs": [
    {
     "name": "stdout",
     "output_type": "stream",
     "text": [
      "- \\frac{A_\\mathrm{f} \\sigma_\\mathrm{f} d \\left(E_\\mathrm{f} \\left(\\sigma_\\mathrm{cy} \\varepsilon_\\mathrm{cy} \\left(3 \\varepsilon_\\mathrm{cu} - 2 \\varepsilon_\\mathrm{cy}\\right) + \\varepsilon_{\\Delta} \\left(\\sigma_\\mathrm{cu} \\varepsilon_\\mathrm{cu} - \\sigma_\\mathrm{cu} \\varepsilon_\\mathrm{cy} + 2 \\sigma_\\mathrm{cy} \\varepsilon_{\\Delta}\\right)\\right) - 3 x_{5} \\left(E_\\mathrm{f} \\varepsilon_\\mathrm{cu} + \\sigma_\\mathrm{f}\\right)\\right)}{3 x_{5} \\left(E_\\mathrm{f} \\varepsilon_\\mathrm{cu} + \\sigma_\\mathrm{f}\\right)}\n"
     ]
    }
   ],
   "execution_count": 222
  },
  {
   "cell_type": "code",
   "metadata": {
    "ExecuteTime": {
     "end_time": "2024-05-17T07:31:55.698611Z",
     "start_time": "2024-05-17T07:31:55.694846Z"
    }
   },
   "source": [
    "sp.print_latex(x5_final)"
   ],
   "outputs": [
    {
     "name": "stdout",
     "output_type": "stream",
     "text": [
      "\\sigma_\\mathrm{cu} \\varepsilon_{\\Delta} + \\sigma_\\mathrm{cy} \\varepsilon_\\mathrm{cy} + \\sigma_\\mathrm{cy} \\varepsilon_{\\Delta}\n"
     ]
    }
   ],
   "execution_count": 223
  },
  {
   "cell_type": "markdown",
   "metadata": {},
   "source": [
    "### Final $M_u$ formula\n",
    "\n",
    "For $\\rho_\\mathrm{f} > \\rho_\\mathrm{f, cy}$, flexural capacity is given\n",
    "\n",
    "$M_\\mathrm{u,cu} = \\frac{A_{f} d f_{f} \n",
    "\\bigg(\n",
    "3 m_0 \\left(E_{f} \\varepsilon_{cu} + f_{f}\\right) \n",
    "- E_{f} \\big(\\Delta\\varepsilon^2 \\left(2 f_{cm_{cy}} + f_{cm_{cu}} \\right)\n",
    "~+~f_{cm_{cy}} \\varepsilon_{cy} \\left(3 \\varepsilon_{cu} - 2 \\varepsilon_{cy}\\right)\\big)\\bigg)}\n",
    "{3 m_0 \\left(E_{f} \\varepsilon_{cu} + f_{f}\\right)}$\n",
    "\n",
    "with\n",
    "\n",
    "$m_0 = \\Delta\\varepsilon f_{cm_{cu}} + \\Delta\\varepsilon f_{cm_{cy}} + f_{cm_{cy}} \\varepsilon_{cy}$\n",
    "\n",
    "and\n",
    "\n",
    "$\\Delta\\varepsilon = \\varepsilon_\\mathrm{cu} - \\varepsilon_\\mathrm{cy}$\n",
    "\n",
    "<!-- \\begin{align}\n",
    "m_1 & = \\sqrt{E_\\mathrm{f}} b d f_\\mathrm{cm, cy}, \\\\\n",
    "m_2 & =  E_f \\Bigg( \\sqrt{A_\\mathrm{f} \\varepsilon_\\mathrm{cy} \\cdot \\bigg(A_\\mathrm{f} E_\\mathrm{f} \\varepsilon_\\mathrm{cy} + \\frac{2 m_1}{\\sqrt{E_\\mathrm{f}}}\\bigg)} + A_\\mathrm{f}~\\varepsilon_\\mathrm{cy}~\\sqrt{E_\\mathrm{f}} \\Bigg)\n",
    "\\end{align} -->\n",
    "\n",
    "Note: this formula is exact for $\\rho_\\mathrm{f} > \\rho_\\mathrm{fb}$, but for $\\rho_\\mathrm{f, cy} < \\rho_\\mathrm{f} < \\rho_\\mathrm{fb}$ it's a conservative approx. considering the whole concrete block which gives larger ce resulting in smaller M_u"
   ]
  },
  {
   "cell_type": "markdown",
   "metadata": {},
   "source": [
    "## Ultimate curvature $\\kappa$ for part 2 with $\\varepsilon_c = \\varepsilon_{cu}$ ($\\rho_f \\ge \\rho_{fb}$)\n",
    "\n",
    "Valid for $\\rho_f \\ge \\rho_{fb}$"
   ]
  },
  {
   "cell_type": "code",
   "metadata": {
    "ExecuteTime": {
     "end_time": "2024-05-17T07:31:55.915039Z",
     "start_time": "2024-05-17T07:31:55.908502Z"
    }
   },
   "source": [
    "kappa_2 = eps_cu / c2\n",
    "kappa_2"
   ],
   "outputs": [
    {
     "data": {
      "text/plain": [
       "(\\varepsilon_\\mathrm{cu} + \\sigma_\\mathrm{f}/E_\\mathrm{f})/d"
      ],
      "text/latex": "$\\displaystyle \\frac{\\varepsilon_\\mathrm{cu} + \\frac{\\sigma_\\mathrm{f}}{E_\\mathrm{f}}}{d}$"
     },
     "execution_count": 224,
     "metadata": {},
     "output_type": "execute_result"
    }
   ],
   "execution_count": 224
  },
  {
   "cell_type": "code",
   "metadata": {
    "ExecuteTime": {
     "end_time": "2024-05-17T07:31:56.026719Z",
     "start_time": "2024-05-17T07:31:55.983653Z"
    }
   },
   "source": [
    "# From MK tool I get almost 8.75 * 1e-5\n",
    "sp.N(kappa_2.subs({sigma_f:sigma_f_sol}).subs(sigma_cy_cu_vals).subs(test_vals))"
   ],
   "outputs": [
    {
     "data": {
      "text/plain": [
       "8.58085379317476e-5"
      ],
      "text/latex": "$\\displaystyle 8.58085379317476 \\cdot 10^{-5}$"
     },
     "execution_count": 225,
     "metadata": {},
     "output_type": "execute_result"
    }
   ],
   "execution_count": 225
  },
  {
   "cell_type": "markdown",
   "metadata": {},
   "source": [
    "## Ultimate curvature for $\\rho_{f, cy} < \\rho_f < \\rho_{fb}$\n",
    "A linear interpolation is done between k1 and k2"
   ]
  },
  {
   "cell_type": "code",
   "metadata": {
    "ExecuteTime": {
     "end_time": "2024-05-17T07:31:56.286446Z",
     "start_time": "2024-05-17T07:31:56.175752Z"
    }
   },
   "source": [
    "kappa_1_symb, kappa_2_symb, rho_f_cy_symb, rho_fb_symb, kappa_u = sp.symbols(r'\\kappa_\\mathrm{u1}, \\kappa_\\mathrm{u2}, \\rho_\\mathrm{fcy}, \\rho_\\mathrm{fb}, \\kappa_u', real=True, nonnegative=True)\n",
    "\n",
    "kappa_u_cy_fb = sp.Line(sp.Point(rho_f_cy_symb, kappa_1_symb), sp.Point(rho_fb_symb, kappa_2_symb))\n",
    "kappa_u_cy_fb_eq = kappa_u_cy_fb.equation(x=rho_f, y=kappa_u)\n",
    "kappa_u_cy_fb_eq_sol = sp.simplify(sp.solve(kappa_u_cy_fb_eq, kappa_u)[0])\n",
    "kappa_u_cy_fb_eq_sol"
   ],
   "outputs": [
    {
     "data": {
      "text/plain": [
       "(\\kappa_\\mathrm{u1}*\\rho_\\mathrm{fb} - \\kappa_\\mathrm{u1}*\\rho_\\mathrm{f} - \\kappa_\\mathrm{u2}*\\rho_\\mathrm{fcy} + \\kappa_\\mathrm{u2}*\\rho_\\mathrm{f})/(\\rho_\\mathrm{fb} - \\rho_\\mathrm{fcy})"
      ],
      "text/latex": "$\\displaystyle \\frac{\\kappa_\\mathrm{u1} \\rho_\\mathrm{fb} - \\kappa_\\mathrm{u1} \\rho_\\mathrm{f} - \\kappa_\\mathrm{u2} \\rho_\\mathrm{fcy} + \\kappa_\\mathrm{u2} \\rho_\\mathrm{f}}{\\rho_\\mathrm{fb} - \\rho_\\mathrm{fcy}}$"
     },
     "execution_count": 226,
     "metadata": {},
     "output_type": "execute_result"
    }
   ],
   "execution_count": 226
  },
  {
   "cell_type": "markdown",
   "metadata": {},
   "source": [
    "# Summary"
   ]
  },
  {
   "cell_type": "markdown",
   "metadata": {},
   "source": [
    "## Moment capacity\n",
    "\n",
    "Calculate $\\rho_\\mathrm{f,cy}$ as:\n",
    "\n",
    "$\n",
    "\\rho_\\mathrm{f,cy} = \\frac{E_\\mathrm{f} \\sigma_\\mathrm{cy} \\varepsilon_\\mathrm{cy}}{2 f_\\mathrm{fu} \\left(E_\\mathrm{f} \\varepsilon_\\mathrm{cy} + f_\\mathrm{fu}\\right)}$\n",
    "\n",
    "The ultimate flexural moment is given:\n",
    "\n",
    "\\begin{equation*}\n",
    "  M_\\mathrm{u}=\n",
    "  \\begin{cases}\n",
    "      M_\\mathrm{u,cy},\n",
    "    & \\rho_\\mathrm{f} \\le \\rho_\\mathrm{f,cy}\\\\\n",
    "      M_\\mathrm{u,cu},\n",
    "    & \\rho_\\mathrm{f} > \\rho_\\mathrm{f,cy}.\n",
    "  \\end{cases}\n",
    "\\end{equation*}"
   ]
  },
  {
   "cell_type": "markdown",
   "metadata": {},
   "source": [
    "### $M_\\mathrm{u,cy}$\n",
    "\n",
    "$M_\\mathrm{u,cy} = \\frac{A_\\mathrm{f} d f_\\mathrm{fu} \\left(3 m_{1} + 2 m_{2}\\right)}{3 \\left(m_{1} + m_{2}\\right)}$\n",
    "\n",
    "with\n",
    "\n",
    "\\begin{align}\n",
    "m_1 & = \\sqrt{E_\\mathrm{f}} b d \\sigma_\\mathrm{cy}, \\\\\n",
    "m_2 & =  E_f \\Bigg( \\sqrt{A_\\mathrm{f} \\varepsilon_\\mathrm{cy} \\cdot \\bigg(A_\\mathrm{f} E_\\mathrm{f} \\varepsilon_\\mathrm{cy} + \\frac{2 m_1}{\\sqrt{E_\\mathrm{f}}}\\bigg)} + A_\\mathrm{f}~\\varepsilon_\\mathrm{cy}~\\sqrt{E_\\mathrm{f}} \\Bigg), \\\\\n",
    "\\sigma_\\mathrm{cy} & = 10^{-3} f_\\mathrm{cm} \\cdot (1437.6204 - 2.7858 f_\\mathrm{cm})\n",
    "\\end{align}\n",
    "\n",
    "and according to EC2\n",
    "\n",
    "$\\varepsilon_\\mathrm{cy} = 0.001 \\cdot \\min\\left(2.8,~0.7 f_\\mathrm{cm}^{0.31}\\right)$"
   ]
  },
  {
   "cell_type": "code",
   "metadata": {
    "ExecuteTime": {
     "end_time": "2024-05-17T07:31:56.292446Z",
     "start_time": "2024-05-17T07:31:56.286446Z"
    }
   },
   "source": [
    "f_cm * sig_cy_scale"
   ],
   "outputs": [
    {
     "data": {
      "text/plain": [
       "f_\\mathrm{cm}*(1.43762037986179 - 0.00278582241716738*f_\\mathrm{cm})"
      ],
      "text/latex": "$\\displaystyle f_\\mathrm{cm} \\left(1.43762037986179 - 0.00278582241716738 f_\\mathrm{cm}\\right)$"
     },
     "execution_count": 227,
     "metadata": {},
     "output_type": "execute_result"
    }
   ],
   "execution_count": 227
  },
  {
   "cell_type": "code",
   "metadata": {
    "ExecuteTime": {
     "end_time": "2024-05-17T07:31:56.467769Z",
     "start_time": "2024-05-17T07:31:56.453152Z"
    }
   },
   "source": [
    "sp.print_latex(sig_cy_scale * 1000)"
   ],
   "outputs": [
    {
     "name": "stdout",
     "output_type": "stream",
     "text": [
      "1437.62037986179 - 2.78582241716738 f_\\mathrm{cm}\n"
     ]
    }
   ],
   "execution_count": 228
  },
  {
   "cell_type": "markdown",
   "metadata": {},
   "source": [
    "### $M_\\mathrm{u,cu}$\n",
    "Note: this formula is exact for $\\rho_\\mathrm{f} > \\rho_\\mathrm{fb}$, but for $\\rho_\\mathrm{f, cy} < \\rho_\\mathrm{f} < \\rho_\\mathrm{fb}$ it's a conservative approx. considering the whole concrete block which gives larger $ce$ resulting in smaller M_u\n",
    "\n",
    "$M_\\mathrm{u,cu} = \\frac{A_\\mathrm{f} d \\sigma_\\mathrm{f} \n",
    "\\bigg(\n",
    "3 m_0 \\left(E_\\mathrm{f} \\varepsilon_\\mathrm{cu} + \\sigma_\\mathrm{f}\\right) \n",
    "~ - ~E_\\mathrm{f} \\big(\\Delta\\varepsilon^2 \\left(2 \\sigma_\\mathrm{cy} + \\sigma_\\mathrm{cu} \\right)\n",
    "~+~\\sigma_\\mathrm{cy} \\varepsilon_\\mathrm{cy} \\left(3 \\varepsilon_\\mathrm{cu} - 2 \\varepsilon_\\mathrm{cy}\\right)\\big)\\bigg)}\n",
    "{3 m_0 \\left(E_\\mathrm{f} \\varepsilon_\\mathrm{cu} + \\sigma_\\mathrm{f}\\right)}$\n",
    "\n",
    "with\n",
    "\n",
    "$\\Delta\\varepsilon = \\varepsilon_\\mathrm{cu} - \\varepsilon_\\mathrm{cy}$\n",
    "\n",
    "and\n",
    "\n",
    "$m_0 = \\Delta\\varepsilon \\sigma_\\mathrm{cu} + \\Delta\\varepsilon \\sigma_\\mathrm{cy} + \\sigma_\\mathrm{cy} \\varepsilon_\\mathrm{cy}$\n",
    "\n",
    "$\\sigma_\\mathrm{f} = \\min\\left(f_\\mathrm{fu},~0.5 \\bigg( \\sqrt{\\frac{E_\\mathrm{f} \\cdot \\big(E_\\mathrm{f} \\rho_\\mathrm{f} \\varepsilon_\\mathrm{cu}^2~+~2 \\sigma_\\mathrm{cu} \\Delta\\varepsilon~+~2 \\sigma_\\mathrm{cy} \\varepsilon_\\mathrm{cu} \\big)}\n",
    "{\\rho_\\mathrm{f}}}\n",
    "- E_{f} \\varepsilon_\\mathrm{cu}\\bigg) \\right)$\n",
    "\n",
    "$\\sigma_\\mathrm{cu} = 10^{-3} f_\\mathrm{cm} \\cdot (8.2275 f_\\mathrm{cm} + 95.5314)$\n",
    "\n",
    "and\n",
    "\n",
    "\\begin{equation*}\n",
    "  \\varepsilon_\\mathrm{cu}= 0.001 \\cdot\n",
    "  \\begin{cases}\n",
    "      3.5 ,\n",
    "    & f_\\mathrm{cm} \\le 58~\\mathrm{MPa} \\\\\n",
    "    2.8 + 27 \\cdot \\big(\\frac{98 - f_\\mathrm{cm}}{100}\\big)^4,\n",
    "    & 58~\\mathrm{MPa} < f_\\mathrm{cm} \\boldsymbol{\\le 98~\\mathrm{MPa}}\\\\\n",
    "    \\boldsymbol{2.8,}\n",
    "    & \\boldsymbol{f_\\mathrm{cm} > 98~\\mathrm{MPa}}.\n",
    "  \\end{cases}\n",
    "\\end{equation*}\n",
    "\n",
    "The bold marked text is an adaptation to EC2 formula."
   ]
  },
  {
   "cell_type": "code",
   "metadata": {
    "ExecuteTime": {
     "end_time": "2024-05-17T07:31:56.528537Z",
     "start_time": "2024-05-17T07:31:56.522894Z"
    }
   },
   "source": [
    "f_cm * sig_cu_scale"
   ],
   "outputs": [
    {
     "data": {
      "text/plain": [
       "f_\\mathrm{cm}*(0.00822753426311965*f_\\mathrm{cm} + 0.0955313938528226)"
      ],
      "text/latex": "$\\displaystyle f_\\mathrm{cm} \\left(0.00822753426311965 f_\\mathrm{cm} + 0.0955313938528226\\right)$"
     },
     "execution_count": 229,
     "metadata": {},
     "output_type": "execute_result"
    }
   ],
   "execution_count": 229
  },
  {
   "cell_type": "code",
   "metadata": {
    "ExecuteTime": {
     "end_time": "2024-05-17T07:31:56.665422Z",
     "start_time": "2024-05-17T07:31:56.661392Z"
    }
   },
   "source": [
    "sp.print_latex(sig_cu_scale * 1000)"
   ],
   "outputs": [
    {
     "name": "stdout",
     "output_type": "stream",
     "text": [
      "8.22753426311965 f_\\mathrm{cm} + 95.5313938528226\n"
     ]
    }
   ],
   "execution_count": 230
  },
  {
   "cell_type": "code",
   "metadata": {
    "ExecuteTime": {
     "end_time": "2024-05-17T07:31:56.766027Z",
     "start_time": "2024-05-17T07:31:56.751403Z"
    }
   },
   "source": [
    "sp.print_latex(rho_fb)"
   ],
   "outputs": [
    {
     "name": "stdout",
     "output_type": "stream",
     "text": [
      "\\frac{E_\\mathrm{f} \\left(\\sigma_\\mathrm{cu} \\varepsilon_\\mathrm{cu} - \\sigma_\\mathrm{cu} \\varepsilon_\\mathrm{cy} + \\sigma_\\mathrm{cy} \\varepsilon_\\mathrm{cu}\\right)}{2 f_\\mathrm{fu} \\left(E_\\mathrm{f} \\varepsilon_\\mathrm{cu} + f_\\mathrm{fu}\\right)}\n"
     ]
    }
   ],
   "execution_count": 231
  },
  {
   "cell_type": "markdown",
   "metadata": {},
   "source": [
    "## Balanced reinforcement ratio $\\rho_\\mathrm{fb}$\n",
    "\n",
    "$\\rho_\\mathrm{fb} = \\frac{E_\\mathrm{f} \\left(\\sigma_\\mathrm{cu} \\varepsilon_\\mathrm{cu}~-~\\sigma_\\mathrm{cu} \\varepsilon_\\mathrm{cy}~+~\\sigma_\\mathrm{cy} \\varepsilon_\\mathrm{cu}\\right)}{2 f_\\mathrm{fu} \\left(E_\\mathrm{f} \\varepsilon_\\mathrm{cu}~+~f_\\mathrm{fu}\\right)}\n",
    "$"
   ]
  },
  {
   "cell_type": "markdown",
   "metadata": {},
   "source": [
    "## Material utilization factors ($\\psi_\\mathrm{c}~and~\\psi_\\mathrm{f}$)\n",
    "\n",
    "\\begin{equation*}\n",
    "  \\psi_\\mathrm{c} =\n",
    "  \\begin{cases}\n",
    "\\min\\left(\n",
    "1,~\n",
    "\\frac{f_\\mathrm{fu}}{f_\\mathrm{cm}} \\bigg(\\rho_\\mathrm{f} + \\sqrt{\\frac{\\rho_\\mathrm{f} \\left(\\rho_\\mathrm{f} E_\\mathrm{f} \\varepsilon_{cy}~+~2 \\sigma_\\mathrm{cy}\\right)}\n",
    "{E_\\mathrm{f} \\varepsilon_\\mathrm{cy}}} \\bigg)\\right)\n",
    ",\n",
    "    & \\rho_\\mathrm{f} < \\rho_\\mathrm{f,cy}\\\\\n",
    "      1,\n",
    "    & \\rho_\\mathrm{f} \\ge \\rho_\\mathrm{f,cy}.\n",
    "  \\end{cases}\n",
    "\\end{equation*}\n",
    "\n",
    "\n",
    "\\begin{equation*}\n",
    "  \\psi_\\mathrm{f} =\n",
    "  \\begin{cases}\n",
    "      \\frac{\\sigma_\\mathrm{f}}{f_\\mathrm{fu}},\n",
    "    & \\rho_\\mathrm{f} > \\rho_\\mathrm{fb}\\\\\n",
    "      1,\n",
    "    & \\rho_\\mathrm{f} \\le \\rho_\\mathrm{fb}.\n",
    "  \\end{cases}\n",
    "\\end{equation*}\n",
    "\n",
    "Notice that material utilization is optimal ($\\psi_c = 1, \\psi_f = 1$) for $\\rho_\\mathrm{f,cy} < \\rho_\\mathrm{f} < \\rho_\\mathrm{fb}$."
   ]
  },
  {
   "cell_type": "code",
   "metadata": {
    "ExecuteTime": {
     "end_time": "2024-05-17T07:31:56.908986Z",
     "start_time": "2024-05-17T07:31:56.865567Z"
    }
   },
   "source": [
    "sp.simplify(psi_c.args[1].subs({A_f:rho_f * b * d}))"
   ],
   "outputs": [
    {
     "data": {
      "text/plain": [
       "sqrt(\\rho_\\mathrm{f})*f_\\mathrm{fu}*sqrt(E_\\mathrm{f}*\\rho_\\mathrm{f}*\\varepsilon_\\mathrm{cy} + 2*\\sigma_\\mathrm{cy})/(sqrt(E_\\mathrm{f})*\\sigma_\\mathrm{cy}*sqrt(\\varepsilon_\\mathrm{cy}))"
      ],
      "text/latex": "$\\displaystyle \\frac{\\sqrt{\\rho_\\mathrm{f}} f_\\mathrm{fu} \\sqrt{E_\\mathrm{f} \\rho_\\mathrm{f} \\varepsilon_\\mathrm{cy} + 2 \\sigma_\\mathrm{cy}}}{\\sqrt{E_\\mathrm{f}} \\sigma_\\mathrm{cy} \\sqrt{\\varepsilon_\\mathrm{cy}}}$"
     },
     "execution_count": 232,
     "metadata": {},
     "output_type": "execute_result"
    }
   ],
   "execution_count": 232
  },
  {
   "attachments": {
    "image.png": {
     "image/png": "[encoded data removed]"
    }
   },
   "cell_type": "markdown",
   "metadata": {},
   "source": [
    "# For a given $M_u$, solve for different parameters to get optimally utilized section\n",
    "\n",
    "An optimally utilized section is a section with reinforcement ratio $\\rho_\\mathrm{f, cy} \\le \\rho \\le \\rho_\\mathrm{fb}$\n",
    "\n",
    "We substitute these limit reinforcement ratio in $M_n$ formula and solve for different parameters to find, for each parameter, a range that makes the section optimally utilized\n",
    "\n",
    "![image.png](attachment:image.png)"
   ]
  },
  {
   "cell_type": "code",
   "metadata": {
    "ExecuteTime": {
     "end_time": "2024-05-17T07:31:56.950142Z",
     "start_time": "2024-05-17T07:31:56.933809Z"
    }
   },
   "source": [
    "M_req = sp.Symbol(r'M_\\mathrm{req}')"
   ],
   "outputs": [],
   "execution_count": 233
  },
  {
   "cell_type": "code",
   "metadata": {
    "ExecuteTime": {
     "end_time": "2024-05-17T07:31:57.089358Z",
     "start_time": "2024-05-17T07:31:57.076973Z"
    }
   },
   "source": [
    "M_n_2_fb = M_n_2.subs(A_f, rho_fb * b * d).subs(sigma_f, f_fu)\n",
    "M_n_2_cy = M_n_2.subs(A_f, rho_f_cy * b * d).subs(sigma_f, f_fu)"
   ],
   "outputs": [],
   "execution_count": 234
  },
  {
   "cell_type": "markdown",
   "metadata": {},
   "source": [
    "## $d$ range that ensures an optimal cross-section"
   ]
  },
  {
   "cell_type": "markdown",
   "metadata": {},
   "source": [
    "Notice: if reinforcement ratio is higher then lower $d$ is needed, therefore $d$ corresponding to $\\rho_\\mathrm{fb}$ is the *min*"
   ]
  },
  {
   "cell_type": "markdown",
   "metadata": {},
   "source": [
    "### Lower limit for $d$"
   ]
  },
  {
   "cell_type": "code",
   "metadata": {
    "ExecuteTime": {
     "end_time": "2024-05-17T07:31:57.572579Z",
     "start_time": "2024-05-17T07:31:57.250698Z"
    }
   },
   "source": [
    "d_min = sp.simplify(sp.solve(M_n_2_fb - M_req, d)[1])\n",
    "d_min"
   ],
   "outputs": [
    {
     "data": {
      "text/plain": [
       "sqrt(6)*sqrt(M_\\mathrm{req}/(E_\\mathrm{f}*b*(2*E_\\mathrm{f}*\\sigma_\\mathrm{cu}*\\varepsilon_\\mathrm{cu}**2 - E_\\mathrm{f}*\\sigma_\\mathrm{cu}*\\varepsilon_\\mathrm{cu}*\\varepsilon_\\mathrm{cy} - E_\\mathrm{f}*\\sigma_\\mathrm{cu}*\\varepsilon_\\mathrm{cy}**2 + E_\\mathrm{f}*\\sigma_\\mathrm{cy}*\\varepsilon_\\mathrm{cu}**2 + E_\\mathrm{f}*\\sigma_\\mathrm{cy}*\\varepsilon_\\mathrm{cu}*\\varepsilon_\\mathrm{cy} + 3*\\sigma_\\mathrm{cu}*\\varepsilon_\\mathrm{cu}*f_\\mathrm{fu} - 3*\\sigma_\\mathrm{cu}*\\varepsilon_\\mathrm{cy}*f_\\mathrm{fu} + 3*\\sigma_\\mathrm{cy}*\\varepsilon_\\mathrm{cu}*f_\\mathrm{fu})))*(E_\\mathrm{f}*\\varepsilon_\\mathrm{cu} + f_\\mathrm{fu})"
      ],
      "text/latex": "$\\displaystyle \\sqrt{6} \\sqrt{\\frac{M_\\mathrm{req}}{E_\\mathrm{f} b \\left(2 E_\\mathrm{f} \\sigma_\\mathrm{cu} \\varepsilon_\\mathrm{cu}^{2} - E_\\mathrm{f} \\sigma_\\mathrm{cu} \\varepsilon_\\mathrm{cu} \\varepsilon_\\mathrm{cy} - E_\\mathrm{f} \\sigma_\\mathrm{cu} \\varepsilon_\\mathrm{cy}^{2} + E_\\mathrm{f} \\sigma_\\mathrm{cy} \\varepsilon_\\mathrm{cu}^{2} + E_\\mathrm{f} \\sigma_\\mathrm{cy} \\varepsilon_\\mathrm{cu} \\varepsilon_\\mathrm{cy} + 3 \\sigma_\\mathrm{cu} \\varepsilon_\\mathrm{cu} f_\\mathrm{fu} - 3 \\sigma_\\mathrm{cu} \\varepsilon_\\mathrm{cy} f_\\mathrm{fu} + 3 \\sigma_\\mathrm{cy} \\varepsilon_\\mathrm{cu} f_\\mathrm{fu}\\right)}} \\left(E_\\mathrm{f} \\varepsilon_\\mathrm{cu} + f_\\mathrm{fu}\\right)$"
     },
     "execution_count": 235,
     "metadata": {},
     "output_type": "execute_result"
    }
   ],
   "execution_count": 235
  },
  {
   "cell_type": "code",
   "metadata": {
    "ExecuteTime": {
     "end_time": "2024-05-17T07:31:57.586991Z",
     "start_time": "2024-05-17T07:31:57.573169Z"
    }
   },
   "source": [
    "sp.cse(d_min)"
   ],
   "outputs": [
    {
     "data": {
      "text/plain": [
       "([(x0, E_\\mathrm{f}*\\varepsilon_\\mathrm{cu}),\n",
       "  (x1, 3*f_\\mathrm{fu}),\n",
       "  (x2, \\varepsilon_\\mathrm{cu}*x1),\n",
       "  (x3, \\sigma_\\mathrm{cu}*\\varepsilon_\\mathrm{cy}),\n",
       "  (x4, E_\\mathrm{f}*\\varepsilon_\\mathrm{cu}**2)],\n",
       " [sqrt(6)*sqrt(M_\\mathrm{req}/(E_\\mathrm{f}*b*(-E_\\mathrm{f}*\\sigma_\\mathrm{cu}*\\varepsilon_\\mathrm{cy}**2 + \\sigma_\\mathrm{cu}*x2 + 2*\\sigma_\\mathrm{cu}*x4 + \\sigma_\\mathrm{cy}*\\varepsilon_\\mathrm{cy}*x0 + \\sigma_\\mathrm{cy}*x2 + \\sigma_\\mathrm{cy}*x4 - x0*x3 - x1*x3)))*(f_\\mathrm{fu} + x0)])"
      ]
     },
     "execution_count": 236,
     "metadata": {},
     "output_type": "execute_result"
    }
   ],
   "execution_count": 236
  },
  {
   "cell_type": "markdown",
   "metadata": {},
   "source": [
    "### Upper limit for $d$"
   ]
  },
  {
   "cell_type": "code",
   "metadata": {
    "ExecuteTime": {
     "end_time": "2024-05-17T07:31:58.644310Z",
     "start_time": "2024-05-17T07:31:57.586991Z"
    }
   },
   "source": [
    "d_max = sp.simplify(sp.solve(M_n_2_cy - M_req, d)[1])\n",
    "# or\n",
    "# d_max = sp.solve(M_n_1.subs(A_f, rho_f_cy * b * d) - M_req, d)[1]\n",
    "d_max"
   ],
   "outputs": [
    {
     "data": {
      "text/plain": [
       "sqrt(6)*sqrt(M_\\mathrm{req}*(\\sigma_\\mathrm{cu}*\\varepsilon_\\mathrm{cu}**2*f_\\mathrm{fu}/(\\sigma_\\mathrm{cy}*\\varepsilon_\\mathrm{cy}) + \\sigma_\\mathrm{cu}*(E_\\mathrm{f}*\\varepsilon_\\mathrm{cu}**2 - E_\\mathrm{f}*\\varepsilon_\\mathrm{cu}*\\varepsilon_\\mathrm{cy} - \\varepsilon_\\mathrm{cy}*f_\\mathrm{fu})/\\sigma_\\mathrm{cy} + \\varepsilon_\\mathrm{cu}**2*f_\\mathrm{fu}/\\varepsilon_\\mathrm{cy} + \\varepsilon_\\mathrm{cu}*(E_\\mathrm{f}*\\varepsilon_\\mathrm{cu} + f_\\mathrm{fu}) + \\sigma_\\mathrm{cu}*\\varepsilon_\\mathrm{cu}*f_\\mathrm{fu}**2/(E_\\mathrm{f}*\\sigma_\\mathrm{cy}*\\varepsilon_\\mathrm{cy}) - \\sigma_\\mathrm{cu}*f_\\mathrm{fu}**2/(E_\\mathrm{f}*\\sigma_\\mathrm{cy}) + \\varepsilon_\\mathrm{cu}*f_\\mathrm{fu}**2/(E_\\mathrm{f}*\\varepsilon_\\mathrm{cy}))/(b*(2*E_\\mathrm{f}*\\sigma_\\mathrm{cu}*\\varepsilon_\\mathrm{cu}**2 - E_\\mathrm{f}*\\sigma_\\mathrm{cu}*\\varepsilon_\\mathrm{cu}*\\varepsilon_\\mathrm{cy} - E_\\mathrm{f}*\\sigma_\\mathrm{cu}*\\varepsilon_\\mathrm{cy}**2 + E_\\mathrm{f}*\\sigma_\\mathrm{cy}*\\varepsilon_\\mathrm{cu}**2 + E_\\mathrm{f}*\\sigma_\\mathrm{cy}*\\varepsilon_\\mathrm{cu}*\\varepsilon_\\mathrm{cy} + 3*\\sigma_\\mathrm{cu}*\\varepsilon_\\mathrm{cu}*f_\\mathrm{fu} - 3*\\sigma_\\mathrm{cu}*\\varepsilon_\\mathrm{cy}*f_\\mathrm{fu} + 3*\\sigma_\\mathrm{cy}*\\varepsilon_\\mathrm{cu}*f_\\mathrm{fu})))"
      ],
      "text/latex": "$\\displaystyle \\sqrt{6} \\sqrt{\\frac{M_\\mathrm{req} \\left(\\frac{\\sigma_\\mathrm{cu} \\varepsilon_\\mathrm{cu}^{2} f_\\mathrm{fu}}{\\sigma_\\mathrm{cy} \\varepsilon_\\mathrm{cy}} + \\frac{\\sigma_\\mathrm{cu} \\left(E_\\mathrm{f} \\varepsilon_\\mathrm{cu}^{2} - E_\\mathrm{f} \\varepsilon_\\mathrm{cu} \\varepsilon_\\mathrm{cy} - \\varepsilon_\\mathrm{cy} f_\\mathrm{fu}\\right)}{\\sigma_\\mathrm{cy}} + \\frac{\\varepsilon_\\mathrm{cu}^{2} f_\\mathrm{fu}}{\\varepsilon_\\mathrm{cy}} + \\varepsilon_\\mathrm{cu} \\left(E_\\mathrm{f} \\varepsilon_\\mathrm{cu} + f_\\mathrm{fu}\\right) + \\frac{\\sigma_\\mathrm{cu} \\varepsilon_\\mathrm{cu} f_\\mathrm{fu}^{2}}{E_\\mathrm{f} \\sigma_\\mathrm{cy} \\varepsilon_\\mathrm{cy}} - \\frac{\\sigma_\\mathrm{cu} f_\\mathrm{fu}^{2}}{E_\\mathrm{f} \\sigma_\\mathrm{cy}} + \\frac{\\varepsilon_\\mathrm{cu} f_\\mathrm{fu}^{2}}{E_\\mathrm{f} \\varepsilon_\\mathrm{cy}}\\right)}{b \\left(2 E_\\mathrm{f} \\sigma_\\mathrm{cu} \\varepsilon_\\mathrm{cu}^{2} - E_\\mathrm{f} \\sigma_\\mathrm{cu} \\varepsilon_\\mathrm{cu} \\varepsilon_\\mathrm{cy} - E_\\mathrm{f} \\sigma_\\mathrm{cu} \\varepsilon_\\mathrm{cy}^{2} + E_\\mathrm{f} \\sigma_\\mathrm{cy} \\varepsilon_\\mathrm{cu}^{2} + E_\\mathrm{f} \\sigma_\\mathrm{cy} \\varepsilon_\\mathrm{cu} \\varepsilon_\\mathrm{cy} + 3 \\sigma_\\mathrm{cu} \\varepsilon_\\mathrm{cu} f_\\mathrm{fu} - 3 \\sigma_\\mathrm{cu} \\varepsilon_\\mathrm{cy} f_\\mathrm{fu} + 3 \\sigma_\\mathrm{cy} \\varepsilon_\\mathrm{cu} f_\\mathrm{fu}\\right)}}$"
     },
     "execution_count": 237,
     "metadata": {},
     "output_type": "execute_result"
    }
   ],
   "execution_count": 237
  },
  {
   "cell_type": "code",
   "metadata": {
    "ExecuteTime": {
     "end_time": "2024-05-17T07:31:58.671373Z",
     "start_time": "2024-05-17T07:31:58.644310Z"
    }
   },
   "source": [
    "sp.cse(d_max)[-1][0]"
   ],
   "outputs": [
    {
     "data": {
      "text/plain": [
       "sqrt(6)*sqrt(M_\\mathrm{req}*(\\varepsilon_\\mathrm{cu}*(f_\\mathrm{fu} + x3) + x10*x11 + x10 + x11*x8 - x11*x9 + x11*(E_\\mathrm{f}*x5 - x2 - x4) + x8)/(b*(-E_\\mathrm{f}*\\sigma_\\mathrm{cu}*\\varepsilon_\\mathrm{cy}**2 - \\sigma_\\mathrm{cu}*x4 + 2*\\sigma_\\mathrm{cu}*x6 + 3*\\sigma_\\mathrm{cy}*x1 + \\sigma_\\mathrm{cy}*x4 + \\sigma_\\mathrm{cy}*x6 + x0*x1 - x0*x2)))"
      ],
      "text/latex": "$\\displaystyle \\sqrt{6} \\sqrt{\\frac{M_\\mathrm{req} \\left(\\varepsilon_\\mathrm{cu} \\left(f_\\mathrm{fu} + x_{3}\\right) + x_{10} x_{11} + x_{10} + x_{11} x_{8} - x_{11} x_{9} + x_{11} \\left(E_\\mathrm{f} x_{5} - x_{2} - x_{4}\\right) + x_{8}\\right)}{b \\left(- E_\\mathrm{f} \\sigma_\\mathrm{cu} \\varepsilon_\\mathrm{cy}^{2} - \\sigma_\\mathrm{cu} x_{4} + 2 \\sigma_\\mathrm{cu} x_{6} + 3 \\sigma_\\mathrm{cy} x_{1} + \\sigma_\\mathrm{cy} x_{4} + \\sigma_\\mathrm{cy} x_{6} + x_{0} x_{1} - x_{0} x_{2}\\right)}}$"
     },
     "execution_count": 238,
     "metadata": {},
     "output_type": "execute_result"
    }
   ],
   "execution_count": 238
  },
  {
   "cell_type": "markdown",
   "metadata": {},
   "source": [
    "## $b$ range that ensures an optimal cross-section"
   ]
  },
  {
   "cell_type": "markdown",
   "metadata": {},
   "source": [
    "### Lower limit for $b$"
   ]
  },
  {
   "cell_type": "code",
   "metadata": {
    "ExecuteTime": {
     "end_time": "2024-05-17T07:31:58.977393Z",
     "start_time": "2024-05-17T07:31:58.671373Z"
    }
   },
   "source": [
    "b_min = sp.simplify(sp.solve(M_n_2_fb - M_req, b)[0])\n",
    "b_min"
   ],
   "outputs": [
    {
     "data": {
      "text/plain": [
       "6*M_\\mathrm{req}*(E_\\mathrm{f}*\\varepsilon_\\mathrm{cu} + f_\\mathrm{fu})**2/(E_\\mathrm{f}*d**2*(2*E_\\mathrm{f}*\\sigma_\\mathrm{cu}*\\varepsilon_\\mathrm{cu}**2 - E_\\mathrm{f}*\\sigma_\\mathrm{cu}*\\varepsilon_\\mathrm{cu}*\\varepsilon_\\mathrm{cy} - E_\\mathrm{f}*\\sigma_\\mathrm{cu}*\\varepsilon_\\mathrm{cy}**2 + E_\\mathrm{f}*\\sigma_\\mathrm{cy}*\\varepsilon_\\mathrm{cu}**2 + E_\\mathrm{f}*\\sigma_\\mathrm{cy}*\\varepsilon_\\mathrm{cu}*\\varepsilon_\\mathrm{cy} + 3*\\sigma_\\mathrm{cu}*\\varepsilon_\\mathrm{cu}*f_\\mathrm{fu} - 3*\\sigma_\\mathrm{cu}*\\varepsilon_\\mathrm{cy}*f_\\mathrm{fu} + 3*\\sigma_\\mathrm{cy}*\\varepsilon_\\mathrm{cu}*f_\\mathrm{fu}))"
      ],
      "text/latex": "$\\displaystyle \\frac{6 M_\\mathrm{req} \\left(E_\\mathrm{f} \\varepsilon_\\mathrm{cu} + f_\\mathrm{fu}\\right)^{2}}{E_\\mathrm{f} d^{2} \\cdot \\left(2 E_\\mathrm{f} \\sigma_\\mathrm{cu} \\varepsilon_\\mathrm{cu}^{2} - E_\\mathrm{f} \\sigma_\\mathrm{cu} \\varepsilon_\\mathrm{cu} \\varepsilon_\\mathrm{cy} - E_\\mathrm{f} \\sigma_\\mathrm{cu} \\varepsilon_\\mathrm{cy}^{2} + E_\\mathrm{f} \\sigma_\\mathrm{cy} \\varepsilon_\\mathrm{cu}^{2} + E_\\mathrm{f} \\sigma_\\mathrm{cy} \\varepsilon_\\mathrm{cu} \\varepsilon_\\mathrm{cy} + 3 \\sigma_\\mathrm{cu} \\varepsilon_\\mathrm{cu} f_\\mathrm{fu} - 3 \\sigma_\\mathrm{cu} \\varepsilon_\\mathrm{cy} f_\\mathrm{fu} + 3 \\sigma_\\mathrm{cy} \\varepsilon_\\mathrm{cu} f_\\mathrm{fu}\\right)}$"
     },
     "execution_count": 239,
     "metadata": {},
     "output_type": "execute_result"
    }
   ],
   "execution_count": 239
  },
  {
   "cell_type": "code",
   "metadata": {
    "ExecuteTime": {
     "end_time": "2024-05-17T07:31:58.986482Z",
     "start_time": "2024-05-17T07:31:58.978395Z"
    }
   },
   "source": [
    "sp.cse(b_min)"
   ],
   "outputs": [
    {
     "data": {
      "text/plain": [
       "([(x0, E_\\mathrm{f}*\\varepsilon_\\mathrm{cu}),\n",
       "  (x1, 3*f_\\mathrm{fu}),\n",
       "  (x2, \\varepsilon_\\mathrm{cu}*x1),\n",
       "  (x3, \\sigma_\\mathrm{cu}*\\varepsilon_\\mathrm{cy}),\n",
       "  (x4, E_\\mathrm{f}*\\varepsilon_\\mathrm{cu}**2)],\n",
       " [6*M_\\mathrm{req}*(f_\\mathrm{fu} + x0)**2/(E_\\mathrm{f}*d**2*(-E_\\mathrm{f}*\\sigma_\\mathrm{cu}*\\varepsilon_\\mathrm{cy}**2 + \\sigma_\\mathrm{cu}*x2 + 2*\\sigma_\\mathrm{cu}*x4 + \\sigma_\\mathrm{cy}*\\varepsilon_\\mathrm{cy}*x0 + \\sigma_\\mathrm{cy}*x2 + \\sigma_\\mathrm{cy}*x4 - x0*x3 - x1*x3))])"
      ]
     },
     "execution_count": 240,
     "metadata": {},
     "output_type": "execute_result"
    }
   ],
   "execution_count": 240
  },
  {
   "cell_type": "markdown",
   "metadata": {},
   "source": [
    "### Upper limit for $b$"
   ]
  },
  {
   "cell_type": "code",
   "metadata": {
    "ExecuteTime": {
     "end_time": "2024-05-17T07:31:59.452628Z",
     "start_time": "2024-05-17T07:31:58.986482Z"
    }
   },
   "source": [
    "b_max = sp.simplify(sp.solve(M_n_2_cy - M_req, b)[0])\n",
    "# or\n",
    "# b_max = sp.simplify(sp.solve(M_n_1.subs(A_f, rho_f_cy * b * d) - M_req, b)[0])\n",
    "b_max"
   ],
   "outputs": [
    {
     "data": {
      "text/plain": [
       "6*M_\\mathrm{req}*(E_\\mathrm{f}**2*\\sigma_\\mathrm{cu}*\\varepsilon_\\mathrm{cu}**2*\\varepsilon_\\mathrm{cy} - E_\\mathrm{f}**2*\\sigma_\\mathrm{cu}*\\varepsilon_\\mathrm{cu}*\\varepsilon_\\mathrm{cy}**2 + E_\\mathrm{f}**2*\\sigma_\\mathrm{cy}*\\varepsilon_\\mathrm{cu}**2*\\varepsilon_\\mathrm{cy} + E_\\mathrm{f}*\\sigma_\\mathrm{cu}*\\varepsilon_\\mathrm{cu}**2*f_\\mathrm{fu} - E_\\mathrm{f}*\\sigma_\\mathrm{cu}*\\varepsilon_\\mathrm{cy}**2*f_\\mathrm{fu} + E_\\mathrm{f}*\\sigma_\\mathrm{cy}*\\varepsilon_\\mathrm{cu}**2*f_\\mathrm{fu} + E_\\mathrm{f}*\\sigma_\\mathrm{cy}*\\varepsilon_\\mathrm{cu}*\\varepsilon_\\mathrm{cy}*f_\\mathrm{fu} + \\sigma_\\mathrm{cu}*\\varepsilon_\\mathrm{cu}*f_\\mathrm{fu}**2 - \\sigma_\\mathrm{cu}*\\varepsilon_\\mathrm{cy}*f_\\mathrm{fu}**2 + \\sigma_\\mathrm{cy}*\\varepsilon_\\mathrm{cu}*f_\\mathrm{fu}**2)/(E_\\mathrm{f}*\\sigma_\\mathrm{cy}*\\varepsilon_\\mathrm{cy}*d**2*(2*E_\\mathrm{f}*\\sigma_\\mathrm{cu}*\\varepsilon_\\mathrm{cu}**2 - E_\\mathrm{f}*\\sigma_\\mathrm{cu}*\\varepsilon_\\mathrm{cu}*\\varepsilon_\\mathrm{cy} - E_\\mathrm{f}*\\sigma_\\mathrm{cu}*\\varepsilon_\\mathrm{cy}**2 + E_\\mathrm{f}*\\sigma_\\mathrm{cy}*\\varepsilon_\\mathrm{cu}**2 + E_\\mathrm{f}*\\sigma_\\mathrm{cy}*\\varepsilon_\\mathrm{cu}*\\varepsilon_\\mathrm{cy} + 3*\\sigma_\\mathrm{cu}*\\varepsilon_\\mathrm{cu}*f_\\mathrm{fu} - 3*\\sigma_\\mathrm{cu}*\\varepsilon_\\mathrm{cy}*f_\\mathrm{fu} + 3*\\sigma_\\mathrm{cy}*\\varepsilon_\\mathrm{cu}*f_\\mathrm{fu}))"
      ],
      "text/latex": "$\\displaystyle \\frac{6 M_\\mathrm{req} \\left(E_\\mathrm{f}^{2} \\sigma_\\mathrm{cu} \\varepsilon_\\mathrm{cu}^{2} \\varepsilon_\\mathrm{cy} - E_\\mathrm{f}^{2} \\sigma_\\mathrm{cu} \\varepsilon_\\mathrm{cu} \\varepsilon_\\mathrm{cy}^{2} + E_\\mathrm{f}^{2} \\sigma_\\mathrm{cy} \\varepsilon_\\mathrm{cu}^{2} \\varepsilon_\\mathrm{cy} + E_\\mathrm{f} \\sigma_\\mathrm{cu} \\varepsilon_\\mathrm{cu}^{2} f_\\mathrm{fu} - E_\\mathrm{f} \\sigma_\\mathrm{cu} \\varepsilon_\\mathrm{cy}^{2} f_\\mathrm{fu} + E_\\mathrm{f} \\sigma_\\mathrm{cy} \\varepsilon_\\mathrm{cu}^{2} f_\\mathrm{fu} + E_\\mathrm{f} \\sigma_\\mathrm{cy} \\varepsilon_\\mathrm{cu} \\varepsilon_\\mathrm{cy} f_\\mathrm{fu} + \\sigma_\\mathrm{cu} \\varepsilon_\\mathrm{cu} f_\\mathrm{fu}^{2} - \\sigma_\\mathrm{cu} \\varepsilon_\\mathrm{cy} f_\\mathrm{fu}^{2} + \\sigma_\\mathrm{cy} \\varepsilon_\\mathrm{cu} f_\\mathrm{fu}^{2}\\right)}{E_\\mathrm{f} \\sigma_\\mathrm{cy} \\varepsilon_\\mathrm{cy} d^{2} \\cdot \\left(2 E_\\mathrm{f} \\sigma_\\mathrm{cu} \\varepsilon_\\mathrm{cu}^{2} - E_\\mathrm{f} \\sigma_\\mathrm{cu} \\varepsilon_\\mathrm{cu} \\varepsilon_\\mathrm{cy} - E_\\mathrm{f} \\sigma_\\mathrm{cu} \\varepsilon_\\mathrm{cy}^{2} + E_\\mathrm{f} \\sigma_\\mathrm{cy} \\varepsilon_\\mathrm{cu}^{2} + E_\\mathrm{f} \\sigma_\\mathrm{cy} \\varepsilon_\\mathrm{cu} \\varepsilon_\\mathrm{cy} + 3 \\sigma_\\mathrm{cu} \\varepsilon_\\mathrm{cu} f_\\mathrm{fu} - 3 \\sigma_\\mathrm{cu} \\varepsilon_\\mathrm{cy} f_\\mathrm{fu} + 3 \\sigma_\\mathrm{cy} \\varepsilon_\\mathrm{cu} f_\\mathrm{fu}\\right)}$"
     },
     "execution_count": 241,
     "metadata": {},
     "output_type": "execute_result"
    }
   ],
   "execution_count": 241
  },
  {
   "cell_type": "code",
   "metadata": {
    "ExecuteTime": {
     "end_time": "2024-05-17T07:31:59.465421Z",
     "start_time": "2024-05-17T07:31:59.452628Z"
    }
   },
   "source": [
    "sp.cse(b_max)"
   ],
   "outputs": [
    {
     "data": {
      "text/plain": [
       "([(x0, 3*f_\\mathrm{fu}),\n",
       "  (x1, \\varepsilon_\\mathrm{cu}*x0),\n",
       "  (x2, \\sigma_\\mathrm{cu}*\\varepsilon_\\mathrm{cy}),\n",
       "  (x3, \\varepsilon_\\mathrm{cu}*\\varepsilon_\\mathrm{cy}),\n",
       "  (x4, E_\\mathrm{f}*\\sigma_\\mathrm{cy}*x3),\n",
       "  (x5, \\varepsilon_\\mathrm{cu}**2),\n",
       "  (x6, E_\\mathrm{f}*x5),\n",
       "  (x7, \\sigma_\\mathrm{cy}*x6),\n",
       "  (x8, E_\\mathrm{f}*\\sigma_\\mathrm{cu}),\n",
       "  (x9, \\sigma_\\mathrm{cu}*x6),\n",
       "  (x10, \\varepsilon_\\mathrm{cy}**2),\n",
       "  (x11, x10*x8),\n",
       "  (x12, f_\\mathrm{fu}**2),\n",
       "  (x13, \\varepsilon_\\mathrm{cu}*x12),\n",
       "  (x14, E_\\mathrm{f}**2),\n",
       "  (x15, x14*x5)],\n",
       " [6*M_\\mathrm{req}*(-\\sigma_\\mathrm{cu}*\\varepsilon_\\mathrm{cu}*x10*x14 + \\sigma_\\mathrm{cu}*x13 + \\sigma_\\mathrm{cy}*\\varepsilon_\\mathrm{cy}*x15 + \\sigma_\\mathrm{cy}*x13 - f_\\mathrm{fu}*x11 + f_\\mathrm{fu}*x4 + f_\\mathrm{fu}*x7 + f_\\mathrm{fu}*x9 - x12*x2 + x15*x2)/(E_\\mathrm{f}*\\sigma_\\mathrm{cy}*\\varepsilon_\\mathrm{cy}*d**2*(\\sigma_\\mathrm{cu}*x1 + \\sigma_\\mathrm{cy}*x1 - x0*x2 - x11 - x3*x8 + x4 + x7 + 2*x9))])"
      ]
     },
     "execution_count": 242,
     "metadata": {},
     "output_type": "execute_result"
    }
   ],
   "execution_count": 242
  },
  {
   "cell_type": "markdown",
   "metadata": {},
   "source": [
    "### Dimensionless efficient design diagram"
   ]
  },
  {
   "cell_type": "markdown",
   "metadata": {},
   "source": [
    "#### Generalized diagrams"
   ]
  },
  {
   "cell_type": "code",
   "metadata": {
    "ExecuteTime": {
     "end_time": "2024-05-17T07:31:59.496535Z",
     "start_time": "2024-05-17T07:31:59.465421Z"
    }
   },
   "source": [
    "from labellines import labelLine, labelLines\n",
    "\n",
    "M_n_2_cy_norm = M_n_2_cy / (f_cm * b*d**2)\n",
    "M_n_2_fb_norm = M_n_2_fb / (f_cm * b*d**2)\n",
    "\n",
    "# f_cms = [30, 50, 90]\n",
    "f_cms = [50]\n",
    "f_fus = np.linspace(100, 5000, 60)\n",
    "# E_fs = np.linspace(30000, 500000, 10)\n",
    "E_fs = np.array([20, 30, 40, 50, 75, 100, 150, 200, 250, 300, 400, 500]) * 1000\n",
    "M_n_2_cy_norm_vals = np.zeros((len(f_cms), len(E_fs), len(f_fus)))\n",
    "M_n_2_fb_norm_vals = np.zeros((len(f_cms), len(E_fs), len(f_fus)))\n",
    "\n",
    "for f_cm_i, f_cm_val in enumerate(f_cms):\n",
    "    for E_j, E_f_val in enumerate(E_fs):\n",
    "        for f_i, f_fu_val in enumerate(f_fus):\n",
    "            t1_mat_params = {\n",
    "                  f_cm:f_cm_val,\n",
    "                  f_fu:f_fu_val, \n",
    "                  E_f:E_f_val, \n",
    "                  eps_cy:EC2.get_eps_c1(f_cm_val-8),\n",
    "                  eps_cu:EC2.get_eps_cu1(f_cm_val-8) # In TTC model, this is adapted for f_cm > 98 to yield 0.0028\n",
    "                 }\n",
    "            M_n_2_cy_norm_vals[f_cm_i, E_j, f_i] = sp.N(M_n_2_cy_norm.subs(sigma_cy_cu_vals).subs(t1_mat_params))\n",
    "            M_n_2_fb_norm_vals[f_cm_i, E_j, f_i] = sp.N(M_n_2_fb_norm.subs(sigma_cy_cu_vals).subs(t1_mat_params))\n",
    "\n",
    "fig, axes = plt.subplots(len(f_cms), 2, figsize=(10, len(f_cms) * 6))\n",
    "\n",
    "for f_cm_i, f_cm_val in enumerate(f_cms):\n",
    "    ax1 = axes[f_cm_i, 0] if len(f_cms) > 1 else axes[0]\n",
    "    ax2 = axes[f_cm_i, 1] if len(f_cms) > 1 else axes[1]\n",
    "    ax1.set_xlabel(r'$M_{\\rho_\\mathrm{f, cy}}/(f_\\mathrm{cm} bd^2)$')\n",
    "    ax2.set_xlabel(r'$M_{\\rho_\\mathrm{fb}}/(f_\\mathrm{cm} bd^2)$')\n",
    "    title = r'$f_\\mathrm{cm}$ = ' + str(f_cm_val)\n",
    "    ax1.set_title(title); ax2.set_title(title)\n",
    "    for i, E_f_val in enumerate(E_fs):\n",
    "        label = r'$E_\\mathrm{f} = $' + str(int(E_f_val/1000)) + ' GPa' if i==0 else str(round(E_f_val/1000))\n",
    "        ax1.plot(M_n_2_cy_norm_vals[f_cm_i, i, :], f_fus, label=label)\n",
    "        ax2.plot(M_n_2_fb_norm_vals[f_cm_i, i, :], f_fus, label=label)\n",
    "\n",
    "for ax in axes.flatten():\n",
    "    labelLines(ax.get_lines(), align=True, fontsize=14, zorder=12.5, yoffsets=0.1)\n",
    "    ax.set_xlim(0, 0.5)\n",
    "    ax.set_ylim(0, np.max(f_fus))\n",
    "    ax.set_ylabel(r'$f_\\mathrm{fu} \\mathrm{[MPa]}$')\n",
    "    ax.grid()\n",
    "#     ax.legend()\n"
   ],
   "outputs": [
    {
     "ename": "ModuleNotFoundError",
     "evalue": "No module named 'labellines'",
     "output_type": "error",
     "traceback": [
      "\u001B[1;31m---------------------------------------------------------------------------\u001B[0m",
      "\u001B[1;31mModuleNotFoundError\u001B[0m                       Traceback (most recent call last)",
      "Cell \u001B[1;32mIn[243], line 1\u001B[0m\n\u001B[1;32m----> 1\u001B[0m \u001B[38;5;28;01mfrom\u001B[39;00m \u001B[38;5;21;01mlabellines\u001B[39;00m \u001B[38;5;28;01mimport\u001B[39;00m labelLine, labelLines\n\u001B[0;32m      3\u001B[0m M_n_2_cy_norm \u001B[38;5;241m=\u001B[39m M_n_2_cy \u001B[38;5;241m/\u001B[39m (f_cm \u001B[38;5;241m*\u001B[39m b\u001B[38;5;241m*\u001B[39md\u001B[38;5;241m*\u001B[39m\u001B[38;5;241m*\u001B[39m\u001B[38;5;241m2\u001B[39m)\n\u001B[0;32m      4\u001B[0m M_n_2_fb_norm \u001B[38;5;241m=\u001B[39m M_n_2_fb \u001B[38;5;241m/\u001B[39m (f_cm \u001B[38;5;241m*\u001B[39m b\u001B[38;5;241m*\u001B[39md\u001B[38;5;241m*\u001B[39m\u001B[38;5;241m*\u001B[39m\u001B[38;5;241m2\u001B[39m)\n",
      "\u001B[1;31mModuleNotFoundError\u001B[0m: No module named 'labellines'"
     ]
    }
   ],
   "execution_count": 243
  },
  {
   "cell_type": "markdown",
   "metadata": {},
   "source": [
    "#### Alternative approach\n",
    "\n",
    "Given $b, M_\\mathrm{req}$ calculate $d$ which gives a optimally utilized cross-section (have a reinf. ratio $\\rho= \\rho_\\mathrm{fb}$)"
   ]
  },
  {
   "cell_type": "code",
   "metadata": {},
   "source": [
    "d_limit = d_min\n",
    "get_d_sol = sp.lambdify((M_req, b, E_f, f_fu, f_cm, eps_cy, eps_cu), d_limit.subs(sigma_cy_cu_vals))\n",
    "\n",
    "bs = np.linspace(20, 600, 50)\n",
    "M_reqs = np.array([1, 5, 10, 20, 40, 80, 160]) * 1e6\n",
    "bs_grid, M_reqs_grid = np.meshgrid(bs, M_reqs)\n",
    "\n",
    "# t1_f_cm = 98.6\n",
    "# t1_data = (M_reqs_grid, bs_grid, 247469, 3823.9, t1_f_cm, EC2.get_eps_c1(t1_f_cm-8), EC2.get_eps_cu1(t1_f_cm-8))\n",
    "f_cm_val = 50\n",
    "test_data = (M_reqs_grid, bs_grid, 200000, 1500, f_cm_val, EC2.get_eps_c1(f_cm_val-8), EC2.get_eps_cu1(f_cm_val-8))\n",
    "\n",
    "ds_grid = get_d_sol(*test_data)"
   ],
   "outputs": [],
   "execution_count": null
  },
  {
   "cell_type": "code",
   "metadata": {},
   "source": [
    "fig1, ax1 = plt.subplots()\n",
    "\n",
    "## Plotting b vs area too:\n",
    "# get_A = sp.lambdify((b, d), b*d)\n",
    "# A_grid = get_A(bs_grid, ds_grid)\n",
    "# ax_A = ax1.twinx()\n",
    "# ax_A.plot(bs_grid.T, A_grid.T * 1e-6, ls = 'dashed')\n",
    "\n",
    "plots = ax1.plot(bs_grid.T, ds_grid.T, label=(M_reqs/1e6).astype(np.int_))\n",
    "plots[-1].set_label(r'$M_\\mathrm{req} = $' + str((M_reqs/1e6).astype(np.int_)[-1]) + ' kNm')\n",
    "\n",
    "ax1.set_title('For given ' + r'$(f_\\mathrm{cm}, f_\\mathrm{fu}, E_\\mathrm{f})$' + ' and ' + r' $\\rho= \\rho_\\mathrm{fb}$')\n",
    "ax1.set_xlabel(r'$b \\mathrm{[mm]}$')\n",
    "ax1.set_ylabel(r'$d \\mathrm{[mm]}$')\n",
    "ax1.grid()\n",
    "\n",
    "labelLines(plots, align=True, fontsize=14, zorder=12.5, yoffsets=0.1);"
   ],
   "outputs": [],
   "execution_count": null
  },
  {
   "cell_type": "code",
   "metadata": {},
   "source": [
    "# Example design moment for a slab segment\n",
    "q_d = 1.35 * 2.5 + 1.5 * 3\n",
    "d_ribs = 0.6\n",
    "Q_d = q_d * d_ribs\n",
    "l = 6\n",
    "M_d = Q_d * l**2 / 8\n",
    "M_d"
   ],
   "outputs": [],
   "execution_count": null
  },
  {
   "cell_type": "markdown",
   "metadata": {},
   "source": [
    "### Validation"
   ]
  },
  {
   "cell_type": "code",
   "metadata": {},
   "source": [
    "from bmcs_cross_section.api import AnaFRPBending\n",
    "bend = AnaFRPBending(f_fu=3823.9, E_f=247469, f_cm=98.6, b=300, d=65)\n",
    "bend.A_f = bend.rho_fb * bend.b * bend.d\n",
    "bend.M_u"
   ],
   "outputs": [],
   "execution_count": null
  },
  {
   "cell_type": "markdown",
   "metadata": {},
   "source": [
    "## Tests"
   ]
  },
  {
   "cell_type": "code",
   "metadata": {},
   "source": [
    "f_cm_val = 98.6\n",
    "test_vals1 = {f_cm:f_cm_val, \n",
    "              b:300, \n",
    "              d:90, \n",
    "              f_fu:3823.9, \n",
    "              E_f:247469, \n",
    "#             A_f:250, \n",
    "#             rho_f:250/(180*400),\n",
    "            E_cc:EC2.get_E_cm(f_cm_val-8), \n",
    "            eps_cy:EC2.get_eps_c1(f_cm_val-8),\n",
    "           eps_cu:EC2.get_eps_cu1(f_cm_val-8)\n",
    "             }\n",
    "# test_vals1[d] = 185\n",
    "# test_vals1[A_f] = rho_fb_test * test_vals1[b] * test_vals1[d]\n",
    "# test_vals1[rho_f] = rho_fb_test\n",
    "test_vals1"
   ],
   "outputs": [],
   "execution_count": null
  },
  {
   "cell_type": "markdown",
   "metadata": {},
   "source": [
    "$b$ range"
   ]
  },
  {
   "cell_type": "code",
   "metadata": {},
   "source": [
    "sp.N(b_min.subs(sigma_cy_cu_vals).subs(test_vals1).subs(M_req, 100e6)) # with rho_fb"
   ],
   "outputs": [],
   "execution_count": null
  },
  {
   "cell_type": "code",
   "metadata": {},
   "source": [
    "sp.N(b_max.subs(sigma_cy_cu_vals).subs(test_vals1).subs(M_req, 100e6)) # with rho_f_cy"
   ],
   "outputs": [],
   "execution_count": null
  },
  {
   "cell_type": "code",
   "metadata": {},
   "source": [
    "rho_f_cy.subs(sigma_cy_cu_vals).subs(test_vals1)"
   ],
   "outputs": [],
   "execution_count": null
  },
  {
   "cell_type": "code",
   "metadata": {},
   "source": [
    "rho_fb.subs(sigma_cy_cu_vals).subs(test_vals1)"
   ],
   "outputs": [],
   "execution_count": null
  },
  {
   "cell_type": "markdown",
   "metadata": {},
   "source": [
    "$d$ range"
   ]
  },
  {
   "cell_type": "code",
   "metadata": {},
   "source": [
    "sp.N(d_min.subs(sigma_cy_cu_vals).subs(test_vals1).subs(M_req, 100e6)) # with rho_fb"
   ],
   "outputs": [],
   "execution_count": null
  },
  {
   "cell_type": "code",
   "metadata": {},
   "source": [
    "sp.N(d_max.subs(sigma_cy_cu_vals).subs(test_vals1).subs(M_req, 100e6)) # with rho_f_cy"
   ],
   "outputs": [],
   "execution_count": null
  },
  {
   "cell_type": "code",
   "metadata": {},
   "source": [
    "rho_range = np.linspace(0.002057, 0.0032032, 50)\n",
    "b_range = np.linspace(658.33585, 422.8495, 50)\n",
    "d_range = np.linspace(230.9225, 185.069, 50)"
   ],
   "outputs": [],
   "execution_count": null
  },
  {
   "cell_type": "code",
   "metadata": {},
   "source": [
    "M_us = np.zeros_like(rho_range)\n",
    "i = 0\n",
    "for rho, b_val in zip(rho_range, b_range):\n",
    "    M_u = AnaFRPBending(f_cm = 50, E_f = 200000, f_fu = 2500, b=b_val, d=180, A_f=rho * b_val * 180).M_u\n",
    "    M_us[i] = M_u\n",
    "    i += 1\n",
    "M_us"
   ],
   "outputs": [],
   "execution_count": null
  },
  {
   "cell_type": "code",
   "metadata": {},
   "source": [
    "fig, ax = plt.subplots()\n",
    "ax.plot(rho_range, M_us)"
   ],
   "outputs": [],
   "execution_count": null
  },
  {
   "cell_type": "code",
   "metadata": {},
   "source": [
    "M_us = np.zeros_like(rho_range)\n",
    "i = 0\n",
    "for rho, d_val in zip(rho_range, d_range):\n",
    "    M_u = AnaFRPBending(f_cm = 50, E_f = 200000, f_fu = 2500, b=400, d=d_val, A_f=rho * 400 * d_val).M_u\n",
    "    M_us[i] = M_u\n",
    "    i += 1\n",
    "M_us"
   ],
   "outputs": [],
   "execution_count": null
  },
  {
   "cell_type": "code",
   "metadata": {},
   "source": [
    "fig, ax = plt.subplots()\n",
    "ax.plot(rho_range, M_us)"
   ],
   "outputs": [],
   "execution_count": null
  },
  {
   "cell_type": "code",
   "metadata": {},
   "source": [
    "rho_fb_test = sp.N(rho_fb.subs(sigma_cy_cu_vals).subs(test_vals1))\n",
    "rho_fb_test"
   ],
   "outputs": [],
   "execution_count": null
  }
 ],
 "metadata": {
  "kernelspec": {
   "display_name": "Python 3 (ipykernel)",
   "language": "python",
   "name": "python3"
  },
  "language_info": {
   "codemirror_mode": {
    "name": "ipython",
    "version": 3
   },
   "file_extension": ".py",
   "mimetype": "text/x-python",
   "name": "python",
   "nbconvert_exporter": "python",
   "pygments_lexer": "ipython3"
  },
  "toc": {
   "base_numbering": 1,
   "nav_menu": {},
   "number_sections": true,
   "sideBar": true,
   "skip_h1_title": false,
   "title_cell": "Table of Contents",
   "title_sidebar": "Contents",
   "toc_cell": false,
   "toc_position": {},
   "toc_section_display": true,
   "toc_window_display": false
  }
 },
 "nbformat": 4,
 "nbformat_minor": 4
}
