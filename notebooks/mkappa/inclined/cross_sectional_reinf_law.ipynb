{
 "cells": [
  {
   "cell_type": "markdown",
   "id": "663581b9-3f6d-4f62-8aaa-1392b1f1f649",
   "metadata": {},
   "source": [
    "# Inclined alternating reinforcement"
   ]
  },
  {
   "cell_type": "code",
   "execution_count": null,
   "id": "ccb22db5-bd67-4b95-bb0c-e4e69f753a25",
   "metadata": {},
   "outputs": [],
   "source": [
    "%matplotlib widget\n",
    "import sympy as sp\n",
    "sp.init_printing()\n",
    "import bmcs_utils.api as bu\n",
    "import matplotlib.pylab as plt\n",
    "import numpy as np"
   ]
  },
  {
   "cell_type": "markdown",
   "id": "a6d42b1d-f996-4643-b016-0eeeeead950d",
   "metadata": {},
   "source": [
    " - $ s_x$: Distance of intersections\n",
    " - $ \\varphi$: Angle between beam direction and reinforcement inclination"
   ]
  },
  {
   "cell_type": "code",
   "execution_count": null,
   "id": "69a18c63-de65-404e-bdfc-1b4e81656a43",
   "metadata": {},
   "outputs": [],
   "source": [
    "s_0_x = sp.Symbol(r's^0_x', positive=True)\n",
    "phi = sp.Symbol(r'\\varphi', positive=True)\n",
    "eps_x = sp.Symbol(r'\\varepsilon_x', positive=True)"
   ]
  },
  {
   "cell_type": "markdown",
   "id": "15be3db2-b5ce-4271-9227-c7a8d4fce940",
   "metadata": {},
   "source": [
    "$$ \n",
    "s^0_x = \\cos({\\varphi}) \\; s^0_\\varphi\n",
    "$$\n",
    "or inversely\n",
    "$$\n",
    "s^0_\\varphi = \\frac{s^0_x}{\\cos \\varphi}\n",
    "$$"
   ]
  },
  {
   "cell_type": "code",
   "execution_count": null,
   "id": "e08655f9-0305-42f8-b62d-c0e2fbc9cbde",
   "metadata": {},
   "outputs": [],
   "source": [
    "s_0_phi_ = s_0_x / sp.cos(phi)\n",
    "s_0_phi_"
   ]
  },
  {
   "cell_type": "markdown",
   "id": "0a85d5d2-7ccc-446b-81ed-b25ba1f06454",
   "metadata": {},
   "source": [
    "For a prescribed strain $\\varepsilon_x$ we obtain\n",
    "$$\n",
    "  \\Delta s_x = \\varepsilon_x s^0_x\n",
    "$$\n",
    "So that the interim length of the cross-sectional segment reads\n",
    "$$\n",
    " s^t_x = s^0_x + \\Delta s_x\n",
    "$$\n",
    "rendering\n",
    "$$\n",
    " s^t_x = s^0_x (1 + \\varepsilon_x)\n",
    "$$\n",
    " "
   ]
  },
  {
   "cell_type": "code",
   "execution_count": null,
   "id": "48d86280-579e-4370-9dcf-4bbb45b3a894",
   "metadata": {},
   "outputs": [],
   "source": [
    "s_t_x_ = (1 + eps_x) * s_0_x\n",
    "s_t_x_"
   ]
  },
  {
   "cell_type": "markdown",
   "id": "785eda9e-820f-4166-a027-0a9fcf10195f",
   "metadata": {},
   "source": [
    "$$\n",
    "s_y = s^0_\\varphi \\; \\sin \\varphi\n",
    "$$"
   ]
  },
  {
   "cell_type": "code",
   "execution_count": null,
   "id": "f8f0110c-7d03-410b-8450-8c905c2c1358",
   "metadata": {},
   "outputs": [],
   "source": [
    "s_y_ = sp.simplify(s_0_phi_ * sp.sin(phi))\n",
    "s_y_"
   ]
  },
  {
   "cell_type": "markdown",
   "id": "3df05dab-d3ef-4f5a-8f5e-9086a609e473",
   "metadata": {},
   "source": [
    "$$\n",
    "s^t_\\varphi = \\sqrt{ (s^t_x)^2 + (s^t_y)^2 }\n",
    "$$"
   ]
  },
  {
   "cell_type": "code",
   "execution_count": null,
   "id": "30f9eab3-6f3e-4298-8d88-312dbd6970fd",
   "metadata": {},
   "outputs": [],
   "source": [
    "s_t_phi_ = sp.sqrt( s_t_x_**2 + s_y_**2 )\n",
    "s_t_phi_"
   ]
  },
  {
   "cell_type": "markdown",
   "id": "0c19722a-7466-4f66-badc-4d02a39577b0",
   "metadata": {},
   "source": [
    "$$\n",
    "\\varepsilon_\\varphi = \\frac{s^t_\\varphi - s^0_\\varphi}{s^0_\\varphi}\n",
    "$$"
   ]
  },
  {
   "cell_type": "code",
   "execution_count": null,
   "id": "f8e6431a-3f70-4016-ab7b-f24c57d66e44",
   "metadata": {},
   "outputs": [],
   "source": [
    "eps_phi_ = sp.simplify( (s_t_phi_ - s_0_phi_) / s_0_phi_)\n",
    "eps_phi_"
   ]
  },
  {
   "cell_type": "code",
   "execution_count": null,
   "id": "6c06063d-b33f-4c5a-8445-b501d73e6b92",
   "metadata": {},
   "outputs": [],
   "source": [
    "d_eps_phi_d_eps_x_ = sp.simplify(eps_phi_.diff(eps_x))"
   ]
  },
  {
   "cell_type": "code",
   "execution_count": null,
   "id": "3b1c46ae-e863-43cf-a773-70b73118a0d6",
   "metadata": {},
   "outputs": [],
   "source": [
    "B_ = sp.simplify(sp.limit( d_eps_phi_d_eps_x_, eps_x, 0) )\n",
    "B_"
   ]
  },
  {
   "cell_type": "code",
   "execution_count": null,
   "id": "373466e3-7ada-44a4-9bda-4e65cb5fd428",
   "metadata": {},
   "outputs": [],
   "source": [
    "eps_phi_lin_ = B_ * eps_x\n",
    "eps_phi_lin_"
   ]
  },
  {
   "cell_type": "code",
   "execution_count": null,
   "id": "dee7ee34-f0a2-4073-ae23-8fbaec6275be",
   "metadata": {},
   "outputs": [],
   "source": [
    "get_eps_phi_ = sp.lambdify((eps_x, phi), eps_phi_)\n",
    "get_eps_phi_lin_ = sp.lambdify((eps_x, phi), eps_phi_lin_)"
   ]
  },
  {
   "cell_type": "code",
   "execution_count": null,
   "id": "7ed2c6de-7c2c-4c9e-b456-17279196644d",
   "metadata": {},
   "outputs": [],
   "source": [
    "eps_x_range = np.linspace(0, 0.01, 40)"
   ]
  },
  {
   "cell_type": "code",
   "execution_count": null,
   "id": "4d26fbf9-710f-4686-97ad-846c834a879e",
   "metadata": {},
   "outputs": [],
   "source": [
    "fig, ax = plt.subplots(1,1, figsize=(5,3))\n",
    "fig.canvas.header_visible = False\n",
    "for phi_ in [0, np.pi/8, np.pi/4, 2*np.pi/5, np.pi/2]:\n",
    "    eps_phi_range = get_eps_phi_(eps_x_range, phi_)\n",
    "    ax.plot(eps_x_range, eps_phi_range);\n",
    "    eps_phi_lin_range = get_eps_phi_lin_(eps_x_range, phi_)\n",
    "    ax.plot(eps_x_range, eps_phi_lin_range);\n",
    "#    ax.plot(eps_x_range[[0,-1]], eps_phi_range[[0,-1]])\n",
    "ax.set_xlabel(r'$\\varepsilon_x$ [-]');\n",
    "ax.set_ylabel(r'$\\varepsilon_\\varphi$ [-]');"
   ]
  },
  {
   "cell_type": "code",
   "execution_count": null,
   "id": "76faef54-b6d7-4e2b-b77d-5cfb9614ecb6",
   "metadata": {},
   "outputs": [],
   "source": [
    "eps_phi = sp.Symbol(r'\\varepsilon_\\phi')\n",
    "f_t = sp.Symbol(r'f_\\mathrm{t}', positive=True)\n",
    "E = sp.Symbol(r'E', positive=True)\n",
    "A = sp.Symbol(r'A', positive=True)\n",
    "F_phi_ = sp.simplify(A * sp.Piecewise(\n",
    "    (0, eps_phi < 0),\n",
    "    (E * eps_phi, eps_phi < f_t / E ),\n",
    "    (0, True)\n",
    "))\n",
    "get_F_phi_ = sp.lambdify((eps_phi, E, f_t), F_phi_)\n",
    "F_phi_"
   ]
  },
  {
   "cell_type": "code",
   "execution_count": null,
   "id": "68721bbe-6169-43aa-b23c-3ea4f39146af",
   "metadata": {},
   "outputs": [],
   "source": [
    "F_phi = sp.Symbol(r'F_\\varphi')\n",
    "F_x = sp.Symbol(r'F_x')"
   ]
  },
  {
   "cell_type": "code",
   "execution_count": null,
   "id": "fd7b88e8-f797-4a0f-8977-cd8308a8f183",
   "metadata": {},
   "outputs": [],
   "source": [
    "get_B_ = sp.lambdify(phi, B_)\n",
    "fig, ax = plt.subplots(1,1, figsize=(5,3))\n",
    "fig.canvas.header_visible = False\n",
    "phi_range = np.linspace(0, np.pi, 50)\n",
    "B_range = get_B_(phi_range)\n",
    "ax.plot(phi_range, B_range);\n",
    "ax.plot(phi_range, np.cos(phi_range));\n",
    "ax.set_xlabel(r'$\\varepsilon_\\phi$ [-]');\n",
    "ax.set_ylabel(r'$B$ [-]');"
   ]
  },
  {
   "cell_type": "code",
   "execution_count": null,
   "id": "07900b54-7042-4da6-8edb-2e73035693e0",
   "metadata": {},
   "outputs": [],
   "source": [
    "F_x_ = F_phi * B_\n",
    "F_x_"
   ]
  },
  {
   "cell_type": "code",
   "execution_count": null,
   "id": "91cc2ea3-e186-46cd-8c8a-a6a2609d26cc",
   "metadata": {},
   "outputs": [],
   "source": [
    "F_x__ = F_x_.subs(F_phi, F_phi_).subs(eps_phi, eps_x * B_)\n",
    "get_F_x_ = sp.lambdify((eps_x, phi, E, A, f_t), F_x__)"
   ]
  },
  {
   "cell_type": "code",
   "execution_count": null,
   "id": "0495ac7d-ef49-4f35-b02b-1451a5e9f5f4",
   "metadata": {},
   "outputs": [],
   "source": [
    "sp.simplify(F_x__)"
   ]
  },
  {
   "cell_type": "code",
   "execution_count": null,
   "id": "0dff1d14-63be-47ef-9647-333c9b9a2df3",
   "metadata": {},
   "outputs": [],
   "source": [
    "sp.simplify(F_x__.subs(eps_x, f_t / E))"
   ]
  },
  {
   "cell_type": "code",
   "execution_count": null,
   "id": "dbd5763b-444b-4d83-9815-642ad15d0c8a",
   "metadata": {},
   "outputs": [],
   "source": [
    "_E, _A, _f_t = 280000, 1, 3000 \n",
    "eps_x_range = np.linspace(0, _f_t / _E * 3, 150)\n",
    "fig, ax = plt.subplots(1,1, figsize=(5,3))\n",
    "fig.canvas.header_visible = False\n",
    "for phi_ in np.linspace(0, np.pi/2, 30):\n",
    "    F_x_range = get_F_x_(eps_x_range, phi_, _E, _A, _f_t)\n",
    "    ax.plot(eps_x_range, F_x_range);\n",
    "ax.set_xlabel(r'$\\varepsilon_x$ [-]');\n",
    "ax.set_ylabel(r'$\\varepsilon_\\varphi$ [-]');"
   ]
  },
  {
   "cell_type": "code",
   "execution_count": null,
   "id": "7300fd47-5378-4069-8629-4ae2556a7304",
   "metadata": {},
   "outputs": [],
   "source": []
  }
 ],
 "metadata": {
  "kernelspec": {
   "display_name": "bmcs_env2",
   "language": "python",
   "name": "bmcs_env2"
  },
  "language_info": {
   "codemirror_mode": {
    "name": "ipython",
    "version": 3
   },
   "file_extension": ".py",
   "mimetype": "text/x-python",
   "name": "python",
   "nbconvert_exporter": "python",
   "pygments_lexer": "ipython3"
  }
 },
 "nbformat": 4,
 "nbformat_minor": 5
}
