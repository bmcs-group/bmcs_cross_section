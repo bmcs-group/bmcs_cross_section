{
 "cells": [
  {
   "cell_type": "code",
   "metadata": {
    "ExecuteTime": {
     "end_time": "2024-05-16T09:00:58.689852Z",
     "start_time": "2024-05-16T09:00:58.686053Z"
    }
   },
   "source": [
    "#%matplotlib widget\n",
    "from bmcs_cross_section.api import MKappa, EC2\n",
    "import sympy as sp\n",
    "import numpy as np\n",
    "import matplotlib.pyplot as plt"
   ],
   "outputs": [],
   "execution_count": 9
  },
  {
   "cell_type": "code",
   "metadata": {
    "ExecuteTime": {
     "end_time": "2024-05-16T09:01:00.247615Z",
     "start_time": "2024-05-16T09:01:00.227755Z"
    }
   },
   "source": [
    "# EC2, eq. (3.14)\n",
    "\n",
    "sig_c1, sig_c2, sig_c3, eps_cu1, b, c, d, A_f, f_fu, E_f = \\\n",
    " sp.symbols('sigma_c1 sigma_c2 sigma_c3, varepsilon_cu1, b, c, d, A_f, f_{fu}, E_f', real=True, nonnegative=True)\n",
    "eps_cy, eps_cu, eps, E_cc, f_cm = \\\n",
    "sp.symbols('varepsilon_cy, varepsilon_cu, varepsilon, E_cc, f_cm', real=True, nonnegative=True)\n",
    "\n",
    "k = 1.05 * E_cc * eps_cy / f_cm\n",
    "eta = eps / eps_cy\n",
    "sig_c = f_cm * (k*eta - eta**2)/(1+eta*(k-2))\n",
    "\n",
    "sig_c_eps_ = sp.Piecewise(\n",
    "        (0, eps > eps_cu),\n",
    "        (sig_c, eps > 0),\n",
    "        (0, True)\n",
    ")"
   ],
   "outputs": [],
   "execution_count": 10
  },
  {
   "cell_type": "code",
   "metadata": {
    "ExecuteTime": {
     "end_time": "2024-05-16T09:01:19.434396Z",
     "start_time": "2024-05-16T09:01:01.251617Z"
    }
   },
   "source": [
    "from scipy.optimize import minimize\n",
    "\n",
    "f_cms = np.array([ 20.,  24.,  28.,  33.,  38.,  43.,  48.,  53.,  58.,  63.,  68., 78.,  88.,  98., 108.])\n",
    "\n",
    "# f_cms = np.array([60])\n",
    "    \n",
    "def get_sig_eps(f_cm_, eps_trial_list, branch=1):\n",
    "    eps_cy_ = EC2.get_eps_c1(f_cm_ - 8)\n",
    "    eps_cu_ = EC2.get_eps_cu1(f_cm_- 8)\n",
    "    \n",
    "    # supress invalid solutions\n",
    "    for eps_val in eps_trial_list:\n",
    "        if eps_val < 0 or eps_val > 1:\n",
    "            return 9999999\n",
    "        \n",
    "#     for eps_val in eps_trial_list:\n",
    "#         if eps_val < 0 or eps_val > eps_cu_:\n",
    "#             return None\n",
    "    \n",
    "    sig_c_eps = sig_c_eps_.subs({E_cc:EC2.get_E_cm(f_cm_ - 8), eps_cy:eps_cy_, \n",
    "                                f_cm:EC2.get_f_cm(f_cm_ - 8), eps_cu:eps_cu_})\n",
    "    get_sig = sp.lambdify(eps, sig_c_eps, 'numpy')\n",
    "    if branch == 1:\n",
    "        eps_fine = np.linspace(0, eps_cy_, 500)\n",
    "        #     eps_coarse = np.concatenate(([0], [eps_trial_list[0]], [eps_cy_], [eps_trial_list[1]], [eps_cu_]))\n",
    "        eps_coarse = np.concatenate(([0], [eps_trial_list[0] * eps_cy_], [eps_cy_]))\n",
    "    elif branch == 2:\n",
    "        eps_fine = np.linspace(eps_cy_, eps_cu_, 300)\n",
    "        eps_coarse = np.concatenate(([eps_cy_], [eps_cu_]))\n",
    "    \n",
    "    sig_fine = get_sig(eps_fine)\n",
    "    sig_coarse = get_sig(eps_coarse)\n",
    "    \n",
    "    return eps_fine, sig_fine, eps_coarse, sig_coarse\n",
    "\n",
    "def area_diff_eps_mini(eps_trial_list, f_cm_=None, branch=1):\n",
    "    eps_sig = get_sig_eps(f_cm_, eps_trial_list, branch)\n",
    "    if eps_sig is None:\n",
    "        return 99999999\n",
    "    eps_fine, sig_fine, eps_coarse, sig_coarse = eps_sig\n",
    "    area_diff = np.abs(np.trapz(y=sig_fine, x=eps_fine) - np.trapz(y=sig_coarse, x=eps_coarse))\n",
    "\n",
    "    return area_diff\n",
    "\n",
    "def area_diff_sig_scale_mini(sig_scales, eps_trial_list=None, f_cm_=None, branch=1):\n",
    "    for sig_scale in sig_scales:\n",
    "        if sig_scale < 0 or sig_scale > 10:\n",
    "            return 9999999\n",
    "    \n",
    "    eps_fine, sig_fine, eps_coarse, sig_coarse = get_sig_eps(f_cm_, eps_trial_list, branch)\n",
    "    if branch == 1:\n",
    "        sig_coarse[1] *= sig_scales[0]\n",
    "        if sig_coarse[1] > f_cm_:\n",
    "            return 9999999\n",
    "    elif branch == 2:\n",
    "        sig_coarse[-1] *= sig_scales[0]\n",
    "        if sig_coarse[-1] > f_cm_:\n",
    "            return 9999999\n",
    "\n",
    "    area_diff = np.abs(np.trapz(y=sig_fine, x=eps_fine) - np.trapz(y=sig_coarse, x=eps_coarse))\n",
    "    \n",
    "#     print('area_diff=', area_diff)\n",
    "    return area_diff\n",
    " \n",
    "\n",
    "c_section, b_section = 150, 400\n",
    "\n",
    "def minimize_area_diff():\n",
    "    result = np.zeros((len(f_cms), 4))\n",
    "    \n",
    "    # branch 1\n",
    "    for i, f_cm_ in enumerate(f_cms):\n",
    "        branch = 1 \n",
    "        res1 = minimize(area_diff_eps_mini, np.array([0]), tol=1e-12, args=(f_cm_, branch))\n",
    "        smallest_diff1 = res1.fun\n",
    "        print('smallest_diff1=', smallest_diff1)\n",
    "        print('F_c_diff [N] ≈', np.round(smallest_diff1 * (c_section / EC2.get_eps_cu1(f_cm_ - 8)) * b_section, 3))\n",
    "        \n",
    "        res2 = minimize(area_diff_sig_scale_mini, np.array([1.]), tol=1e-12, args=(np.sort(res1.x), f_cm_, branch))\n",
    "        smallest_diff2 = res2.fun\n",
    "        print('smallest_diff2=', smallest_diff2)\n",
    "        print('F_c_diff [N] ≈', np.round(smallest_diff2 * (c_section / EC2.get_eps_cu1(f_cm_ - 8)) * b_section, 3))\n",
    "        \n",
    "        branch = 2\n",
    "        res3 = minimize(area_diff_sig_scale_mini, np.array([1.]), tol=1e-12, args=(np.sort(res1.x), f_cm_, branch))\n",
    "        smallest_diff3 = res3.fun\n",
    "        print('smallest_diff3=', smallest_diff3)\n",
    "        print('F_c_diff [N] ≈', np.round(smallest_diff2 * (c_section / EC2.get_eps_cu1(f_cm_ - 8)) * b_section, 3))\n",
    "        \n",
    "        print('-----------------------------')\n",
    "        sol1 = res1.x\n",
    "        sol2 = res2.x\n",
    "        sol3 = res3.x\n",
    "        print(sol1)\n",
    "        result[i:] = np.concatenate(([f_cm_], np.sort(sol1), np.sort(sol2), np.sort(sol3)))\n",
    "    return result\n",
    "\n",
    "result = minimize_area_diff()\n",
    "result"
   ],
   "outputs": [
    {
     "name": "stdout",
     "output_type": "stream",
     "text": [
      "smallest_diff1= 0.0017845824085170568\n",
      "F_c_diff [N] ≈ 30592.841\n",
      "smallest_diff2= 9.755401694788723e-11\n",
      "F_c_diff [N] ≈ 0.002\n",
      "smallest_diff3= 6.830130905299825e-11\n",
      "F_c_diff [N] ≈ 0.002\n",
      "-----------------------------\n",
      "[0.44789506]\n",
      "smallest_diff1= 0.0021539913118004753\n",
      "F_c_diff [N] ≈ 36925.565\n",
      "smallest_diff2= 1.252167119991654e-10\n",
      "F_c_diff [N] ≈ 0.002\n",
      "smallest_diff3= 4.294761074552511e-11\n",
      "F_c_diff [N] ≈ 0.002\n",
      "-----------------------------\n",
      "[0.46287631]\n",
      "smallest_diff1= 0.0025131189684338417\n",
      "F_c_diff [N] ≈ 43082.039\n",
      "smallest_diff2= 1.4515779550583474e-10\n",
      "F_c_diff [N] ≈ 0.002\n",
      "smallest_diff3= 4.427858774080917e-11\n",
      "F_c_diff [N] ≈ 0.002\n",
      "-----------------------------\n",
      "[0.47622923]\n",
      "smallest_diff1= 0.002945016590974736\n",
      "F_c_diff [N] ≈ 50485.999\n",
      "smallest_diff2= 1.7022202397631858e-10\n",
      "F_c_diff [N] ≈ 0.003\n",
      "smallest_diff3= 2.4636681583700692e-11\n",
      "F_c_diff [N] ≈ 0.003\n",
      "-----------------------------\n",
      "[0.4912546]\n",
      "smallest_diff1= 0.0033558458456816667\n",
      "F_c_diff [N] ≈ 57528.786\n",
      "smallest_diff2= 5.839509431559975e-11\n",
      "F_c_diff [N] ≈ 0.001\n",
      "smallest_diff3= 1.1203349359334425e-10\n",
      "F_c_diff [N] ≈ 0.001\n",
      "-----------------------------\n",
      "[0.50490385]\n",
      "smallest_diff1= 0.0037439079216886467\n",
      "F_c_diff [N] ≈ 64181.279\n",
      "smallest_diff2= 1.4260144454159018e-10\n",
      "F_c_diff [N] ≈ 0.002\n",
      "smallest_diff3= 1.217865530644957e-10\n",
      "F_c_diff [N] ≈ 0.002\n",
      "-----------------------------\n",
      "[0.51751462]\n",
      "smallest_diff1= 0.004107924329205315\n",
      "F_c_diff [N] ≈ 70421.56\n",
      "smallest_diff2= 1.5240676776162587e-10\n",
      "F_c_diff [N] ≈ 0.003\n",
      "smallest_diff3= 9.858748539759432e-11\n",
      "F_c_diff [N] ≈ 0.003\n",
      "-----------------------------\n",
      "[0.52931887]\n",
      "smallest_diff1= 0.004446893946687028\n",
      "F_c_diff [N] ≈ 76232.468\n",
      "smallest_diff2= 1.0856202048437069e-10\n",
      "F_c_diff [N] ≈ 0.002\n",
      "smallest_diff3= 1.1757428364234102e-10\n",
      "F_c_diff [N] ≈ 0.002\n",
      "-----------------------------\n",
      "[0.54048383]\n",
      "smallest_diff1= 0.004760005960142796\n",
      "F_c_diff [N] ≈ 81600.102\n",
      "smallest_diff2= 3.870229275948489e-10\n",
      "F_c_diff [N] ≈ 0.007\n",
      "smallest_diff3= 1.4201865378149492e-10\n",
      "F_c_diff [N] ≈ 0.007\n",
      "-----------------------------\n",
      "[0.55113477]\n",
      "smallest_diff1= 0.005046584077971844\n",
      "F_c_diff [N] ≈ 94470.859\n",
      "smallest_diff2= 2.9289556890965684e-10\n",
      "F_c_diff [N] ≈ 0.005\n",
      "smallest_diff3= 1.2638353558136473e-10\n",
      "F_c_diff [N] ≈ 0.005\n",
      "-----------------------------\n",
      "[0.56136872]\n",
      "smallest_diff1= 0.005306049316754907\n",
      "F_c_diff [N] ≈ 105463.597\n",
      "smallest_diff2= 2.359519524208764e-10\n",
      "F_c_diff [N] ≈ 0.005\n",
      "smallest_diff3= 1.8041956817427263e-11\n",
      "F_c_diff [N] ≈ 0.005\n",
      "-----------------------------\n",
      "[0.57126297]\n",
      "smallest_diff1= 0.005741665420910244\n",
      "F_c_diff [N] ≈ 121166.265\n",
      "smallest_diff2= 4.0250891508719633e-10\n",
      "F_c_diff [N] ≈ 0.008\n",
      "smallest_diff3= 1.4521488178598219e-11\n",
      "F_c_diff [N] ≈ 0.008\n",
      "-----------------------------\n",
      "[0.59027457]\n",
      "smallest_diff1= 0.0060289833464918785\n",
      "F_c_diff [N] ≈ 129068.042\n",
      "smallest_diff2= 3.8174374772381725e-10\n",
      "F_c_diff [N] ≈ 0.008\n",
      "smallest_diff3= 7.809112785670674e-13\n",
      "F_c_diff [N] ≈ 0.008\n",
      "-----------------------------\n",
      "[0.60925116]\n",
      "smallest_diff1= 0.005451357160634052\n",
      "F_c_diff [N] ≈ 116814.796\n",
      "smallest_diff2= 6.593071089078251e-10\n",
      "F_c_diff [N] ≈ 0.014\n",
      "smallest_diff3= 9999999\n",
      "F_c_diff [N] ≈ 0.014\n",
      "-----------------------------\n",
      "[0.64275529]\n",
      "smallest_diff1= 0.004639400393212367\n",
      "F_c_diff [N] ≈ 99319.95\n",
      "smallest_diff2= 6.193061063974881e-10\n",
      "F_c_diff [N] ≈ 0.013\n",
      "smallest_diff3= 2.0380889711362274e-10\n",
      "F_c_diff [N] ≈ 0.013\n",
      "-----------------------------\n",
      "[0.67931527]\n"
     ]
    },
    {
     "data": {
      "text/plain": [
       "array([[ 20.        ,   0.44789506,   1.13381005,   1.25393379],\n",
       "       [ 24.        ,   0.46287631,   1.12742087,   1.2521215 ],\n",
       "       [ 28.        ,   0.47622923,   1.12161289,   1.24830095],\n",
       "       [ 33.        ,   0.4912546 ,   1.11499021,   1.24152433],\n",
       "       [ 38.        ,   0.50490385,   1.10892868,   1.23315806],\n",
       "       [ 43.        ,   0.51751462,   1.10331766,   1.22365821],\n",
       "       [ 48.        ,   0.52931887,   1.09807755,   1.21334235],\n",
       "       [ 53.        ,   0.54048383,   1.09314897,   1.20244302],\n",
       "       [ 58.        ,   0.55113477,   1.0884863 ,   1.19113778],\n",
       "       [ 63.        ,   0.56136872,   1.08405368,   1.06009764],\n",
       "       [ 68.        ,   0.57126297,   1.07982235,   1.02116994],\n",
       "       [ 78.        ,   0.59027457,   1.07187387,   1.00208012],\n",
       "       [ 88.        ,   0.60925116,   1.0642266 ,   1.00000075],\n",
       "       [ 98.        ,   0.64275529,   1.0515758 ,   1.        ],\n",
       "       [108.        ,   0.67931527,   1.03922995,   1.        ]])"
      ]
     },
     "execution_count": 11,
     "metadata": {},
     "output_type": "execute_result"
    }
   ],
   "execution_count": 11
  },
  {
   "cell_type": "code",
   "metadata": {
    "ExecuteTime": {
     "end_time": "2024-05-16T09:01:19.618050Z",
     "start_time": "2024-05-16T09:01:19.435399Z"
    }
   },
   "source": [
    "fig1, ax1 = plt.subplots()\n",
    "eps_diff = np.zeros(len(f_cms))\n",
    "for i, f_cm_val in enumerate(f_cms):\n",
    "#     eps_diff[i] = (3.5 if f_cm_val <50 else 2.8 + 27 * ((98 - f_cm_val) / 100) ** 4) - min(2.8, 0.7 * f_cm_val ** 0.31)\n",
    "    eps_diff[i] = EC2.get_eps_cu1(f_cm_val - 8) - EC2.get_eps_c1(f_cm_val - 8)\n",
    "\n",
    "eps_diff_scaled = (eps_diff - eps_diff[0])/(eps_diff[-1] - eps_diff[0]) * (1 - 1.25) + 1.25\n",
    "\n",
    "ax1.plot(result[:, 0], result[:, 3]) # sig_eps_cu_scaled / sig_eps_cu_exact\n",
    "ax1.plot(result[:, 0], eps_diff_scaled)\n",
    "# ax1.plot(result[:, 0], sig_eps_cu_scaled)"
   ],
   "outputs": [
    {
     "data": {
      "text/plain": [
       "[<matplotlib.lines.Line2D at 0x1ad5c6a4f50>]"
      ]
     },
     "execution_count": 12,
     "metadata": {},
     "output_type": "execute_result"
    },
    {
     "data": {
      "text/plain": [
       "<Figure size 640x480 with 1 Axes>"
      ],
      "image/png": "[encoded data removed]"
     },
     "metadata": {},
     "output_type": "display_data"
    }
   ],
   "execution_count": 12
  },
  {
   "cell_type": "code",
   "metadata": {
    "ExecuteTime": {
     "end_time": "2024-05-16T09:01:19.629772Z",
     "start_time": "2024-05-16T09:01:19.619056Z"
    }
   },
   "source": [
    "m1, p1 = np.polyfit(result[:, 0], result[:, 1], 1)\n",
    "eps_cy_p1_scale = m1 * f_cm + p1 # must be <= 1\n",
    "\n",
    "m2, p2 = np.polyfit(result[:, 0], result[:, 2], 1)\n",
    "sig_cy_p1_scale = m2 * f_cm + p2  # must be >= 1\n",
    "\n",
    "sig_eps_cu_scaled = 1.000964 + (1.235655 - 1.000964)/(1 + (f_cm/60.73773)**24.71828) # must be >= 1\n",
    "# last one obtained from https://mycurvefit.com/, by 4PL Symmetrical sigmoidal fitting"
   ],
   "outputs": [],
   "execution_count": 13
  },
  {
   "cell_type": "code",
   "metadata": {
    "ExecuteTime": {
     "end_time": "2024-05-16T09:01:19.639664Z",
     "start_time": "2024-05-16T09:01:19.632776Z"
    }
   },
   "source": [
    "get_eps_cy_p1_scale = sp.lambdify(f_cm, eps_cy_p1_scale, 'numpy')\n",
    "get_sig_cy_p1_scale = sp.lambdify(f_cm, sig_cy_p1_scale, 'numpy')"
   ],
   "outputs": [],
   "execution_count": 14
  },
  {
   "cell_type": "code",
   "metadata": {
    "ExecuteTime": {
     "end_time": "2024-05-16T09:01:19.874991Z",
     "start_time": "2024-05-16T09:01:19.640667Z"
    }
   },
   "source": [
    "fig1, ax1 = plt.subplots()\n",
    "f_cm_mid = (result[:, 0][-1] + result[:, 0][0])/2\n",
    "ax1.set_xlabel('f_cm')\n",
    "ax1.set_ylabel('eps_cy_p1_scale')\n",
    "\n",
    "ax1.plot(result[:, 0], result[:, 1]) # eps_cy_p1_scale / eps_cy\n",
    "ax1.plot(result[:, 0], get_eps_cy_p1_scale(result[:, 0]))\n",
    "eps_cy_p1_scale_mid = np.interp(f_cm_mid, result[:, 0], get_eps_cy_p1_scale(result[:, 0]))\n",
    "ax1.plot(f_cm_mid, eps_cy_p1_scale_mid, 'o')\n",
    "\n",
    "ax2 = ax1.twinx()\n",
    "ax2.plot(result[:, 0], result[:, 2]) # sig_cy_p1_scale, (sig_cy_p1_scaled = sig_cy_p1_scale * sig_cy_p1_exact)\n",
    "ax2.plot(result[:, 0], get_sig_cy_p1_scale(result[:, 0]))\n",
    "sig_cy_p1_scale_mid = np.interp(f_cm_mid, result[:, 0], get_sig_cy_p1_scale(result[:, 0]))\n",
    "ax2.plot(f_cm_mid, sig_cy_p1_scale_mid, 'o')\n",
    "ax2.set_ylabel('sig_cy_p1_scale')\n",
    "\n",
    "# ax1.plot(result[:, 0], result[:, 3]) # sig_eps_cu_scale, (sig_eps_cu_scaled = sig_eps_cu_scale * sig_eps_cu_exact)"
   ],
   "outputs": [
    {
     "data": {
      "text/plain": [
       "Text(0, 0.5, 'sig_cy_p1_scale')"
      ]
     },
     "execution_count": 15,
     "metadata": {},
     "output_type": "execute_result"
    },
    {
     "data": {
      "text/plain": [
       "<Figure size 640x480 with 2 Axes>"
      ],
      "image/png": "[encoded data removed]"
     },
     "metadata": {},
     "output_type": "display_data"
    }
   ],
   "execution_count": 15
  },
  {
   "cell_type": "code",
   "metadata": {
    "ExecuteTime": {
     "end_time": "2024-05-16T09:01:19.883894Z",
     "start_time": "2024-05-16T09:01:19.875922Z"
    }
   },
   "source": [
    "eps_cy_p1_scale_mid, sig_cy_p1_scale_mid # Use these, easier than doing a linear equation"
   ],
   "outputs": [
    {
     "data": {
      "text/plain": [
       "(0.5631233574913839, 1.0844887177047342)"
      ]
     },
     "execution_count": 16,
     "metadata": {},
     "output_type": "execute_result"
    }
   ],
   "execution_count": 16
  },
  {
   "cell_type": "code",
   "metadata": {
    "ExecuteTime": {
     "end_time": "2024-05-16T09:01:20.079879Z",
     "start_time": "2024-05-16T09:01:19.885085Z"
    }
   },
   "source": [
    "fig, ax = plt.subplots()\n",
    "\n",
    "for f_cm_ in [68]: # f_cms:\n",
    "    eps_cy_ = EC2.get_eps_c1(f_cm_ - 8)\n",
    "    eps_cu_ = EC2.get_eps_cu1(f_cm_ - 8)\n",
    "\n",
    "    eps_fine = np.linspace(0, eps_cu_, 500)\n",
    "\n",
    "    sig_c_eps = sig_c_eps_.subs({E_cc:EC2.get_E_cm(f_cm_ - 8), eps_cy:eps_cy_, \n",
    "                                f_cm:EC2.get_f_cm(f_cm_ - 8), eps_cu:eps_cu_})\n",
    "\n",
    "    get_sig = sp.lambdify(eps, sig_c_eps, 'numpy')\n",
    "    sig_fine = get_sig(eps_fine)\n",
    "\n",
    "    \n",
    "    ax.plot(eps_fine, sig_fine)\n",
    "    \n",
    "    result_for_f_ck = np.copy(result[np.argwhere(result[:, 0]==f_cm_)[0][0]])\n",
    "    result_for_f_ck[1] = eps_cy_p1_scale_mid\n",
    "    result_for_f_ck[2] = sig_cy_p1_scale_mid\n",
    "    \n",
    "    eps_coarse = np.concatenate(([0], [result_for_f_ck[1] * eps_cy_], [eps_cy_], [eps_cu_]))\n",
    "    sig_coarse = get_sig(eps_coarse)\n",
    "\n",
    "#     result_for_f_ck[3] = (sig_coarse[-2] + sig_coarse[-1]) / 2\n",
    "\n",
    "    sig_coarse[1] *= result_for_f_ck[2]\n",
    "    sig_coarse[-1] = (sig_coarse[-2] + sig_coarse[-1]) / 2.08 \n",
    "\n",
    "    ax.plot(eps_coarse, sig_coarse, 'o')\n",
    "    ax.plot(eps_coarse, sig_coarse)\n",
    "    \n",
    "    area_diff = np.abs(np.trapz(y=sig_fine, x=eps_fine) - np.trapz(y=sig_coarse, x=eps_coarse))\n",
    "    print(area_diff)\n",
    "    c, b = 150, 400\n",
    "    F_c_diff = np.round(area_diff * (c / EC2.get_eps_cu1(f_cm_ - 8)) * b/1000, 2)\n",
    "    F_c_total = np.trapz(y=sig_fine, x=eps_fine) * (c / EC2.get_eps_cu1(f_cm_ - 8)) * b/1000\n",
    "    print('F_c_diff [kN] ≈', F_c_diff)\n",
    "    print('F_c_diff [%] ≈', np.round(100 * F_c_diff/F_c_total, 2))\n",
    "    \n",
    "\n",
    "# fig.show()"
   ],
   "outputs": [
    {
     "name": "stdout",
     "output_type": "stream",
     "text": [
      "0.00018346401178581662\n",
      "F_c_diff [kN] ≈ 3.65\n",
      "F_c_diff [%] ≈ 0.13\n"
     ]
    },
    {
     "data": {
      "text/plain": [
       "<Figure size 640x480 with 1 Axes>"
      ],
      "image/png": "[encoded data removed]"
     },
     "metadata": {},
     "output_type": "display_data"
    }
   ],
   "execution_count": 17
  },
  {
   "attachments": {
    "image-2.png": {
     "image/png": "[encoded data removed]"
    }
   },
   "cell_type": "markdown",
   "metadata": {},
   "source": [
    "## Deriving equations for the three linearized parts\n",
    "![image-2.png](attachment:image-2.png)"
   ]
  },
  {
   "cell_type": "code",
   "metadata": {
    "ExecuteTime": {
     "end_time": "2024-05-16T09:01:20.192309Z",
     "start_time": "2024-05-16T09:01:20.082434Z"
    }
   },
   "source": [
    "substitute_E_cc_and_eps_cy = False\n",
    "\n",
    "if substitute_E_cc_and_eps_cy:\n",
    "    E_cm = 22000 * (f_cm / 10) ** 0.3\n",
    "    # WARNING, TODO: Instead use 0.001 * sp.Min(0.7 * f_cm ** 0.31, 2.8) ??\n",
    "    eps_c1 = 0.001 * 0.7 * f_cm ** 0.31\n",
    "else:\n",
    "    E_cm = E_cc\n",
    "    eps_c1 = eps_cy\n",
    "    \n",
    "# eps_cy_p1 = eps_cy_p1_scale * eps_c1\n",
    "eps_cy_p1 = eps_cy_p1_scale_mid * eps_c1\n",
    "\n",
    "sig_cy_p1 = sp.simplify(sig_c.subs({eps:eps_cy_p1, E_cc:E_cm, eps_cy:eps_c1}))\n",
    "\n",
    "# sig_cy_p1 =  sig_cy_p1_scale * sig_cy_p1\n",
    "sig_cy_p1 = sig_cy_p1_scale_mid * sig_cy_p1\n",
    "sig_cy_p1"
   ],
   "outputs": [
    {
     "data": {
      "text/plain": [
       "1.08448871770473*f_cm*(0.591279525365953*E_cc*varepsilon_cy - 0.317107915752369*f_cm)/(0.591279525365953*E_cc*varepsilon_cy - 0.126246714982768*f_cm)"
      ],
      "text/latex": "$\\displaystyle \\frac{1.08448871770473 f_{cm} \\left(0.591279525365953 E_{cc} \\varepsilon_{cy} - 0.317107915752369 f_{cm}\\right)}{0.591279525365953 E_{cc} \\varepsilon_{cy} - 0.126246714982768 f_{cm}}$"
     },
     "execution_count": 18,
     "metadata": {},
     "output_type": "execute_result"
    }
   ],
   "execution_count": 18
  },
  {
   "cell_type": "code",
   "metadata": {
    "ExecuteTime": {
     "end_time": "2024-05-16T09:01:20.201906Z",
     "start_time": "2024-05-16T09:01:20.194317Z"
    }
   },
   "source": [
    "eps_cy_p1_scale.subs({f_cm:100})"
   ],
   "outputs": [
    {
     "data": {
      "text/plain": [
       "0.650234113129353"
      ],
      "text/latex": "$\\displaystyle 0.650234113129353$"
     },
     "execution_count": 19,
     "metadata": {},
     "output_type": "execute_result"
    }
   ],
   "execution_count": 19
  },
  {
   "cell_type": "code",
   "metadata": {
    "ExecuteTime": {
     "end_time": "2024-05-16T09:01:20.712186Z",
     "start_time": "2024-05-16T09:01:20.205908Z"
    }
   },
   "source": [
    "sig_c_part_1_line = sp.Line(sp.Point(0, 0), sp.Point(eps_cy_p1, sig_cy_p1))\n",
    "\n",
    "sig_c1_eq = sig_c_part_1_line.equation(x=eps, y=sig_c1)\n",
    "sig_c1_ = sp.solve(sig_c1_eq, sig_c1)[0]\n",
    "sig_c1_"
   ],
   "outputs": [
    {
     "data": {
      "text/plain": [
       "542244358852365*f_cm*varepsilon*(591279525365953*E_cc*varepsilon_cy - 317107915752369*f_cm)/(281561678745692*varepsilon_cy*(591279525365953*E_cc*varepsilon_cy - 126246714982768*f_cm))"
      ],
      "text/latex": "$\\displaystyle \\frac{542244358852365 f_{cm} \\varepsilon \\left(591279525365953 E_{cc} \\varepsilon_{cy} - 317107915752369 f_{cm}\\right)}{281561678745692 \\varepsilon_{cy} \\left(591279525365953 E_{cc} \\varepsilon_{cy} - 126246714982768 f_{cm}\\right)}$"
     },
     "execution_count": 20,
     "metadata": {},
     "output_type": "execute_result"
    }
   ],
   "execution_count": 20
  },
  {
   "cell_type": "code",
   "metadata": {
    "ExecuteTime": {
     "end_time": "2024-05-16T09:01:21.605873Z",
     "start_time": "2024-05-16T09:01:20.714697Z"
    }
   },
   "source": [
    "sig_c2_line = sp.Line(sp.Point(eps_cy_p1, sig_cy_p1), sp.Point(eps_c1, f_cm))\n",
    "sig_c2_eq = sig_c2_line.equation(x=eps, y=sig_c2)\n",
    "sig_c2_ = sp.solve(sig_c2_eq, sig_c2)[0]\n",
    "sig_c2_"
   ],
   "outputs": [
    {
     "data": {
      "text/plain": [
       "f_cm*(-24978224451615372181724528845*E_cc*varepsilon*varepsilon_cy + 154136331364598169603402304369*E_cc*varepsilon_cy**2 + 108826620972769103994370002685*f_cm*varepsilon - 136403741457476039440735767229*f_cm*varepsilon_cy)/(218438321254308*varepsilon_cy*(591279525365953*E_cc*varepsilon_cy - 126246714982768*f_cm))"
      ],
      "text/latex": "$\\displaystyle \\frac{f_{cm} \\left(- 24978224451615372181724528845 E_{cc} \\varepsilon \\varepsilon_{cy} + 154136331364598169603402304369 E_{cc} \\varepsilon_{cy}^{2} + 108826620972769103994370002685 f_{cm} \\varepsilon - 136403741457476039440735767229 f_{cm} \\varepsilon_{cy}\\right)}{218438321254308 \\varepsilon_{cy} \\left(591279525365953 E_{cc} \\varepsilon_{cy} - 126246714982768 f_{cm}\\right)}$"
     },
     "execution_count": 21,
     "metadata": {},
     "output_type": "execute_result"
    }
   ],
   "execution_count": 21
  },
  {
   "cell_type": "code",
   "metadata": {
    "ExecuteTime": {
     "end_time": "2024-05-16T09:01:21.943162Z",
     "start_time": "2024-05-16T09:01:21.607877Z"
    }
   },
   "source": [
    "sig_cy_p3 = sp.simplify(sig_c.subs({eps:eps_cu1, E_cc:E_cm, eps_cy:eps_c1}))\n",
    "sig_cy_p3 = (sig_cy_p3 + f_cm) / 2.08\n",
    "sig_cy_p3"
   ],
   "outputs": [
    {
     "data": {
      "text/plain": [
       "0.480769230769231*f_cm*varepsilon_cu1*(1.05*E_cc*varepsilon_cy**2 - f_cm*varepsilon_cu1)/(varepsilon_cy*(f_cm*varepsilon_cy + varepsilon_cu1*(1.05*E_cc*varepsilon_cy - 2*f_cm))) + 0.480769230769231*f_cm"
      ],
      "text/latex": "$\\displaystyle \\frac{0.480769230769231 f_{cm} \\varepsilon_{cu1} \\cdot \\left(1.05 E_{cc} \\varepsilon_{cy}^{2} - f_{cm} \\varepsilon_{cu1}\\right)}{\\varepsilon_{cy} \\left(f_{cm} \\varepsilon_{cy} + \\varepsilon_{cu1} \\cdot \\left(1.05 E_{cc} \\varepsilon_{cy} - 2 f_{cm}\\right)\\right)} + 0.480769230769231 f_{cm}$"
     },
     "execution_count": 22,
     "metadata": {},
     "output_type": "execute_result"
    }
   ],
   "execution_count": 22
  },
  {
   "cell_type": "code",
   "metadata": {
    "ExecuteTime": {
     "end_time": "2024-05-16T09:01:24.866146Z",
     "start_time": "2024-05-16T09:01:21.946168Z"
    }
   },
   "source": [
    "sig_c3_line = sp.Line(sp.Point(eps_c1, f_cm), sp.Point(eps_cu1, sig_cy_p3))\n",
    "\n",
    "sig_c3_eq = sig_c3_line.equation(x=eps, y=sig_c3)\n",
    "sig_c3_ = sp.solve(sig_c3_eq, sig_c3)[0]\n",
    "sig_c3_"
   ],
   "outputs": [
    {
     "data": {
      "text/plain": [
       "f_cm*(-21*E_cc*varepsilon*varepsilon_cu1*varepsilon_cy**2 + 546*E_cc*varepsilon_cu1**2*varepsilon_cy**2 - 525*E_cc*varepsilon_cu1*varepsilon_cy**3 - 250*f_cm*varepsilon*varepsilon_cu1**2 + 540*f_cm*varepsilon*varepsilon_cu1*varepsilon_cy - 270*f_cm*varepsilon*varepsilon_cy**2 - 790*f_cm*varepsilon_cu1**2*varepsilon_cy + 1020*f_cm*varepsilon_cu1*varepsilon_cy**2 - 250*f_cm*varepsilon_cy**3)/(26*varepsilon_cy*(21*E_cc*varepsilon_cu1**2*varepsilon_cy - 21*E_cc*varepsilon_cu1*varepsilon_cy**2 - 40*f_cm*varepsilon_cu1**2 + 60*f_cm*varepsilon_cu1*varepsilon_cy - 20*f_cm*varepsilon_cy**2))"
      ],
      "text/latex": "$\\displaystyle \\frac{f_{cm} \\left(- 21 E_{cc} \\varepsilon \\varepsilon_{cu1} \\varepsilon_{cy}^{2} + 546 E_{cc} \\varepsilon_{cu1}^{2} \\varepsilon_{cy}^{2} - 525 E_{cc} \\varepsilon_{cu1} \\varepsilon_{cy}^{3} - 250 f_{cm} \\varepsilon \\varepsilon_{cu1}^{2} + 540 f_{cm} \\varepsilon \\varepsilon_{cu1} \\varepsilon_{cy} - 270 f_{cm} \\varepsilon \\varepsilon_{cy}^{2} - 790 f_{cm} \\varepsilon_{cu1}^{2} \\varepsilon_{cy} + 1020 f_{cm} \\varepsilon_{cu1} \\varepsilon_{cy}^{2} - 250 f_{cm} \\varepsilon_{cy}^{3}\\right)}{26 \\varepsilon_{cy} \\left(21 E_{cc} \\varepsilon_{cu1}^{2} \\varepsilon_{cy} - 21 E_{cc} \\varepsilon_{cu1} \\varepsilon_{cy}^{2} - 40 f_{cm} \\varepsilon_{cu1}^{2} + 60 f_{cm} \\varepsilon_{cu1} \\varepsilon_{cy} - 20 f_{cm} \\varepsilon_{cy}^{2}\\right)}$"
     },
     "execution_count": 23,
     "metadata": {},
     "output_type": "execute_result"
    }
   ],
   "execution_count": 23
  },
  {
   "cell_type": "code",
   "metadata": {
    "ExecuteTime": {
     "end_time": "2024-05-16T09:01:24.911354Z",
     "start_time": "2024-05-16T09:01:24.868665Z"
    }
   },
   "source": [
    "eq = sp.Piecewise(\n",
    "    (sig_c1_, eps <= eps_cy_p1), \n",
    "    (sig_c2_, eps <= eps_c1), \n",
    "    (sig_c3_, True)\n",
    ")\n",
    "eq"
   ],
   "outputs": [
    {
     "data": {
      "text/plain": [
       "Piecewise((542244358852365*f_cm*varepsilon*(591279525365953*E_cc*varepsilon_cy - 317107915752369*f_cm)/(281561678745692*varepsilon_cy*(591279525365953*E_cc*varepsilon_cy - 126246714982768*f_cm)), varepsilon <= 0.563123357491384*varepsilon_cy), (f_cm*(-24978224451615372181724528845*E_cc*varepsilon*varepsilon_cy + 154136331364598169603402304369*E_cc*varepsilon_cy**2 + 108826620972769103994370002685*f_cm*varepsilon - 136403741457476039440735767229*f_cm*varepsilon_cy)/(218438321254308*varepsilon_cy*(591279525365953*E_cc*varepsilon_cy - 126246714982768*f_cm)), varepsilon <= varepsilon_cy), (f_cm*(-21*E_cc*varepsilon*varepsilon_cu1*varepsilon_cy**2 + 546*E_cc*varepsilon_cu1**2*varepsilon_cy**2 - 525*E_cc*varepsilon_cu1*varepsilon_cy**3 - 250*f_cm*varepsilon*varepsilon_cu1**2 + 540*f_cm*varepsilon*varepsilon_cu1*varepsilon_cy - 270*f_cm*varepsilon*varepsilon_cy**2 - 790*f_cm*varepsilon_cu1**2*varepsilon_cy + 1020*f_cm*varepsilon_cu1*varepsilon_cy**2 - 250*f_cm*varepsilon_cy**3)/(26*varepsilon_cy*(21*E_cc*varepsilon_cu1**2*varepsilon_cy - 21*E_cc*varepsilon_cu1*varepsilon_cy**2 - 40*f_cm*varepsilon_cu1**2 + 60*f_cm*varepsilon_cu1*varepsilon_cy - 20*f_cm*varepsilon_cy**2)), True))"
      ],
      "text/latex": "$\\displaystyle \\begin{cases} \\frac{542244358852365 f_{cm} \\varepsilon \\left(591279525365953 E_{cc} \\varepsilon_{cy} - 317107915752369 f_{cm}\\right)}{281561678745692 \\varepsilon_{cy} \\left(591279525365953 E_{cc} \\varepsilon_{cy} - 126246714982768 f_{cm}\\right)} & \\text{for}\\: \\varepsilon \\leq 0.563123357491384 \\varepsilon_{cy} \\\\\\frac{f_{cm} \\left(- 24978224451615372181724528845 E_{cc} \\varepsilon \\varepsilon_{cy} + 154136331364598169603402304369 E_{cc} \\varepsilon_{cy}^{2} + 108826620972769103994370002685 f_{cm} \\varepsilon - 136403741457476039440735767229 f_{cm} \\varepsilon_{cy}\\right)}{218438321254308 \\varepsilon_{cy} \\left(591279525365953 E_{cc} \\varepsilon_{cy} - 126246714982768 f_{cm}\\right)} & \\text{for}\\: \\varepsilon \\leq \\varepsilon_{cy} \\\\\\frac{f_{cm} \\left(- 21 E_{cc} \\varepsilon \\varepsilon_{cu1} \\varepsilon_{cy}^{2} + 546 E_{cc} \\varepsilon_{cu1}^{2} \\varepsilon_{cy}^{2} - 525 E_{cc} \\varepsilon_{cu1} \\varepsilon_{cy}^{3} - 250 f_{cm} \\varepsilon \\varepsilon_{cu1}^{2} + 540 f_{cm} \\varepsilon \\varepsilon_{cu1} \\varepsilon_{cy} - 270 f_{cm} \\varepsilon \\varepsilon_{cy}^{2} - 790 f_{cm} \\varepsilon_{cu1}^{2} \\varepsilon_{cy} + 1020 f_{cm} \\varepsilon_{cu1} \\varepsilon_{cy}^{2} - 250 f_{cm} \\varepsilon_{cy}^{3}\\right)}{26 \\varepsilon_{cy} \\left(21 E_{cc} \\varepsilon_{cu1}^{2} \\varepsilon_{cy} - 21 E_{cc} \\varepsilon_{cu1} \\varepsilon_{cy}^{2} - 40 f_{cm} \\varepsilon_{cu1}^{2} + 60 f_{cm} \\varepsilon_{cu1} \\varepsilon_{cy} - 20 f_{cm} \\varepsilon_{cy}^{2}\\right)} & \\text{otherwise} \\end{cases}$"
     },
     "execution_count": 24,
     "metadata": {},
     "output_type": "execute_result"
    }
   ],
   "execution_count": 24
  },
  {
   "cell_type": "code",
   "metadata": {
    "ExecuteTime": {
     "end_time": "2024-05-16T09:01:25.396332Z",
     "start_time": "2024-05-16T09:01:24.914423Z"
    }
   },
   "source": [
    "get_eq = sp.lambdify(eps, eq.subs({f_cm:50, E_cc:EC2.get_E_cm(50-8), eps_cy:EC2.get_eps_c1(50-8), eps_cu1:EC2.get_eps_cu1(50-8)}), 'numpy')\n",
    "eps_vals = np.linspace(0, EC2.get_eps_cu1(50-8), 100)\n",
    "sig_vals = get_eq(eps_vals)\n",
    "fig4, ax4 = plt.subplots()\n",
    "ax4.plot(eps_vals, sig_vals)"
   ],
   "outputs": [
    {
     "data": {
      "text/plain": [
       "[<matplotlib.lines.Line2D at 0x1ad5ec51b80>]"
      ]
     },
     "execution_count": 25,
     "metadata": {},
     "output_type": "execute_result"
    },
    {
     "data": {
      "text/plain": [
       "<Figure size 640x480 with 1 Axes>"
      ],
      "image/png": "[encoded data removed]"
     },
     "metadata": {},
     "output_type": "display_data"
    }
   ],
   "execution_count": 25
  },
  {
   "cell_type": "code",
   "metadata": {
    "ExecuteTime": {
     "end_time": "2024-05-16T09:01:25.407585Z",
     "start_time": "2024-05-16T09:01:25.399344Z"
    }
   },
   "source": [
    "np.trapz(y=sig_vals, x=eps_vals)"
   ],
   "outputs": [
    {
     "data": {
      "text/plain": [
       "0.1266139414828207"
      ]
     },
     "execution_count": 26,
     "metadata": {},
     "output_type": "execute_result"
    }
   ],
   "execution_count": 26
  },
  {
   "cell_type": "code",
   "metadata": {
    "ExecuteTime": {
     "end_time": "2024-05-16T09:01:26.192580Z",
     "start_time": "2024-05-16T09:01:25.410595Z"
    }
   },
   "source": [
    "eq_area = sp.integrate(sp.simplify(eq), eps)\n",
    "eq_area"
   ],
   "outputs": [
    {
     "data": {
      "text/plain": [
       "Piecewise((varepsilon**2*(320617987134591872181724528845*E_cc*f_cm*varepsilon_cy - 171949978464153103994370002685*f_cm**2)/(332963311539987405156644448952*E_cc*varepsilon_cy**2 - 71092474013354129107268470912*f_cm*varepsilon_cy), varepsilon <= 0.563123357491384*varepsilon_cy), (varepsilon**2*(-24978224451615372181724528845*E_cc*f_cm*varepsilon_cy + 108826620972769103994370002685*f_cm**2)/(258316213825965594843355551048*E_cc*varepsilon_cy**2 - 55154240969413870892731529088*f_cm*varepsilon_cy) + varepsilon*(154136331364598169603402304369*E_cc*f_cm*varepsilon_cy - 136403741457476039440735767229*f_cm**2)/(129158106912982797421677775524*E_cc*varepsilon_cy - 27577120484706935446365764544*f_cm) + 0.317107915752369*varepsilon_cy**2*(320617987134591872181724528845*E_cc*f_cm*varepsilon_cy - 171949978464153103994370002685*f_cm**2)/(332963311539987405156644448952*E_cc*varepsilon_cy**2 - 71092474013354129107268470912*f_cm*varepsilon_cy) - 0.317107915752369*varepsilon_cy**2*(-24978224451615372181724528845*E_cc*f_cm*varepsilon_cy + 108826620972769103994370002685*f_cm**2)/(258316213825965594843355551048*E_cc*varepsilon_cy**2 - 55154240969413870892731529088*f_cm*varepsilon_cy) - 0.563123357491384*varepsilon_cy*(154136331364598169603402304369*E_cc*f_cm*varepsilon_cy - 136403741457476039440735767229*f_cm**2)/(129158106912982797421677775524*E_cc*varepsilon_cy - 27577120484706935446365764544*f_cm), varepsilon <= varepsilon_cy), (varepsilon**2*(-21*E_cc*f_cm*varepsilon_cu1*varepsilon_cy**2 - 250*f_cm**2*varepsilon_cu1**2 + 540*f_cm**2*varepsilon_cu1*varepsilon_cy - 270*f_cm**2*varepsilon_cy**2)/(1092*E_cc*varepsilon_cu1**2*varepsilon_cy**2 - 1092*E_cc*varepsilon_cu1*varepsilon_cy**3 - 2080*f_cm*varepsilon_cu1**2*varepsilon_cy + 3120*f_cm*varepsilon_cu1*varepsilon_cy**2 - 1040*f_cm*varepsilon_cy**3) + varepsilon*(546*E_cc*f_cm*varepsilon_cu1**2*varepsilon_cy - 525*E_cc*f_cm*varepsilon_cu1*varepsilon_cy**2 - 790*f_cm**2*varepsilon_cu1**2 + 1020*f_cm**2*varepsilon_cu1*varepsilon_cy - 250*f_cm**2*varepsilon_cy**2)/(546*E_cc*varepsilon_cu1**2*varepsilon_cy - 546*E_cc*varepsilon_cu1*varepsilon_cy**2 - 1040*f_cm*varepsilon_cu1**2 + 1560*f_cm*varepsilon_cu1*varepsilon_cy - 520*f_cm*varepsilon_cy**2) - varepsilon_cy**2*(-21*E_cc*f_cm*varepsilon_cu1*varepsilon_cy**2 - 250*f_cm**2*varepsilon_cu1**2 + 540*f_cm**2*varepsilon_cu1*varepsilon_cy - 270*f_cm**2*varepsilon_cy**2)/(1092*E_cc*varepsilon_cu1**2*varepsilon_cy**2 - 1092*E_cc*varepsilon_cu1*varepsilon_cy**3 - 2080*f_cm*varepsilon_cu1**2*varepsilon_cy + 3120*f_cm*varepsilon_cu1*varepsilon_cy**2 - 1040*f_cm*varepsilon_cy**3) + 0.317107915752369*varepsilon_cy**2*(320617987134591872181724528845*E_cc*f_cm*varepsilon_cy - 171949978464153103994370002685*f_cm**2)/(332963311539987405156644448952*E_cc*varepsilon_cy**2 - 71092474013354129107268470912*f_cm*varepsilon_cy) + 0.682892084247631*varepsilon_cy**2*(-24978224451615372181724528845*E_cc*f_cm*varepsilon_cy + 108826620972769103994370002685*f_cm**2)/(258316213825965594843355551048*E_cc*varepsilon_cy**2 - 55154240969413870892731529088*f_cm*varepsilon_cy) - varepsilon_cy*(546*E_cc*f_cm*varepsilon_cu1**2*varepsilon_cy - 525*E_cc*f_cm*varepsilon_cu1*varepsilon_cy**2 - 790*f_cm**2*varepsilon_cu1**2 + 1020*f_cm**2*varepsilon_cu1*varepsilon_cy - 250*f_cm**2*varepsilon_cy**2)/(546*E_cc*varepsilon_cu1**2*varepsilon_cy - 546*E_cc*varepsilon_cu1*varepsilon_cy**2 - 1040*f_cm*varepsilon_cu1**2 + 1560*f_cm*varepsilon_cu1*varepsilon_cy - 520*f_cm*varepsilon_cy**2) + 0.436876642508616*varepsilon_cy*(154136331364598169603402304369*E_cc*f_cm*varepsilon_cy - 136403741457476039440735767229*f_cm**2)/(129158106912982797421677775524*E_cc*varepsilon_cy - 27577120484706935446365764544*f_cm), True))"
      ],
      "text/latex": "$\\displaystyle \\begin{cases} \\frac{\\varepsilon^{2} \\cdot \\left(320617987134591872181724528845 E_{cc} f_{cm} \\varepsilon_{cy} - 171949978464153103994370002685 f_{cm}^{2}\\right)}{332963311539987405156644448952 E_{cc} \\varepsilon_{cy}^{2} - 71092474013354129107268470912 f_{cm} \\varepsilon_{cy}} & \\text{for}\\: \\varepsilon \\leq 0.563123357491384 \\varepsilon_{cy} \\\\\\frac{\\varepsilon^{2} \\left(- 24978224451615372181724528845 E_{cc} f_{cm} \\varepsilon_{cy} + 108826620972769103994370002685 f_{cm}^{2}\\right)}{258316213825965594843355551048 E_{cc} \\varepsilon_{cy}^{2} - 55154240969413870892731529088 f_{cm} \\varepsilon_{cy}} + \\frac{\\varepsilon \\left(154136331364598169603402304369 E_{cc} f_{cm} \\varepsilon_{cy} - 136403741457476039440735767229 f_{cm}^{2}\\right)}{129158106912982797421677775524 E_{cc} \\varepsilon_{cy} - 27577120484706935446365764544 f_{cm}} + \\frac{0.317107915752369 \\varepsilon_{cy}^{2} \\cdot \\left(320617987134591872181724528845 E_{cc} f_{cm} \\varepsilon_{cy} - 171949978464153103994370002685 f_{cm}^{2}\\right)}{332963311539987405156644448952 E_{cc} \\varepsilon_{cy}^{2} - 71092474013354129107268470912 f_{cm} \\varepsilon_{cy}} - \\frac{0.317107915752369 \\varepsilon_{cy}^{2} \\left(- 24978224451615372181724528845 E_{cc} f_{cm} \\varepsilon_{cy} + 108826620972769103994370002685 f_{cm}^{2}\\right)}{258316213825965594843355551048 E_{cc} \\varepsilon_{cy}^{2} - 55154240969413870892731529088 f_{cm} \\varepsilon_{cy}} - \\frac{0.563123357491384 \\varepsilon_{cy} \\left(154136331364598169603402304369 E_{cc} f_{cm} \\varepsilon_{cy} - 136403741457476039440735767229 f_{cm}^{2}\\right)}{129158106912982797421677775524 E_{cc} \\varepsilon_{cy} - 27577120484706935446365764544 f_{cm}} & \\text{for}\\: \\varepsilon \\leq \\varepsilon_{cy} \\\\\\frac{\\varepsilon^{2} \\left(- 21 E_{cc} f_{cm} \\varepsilon_{cu1} \\varepsilon_{cy}^{2} - 250 f_{cm}^{2} \\varepsilon_{cu1}^{2} + 540 f_{cm}^{2} \\varepsilon_{cu1} \\varepsilon_{cy} - 270 f_{cm}^{2} \\varepsilon_{cy}^{2}\\right)}{1092 E_{cc} \\varepsilon_{cu1}^{2} \\varepsilon_{cy}^{2} - 1092 E_{cc} \\varepsilon_{cu1} \\varepsilon_{cy}^{3} - 2080 f_{cm} \\varepsilon_{cu1}^{2} \\varepsilon_{cy} + 3120 f_{cm} \\varepsilon_{cu1} \\varepsilon_{cy}^{2} - 1040 f_{cm} \\varepsilon_{cy}^{3}} + \\frac{\\varepsilon \\left(546 E_{cc} f_{cm} \\varepsilon_{cu1}^{2} \\varepsilon_{cy} - 525 E_{cc} f_{cm} \\varepsilon_{cu1} \\varepsilon_{cy}^{2} - 790 f_{cm}^{2} \\varepsilon_{cu1}^{2} + 1020 f_{cm}^{2} \\varepsilon_{cu1} \\varepsilon_{cy} - 250 f_{cm}^{2} \\varepsilon_{cy}^{2}\\right)}{546 E_{cc} \\varepsilon_{cu1}^{2} \\varepsilon_{cy} - 546 E_{cc} \\varepsilon_{cu1} \\varepsilon_{cy}^{2} - 1040 f_{cm} \\varepsilon_{cu1}^{2} + 1560 f_{cm} \\varepsilon_{cu1} \\varepsilon_{cy} - 520 f_{cm} \\varepsilon_{cy}^{2}} - \\frac{\\varepsilon_{cy}^{2} \\left(- 21 E_{cc} f_{cm} \\varepsilon_{cu1} \\varepsilon_{cy}^{2} - 250 f_{cm}^{2} \\varepsilon_{cu1}^{2} + 540 f_{cm}^{2} \\varepsilon_{cu1} \\varepsilon_{cy} - 270 f_{cm}^{2} \\varepsilon_{cy}^{2}\\right)}{1092 E_{cc} \\varepsilon_{cu1}^{2} \\varepsilon_{cy}^{2} - 1092 E_{cc} \\varepsilon_{cu1} \\varepsilon_{cy}^{3} - 2080 f_{cm} \\varepsilon_{cu1}^{2} \\varepsilon_{cy} + 3120 f_{cm} \\varepsilon_{cu1} \\varepsilon_{cy}^{2} - 1040 f_{cm} \\varepsilon_{cy}^{3}} + \\frac{0.317107915752369 \\varepsilon_{cy}^{2} \\cdot \\left(320617987134591872181724528845 E_{cc} f_{cm} \\varepsilon_{cy} - 171949978464153103994370002685 f_{cm}^{2}\\right)}{332963311539987405156644448952 E_{cc} \\varepsilon_{cy}^{2} - 71092474013354129107268470912 f_{cm} \\varepsilon_{cy}} + \\frac{0.682892084247631 \\varepsilon_{cy}^{2} \\left(- 24978224451615372181724528845 E_{cc} f_{cm} \\varepsilon_{cy} + 108826620972769103994370002685 f_{cm}^{2}\\right)}{258316213825965594843355551048 E_{cc} \\varepsilon_{cy}^{2} - 55154240969413870892731529088 f_{cm} \\varepsilon_{cy}} - \\frac{\\varepsilon_{cy} \\left(546 E_{cc} f_{cm} \\varepsilon_{cu1}^{2} \\varepsilon_{cy} - 525 E_{cc} f_{cm} \\varepsilon_{cu1} \\varepsilon_{cy}^{2} - 790 f_{cm}^{2} \\varepsilon_{cu1}^{2} + 1020 f_{cm}^{2} \\varepsilon_{cu1} \\varepsilon_{cy} - 250 f_{cm}^{2} \\varepsilon_{cy}^{2}\\right)}{546 E_{cc} \\varepsilon_{cu1}^{2} \\varepsilon_{cy} - 546 E_{cc} \\varepsilon_{cu1} \\varepsilon_{cy}^{2} - 1040 f_{cm} \\varepsilon_{cu1}^{2} + 1560 f_{cm} \\varepsilon_{cu1} \\varepsilon_{cy} - 520 f_{cm} \\varepsilon_{cy}^{2}} + \\frac{0.436876642508616 \\varepsilon_{cy} \\left(154136331364598169603402304369 E_{cc} f_{cm} \\varepsilon_{cy} - 136403741457476039440735767229 f_{cm}^{2}\\right)}{129158106912982797421677775524 E_{cc} \\varepsilon_{cy} - 27577120484706935446365764544 f_{cm}} & \\text{otherwise} \\end{cases}$"
     },
     "execution_count": 27,
     "metadata": {},
     "output_type": "execute_result"
    }
   ],
   "execution_count": 27
  },
  {
   "cell_type": "code",
   "metadata": {
    "ExecuteTime": {
     "end_time": "2024-05-16T09:01:26.456994Z",
     "start_time": "2024-05-16T09:01:26.194584Z"
    }
   },
   "source": [
    "get_eq_area = sp.lambdify(eps, eq_area.subs({f_cm:50, E_cc:EC2.get_E_cm(50-8), eps_cy:EC2.get_eps_c1(50-8), eps_cu1:EC2.get_eps_cu1(50-8)}), 'numpy')\n",
    "eps_vals2 = np.linspace(0, EC2.get_eps_cu1(50-8), 100)\n",
    "sig_vals2 = get_eq_area(eps_vals2)\n",
    "fig4, ax4 = plt.subplots()\n",
    "ax4.plot(eps_vals2, sig_vals2)"
   ],
   "outputs": [
    {
     "data": {
      "text/plain": [
       "[<matplotlib.lines.Line2D at 0x1ad5ed8af60>]"
      ]
     },
     "execution_count": 28,
     "metadata": {},
     "output_type": "execute_result"
    },
    {
     "data": {
      "text/plain": [
       "<Figure size 640x480 with 1 Axes>"
      ],
      "image/png": "[encoded data removed]"
     },
     "metadata": {},
     "output_type": "display_data"
    }
   ],
   "execution_count": 28
  },
  {
   "cell_type": "code",
   "metadata": {
    "ExecuteTime": {
     "end_time": "2024-05-16T09:01:26.468775Z",
     "start_time": "2024-05-16T09:01:26.459001Z"
    }
   },
   "source": [
    "sig_1_area_up_to_eps = eq_area.args[0][0]\n",
    "sig_2_area_up_to_eps = eq_area.args[1][0]\n",
    "sig_3_area_up_to_eps = eq_area.args[2][0]\n",
    "sig_1_area_up_to_eps"
   ],
   "outputs": [
    {
     "data": {
      "text/plain": [
       "varepsilon**2*(320617987134591872181724528845*E_cc*f_cm*varepsilon_cy - 171949978464153103994370002685*f_cm**2)/(332963311539987405156644448952*E_cc*varepsilon_cy**2 - 71092474013354129107268470912*f_cm*varepsilon_cy)"
      ],
      "text/latex": "$\\displaystyle \\frac{\\varepsilon^{2} \\cdot \\left(320617987134591872181724528845 E_{cc} f_{cm} \\varepsilon_{cy} - 171949978464153103994370002685 f_{cm}^{2}\\right)}{332963311539987405156644448952 E_{cc} \\varepsilon_{cy}^{2} - 71092474013354129107268470912 f_{cm} \\varepsilon_{cy}}$"
     },
     "execution_count": 29,
     "metadata": {},
     "output_type": "execute_result"
    }
   ],
   "execution_count": 29
  },
  {
   "cell_type": "code",
   "metadata": {
    "ExecuteTime": {
     "end_time": "2024-05-16T09:01:26.714791Z",
     "start_time": "2024-05-16T09:01:26.470882Z"
    }
   },
   "source": [
    "# Compare F_t = A_f * f_fu with F_c_1, if F_t <= F_c_1, then you can use sig_c_part_1\n",
    "eps_fu = f_fu/E_f\n",
    "c_1 = d * (eps_cy_p1 / (eps_cy_p1 + eps_fu))\n",
    "F_c_1 = sig_1_area_up_to_eps.subs({eps:eps_cy_p1}) * (c_1 / eps_cy_p1) * b\n",
    "F_c_1 = sp.simplify(F_c_1)\n",
    "F_c_1"
   ],
   "outputs": [
    {
     "data": {
      "text/plain": [
       "122.140185575083*E_f*d*f_cm*varepsilon_cy*(591279525365953*E_cc*varepsilon_cy - 317107915752369*f_cm)/((591279525365953*E_cc*varepsilon_cy - 126246714982768*f_cm)*(0.563123357491384*E_f*varepsilon_cy + f_{fu}))"
      ],
      "text/latex": "$\\displaystyle \\frac{122.140185575083 E_{f} d f_{cm} \\varepsilon_{cy} \\left(591279525365953 E_{cc} \\varepsilon_{cy} - 317107915752369 f_{cm}\\right)}{\\left(591279525365953 E_{cc} \\varepsilon_{cy} - 126246714982768 f_{cm}\\right) \\left(0.563123357491384 E_{f} \\varepsilon_{cy} + f_{fu}\\right)}$"
     },
     "execution_count": 30,
     "metadata": {},
     "output_type": "execute_result"
    }
   ],
   "execution_count": 30
  },
  {
   "cell_type": "code",
   "metadata": {
    "ExecuteTime": {
     "end_time": "2024-05-16T09:01:26.728039Z",
     "start_time": "2024-05-16T09:01:26.716796Z"
    }
   },
   "source": [
    "20*2500"
   ],
   "outputs": [
    {
     "data": {
      "text/plain": [
       "50000"
      ]
     },
     "execution_count": 31,
     "metadata": {},
     "output_type": "execute_result"
    }
   ],
   "execution_count": 31
  },
  {
   "cell_type": "code",
   "metadata": {
    "ExecuteTime": {
     "end_time": "2024-05-16T09:01:26.751133Z",
     "start_time": "2024-05-16T09:01:26.730276Z"
    }
   },
   "source": [
    "sp.N(F_c_1.subs({f_cm:50, b:400, d:180, f_fu:2500, E_f:200000, E_cc:EC2.get_E_cm(50-8), eps_cy:EC2.get_eps_c1(50-8)}))"
   ],
   "outputs": [
    {
     "data": {
      "text/plain": [
       "145916.655687362"
      ],
      "text/latex": "$\\displaystyle 145916.655687362$"
     },
     "execution_count": 32,
     "metadata": {},
     "output_type": "execute_result"
    }
   ],
   "execution_count": 32
  },
  {
   "cell_type": "code",
   "metadata": {
    "ExecuteTime": {
     "end_time": "2024-05-16T09:01:27.166505Z",
     "start_time": "2024-05-16T09:01:26.753346Z"
    }
   },
   "source": [
    "# Compare F_t = A_f * f_fu with F_c_1, if F_t <= F_c_1, then you can use sig_c_part_1\n",
    "eps_fu = f_fu/E_f\n",
    "c_2 = d * (eps_c1 / (eps_c1 + eps_fu))\n",
    "F_c_2 = sig_2_area_up_to_eps.subs({eps:eps_c1}) * (c_2 / eps_c1) * b\n",
    "F_c_2 = sp.simplify(F_c_2)\n",
    "F_c_2\n",
    "\n",
    "# You don't need F_c_3 because if F_t > F_c_2, then the user will use last equation directly"
   ],
   "outputs": [
    {
     "data": {
      "text/plain": [
       "25*E_f*d*f_cm*varepsilon_cy*(2.41706075164683e+58*E_cc*varepsilon_cy - 1.07224266950086e+58*f_cm)/(3358700006006714853162058335147942217103472*(591279525365953*E_cc*varepsilon_cy - 126246714982768*f_cm)*(E_f*varepsilon_cy + f_{fu}))"
      ],
      "text/latex": "$\\displaystyle \\frac{25 E_{f} d f_{cm} \\varepsilon_{cy} \\left(2.41706075164683 \\cdot 10^{58} E_{cc} \\varepsilon_{cy} - 1.07224266950086 \\cdot 10^{58} f_{cm}\\right)}{3358700006006714853162058335147942217103472 \\cdot \\left(591279525365953 E_{cc} \\varepsilon_{cy} - 126246714982768 f_{cm}\\right) \\left(E_{f} \\varepsilon_{cy} + f_{fu}\\right)}$"
     },
     "execution_count": 33,
     "metadata": {},
     "output_type": "execute_result"
    }
   ],
   "execution_count": 33
  },
  {
   "cell_type": "code",
   "metadata": {
    "ExecuteTime": {
     "end_time": "2024-05-16T09:01:27.178375Z",
     "start_time": "2024-05-16T09:01:27.169510Z"
    }
   },
   "source": [
    "# Solving eps top for part 1\n",
    "def get_eps_top_solved(index):\n",
    "    c = d * eps/(eps + eps_fu)\n",
    "\n",
    "    F_t = A_f * f_fu\n",
    "    sig_z_area = eq_area.args[index][0] * (c / eps)\n",
    "    F_c = sig_z_area * b\n",
    "    eps_top_solved = sp.solve(F_t - F_c, eps)[1] # TODO, this the positive solution, make sure you don't want the negative\n",
    "    eps_top_solved = sp.simplify(eps_top_solved)\n",
    "    return eps_top_solved"
   ],
   "outputs": [],
   "execution_count": 34
  },
  {
   "cell_type": "code",
   "metadata": {
    "ExecuteTime": {
     "end_time": "2024-05-16T09:01:29.605182Z",
     "start_time": "2024-05-16T09:01:27.181935Z"
    }
   },
   "source": [
    "eps_part_1 = get_eps_top_solved(0)\n",
    "eps_part_1"
   ],
   "outputs": [
    {
     "data": {
      "text/plain": [
       "f_{fu}*(sqrt(70390419686423)*sqrt(A_f)*sqrt(varepsilon_cy)*sqrt(24609298601454961771874536406189351728416407*A_f*E_cc**2*E_f*varepsilon_cy**3 - 10508881072926844314485839784378973883914784*A_f*E_cc*E_f*f_cm*varepsilon_cy**2 + 1121898913022969927410051090367075473655552*A_f*E_f*f_cm**2*varepsilon_cy + 37914970251345741499667218499367807025882857000*E_cc**2*d*f_cm*varepsilon_cy**2 - 28429493858619976980059647277611145462305353000*E_cc*d*f_cm**2*varepsilon_cy + 4341623984491406521489661009098289177746416000*d*f_cm**3) + 70390419686423*A_f*sqrt(E_f)*varepsilon_cy*(591279525365953*E_cc*varepsilon_cy - 126246714982768*f_cm))/(54224435885236500*sqrt(E_f)*d*f_cm*(591279525365953*E_cc*varepsilon_cy - 317107915752369*f_cm))"
      ],
      "text/latex": "$\\displaystyle \\frac{f_{fu} \\left(\\sqrt{70390419686423} \\sqrt{A_{f}} \\sqrt{\\varepsilon_{cy}} \\sqrt{24609298601454961771874536406189351728416407 A_{f} E_{cc}^{2} E_{f} \\varepsilon_{cy}^{3} - 10508881072926844314485839784378973883914784 A_{f} E_{cc} E_{f} f_{cm} \\varepsilon_{cy}^{2} + 1121898913022969927410051090367075473655552 A_{f} E_{f} f_{cm}^{2} \\varepsilon_{cy} + 37914970251345741499667218499367807025882857000 E_{cc}^{2} d f_{cm} \\varepsilon_{cy}^{2} - 28429493858619976980059647277611145462305353000 E_{cc} d f_{cm}^{2} \\varepsilon_{cy} + 4341623984491406521489661009098289177746416000 d f_{cm}^{3}} + 70390419686423 A_{f} \\sqrt{E_{f}} \\varepsilon_{cy} \\left(591279525365953 E_{cc} \\varepsilon_{cy} - 126246714982768 f_{cm}\\right)\\right)}{54224435885236500 \\sqrt{E_{f}} d f_{cm} \\left(591279525365953 E_{cc} \\varepsilon_{cy} - 317107915752369 f_{cm}\\right)}$"
     },
     "execution_count": 35,
     "metadata": {},
     "output_type": "execute_result"
    }
   ],
   "execution_count": 35
  },
  {
   "cell_type": "code",
   "metadata": {
    "ExecuteTime": {
     "end_time": "2024-05-16T09:01:29.612552Z",
     "start_time": "2024-05-16T09:01:29.606187Z"
    }
   },
   "source": [
    "def get_psi(index):\n",
    "    if index >= 2:\n",
    "        return 1\n",
    "    else:\n",
    "        eps_top_solved = get_eps_top_solved(index)\n",
    "        sig_c_eq = eq.args[index][0]\n",
    "        f_c_max = sig_c_eq.subs({eps: eps_top_solved})\n",
    "        psi_c = f_c_max/f_cm\n",
    "        psi_c = sp.simplify(psi_c)\n",
    "        return psi_c"
   ],
   "outputs": [],
   "execution_count": 36
  },
  {
   "cell_type": "code",
   "metadata": {
    "ExecuteTime": {
     "end_time": "2024-05-16T09:01:30.932158Z",
     "start_time": "2024-05-16T09:01:29.614085Z"
    }
   },
   "source": [
    "psi_c_part_1 = get_psi(0)\n",
    "# sp.cse(psi_c_part_1)\n",
    "psi_c_part_1"
   ],
   "outputs": [
    {
     "data": {
      "text/plain": [
       "f_{fu}*(sqrt(70390419686423)*sqrt(A_f)*sqrt(varepsilon_cy)*sqrt(24609298601454961771874536406189351728416407*A_f*E_cc**2*E_f*varepsilon_cy**3 - 10508881072926844314485839784378973883914784*A_f*E_cc*E_f*f_cm*varepsilon_cy**2 + 1121898913022969927410051090367075473655552*A_f*E_f*f_cm**2*varepsilon_cy + 37914970251345741499667218499367807025882857000*E_cc**2*d*f_cm*varepsilon_cy**2 - 28429493858619976980059647277611145462305353000*E_cc*d*f_cm**2*varepsilon_cy + 4341623984491406521489661009098289177746416000*d*f_cm**3) + 70390419686423*A_f*sqrt(E_f)*varepsilon_cy*(591279525365953*E_cc*varepsilon_cy - 126246714982768*f_cm))/(28156167874569200*sqrt(E_f)*d*f_cm*varepsilon_cy*(591279525365953*E_cc*varepsilon_cy - 126246714982768*f_cm))"
      ],
      "text/latex": "$\\displaystyle \\frac{f_{fu} \\left(\\sqrt{70390419686423} \\sqrt{A_{f}} \\sqrt{\\varepsilon_{cy}} \\sqrt{24609298601454961771874536406189351728416407 A_{f} E_{cc}^{2} E_{f} \\varepsilon_{cy}^{3} - 10508881072926844314485839784378973883914784 A_{f} E_{cc} E_{f} f_{cm} \\varepsilon_{cy}^{2} + 1121898913022969927410051090367075473655552 A_{f} E_{f} f_{cm}^{2} \\varepsilon_{cy} + 37914970251345741499667218499367807025882857000 E_{cc}^{2} d f_{cm} \\varepsilon_{cy}^{2} - 28429493858619976980059647277611145462305353000 E_{cc} d f_{cm}^{2} \\varepsilon_{cy} + 4341623984491406521489661009098289177746416000 d f_{cm}^{3}} + 70390419686423 A_{f} \\sqrt{E_{f}} \\varepsilon_{cy} \\left(591279525365953 E_{cc} \\varepsilon_{cy} - 126246714982768 f_{cm}\\right)\\right)}{28156167874569200 \\sqrt{E_{f}} d f_{cm} \\varepsilon_{cy} \\left(591279525365953 E_{cc} \\varepsilon_{cy} - 126246714982768 f_{cm}\\right)}$"
     },
     "execution_count": 37,
     "metadata": {},
     "output_type": "execute_result"
    }
   ],
   "execution_count": 37
  },
  {
   "cell_type": "code",
   "metadata": {
    "ExecuteTime": {
     "end_time": "2024-05-16T09:01:30.974360Z",
     "start_time": "2024-05-16T09:01:30.937397Z"
    }
   },
   "source": [
    "sp.N(psi_c_part_1.subs({f_cm:50, b:400, d:180, f_fu:2500, E_f:200000, A_f:20, E_cc:EC2.get_E_cm(50-8), eps_cy:EC2.get_eps_c1(50-8)}))"
   ],
   "outputs": [
    {
     "data": {
      "text/plain": [
       "0.484722258874583"
      ],
      "text/latex": "$\\displaystyle 0.484722258874583$"
     },
     "execution_count": 38,
     "metadata": {},
     "output_type": "execute_result"
    }
   ],
   "execution_count": 38
  },
  {
   "cell_type": "code",
   "metadata": {
    "ExecuteTime": {
     "end_time": "2024-05-16T09:01:31.066944Z",
     "start_time": "2024-05-16T09:01:30.974876Z"
    }
   },
   "source": [
    "# Because first part is triangle, the center of it is\n",
    "ce1 = c.subs({eps: eps_part_1}) / 3\n",
    "ce1 = sp.simplify(ce1)\n",
    "ce1"
   ],
   "outputs": [
    {
     "ename": "AttributeError",
     "evalue": "'int' object has no attribute 'subs'",
     "output_type": "error",
     "traceback": [
      "\u001B[1;31m---------------------------------------------------------------------------\u001B[0m",
      "\u001B[1;31mAttributeError\u001B[0m                            Traceback (most recent call last)",
      "Cell \u001B[1;32mIn[39], line 2\u001B[0m\n\u001B[0;32m      1\u001B[0m \u001B[38;5;66;03m# Because first part is triangle, the center of it is\u001B[39;00m\n\u001B[1;32m----> 2\u001B[0m ce1 \u001B[38;5;241m=\u001B[39m \u001B[43mc\u001B[49m\u001B[38;5;241;43m.\u001B[39;49m\u001B[43msubs\u001B[49m({eps: eps_part_1}) \u001B[38;5;241m/\u001B[39m \u001B[38;5;241m3\u001B[39m\n\u001B[0;32m      3\u001B[0m ce1 \u001B[38;5;241m=\u001B[39m sp\u001B[38;5;241m.\u001B[39msimplify(ce1)\n\u001B[0;32m      4\u001B[0m ce1\n",
      "\u001B[1;31mAttributeError\u001B[0m: 'int' object has no attribute 'subs'"
     ]
    }
   ],
   "execution_count": 39
  },
  {
   "cell_type": "code",
   "metadata": {
    "ExecuteTime": {
     "end_time": "2024-05-16T09:01:31.068947Z",
     "start_time": "2024-05-16T09:01:31.068947Z"
    }
   },
   "source": [
    "M_n_1 = sp.simplify(A_f * f_fu * (d - ce1))\n",
    "M_n_1\n",
    "# packaging common terms\n",
    "# sp.cse(M_n)"
   ],
   "outputs": [],
   "execution_count": null
  },
  {
   "cell_type": "code",
   "metadata": {},
   "source": [
    "sp.N(M_n_1.subs({f_cm:50, b:400, d:180, f_fu:2500, E_f:200000, A_f:20, E_cc:EC2.get_E_cm(50-8), eps_cy:EC2.get_eps_c1(50-8)}) / 1e6)"
   ],
   "outputs": [],
   "execution_count": null
  },
  {
   "cell_type": "code",
   "metadata": {},
   "source": [
    "# Not solvable directly if eps_cy and E_cc are substituted, it's solved below, but it's very complex formula!\n",
    "psi_c_part_2 = get_psi(1)\n",
    "psi_c_part_2"
   ],
   "outputs": [],
   "execution_count": null
  },
  {
   "cell_type": "code",
   "metadata": {},
   "source": [
    "psi_c_part_2_reduced = sp.cse(psi_c_part_2)\n",
    "psi_c_part_2_reduced"
   ],
   "outputs": [],
   "execution_count": null
  },
  {
   "cell_type": "code",
   "metadata": {},
   "source": [
    "psi_c_part_3 = get_psi(2)\n",
    "psi_c_part_3"
   ],
   "outputs": [],
   "execution_count": null
  },
  {
   "cell_type": "markdown",
   "metadata": {},
   "source": [
    "## Solving psi and Mn for part 2 if it's not solvable because eps_cy and E_cc are substituted"
   ]
  },
  {
   "cell_type": "code",
   "metadata": {},
   "source": [
    "eps_part_2 = get_eps_top_solved(1)\n",
    "eps_part_2"
   ],
   "outputs": [],
   "execution_count": null
  },
  {
   "cell_type": "code",
   "metadata": {},
   "source": [
    "c = d * eps/(eps + eps_fu)\n",
    "\n",
    "F_t = A_f * f_fu\n",
    "sig_z_area = eq_area.args[1][0] * (c / eps)\n",
    "factors, sig_z_area = sp.cse(sig_z_area)[:-1][0], sp.cse(sig_z_area)[-1][0]\n",
    "sig_z_area"
   ],
   "outputs": [],
   "execution_count": null
  },
  {
   "cell_type": "code",
   "metadata": {},
   "source": [
    "F_c = sig_z_area * b\n",
    "eps_top_solved = sp.solve(F_t - F_c, eps)[0] # TODO, this the positive solution, make sure you don't want the negative\n",
    "eps_top_solved"
   ],
   "outputs": [],
   "execution_count": null
  },
  {
   "cell_type": "code",
   "metadata": {},
   "source": [
    "sig_c_eq = eq.args[1][0]\n",
    "f_c_max = sig_c_eq.subs({eps: eps_top_solved})\n",
    "psi_c = f_c_max/f_cm\n",
    "psi_c"
   ],
   "outputs": [],
   "execution_count": null
  },
  {
   "cell_type": "code",
   "metadata": {},
   "source": [
    "# substitute factors in each others\n",
    "# convert factors list of tuples to list of lists so that expressions can be modified\n",
    "\n",
    "factors = [[symb, value] for (symb, value) in factors]\n",
    "for i in range(len(factors)):\n",
    "    factors[i][1] = factors[i][1].subs({symb:value for (symb, value) in factors})\n",
    "factors"
   ],
   "outputs": [],
   "execution_count": null
  },
  {
   "cell_type": "code",
   "metadata": {},
   "source": [
    "psi_c = psi_c.subs({symb:value for (symb, value) in factors})\n",
    "psi_c = sp.simplify(psi_c)\n",
    "psi_c"
   ],
   "outputs": [],
   "execution_count": null
  },
  {
   "cell_type": "code",
   "metadata": {},
   "source": [
    "psi_c_reduced = sp.cse(psi_c)\n",
    "psi_c_reduced[-1][0]"
   ],
   "outputs": [],
   "execution_count": null
  },
  {
   "metadata": {},
   "cell_type": "code",
   "source": "",
   "outputs": [],
   "execution_count": null
  },
  {
   "metadata": {},
   "cell_type": "code",
   "outputs": [],
   "execution_count": null,
   "source": ""
  }
 ],
 "metadata": {
  "kernelspec": {
   "display_name": "Python 3 (ipykernel)",
   "language": "python",
   "name": "python3"
  },
  "language_info": {
   "codemirror_mode": {
    "name": "ipython",
    "version": 3
   },
   "file_extension": ".py",
   "mimetype": "text/x-python",
   "name": "python",
   "nbconvert_exporter": "python",
   "pygments_lexer": "ipython3"
  }
 },
 "nbformat": 4,
 "nbformat_minor": 4
}
