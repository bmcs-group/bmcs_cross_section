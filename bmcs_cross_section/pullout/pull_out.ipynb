{
 "cells": [
  {
   "cell_type": "markdown",
   "id": "material-philadelphia",
   "metadata": {},
   "source": [
    "# Pull-out, Push-in"
   ]
  },
  {
   "cell_type": "code",
   "execution_count": 1,
   "id": "chubby-treasure",
   "metadata": {},
   "outputs": [
    {
     "data": {
      "application/vnd.jupyter.widget-view+json": {
       "model_id": "be00ae91004a496eaa9e8e77478ff7e0",
       "version_major": 2,
       "version_minor": 0
      },
      "text/plain": [
       "VBox(children=(HBox(children=(VBox(children=(Tree(layout=Layout(align_items='stretch', border='solid 1px black…"
      ]
     },
     "metadata": {},
     "output_type": "display_data"
    }
   ],
   "source": [
    "%matplotlib widget\n",
    "from pull_out import PullOutAModel\n",
    "po = PullOutAModel(state_change_debug=True)\n",
    "po.interact()"
   ]
  },
  {
   "cell_type": "code",
   "execution_count": 2,
   "id": "equivalent-participation",
   "metadata": {},
   "outputs": [],
   "source": [
    "import traits.api as tr"
   ]
  },
  {
   "cell_type": "code",
   "execution_count": null,
   "id": "vulnerable-surname",
   "metadata": {},
   "outputs": [],
   "source": []
  },
  {
   "cell_type": "markdown",
   "id": "authorized-strain",
   "metadata": {},
   "source": [
    "# How to derive a pull-out model given a constant bond-slip law\n",
    "\n",
    "- [J0201 - Pull-out of long fiber from rigid matrix](2_1_PO_LF_LM_RG.ipynb)\n",
    "- [J0202 - Pull-out of long fiber from long elastic matrix](2_2_PO_LF_LM_EL.ipynb)\n",
    "- [J0203 - Pull-out of short fiber from rigid matrix](2_3_PO_ESF_RM.ipynb)\n"
   ]
  },
  {
   "cell_type": "markdown",
   "id": "organizational-mexican",
   "metadata": {},
   "source": [
    "# Questions"
   ]
  },
  {
   "cell_type": "markdown",
   "id": "spread-baking",
   "metadata": {},
   "source": [
    "- Find a bond length at which the fiber breaks\n",
    "- Identify the distance at which matrix crack would appear"
   ]
  },
  {
   "cell_type": "code",
   "execution_count": null,
   "id": "separate-telling",
   "metadata": {},
   "outputs": [],
   "source": []
  }
 ],
 "metadata": {
  "kernelspec": {
   "display_name": "bmcs_env",
   "language": "python",
   "name": "bmcs_env"
  },
  "language_info": {
   "codemirror_mode": {
    "name": "ipython",
    "version": 3
   },
   "file_extension": ".py",
   "mimetype": "text/x-python",
   "name": "python",
   "nbconvert_exporter": "python",
   "pygments_lexer": "ipython3",
   "version": "3.9.0"
  },
  "toc": {
   "base_numbering": 1,
   "nav_menu": {},
   "number_sections": true,
   "sideBar": true,
   "skip_h1_title": false,
   "title_cell": "Table of Contents",
   "title_sidebar": "Contents",
   "toc_cell": false,
   "toc_position": {},
   "toc_section_display": true,
   "toc_window_display": false
  }
 },
 "nbformat": 4,
 "nbformat_minor": 5
}
