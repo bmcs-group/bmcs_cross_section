{
 "cells": [
  {
   "cell_type": "markdown",
   "source": [
    "# Moment-Curvature Verification\n",
    "This file verifies the Moment-Curvature implementation provided in the file \"mkappa.py\"\n"
   ],
   "metadata": {
    "collapsed": false
   }
  },
  {
   "cell_type": "code",
   "execution_count": null,
   "outputs": [],
   "source": [
    "#%matplotlib widget"
   ],
   "metadata": {
    "collapsed": false,
    "pycharm": {
     "name": "#%%\n"
    }
   }
  },
  {
   "cell_type": "code",
   "execution_count": null,
   "outputs": [],
   "source": [
    "from bmcs_cross_section.mkappa.mkappa import MKappa\n",
    "from bmcs_utils.api import InteractiveWindow\n",
    "from bmcs_cross_section.cs_design.cs_shape import TShapeCS\n",
    "import matplotlib.pyplot as plt\n",
    "import numpy as np\n",
    "import sympy as sp\n",
    "import pandas as pd\n",
    "sp.init_printing()"
   ],
   "metadata": {
    "collapsed": false,
    "pycharm": {
     "name": "#%%\n"
    }
   }
  },
  {
   "cell_type": "code",
   "execution_count": null,
   "outputs": [],
   "source": [
    "def plot(mc):\n",
    "    fig, (ax1, ax2) = plt.subplots(1, 2, figsize=(10, 5))\n",
    "    mc.plot_mk_and_stress_profile(ax1, ax2)\n",
    "    plt.show()\n",
    "\n",
    "def plot_mk_ver(mc, ver_data):\n",
    "    fig, (ax1, ax2) = plt.subplots(1, 2, figsize=(10, 5))\n",
    "    mc.plot_mk_and_stress_profile(ax1, ax2)\n",
    "    k = ver_data[0]\n",
    "    m = ver_data[1]\n",
    "    \n",
    "    ax1.plot(k, m, c= 'red', label= 'Experiment')\n",
    "    ax1.legend()\n",
    "    plt.show()\n",
    "    \n",
    "    \n",
    "def plot_Fw_ver(mc, ver_data):\n",
    "    fig, ax = plt.subplots(1,1)\n",
    "\n",
    "    dp = DeflectionProfile(mc=mc)\n",
    "    F = ver_data[0]\n",
    "    w = ver_data[1]\n",
    "    \n",
    "    F, w = dp.get_Fw()\n",
    "    ax.plot(w, F)\n",
    "\n",
    "    ax.plot(F, w, c= 'red', label= 'Experiment')\n",
    "    ax.legend()\n",
    "    plt.show()"
   ],
   "metadata": {
    "collapsed": false,
    "pycharm": {
     "name": "#%%\n"
    }
   }
  },
  {
   "cell_type": "markdown",
   "source": [
    "## 1. Checking the model with its default parameters"
   ],
   "metadata": {
    "collapsed": false
   }
  },
  {
   "cell_type": "code",
   "execution_count": null,
   "outputs": [],
   "source": [
    "mc = MKappa()\n",
    "plot(mc)"
   ],
   "metadata": {
    "collapsed": false,
    "pycharm": {
     "name": "#%%\n"
    }
   }
  },
  {
   "cell_type": "markdown",
   "source": [
    "## 2. Verification with experimental results\n",
    "\n",
    "Verification with experimental results from multiple papers using the summarized parameters in Table 3 in [Yao_Mobasher2019](https://doi.org/10.1002/suco.201900404)\n",
    "\n",
    "Notation in [Yao_Mobasher2019](https://doi.org/10.1002/suco.201900404) | Notation in this file\n",
    "----------- | -----------\n",
    "$E$      | E_ct\n",
    "$E_c$   | E_cc\n",
    "$E_s$ | E_j\n",
    "$\\varepsilon_{cr}$ | eps_cr\n",
    "$\\varepsilon_{cu}$ | eps_cu\n",
    "$\\varepsilon_{tu}$ | eps_tu\n",
    "$\\varepsilon_{cy}$ | eps_cy\n",
    "$\\mu$ | mu\n",
    "$\\gamma$  | E_cc/E_ct\n",
    "$\\omega$  | eps_cy/eps_cr\n",
    "$\\lambda_{cu}$  | eps_cu/eps_cr\n",
    "$\\beta_{tu}$  | eps_tu/eps_cr\n",
    "$\\psi$  | eps_sy_j/eps_cr\n",
    "$n$  | E_j/E_ct\n",
    "$\\alpha$  | z_j/h\n",
    "$r$  | A_s_c/A_s_t\n",
    "$\\rho_g$ | A_j[0]/A_c, where A_j[0] must be tension steel area"
   ],
   "metadata": {
    "collapsed": false
   }
  },
  {
   "cell_type": "markdown",
   "source": [
    "### Verification with Rectangluar cross sections\n",
    "In the following verifications, the parameters will be taken from the parameters summary in Table 3 in [Yao_Mobasher2019](https://doi.org/10.1002/suco.201900404)\n",
    "And the following functions is provided to map the params in the format used in [Yao_Mobasher2019](https://doi.org/10.1002/suco.201900404) to the format of the MKappa model"
   ],
   "metadata": {
    "collapsed": false
   }
  },
  {
   "cell_type": "code",
   "execution_count": null,
   "outputs": [],
   "source": [
    "def map_and_assign_params_for_rectangular_section(\n",
    "        mc, # MKappa instance for which the params should be applied\n",
    "        b, h, E, E_s, f_sy, eps_cr, rho, beta_tu, v_f, omega, psi, mu, alpha, lambda_cu):\n",
    "    \"\"\"This function map the params of the rectangular section from the type of the paper\n",
    "    to the type of the model and assigns the values\"\"\"\n",
    "    mc.cross_section_shape.B=b\n",
    "    mc.cross_section_shape.H=h\n",
    "    mc.E_cc=E\n",
    "    mc.E_ct=E # SUPPOSED equal to E_cc!!\n",
    "    mc.mu=mu\n",
    "    mc.eps_cr=eps_cr\n",
    "    mc.eps_cy=omega * eps_cr\n",
    "    mc.eps_cu=lambda_cu * eps_cr\n",
    "    mc.eps_tu=beta_tu * eps_cr\n",
    "    mc.eps_sy_j=[f_sy / E_s] # or eps_sy_j=psi * eps_cr,\n",
    "    mc.E_j=[E_s]\n",
    "    mc.z_j=[h * (1 - alpha)]\n",
    "    mc.A_j=[rho * b * h]"
   ],
   "metadata": {
    "collapsed": false,
    "pycharm": {
     "name": "#%%\n"
    }
   }
  },
  {
   "cell_type": "markdown",
   "source": [
    "![image-2.png](attachment:image-2.png)"
   ],
   "metadata": {
    "collapsed": false
   }
  },
  {
   "cell_type": "markdown",
   "source": [
    "#### 1. Verification with Yang et al. (2010), http://dx.doi.org/10.1016/j.engstruct.2010.07.017\n",
    "![image.png](attachment:image.png)"
   ],
   "metadata": {
    "collapsed": false
   }
  },
  {
   "cell_type": "code",
   "execution_count": null,
   "outputs": [],
   "source": [
    "excel_file = r\".\\verification_data\\yao20_yao_mobasher\\figure_12\\yang_2010.xlsx\"\n",
    "data = pd.read_excel(excel_file)\n",
    "k= data['rho_06_exp_K'] * 1e-5; m= data['rho_06_exp_M']; ver_data = [k, m]; plt.plot(k,m)\n",
    "k1= data['rho_06_sim_K'] * 1e-5; m1= data['rho_06_sim_M']; ver_data1 = [k1, m1]; plt.plot(k1,m1)\n",
    "k2= data['rho_09_exp_K'] * 1e-5; m2= data['rho_09_exp_M']; ver_data2 = [k2, m2]; plt.plot(k2,m2)\n",
    "k3= data['rho_09_sim_K'] * 1e-5; m3= data['rho_09_sim_M']; ver_data3 = [k3, m3]; plt.plot(k3,m3)"
   ],
   "metadata": {
    "collapsed": false,
    "pycharm": {
     "name": "#%%\n"
    }
   }
  },
  {
   "cell_type": "code",
   "execution_count": null,
   "outputs": [],
   "source": [
    "mc = MKappa(n_m=100, n_kappa = 100)\n",
    "mc.kappa_slider = 0.00001\n",
    "mc.low_kappa = 0\n",
    "mc.high_kappa = 0.00005\n",
    "map_and_assign_params_for_rectangular_section(mc,\n",
    "    beta_tu = 21,  # SUPPOSED because it's missing\n",
    "        b = 180,\n",
    "        h = 270,\n",
    "        E = 46418, # 46418\n",
    "        E_s = 200000,\n",
    "        f_sy = 600, # source? 700 fits tthe best.\n",
    "        eps_cr = 0.000384,\n",
    "        rho = 0.006,\n",
    "        v_f = 0.02,\n",
    "        omega = 10.7,\n",
    "        psi = 7.8,\n",
    "        mu = 0.55,\n",
    "        alpha = 0.87,\n",
    "        lambda_cu = 11.7)\n",
    "\n",
    "# plot(mc)\n",
    "plot_mk_ver(mc, ver_data)"
   ],
   "metadata": {
    "collapsed": false,
    "pycharm": {
     "name": "#%%\n"
    }
   }
  },
  {
   "cell_type": "code",
   "execution_count": null,
   "outputs": [],
   "source": [
    "mc = MKappa(n_m=100, n_kappa = 100)\n",
    "mc.kappa_slider = 0.00001\n",
    "mc.low_kappa = 0\n",
    "mc.high_kappa = 0.00005\n",
    "map_and_assign_params_for_rectangular_section(mc,\n",
    "    beta_tu = 22,  # SUPPOSED because it's missing\n",
    "        b = 180,\n",
    "        h = 270,\n",
    "        E = 46700,\n",
    "        E_s = 200000,\n",
    "        f_sy = 600, # where is the source of 600?! 700 fits tthe best.\n",
    "        eps_cr = 0.000384,\n",
    "        rho = 0.009,\n",
    "        v_f = 0.02,\n",
    "        omega = 10.7,\n",
    "        psi = 7.8,\n",
    "        mu = 0.55,\n",
    "        alpha = 0.87,\n",
    "        lambda_cu = 11.7)\n",
    "# plot(mc)\n",
    "plot_mk_ver(mc, ver_data2)"
   ],
   "metadata": {
    "collapsed": false,
    "pycharm": {
     "name": "#%%\n"
    }
   }
  },
  {
   "cell_type": "markdown",
   "source": [
    "#### 2. Verification with Gribniak et al. (2012), https://doi.org/10.1016/j.engstruct.2012.04.032\n",
    "![image.png](attachment:image.png)"
   ],
   "metadata": {
    "collapsed": false
   }
  },
  {
   "cell_type": "code",
   "execution_count": null,
   "outputs": [],
   "source": [
    "mc = MKappa(n_m=100, n_kappa = 100)\n",
    "mc.kappa_slider = 0.000001\n",
    "mc.low_kappa = 0\n",
    "mc.high_kappa = 15e-6\n",
    "map_and_assign_params_for_rectangular_section(mc,\n",
    "    beta_tu = 160,  # SUPPOSED because it's missing\n",
    "        b = 284,\n",
    "        h = 298,\n",
    "        E = 34000,\n",
    "        E_s = 203000,\n",
    "        f_sy = 560,\n",
    "        eps_cr = 0.000132,\n",
    "        rho = 0.003,\n",
    "        v_f = 0.015,\n",
    "        omega = 11.6,\n",
    "        psi = 20.9,\n",
    "        mu = 0.63,\n",
    "        alpha = 0.91,\n",
    "        lambda_cu = 26.5)\n",
    "plot(mc)"
   ],
   "metadata": {
    "collapsed": false,
    "pycharm": {
     "name": "#%%\n"
    }
   }
  },
  {
   "cell_type": "markdown",
   "source": [
    "### Verification with T-sections\n",
    "![image.png](attachment:image.png)"
   ],
   "metadata": {
    "collapsed": false
   }
  },
  {
   "cell_type": "code",
   "execution_count": null,
   "outputs": [],
   "source": [
    "def map_and_assign_params_for_t_section(\n",
    "        mc, # MKappa instance for which the params should be applied\n",
    "        b, h, E, E_s, f_sy, eps_cr, rho, beta_tu, v_f, omega, psi, mu, alpha, lambda_cu, o, zeta):\n",
    "    \"\"\"This function map the params of the rectangular section from the type of the paper\n",
    "    to the type of the model and assigns the values\"\"\"\n",
    "    t_shape = TShapeCS(B_f = b, B_w = o*b, H_w = (1-zeta)*h)\n",
    "    mc.cross_section_shape = t_shape\n",
    "    \n",
    "    mc.E_cc=E\n",
    "    mc.E_ct=E # SUPPOSED equal to E_cc!!\n",
    "    mc.mu=mu\n",
    "    mc.eps_cr=eps_cr\n",
    "    mc.eps_cy=omega * eps_cr\n",
    "    mc.eps_cu=lambda_cu * eps_cr\n",
    "    mc.eps_tu=beta_tu * eps_cr\n",
    "    mc.eps_sy_j=[f_sy / E_s] # or eps_sy_j=psi * eps_cr,\n",
    "    mc.E_j=[E_s]\n",
    "    mc.z_j=[h * (1 - alpha)]\n",
    "    mc.A_j=[rho * b * h]"
   ],
   "metadata": {
    "collapsed": false,
    "pycharm": {
     "name": "#%%\n"
    }
   }
  },
  {
   "cell_type": "markdown",
   "source": [
    "#### 1. Verification with Qi et al. (2016), https://doi.org/10.1002/suco.201500191"
   ],
   "metadata": {
    "collapsed": false
   }
  },
  {
   "cell_type": "code",
   "execution_count": null,
   "outputs": [],
   "source": [
    "mc = MKappa(n_m=100, n_kappa = 100)\n",
    "mc.kappa_slider = 0.00001\n",
    "mc.low_kappa = 0\n",
    "mc.high_kappa = 0.0001\n",
    "map_and_assign_params_for_t_section(mc,\n",
    "            beta_tu = 160,  # SUPPOSED because it's missing\n",
    "            b = 284,\n",
    "            h = 298,\n",
    "            E = 36500,\n",
    "            E_s = 200000,\n",
    "            f_sy = 761,\n",
    "            eps_cr = 0.000140,\n",
    "            rho = 0.0496,\n",
    "            v_f = 0.02,\n",
    "            omega = 22.7,\n",
    "            psi = 27.2,\n",
    "            mu = 0.3,\n",
    "            alpha = 0.81,\n",
    "            lambda_cu = 25, \n",
    "            o = 0.33, \n",
    "            zeta = 0.25)\n",
    "plot(mc)\n"
   ],
   "metadata": {
    "collapsed": false,
    "pycharm": {
     "name": "#%%\n"
    }
   }
  }
 ],
 "metadata": {
  "kernelspec": {
   "display_name": "Python 3",
   "language": "python",
   "name": "python3"
  },
  "language_info": {
   "codemirror_mode": {
    "name": "ipython",
    "version": 3
   },
   "file_extension": ".py",
   "mimetype": "text/x-python",
   "name": "python",
   "nbconvert_exporter": "python",
   "pygments_lexer": "ipython3",
   "version": "3.7.9"
  },
  "toc": {
   "base_numbering": 1,
   "nav_menu": {},
   "number_sections": true,
   "sideBar": true,
   "skip_h1_title": true,
   "title_cell": "Table of Contents",
   "title_sidebar": "Contents",
   "toc_cell": false,
   "toc_position": {},
   "toc_section_display": true,
   "toc_window_display": false
  }
 },
 "nbformat": 4,
 "nbformat_minor": 1
}