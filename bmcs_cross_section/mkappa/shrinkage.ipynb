{
 "cells": [
  {
   "cell_type": "markdown",
   "metadata": {},
   "source": [
    "### Shrinkage curvature calculation based on section 3.1.4 Creep and shrinkage of the EC2"
   ]
  },
  {
   "cell_type": "markdown",
   "metadata": {},
   "source": [
    "(6) The total shrinkage strain is composed of two components, the drying shrinkage strain and\n",
    "the autogenous shrinkage strain. The drying shrinkage strain develops slowly, since it is a\n",
    "function of the migration of the water through the hardened concrete. The autogenous\n",
    "shrinkage strain develops during hardening of the concrete: the major part therefore develops in\n",
    "the early days after casting. Autogenous shrinkage is a linear function of the concrete strength.\n",
    "It should be considered specifically when new concrete is cast against hardened concrete.\n",
    "Hence the values of the total shrinkage strain $\\varepsilon_{cs}$ follow from"
   ]
  },
  {
   "cell_type": "markdown",
   "metadata": {},
   "source": [
    "$$ \\varepsilon_{cs} = \\varepsilon_{cd} + \\varepsilon_{ca} \\hspace{10cm}           (3.8) $$"
   ]
  },
  {
   "cell_type": "markdown",
   "metadata": {},
   "source": [
    "| Symbol | Unit | Description\n",
    "| :-: | :-: | :- |\n",
    "| $\\varepsilon_{cs}$ | - | is the total shrinkage strain|\n",
    "| $\\varepsilon_{cd}$ | - | is the drying shrinkage strain |\n",
    "| $\\varepsilon_{ca}$ | - | is the autogenous shrinkage strain |"
   ]
  },
  {
   "cell_type": "markdown",
   "metadata": {},
   "source": [
    "The development of the drying shrinkage strain in time follows from:"
   ]
  },
  {
   "cell_type": "markdown",
   "metadata": {},
   "source": [
    " $$\\varepsilon_{cd}(t) = \\beta_{ds}{(t, t_s)} . k_h . \\varepsilon_{cd,0} \\hspace{10cm}(3.9)$$               "
   ]
  },
  {
   "cell_type": "markdown",
   "metadata": {},
   "source": [
    "Table 3.3 Values for kh in Expression (3.9)"
   ]
  },
  {
   "cell_type": "markdown",
   "metadata": {},
   "source": [
    "| Symbol | Unit | Description\n",
    "| :-: | :-: | :- |\n",
    "| $k_h$ | - | is a coefficient depending on the notional size ho according to Table 3.3|\n",
    "| $\\varepsilon_{cd,0}$ | - | nominal unrestrained drying shrinkage values $\\varepsilon_{cd,0}$ (in ‰ ) for concrete cement Class|\n",
    "| $\\beta_{ds}$ $(t, t_s)$ | - | coefficient |"
   ]
  },
  {
   "cell_type": "markdown",
   "metadata": {},
   "source": [
    "| $h_0$ | k_h| \n",
    "| :-: | :-: \n",
    "| 100 | 1.0\n",
    "| 200| 0.85\n",
    "| 300 | 0.75\n",
    "| $\\leq$ 500 | 0.70"
   ]
  },
  {
   "cell_type": "markdown",
   "metadata": {},
   "source": [
    "$$\\beta_{ds}{(t, t_s)} = \\frac{(t - t_s)}{(t - t_s)+0.04  \\sqrt{h_0^3}}\\hspace{7cm}(3.10)$$"
   ]
  },
  {
   "cell_type": "markdown",
   "metadata": {},
   "source": [
    "$$h_0 = 2A_c/u$$"
   ]
  },
  {
   "cell_type": "markdown",
   "metadata": {},
   "source": [
    "| Symbol | Unit | Description\n",
    "| :-: | :-: | :- |\n",
    "| t | days | is the age of the concrete at the nloment considered |\n",
    "| $t_{s}$ | days | is the age of the concrete at the beginning of drying shrinkage (or swelling). Normally this is at the end of curing. |\n",
    "| $h_0$ | mm | is the notional size of the cross-section|\n",
    "| $$A_c$$ | $$mm^2$$ | is the concrete cross-sectional area|\n",
    "| u | mm | is the perimeter of that part of the cross section which is exposed to drying |"
   ]
  },
  {
   "cell_type": "markdown",
   "metadata": {},
   "source": [
    "### B.2 Basic equations for determining the drying shrinkage strain\n"
   ]
  },
  {
   "cell_type": "markdown",
   "metadata": {},
   "source": [
    "$$\\varepsilon_{cd,0} = 0.85 \\left[ (220 + 110 . \\alpha_{ds1}).exp \\left(-\\alpha_{ds2} .\\frac{f_{cm}}{f_{cmo}}\\right)         \\right] . 10^{-6} . \\beta_{RH}\\hspace{7cm}(B.11)$$"
   ]
  },
  {
   "cell_type": "markdown",
   "metadata": {},
   "source": [
    "$$\\beta_{RH} = 1.55\\left[1-\\left(\\frac{RH}{RH_0}\\right)^3\\right]\\hspace{13.5cm}(B.12)$$"
   ]
  },
  {
   "cell_type": "markdown",
   "metadata": {},
   "source": [
    "| Symbol | Unit | Description\n",
    "| :-: | :-: | :- |\n",
    "| $f_{cm}$ | MPa | is the mean compressive strength |\n",
    "| $f_{cmo}$ | Mpa | 10 |\n",
    "| $\\alpha_{ds1}$ | - | is a coefficient which depends on the type of cement (see 3.1.2 (6));3 for S, 4 for N, 6 for R|\n",
    "| $\\alpha_{ds2}$ | - | is a coefficient which depends on the type of cement; 0,13 for S, 0,12 for N, 0,11 for R|\n",
    "| RH | % | is the ambient relative humidity |\n",
    "| RH0 | % | 100 |"
   ]
  },
  {
   "cell_type": "markdown",
   "metadata": {},
   "source": [
    "#### The autogenous shrinkage strain follows from:\n"
   ]
  },
  {
   "cell_type": "markdown",
   "metadata": {},
   "source": [
    " $$\\varepsilon_{ca}(t) = \\beta_{as}(t)\\varepsilon_{ca}(\\infty) \\hspace{10cm}(3.11)$$               "
   ]
  },
  {
   "cell_type": "markdown",
   "metadata": {},
   "source": [
    "$$\\varepsilon_{ca}(\\infty) = 2.5 (f_{ck} - 10)10^{-6}\\hspace{10cm}(3.12)$$"
   ]
  },
  {
   "cell_type": "markdown",
   "metadata": {},
   "source": [
    "$$\\beta_{as}(t) = 1 - exp(-0.2t^{0.5})\\hspace{10cm}(3.13)$$"
   ]
  },
  {
   "cell_type": "markdown",
   "metadata": {},
   "source": [
    "| Symbol | Unit | Description\n",
    "| :-: | :-: | :- |\n",
    "| t | days | Time being considered |\n",
    "| $f_{ck}$ | Mpa | Characteristic compressive cylinder strength of concrete at 28 days |"
   ]
  },
  {
   "cell_type": "markdown",
   "metadata": {},
   "source": [
    "#### (6) Shrinkage curvatures may be assessed using Expression (7.21):7"
   ]
  },
  {
   "cell_type": "markdown",
   "metadata": {},
   "source": [
    "$$ E_{c,eff} = \\frac{E_{cm}}{1 + \\varphi (\\infty,t_0)}\\hspace{10cm}(7.20)$$"
   ]
  },
  {
   "cell_type": "markdown",
   "metadata": {},
   "source": [
    "$$ \\frac{1}{r_{cs}} = \\varepsilon_{cs} \\alpha_e \\frac{S}{I} \\hspace{10cm}(7.21)$$"
   ]
  },
  {
   "cell_type": "markdown",
   "metadata": {},
   "source": [
    "$$\\alpha_e = E_s / E_{c,eff}$$"
   ]
  },
  {
   "cell_type": "markdown",
   "metadata": {},
   "source": [
    "| Symbol | Unit | Description\n",
    "| :-: | :-: | :- |\n",
    "| $E_{c,eff}$ | - | is the effective modulus of elasticity of concrete |\n",
    "| $E_{cm}$ | - | is the secant modulus of elasticity of concrete |\n",
    "| $\\varphi$ | - | is the final creep coefficient |\n",
    "| $1/r_{cs}$ | - | is the curvature due to shrinkage |\n",
    "| $\\varepsilon_{cs}$ | - | is the free shrinkage strain (see 3.1.4) |\n",
    "| S | - | is the first moment of area of the reinforcement about the centroid of the section|\n",
    "| I | - | is the second moment of area of the section|\n",
    "| $\\alpha_e$ | % |is the effective modular ratio |\n"
   ]
  },
  {
   "cell_type": "code",
   "execution_count": 3,
   "metadata": {},
   "outputs": [],
   "source": [
    "import numpy as np\n",
    "import sympy as sp\n",
    "from sympy import symbols"
   ]
  },
  {
   "cell_type": "code",
   "execution_count": 2,
   "metadata": {},
   "outputs": [],
   "source": [
    "eps_cs, eps_cd, eps_ca, beta_ds_t_t_s, k_h, eps_cd0, t, t_s, h_0, A_c, u, alpha_ds1, alpha_ds2, f_cm, f_cmo, beta_RH, RH, RH_0, beta_as_t, eps_ca_infty, f_ck, kappa_cs, alpha_e, E_s, E_c_eff, S, I= symbols(r'\\varepsilon_{cs}, \\varepsilon_{cd}, \\varepsilon_{ca}, \\beta_{ds}{(t_ts)}, k_h, \\varepsilon_{cd0}, t, t_s, h_0, A_c, u, \\alpha_{ds1}, \\alpha_{ds2}, f_{cm}, f_{cmo}, \\beta_{RH}, RH, RH_0,  \\beta_{as}{(t)}, \\varepsilon_{ca}{(\\infty)}, f_{ck}, \\kappa_{cs}, \\alpha_{e}, E_s, E_{c_eff}, S, I', real=True, nonnegative=True)"
   ]
  },
  {
   "cell_type": "code",
   "execution_count": 24,
   "metadata": {},
   "outputs": [],
   "source": [
    "def get_kappa_shrinkage():\n",
    "    \n",
    "    f_ck = 20\n",
    "    t = 125\n",
    "    t_s = 10\n",
    "    alpha_ds1 = .2\n",
    "    alpha_ds2 = .35\n",
    "    RH = 40\n",
    "    RH_0 = 100\n",
    "    f_cm = 20\n",
    "    f_cmo = 10\n",
    "    phi = 2.5 # where is the formula!\n",
    "    E_s = 200000\n",
    "    E_cm = 35000\n",
    "    S = 100\n",
    "    I = 100\n",
    "    A_c = 10000\n",
    "    u = 75\n",
    "       \n",
    "    eps_ca_infty = 2.5 * (f_ck - 10) * 1e-6    \n",
    "    beta_as_t = 1 - sp.exp(- 0.2 * t ** 0.5)\n",
    "    eps_ca = beta_as_t * eps_ca_infty\n",
    "    \n",
    "    beta_RH = 1.55 * (1 - (RH/RH_0)**3)\n",
    "    h_0 = 2 * A_c / u\n",
    "    beta_ds_t_t_s = (t - t_s) / ((t - t_s) + 0.04 * h_0 ** (3/2))\n",
    "    h_0_ = [100, 200 ,300, 500, 800]\n",
    "    k_h_ = [1, 0.85, 0.75, 0.7, 0.7]\n",
    "    k_h = np.interp(h_0, h_0_, k_h_)\n",
    "    eps_cd0 = 0.85 * ((220 + 110 * alpha_ds1) * sp.exp(-alpha_ds2 * f_cm / f_cmo)) * 1e-6 * beta_RH    \n",
    "    eps_cd = beta_ds_t_t_s * k_h * eps_cd0   \n",
    "    \n",
    "    eps_cs = eps_cd + eps_ca\n",
    "    \n",
    "    E_c_eff = E_cm / (1 + phi)\n",
    "    alpha_e = E_s / E_c_eff\n",
    "    kappa_cs = eps_cs * alpha_e * S / I\n",
    "\n",
    "    return kappa_cs"
   ]
  },
  {
   "cell_type": "code",
   "execution_count": 25,
   "metadata": {},
   "outputs": [
    {
     "data": {
      "text/latex": [
       "$\\displaystyle 0.00136984007382824$"
      ],
      "text/plain": [
       "0.00136984007382824"
      ]
     },
     "execution_count": 25,
     "metadata": {},
     "output_type": "execute_result"
    }
   ],
   "source": [
    "get_kappa_shrinkage()"
   ]
  },
  {
   "cell_type": "code",
   "execution_count": 45,
   "metadata": {},
   "outputs": [
    {
     "data": {
      "text/latex": [
       "$\\displaystyle 4.61639518329214 \\cdot 10^{-5}$"
      ],
      "text/plain": [
       "4.61639518329214e-5"
      ]
     },
     "execution_count": 45,
     "metadata": {},
     "output_type": "execute_result"
    }
   ],
   "source": [
    "eps_cs = eps_cd + eps_ca\n",
    "eps_cd = beta_ds_t_t_s * k_h * eps_cd0\n",
    "beta_ds_t_t_s = (t - t_s) / ((t - t_s) + 0.04 * h_0 ** (3/2))\n",
    "\n",
    "h_0 = 2 * A_c / u\n",
    "h_0_ = [100, 200 ,300, 500, 800]\n",
    "k_h_ = [ 1, 0.85, 0.75, 0.7, 0.7 ]\n",
    "k_h = np.interp(h_0, h_0_, k_h_)\n",
    "eps_cd0 = 0.85 * ((220 + 110 * alpha_ds1) * sp.exp(-alpha_ds2 * f_cm / f_cmo)) * 1e-6 * beta_RH\n",
    "beta_RH = 1.55 * (1 - (RH/RH_0)**3)\n",
    "eps_ca = beta_as_t * eps_ca_infty\n",
    "eps_ca_infty = 2.5 * (f_ck - 10) * 1e-6\n",
    "beta_as_t = 1 - sp.exp(- 0.2 * t ** 0.5)\n",
    "eps_ca = beta_as_t * eps_ca_infty\n",
    "eps_cd"
   ]
  },
  {
   "cell_type": "code",
   "execution_count": 49,
   "metadata": {},
   "outputs": [
    {
     "data": {
      "text/latex": [
       "$\\displaystyle 0.000391382878236639$"
      ],
      "text/plain": [
       "0.000391382878236639"
      ]
     },
     "execution_count": 49,
     "metadata": {},
     "output_type": "execute_result"
    }
   ],
   "source": [
    "alpha_e = E_s / E_c_eff\n",
    "kappa_cs = eps_cs * alpha_e * S / I\n",
    "kappa_cs"
   ]
  },
  {
   "cell_type": "code",
   "execution_count": 8,
   "metadata": {},
   "outputs": [
    {
     "data": {
      "text/plain": [
       "0.7"
      ]
     },
     "execution_count": 8,
     "metadata": {},
     "output_type": "execute_result"
    },
    {
     "data": {
      "image/png": "[encoded data removed]",
      "text/plain": [
       "<Figure size 432x288 with 1 Axes>"
      ]
     },
     "metadata": {
      "needs_background": "light"
     },
     "output_type": "display_data"
    }
   ],
   "source": [
    "import matplotlib.pyplot as plt\n",
    "\n",
    "# k_h = sp.Piecewise((1.0, h_0 == 100),\n",
    "#                     (0.85, h_0 == 200),\n",
    "#                     (0.75, h_0 == 300),\n",
    "#                     (0.70, h_0 >= 500))\n",
    "\n",
    "h_0_ = [100, 200 ,300, 500, 800]\n",
    "k_h_ = [ 1, 0.85, 0.75, 0.7, 0.7 ]\n",
    "plt.plot(h_0_, k_h_)\n",
    "h_0 = 10000\n",
    "k_h = np.interp(h_0, h_0_, k_h_)\n",
    "k_h"
   ]
  }
 ],
 "metadata": {
  "kernelspec": {
   "display_name": "Python 3",
   "language": "python",
   "name": "python3"
  },
  "language_info": {
   "codemirror_mode": {
    "name": "ipython",
    "version": 3
   },
   "file_extension": ".py",
   "mimetype": "text/x-python",
   "name": "python",
   "nbconvert_exporter": "python",
   "pygments_lexer": "ipython3",
   "version": "3.7.9"
  }
 },
 "nbformat": 4,
 "nbformat_minor": 4
}
