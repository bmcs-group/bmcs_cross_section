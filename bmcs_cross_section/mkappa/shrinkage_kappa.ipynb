{
 "cells": [
  {
   "cell_type": "code",
   "execution_count": 1,
   "metadata": {
    "pycharm": {
     "name": "#%%\n"
    }
   },
   "outputs": [],
   "source": [
    "import numpy as np\n",
    "import sympy as sp\n",
    "from sympy import symbols"
   ]
  },
  {
   "cell_type": "code",
   "execution_count": 2,
   "metadata": {
    "pycharm": {
     "name": "#%%\n"
    }
   },
   "outputs": [],
   "source": [
    "eps_cs, eps_cd, eps_ca, beta_ds_t_t_s, k_h, eps_cd0, t, t_s, h_0, A_c, u, alpha_ds1, alpha_ds2, f_cm, f_cmo, beta_RH, RH, RH_0, beta_as_t, eps_ca_infty, f_ck, kappa_cs, alpha_e, E_s, E_c_eff, E_cm, phi, S, I= symbols(r'\\varepsilon_{cs}, \\varepsilon_{cd}, \\varepsilon_{ca}, \\beta_{ds}{(t_ts)}, k_h, \\varepsilon_{cd0}, t, t_s, h_0, A_c, u, \\alpha_{ds1}, \\alpha_{ds2}, f_{cm}, f_{cmo}, \\beta_{RH}, RH, RH_0,  \\beta_{as}{(t)}, \\varepsilon_{ca}{(\\infty)}, f_{ck}, \\kappa_{cs}, \\alpha_{e}, E_s, E_{c_eff}, E_{cm}, \\varphi, S, I', real=True, nonnegative=True)"
   ]
  },
  {
   "cell_type": "markdown",
   "metadata": {},
   "source": [
    "### Shrinkage curvature calculation based on section 3.1.4 Creep and shrinkage of the EC2"
   ]
  },
  {
   "cell_type": "markdown",
   "metadata": {},
   "source": [
    "(6) The total shrinkage strain is composed of two components, the drying shrinkage strain and\n",
    "the autogenous shrinkage strain. The drying shrinkage strain develops slowly, since it is a\n",
    "function of the migration of the water through the hardened concrete. The autogenous\n",
    "shrinkage strain develops during hardening of the concrete: the major part therefore develops in\n",
    "the early days after casting. Autogenous shrinkage is a linear function of the concrete strength.\n",
    "It should be considered specifically when new concrete is cast against hardened concrete.\n",
    "Hence the values of the total shrinkage strain $\\varepsilon_{cs}$ follow from"
   ]
  },
  {
   "cell_type": "markdown",
   "metadata": {},
   "source": [
    "$$ \\varepsilon_{cs} = \\varepsilon_{cd} + \\varepsilon_{ca} \\hspace{10cm}           (3.8) $$"
   ]
  },
  {
   "cell_type": "markdown",
   "metadata": {},
   "source": [
    "| Symbol | Unit | Description\n",
    "| :-: | :-: | :- |\n",
    "| $\\varepsilon_{cs}$ | - | is the total shrinkage strain|\n",
    "| $\\varepsilon_{cd}$ | - | is the drying shrinkage strain |\n",
    "| $\\varepsilon_{ca}$ | - | is the autogenous shrinkage strain |"
   ]
  },
  {
   "cell_type": "code",
   "execution_count": 3,
   "metadata": {
    "pycharm": {
     "name": "#%%\n"
    }
   },
   "outputs": [
    {
     "data": {
      "text/latex": [
       "$\\displaystyle \\varepsilon_{ca} + \\varepsilon_{cd}$"
      ],
      "text/plain": [
       "\\varepsilon_{ca} + \\varepsilon_{cd}"
      ]
     },
     "execution_count": 3,
     "metadata": {},
     "output_type": "execute_result"
    }
   ],
   "source": [
    "eps_cs = eps_cd + eps_ca\n",
    "eps_cs"
   ]
  },
  {
   "cell_type": "markdown",
   "metadata": {},
   "source": [
    "The development of the drying shrinkage strain in time follows from:"
   ]
  },
  {
   "cell_type": "markdown",
   "metadata": {},
   "source": [
    " $$\\varepsilon_{cd}(t) = \\beta_{ds}{(t, t_s)} . k_h . \\varepsilon_{cd,0} \\hspace{10cm}(3.9)$$               "
   ]
  },
  {
   "cell_type": "code",
   "execution_count": 4,
   "metadata": {
    "pycharm": {
     "name": "#%%\n"
    }
   },
   "outputs": [
    {
     "data": {
      "text/latex": [
       "$\\displaystyle \\beta_{ds}{(t_ts)} \\varepsilon_{cd0} k_{h}$"
      ],
      "text/plain": [
       "\\beta_{ds}{(t_ts)}*\\varepsilon_{cd0}*k_h"
      ]
     },
     "execution_count": 4,
     "metadata": {},
     "output_type": "execute_result"
    }
   ],
   "source": [
    "eps_cd = beta_ds_t_t_s * k_h * eps_cd0\n",
    "eps_cd"
   ]
  },
  {
   "cell_type": "markdown",
   "metadata": {},
   "source": [
    "Table 3.3 Values for kh in Expression (3.9)"
   ]
  },
  {
   "cell_type": "markdown",
   "metadata": {},
   "source": [
    "| Symbol | Unit | Description\n",
    "| :-: | :-: | :- |\n",
    "| $k_h$ | - | is a coefficient depending on the notional size ho according to Table 3.3|\n",
    "| $\\varepsilon_{cd,0}$ | - | nominal unrestrained drying shrinkage values $\\varepsilon_{cd,0}$ (in ‰ ) for concrete cement Class|\n",
    "| $\\beta_{ds}$ $(t, t_s)$ | - | coefficient |"
   ]
  },
  {
   "cell_type": "markdown",
   "metadata": {},
   "source": [
    "| $h_0$ | k_h| \n",
    "| :-: | :-: \n",
    "| 100 | 1.0\n",
    "| 200| 0.85\n",
    "| 300 | 0.75\n",
    "| $\\leq$ 500 | 0.70"
   ]
  },
  {
   "cell_type": "code",
   "execution_count": 5,
   "metadata": {
    "pycharm": {
     "name": "#%%\n"
    }
   },
   "outputs": [
    {
     "data": {
      "text/plain": [
       "0.7"
      ]
     },
     "execution_count": 5,
     "metadata": {},
     "output_type": "execute_result"
    },
    {
     "data": {
      "image/png": "[encoded data removed]",
      "text/plain": [
       "<Figure size 432x288 with 1 Axes>"
      ]
     },
     "metadata": {
      "needs_background": "light"
     },
     "output_type": "display_data"
    }
   ],
   "source": [
    "import matplotlib.pyplot as plt\n",
    "import numpy as np\n",
    "h_0_ = [100, 200 ,300, 500, 800]\n",
    "k_h_ = [ 1, 0.85, 0.75, 0.7, 0.7 ]\n",
    "plt.plot(h_0_, k_h_)\n",
    "h_0 = 10000\n",
    "k_h = np.interp(h_0, h_0_, k_h_)\n",
    "k_h"
   ]
  },
  {
   "cell_type": "markdown",
   "metadata": {},
   "source": [
    "$$\\beta_{ds}{(t, t_s)} = \\frac{(t - t_s)}{(t - t_s)+0.04  \\sqrt{h_0^3}}\\hspace{7cm}(3.10)$$"
   ]
  },
  {
   "cell_type": "markdown",
   "metadata": {},
   "source": [
    "$$h_0 = 2A_c/u$$"
   ]
  },
  {
   "cell_type": "markdown",
   "metadata": {},
   "source": [
    "| Symbol | Unit | Description\n",
    "| :-: | :-: | :- |\n",
    "| t | days | is the age of the concrete at the nloment considered |\n",
    "| $t_{s}$ | days | is the age of the concrete at the beginning of drying shrinkage (or swelling). Normally this is at the end of curing. |\n",
    "| $h_0$ | mm | is the notional size of the cross-section|\n",
    "| $$A_c$$ | $$mm^2$$ | is the concrete cross-sectional area|\n",
    "| u | mm | is the perimeter of that part of the cross section which is exposed to drying |"
   ]
  },
  {
   "cell_type": "code",
   "execution_count": 6,
   "metadata": {
    "pycharm": {
     "name": "#%%\n"
    }
   },
   "outputs": [
    {
     "data": {
      "text/plain": [
       "((t - t_s)/(t - t_s + 40000.0), 2*A_c/u)"
      ]
     },
     "execution_count": 6,
     "metadata": {},
     "output_type": "execute_result"
    }
   ],
   "source": [
    "beta_ds_t_t_s = (t - t_s) / ((t - t_s) + 0.04 * h_0 ** (3/2))\n",
    "h_0 = 2 * A_c / u\n",
    "beta_ds_t_t_s, h_0"
   ]
  },
  {
   "cell_type": "markdown",
   "metadata": {},
   "source": [
    "### B.2 Basic equations for determining the drying shrinkage strain\n"
   ]
  },
  {
   "cell_type": "markdown",
   "metadata": {},
   "source": [
    "$$\\varepsilon_{cd,0} = 0.85 \\left[ (220 + 110 . \\alpha_{ds1}).exp \\left(-\\alpha_{ds2} .\\frac{f_{cm}}{f_{cmo}}\\right)         \\right] . 10^{-6} . \\beta_{RH}\\hspace{7cm}(B.11)$$"
   ]
  },
  {
   "cell_type": "markdown",
   "metadata": {},
   "source": [
    "$$\\beta_{RH} = 1.55\\left[1-\\left(\\frac{RH}{RH_0}\\right)^3\\right]\\hspace{13.5cm}(B.12)$$"
   ]
  },
  {
   "cell_type": "markdown",
   "metadata": {},
   "source": [
    "| Symbol | Unit | Description\n",
    "| :-: | :-: | :- |\n",
    "| $f_{cm}$ | MPa | is the mean compressive strength |\n",
    "| $f_{cmo}$ | Mpa | 10 |\n",
    "| $\\alpha_{ds1}$ | - | is a coefficient which depends on the type of cement (see 3.1.2 (6));3 for S, 4 for N, 6 for R|\n",
    "| $\\alpha_{ds2}$ | - | is a coefficient which depends on the type of cement; 0,13 for S, 0,12 for N, 0,11 for R|\n",
    "| RH | % | is the ambient relative humidity |\n",
    "| RH0 | % | 100 |"
   ]
  },
  {
   "cell_type": "code",
   "execution_count": 7,
   "metadata": {
    "pycharm": {
     "name": "#%%\n"
    }
   },
   "outputs": [
    {
     "data": {
      "text/plain": [
       "(8.5e-7*\\beta_{RH}*(110*\\alpha_{ds1} + 220)*exp(-\\alpha_{ds2}*f_{cm}/f_{cmo}),\n",
       " -1.55*RH**3/RH_0**3 + 1.55)"
      ]
     },
     "execution_count": 7,
     "metadata": {},
     "output_type": "execute_result"
    }
   ],
   "source": [
    "eps_cd0 = 0.85 * ((220 + 110 * alpha_ds1) * sp.exp(-alpha_ds2 * f_cm / f_cmo)) * 1e-6 * beta_RH\n",
    "beta_RH = 1.55 * (1 - (RH/RH_0)**3)\n",
    "eps_cd0, beta_RH"
   ]
  },
  {
   "cell_type": "markdown",
   "metadata": {},
   "source": [
    "#### The autogenous shrinkage strain follows from:\n"
   ]
  },
  {
   "cell_type": "markdown",
   "metadata": {},
   "source": [
    " $$\\varepsilon_{ca}(t) = \\beta_{as}(t)\\varepsilon_{ca}(\\infty) \\hspace{10cm}(3.11)$$               "
   ]
  },
  {
   "cell_type": "markdown",
   "metadata": {},
   "source": [
    "$$\\varepsilon_{ca}(\\infty) = 2.5 (f_{ck} - 10)10^{-6}\\hspace{10cm}(3.12)$$"
   ]
  },
  {
   "cell_type": "markdown",
   "metadata": {
    "pycharm": {
     "name": "#%% md\n"
    }
   },
   "source": [
    "$$\\beta_{as}(t) = 1 - exp(-0.2t^{0.5})\\hspace{10cm}(3.13)$$"
   ]
  },
  {
   "cell_type": "markdown",
   "metadata": {
    "pycharm": {
     "name": "#%% md\n"
    }
   },
   "source": [
    "| Symbol | Unit | Description\n",
    "| :-: | :-: | :- |\n",
    "| t | days | Time being considered |\n",
    "| $f_{ck}$ | Mpa | Characteristic compressive cylinder strength of concrete at 28 days |"
   ]
  },
  {
   "cell_type": "code",
   "execution_count": 8,
   "metadata": {},
   "outputs": [
    {
     "data": {
      "text/plain": [
       "(\\beta_{as}{(t)}*\\varepsilon_{ca}{(\\infty)},\n",
       " 2.5e-6*f_{ck} - 2.5e-5,\n",
       " 1 - exp(-0.2*t**0.5))"
      ]
     },
     "execution_count": 8,
     "metadata": {},
     "output_type": "execute_result"
    }
   ],
   "source": [
    "eps_ca = beta_as_t * eps_ca_infty\n",
    "eps_ca_infty = 2.5 * (f_ck - 10) * 1e-6\n",
    "beta_as_t = 1 - sp.exp(- 0.2 * t ** 0.5)\n",
    "eps_ca, eps_ca_infty, beta_as_t"
   ]
  },
  {
   "cell_type": "markdown",
   "metadata": {
    "pycharm": {
     "name": "#%% md\n"
    }
   },
   "source": [
    "#### (6) Shrinkage curvatures may be assessed using Expression (7.21):7"
   ]
  },
  {
   "cell_type": "markdown",
   "metadata": {
    "pycharm": {
     "name": "#%% md\n"
    }
   },
   "source": [
    "$$ E_{\\mathrm{c,eff}} = \\frac{E_{cm}}{1 + \\varphi (\\infty,t_0)}\\hspace{10cm}(7.20)$$"
   ]
  },
  {
   "cell_type": "markdown",
   "metadata": {
    "pycharm": {
     "name": "#%% md\n"
    }
   },
   "source": [
    "$$ \\frac{1}{r_{cs}} = \\varepsilon_{cs} \\alpha_e \\frac{S}{I} \\hspace{10cm}(7.21)$$"
   ]
  },
  {
   "cell_type": "markdown",
   "metadata": {
    "pycharm": {
     "name": "#%% md\n"
    }
   },
   "source": [
    "$$\\alpha_e = E_s / E_{\\mathrm{c,eff}}$$"
   ]
  },
  {
   "cell_type": "markdown",
   "metadata": {},
   "source": [
    "| Symbol | Unit | Description\n",
    "| :-: | :-: | :- |\n",
    "| $E_{\\mathrm{c,eff}}$ | - | is the effective modulus of elasticity of concrete |\n",
    "| $E_{cm}$ | - | is the secant modulus of elasticity of concrete |\n",
    "| $\\varphi$ | - | is the final creep coefficient |\n",
    "| $1/r_{cs}$ | - | is the curvature due to shrinkage |\n",
    "| $\\varepsilon_{cs}$ | - | is the free shrinkage strain (see 3.1.4) |\n",
    "| S | - | is the first moment of area of the reinforcement about the centroid of the section|\n",
    "| I | - | is the second moment of area of the section|\n",
    "| $\\alpha_e$ | % |is the effective modular ratio |\n"
   ]
  },
  {
   "cell_type": "code",
   "execution_count": 9,
   "metadata": {
    "pycharm": {
     "name": "#%%\n"
    }
   },
   "outputs": [
    {
     "data": {
      "text/plain": [
       "(E_{cm}/(\\varphi + 1),\n",
       " E_s*(\\varphi + 1)/E_{cm},\n",
       " E_s*S*(\\varepsilon_{ca} + \\varepsilon_{cd})*(\\varphi + 1)/(E_{cm}*I))"
      ]
     },
     "execution_count": 9,
     "metadata": {},
     "output_type": "execute_result"
    }
   ],
   "source": [
    "E_c_eff = E_cm / (1 + phi)\n",
    "alpha_e = E_s / E_c_eff\n",
    "kappa_cs = eps_cs * alpha_e * S / I\n",
    "E_c_eff, alpha_e, kappa_cs"
   ]
  },
  {
   "cell_type": "code",
   "execution_count": 10,
   "metadata": {},
   "outputs": [],
   "source": [
    "def get_kappa_shrinkage():\n",
    "    \n",
    "    f_ck = 20\n",
    "    t = 125\n",
    "    t_s = 10\n",
    "    alpha_ds1 = .2\n",
    "    alpha_ds2 = .35\n",
    "    RH = 40\n",
    "    RH_0 = 100\n",
    "    f_cm = 20\n",
    "    f_cmo = 10\n",
    "    phi = 2.5 # where is the formula!\n",
    "    E_s = 200000\n",
    "    E_cm = 35000\n",
    "    S = 100\n",
    "    I = 100\n",
    "    A_c = 10000\n",
    "    u = 75\n",
    "       \n",
    "    eps_ca_infty = 2.5 * (f_ck - 10) * 1e-6    \n",
    "    beta_as_t = 1 - sp.exp(- 0.2 * t ** 0.5)\n",
    "    eps_ca = beta_as_t * eps_ca_infty\n",
    "    \n",
    "    beta_RH = 1.55 * (1 - (RH/RH_0)**3)\n",
    "    h_0 = 2 * A_c / u\n",
    "    beta_ds_t_t_s = (t - t_s) / ((t - t_s) + 0.04 * h_0 ** (3/2))\n",
    "    h_0_ = [100, 200 ,300, 500, 800]\n",
    "    k_h_ = [1, 0.85, 0.75, 0.7, 0.7]\n",
    "    k_h = np.interp(h_0, h_0_, k_h_)\n",
    "    eps_cd0 = 0.85 * ((220 + 110 * alpha_ds1) * sp.exp(-alpha_ds2 * f_cm / f_cmo)) * 1e-6 * beta_RH    \n",
    "    eps_cd = beta_ds_t_t_s * k_h * eps_cd0   \n",
    "    \n",
    "    eps_cs = eps_cd + eps_ca\n",
    "    \n",
    "    E_c_eff = E_cm / (1 + phi)\n",
    "    alpha_e = E_s / E_c_eff\n",
    "    kappa_cs = eps_cs * alpha_e * S / I\n",
    "\n",
    "    return kappa_cs"
   ]
  },
  {
   "cell_type": "code",
   "execution_count": 11,
   "metadata": {
    "pycharm": {
     "name": "#%%\n"
    }
   },
   "outputs": [
    {
     "data": {
      "text/latex": [
       "$\\displaystyle 0.00136984007382824$"
      ],
      "text/plain": [
       "0.00136984007382824"
      ]
     },
     "execution_count": 11,
     "metadata": {},
     "output_type": "execute_result"
    }
   ],
   "source": [
    "get_kappa_shrinkage()"
   ]
  },
  {
   "cell_type": "markdown",
   "metadata": {},
   "source": [
    "### Shrinkage curvature calculation based on DAfStb Unterausschuss Nichtmetallische Bewehrung - Herleitung von Biegeschlankheitskriterien\n",
    "Vorbemerkung: Die nachfolgenden Ergebnisse stammen aus:\n",
    "El Ghadioui, Redouan: „Bemessung carbonbewehrter Betonbauteile unter besonderer Betrachtung des\n",
    "Gebrauchszustandes - Entwicklung eines Modells zur wirklichkeitsnahen Verformungsberechnung“,\n",
    "Technische Universität Darmstadt, Dissertation, 2020"
   ]
  },
  {
   "cell_type": "markdown",
   "metadata": {
    "pycharm": {
     "name": "#%% md\n"
    }
   },
   "source": [
    "$$ E_{c,eff} = \\frac{E_{cm}}{1 + \\varphi_{eq} (\\infty,t_0)}$$"
   ]
  },
  {
   "cell_type": "code",
   "execution_count": 12,
   "metadata": {
    "pycharm": {
     "name": "#%%\n"
    }
   },
   "outputs": [
    {
     "data": {
      "text/plain": [
       "13461.538461538461"
      ]
     },
     "execution_count": 12,
     "metadata": {},
     "output_type": "execute_result"
    }
   ],
   "source": [
    "E_cm = 35000; phi_eq = 1.6\n",
    "E_c_eff = E_cm / (1 + phi_eq)\n",
    "E_c_eff"
   ]
  },
  {
   "cell_type": "markdown",
   "metadata": {
    "pycharm": {
     "name": "#%% md\n"
    }
   },
   "source": [
    "$$h_0 = 2A_c/u$$"
   ]
  },
  {
   "cell_type": "code",
   "execution_count": 32,
   "metadata": {
    "pycharm": {
     "name": "#%%\n"
    }
   },
   "outputs": [],
   "source": [
    "A_c = 1000 * 300\n",
    "u = 2 * 1300\n",
    "h_0 = 2 * A_c / u"
   ]
  },
  {
   "cell_type": "markdown",
   "metadata": {},
   "source": [
    "$$\\alpha_1 = \\left[\\frac{35}{f_{cm}} \\right]^{0.7} \\hspace{1cm} \\alpha_2 = \\left[\\frac{35}{f_{cm}} \\right]^{0.2} \\hspace{1cm} \\alpha_3 = \\left[\\frac{35}{f_{cm}} \\right]^{0.5} $$"
   ]
  },
  {
   "cell_type": "code",
   "execution_count": 33,
   "metadata": {},
   "outputs": [
    {
     "data": {
      "text/plain": [
       "(1.1139424459794183, 1.031310306477545, 1.0801234497346435)"
      ]
     },
     "execution_count": 33,
     "metadata": {},
     "output_type": "execute_result"
    }
   ],
   "source": [
    "f_cm = 30\n",
    "alpha1 = (35/f_cm)**0.7\n",
    "alpha2 = (35/f_cm)**0.2\n",
    "alpha3 = (35/f_cm)**0.5\n",
    "alpha1, alpha2, alpha3"
   ]
  },
  {
   "cell_type": "markdown",
   "metadata": {},
   "source": [
    "$$ \\varphi_{RH} = 1 + \\frac{1 - RH/100}{0.1 . \\sqrt[3]{h_0}} \\hspace{2cm} for f_{cm} \\leq 35 MPa$$"
   ]
  },
  {
   "cell_type": "markdown",
   "metadata": {
    "pycharm": {
     "name": "#%% md\n"
    }
   },
   "source": [
    "$$ \\varphi_{RH} = \\left[1 + \\frac{1 - RH/100}{0.1 . \\sqrt[3]{h_0}} . \\alpha_1\\right] . \\alpha_2 \\hspace{2cm} for f_{cm} > 35 MPa$$"
   ]
  },
  {
   "cell_type": "code",
   "execution_count": 34,
   "metadata": {
    "pycharm": {
     "name": "#%%\n"
    }
   },
   "outputs": [
    {
     "data": {
      "text/latex": [
       "$\\displaystyle 1.48909732465087$"
      ],
      "text/plain": [
       "1.48909732465087"
      ]
     },
     "execution_count": 34,
     "metadata": {},
     "output_type": "execute_result"
    }
   ],
   "source": [
    "RH = 70\n",
    "phi_RH = sp.Piecewise((1 + (1-RH/100)/(0.1 * h_0**(1/3)), f_cm <= 35),\n",
    "                      ((1 + ((1-RH/100)/(0.1 * h_0**(1/3))) * alpha1) * alpha2, f_cm > 35))\n",
    "phi_RH"
   ]
  },
  {
   "cell_type": "markdown",
   "metadata": {
    "pycharm": {
     "name": "#%% md\n"
    }
   },
   "source": [
    "$$ \\beta{(f_{cm})} = \\frac{16.8}{\\sqrt{f_{cm}}} $$"
   ]
  },
  {
   "cell_type": "code",
   "execution_count": 35,
   "metadata": {},
   "outputs": [
    {
     "data": {
      "text/plain": [
       "3.0672463220289305"
      ]
     },
     "execution_count": 35,
     "metadata": {},
     "output_type": "execute_result"
    }
   ],
   "source": [
    "beta_fcm = 16.8 / f_cm**0.5\n",
    "beta_fcm"
   ]
  },
  {
   "cell_type": "markdown",
   "metadata": {},
   "source": [
    "$$ \\beta{(t_{0})} = \\frac{1}{0.1 + t_0^{0.20}} $$"
   ]
  },
  {
   "cell_type": "code",
   "execution_count": 36,
   "metadata": {
    "pycharm": {
     "name": "#%%\n"
    }
   },
   "outputs": [],
   "source": [
    "t_s = 3\n",
    "t = 100000000\n",
    "t_0 = 10\n",
    "t_1 = 60\n",
    "t_3 = 365"
   ]
  },
  {
   "cell_type": "code",
   "execution_count": 37,
   "metadata": {},
   "outputs": [
    {
     "data": {
      "text/plain": [
       "0.593509431027676"
      ]
     },
     "execution_count": 37,
     "metadata": {},
     "output_type": "execute_result"
    }
   ],
   "source": [
    "beta_t0 = 1 / (0.1 + t_0**0.20)\n",
    "beta_t0"
   ]
  },
  {
   "cell_type": "markdown",
   "metadata": {},
   "source": [
    "$$ \\beta_H = 1.5 [ 1 + (0.012 RH)^{18}] h_0 + 250 \\leq 1500 \\hspace{2cm} for f_{cm} \\leq 35 $$"
   ]
  },
  {
   "cell_type": "markdown",
   "metadata": {},
   "source": [
    "$$ \\beta_H = 1.5 [ 1 + (0.012 RH)^{18}] h_0 + 250 \\alpha_3 \\leq 1500 \\alpha_3 \\hspace{2cm} for f_{cm} \\leq 35 $$"
   ]
  },
  {
   "cell_type": "code",
   "execution_count": 38,
   "metadata": {},
   "outputs": [
    {
     "data": {
      "text/latex": [
       "$\\displaystyle 20229974.8400678$"
      ],
      "text/plain": [
       "20229974.8400678"
      ]
     },
     "execution_count": 38,
     "metadata": {},
     "output_type": "execute_result"
    }
   ],
   "source": [
    "beta_H = sp.Piecewise((1.5*(1 + 0.012*RH)**18 * h_0 + 250, f_cm <=35),\n",
    "                     (1.5*(1 + 0.012*RH)**18 * h_0 + 250 * alpha3, f_cm > 35))\n",
    "beta_H"
   ]
  },
  {
   "cell_type": "markdown",
   "metadata": {
    "pycharm": {
     "name": "#%% md\n"
    }
   },
   "source": [
    "$$ \\beta_c (t,t_0) = \\left[ \\frac{(t - t_0)}{(\\beta_H + t - t_0)} \\right]^{0.3} $$"
   ]
  },
  {
   "cell_type": "markdown",
   "metadata": {},
   "source": [
    "$$ \\varphi_0 = \\varphi_{RH} . \\beta{(f_{cm})} . \\beta{(t_{0})} $$"
   ]
  },
  {
   "cell_type": "code",
   "execution_count": 20,
   "metadata": {
    "pycharm": {
     "name": "#%%\n"
    }
   },
   "outputs": [
    {
     "data": {
      "text/latex": [
       "$\\displaystyle 2.66891899349227$"
      ],
      "text/plain": [
       "2.66891899349227"
      ]
     },
     "execution_count": 20,
     "metadata": {},
     "output_type": "execute_result"
    }
   ],
   "source": [
    "phi_0 = phi_RH * beta_fcm * beta_t0\n",
    "phi_0"
   ]
  },
  {
   "cell_type": "code",
   "execution_count": 21,
   "metadata": {},
   "outputs": [
    {
     "data": {
      "text/latex": [
       "$\\displaystyle 0.938922885733641$"
      ],
      "text/plain": [
       "0.938922885733641"
      ]
     },
     "execution_count": 21,
     "metadata": {},
     "output_type": "execute_result"
    }
   ],
   "source": [
    "beta_ctt0 = ((t-t_0)/(beta_H + t - t_0))** 0.3\n",
    "beta_ctt0"
   ]
  },
  {
   "cell_type": "markdown",
   "metadata": {},
   "source": [
    "ANNEX B (Informative)\n",
    "Creep and shrinkage strain\n",
    "B.1 Basic equations for determining the creep coefficient\n",
    "(1) The creep coefficient qJ(t,ta} may be calculated from:"
   ]
  },
  {
   "cell_type": "markdown",
   "metadata": {
    "pycharm": {
     "name": "#%% md\n"
    }
   },
   "source": [
    "$$ \\varphi(t,t_0) = \\varphi_0 . \\beta_c (t,t_0) $$"
   ]
  },
  {
   "cell_type": "code",
   "execution_count": 22,
   "metadata": {},
   "outputs": [
    {
     "data": {
      "text/latex": [
       "$\\displaystyle 2.50590912315908$"
      ],
      "text/plain": [
       "2.50590912315908"
      ]
     },
     "execution_count": 22,
     "metadata": {},
     "output_type": "execute_result"
    }
   ],
   "source": [
    "phi_tt0 = phi_0 * beta_ctt0\n",
    "phi_tt0"
   ]
  },
  {
   "cell_type": "markdown",
   "metadata": {
    "pycharm": {
     "name": "#%% md\n"
    }
   },
   "source": [
    "- Beanspruchungen\n",
    "\n",
    "Eigenlast gk 36 % der gesamten charakteristischen Last pk\n",
    "\n",
    "Ausbaulast Δgk 24 % der gesamten charakterischen Last pk\n",
    "\n",
    "Nutzlast ψ2 ∙ qk 0,3 ∙ 40 % der gesamten charakteristischen Last pk\n",
    "\n",
    "Bemessungslast GZT 1,35 ∙ (36 % + 24 %) + 1,5 ∙ 40 % = 141 %\n",
    "\n",
    "Quasi-ständige Last GZG 36 % + 24 % + 0,3 ∙ 40 % = 72 %\n",
    "\n",
    "Verhältnis GZG / GZT 72 / 141 = 51 %\n",
    "- Relative Luftfeuchtigkeit\n",
    "RH = 70 %\n",
    "- Zeitpunkte\n",
    "Dauer der Nachbehandlung: ts = 3 Tage\n",
    "\n",
    "Eigenlast gk: t0 = 10 Tage\n",
    "\n",
    "Ausbaulast Δgk: t1 = 60 Tage\n",
    "\n",
    "Nutzlasten qk+Δqk: t2 = 365 Tage"
   ]
  },
  {
   "cell_type": "markdown",
   "metadata": {
    "pycharm": {
     "name": "#%% md\n"
    }
   },
   "source": [
    "$$ \\varphi_{eq}(\\infty,t_0) = \\frac{\\varphi(\\infty,t_0).g_k +\\varphi(\\infty,t_1).\\Delta g_k + \\varphi(\\infty,t_2) . \\sum {\\psi_{2,i}} . q_{k,i}} {g_k + \\Delta g_k + \\sum {\\psi_{2,i}} . q_{k,i} }$$"
   ]
  },
  {
   "cell_type": "code",
   "execution_count": 39,
   "metadata": {},
   "outputs": [
    {
     "data": {
      "image/png": "[encoded data removed]",
      "text/plain": [
       "<Figure size 432x288 with 1 Axes>"
      ]
     },
     "metadata": {
      "needs_background": "light"
     },
     "output_type": "display_data"
    }
   ],
   "source": [
    "phi_eq = (0, .5, 1, 1.5 , 2, 2.5, 3)\n",
    "E_c_eff = E_cm / (np.ones_like(phi_eq) + phi_eq)\n",
    "\n",
    "import matplotlib.pyplot as plt \n",
    "plt.plot(E_c_eff, phi_eq)\n",
    "plt.xlabel('Ecm')\n",
    "plt.ylabel('phi_eq')\n",
    "plt.show()"
   ]
  },
  {
   "cell_type": "code",
   "execution_count": 40,
   "metadata": {},
   "outputs": [
    {
     "data": {
      "text/plain": [
       "1.6666666666666667"
      ]
     },
     "execution_count": 40,
     "metadata": {},
     "output_type": "execute_result"
    }
   ],
   "source": [
    "phi_t0 = 1 \n",
    "phi_t1 = 2\n",
    "phi_t2 = 3\n",
    "\n",
    "g_k = 0.36\n",
    "Delta_gk = 0.24\n",
    "psi_2i = 0.3\n",
    "q_ki = 0.40\n",
    "E_cm = 35000\n",
    "phi_eq = (phi_t0 * g_k + phi_t1 * Delta_gk + phi_t2* psi_2i * q_ki) / (g_k + Delta_gk + psi_2i * q_ki)\n",
    "E_c_eff = E_cm / (1 + phi_eq)\n",
    "phi_eq"
   ]
  },
  {
   "cell_type": "code",
   "execution_count": 25,
   "metadata": {},
   "outputs": [],
   "source": [
    "eta = 0.51 # = GZG / GZT"
   ]
  },
  {
   "cell_type": "code",
   "execution_count": 50,
   "metadata": {
    "pycharm": {
     "name": "#%%\n"
    }
   },
   "outputs": [
    {
     "data": {
      "text/plain": [
       "2.4307243558580458e-08"
      ]
     },
     "execution_count": 50,
     "metadata": {},
     "output_type": "execute_result"
    }
   ],
   "source": [
    "L = 6000\n",
    "f_ck = 30\n",
    "f_cd = 0.85 * f_cm / 1.5\n",
    "M_Ed = 20\n",
    "b = 1000\n",
    "h = 300\n",
    "d_2 = 80 #cover\n",
    "d = h - d_2\n",
    "mu_Ed = M_Ed / (b*d**2*f_cd)\n",
    "mu_Ed"
   ]
  },
  {
   "cell_type": "code",
   "execution_count": 51,
   "metadata": {},
   "outputs": [
    {
     "data": {
      "text/plain": [
       "0.37876571900826445"
      ]
     },
     "execution_count": 51,
     "metadata": {},
     "output_type": "execute_result"
    }
   ],
   "source": [
    "eps_fud = 2\n",
    "mu_Ed_bal = 0.8095 * 3.5 / (3.5 + eps_fud) * (1 - 0.416 * 3.5 / (3.5 + eps_fud))\n",
    "mu_Ed_bal"
   ]
  },
  {
   "cell_type": "code",
   "execution_count": null,
   "outputs": [],
   "source": [
    "A_sf1 = 5.02 * 100 \n",
    "A_sf2 = 5.02 * 100\n",
    "E_sf = 200000\n",
    "rho_1I = A_sf1 / (b * h)\n",
    "rho_2I = A_sf2 / (b * h)\n",
    "alpha_e = E_sf / E_c_eff\n",
    "B_I = (alpha_e - 1) * (rho_1I + rho_2I)\n",
    "A_I = B_I/h * (d + d_2)\n",
    "k_xI = (0.5 + A_I)/(1 + B_I)\n",
    "x_I = k_xI * h\n",
    "z_sf1 = d - x_I\n",
    "z_sf2 = d - d_2 - z_sf1\n",
    "\n",
    "k_I = 1 + 12 * ( 0.5 - k_xI)**2\\\n",
    "    + 12 * (alpha_e - 1) * rho_1I * (d/h - k_xI)**2\\\n",
    "    + 12 * (alpha_e - 1) * rho_1I * A_sf2/A_sf1 * (k_xI - d_2/h)**2\n",
    "I_I = k_I * b * h**3 / 12\n",
    "\n",
    "S_I = A_sf1 * z_sf1 + A_sf2 * z_sf2 # z_sf2 < 0"
   ],
   "metadata": {
    "collapsed": false,
    "pycharm": {
     "name": "#%%\n"
    }
   }
  },
  {
   "cell_type": "code",
   "execution_count": null,
   "outputs": [],
   "source": [
    "import numpy as np \n",
    "\n",
    "rho_1II = A_sf1 / (b * h)\n",
    "rho_2II = A_sf2 / (b * h)\n",
    "alpha_e = E_sf / E_c_eff\n",
    "A_II = alpha_e * (rho_1II + rho_2II)\n",
    "k_xII = -A_II + np.sqrt(A_II ** 2 + 2 * alpha_e * (rho_1II + rho_2II * d_2 / d))\n",
    "x_II = k_xII * d\n",
    "z_sf1 = d - x_II\n",
    "z_sf2 = d - d_2 - z_sf1\n",
    "\n",
    "k_II = 4 * k_xII**3\\\n",
    "    + 12 * alpha_e * rho_1II * (1 - k_xII)**2\\\n",
    "    + 12 * alpha_e * rho_1II * A_sf2/A_sf1 * (k_xII - d_2/d)**2\n",
    "I_II = k_II * b * d**3 / 12\n",
    "\n",
    "S_II = A_sf1 * z_sf1 + A_sf2 * z_sf2 # z_sf2 < 0"
   ],
   "metadata": {
    "collapsed": false,
    "pycharm": {
     "name": "#%%\n"
    }
   }
  },
  {
   "cell_type": "markdown",
   "source": [
    "$$ \\frac{w_m}{L} = \\frac{5}{4} . \\frac{\\eta . \\mu_{Ed} . f_{cd}}{E_{c,eff}} . \\frac{L}{d} .\\left( \\frac{\\xi}{k_{\\mathrm{II}}} + \\frac{(1-\\xi)}{k_{\\mathrm{I}} . (h/d)^3} \\right) + Schwinden $$"
   ],
   "metadata": {
    "collapsed": false
   }
  },
  {
   "cell_type": "code",
   "execution_count": null,
   "outputs": [],
   "source": [
    "M_Ed = 100e6\n",
    "import sympy as sp\n",
    "f_ctm = sp.Piecewise(\n",
    "                                (0.3*f_ck**(2/3), f_ck < 50),\n",
    "                                ((2.12*np.log((1+(f_ck+8)/10))), f_ck >= 50)\n",
    "            )\n",
    "M_cr = f_ctm * I_I / x_I \n",
    "beta = 1 # one-time, short-term stressing; = 0.5 for permanent, repeated stressing\n",
    "xi = 1 - beta * (M_cr / M_Ed) **2\n",
    "w_m = (5/4) * (eta * mu_Ed * f_cd / E_c_eff) * (L / d) * (xi/k_II + (1-xi) / (k_I * (h/d)**3)) * L\n",
    "M_cr, M_Ed, w_m"
   ],
   "metadata": {
    "collapsed": false,
    "pycharm": {
     "name": "#%%\n"
    }
   }
  },
  {
   "cell_type": "code",
   "execution_count": null,
   "outputs": [],
   "source": [],
   "metadata": {
    "collapsed": false,
    "pycharm": {
     "name": "#%%\n"
    }
   }
  },
  {
   "cell_type": "code",
   "execution_count": 52,
   "metadata": {},
   "outputs": [],
   "source": []
  },
  {
   "cell_type": "code",
   "execution_count": 53,
   "metadata": {},
   "outputs": [],
   "source": [
    "import numpy as np \n",
    "\n",
    "rho_1II = A_sf1 / (b * h)\n",
    "rho_2II = A_sf2 / (b * h)\n",
    "alpha_e = E_sf / E_c_eff\n",
    "A_II = alpha_e * (rho_1II + rho_2II)\n",
    "k_xII = -A_II + np.sqrt(A_II ** 2 + 2 * alpha_e * (rho_1II + rho_2II * d_2 / d))\n",
    "x_II = k_xII * d\n",
    "z_sf1 = d - x_II\n",
    "z_sf2 = d - d_2 - z_sf1\n",
    "\n",
    "k_II = 4 * k_xII**3\\\n",
    "    + 12 * alpha_e * rho_1II * (1 - k_xII)**2\\\n",
    "    + 12 * alpha_e * rho_1II * A_sf2/A_sf1 * (k_xII - d_2/d)**2\n",
    "I_II = k_II * b * d**3 / 12\n",
    "\n",
    "S_II = A_sf1 * z_sf1 + A_sf2 * z_sf2 # z_sf2 < 0"
   ]
  },
  {
   "cell_type": "markdown",
   "metadata": {},
   "source": [
    "$$ \\frac{w_m}{L} = \\frac{5}{4} . \\frac{\\eta . \\mu_{Ed} . f_{cd}}{E_{c,eff}} . \\frac{L}{d} .\\left( \\frac{\\xi}{k_{\\mathrm{II}}} + \\frac{(1-\\xi)}{k_{\\mathrm{I}} . (h/d)^3} \\right) + Schwinden $$"
   ]
  },
  {
   "cell_type": "code",
   "execution_count": 58,
   "metadata": {},
   "outputs": [
    {
     "data": {
      "text/plain": [
       "(43120815.0779654, 100000000.0, 1.16070812063613e-5)"
      ]
     },
     "execution_count": 58,
     "metadata": {},
     "output_type": "execute_result"
    }
   ],
   "source": [
    "M_Ed = 100e6\n",
    "import sympy as sp\n",
    "f_ctm = sp.Piecewise(\n",
    "                                (0.3*f_ck**(2/3), f_ck < 50),\n",
    "                                ((2.12*np.log((1+(f_ck+8)/10))), f_ck >= 50)\n",
    "            )\n",
    "M_cr = f_ctm * I_I / x_I \n",
    "beta = 1 # one-time, short-term stressing; = 0.5 for permanent, repeated stressing\n",
    "xi = 1 - beta * (M_cr / M_Ed) **2\n",
    "w_m = (5/4) * (eta * mu_Ed * f_cd / E_c_eff) * (L / d) * (xi/k_II + (1-xi) / (k_I * (h/d)**3)) * L\n",
    "M_cr, M_Ed, w_m"
   ]
  },
  {
   "cell_type": "code",
   "execution_count": null,
   "metadata": {},
   "outputs": [],
   "source": []
  }
 ],
 "metadata": {
  "kernelspec": {
   "display_name": "Python 3",
   "language": "python",
   "name": "python3"
  },
  "language_info": {
   "codemirror_mode": {
    "name": "ipython",
    "version": 3
   },
   "file_extension": ".py",
   "mimetype": "text/x-python",
   "name": "python",
   "nbconvert_exporter": "python",
   "pygments_lexer": "ipython3",
   "version": "3.7.9"
  }
 },
 "nbformat": 4,
 "nbformat_minor": 4
}