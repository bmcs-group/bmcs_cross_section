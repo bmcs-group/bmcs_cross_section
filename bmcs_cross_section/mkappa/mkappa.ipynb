{
 "cells": [
  {
   "cell_type": "code",
   "execution_count": null,
   "metadata": {},
   "outputs": [],
   "source": [
    "%matplotlib widget"
   ]
  },
  {
   "cell_type": "code",
   "execution_count": null,
   "metadata": {
    "pycharm": {
     "name": "#%%\n"
    }
   },
   "outputs": [],
   "source": [
    "from bmcs_cross_section.mkappa import MKappa\n",
    "from bmcs_utils.api import InteractiveWindow\n",
    "from bmcs_cross_section.cs_design.cs_shape import TShapeCS\n",
    "import matplotlib.pyplot as plt\n",
    "import numpy as np\n",
    "from bmcs_cross_section.mkappa.mkappa_ import \\\n",
    "    MKappaSymbolic as MKappaSymbolic_, ModelData as ModelData_, MKappa as MKappa_\n",
    "import sympy as sp"
   ]
  },
  {
   "cell_type": "code",
   "execution_count": null,
   "metadata": {
    "pycharm": {
     "name": "#%%\n"
    }
   },
   "outputs": [],
   "source": [
    "symb = MKappaSymbolic_()\n",
    "mc_ = MKappa_(idx=25, n_m=10)\n",
    "model_data = ModelData_()\n",
    "\n",
    "# Material parameters [mm], [N/mm2]\n",
    "model_data.h = 666\n",
    "model_data.E_ct = 24000\n",
    "model_data.E_cc = 24000\n",
    "model_data.eps_cr = 0.000125\n",
    "model_data.eps_cy = 0.0010625  # 8.5 * eps_cr_\n",
    "model_data.eps_cu = 0.0035\n",
    "model_data.eps_tu = 0.02\n",
    "model_data.mu = 0.33\n",
    "\n",
    "# 2 layers reinforcement details\n",
    "model_data.A_j = np.array([250, 0])  # A_j[0] for tension steel / A_j[1] for compression steel\n",
    "model_data.z_j = np.array([0.1 * model_data.h, 0.9 * model_data.h])\n",
    "model_data.E_j = np.array([210000, 210000])\n",
    "model_data.eps_sy_j = np.array([0.002, 0.002])\n",
    "\n",
    "# Defining a variable width (T-section as an example)\n",
    "b_w = 50\n",
    "b_f = 500\n",
    "h_w = 0.85 * model_data.h\n",
    "# Beam width b as a function of the height z (the sympy z symbol in MomentCurvatureSymbolic is used)\n",
    "model_data.b = sp.Piecewise((b_w, mc_.mcs.z < h_w), (b_f, mc_.mcs.z >= h_w))\n",
    "\n",
    "mc_.model_data = model_data\n",
    "\n",
    "# If plot_norm is used, use the following:\n",
    "# mc.kappa_range = (0, mc.kappa_cr * 100, 100\n",
    "mc_.kappa_range = (-0.00002, 0.00002, 10)"
   ]
  },
  {
   "cell_type": "code",
   "execution_count": null,
   "metadata": {
    "pycharm": {
     "name": "#%%\n"
    }
   },
   "outputs": [],
   "source": [
    "mc_.kappa_t"
   ]
  },
  {
   "cell_type": "code",
   "execution_count": null,
   "metadata": {
    "pycharm": {
     "name": "#%%\n"
    }
   },
   "outputs": [],
   "source": [
    "mc_.eps_bot_t"
   ]
  },
  {
   "cell_type": "code",
   "execution_count": null,
   "metadata": {
    "pycharm": {
     "name": "#%%\n"
    }
   },
   "outputs": [],
   "source": [
    "mc_.get_N_c_t(mc_.kappa_t, mc_.eps_bot_t)\n"
   ]
  },
  {
   "cell_type": "markdown",
   "metadata": {
    "pycharm": {
     "name": "#%% md\n"
    }
   },
   "source": [
    "# New version"
   ]
  },
  {
   "cell_type": "code",
   "execution_count": null,
   "metadata": {
    "pycharm": {
     "name": "#%%\n"
    }
   },
   "outputs": [],
   "source": [
    "# T-section example\n",
    "H = 666\n",
    "# Defining a variable width (T-section as an example)\n",
    "b_w = 50\n",
    "b_f = 500\n",
    "h_w = 0.85 * H\n",
    "tshape = TShapeCS(H=H, B_w=b_w, B_f=b_f, H_w=h_w)\n",
    "\n",
    "mc = MKappa(n_kappa = 10, n_m = 10)\n",
    "# mc.cross_section_shape = tshape\n",
    "\n",
    "# Material parameters [mm], [N/mm2]\n",
    "mc.E_ct = 24000\n",
    "mc.E_cc = 24000\n",
    "mc.eps_cr = 0.000125\n",
    "mc.eps_cy = 0.0010625  # 8.5 * eps_cr_\n",
    "mc.eps_cu = 0.0035\n",
    "mc.eps_tu = 0.02\n",
    "mc.mu = 0.33\n",
    "\n",
    "# 2 layers reinforcement details\n",
    "mc.A_j = np.array([250, 0])  # A_j[0] for tension steel / A_j[1] for compression steel\n",
    "mc.z_j = np.array([0.1 * mc.H, 0.9 * mc.H])\n",
    "mc.E_j = np.array([210000, 210000])\n",
    "mc.eps_sy_j = np.array([0.002, 0.002])\n",
    "\n",
    "# If plot_norm is used, use the following:\n",
    "# mc.kappa_range = (0, mc.kappa_cr * 100, 100\n",
    "\n",
    "mc.kappa_slider = -0.00001 # corresponds to idx = 25\n",
    "mc.low_kappa = -0.00002\n",
    "mc.high_kappa = 0.00002"
   ]
  },
  {
   "cell_type": "markdown",
   "metadata": {
    "pycharm": {
     "name": "#%% md\n"
    }
   },
   "source": [
    "# Comparison"
   ]
  },
  {
   "cell_type": "code",
   "execution_count": null,
   "metadata": {
    "pycharm": {
     "name": "#%%\n"
    }
   },
   "outputs": [],
   "source": [
    "kappa_t = np.array([0.01])\n",
    "eps_bot_t = np.array([-0.00101662])\n",
    "test = mc.symb.get_sig_c_z(kappa_t[:, np.newaxis], eps_bot_t[:, np.newaxis], mc.z_m[np.newaxis, -3:])\n",
    "test"
   ]
  },
  {
   "cell_type": "code",
   "execution_count": null,
   "metadata": {
    "pycharm": {
     "name": "#%%\n"
    }
   },
   "outputs": [],
   "source": [
    "mc_.kappa_t - mc.kappa_t"
   ]
  },
  {
   "cell_type": "code",
   "execution_count": null,
   "metadata": {
    "pycharm": {
     "name": "#%%\n"
    }
   },
   "outputs": [],
   "source": [
    "mc_.eps_bot_t, mc.eps_bot_t"
   ]
  },
  {
   "cell_type": "code",
   "execution_count": null,
   "metadata": {
    "pycharm": {
     "name": "#%%\n"
    }
   },
   "outputs": [],
   "source": [
    "mc_.get_N_c_t(mc_.kappa_t, mc_.eps_bot_t)"
   ]
  },
  {
   "cell_type": "code",
   "execution_count": null,
   "metadata": {
    "pycharm": {
     "name": "#%%\n"
    }
   },
   "outputs": [],
   "source": [
    "mc.kappa_t"
   ]
  },
  {
   "cell_type": "code",
   "execution_count": null,
   "metadata": {
    "pycharm": {
     "name": "#%%\n"
    }
   },
   "outputs": [],
   "source": [
    "mc.eps_bot_t"
   ]
  },
  {
   "cell_type": "code",
   "execution_count": null,
   "metadata": {
    "pycharm": {
     "name": "#%%\n"
    }
   },
   "outputs": [],
   "source": [
    "kappa_t = mc.kappa_t\n",
    "eps_bot_t = mc.eps_bot_t"
   ]
  },
  {
   "cell_type": "code",
   "execution_count": null,
   "metadata": {
    "pycharm": {
     "name": "#%%\n"
    }
   },
   "outputs": [],
   "source": [
    "z_tm = mc.z_m[np.newaxis, :]\n",
    "z_tm"
   ]
  },
  {
   "cell_type": "code",
   "execution_count": null,
   "metadata": {
    "pycharm": {
     "name": "#%%\n"
    }
   },
   "outputs": [],
   "source": [
    "b_z_m = mc.cross_section_shape.get_b(z_tm)\n",
    "b_z_m"
   ]
  },
  {
   "cell_type": "code",
   "execution_count": null,
   "metadata": {
    "pycharm": {
     "name": "#%%\n"
    }
   },
   "outputs": [],
   "source": [
    "N_z_tm = b_z_m * mc.symb.get_sig_c_z(kappa_t[:, np.newaxis], eps_bot_t[:, np.newaxis], z_tm)\n",
    "N_z_tm"
   ]
  },
  {
   "cell_type": "code",
   "execution_count": null,
   "metadata": {
    "pycharm": {
     "name": "#%%\n"
    }
   },
   "outputs": [],
   "source": [
    "test = mc.symb.get_sig_c_z(kappa_t[:, np.newaxis], eps_bot_t[:, np.newaxis], z_tm)\n",
    "test"
   ]
  },
  {
   "cell_type": "code",
   "execution_count": null,
   "metadata": {
    "pycharm": {
     "name": "#%%\n"
    }
   },
   "outputs": [],
   "source": [
    "np.trapz(N_z_tm, x=z_tm, axis=-1)"
   ]
  },
  {
   "cell_type": "markdown",
   "metadata": {},
   "source": [
    "# Verify and demonstrate the M-k relation"
   ]
  },
  {
   "cell_type": "code",
   "execution_count": null,
   "metadata": {},
   "outputs": [],
   "source": [
    "mc = MKappa(low_kappa=-0.000014, high_kappa=0.00003)\n",
    "bd = mc.beam_design\n",
    "css = bd.cross_section_shape\n",
    "csl = bd.cross_section_layout\n",
    "csl.reinforcement.z_j = [10]\n",
    "InteractiveWindow([mc, bd, mc.matrix, css, csl]).interact()"
   ]
  },
  {
   "cell_type": "code",
   "execution_count": null,
   "metadata": {},
   "outputs": [],
   "source": [
    "import numpy as np\n",
    "import matplotlib.pylab as plt\n",
    "xdata = np.array([0,1,0.9, 0.8, 2])\n",
    "ydata = np.array([0,1,2,3, 4])"
   ]
  },
  {
   "cell_type": "code",
   "execution_count": null,
   "metadata": {
    "pycharm": {
     "name": "#%%\n"
    }
   },
   "outputs": [],
   "source": [
    "plt.plot(xdata, ydata)\n",
    "plt.show()"
   ]
  },
  {
   "cell_type": "code",
   "execution_count": null,
   "metadata": {
    "pycharm": {
     "name": "#%%\n"
    }
   },
   "outputs": [],
   "source": [
    "diffs = xdata[:,np.newaxis] - xdata[np.newaxis,:]\n",
    "diffs"
   ]
  },
  {
   "cell_type": "code",
   "execution_count": null,
   "metadata": {
    "pycharm": {
     "name": "#%%\n"
    }
   },
   "outputs": [],
   "source": [
    "ij = np.mgrid[0:5:1,0:5:1]\n",
    "ij"
   ]
  },
  {
   "cell_type": "code",
   "execution_count": null,
   "metadata": {
    "pycharm": {
     "name": "#%%\n"
    }
   },
   "outputs": [],
   "source": [
    "diffs[np.where(ij[1] >= ij[0])] = 0"
   ]
  },
  {
   "cell_type": "code",
   "execution_count": null,
   "metadata": {
    "pycharm": {
     "name": "#%%\n"
    }
   },
   "outputs": [],
   "source": [
    "diffs"
   ]
  },
  {
   "cell_type": "code",
   "execution_count": null,
   "metadata": {
    "pycharm": {
     "name": "#%%\n"
    }
   },
   "outputs": [],
   "source": [
    "i_x = np.argmin(diffs, axis=1)"
   ]
  },
  {
   "cell_type": "code",
   "execution_count": null,
   "metadata": {
    "pycharm": {
     "name": "#%%\n"
    }
   },
   "outputs": [],
   "source": [
    "xdata[i_x]"
   ]
  },
  {
   "cell_type": "code",
   "execution_count": null,
   "metadata": {
    "pycharm": {
     "name": "#%%\n"
    }
   },
   "outputs": [],
   "source": [
    "plt.plot(xdata[i_x], ydata)\n",
    "plt.show()"
   ]
  },
  {
   "cell_type": "code",
   "execution_count": null,
   "metadata": {
    "pycharm": {
     "name": "#%%\n"
    }
   },
   "outputs": [],
   "source": []
  },
  {
   "cell_type": "code",
   "execution_count": null,
   "metadata": {
    "pycharm": {
     "name": "#%%\n"
    }
   },
   "outputs": [],
   "source": [
    "diffs = xdata[:,np.newaxis] - xdata[np.newaxis,:]\n",
    "diffs"
   ]
  },
  {
   "cell_type": "code",
   "execution_count": null,
   "metadata": {
    "pycharm": {
     "name": "#%%\n"
    }
   },
   "outputs": [],
   "source": [
    "ij = np.mgrid[0:5:1,0:5:1]\n",
    "ij"
   ]
  },
  {
   "cell_type": "code",
   "execution_count": null,
   "metadata": {
    "pycharm": {
     "name": "#%%\n"
    }
   },
   "outputs": [],
   "source": [
    "diffs[np.where(ij[1] >= ij[0])] = 0"
   ]
  },
  {
   "cell_type": "code",
   "execution_count": null,
   "metadata": {
    "pycharm": {
     "name": "#%%\n"
    }
   },
   "outputs": [],
   "source": [
    "diffs"
   ]
  },
  {
   "cell_type": "code",
   "execution_count": null,
   "metadata": {
    "pycharm": {
     "name": "#%%\n"
    }
   },
   "outputs": [],
   "source": [
    "i_x = np.argmin(diffs, axis=1)"
   ]
  },
  {
   "cell_type": "code",
   "execution_count": null,
   "metadata": {
    "pycharm": {
     "name": "#%%\n"
    }
   },
   "outputs": [],
   "source": [
    "xdata[i_x]"
   ]
  },
  {
   "cell_type": "code",
   "execution_count": null,
   "metadata": {
    "pycharm": {
     "name": "#%%\n"
    }
   },
   "outputs": [],
   "source": [
    "plt.plot(xdata[i_x], ydata)\n",
    "plt.show()"
   ]
  },
  {
   "cell_type": "code",
   "execution_count": null,
   "metadata": {},
   "outputs": [],
   "source": []
  },
  {
   "cell_type": "code",
   "execution_count": null,
   "metadata": {},
   "outputs": [],
   "source": [
    "diffs = xdata[:,np.newaxis] - xdata[np.newaxis,:]\n",
    "diffs"
   ]
  },
  {
   "cell_type": "code",
   "execution_count": null,
   "metadata": {},
   "outputs": [],
   "source": [
    "ij = np.mgrid[0:5:1,0:5:1]\n",
    "ij"
   ]
  },
  {
   "cell_type": "code",
   "execution_count": null,
   "metadata": {},
   "outputs": [],
   "source": [
    "diffs[np.where(ij[1] >= ij[0])] = 0"
   ]
  },
  {
   "cell_type": "code",
   "execution_count": null,
   "metadata": {},
   "outputs": [],
   "source": [
    "diffs"
   ]
  },
  {
   "cell_type": "code",
   "execution_count": null,
   "metadata": {},
   "outputs": [],
   "source": [
    "i_x = np.argmin(diffs, axis=1)"
   ]
  },
  {
   "cell_type": "code",
   "execution_count": null,
   "metadata": {},
   "outputs": [],
   "source": [
    "xdata[i_x]"
   ]
  },
  {
   "cell_type": "code",
   "execution_count": null,
   "metadata": {},
   "outputs": [],
   "source": [
    "plt.plot(xdata[i_x], ydata)\n",
    "plt.show()"
   ]
  },
  {
   "cell_type": "code",
   "execution_count": null,
   "metadata": {},
   "outputs": [],
   "source": []
  }
 ],
 "metadata": {
  "kernelspec": {
   "display_name": "bmcs_env",
   "language": "python",
   "name": "bmcs_env"
  },
  "language_info": {
   "codemirror_mode": {
    "name": "ipython",
    "version": 3
   },
   "file_extension": ".py",
   "mimetype": "text/x-python",
   "name": "python",
   "nbconvert_exporter": "python",
   "pygments_lexer": "ipython3",
   "version": "3.9.0"
  },
  "toc": {
   "base_numbering": 1,
   "nav_menu": {},
   "number_sections": true,
   "sideBar": true,
   "skip_h1_title": true,
   "title_cell": "Table of Contents",
   "title_sidebar": "Contents",
   "toc_cell": false,
   "toc_position": {},
   "toc_section_display": true,
   "toc_window_display": false
  }
 },
 "nbformat": 4,
 "nbformat_minor": 1
}
