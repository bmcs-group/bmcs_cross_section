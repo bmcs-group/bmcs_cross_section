{
 "cells": [
  {
   "cell_type": "code",
   "execution_count": 1,
   "metadata": {},
   "outputs": [],
   "source": [
    "%matplotlib widget"
   ]
  },
  {
   "cell_type": "code",
   "execution_count": 2,
   "metadata": {
    "pycharm": {
     "name": "#%%\n"
    }
   },
   "outputs": [],
   "source": [
    "from bmcs_cross_section.mkappa import MKappa\n",
    "from bmcs_utils.api import InteractiveWindow\n",
    "from bmcs_cross_section.cs_design.cs_shape import TShapeCS\n",
    "import matplotlib.pyplot as plt\n",
    "import numpy as np\n",
    "from bmcs_cross_section.mkappa.mkappa_ import \\\n",
    "    MKappaSymbolic as MKappaSymbolic_, ModelData as ModelData_, MKappa as MKappa_\n",
    "import sympy as sp\n",
    "sp.init_printing()"
   ]
  },
  {
   "cell_type": "code",
   "execution_count": 3,
   "metadata": {
    "pycharm": {
     "name": "#%%\n"
    }
   },
   "outputs": [],
   "source": [
    "symb = MKappaSymbolic_()\n",
    "mc_ = MKappa_(idx=25, n_m=10)\n",
    "model_data = ModelData_()\n",
    "\n",
    "# Material parameters [mm], [N/mm2]\n",
    "model_data.h = 666\n",
    "model_data.E_ct = 24000\n",
    "model_data.E_cc = 24000\n",
    "model_data.eps_cr = 0.000125\n",
    "model_data.eps_cy = 0.0010625  # 8.5 * eps_cr_\n",
    "model_data.eps_cu = 0.0035\n",
    "model_data.eps_tu = 0.02\n",
    "model_data.mu = 0.33\n",
    "\n",
    "# 2 layers reinforcement details\n",
    "model_data.A_j = np.array([250, 0])  # A_j[0] for tension steel / A_j[1] for compression steel\n",
    "model_data.z_j = np.array([0.1 * model_data.h, 0.9 * model_data.h])\n",
    "model_data.E_j = np.array([210000, 210000])\n",
    "model_data.eps_sy_j = np.array([0.002, 0.002])\n",
    "\n",
    "# Defining a variable width (T-section as an example)\n",
    "b_w = 50\n",
    "b_f = 500\n",
    "h_w = 0.85 * model_data.h\n",
    "# Beam width b as a function of the height z (the sympy z symbol in MomentCurvatureSymbolic is used)\n",
    "model_data.b = sp.Piecewise((b_w, mc_.mcs.z < h_w), (b_f, mc_.mcs.z >= h_w))\n",
    "\n",
    "mc_.model_data = model_data\n",
    "\n",
    "# If plot_norm is used, use the following:\n",
    "# mc.kappa_range = (0, mc.kappa_cr * 100, 100\n",
    "mc_.kappa_range = (-0.00002, 0.00002, 10)"
   ]
  },
  {
   "cell_type": "code",
   "execution_count": 4,
   "metadata": {
    "pycharm": {
     "name": "#%%\n"
    }
   },
   "outputs": [
    {
     "data": {
      "text/plain": "array([-2.00000000e-05, -1.55555556e-05, -1.11111111e-05, -6.66666667e-06,\n       -2.22222222e-06,  2.22222222e-06,  6.66666667e-06,  1.11111111e-05,\n        1.55555556e-05,  2.00000000e-05])"
     },
     "execution_count": 4,
     "metadata": {},
     "output_type": "execute_result"
    }
   ],
   "source": [
    "mc_.kappa_t"
   ]
  },
  {
   "cell_type": "code",
   "execution_count": 5,
   "metadata": {
    "pycharm": {
     "name": "#%%\n"
    }
   },
   "outputs": [
    {
     "name": "stdout",
     "output_type": "stream",
     "text": [
      "Piecewise((0, kappa*z - varepsilon_bot > -0.0035), (25.5, kappa*z - varepsilon_bot > -0.0010625), (-24000.0*kappa*z + 24000.0*varepsilon_bot, (kappa*z - varepsilon_bot > -0.000125) | (kappa*z - varepsilon_bot > 0)), (0.99, kappa*z - varepsilon_bot > -0.02), (0, True))\n"
     ]
    },
    {
     "data": {
      "text/plain": "array([-0.00258789, -0.00225556, -0.00185634, -0.00079286, -0.000148  ,\n        0.000148  ,  0.000444  ,  0.00074   ,  0.001036  ,  0.001332  ])"
     },
     "execution_count": 5,
     "metadata": {},
     "output_type": "execute_result"
    }
   ],
   "source": [
    "mc_.eps_bot_t"
   ]
  },
  {
   "cell_type": "code",
   "execution_count": 6,
   "metadata": {
    "pycharm": {
     "name": "#%%\n"
    }
   },
   "outputs": [
    {
     "data": {
      "text/plain": "array([65934., 62271., 58608., 18315.,     0.,     0.,     0.,     0.,\n           0.,     0.])"
     },
     "execution_count": 6,
     "metadata": {},
     "output_type": "execute_result"
    }
   ],
   "source": [
    "mc_.get_N_c_t(mc_.kappa_t, mc_.eps_bot_t)\n"
   ]
  },
  {
   "cell_type": "markdown",
   "metadata": {
    "pycharm": {
     "name": "#%% md\n"
    }
   },
   "source": [
    "# New version"
   ]
  },
  {
   "cell_type": "code",
   "execution_count": 7,
   "metadata": {
    "pycharm": {
     "name": "#%%\n"
    }
   },
   "outputs": [],
   "source": [
    "# T-section example\n",
    "H = 666\n",
    "# Defining a variable width (T-section as an example)\n",
    "b_w = 50\n",
    "b_f = 500\n",
    "h_w = 0.85 * H\n",
    "tshape = TShapeCS(H=H, B_w=b_w, B_f=b_f, H_w=h_w)\n",
    "\n",
    "mc = MKappa(n_kappa = 10, n_m = 10)\n",
    "mc.cross_section_shape = tshape\n",
    "\n",
    "# Material parameters [mm], [N/mm2]\n",
    "mc.E_ct = 24000\n",
    "mc.E_cc = 24000\n",
    "mc.eps_cr = 0.000125\n",
    "mc.eps_cy = 0.0010625  # 8.5 * eps_cr_\n",
    "mc.eps_cu = 0.0035\n",
    "mc.eps_tu = 0.02\n",
    "mc.mu = 0.33\n",
    "\n",
    "# 2 layers reinforcement details\n",
    "mc.A_j = np.array([250, 0])  # A_j[0] for tension steel / A_j[1] for compression steel\n",
    "mc.z_j = np.array([0.1 * mc.H, 0.9 * mc.H])\n",
    "mc.E_j = np.array([210000, 210000])\n",
    "mc.eps_sy_j = np.array([0.002, 0.002])\n",
    "\n",
    "# If plot_norm is used, use the following:\n",
    "# mc.kappa_range = (0, mc.kappa_cr * 100, 100\n",
    "\n",
    "mc.kappa_slider = -0.00001 # corresponds to idx = 25\n",
    "mc.low_kappa = -0.00002\n",
    "mc.high_kappa = 0.00002"
   ]
  },
  {
   "cell_type": "markdown",
   "metadata": {
    "pycharm": {
     "name": "#%% md\n"
    }
   },
   "source": [
    "# Comparison"
   ]
  },
  {
   "cell_type": "code",
   "execution_count": 8,
   "metadata": {
    "pycharm": {
     "name": "#%%\n"
    }
   },
   "outputs": [],
   "source": [
    "kappa_t = mc.kappa_t\n",
    "eps_bot_t = mc.eps_bot_t\n",
    "\n",
    "k1, e1, z1 = kappa_t[-3], eps_bot_t[-3], mc.z_m[-3]"
   ]
  },
  {
   "cell_type": "code",
   "execution_count": 9,
   "outputs": [
    {
     "data": {
      "text/plain": "0.0",
      "image/png": "[encoded data removed]",
      "text/latex": "$\\displaystyle 0.0$"
     },
     "execution_count": 9,
     "metadata": {},
     "output_type": "execute_result"
    }
   ],
   "source": [
    "mc_test = mc.symb.get_sig_c_z(k1, e1, z1)\n",
    "mc_test_ = mc_.mcs.get_sig_c_z(k1, e1, z1)\n",
    "mc_test - mc_test_"
   ],
   "metadata": {
    "collapsed": false,
    "pycharm": {
     "name": "#%%\n"
    }
   }
  },
  {
   "cell_type": "code",
   "execution_count": 10,
   "outputs": [
    {
     "data": {
      "text/plain": "⎧                  0                                  for κ⋅z - varepsilon_bot\n⎪                                                                             \n⎪                25.5                                for κ⋅z - varepsilon_bot \n⎪                                                                             \n⎨-24000.0⋅κ⋅z + 24000.0⋅varepsilon_bot  for κ⋅z - varepsilon_bot > -0.000125 ∨\n⎪                                                                             \n⎪                0.99                                  for κ⋅z - varepsilon_bo\n⎪                                                                             \n⎩                  0                                               otherwise  \n\n > -0.0035               \n                         \n> -0.0010625             \n                         \n κ⋅z - varepsilon_bot > 0\n                         \nt > -0.02                \n                         \n                         ",
      "image/png": "[encoded data removed]",
      "text/latex": "$\\displaystyle \\begin{cases} 0 & \\text{for}\\: \\kappa z - \\varepsilon_{bot} > -0.0035 \\\\25.5 & \\text{for}\\: \\kappa z - \\varepsilon_{bot} > -0.0010625 \\\\- 24000.0 \\kappa z + 24000.0 \\varepsilon_{bot} & \\text{for}\\: \\kappa z - \\varepsilon_{bot} > -0.000125 \\vee \\kappa z - \\varepsilon_{bot} > 0 \\\\0.99 & \\text{for}\\: \\kappa z - \\varepsilon_{bot} > -0.02 \\\\0 & \\text{otherwise} \\end{cases}$"
     },
     "execution_count": 10,
     "metadata": {},
     "output_type": "execute_result"
    }
   ],
   "source": [
    "mc.symb.sig_c_z.subs(mc_.mcs.model_data_mapping)"
   ],
   "metadata": {
    "collapsed": false,
    "pycharm": {
     "name": "#%%\n"
    }
   }
  },
  {
   "cell_type": "code",
   "execution_count": 11,
   "outputs": [
    {
     "data": {
      "text/plain": "⎧                  0                                  for κ⋅z - varepsilon_bot\n⎪                                                                             \n⎪                25.5                                for κ⋅z - varepsilon_bot \n⎪                                                                             \n⎨-24000.0⋅κ⋅z + 24000.0⋅varepsilon_bot  for κ⋅z - varepsilon_bot > -0.000125 ∨\n⎪                                                                             \n⎪                0.99                                  for κ⋅z - varepsilon_bo\n⎪                                                                             \n⎩                  0                                               otherwise  \n\n > -0.0035               \n                         \n> -0.0010625             \n                         \n κ⋅z - varepsilon_bot > 0\n                         \nt > -0.02                \n                         \n                         ",
      "image/png": "[encoded data removed]",
      "text/latex": "$\\displaystyle \\begin{cases} 0 & \\text{for}\\: \\kappa z - \\varepsilon_{bot} > -0.0035 \\\\25.5 & \\text{for}\\: \\kappa z - \\varepsilon_{bot} > -0.0010625 \\\\- 24000.0 \\kappa z + 24000.0 \\varepsilon_{bot} & \\text{for}\\: \\kappa z - \\varepsilon_{bot} > -0.000125 \\vee \\kappa z - \\varepsilon_{bot} > 0 \\\\0.99 & \\text{for}\\: \\kappa z - \\varepsilon_{bot} > -0.02 \\\\0 & \\text{otherwise} \\end{cases}$"
     },
     "execution_count": 11,
     "metadata": {},
     "output_type": "execute_result"
    }
   ],
   "source": [
    "mc_.mcs.sig_c_z_lin.subs(mc_.mcs.model_data_mapping)"
   ],
   "metadata": {
    "collapsed": false,
    "pycharm": {
     "name": "#%%\n"
    }
   }
  },
  {
   "cell_type": "code",
   "execution_count": 12,
   "metadata": {
    "pycharm": {
     "name": "#%%\n"
    }
   },
   "outputs": [
    {
     "data": {
      "text/plain": "array([0., 0., 0., 0., 0., 0., 0., 0., 0., 0.])"
     },
     "execution_count": 12,
     "metadata": {},
     "output_type": "execute_result"
    }
   ],
   "source": [
    "mc_.kappa_t - mc.kappa_t"
   ]
  },
  {
   "cell_type": "code",
   "execution_count": 14,
   "metadata": {
    "pycharm": {
     "name": "#%%\n"
    }
   },
   "outputs": [
    {
     "data": {
      "text/plain": "array([0., 0., 0., 0., 0., 0., 0., 0., 0., 0.])"
     },
     "execution_count": 14,
     "metadata": {},
     "output_type": "execute_result"
    }
   ],
   "source": [
    "mc_.eps_bot_t - mc.eps_bot_t"
   ]
  },
  {
   "cell_type": "code",
   "execution_count": 15,
   "metadata": {
    "pycharm": {
     "name": "#%%\n"
    }
   },
   "outputs": [
    {
     "data": {
      "text/plain": "array([65934., 62271., 58608., 18315.,     0.,     0.,     0.,     0.,\n           0.,     0.])"
     },
     "execution_count": 15,
     "metadata": {},
     "output_type": "execute_result"
    }
   ],
   "source": [
    "mc_.get_N_c_t(mc_.kappa_t, mc_.eps_bot_t)"
   ]
  },
  {
   "cell_type": "code",
   "execution_count": 16,
   "metadata": {
    "pycharm": {
     "name": "#%%\n"
    }
   },
   "outputs": [
    {
     "data": {
      "text/plain": "array([-2.00000000e-05, -1.55555556e-05, -1.11111111e-05, -6.66666667e-06,\n       -2.22222222e-06,  2.22222222e-06,  6.66666667e-06,  1.11111111e-05,\n        1.55555556e-05,  2.00000000e-05])"
     },
     "execution_count": 16,
     "metadata": {},
     "output_type": "execute_result"
    }
   ],
   "source": [
    "mc.kappa_t"
   ]
  },
  {
   "cell_type": "code",
   "execution_count": 17,
   "metadata": {
    "pycharm": {
     "name": "#%%\n"
    }
   },
   "outputs": [
    {
     "data": {
      "text/plain": "array([-0.00258789, -0.00225556, -0.00185634, -0.00079286, -0.000148  ,\n        0.000148  ,  0.000444  ,  0.00074   ,  0.001036  ,  0.001332  ])"
     },
     "execution_count": 17,
     "metadata": {},
     "output_type": "execute_result"
    }
   ],
   "source": [
    "mc.eps_bot_t"
   ]
  },
  {
   "cell_type": "code",
   "execution_count": 17,
   "metadata": {
    "pycharm": {
     "name": "#%%\n"
    }
   },
   "outputs": [],
   "source": [
    "kappa_t = mc.kappa_t\n",
    "eps_bot_t = mc.eps_bot_t"
   ]
  },
  {
   "cell_type": "code",
   "execution_count": 18,
   "metadata": {
    "pycharm": {
     "name": "#%%\n"
    }
   },
   "outputs": [
    {
     "data": {
      "text/plain": "array([[  0.,  74., 148., 222., 296., 370., 444., 518., 592., 666.]])"
     },
     "execution_count": 18,
     "metadata": {},
     "output_type": "execute_result"
    }
   ],
   "source": [
    "z_tm = mc.z_m[np.newaxis, :]\n",
    "z_tm"
   ]
  },
  {
   "cell_type": "code",
   "execution_count": null,
   "metadata": {
    "pycharm": {
     "name": "#%%\n"
    }
   },
   "outputs": [],
   "source": [
    "b_z_m = mc.cross_section_shape.get_b(z_tm)\n",
    "b_z_m"
   ]
  },
  {
   "cell_type": "code",
   "execution_count": null,
   "metadata": {
    "pycharm": {
     "name": "#%%\n"
    }
   },
   "outputs": [],
   "source": [
    "N_z_tm = b_z_m * mc.symb.get_sig_c_z(kappa_t[:, np.newaxis], eps_bot_t[:, np.newaxis], z_tm)\n",
    "N_z_tm"
   ]
  },
  {
   "cell_type": "code",
   "execution_count": null,
   "metadata": {
    "pycharm": {
     "name": "#%%\n"
    }
   },
   "outputs": [],
   "source": [
    "test = mc.symb.get_sig_c_z(kappa_t[:, np.newaxis], eps_bot_t[:, np.newaxis], z_tm)\n",
    "test"
   ]
  },
  {
   "cell_type": "code",
   "execution_count": null,
   "metadata": {
    "pycharm": {
     "name": "#%%\n"
    }
   },
   "outputs": [],
   "source": [
    "np.trapz(N_z_tm, x=z_tm, axis=-1)"
   ]
  },
  {
   "cell_type": "markdown",
   "metadata": {},
   "source": [
    "# Verify and demonstrate the M-k relation"
   ]
  },
  {
   "cell_type": "code",
   "execution_count": null,
   "metadata": {},
   "outputs": [],
   "source": [
    "mc = MKappa(low_kappa=-0.000014, high_kappa=0.00003)\n",
    "bd = mc.beam_design\n",
    "css = bd.cross_section_shape\n",
    "csl = bd.cross_section_layout\n",
    "csl.reinforcement.z_j = [10]\n",
    "InteractiveWindow([mc, bd, mc.matrix, css, csl]).interact()"
   ]
  },
  {
   "cell_type": "code",
   "execution_count": null,
   "metadata": {},
   "outputs": [],
   "source": [
    "import numpy as np\n",
    "import matplotlib.pylab as plt\n",
    "xdata = np.array([0,1,0.9, 0.8, 2])\n",
    "ydata = np.array([0,1,2,3, 4])"
   ]
  },
  {
   "cell_type": "code",
   "execution_count": null,
   "metadata": {
    "pycharm": {
     "name": "#%%\n"
    }
   },
   "outputs": [],
   "source": [
    "plt.plot(xdata, ydata)\n",
    "plt.show()"
   ]
  },
  {
   "cell_type": "code",
   "execution_count": null,
   "metadata": {
    "pycharm": {
     "name": "#%%\n"
    }
   },
   "outputs": [],
   "source": [
    "diffs = xdata[:,np.newaxis] - xdata[np.newaxis,:]\n",
    "diffs"
   ]
  },
  {
   "cell_type": "code",
   "execution_count": null,
   "metadata": {
    "pycharm": {
     "name": "#%%\n"
    }
   },
   "outputs": [],
   "source": [
    "ij = np.mgrid[0:5:1,0:5:1]\n",
    "ij"
   ]
  },
  {
   "cell_type": "code",
   "execution_count": null,
   "metadata": {
    "pycharm": {
     "name": "#%%\n"
    }
   },
   "outputs": [],
   "source": [
    "diffs[np.where(ij[1] >= ij[0])] = 0"
   ]
  },
  {
   "cell_type": "code",
   "execution_count": null,
   "metadata": {
    "pycharm": {
     "name": "#%%\n"
    }
   },
   "outputs": [],
   "source": [
    "diffs"
   ]
  },
  {
   "cell_type": "code",
   "execution_count": null,
   "metadata": {
    "pycharm": {
     "name": "#%%\n"
    }
   },
   "outputs": [],
   "source": [
    "i_x = np.argmin(diffs, axis=1)"
   ]
  },
  {
   "cell_type": "code",
   "execution_count": null,
   "metadata": {
    "pycharm": {
     "name": "#%%\n"
    }
   },
   "outputs": [],
   "source": [
    "xdata[i_x]"
   ]
  },
  {
   "cell_type": "code",
   "execution_count": null,
   "metadata": {
    "pycharm": {
     "name": "#%%\n"
    }
   },
   "outputs": [],
   "source": [
    "plt.plot(xdata[i_x], ydata)\n",
    "plt.show()"
   ]
  },
  {
   "cell_type": "code",
   "execution_count": null,
   "metadata": {
    "pycharm": {
     "name": "#%%\n"
    }
   },
   "outputs": [],
   "source": []
  },
  {
   "cell_type": "code",
   "execution_count": null,
   "metadata": {
    "pycharm": {
     "name": "#%%\n"
    }
   },
   "outputs": [],
   "source": [
    "diffs = xdata[:,np.newaxis] - xdata[np.newaxis,:]\n",
    "diffs"
   ]
  },
  {
   "cell_type": "code",
   "execution_count": null,
   "metadata": {
    "pycharm": {
     "name": "#%%\n"
    }
   },
   "outputs": [],
   "source": [
    "ij = np.mgrid[0:5:1,0:5:1]\n",
    "ij"
   ]
  },
  {
   "cell_type": "code",
   "execution_count": null,
   "metadata": {
    "pycharm": {
     "name": "#%%\n"
    }
   },
   "outputs": [],
   "source": [
    "diffs[np.where(ij[1] >= ij[0])] = 0"
   ]
  },
  {
   "cell_type": "code",
   "execution_count": null,
   "metadata": {
    "pycharm": {
     "name": "#%%\n"
    }
   },
   "outputs": [],
   "source": [
    "diffs"
   ]
  },
  {
   "cell_type": "code",
   "execution_count": null,
   "metadata": {
    "pycharm": {
     "name": "#%%\n"
    }
   },
   "outputs": [],
   "source": [
    "i_x = np.argmin(diffs, axis=1)"
   ]
  },
  {
   "cell_type": "code",
   "execution_count": null,
   "metadata": {
    "pycharm": {
     "name": "#%%\n"
    }
   },
   "outputs": [],
   "source": [
    "xdata[i_x]"
   ]
  },
  {
   "cell_type": "code",
   "execution_count": null,
   "metadata": {
    "pycharm": {
     "name": "#%%\n"
    }
   },
   "outputs": [],
   "source": [
    "plt.plot(xdata[i_x], ydata)\n",
    "plt.show()"
   ]
  },
  {
   "cell_type": "code",
   "execution_count": null,
   "metadata": {},
   "outputs": [],
   "source": []
  },
  {
   "cell_type": "code",
   "execution_count": null,
   "metadata": {},
   "outputs": [],
   "source": [
    "diffs = xdata[:,np.newaxis] - xdata[np.newaxis,:]\n",
    "diffs"
   ]
  },
  {
   "cell_type": "code",
   "execution_count": null,
   "metadata": {},
   "outputs": [],
   "source": [
    "ij = np.mgrid[0:5:1,0:5:1]\n",
    "ij"
   ]
  },
  {
   "cell_type": "code",
   "execution_count": null,
   "metadata": {},
   "outputs": [],
   "source": [
    "diffs[np.where(ij[1] >= ij[0])] = 0"
   ]
  },
  {
   "cell_type": "code",
   "execution_count": null,
   "metadata": {},
   "outputs": [],
   "source": [
    "diffs"
   ]
  },
  {
   "cell_type": "code",
   "execution_count": null,
   "metadata": {},
   "outputs": [],
   "source": [
    "i_x = np.argmin(diffs, axis=1)"
   ]
  },
  {
   "cell_type": "code",
   "execution_count": null,
   "metadata": {},
   "outputs": [],
   "source": [
    "xdata[i_x]"
   ]
  },
  {
   "cell_type": "code",
   "execution_count": null,
   "metadata": {},
   "outputs": [],
   "source": [
    "plt.plot(xdata[i_x], ydata)\n",
    "plt.show()"
   ]
  },
  {
   "cell_type": "code",
   "execution_count": null,
   "metadata": {},
   "outputs": [],
   "source": []
  }
 ],
 "metadata": {
  "kernelspec": {
   "display_name": "bmcs_env",
   "language": "python",
   "name": "bmcs_env"
  },
  "language_info": {
   "codemirror_mode": {
    "name": "ipython",
    "version": 3
   },
   "file_extension": ".py",
   "mimetype": "text/x-python",
   "name": "python",
   "nbconvert_exporter": "python",
   "pygments_lexer": "ipython3",
   "version": "3.9.0"
  },
  "toc": {
   "base_numbering": 1,
   "nav_menu": {},
   "number_sections": true,
   "sideBar": true,
   "skip_h1_title": true,
   "title_cell": "Table of Contents",
   "title_sidebar": "Contents",
   "toc_cell": false,
   "toc_position": {},
   "toc_section_display": true,
   "toc_window_display": false
  }
 },
 "nbformat": 4,
 "nbformat_minor": 1
}