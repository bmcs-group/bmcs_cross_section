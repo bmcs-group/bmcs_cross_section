{
 "cells": [
  {
   "cell_type": "markdown",
   "metadata": {
    "pycharm": {
     "name": "#%% md\n"
    }
   },
   "source": [
    "# Beam design interactive model"
   ]
  },
  {
   "cell_type": "code",
   "execution_count": 1,
   "metadata": {},
   "outputs": [
    {
     "ename": "ModuleNotFoundError",
     "evalue": "No module named 'bmcs_utils.api'",
     "output_type": "error",
     "traceback": [
      "\u001B[1;31m---------------------------------------------------------------------------\u001B[0m",
      "\u001B[1;31mModuleNotFoundError\u001B[0m                       Traceback (most recent call last)",
      "\u001B[1;32m<ipython-input-1-e08987b4b381>\u001B[0m in \u001B[0;36m<module>\u001B[1;34m\u001B[0m\n\u001B[0;32m      1\u001B[0m \u001B[0mget_ipython\u001B[0m\u001B[1;33m(\u001B[0m\u001B[1;33m)\u001B[0m\u001B[1;33m.\u001B[0m\u001B[0mrun_line_magic\u001B[0m\u001B[1;33m(\u001B[0m\u001B[1;34m'matplotlib'\u001B[0m\u001B[1;33m,\u001B[0m \u001B[1;34m'widget'\u001B[0m\u001B[1;33m)\u001B[0m\u001B[1;33m\u001B[0m\u001B[1;33m\u001B[0m\u001B[0m\n\u001B[0;32m      2\u001B[0m \u001B[1;33m\u001B[0m\u001B[0m\n\u001B[1;32m----> 3\u001B[1;33m \u001B[1;32mfrom\u001B[0m \u001B[0mbmcs_cross_section\u001B[0m\u001B[1;33m.\u001B[0m\u001B[0mcs_design\u001B[0m \u001B[1;32mimport\u001B[0m \u001B[0mCSDesign\u001B[0m\u001B[1;33m\u001B[0m\u001B[1;33m\u001B[0m\u001B[0m\n\u001B[0m\u001B[0;32m      4\u001B[0m \u001B[1;32mimport\u001B[0m \u001B[0mbmcs_utils\u001B[0m\u001B[1;33m.\u001B[0m\u001B[0mapi\u001B[0m \u001B[1;32mas\u001B[0m \u001B[0mbu\u001B[0m\u001B[1;33m\u001B[0m\u001B[1;33m\u001B[0m\u001B[0m\n\u001B[0;32m      5\u001B[0m \u001B[1;33m\u001B[0m\u001B[0m\n",
      "\u001B[1;32m~\\miniconda3\\envs\\bmcs_env\\lib\\site-packages\\bmcs_cross_section\\cs_design\\__init__.py\u001B[0m in \u001B[0;36m<module>\u001B[1;34m\u001B[0m\n\u001B[0;32m      1\u001B[0m \u001B[1;33m\u001B[0m\u001B[0m\n\u001B[1;32m----> 2\u001B[1;33m \u001B[1;32mfrom\u001B[0m \u001B[1;33m.\u001B[0m\u001B[0mcs_design\u001B[0m \u001B[1;32mimport\u001B[0m \u001B[0mCSDesign\u001B[0m\u001B[1;33m\u001B[0m\u001B[1;33m\u001B[0m\u001B[0m\n\u001B[0m\u001B[0;32m      3\u001B[0m \u001B[1;32mfrom\u001B[0m \u001B[1;33m.\u001B[0m\u001B[0mcs_layout\u001B[0m \u001B[1;32mimport\u001B[0m \u001B[0mCrossSectionLayout\u001B[0m\u001B[1;33m\u001B[0m\u001B[1;33m\u001B[0m\u001B[0m\n\u001B[0;32m      4\u001B[0m \u001B[1;32mfrom\u001B[0m \u001B[1;33m.\u001B[0m\u001B[0mcs_shape\u001B[0m \u001B[1;32mimport\u001B[0m \u001B[0mCustomShape\u001B[0m\u001B[1;33m,\u001B[0m \u001B[0mTShape\u001B[0m\u001B[1;33m,\u001B[0m \u001B[0mRectangle\u001B[0m\u001B[1;33m,\u001B[0m \u001B[0mCircle\u001B[0m\u001B[1;33m,\u001B[0m \u001B[0mICrossSectionShape\u001B[0m\u001B[1;33m\u001B[0m\u001B[1;33m\u001B[0m\u001B[0m\n",
      "\u001B[1;32m~\\miniconda3\\envs\\bmcs_env\\lib\\site-packages\\bmcs_cross_section\\cs_design\\cs_design.py\u001B[0m in \u001B[0;36m<module>\u001B[1;34m\u001B[0m\n\u001B[0;32m      1\u001B[0m \u001B[1;33m\u001B[0m\u001B[0m\n\u001B[1;32m----> 2\u001B[1;33m \u001B[1;32mfrom\u001B[0m \u001B[1;33m.\u001B[0m\u001B[0mcs_layout\u001B[0m \u001B[1;32mimport\u001B[0m \u001B[0mCrossSectionLayout\u001B[0m\u001B[1;33m\u001B[0m\u001B[1;33m\u001B[0m\u001B[0m\n\u001B[0m\u001B[0;32m      3\u001B[0m \u001B[1;32mfrom\u001B[0m \u001B[1;33m.\u001B[0m\u001B[0mcs_shape\u001B[0m \u001B[1;32mimport\u001B[0m \u001B[0mRectangle\u001B[0m\u001B[1;33m,\u001B[0m \u001B[0mICrossSectionShape\u001B[0m\u001B[1;33m\u001B[0m\u001B[1;33m\u001B[0m\u001B[0m\n\u001B[0;32m      4\u001B[0m \u001B[1;32mfrom\u001B[0m \u001B[0mbmcs_utils\u001B[0m\u001B[1;33m.\u001B[0m\u001B[0mapi\u001B[0m \u001B[1;32mimport\u001B[0m \u001B[0mInteractiveModel\u001B[0m\u001B[1;33m,\u001B[0m \u001B[0mItem\u001B[0m\u001B[1;33m,\u001B[0m \u001B[0mView\u001B[0m\u001B[1;33m\u001B[0m\u001B[1;33m\u001B[0m\u001B[0m\n\u001B[0;32m      5\u001B[0m \u001B[1;32mimport\u001B[0m \u001B[0mtraits\u001B[0m\u001B[1;33m.\u001B[0m\u001B[0mapi\u001B[0m \u001B[1;32mas\u001B[0m \u001B[0mtr\u001B[0m\u001B[1;33m\u001B[0m\u001B[1;33m\u001B[0m\u001B[0m\n",
      "\u001B[1;32m~\\miniconda3\\envs\\bmcs_env\\lib\\site-packages\\bmcs_cross_section\\cs_design\\cs_layout.py\u001B[0m in \u001B[0;36m<module>\u001B[1;34m\u001B[0m\n\u001B[0;32m      1\u001B[0m \u001B[1;32mimport\u001B[0m \u001B[0mnumpy\u001B[0m \u001B[1;32mas\u001B[0m \u001B[0mnp\u001B[0m\u001B[1;33m\u001B[0m\u001B[1;33m\u001B[0m\u001B[0m\n\u001B[0;32m      2\u001B[0m \u001B[1;32mimport\u001B[0m \u001B[0mtraits\u001B[0m\u001B[1;33m.\u001B[0m\u001B[0mapi\u001B[0m \u001B[1;32mas\u001B[0m \u001B[0mtr\u001B[0m\u001B[1;33m\u001B[0m\u001B[1;33m\u001B[0m\u001B[0m\n\u001B[1;32m----> 3\u001B[1;33m \u001B[1;32mfrom\u001B[0m \u001B[0mbmcs_utils\u001B[0m\u001B[1;33m.\u001B[0m\u001B[0mapi\u001B[0m \u001B[1;32mimport\u001B[0m\u001B[0;31m \u001B[0m\u001B[0;31m\\\u001B[0m\u001B[1;33m\u001B[0m\u001B[1;33m\u001B[0m\u001B[0m\n\u001B[0m\u001B[0;32m      4\u001B[0m     \u001B[0mInteractiveModel\u001B[0m\u001B[1;33m,\u001B[0m \u001B[0mItem\u001B[0m\u001B[1;33m,\u001B[0m \u001B[0mView\u001B[0m\u001B[1;33m,\u001B[0m \u001B[0mFloat\u001B[0m\u001B[1;33m,\u001B[0m \u001B[0mInt\u001B[0m\u001B[1;33m\u001B[0m\u001B[1;33m\u001B[0m\u001B[0m\n\u001B[0;32m      5\u001B[0m \u001B[1;33m\u001B[0m\u001B[0m\n",
      "\u001B[1;31mModuleNotFoundError\u001B[0m: No module named 'bmcs_utils.api'"
     ]
    }
   ],
   "source": [
    "%matplotlib widget\n",
    "\n",
    "from bmcs_cross_section.cs_design import CSDesign\n",
    "import bmcs_utils.api as bu\n",
    "\n",
    "cs = CSDesign(H=200)\n",
    "bu.InteractiveWindow(cs).interact()"
   ]
  },
  {
   "cell_type": "code",
   "execution_count": null,
   "metadata": {},
   "outputs": [],
   "source": []
  },
  {
   "cell_type": "code",
   "execution_count": null,
   "metadata": {},
   "outputs": [],
   "source": []
  }
 ],
 "metadata": {
  "kernelspec": {
   "display_name": "bmcs_env",
   "language": "python",
   "name": "bmcs_env"
  },
  "language_info": {
   "codemirror_mode": {
    "name": "ipython",
    "version": 3
   },
   "file_extension": ".py",
   "mimetype": "text/x-python",
   "name": "python",
   "nbconvert_exporter": "python",
   "pygments_lexer": "ipython3",
   "version": "3.9.0"
  },
  "toc": {
   "base_numbering": 1,
   "nav_menu": {},
   "number_sections": true,
   "sideBar": true,
   "skip_h1_title": false,
   "title_cell": "Table of Contents",
   "title_sidebar": "Contents",
   "toc_cell": false,
   "toc_position": {},
   "toc_section_display": true,
   "toc_window_display": false
  }
 },
 "nbformat": 4,
 "nbformat_minor": 1
}