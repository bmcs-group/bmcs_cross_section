{
 "cells": [
  {
   "cell_type": "markdown",
   "metadata": {
    "pycharm": {
     "name": "#%% md\n"
    }
   },
   "source": [
    "# Beam design interactive model"
   ]
  },
  {
   "cell_type": "code",
   "execution_count": null,
   "metadata": {
    "pycharm": {
     "name": "#%%\n"
    }
   },
   "outputs": [],
   "source": [
    "%matplotlib widget\n",
    "\n",
    "from bmcs_cross_section.cs_design.cs_design import CSDesign, Info\n",
    "from bmcs_cross_section.cs_design import CrossSectionLayout\n",
    "from bmcs_cross_section.mkappa.mkappa import MKappa\n",
    "import bmcs_utils.api as bu\n",
    "from bmcs_cross_section.cs_design.cs_shape import CrossSectionShapeBase, RectangleCS, CircleCS, TShapeCS\n",
    "\n",
    "mc = MKappa()\n",
    "\n",
    "cs = CSDesign(H=200)\n",
    "csl = mc.cross_section_layout\n",
    "css = RectangleCS()\n",
    "bu.InteractiveWindow([cs,csl,css]).interact()\n"
   ]
  }
 ],
 "metadata": {
  "kernelspec": {
   "display_name": "bmcs_env",
   "language": "python",
   "name": "bmcs_env"
  },
  "language_info": {
   "codemirror_mode": {
    "name": "ipython",
    "version": 3
   },
   "file_extension": ".py",
   "mimetype": "text/x-python",
   "name": "python",
   "nbconvert_exporter": "python",
   "pygments_lexer": "ipython3",
   "version": "3.9.0"
  },
  "toc": {
   "base_numbering": 1,
   "nav_menu": {},
   "number_sections": true,
   "sideBar": true,
   "skip_h1_title": false,
   "title_cell": "Table of Contents",
   "title_sidebar": "Contents",
   "toc_cell": false,
   "toc_position": {},
   "toc_section_display": true,
   "toc_window_display": false
  }
 },
 "nbformat": 4,
 "nbformat_minor": 1
}
