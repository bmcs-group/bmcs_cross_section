{
 "cells": [
  {
   "cell_type": "markdown",
   "metadata": {
    "pycharm": {
     "name": "#%% md\n"
    }
   },
   "source": [
    "# Beam design interactive model"
   ]
  },
  {
   "cell_type": "code",
   "execution_count": 1,
   "metadata": {
    "pycharm": {
     "name": "#%%\n"
    }
   },
   "outputs": [],
   "source": [
    "%matplotlib widget\n",
    "\n",
    "from bmcs_cross_section.cs_design.cs_design import CrossSectionDesign\n",
    "import bmcs_utils.api as bu\n",
    "from bmcs_cross_section.cs_design.cs_shape import \\\n",
    "     Rectangle, Circle, TShape\n",
    "from bmcs_cross_section.cs_design.cs_reinf_layer import BarLayer\n",
    "\n",
    "cs = CrossSectionDesign(name='cs1')\n",
    "cs.H=200\n",
    "bl = BarLayer(name='steel bar 1', z=50, ds=10, count=2 )\n",
    "cs.csl['steel bar 1'] = bl"
   ]
  },
  {
   "cell_type": "code",
   "execution_count": 2,
   "metadata": {},
   "outputs": [
    {
     "data": {
      "text/plain": [
       "<bmcs_cross_section.cs_design.cs_design.CrossSectionDesign at 0x7f2ee2925b80>"
      ]
     },
     "execution_count": 2,
     "metadata": {},
     "output_type": "execute_result"
    }
   ],
   "source": [
    "p, = cs.cross_section_shape_.parents\n",
    "p"
   ]
  },
  {
   "cell_type": "code",
   "execution_count": null,
   "metadata": {},
   "outputs": [],
   "source": []
  },
  {
   "cell_type": "code",
   "execution_count": 3,
   "metadata": {},
   "outputs": [
    {
     "data": {
      "application/vnd.jupyter.widget-view+json": {
       "model_id": "59ce85e64fd04a79804f8f8df1ced417",
       "version_major": 2,
       "version_minor": 0
      },
      "text/plain": [
       "VBox(children=(HBox(children=(VBox(children=(Tree(layout=Layout(align_items='stretch', border='solid 1px black…"
      ]
     },
     "metadata": {},
     "output_type": "display_data"
    }
   ],
   "source": [
    "cs.interact()"
   ]
  },
  {
   "cell_type": "code",
   "execution_count": 4,
   "metadata": {
    "tags": []
   },
   "outputs": [
    {
     "data": {
      "text/plain": [
       "{<bmcs_cross_section.cs_design.cs_design.CrossSectionDesign at 0x7f2ee2925b80>}"
      ]
     },
     "execution_count": 4,
     "metadata": {},
     "output_type": "execute_result"
    }
   ],
   "source": [
    "cs.cross_section_shape_.parents"
   ]
  },
  {
   "cell_type": "code",
   "execution_count": 5,
   "metadata": {
    "tags": []
   },
   "outputs": [
    {
     "data": {
      "text/plain": [
       "<bmcs_cross_section.cs_design.cs_design.CrossSectionDesign at 0x7f2ee2925b80>"
      ]
     },
     "execution_count": 5,
     "metadata": {},
     "output_type": "execute_result"
    }
   ],
   "source": [
    "cs"
   ]
  },
  {
   "cell_type": "code",
   "execution_count": 6,
   "metadata": {},
   "outputs": [],
   "source": [
    "cs.cross_section_shape = 'rectangle'"
   ]
  },
  {
   "cell_type": "code",
   "execution_count": 7,
   "metadata": {},
   "outputs": [],
   "source": [
    "cs.cross_section_shape = 'rectangle'"
   ]
  },
  {
   "cell_type": "code",
   "execution_count": 8,
   "metadata": {},
   "outputs": [],
   "source": [
    "cs.trait('matrix_')._trait_notifiers"
   ]
  },
  {
   "cell_type": "code",
   "execution_count": 9,
   "metadata": {},
   "outputs": [],
   "source": [
    "cs.csl.add_layer(BarLayer(name='steel bar 2', z=50, ds=10, count=2 ))"
   ]
  },
  {
   "cell_type": "code",
   "execution_count": 10,
   "metadata": {},
   "outputs": [
    {
     "data": {
      "text/plain": [
       "{'steel bar 1': <bmcs_cross_section.cs_design.cs_reinf_layer.BarLayer at 0x7f2ee20225e0>,\n",
       " 'steel bar 2': <bmcs_cross_section.cs_design.cs_reinf_layer.BarLayer at 0x7f2ede992720>}"
      ]
     },
     "execution_count": 10,
     "metadata": {},
     "output_type": "execute_result"
    }
   ],
   "source": [
    "cs.csl.items"
   ]
  },
  {
   "cell_type": "code",
   "execution_count": 11,
   "metadata": {},
   "outputs": [
    {
     "data": {
      "application/vnd.jupyter.widget-view+json": {
       "model_id": "8c2144e2da4940b3a8fb6c6a885c6d46",
       "version_major": 2,
       "version_minor": 0
      },
      "text/plain": [
       "VBox(children=(HBox(children=(VBox(children=(Tree(layout=Layout(align_items='stretch', border='solid 1px black…"
      ]
     },
     "metadata": {},
     "output_type": "display_data"
    }
   ],
   "source": [
    "cs.interact()"
   ]
  },
  {
   "cell_type": "code",
   "execution_count": 12,
   "metadata": {},
   "outputs": [
    {
     "name": "stderr",
     "output_type": "stream",
     "text": [
      "Exception occurred in traits notification handler for event object: TraitChangeEvent(object=<bmcs_cross_section.cs_design.cs_design.CrossSectionDesign object at 0x7f2ee2925b80>, name='matrix', old='piecewise linear', new='EC2')\n",
      "Traceback (most recent call last):\n",
      "  File \"/home/rch/miniconda3/envs/bmcs_env/lib/python3.9/site-packages/traits/observation/_trait_event_notifier.py\", line 122, in __call__\n",
      "    self.dispatcher(handler, event)\n",
      "  File \"/home/rch/miniconda3/envs/bmcs_env/lib/python3.9/site-packages/traits/observation/observe.py\", line 27, in dispatch_same\n",
      "    handler(event)\n",
      "  File \"/home/rch/PycharmProjects/bmcs_utils/bmcs_utils/editors/either_type_editor.py\", line 41, in _selection_changed_from_model\n",
      "    self.drop_down.value = option\n",
      "  File \"/home/rch/miniconda3/envs/bmcs_env/lib/python3.9/site-packages/traitlets/traitlets.py\", line 606, in __set__\n",
      "    self.set(obj, value)\n",
      "  File \"/home/rch/miniconda3/envs/bmcs_env/lib/python3.9/site-packages/traitlets/traitlets.py\", line 595, in set\n",
      "    obj._notify_trait(self.name, old_value, new_value)\n",
      "  File \"/home/rch/miniconda3/envs/bmcs_env/lib/python3.9/site-packages/traitlets/traitlets.py\", line 1219, in _notify_trait\n",
      "    self.notify_change(Bunch(\n",
      "  File \"/home/rch/miniconda3/envs/bmcs_env/lib/python3.9/site-packages/ipywidgets/widgets/widget.py\", line 606, in notify_change\n",
      "    super(Widget, self).notify_change(change)\n",
      "  File \"/home/rch/miniconda3/envs/bmcs_env/lib/python3.9/site-packages/traitlets/traitlets.py\", line 1229, in notify_change\n",
      "    return self._notify_observers(change)\n",
      "  File \"/home/rch/miniconda3/envs/bmcs_env/lib/python3.9/site-packages/traitlets/traitlets.py\", line 1266, in _notify_observers\n",
      "    c(event)\n",
      "  File \"/home/rch/PycharmProjects/bmcs_utils/bmcs_utils/controller.py\", line 30, in ipw_editor_changed\n",
      "    self.model.trait_set(**keyval)\n",
      "  File \"/home/rch/miniconda3/envs/bmcs_env/lib/python3.9/site-packages/traits/has_traits.py\", line 1520, in trait_set\n",
      "    setattr(self, name, value)\n",
      "  File \"/home/rch/PycharmProjects/bmcs_utils/bmcs_utils/trait_types/either_type2.py\", line 41, in set\n",
      "    self.pre_setattr(obj, name)\n",
      "  File \"/home/rch/PycharmProjects/bmcs_utils/bmcs_utils/trait_types/either_type2.py\", line 50, in pre_setattr\n",
      "    old_value.parents.remove(object)\n",
      "  File \"/home/rch/miniconda3/envs/bmcs_env/lib/python3.9/site-packages/traits/trait_set_object.py\", line 358, in remove\n",
      "    super().remove(value)\n",
      "KeyError: <bmcs_cross_section.cs_design.cs_design.CrossSectionDesign object at 0x7f2ee2925b80>\n",
      "Exception occurred in traits notification handler for event object: TraitChangeEvent(object=<bmcs_cross_section.cs_design.cs_design.CrossSectionDesign object at 0x7f2ee2925b80>, name='matrix', old='piecewise linear', new='EC2')\n",
      "Traceback (most recent call last):\n",
      "  File \"/home/rch/miniconda3/envs/bmcs_env/lib/python3.9/site-packages/traits/observation/_trait_event_notifier.py\", line 122, in __call__\n",
      "    self.dispatcher(handler, event)\n",
      "  File \"/home/rch/miniconda3/envs/bmcs_env/lib/python3.9/site-packages/traits/observation/observe.py\", line 27, in dispatch_same\n",
      "    handler(event)\n",
      "  File \"/home/rch/PycharmProjects/bmcs_utils/bmcs_utils/controller.py\", line 42, in notify_change\n",
      "    ipw_editor.value = value\n",
      "  File \"/home/rch/miniconda3/envs/bmcs_env/lib/python3.9/site-packages/traitlets/traitlets.py\", line 606, in __set__\n",
      "    self.set(obj, value)\n",
      "  File \"/home/rch/miniconda3/envs/bmcs_env/lib/python3.9/site-packages/traitlets/traitlets.py\", line 595, in set\n",
      "    obj._notify_trait(self.name, old_value, new_value)\n",
      "  File \"/home/rch/miniconda3/envs/bmcs_env/lib/python3.9/site-packages/traitlets/traitlets.py\", line 1219, in _notify_trait\n",
      "    self.notify_change(Bunch(\n",
      "  File \"/home/rch/miniconda3/envs/bmcs_env/lib/python3.9/site-packages/ipywidgets/widgets/widget.py\", line 606, in notify_change\n",
      "    super(Widget, self).notify_change(change)\n",
      "  File \"/home/rch/miniconda3/envs/bmcs_env/lib/python3.9/site-packages/traitlets/traitlets.py\", line 1229, in notify_change\n",
      "    return self._notify_observers(change)\n",
      "  File \"/home/rch/miniconda3/envs/bmcs_env/lib/python3.9/site-packages/traitlets/traitlets.py\", line 1266, in _notify_observers\n",
      "    c(event)\n",
      "  File \"/home/rch/PycharmProjects/bmcs_utils/bmcs_utils/editors/either_type_editor.py\", line 34, in _selection_changed_from_dropdown\n",
      "    setattr(self.model, self.name, event['new'])\n",
      "  File \"/home/rch/PycharmProjects/bmcs_utils/bmcs_utils/trait_types/either_type2.py\", line 41, in set\n",
      "    self.pre_setattr(obj, name)\n",
      "  File \"/home/rch/PycharmProjects/bmcs_utils/bmcs_utils/trait_types/either_type2.py\", line 50, in pre_setattr\n",
      "    old_value.parents.remove(object)\n",
      "  File \"/home/rch/miniconda3/envs/bmcs_env/lib/python3.9/site-packages/traits/trait_set_object.py\", line 358, in remove\n",
      "    super().remove(value)\n",
      "KeyError: <bmcs_cross_section.cs_design.cs_design.CrossSectionDesign object at 0x7f2ee2925b80>\n"
     ]
    }
   ],
   "source": [
    "cs.matrix = 'EC2'"
   ]
  },
  {
   "cell_type": "code",
   "execution_count": null,
   "metadata": {},
   "outputs": [],
   "source": []
  },
  {
   "cell_type": "code",
   "execution_count": null,
   "metadata": {},
   "outputs": [],
   "source": []
  }
 ],
 "metadata": {
  "kernelspec": {
   "display_name": "bmcs_env",
   "language": "python",
   "name": "bmcs_env"
  },
  "language_info": {
   "codemirror_mode": {
    "name": "ipython",
    "version": 3
   },
   "file_extension": ".py",
   "mimetype": "text/x-python",
   "name": "python",
   "nbconvert_exporter": "python",
   "pygments_lexer": "ipython3",
   "version": "3.9.0"
  },
  "toc": {
   "base_numbering": 1,
   "nav_menu": {},
   "number_sections": true,
   "sideBar": true,
   "skip_h1_title": false,
   "title_cell": "Table of Contents",
   "title_sidebar": "Contents",
   "toc_cell": false,
   "toc_position": {},
   "toc_section_display": true,
   "toc_window_display": false
  }
 },
 "nbformat": 4,
 "nbformat_minor": 4
}
