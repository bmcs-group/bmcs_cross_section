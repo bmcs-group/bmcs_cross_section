{
 "cells": [
  {
   "cell_type": "code",
   "execution_count": null,
   "id": "e9fe3934-17ea-47b2-af36-6ad8178d151a",
   "metadata": {},
   "outputs": [],
   "source": [
    "%matplotlib widget\n",
    "import bmcs_cross_section.matmod.concrete as concrete"
   ]
  },
  {
   "cell_type": "code",
   "execution_count": null,
   "id": "b5966938-ff36-4374-80cd-fe93bc4f8bf6",
   "metadata": {},
   "outputs": [],
   "source": [
    "c1 = concrete.ConcreteMatMod()\n",
    "c1.compression = 'EC2 with plateau'"
   ]
  },
  {
   "cell_type": "code",
   "execution_count": null,
   "id": "981ff31c-8f37-4b5e-a997-3439433a5554",
   "metadata": {},
   "outputs": [],
   "source": [
    "c1.interact()"
   ]
  },
  {
   "cell_type": "markdown",
   "id": "1a664e22-8172-4e3d-94f6-e5b9828036dd",
   "metadata": {},
   "source": [
    "## Example how to configure the model for ULS state"
   ]
  },
  {
   "cell_type": "code",
   "execution_count": null,
   "id": "109a180c-ef85-4d88-9016-cdc5d8646c68",
   "metadata": {},
   "outputs": [],
   "source": [
    "c1 = concrete.ConcreteMatMod(compression = 'EC2 with plateau')\n",
    "f_ck = 90\n",
    "alpha = 0.85\n",
    "gamma = 1.5\n",
    "f_cd = alpha * f_ck / gamma\n",
    "n =  1.4 + 23.4 * ((90 - f_ck) / 100) ** 4\n",
    "c1.compression_.trait_set(f_c=f_cd, n = n)\n",
    "c1.interact()"
   ]
  },
  {
   "cell_type": "code",
   "execution_count": null,
   "id": "a0f8ede2-f300-4388-9161-4eea3b70a897",
   "metadata": {},
   "outputs": [],
   "source": []
  }
 ],
 "metadata": {
  "kernelspec": {
   "display_name": "bmcs_env",
   "language": "python",
   "name": "bmcs_env"
  },
  "language_info": {
   "codemirror_mode": {
    "name": "ipython",
    "version": 3
   },
   "file_extension": ".py",
   "mimetype": "text/x-python",
   "name": "python",
   "nbconvert_exporter": "python",
   "pygments_lexer": "ipython3"
  }
 },
 "nbformat": 4,
 "nbformat_minor": 5
}
